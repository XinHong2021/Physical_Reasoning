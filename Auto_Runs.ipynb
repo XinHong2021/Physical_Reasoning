{
 "cells": [
  {
   "cell_type": "code",
   "execution_count": 1,
   "id": "e29c0006-c5f6-447c-8902-2b1bdb9aafe8",
   "metadata": {},
   "outputs": [],
   "source": [
    "import os\n",
    "import pandas as pd\n",
    "import numpy as np\n",
    "from datetime import datetime as datatime\n",
    "from pathlib import Path\n",
    "import torch\n",
    "import torch.nn as nn\n",
    "from PIL import Image\n",
    "import torch.optim as optim\n",
    "from torchvision import transforms\n",
    "from torchvision import models\n",
    "from torch.optim.lr_scheduler import StepLR\n",
    "\n",
    "from torch.utils.data import Dataset\n",
    "from torch.utils.data import DataLoader\n",
    "from torch.utils.tensorboard import SummaryWriter\n",
    "\n",
    "from sklearn.model_selection import train_test_split\n",
    "from sklearn.metrics import accuracy_score,f1_score,precision_score,recall_score,confusion_matrix,classification_report\n",
    "from sklearn.model_selection import StratifiedShuffleSplit\n",
    "from sklearn.model_selection import train_test_split\n",
    "from sklearn.utils import resample\n",
    "from imblearn.over_sampling import SMOTE, ADASYN, RandomOverSampler\n",
    "\n",
    "from tqdm import tqdm"
   ]
  },
  {
   "cell_type": "code",
   "execution_count": 2,
   "id": "cb651e6c-f9ec-4c79-9800-27c65927bd74",
   "metadata": {},
   "outputs": [],
   "source": [
    "# import zipfile\n",
    "# import os\n",
    "\n",
    "# # 要解压的 zip 文件路径\n",
    "# train_zip = ('./COMP90086_2024_Project_train.zip')\n",
    "# test_zip = ('./COMP90086_2024_Project_test.zip')\n",
    "\n",
    "# # 解压后的目标文件夹（如果不存在则创建）\n",
    "# train_folder = 'COMP90086_2024_Project_train'\n",
    "# os.makedirs(train_folder, exist_ok=True)\n",
    "# test_folder = 'COMP90086_2024_Project_test'\n",
    "# os.makedirs(test_folder, exist_ok=True)\n",
    "\n",
    "# # 打开并解压 zip 文件\n",
    "\n",
    "# with zipfile.ZipFile(train_zip, 'r') as zip_ref:\n",
    "#     zip_ref.extractall(train_folder)\n",
    "\n",
    "# with zipfile.ZipFile(test_zip, 'r') as zip_ref:\n",
    "#     zip_ref.extractall(test_folder)\n",
    "    \n",
    "# print(f\"Files extracted to {train_folder}\")\n",
    "# print(f\"Files extracted to {test_folder}\")"
   ]
  },
  {
   "cell_type": "code",
   "execution_count": 3,
   "id": "2974e274-173a-4903-b928-81393dd08ed4",
   "metadata": {},
   "outputs": [],
   "source": [
    "csv_path = './input/COMP90086_2024_Project_train/train.csv'\n",
    "img_dir = './input/COMP90086_2024_Project_train/train'"
   ]
  },
  {
   "cell_type": "code",
   "execution_count": 4,
   "id": "f982d65e-a540-4f62-a2e6-77d5966f4e85",
   "metadata": {},
   "outputs": [],
   "source": [
    "from src.GoogLeNet_framework import SimpleFineTunedGoogLeNet, ComplexFineTunedGoogLeNet,SingleGoogLeNet\n",
    "from src.read_data import ReadData, create_model_dir, GetTestDF\n",
    "from src.eval_module_template import ModelTemplate, EvalTrainDf\n",
    "from src.train_models import ContinueTrainer, BasicTrainer,BestPrecisionTrainer\n",
    "from src.tester import GetTestDF, TesterTemplate"
   ]
  },
  {
   "cell_type": "code",
   "execution_count": 5,
   "id": "a1a54356-e66c-4670-881b-f6ab95d79938",
   "metadata": {
    "scrolled": true
   },
   "outputs": [
    {
     "name": "stdout",
     "output_type": "stream",
     "text": [
      "Train dataset size: 6144 Validation dataset size: 1536\n"
     ]
    },
    {
     "name": "stderr",
     "output_type": "stream",
     "text": [
      "Epoch 1/16:   0%|          | 0/192 [00:00<?, ?batch/s]/root/miniconda3/lib/python3.12/site-packages/torch/nn/modules/conv.py:456: UserWarning: Plan failed with a cudnnException: CUDNN_BACKEND_EXECUTION_PLAN_DESCRIPTOR: cudnnFinalize Descriptor Failed cudnn_status: CUDNN_STATUS_NOT_SUPPORTED (Triggered internally at ../aten/src/ATen/native/cudnn/Conv_v8.cpp:919.)\n",
      "  return F.conv2d(input, weight, bias, self.stride,\n",
      "Epoch 1/16:   0%|          | 0/192 [00:00<?, ?batch/s]\n",
      "../aten/src/ATen/native/cuda/Loss.cu:250: nll_loss_forward_reduce_cuda_kernel_2d: block: [0,0,0], thread: [0,0,0] Assertion `t >= 0 && t < n_classes` failed.\n",
      "../aten/src/ATen/native/cuda/Loss.cu:250: nll_loss_forward_reduce_cuda_kernel_2d: block: [0,0,0], thread: [1,0,0] Assertion `t >= 0 && t < n_classes` failed.\n",
      "../aten/src/ATen/native/cuda/Loss.cu:250: nll_loss_forward_reduce_cuda_kernel_2d: block: [0,0,0], thread: [16,0,0] Assertion `t >= 0 && t < n_classes` failed.\n",
      "../aten/src/ATen/native/cuda/Loss.cu:250: nll_loss_forward_reduce_cuda_kernel_2d: block: [0,0,0], thread: [17,0,0] Assertion `t >= 0 && t < n_classes` failed.\n",
      "../aten/src/ATen/native/cuda/Loss.cu:250: nll_loss_forward_reduce_cuda_kernel_2d: block: [0,0,0], thread: [19,0,0] Assertion `t >= 0 && t < n_classes` failed.\n",
      "../aten/src/ATen/native/cuda/Loss.cu:250: nll_loss_forward_reduce_cuda_kernel_2d: block: [0,0,0], thread: [21,0,0] Assertion `t >= 0 && t < n_classes` failed.\n",
      "../aten/src/ATen/native/cuda/Loss.cu:250: nll_loss_forward_reduce_cuda_kernel_2d: block: [0,0,0], thread: [22,0,0] Assertion `t >= 0 && t < n_classes` failed.\n",
      "../aten/src/ATen/native/cuda/Loss.cu:250: nll_loss_forward_reduce_cuda_kernel_2d: block: [0,0,0], thread: [23,0,0] Assertion `t >= 0 && t < n_classes` failed.\n",
      "../aten/src/ATen/native/cuda/Loss.cu:250: nll_loss_forward_reduce_cuda_kernel_2d: block: [0,0,0], thread: [24,0,0] Assertion `t >= 0 && t < n_classes` failed.\n"
     ]
    },
    {
     "ename": "RuntimeError",
     "evalue": "CUDA error: device-side assert triggered\nCUDA kernel errors might be asynchronously reported at some other API call, so the stacktrace below might be incorrect.\nFor debugging consider passing CUDA_LAUNCH_BLOCKING=1.\nCompile with `TORCH_USE_CUDA_DSA` to enable device-side assertions.\n",
     "output_type": "error",
     "traceback": [
      "\u001b[0;31m---------------------------------------------------------------------------\u001b[0m",
      "\u001b[0;31mRuntimeError\u001b[0m                              Traceback (most recent call last)",
      "Cell \u001b[0;32mIn[5], line 12\u001b[0m\n\u001b[1;32m      1\u001b[0m \u001b[38;5;28;01mif\u001b[39;00m \u001b[38;5;18m__name__\u001b[39m \u001b[38;5;241m==\u001b[39m \u001b[38;5;124m\"\u001b[39m\u001b[38;5;124m__main__\u001b[39m\u001b[38;5;124m\"\u001b[39m:\n\u001b[1;32m      2\u001b[0m     trainer \u001b[38;5;241m=\u001b[39m BasicTrainer(\n\u001b[1;32m      3\u001b[0m         csv_path \u001b[38;5;241m=\u001b[39m csv_path,\n\u001b[1;32m      4\u001b[0m         img_dir \u001b[38;5;241m=\u001b[39m img_dir, \n\u001b[0;32m   (...)\u001b[0m\n\u001b[1;32m     10\u001b[0m         batch_size \u001b[38;5;241m=\u001b[39m \u001b[38;5;241m32\u001b[39m\n\u001b[1;32m     11\u001b[0m     )\n\u001b[0;32m---> 12\u001b[0m     \u001b[43mtrainer\u001b[49m\u001b[38;5;241;43m.\u001b[39;49m\u001b[43mtrain\u001b[49m\u001b[43m(\u001b[49m\u001b[43m)\u001b[49m\n",
      "File \u001b[0;32m~/src/train_models.py:545\u001b[0m, in \u001b[0;36mBasicTrainer.train\u001b[0;34m(self)\u001b[0m\n\u001b[1;32m    541\u001b[0m \u001b[38;5;66;03m# print(f\"Model output shapes: \"{raw_outputs.shape})\u001b[39;00m\n\u001b[1;32m    542\u001b[0m \u001b[38;5;66;03m# print(f\"Target Labels: \"{labels})\u001b[39;00m\n\u001b[1;32m    543\u001b[0m loss \u001b[38;5;241m=\u001b[39m \u001b[38;5;28mself\u001b[39m\u001b[38;5;241m.\u001b[39mcriterion(raw_outputs, labels)\n\u001b[0;32m--> 545\u001b[0m \u001b[43mloss\u001b[49m\u001b[38;5;241;43m.\u001b[39;49m\u001b[43mbackward\u001b[49m\u001b[43m(\u001b[49m\u001b[43m)\u001b[49m \n\u001b[1;32m    546\u001b[0m \u001b[38;5;28mself\u001b[39m\u001b[38;5;241m.\u001b[39moptimizer\u001b[38;5;241m.\u001b[39mstep()\n\u001b[1;32m    548\u001b[0m current_loss \u001b[38;5;241m+\u001b[39m\u001b[38;5;241m=\u001b[39m loss\u001b[38;5;241m.\u001b[39mitem()\n",
      "File \u001b[0;32m~/miniconda3/lib/python3.12/site-packages/torch/_tensor.py:525\u001b[0m, in \u001b[0;36mTensor.backward\u001b[0;34m(self, gradient, retain_graph, create_graph, inputs)\u001b[0m\n\u001b[1;32m    515\u001b[0m \u001b[38;5;28;01mif\u001b[39;00m has_torch_function_unary(\u001b[38;5;28mself\u001b[39m):\n\u001b[1;32m    516\u001b[0m     \u001b[38;5;28;01mreturn\u001b[39;00m handle_torch_function(\n\u001b[1;32m    517\u001b[0m         Tensor\u001b[38;5;241m.\u001b[39mbackward,\n\u001b[1;32m    518\u001b[0m         (\u001b[38;5;28mself\u001b[39m,),\n\u001b[0;32m   (...)\u001b[0m\n\u001b[1;32m    523\u001b[0m         inputs\u001b[38;5;241m=\u001b[39minputs,\n\u001b[1;32m    524\u001b[0m     )\n\u001b[0;32m--> 525\u001b[0m \u001b[43mtorch\u001b[49m\u001b[38;5;241;43m.\u001b[39;49m\u001b[43mautograd\u001b[49m\u001b[38;5;241;43m.\u001b[39;49m\u001b[43mbackward\u001b[49m\u001b[43m(\u001b[49m\n\u001b[1;32m    526\u001b[0m \u001b[43m    \u001b[49m\u001b[38;5;28;43mself\u001b[39;49m\u001b[43m,\u001b[49m\u001b[43m \u001b[49m\u001b[43mgradient\u001b[49m\u001b[43m,\u001b[49m\u001b[43m \u001b[49m\u001b[43mretain_graph\u001b[49m\u001b[43m,\u001b[49m\u001b[43m \u001b[49m\u001b[43mcreate_graph\u001b[49m\u001b[43m,\u001b[49m\u001b[43m \u001b[49m\u001b[43minputs\u001b[49m\u001b[38;5;241;43m=\u001b[39;49m\u001b[43minputs\u001b[49m\n\u001b[1;32m    527\u001b[0m \u001b[43m\u001b[49m\u001b[43m)\u001b[49m\n",
      "File \u001b[0;32m~/miniconda3/lib/python3.12/site-packages/torch/autograd/__init__.py:260\u001b[0m, in \u001b[0;36mbackward\u001b[0;34m(tensors, grad_tensors, retain_graph, create_graph, grad_variables, inputs)\u001b[0m\n\u001b[1;32m    251\u001b[0m inputs \u001b[38;5;241m=\u001b[39m (\n\u001b[1;32m    252\u001b[0m     (inputs,)\n\u001b[1;32m    253\u001b[0m     \u001b[38;5;28;01mif\u001b[39;00m \u001b[38;5;28misinstance\u001b[39m(inputs, (torch\u001b[38;5;241m.\u001b[39mTensor, graph\u001b[38;5;241m.\u001b[39mGradientEdge))\n\u001b[0;32m   (...)\u001b[0m\n\u001b[1;32m    256\u001b[0m     \u001b[38;5;28;01melse\u001b[39;00m \u001b[38;5;28mtuple\u001b[39m()\n\u001b[1;32m    257\u001b[0m )\n\u001b[1;32m    259\u001b[0m grad_tensors_ \u001b[38;5;241m=\u001b[39m _tensor_or_tensors_to_tuple(grad_tensors, \u001b[38;5;28mlen\u001b[39m(tensors))\n\u001b[0;32m--> 260\u001b[0m grad_tensors_ \u001b[38;5;241m=\u001b[39m \u001b[43m_make_grads\u001b[49m\u001b[43m(\u001b[49m\u001b[43mtensors\u001b[49m\u001b[43m,\u001b[49m\u001b[43m \u001b[49m\u001b[43mgrad_tensors_\u001b[49m\u001b[43m,\u001b[49m\u001b[43m \u001b[49m\u001b[43mis_grads_batched\u001b[49m\u001b[38;5;241;43m=\u001b[39;49m\u001b[38;5;28;43;01mFalse\u001b[39;49;00m\u001b[43m)\u001b[49m\n\u001b[1;32m    261\u001b[0m \u001b[38;5;28;01mif\u001b[39;00m retain_graph \u001b[38;5;129;01mis\u001b[39;00m \u001b[38;5;28;01mNone\u001b[39;00m:\n\u001b[1;32m    262\u001b[0m     retain_graph \u001b[38;5;241m=\u001b[39m create_graph\n",
      "File \u001b[0;32m~/miniconda3/lib/python3.12/site-packages/torch/autograd/__init__.py:143\u001b[0m, in \u001b[0;36m_make_grads\u001b[0;34m(outputs, grads, is_grads_batched)\u001b[0m\n\u001b[1;32m    137\u001b[0m         msg \u001b[38;5;241m=\u001b[39m (\n\u001b[1;32m    138\u001b[0m             \u001b[38;5;124m\"\u001b[39m\u001b[38;5;124mgrad can be implicitly created only for real scalar outputs\u001b[39m\u001b[38;5;124m\"\u001b[39m\n\u001b[1;32m    139\u001b[0m             \u001b[38;5;124mf\u001b[39m\u001b[38;5;124m\"\u001b[39m\u001b[38;5;124m but got \u001b[39m\u001b[38;5;132;01m{\u001b[39;00mout\u001b[38;5;241m.\u001b[39mdtype\u001b[38;5;132;01m}\u001b[39;00m\u001b[38;5;124m\"\u001b[39m\n\u001b[1;32m    140\u001b[0m         )\n\u001b[1;32m    141\u001b[0m         \u001b[38;5;28;01mraise\u001b[39;00m \u001b[38;5;167;01mRuntimeError\u001b[39;00m(msg)\n\u001b[1;32m    142\u001b[0m     new_grads\u001b[38;5;241m.\u001b[39mappend(\n\u001b[0;32m--> 143\u001b[0m         \u001b[43mtorch\u001b[49m\u001b[38;5;241;43m.\u001b[39;49m\u001b[43mones_like\u001b[49m\u001b[43m(\u001b[49m\u001b[43mout\u001b[49m\u001b[43m,\u001b[49m\u001b[43m \u001b[49m\u001b[43mmemory_format\u001b[49m\u001b[38;5;241;43m=\u001b[39;49m\u001b[43mtorch\u001b[49m\u001b[38;5;241;43m.\u001b[39;49m\u001b[43mpreserve_format\u001b[49m\u001b[43m)\u001b[49m\n\u001b[1;32m    144\u001b[0m     )\n\u001b[1;32m    145\u001b[0m \u001b[38;5;28;01melse\u001b[39;00m:\n\u001b[1;32m    146\u001b[0m     new_grads\u001b[38;5;241m.\u001b[39mappend(\u001b[38;5;28;01mNone\u001b[39;00m)\n",
      "\u001b[0;31mRuntimeError\u001b[0m: CUDA error: device-side assert triggered\nCUDA kernel errors might be asynchronously reported at some other API call, so the stacktrace below might be incorrect.\nFor debugging consider passing CUDA_LAUNCH_BLOCKING=1.\nCompile with `TORCH_USE_CUDA_DSA` to enable device-side assertions.\n"
     ]
    }
   ],
   "source": [
    "if __name__ == \"__main__\":\n",
    "    trainer = BasicTrainer(\n",
    "        csv_path = csv_path,\n",
    "        img_dir = img_dir, \n",
    "        model = SingleGoogLeNet(),\n",
    "        label_column = 'instability_type',\n",
    "        store_model_name = 'Singlelayer_For_InstabilityType',\n",
    "        test_size = 0.2,\n",
    "        num_epochs = 16, \n",
    "        batch_size = 32\n",
    "    )\n",
    "    trainer.train()\n",
    "    "
   ]
  },
  {
   "cell_type": "code",
   "execution_count": 6,
   "id": "4128639b-c423-41d3-836b-555c05c3bc90",
   "metadata": {
    "scrolled": true
   },
   "outputs": [
    {
     "name": "stdout",
     "output_type": "stream",
     "text": [
      "Train dataset size: 6144 Validation dataset size: 1536\n"
     ]
    },
    {
     "name": "stderr",
     "output_type": "stream",
     "text": [
      "Epoch 1/32: 100%|██████████| 192/192 [00:33<00:00,  5.65batch/s, accuracy=0.667, loss=0.708]  \n"
     ]
    },
    {
     "name": "stdout",
     "output_type": "stream",
     "text": [
      "[0.001]\n",
      "              precision    recall  f1-score   support\n",
      "\n",
      "           0       0.58      0.23      0.33       369\n",
      "           1       0.68      0.91      0.78       777\n",
      "           2       0.93      0.85      0.89       390\n",
      "\n",
      "    accuracy                           0.73      1536\n",
      "   macro avg       0.73      0.66      0.67      1536\n",
      "weighted avg       0.72      0.73      0.70      1536\n",
      "\n",
      "[[ 84 272  13]\n",
      " [ 56 709  12]\n",
      " [  4  56 330]]\n",
      "Epoch 1/32, Validation Loss: 0.6068, Validation Accuracy: 0.7311\n",
      "Best model saved! 20241016-1634\n"
     ]
    },
    {
     "name": "stderr",
     "output_type": "stream",
     "text": [
      "Epoch 2/32: 100%|██████████| 192/192 [00:34<00:00,  5.52batch/s, accuracy=0.71, loss=0.631]   \n"
     ]
    },
    {
     "name": "stdout",
     "output_type": "stream",
     "text": [
      "[0.001]\n",
      "              precision    recall  f1-score   support\n",
      "\n",
      "           0       0.70      0.06      0.11       369\n",
      "           1       0.66      0.98      0.79       777\n",
      "           2       0.97      0.86      0.91       390\n",
      "\n",
      "    accuracy                           0.73      1536\n",
      "   macro avg       0.78      0.63      0.60      1536\n",
      "weighted avg       0.75      0.73      0.66      1536\n",
      "\n",
      "[[ 21 344   4]\n",
      " [  7 765   5]\n",
      " [  2  52 336]]\n",
      "Epoch 2/32, Validation Loss: 0.5814, Validation Accuracy: 0.7305\n"
     ]
    },
    {
     "name": "stderr",
     "output_type": "stream",
     "text": [
      "Epoch 3/32: 100%|██████████| 192/192 [00:35<00:00,  5.47batch/s, accuracy=0.735, loss=0.579]  \n"
     ]
    },
    {
     "name": "stdout",
     "output_type": "stream",
     "text": [
      "[0.001]\n",
      "              precision    recall  f1-score   support\n",
      "\n",
      "           0       0.52      0.41      0.46       369\n",
      "           1       0.76      0.59      0.67       777\n",
      "           2       0.58      0.96      0.73       390\n",
      "\n",
      "    accuracy                           0.64      1536\n",
      "   macro avg       0.62      0.65      0.62      1536\n",
      "weighted avg       0.66      0.64      0.63      1536\n",
      "\n",
      "[[150 133  86]\n",
      " [136 460 181]\n",
      " [  3  13 374]]\n",
      "Epoch 3/32, Validation Loss: 0.8648, Validation Accuracy: 0.6406\n"
     ]
    },
    {
     "name": "stderr",
     "output_type": "stream",
     "text": [
      "Epoch 4/32: 100%|██████████| 192/192 [00:34<00:00,  5.61batch/s, accuracy=0.743, loss=0.565]  \n"
     ]
    },
    {
     "name": "stdout",
     "output_type": "stream",
     "text": [
      "[0.001]\n",
      "              precision    recall  f1-score   support\n",
      "\n",
      "           0       0.63      0.22      0.32       369\n",
      "           1       0.69      0.94      0.80       777\n",
      "           2       0.96      0.87      0.92       390\n",
      "\n",
      "    accuracy                           0.75      1536\n",
      "   macro avg       0.76      0.68      0.68      1536\n",
      "weighted avg       0.75      0.75      0.71      1536\n",
      "\n",
      "[[ 80 281   8]\n",
      " [ 42 730   5]\n",
      " [  4  46 340]]\n",
      "Epoch 4/32, Validation Loss: 0.5492, Validation Accuracy: 0.7487\n",
      "Best model saved! 20241016-1636\n"
     ]
    },
    {
     "name": "stderr",
     "output_type": "stream",
     "text": [
      "Epoch 5/32: 100%|██████████| 192/192 [00:34<00:00,  5.50batch/s, accuracy=0.746, loss=0.554]  \n"
     ]
    },
    {
     "name": "stdout",
     "output_type": "stream",
     "text": [
      "[0.001]\n",
      "              precision    recall  f1-score   support\n",
      "\n",
      "           0       0.54      0.43      0.48       369\n",
      "           1       0.73      0.84      0.78       777\n",
      "           2       0.98      0.88      0.93       390\n",
      "\n",
      "    accuracy                           0.75      1536\n",
      "   macro avg       0.75      0.71      0.73      1536\n",
      "weighted avg       0.75      0.75      0.74      1536\n",
      "\n",
      "[[157 207   5]\n",
      " [126 649   2]\n",
      " [  9  37 344]]\n",
      "Epoch 5/32, Validation Loss: 0.5442, Validation Accuracy: 0.7487\n"
     ]
    },
    {
     "name": "stderr",
     "output_type": "stream",
     "text": [
      "Epoch 6/32: 100%|██████████| 192/192 [00:35<00:00,  5.48batch/s, accuracy=0.749, loss=0.545]  \n"
     ]
    },
    {
     "name": "stdout",
     "output_type": "stream",
     "text": [
      "[0.001]\n",
      "              precision    recall  f1-score   support\n",
      "\n",
      "           0       0.58      0.42      0.48       369\n",
      "           1       0.74      0.87      0.80       777\n",
      "           2       0.98      0.88      0.93       390\n",
      "\n",
      "    accuracy                           0.76      1536\n",
      "   macro avg       0.76      0.72      0.74      1536\n",
      "weighted avg       0.76      0.76      0.75      1536\n",
      "\n",
      "[[154 212   3]\n",
      " [ 96 676   5]\n",
      " [ 17  30 343]]\n",
      "Epoch 6/32, Validation Loss: 0.5333, Validation Accuracy: 0.7637\n",
      "Best model saved! 20241016-1638\n"
     ]
    },
    {
     "name": "stderr",
     "output_type": "stream",
     "text": [
      "Epoch 7/32: 100%|██████████| 192/192 [00:33<00:00,  5.67batch/s, accuracy=0.755, loss=0.537]  \n"
     ]
    },
    {
     "name": "stdout",
     "output_type": "stream",
     "text": [
      "[0.001]\n",
      "              precision    recall  f1-score   support\n",
      "\n",
      "           0       0.51      0.58      0.54       369\n",
      "           1       0.77      0.73      0.75       777\n",
      "           2       0.94      0.92      0.93       390\n",
      "\n",
      "    accuracy                           0.74      1536\n",
      "   macro avg       0.74      0.74      0.74      1536\n",
      "weighted avg       0.75      0.74      0.75      1536\n",
      "\n",
      "[[215 146   8]\n",
      " [192 570  15]\n",
      " [ 13  20 357]]\n",
      "Epoch 7/32, Validation Loss: 0.5547, Validation Accuracy: 0.7435\n"
     ]
    },
    {
     "name": "stderr",
     "output_type": "stream",
     "text": [
      "Epoch 8/32: 100%|██████████| 192/192 [00:34<00:00,  5.50batch/s, accuracy=0.75, loss=0.533]   \n"
     ]
    },
    {
     "name": "stdout",
     "output_type": "stream",
     "text": [
      "[0.001]\n",
      "              precision    recall  f1-score   support\n",
      "\n",
      "           0       0.61      0.37      0.46       369\n",
      "           1       0.78      0.77      0.77       777\n",
      "           2       0.69      0.97      0.81       390\n",
      "\n",
      "    accuracy                           0.72      1536\n",
      "   macro avg       0.69      0.70      0.68      1536\n",
      "weighted avg       0.72      0.72      0.71      1536\n",
      "\n",
      "[[137 160  72]\n",
      " [ 84 597  96]\n",
      " [  4   9 377]]\n",
      "Epoch 8/32, Validation Loss: 0.6539, Validation Accuracy: 0.7233\n"
     ]
    },
    {
     "name": "stderr",
     "output_type": "stream",
     "text": [
      "Epoch 9/32: 100%|██████████| 192/192 [00:34<00:00,  5.57batch/s, accuracy=0.759, loss=0.528]  \n"
     ]
    },
    {
     "name": "stdout",
     "output_type": "stream",
     "text": [
      "[0.001]\n",
      "              precision    recall  f1-score   support\n",
      "\n",
      "           0       0.59      0.47      0.52       369\n",
      "           1       0.74      0.85      0.79       777\n",
      "           2       0.99      0.88      0.93       390\n",
      "\n",
      "    accuracy                           0.76      1536\n",
      "   macro avg       0.77      0.73      0.75      1536\n",
      "weighted avg       0.76      0.76      0.76      1536\n",
      "\n",
      "[[173 194   2]\n",
      " [114 660   3]\n",
      " [  8  40 342]]\n",
      "Epoch 9/32, Validation Loss: 0.5154, Validation Accuracy: 0.7650\n",
      "Best model saved! 20241016-1640\n"
     ]
    },
    {
     "name": "stderr",
     "output_type": "stream",
     "text": [
      "Epoch 10/32: 100%|██████████| 192/192 [00:33<00:00,  5.71batch/s, accuracy=0.769, loss=0.503]  \n"
     ]
    },
    {
     "name": "stdout",
     "output_type": "stream",
     "text": [
      "[0.001]\n",
      "              precision    recall  f1-score   support\n",
      "\n",
      "           0       0.51      0.56      0.53       369\n",
      "           1       0.77      0.74      0.76       777\n",
      "           2       0.95      0.94      0.94       390\n",
      "\n",
      "    accuracy                           0.75      1536\n",
      "   macro avg       0.74      0.74      0.74      1536\n",
      "weighted avg       0.75      0.75      0.75      1536\n",
      "\n",
      "[[205 157   7]\n",
      " [189 576  12]\n",
      " [ 11  14 365]]\n",
      "Epoch 10/32, Validation Loss: 0.5497, Validation Accuracy: 0.7461\n"
     ]
    },
    {
     "name": "stderr",
     "output_type": "stream",
     "text": [
      "Epoch 11/32: 100%|██████████| 192/192 [00:34<00:00,  5.51batch/s, accuracy=0.764, loss=0.528]  \n"
     ]
    },
    {
     "name": "stdout",
     "output_type": "stream",
     "text": [
      "[0.001]\n",
      "              precision    recall  f1-score   support\n",
      "\n",
      "           0       0.58      0.34      0.43       369\n",
      "           1       0.69      0.89      0.78       777\n",
      "           2       0.98      0.79      0.87       390\n",
      "\n",
      "    accuracy                           0.73      1536\n",
      "   macro avg       0.75      0.67      0.69      1536\n",
      "weighted avg       0.74      0.73      0.72      1536\n",
      "\n",
      "[[126 239   4]\n",
      " [ 81 693   3]\n",
      " [ 11  71 308]]\n",
      "Epoch 11/32, Validation Loss: 0.6066, Validation Accuracy: 0.7337\n"
     ]
    },
    {
     "name": "stderr",
     "output_type": "stream",
     "text": [
      "Epoch 12/32: 100%|██████████| 192/192 [00:34<00:00,  5.62batch/s, accuracy=0.766, loss=0.517]  \n"
     ]
    },
    {
     "name": "stdout",
     "output_type": "stream",
     "text": [
      "[0.001]\n",
      "              precision    recall  f1-score   support\n",
      "\n",
      "           0       0.54      0.62      0.58       369\n",
      "           1       0.78      0.74      0.76       777\n",
      "           2       0.95      0.91      0.93       390\n",
      "\n",
      "    accuracy                           0.75      1536\n",
      "   macro avg       0.76      0.76      0.75      1536\n",
      "weighted avg       0.77      0.75      0.76      1536\n",
      "\n",
      "[[229 134   6]\n",
      " [186 577  14]\n",
      " [ 12  25 353]]\n",
      "Epoch 12/32, Validation Loss: 0.5451, Validation Accuracy: 0.7546\n"
     ]
    },
    {
     "name": "stderr",
     "output_type": "stream",
     "text": [
      "Epoch 13/32: 100%|██████████| 192/192 [00:33<00:00,  5.67batch/s, accuracy=0.77, loss=0.522]   \n"
     ]
    },
    {
     "name": "stdout",
     "output_type": "stream",
     "text": [
      "[0.001]\n",
      "              precision    recall  f1-score   support\n",
      "\n",
      "           0       0.78      0.17      0.28       369\n",
      "           1       0.69      0.97      0.81       777\n",
      "           2       0.98      0.90      0.94       390\n",
      "\n",
      "    accuracy                           0.76      1536\n",
      "   macro avg       0.82      0.68      0.68      1536\n",
      "weighted avg       0.78      0.76      0.71      1536\n",
      "\n",
      "[[ 64 302   3]\n",
      " [ 16 756   5]\n",
      " [  2  38 350]]\n",
      "Epoch 13/32, Validation Loss: 0.5512, Validation Accuracy: 0.7617\n"
     ]
    },
    {
     "name": "stderr",
     "output_type": "stream",
     "text": [
      "Epoch 14/32: 100%|██████████| 192/192 [00:34<00:00,  5.62batch/s, accuracy=0.769, loss=0.506]  \n"
     ]
    },
    {
     "name": "stdout",
     "output_type": "stream",
     "text": [
      "[0.001]\n",
      "              precision    recall  f1-score   support\n",
      "\n",
      "           0       0.62      0.47      0.54       369\n",
      "           1       0.76      0.87      0.81       777\n",
      "           2       0.97      0.91      0.94       390\n",
      "\n",
      "    accuracy                           0.78      1536\n",
      "   macro avg       0.78      0.75      0.76      1536\n",
      "weighted avg       0.78      0.78      0.78      1536\n",
      "\n",
      "[[173 189   7]\n",
      " [ 99 673   5]\n",
      " [  5  29 356]]\n",
      "Epoch 14/32, Validation Loss: 0.4934, Validation Accuracy: 0.7826\n",
      "Best model saved! 20241016-1643\n"
     ]
    },
    {
     "name": "stderr",
     "output_type": "stream",
     "text": [
      "Epoch 15/32: 100%|██████████| 192/192 [00:34<00:00,  5.51batch/s, accuracy=0.774, loss=0.502]  \n"
     ]
    },
    {
     "name": "stdout",
     "output_type": "stream",
     "text": [
      "[0.0001]\n",
      "              precision    recall  f1-score   support\n",
      "\n",
      "           0       0.63      0.35      0.45       369\n",
      "           1       0.73      0.87      0.79       777\n",
      "           2       0.89      0.93      0.91       390\n",
      "\n",
      "    accuracy                           0.76      1536\n",
      "   macro avg       0.75      0.71      0.72      1536\n",
      "weighted avg       0.75      0.76      0.74      1536\n",
      "\n",
      "[[128 232   9]\n",
      " [ 68 675  34]\n",
      " [  7  21 362]]\n",
      "Epoch 15/32, Validation Loss: 0.5410, Validation Accuracy: 0.7585\n"
     ]
    },
    {
     "name": "stderr",
     "output_type": "stream",
     "text": [
      "Epoch 16/32: 100%|██████████| 192/192 [00:33<00:00,  5.65batch/s, accuracy=0.79, loss=0.465]   \n"
     ]
    },
    {
     "name": "stdout",
     "output_type": "stream",
     "text": [
      "[0.0001]\n",
      "              precision    recall  f1-score   support\n",
      "\n",
      "           0       0.62      0.48      0.54       369\n",
      "           1       0.76      0.87      0.81       777\n",
      "           2       0.99      0.91      0.95       390\n",
      "\n",
      "    accuracy                           0.78      1536\n",
      "   macro avg       0.79      0.75      0.76      1536\n",
      "weighted avg       0.78      0.78      0.78      1536\n",
      "\n",
      "[[176 192   1]\n",
      " [100 674   3]\n",
      " [ 10  26 354]]\n",
      "Epoch 16/32, Validation Loss: 0.4752, Validation Accuracy: 0.7839\n",
      "Best model saved! 20241016-1645\n"
     ]
    },
    {
     "name": "stderr",
     "output_type": "stream",
     "text": [
      "Epoch 17/32: 100%|██████████| 192/192 [00:34<00:00,  5.63batch/s, accuracy=0.797, loss=0.444]  \n"
     ]
    },
    {
     "name": "stdout",
     "output_type": "stream",
     "text": [
      "[0.0001]\n",
      "              precision    recall  f1-score   support\n",
      "\n",
      "           0       0.68      0.39      0.50       369\n",
      "           1       0.74      0.91      0.82       777\n",
      "           2       0.97      0.93      0.95       390\n",
      "\n",
      "    accuracy                           0.79      1536\n",
      "   macro avg       0.80      0.74      0.76      1536\n",
      "weighted avg       0.79      0.79      0.77      1536\n",
      "\n",
      "[[145 219   5]\n",
      " [ 63 707   7]\n",
      " [  5  23 362]]\n",
      "Epoch 17/32, Validation Loss: 0.4777, Validation Accuracy: 0.7904\n",
      "Best model saved! 20241016-1645\n"
     ]
    },
    {
     "name": "stderr",
     "output_type": "stream",
     "text": [
      "Epoch 18/32: 100%|██████████| 192/192 [00:34<00:00,  5.50batch/s, accuracy=0.807, loss=0.435]  \n"
     ]
    },
    {
     "name": "stdout",
     "output_type": "stream",
     "text": [
      "[0.0001]\n",
      "              precision    recall  f1-score   support\n",
      "\n",
      "           0       0.68      0.42      0.52       369\n",
      "           1       0.76      0.90      0.82       777\n",
      "           2       0.96      0.93      0.94       390\n",
      "\n",
      "    accuracy                           0.79      1536\n",
      "   macro avg       0.80      0.75      0.76      1536\n",
      "weighted avg       0.79      0.79      0.78      1536\n",
      "\n",
      "[[156 206   7]\n",
      " [ 69 698  10]\n",
      " [  6  20 364]]\n",
      "Epoch 18/32, Validation Loss: 0.4661, Validation Accuracy: 0.7930\n",
      "Best model saved! 20241016-1646\n"
     ]
    },
    {
     "name": "stderr",
     "output_type": "stream",
     "text": [
      "Epoch 19/32: 100%|██████████| 192/192 [00:34<00:00,  5.59batch/s, accuracy=0.813, loss=0.425]  \n"
     ]
    },
    {
     "name": "stdout",
     "output_type": "stream",
     "text": [
      "[0.0001]\n",
      "              precision    recall  f1-score   support\n",
      "\n",
      "           0       0.63      0.49      0.55       369\n",
      "           1       0.77      0.87      0.82       777\n",
      "           2       0.98      0.93      0.96       390\n",
      "\n",
      "    accuracy                           0.80      1536\n",
      "   macro avg       0.80      0.77      0.78      1536\n",
      "weighted avg       0.79      0.80      0.79      1536\n",
      "\n",
      "[[181 185   3]\n",
      " [ 96 678   3]\n",
      " [  9  17 364]]\n",
      "Epoch 19/32, Validation Loss: 0.4633, Validation Accuracy: 0.7962\n",
      "Best model saved! 20241016-1647\n"
     ]
    },
    {
     "name": "stderr",
     "output_type": "stream",
     "text": [
      "Epoch 20/32: 100%|██████████| 192/192 [00:34<00:00,  5.51batch/s, accuracy=0.81, loss=0.42]    \n"
     ]
    },
    {
     "name": "stdout",
     "output_type": "stream",
     "text": [
      "[0.0001]\n",
      "              precision    recall  f1-score   support\n",
      "\n",
      "           0       0.67      0.41      0.51       369\n",
      "           1       0.75      0.91      0.82       777\n",
      "           2       0.99      0.93      0.96       390\n",
      "\n",
      "    accuracy                           0.80      1536\n",
      "   macro avg       0.80      0.75      0.76      1536\n",
      "weighted avg       0.79      0.80      0.78      1536\n",
      "\n",
      "[[152 216   1]\n",
      " [ 66 709   2]\n",
      " [  8  21 361]]\n",
      "Epoch 20/32, Validation Loss: 0.4661, Validation Accuracy: 0.7956\n"
     ]
    },
    {
     "name": "stderr",
     "output_type": "stream",
     "text": [
      "Epoch 21/32: 100%|██████████| 192/192 [00:35<00:00,  5.43batch/s, accuracy=0.817, loss=0.411] \n"
     ]
    },
    {
     "name": "stdout",
     "output_type": "stream",
     "text": [
      "[0.0001]\n",
      "              precision    recall  f1-score   support\n",
      "\n",
      "           0       0.65      0.43      0.52       369\n",
      "           1       0.76      0.89      0.82       777\n",
      "           2       0.96      0.93      0.94       390\n",
      "\n",
      "    accuracy                           0.79      1536\n",
      "   macro avg       0.79      0.75      0.76      1536\n",
      "weighted avg       0.78      0.79      0.78      1536\n",
      "\n",
      "[[159 202   8]\n",
      " [ 80 688   9]\n",
      " [  7  19 364]]\n",
      "Epoch 21/32, Validation Loss: 0.4671, Validation Accuracy: 0.7884\n"
     ]
    },
    {
     "name": "stderr",
     "output_type": "stream",
     "text": [
      "Epoch 22/32: 100%|██████████| 192/192 [00:33<00:00,  5.67batch/s, accuracy=0.822, loss=0.401]  \n"
     ]
    },
    {
     "name": "stdout",
     "output_type": "stream",
     "text": [
      "[0.0001]\n",
      "              precision    recall  f1-score   support\n",
      "\n",
      "           0       0.61      0.52      0.56       369\n",
      "           1       0.78      0.84      0.81       777\n",
      "           2       0.96      0.94      0.95       390\n",
      "\n",
      "    accuracy                           0.79      1536\n",
      "   macro avg       0.78      0.77      0.77      1536\n",
      "weighted avg       0.78      0.79      0.78      1536\n",
      "\n",
      "[[191 172   6]\n",
      " [114 654   9]\n",
      " [  7  17 366]]\n",
      "Epoch 22/32, Validation Loss: 0.4584, Validation Accuracy: 0.7884\n"
     ]
    },
    {
     "name": "stderr",
     "output_type": "stream",
     "text": [
      "Epoch 23/32: 100%|██████████| 192/192 [00:35<00:00,  5.47batch/s, accuracy=0.82, loss=0.401]   \n"
     ]
    },
    {
     "name": "stdout",
     "output_type": "stream",
     "text": [
      "[0.0001]\n",
      "              precision    recall  f1-score   support\n",
      "\n",
      "           0       0.64      0.49      0.55       369\n",
      "           1       0.77      0.87      0.82       777\n",
      "           2       0.98      0.94      0.96       390\n",
      "\n",
      "    accuracy                           0.80      1536\n",
      "   macro avg       0.80      0.77      0.78      1536\n",
      "weighted avg       0.79      0.80      0.79      1536\n",
      "\n",
      "[[180 185   4]\n",
      " [ 94 679   4]\n",
      " [  9  14 367]]\n",
      "Epoch 23/32, Validation Loss: 0.4526, Validation Accuracy: 0.7982\n",
      "Best model saved! 20241016-1650\n"
     ]
    },
    {
     "name": "stderr",
     "output_type": "stream",
     "text": [
      "Epoch 24/32: 100%|██████████| 192/192 [00:35<00:00,  5.48batch/s, accuracy=0.818, loss=0.396]  \n"
     ]
    },
    {
     "name": "stdout",
     "output_type": "stream",
     "text": [
      "[0.0001]\n",
      "              precision    recall  f1-score   support\n",
      "\n",
      "           0       0.69      0.44      0.53       369\n",
      "           1       0.76      0.90      0.82       777\n",
      "           2       0.97      0.93      0.95       390\n",
      "\n",
      "    accuracy                           0.80      1536\n",
      "   macro avg       0.80      0.76      0.77      1536\n",
      "weighted avg       0.79      0.80      0.78      1536\n",
      "\n",
      "[[161 204   4]\n",
      " [ 66 702   9]\n",
      " [  6  23 361]]\n",
      "Epoch 24/32, Validation Loss: 0.4633, Validation Accuracy: 0.7969\n"
     ]
    },
    {
     "name": "stderr",
     "output_type": "stream",
     "text": [
      "Epoch 25/32: 100%|██████████| 192/192 [00:34<00:00,  5.63batch/s, accuracy=0.822, loss=0.389]  \n"
     ]
    },
    {
     "name": "stdout",
     "output_type": "stream",
     "text": [
      "[0.0001]\n",
      "              precision    recall  f1-score   support\n",
      "\n",
      "           0       0.62      0.52      0.57       369\n",
      "           1       0.78      0.86      0.82       777\n",
      "           2       0.98      0.93      0.96       390\n",
      "\n",
      "    accuracy                           0.79      1536\n",
      "   macro avg       0.79      0.77      0.78      1536\n",
      "weighted avg       0.79      0.79      0.79      1536\n",
      "\n",
      "[[192 174   3]\n",
      " [107 666   4]\n",
      " [ 10  17 363]]\n",
      "Epoch 25/32, Validation Loss: 0.4639, Validation Accuracy: 0.7949\n"
     ]
    },
    {
     "name": "stderr",
     "output_type": "stream",
     "text": [
      "Epoch 26/32: 100%|██████████| 192/192 [00:34<00:00,  5.50batch/s, accuracy=0.82, loss=0.389]   \n"
     ]
    },
    {
     "name": "stdout",
     "output_type": "stream",
     "text": [
      "[0.0001]\n",
      "              precision    recall  f1-score   support\n",
      "\n",
      "           0       0.68      0.45      0.54       369\n",
      "           1       0.76      0.89      0.82       777\n",
      "           2       0.96      0.94      0.95       390\n",
      "\n",
      "    accuracy                           0.80      1536\n",
      "   macro avg       0.80      0.76      0.77      1536\n",
      "weighted avg       0.79      0.80      0.79      1536\n",
      "\n",
      "[[165 201   3]\n",
      " [ 74 692  11]\n",
      " [  4  18 368]]\n",
      "Epoch 26/32, Validation Loss: 0.4645, Validation Accuracy: 0.7975\n"
     ]
    },
    {
     "name": "stderr",
     "output_type": "stream",
     "text": [
      "Epoch 27/32: 100%|██████████| 192/192 [00:34<00:00,  5.54batch/s, accuracy=0.826, loss=0.385]  \n"
     ]
    },
    {
     "name": "stdout",
     "output_type": "stream",
     "text": [
      "[0.0001]\n",
      "              precision    recall  f1-score   support\n",
      "\n",
      "           0       0.69      0.45      0.55       369\n",
      "           1       0.76      0.89      0.82       777\n",
      "           2       0.96      0.94      0.95       390\n",
      "\n",
      "    accuracy                           0.80      1536\n",
      "   macro avg       0.80      0.76      0.77      1536\n",
      "weighted avg       0.79      0.80      0.79      1536\n",
      "\n",
      "[[167 196   6]\n",
      " [ 71 695  11]\n",
      " [  5  18 367]]\n",
      "Epoch 27/32, Validation Loss: 0.4637, Validation Accuracy: 0.8001\n",
      "Best model saved! 20241016-1652\n"
     ]
    },
    {
     "name": "stderr",
     "output_type": "stream",
     "text": [
      "Epoch 28/32: 100%|██████████| 192/192 [00:34<00:00,  5.63batch/s, accuracy=0.84, loss=0.369]   \n"
     ]
    },
    {
     "name": "stdout",
     "output_type": "stream",
     "text": [
      "[0.0001]\n",
      "              precision    recall  f1-score   support\n",
      "\n",
      "           0       0.70      0.43      0.53       369\n",
      "           1       0.76      0.90      0.82       777\n",
      "           2       0.97      0.95      0.96       390\n",
      "\n",
      "    accuracy                           0.80      1536\n",
      "   macro avg       0.81      0.76      0.77      1536\n",
      "weighted avg       0.80      0.80      0.79      1536\n",
      "\n",
      "[[158 206   5]\n",
      " [ 68 701   8]\n",
      " [  1  19 370]]\n",
      "Epoch 28/32, Validation Loss: 0.4638, Validation Accuracy: 0.8001\n"
     ]
    },
    {
     "name": "stderr",
     "output_type": "stream",
     "text": [
      "Epoch 29/32: 100%|██████████| 192/192 [00:35<00:00,  5.48batch/s, accuracy=0.833, loss=0.374]  \n"
     ]
    },
    {
     "name": "stdout",
     "output_type": "stream",
     "text": [
      "[0.0001]\n",
      "              precision    recall  f1-score   support\n",
      "\n",
      "           0       0.63      0.49      0.55       369\n",
      "           1       0.76      0.86      0.81       777\n",
      "           2       0.97      0.93      0.95       390\n",
      "\n",
      "    accuracy                           0.79      1536\n",
      "   macro avg       0.79      0.76      0.77      1536\n",
      "weighted avg       0.78      0.79      0.78      1536\n",
      "\n",
      "[[181 184   4]\n",
      " [102 669   6]\n",
      " [  6  22 362]]\n",
      "Epoch 29/32, Validation Loss: 0.4665, Validation Accuracy: 0.7891\n"
     ]
    },
    {
     "name": "stderr",
     "output_type": "stream",
     "text": [
      "Epoch 30/32: 100%|██████████| 192/192 [00:34<00:00,  5.57batch/s, accuracy=0.833, loss=0.376]  \n"
     ]
    },
    {
     "name": "stdout",
     "output_type": "stream",
     "text": [
      "[1e-05]\n",
      "              precision    recall  f1-score   support\n",
      "\n",
      "           0       0.67      0.51      0.58       369\n",
      "           1       0.78      0.87      0.83       777\n",
      "           2       0.96      0.95      0.96       390\n",
      "\n",
      "    accuracy                           0.81      1536\n",
      "   macro avg       0.80      0.78      0.79      1536\n",
      "weighted avg       0.80      0.81      0.80      1536\n",
      "\n",
      "[[189 174   6]\n",
      " [ 90 679   8]\n",
      " [  5  14 371]]\n",
      "Epoch 30/32, Validation Loss: 0.4628, Validation Accuracy: 0.8066\n",
      "Best model saved! 20241016-1654\n"
     ]
    },
    {
     "name": "stderr",
     "output_type": "stream",
     "text": [
      "Epoch 31/32: 100%|██████████| 192/192 [00:33<00:00,  5.70batch/s, accuracy=0.847, loss=0.353]  \n"
     ]
    },
    {
     "name": "stdout",
     "output_type": "stream",
     "text": [
      "[1e-05]\n",
      "              precision    recall  f1-score   support\n",
      "\n",
      "           0       0.66      0.48      0.56       369\n",
      "           1       0.77      0.87      0.82       777\n",
      "           2       0.96      0.94      0.95       390\n",
      "\n",
      "    accuracy                           0.80      1536\n",
      "   macro avg       0.80      0.76      0.77      1536\n",
      "weighted avg       0.79      0.80      0.79      1536\n",
      "\n",
      "[[178 187   4]\n",
      " [ 87 679  11]\n",
      " [  3  21 366]]\n",
      "Epoch 31/32, Validation Loss: 0.4715, Validation Accuracy: 0.7962\n"
     ]
    },
    {
     "name": "stderr",
     "output_type": "stream",
     "text": [
      "Epoch 32/32: 100%|██████████| 192/192 [00:34<00:00,  5.51batch/s, accuracy=0.845, loss=0.347]  \n"
     ]
    },
    {
     "name": "stdout",
     "output_type": "stream",
     "text": [
      "[1e-05]\n",
      "              precision    recall  f1-score   support\n",
      "\n",
      "           0       0.66      0.49      0.56       369\n",
      "           1       0.77      0.88      0.82       777\n",
      "           2       0.97      0.95      0.96       390\n",
      "\n",
      "    accuracy                           0.80      1536\n",
      "   macro avg       0.80      0.77      0.78      1536\n",
      "weighted avg       0.80      0.80      0.79      1536\n",
      "\n",
      "[[180 186   3]\n",
      " [ 86 682   9]\n",
      " [  5  14 371]]\n",
      "Epoch 32/32, Validation Loss: 0.4624, Validation Accuracy: 0.8027\n",
      "Finished Training\n",
      "Best validation accuracy: 0.8066\n"
     ]
    }
   ],
   "source": [
    "if __name__ == \"__main__\":\n",
    "    trainer = BasicTrainer(\n",
    "        csv_path = csv_path,\n",
    "        img_dir = img_dir, \n",
    "        model = SingleGoogLeNet(),\n",
    "        label_column = 'instability_type',\n",
    "        store_model_name = 'Epoch32_Singlelayer_For_InstabilityType',\n",
    "        test_size = 0.2,\n",
    "        num_epochs = 32, \n",
    "        batch_size = 32\n",
    "    )\n",
    "    trainer.train()"
   ]
  },
  {
   "cell_type": "markdown",
   "id": "ca440516-28e4-4315-926e-11e7d13f64fd",
   "metadata": {},
   "source": [
    "# Get trainer predicted probabilities"
   ]
  },
  {
   "cell_type": "code",
   "execution_count": 5,
   "id": "7c3a19d1-efb6-4f28-8517-5d70bfd2f846",
   "metadata": {},
   "outputs": [
    {
     "name": "stdout",
     "output_type": "stream",
     "text": [
      "Train dataset size: 6144 Validation dataset size: 1536\n"
     ]
    },
    {
     "name": "stderr",
     "output_type": "stream",
     "text": [
      "/root/miniconda3/lib/python3.12/site-packages/torch/nn/modules/conv.py:456: UserWarning: Plan failed with a cudnnException: CUDNN_BACKEND_EXECUTION_PLAN_DESCRIPTOR: cudnnFinalize Descriptor Failed cudnn_status: CUDNN_STATUS_NOT_SUPPORTED (Triggered internally at ../aten/src/ATen/native/cudnn/Conv_v8.cpp:919.)\n",
      "  return F.conv2d(input, weight, bias, self.stride,\n"
     ]
    }
   ],
   "source": [
    "trainer_instabType = EvalTrainDf(\n",
    "    model_path = './models/_Epoch32_Singlelayer_For_InstabilityType_1/best_model.pth',\n",
    "    model= SingleGoogLeNet(),\n",
    "    label_column = 'instability_type',\n",
    "    csv_path = csv_path, \n",
    "    img_dir= img_dir, \n",
    "    test_size=0.2,\n",
    "    batch_size=32\n",
    "    )\n",
    "trainer_instabType.validate()"
   ]
  },
  {
   "cell_type": "code",
   "execution_count": 6,
   "id": "6ca53fb0-a0c2-470b-b428-8240a6133ae6",
   "metadata": {},
   "outputs": [],
   "source": [
    "pred_labels = trainer_instabType.pred_labels\n",
    "# pred_labels = [pred+1 for pred in pred_labels]\n",
    "pred_outputs = trainer_instabType.pred_outputs\n",
    "gt_labels = trainer_instabType.gt_labels\n",
    "gt_labels = [gt-1 for gt in gt_labels]"
   ]
  },
  {
   "cell_type": "code",
   "execution_count": 7,
   "id": "85d32cfc-6169-4260-90ee-dba79fef9f50",
   "metadata": {},
   "outputs": [],
   "source": [
    "train_instab_preds = pd.DataFrame(pred_outputs, columns = ['class_1', 'class_2','class_3'])\n",
    "# train_instab_preds['pred_class'] = [pred+1 for pred in pred_labels]\n",
    "# train_instab_preds['true_class'] = gt_labels"
   ]
  },
  {
   "cell_type": "code",
   "execution_count": 8,
   "id": "44306c14-77fe-4137-a47d-f04f40e14210",
   "metadata": {},
   "outputs": [
    {
     "data": {
      "text/html": [
       "<div>\n",
       "<style scoped>\n",
       "    .dataframe tbody tr th:only-of-type {\n",
       "        vertical-align: middle;\n",
       "    }\n",
       "\n",
       "    .dataframe tbody tr th {\n",
       "        vertical-align: top;\n",
       "    }\n",
       "\n",
       "    .dataframe thead th {\n",
       "        text-align: right;\n",
       "    }\n",
       "</style>\n",
       "<table border=\"1\" class=\"dataframe\">\n",
       "  <thead>\n",
       "    <tr style=\"text-align: right;\">\n",
       "      <th></th>\n",
       "      <th>class_1</th>\n",
       "      <th>class_2</th>\n",
       "      <th>class_3</th>\n",
       "    </tr>\n",
       "  </thead>\n",
       "  <tbody>\n",
       "    <tr>\n",
       "      <th>0</th>\n",
       "      <td>1.555159</td>\n",
       "      <td>0.683043</td>\n",
       "      <td>-4.767675</td>\n",
       "    </tr>\n",
       "    <tr>\n",
       "      <th>1</th>\n",
       "      <td>-4.594847</td>\n",
       "      <td>-4.360948</td>\n",
       "      <td>6.287295</td>\n",
       "    </tr>\n",
       "    <tr>\n",
       "      <th>2</th>\n",
       "      <td>-0.116200</td>\n",
       "      <td>2.315863</td>\n",
       "      <td>-4.940237</td>\n",
       "    </tr>\n",
       "    <tr>\n",
       "      <th>3</th>\n",
       "      <td>-0.163955</td>\n",
       "      <td>2.248013</td>\n",
       "      <td>-4.829304</td>\n",
       "    </tr>\n",
       "    <tr>\n",
       "      <th>4</th>\n",
       "      <td>2.305248</td>\n",
       "      <td>0.173829</td>\n",
       "      <td>-5.400097</td>\n",
       "    </tr>\n",
       "  </tbody>\n",
       "</table>\n",
       "</div>"
      ],
      "text/plain": [
       "    class_1   class_2   class_3\n",
       "0  1.555159  0.683043 -4.767675\n",
       "1 -4.594847 -4.360948  6.287295\n",
       "2 -0.116200  2.315863 -4.940237\n",
       "3 -0.163955  2.248013 -4.829304\n",
       "4  2.305248  0.173829 -5.400097"
      ]
     },
     "execution_count": 8,
     "metadata": {},
     "output_type": "execute_result"
    }
   ],
   "source": [
    "train_instab_preds.head()"
   ]
  },
  {
   "cell_type": "code",
   "execution_count": 9,
   "id": "afa91b97-7b8d-4714-aaeb-674ff62ca80f",
   "metadata": {},
   "outputs": [
    {
     "data": {
      "text/plain": [
       "0.051432291666666664"
      ]
     },
     "execution_count": 9,
     "metadata": {},
     "output_type": "execute_result"
    }
   ],
   "source": [
    "accuracy_score(gt_labels, pred_labels)"
   ]
  },
  {
   "cell_type": "code",
   "execution_count": 5,
   "id": "0a1ab690-9e2b-4e24-beb0-74ed81f4bfbf",
   "metadata": {},
   "outputs": [
    {
     "name": "stdout",
     "output_type": "stream",
     "text": [
      "Train dataset size: 6144 Validation dataset size: 1536\n"
     ]
    },
    {
     "name": "stderr",
     "output_type": "stream",
     "text": [
      "/root/miniconda3/lib/python3.12/site-packages/torch/nn/modules/conv.py:456: UserWarning: Plan failed with a cudnnException: CUDNN_BACKEND_EXECUTION_PLAN_DESCRIPTOR: cudnnFinalize Descriptor Failed cudnn_status: CUDNN_STATUS_NOT_SUPPORTED (Triggered internally at ../aten/src/ATen/native/cudnn/Conv_v8.cpp:919.)\n",
      "  return F.conv2d(input, weight, bias, self.stride,\n"
     ]
    },
    {
     "name": "stdout",
     "output_type": "stream",
     "text": [
      "              precision    recall  f1-score   support\n",
      "\n",
      "          -1       0.00      0.00      0.00       369\n",
      "           0       0.00      0.00      0.00       777\n",
      "           1       0.01      0.01      0.01       390\n",
      "           2       0.00      0.00      0.00         0\n",
      "           3       0.00      0.00      0.00         0\n",
      "\n",
      "    accuracy                           0.00      1536\n",
      "   macro avg       0.00      0.00      0.00      1536\n",
      "weighted avg       0.00      0.00      0.00      1536\n",
      "\n",
      "[[  0   0 194 173   2]\n",
      " [  0   0  85 683   9]\n",
      " [  0   0   3  14 373]\n",
      " [  0   0   0   0   0]\n",
      " [  0   0   0   0   0]]\n"
     ]
    },
    {
     "data": {
      "text/plain": [
       "0.001953125"
      ]
     },
     "execution_count": 5,
     "metadata": {},
     "output_type": "execute_result"
    }
   ],
   "source": [
    "valid_instabType = ModelTemplate(\n",
    "    model_path = './models/_Epoch32_Singlelayer_For_InstabilityType_1/best_model.pth',\n",
    "    model= SingleGoogLeNet(),\n",
    "    label_column = 'instability_type',\n",
    "    csv_path = csv_path, \n",
    "    img_dir= img_dir, \n",
    "    test_size=0.2,\n",
    "    batch_size=32\n",
    "    )\n",
    "valid_instabType.validate()"
   ]
  },
  {
   "cell_type": "code",
   "execution_count": 6,
   "id": "1d557dc5-c26f-4114-89ef-a43b27499fd2",
   "metadata": {},
   "outputs": [],
   "source": [
    "valid_pred_labels = valid_instabType.pred_labels\n",
    "valid_pred_outputs = valid_instabType.pred_outputs\n",
    "valid_gt_labels = valid_instabType.gt_labels"
   ]
  },
  {
   "cell_type": "code",
   "execution_count": 7,
   "id": "aba9e880-a093-4bf1-99a1-e559aeecf289",
   "metadata": {},
   "outputs": [
    {
     "data": {
      "text/plain": [
       "0.001953125"
      ]
     },
     "execution_count": 7,
     "metadata": {},
     "output_type": "execute_result"
    }
   ],
   "source": [
    "accuracy_score(valid_gt_labels, valid_pred_labels)"
   ]
  },
  {
   "cell_type": "markdown",
   "id": "1f2d9eb0-7bf2-4167-8d60-23e31f2ae827",
   "metadata": {},
   "source": [
    "# Load model of predicting stable height"
   ]
  },
  {
   "cell_type": "code",
   "execution_count": 16,
   "id": "60fbf2fe-acb8-421f-91df-7fe1192368b0",
   "metadata": {},
   "outputs": [
    {
     "name": "stdout",
     "output_type": "stream",
     "text": [
      "Train dataset size: 6144 Validation dataset size: 1536\n",
      "              precision    recall  f1-score   support\n",
      "\n",
      "           0       0.73      0.73      0.73       384\n",
      "           1       0.72      0.71      0.72       384\n",
      "           2       0.62      0.70      0.65       307\n",
      "           3       0.57      0.63      0.60       230\n",
      "           4       0.61      0.51      0.55       154\n",
      "           5       0.60      0.31      0.41        77\n",
      "\n",
      "    accuracy                           0.66      1536\n",
      "   macro avg       0.64      0.60      0.61      1536\n",
      "weighted avg       0.66      0.66      0.66      1536\n",
      "\n",
      "[[281  35  29  28  10   1]\n",
      " [ 39 274  35  22  10   4]\n",
      " [ 25  44 214  17   3   4]\n",
      " [ 19  13  38 146  12   2]\n",
      " [  7   8  16  40  78   5]\n",
      " [ 12   8  15   3  15  24]]\n"
     ]
    },
    {
     "data": {
      "text/plain": [
       "0.662109375"
      ]
     },
     "execution_count": 16,
     "metadata": {},
     "output_type": "execute_result"
    }
   ],
   "source": [
    "valider_stabHei = ModelTemplate(\n",
    "    model_path = './models/20241012-StableHeight-BestModel-net8-acc0666/best_model.pth',\n",
    "    model= ComplexFineTunedGoogLeNet(),\n",
    "    label_column = 'stable_height',\n",
    "    csv_path = csv_path, img_dir= img_dir, \n",
    "    test_size=0.2,\n",
    "    batch_size=32\n",
    "    )\n",
    "valider_stabHei.validate()"
   ]
  },
  {
   "cell_type": "markdown",
   "id": "48c046bf-f5bb-4ad0-b645-bf1ec477051a",
   "metadata": {},
   "source": [
    "# Load model of predicting total height"
   ]
  },
  {
   "cell_type": "code",
   "execution_count": 39,
   "id": "221310bc-9f98-402f-90da-104495284c39",
   "metadata": {},
   "outputs": [
    {
     "name": "stdout",
     "output_type": "stream",
     "text": [
      "Train dataset size: 6144 Validation dataset size: 1536\n",
      "              precision    recall  f1-score   support\n",
      "\n",
      "           1       0.95      1.00      0.97       149\n",
      "           2       0.93      0.96      0.94       222\n",
      "           3       0.91      0.95      0.93       304\n",
      "           4       0.93      0.91      0.92       395\n",
      "           5       0.98      0.94      0.96       466\n",
      "\n",
      "    accuracy                           0.94      1536\n",
      "   macro avg       0.94      0.95      0.94      1536\n",
      "weighted avg       0.94      0.94      0.94      1536\n",
      "\n",
      "[[149   0   0   0   0]\n",
      " [  8 213   1   0   0]\n",
      " [  0  16 288   0   0]\n",
      " [  0   1  25 360   9]\n",
      " [  0   0   1  29 436]]\n"
     ]
    },
    {
     "data": {
      "text/plain": [
       "0.94140625"
      ]
     },
     "execution_count": 39,
     "metadata": {},
     "output_type": "execute_result"
    }
   ],
   "source": [
    "valider_tt_height = ModelTemplate(\n",
    "    model_path = './models/20241014-TotalHeight-Classification-net8/best_model.pth',\n",
    "    model=ComplexFineTunedGoogLeNet(),\n",
    "    label_column = 'total_height',\n",
    "    csv_path = csv_path, img_dir= img_dir, \n",
    "    test_size=0.2,\n",
    "    batch_size=32\n",
    "    )\n",
    "valider_tt_height.validate()"
   ]
  },
  {
   "cell_type": "markdown",
   "id": "16504782-4904-41d7-a958-7c744e05e12c",
   "metadata": {},
   "source": [
    "# Combine three models"
   ]
  },
  {
   "cell_type": "code",
   "execution_count": 40,
   "id": "d6aba237-00da-4755-8764-f98f1d2fc654",
   "metadata": {},
   "outputs": [],
   "source": [
    "instab_predictions = valid_instabType.pred_labels\n",
    "tt_predictions = valider_tt_height.pred_labels\n",
    "stable_hei_predictions = valider_stabHei.pred_labels"
   ]
  },
  {
   "cell_type": "code",
   "execution_count": 41,
   "id": "abc5fb26-b868-4f25-a9a6-7ea47a2703bd",
   "metadata": {},
   "outputs": [
    {
     "name": "stdout",
     "output_type": "stream",
     "text": [
      "{0, 1, 2}\n",
      "{1, 2, 3, 4, 5}\n",
      "{0, 1, 2, 3, 4, 5}\n"
     ]
    },
    {
     "data": {
      "text/plain": [
       "(None, None, None)"
      ]
     },
     "execution_count": 41,
     "metadata": {},
     "output_type": "execute_result"
    }
   ],
   "source": [
    "print(set(instab_predictions)), print(set(tt_predictions)), print(set(stable_hei_predictions))"
   ]
  },
  {
   "cell_type": "code",
   "execution_count": 15,
   "id": "43f4f8b3-ab68-402a-9ef3-92dff9399dc6",
   "metadata": {},
   "outputs": [],
   "source": [
    "gt_stable_hei = valider_stabHei.val_data.stable_height.tolist()"
   ]
  },
  {
   "cell_type": "code",
   "execution_count": 16,
   "id": "16aea8d9-7065-4d59-b984-7062a8a4eaca",
   "metadata": {},
   "outputs": [],
   "source": [
    "combined_predictions = []\n",
    "for idx in range(len(instab_predictions)):\n",
    "    if instab_predictions[idx] == 0:\n",
    "        combined_predictions.append(tt_predictions[idx])\n",
    "    else:\n",
    "        combined_predictions.append(stable_hei_predictions[idx])"
   ]
  },
  {
   "cell_type": "code",
   "execution_count": null,
   "id": "6415d4d9-56df-4f49-9ee5-c91be58c9baf",
   "metadata": {},
   "outputs": [],
   "source": []
  },
  {
   "cell_type": "code",
   "execution_count": 18,
   "id": "8a2b4664-4505-4bd5-bbf7-a4dd2ffc0269",
   "metadata": {},
   "outputs": [
    {
     "data": {
      "text/plain": [
       "0.07877604166666667"
      ]
     },
     "execution_count": 18,
     "metadata": {},
     "output_type": "execute_result"
    }
   ],
   "source": [
    "accuracy_score(gt_stable_hei, combined_predictions)"
   ]
  },
  {
   "cell_type": "markdown",
   "id": "a6120337-9961-4a17-b1c1-94b88bdc5ab5",
   "metadata": {},
   "source": [
    "# Test Prediction"
   ]
  },
  {
   "cell_type": "code",
   "execution_count": 4,
   "id": "a9767af0-4747-4207-9a32-01def518981d",
   "metadata": {
    "scrolled": true
   },
   "outputs": [
    {
     "name": "stderr",
     "output_type": "stream",
     "text": [
      "testing:   0%|          | 0/240 [00:00<?, ?it/s]/root/miniconda3/lib/python3.12/site-packages/torch/nn/modules/conv.py:456: UserWarning: Plan failed with a cudnnException: CUDNN_BACKEND_EXECUTION_PLAN_DESCRIPTOR: cudnnFinalize Descriptor Failed cudnn_status: CUDNN_STATUS_NOT_SUPPORTED (Triggered internally at ../aten/src/ATen/native/cudnn/Conv_v8.cpp:919.)\n",
      "  return F.conv2d(input, weight, bias, self.stride,\n",
      "testing: 100%|██████████| 240/240 [00:09<00:00, 24.92it/s]\n"
     ]
    }
   ],
   "source": [
    "stabHei_predictor = TesterTemplate(\n",
    "    model_path = './models/20241012-StableHeight-BestModel-net8-acc0666/best_model.pth',\n",
    "    model= ComplexFineTunedGoogLeNet(),\n",
    "    label_column = 'stable_height',\n",
    "    csv_path= './input/COMP90086_2024_Project_train/train.csv',\n",
    "    img_dir= './input/COMP90086_2024_Project_train/train',\n",
    "    batch_size=32\n",
    "    )\n",
    "stablehei_pred,img_ids = stabHei_predictor.predict()"
   ]
  },
  {
   "cell_type": "code",
   "execution_count": 5,
   "id": "434da438-74b6-4382-b45b-812b128d5027",
   "metadata": {},
   "outputs": [],
   "source": [
    "train_df = pd.read_csv('./input/COMP90086_2024_Project_train/train.csv')"
   ]
  },
  {
   "cell_type": "code",
   "execution_count": 6,
   "id": "3b105e5e-828b-4ad9-89b1-ea6ca02afebf",
   "metadata": {},
   "outputs": [
    {
     "data": {
      "text/plain": [
       "0.7033854166666667"
      ]
     },
     "execution_count": 6,
     "metadata": {},
     "output_type": "execute_result"
    }
   ],
   "source": [
    "accuracy_score(train_df['stable_height'], stablehei_pred)"
   ]
  },
  {
   "cell_type": "code",
   "execution_count": 20,
   "id": "28f7cf7a-b8a9-4a3a-a1c3-3f0031c39b60",
   "metadata": {},
   "outputs": [
    {
     "name": "stderr",
     "output_type": "stream",
     "text": [
      "testing: 100%|██████████| 240/240 [00:09<00:00, 25.07it/s]\n"
     ]
    },
    {
     "data": {
      "text/plain": [
       "0.17877604166666666"
      ]
     },
     "execution_count": 20,
     "metadata": {},
     "output_type": "execute_result"
    }
   ],
   "source": [
    "tt_height_predictor = TesterTemplate(\n",
    "    model=ComplexFineTunedGoogLeNet(),\n",
    "    model_path='./models/20241014-TotalHeight-Classification-net8/best_model.pth',\n",
    "    csv_path= './input/COMP90086_2024_Project_train/train.csv',\n",
    "    img_dir= './input/COMP90086_2024_Project_train/train',\n",
    "    label_column = 'total_height',\n",
    "    batch_size=32  \n",
    ")\n",
    "# Use the predictor to generate predictions\n",
    "tt_test_pred,img_ids  = tt_height_predictor.predict()\n",
    "accuracy_score(train_df['total_height'], tt_test_pred)"
   ]
  },
  {
   "cell_type": "code",
   "execution_count": 21,
   "id": "7361cb6c-3167-4370-a1b3-830e15daf515",
   "metadata": {},
   "outputs": [
    {
     "name": "stderr",
     "output_type": "stream",
     "text": [
      "testing: 100%|██████████| 240/240 [00:09<00:00, 24.10it/s]\n"
     ]
    },
    {
     "data": {
      "text/plain": [
       "0.373828125"
      ]
     },
     "execution_count": 21,
     "metadata": {},
     "output_type": "execute_result"
    }
   ],
   "source": [
    "instabType_predictor = TesterTemplate(\n",
    "    model_path = './models/_Epoch32_Singlelayer_For_InstabilityType_1/best_model.pth',\n",
    "    model= SingleGoogLeNet(),\n",
    "    csv_path= './input/COMP90086_2024_Project_train/train.csv',\n",
    "    img_dir= './input/COMP90086_2024_Project_train/train',\n",
    "    label_column = 'instability_type',\n",
    "    batch_size=32\n",
    "    )\n",
    "instable_pred,img_ids  = instabType_predictor.predict()\n",
    "accuracy_score(train_df['instability_type'], instable_pred)"
   ]
  },
  {
   "cell_type": "code",
   "execution_count": null,
   "id": "f014f3ea-2ba7-4fd7-865e-2203fd23c037",
   "metadata": {},
   "outputs": [],
   "source": []
  },
  {
   "cell_type": "code",
   "execution_count": null,
   "id": "c6a5453b-71ea-48fa-8a6f-d9a333e08508",
   "metadata": {},
   "outputs": [],
   "source": []
  },
  {
   "cell_type": "code",
   "execution_count": null,
   "id": "9e69aa54-6a25-4d84-903d-4d000561de82",
   "metadata": {},
   "outputs": [],
   "source": []
  },
  {
   "cell_type": "code",
   "execution_count": null,
   "id": "06d8c3a6-3e26-4e94-9781-6ff18e1ca5dc",
   "metadata": {},
   "outputs": [],
   "source": []
  },
  {
   "cell_type": "code",
   "execution_count": null,
   "id": "3fc4af8b-1ad2-4cda-b072-e32eaca2b65c",
   "metadata": {},
   "outputs": [],
   "source": []
  },
  {
   "cell_type": "code",
   "execution_count": 5,
   "id": "2a7271af-246b-4d2f-9375-5a2a387b5433",
   "metadata": {},
   "outputs": [
    {
     "name": "stderr",
     "output_type": "stream",
     "text": [
      "testing:   0%|          | 0/60 [00:00<?, ?it/s]/root/miniconda3/lib/python3.12/site-packages/torch/nn/modules/conv.py:456: UserWarning: Plan failed with a cudnnException: CUDNN_BACKEND_EXECUTION_PLAN_DESCRIPTOR: cudnnFinalize Descriptor Failed cudnn_status: CUDNN_STATUS_NOT_SUPPORTED (Triggered internally at ../aten/src/ATen/native/cudnn/Conv_v8.cpp:919.)\n",
      "  return F.conv2d(input, weight, bias, self.stride,\n",
      "testing: 100%|██████████| 60/60 [00:02<00:00, 21.97it/s]\n"
     ]
    }
   ],
   "source": [
    "stabHei_predictor = TesterTemplate(\n",
    "    model_path = './models/20241012-StableHeight-BestModel-net8-acc0666/best_model.pth',\n",
    "    model= ComplexFineTunedGoogLeNet(),\n",
    "    label_column = 'stable_height',\n",
    "    csv_path= './input/COMP90086_2024_Project_test/test.csv',\n",
    "    img_dir= './input/COMP90086_2024_Project_test/test',\n",
    "    batch_size=32\n",
    "    )\n",
    "stablehei_pred = stabHei_predictor.predict()"
   ]
  },
  {
   "cell_type": "code",
   "execution_count": 6,
   "id": "f3d74694-40b9-4935-b2ff-c0eba70a0974",
   "metadata": {},
   "outputs": [
    {
     "name": "stderr",
     "output_type": "stream",
     "text": [
      "testing: 100%|██████████| 60/60 [00:02<00:00, 25.80it/s]\n"
     ]
    }
   ],
   "source": [
    "tt_height_predictor = TesterTemplate(\n",
    "    model=ComplexFineTunedGoogLeNet(),\n",
    "    model_path='./models/20241014-TotalHeight-Classification-net8/best_model.pth',\n",
    "    csv_path= './input/COMP90086_2024_Project_test/test.csv',\n",
    "    img_dir= './input/COMP90086_2024_Project_test/test',\n",
    "    label_column = 'total_height',\n",
    "    batch_size=32  \n",
    ")\n",
    "# Use the predictor to generate predictions\n",
    "tt_test_pred = tt_height_predictor.predict()"
   ]
  },
  {
   "cell_type": "code",
   "execution_count": 7,
   "id": "e2fa8aea-93b5-4386-9f60-a9f5413eacbc",
   "metadata": {},
   "outputs": [
    {
     "name": "stderr",
     "output_type": "stream",
     "text": [
      "testing: 100%|██████████| 60/60 [00:02<00:00, 25.06it/s]\n"
     ]
    }
   ],
   "source": [
    "instabType_predictor = TesterTemplate(\n",
    "    model_path = './models/_Epoch32_Singlelayer_For_InstabilityType_1/best_model.pth',\n",
    "    model= SingleGoogLeNet(),\n",
    "    csv_path= './input/COMP90086_2024_Project_test/test.csv',\n",
    "    img_dir= './input/COMP90086_2024_Project_test/test',\n",
    "    label_column = 'instability_type',\n",
    "    batch_size=32\n",
    "    )\n",
    "instable_pred = instabType_predictor.predict()"
   ]
  },
  {
   "cell_type": "code",
   "execution_count": 8,
   "id": "40f3f8c5-83a3-44a1-998a-503a464b6608",
   "metadata": {},
   "outputs": [
    {
     "data": {
      "text/plain": [
       "(1920, 1920, 1920)"
      ]
     },
     "execution_count": 8,
     "metadata": {},
     "output_type": "execute_result"
    }
   ],
   "source": [
    "len(instable_pred), len(tt_test_pred), len(stablehei_pred)"
   ]
  },
  {
   "cell_type": "code",
   "execution_count": 9,
   "id": "b1f37df0-b315-470e-9948-d133a7f4d3bc",
   "metadata": {},
   "outputs": [
    {
     "name": "stdout",
     "output_type": "stream",
     "text": [
      "{1, 2, 3}\n"
     ]
    }
   ],
   "source": [
    "print(set(instable_pred))"
   ]
  },
  {
   "cell_type": "code",
   "execution_count": 10,
   "id": "aced0fdc-b528-4609-b167-3a8d38cd82dc",
   "metadata": {},
   "outputs": [
    {
     "name": "stdout",
     "output_type": "stream",
     "text": [
      "{2, 3, 4, 5, 6}\n"
     ]
    }
   ],
   "source": [
    "print(set(tt_test_pred))"
   ]
  },
  {
   "cell_type": "code",
   "execution_count": 11,
   "id": "8fe40035-6eeb-422d-9755-afe420940d6a",
   "metadata": {},
   "outputs": [
    {
     "name": "stdout",
     "output_type": "stream",
     "text": [
      "{1, 2, 3, 4, 5, 6}\n"
     ]
    }
   ],
   "source": [
    "print(set(stablehei_pred))"
   ]
  },
  {
   "cell_type": "code",
   "execution_count": 12,
   "id": "43ff37f9-dd52-4af7-8947-9cdaac94402d",
   "metadata": {},
   "outputs": [],
   "source": [
    "combined_test = []\n",
    "for idx in range(len(instable_pred)):\n",
    "    if instable_pred[idx] == 1:\n",
    "        combined_test.append(tt_test_pred[idx])\n",
    "    else:\n",
    "        combined_test.append(stablehei_pred[idx])"
   ]
  },
  {
   "cell_type": "code",
   "execution_count": 13,
   "id": "ba410b92-9541-4e2e-805f-dacc13637033",
   "metadata": {},
   "outputs": [
    {
     "data": {
      "text/html": [
       "<div>\n",
       "<style scoped>\n",
       "    .dataframe tbody tr th:only-of-type {\n",
       "        vertical-align: middle;\n",
       "    }\n",
       "\n",
       "    .dataframe tbody tr th {\n",
       "        vertical-align: top;\n",
       "    }\n",
       "\n",
       "    .dataframe thead th {\n",
       "        text-align: right;\n",
       "    }\n",
       "</style>\n",
       "<table border=\"1\" class=\"dataframe\">\n",
       "  <thead>\n",
       "    <tr style=\"text-align: right;\">\n",
       "      <th></th>\n",
       "      <th>id</th>\n",
       "    </tr>\n",
       "  </thead>\n",
       "  <tbody>\n",
       "    <tr>\n",
       "      <th>0</th>\n",
       "      <td>95</td>\n",
       "    </tr>\n",
       "    <tr>\n",
       "      <th>1</th>\n",
       "      <td>706</td>\n",
       "    </tr>\n",
       "    <tr>\n",
       "      <th>2</th>\n",
       "      <td>2854</td>\n",
       "    </tr>\n",
       "    <tr>\n",
       "      <th>3</th>\n",
       "      <td>3093</td>\n",
       "    </tr>\n",
       "    <tr>\n",
       "      <th>4</th>\n",
       "      <td>4283</td>\n",
       "    </tr>\n",
       "  </tbody>\n",
       "</table>\n",
       "</div>"
      ],
      "text/plain": [
       "     id\n",
       "0    95\n",
       "1   706\n",
       "2  2854\n",
       "3  3093\n",
       "4  4283"
      ]
     },
     "execution_count": 13,
     "metadata": {},
     "output_type": "execute_result"
    }
   ],
   "source": [
    "test_df = pd.read_csv('./input/COMP90086_2024_Project_test/test.csv')\n",
    "test_df.head()"
   ]
  },
  {
   "cell_type": "code",
   "execution_count": 14,
   "id": "ab7174ca-edea-4a7a-bdfb-d9ea924a70e3",
   "metadata": {},
   "outputs": [
    {
     "data": {
      "text/html": [
       "<div>\n",
       "<style scoped>\n",
       "    .dataframe tbody tr th:only-of-type {\n",
       "        vertical-align: middle;\n",
       "    }\n",
       "\n",
       "    .dataframe tbody tr th {\n",
       "        vertical-align: top;\n",
       "    }\n",
       "\n",
       "    .dataframe thead th {\n",
       "        text-align: right;\n",
       "    }\n",
       "</style>\n",
       "<table border=\"1\" class=\"dataframe\">\n",
       "  <thead>\n",
       "    <tr style=\"text-align: right;\">\n",
       "      <th></th>\n",
       "      <th>id</th>\n",
       "      <th>stable_height</th>\n",
       "    </tr>\n",
       "  </thead>\n",
       "  <tbody>\n",
       "    <tr>\n",
       "      <th>0</th>\n",
       "      <td>95</td>\n",
       "      <td>5</td>\n",
       "    </tr>\n",
       "    <tr>\n",
       "      <th>1</th>\n",
       "      <td>706</td>\n",
       "      <td>2</td>\n",
       "    </tr>\n",
       "    <tr>\n",
       "      <th>2</th>\n",
       "      <td>2854</td>\n",
       "      <td>1</td>\n",
       "    </tr>\n",
       "    <tr>\n",
       "      <th>3</th>\n",
       "      <td>3093</td>\n",
       "      <td>3</td>\n",
       "    </tr>\n",
       "    <tr>\n",
       "      <th>4</th>\n",
       "      <td>4283</td>\n",
       "      <td>2</td>\n",
       "    </tr>\n",
       "  </tbody>\n",
       "</table>\n",
       "</div>"
      ],
      "text/plain": [
       "     id  stable_height\n",
       "0    95              5\n",
       "1   706              2\n",
       "2  2854              1\n",
       "3  3093              3\n",
       "4  4283              2"
      ]
     },
     "execution_count": 14,
     "metadata": {},
     "output_type": "execute_result"
    }
   ],
   "source": [
    "test_df['stable_height'] = combined_test\n",
    "test_df.reset_index(drop=True)\n",
    "test_df.head()"
   ]
  },
  {
   "cell_type": "code",
   "execution_count": 15,
   "id": "219def58-07ce-45f4-a671-e918b072838a",
   "metadata": {},
   "outputs": [],
   "source": [
    "test_df.to_csv('twostepprediction.csv', index=False)"
   ]
  },
  {
   "cell_type": "code",
   "execution_count": null,
   "id": "3add2252-5e89-441c-8d0e-e9f4768b58fb",
   "metadata": {},
   "outputs": [],
   "source": []
  }
 ],
 "metadata": {
  "kernelspec": {
   "display_name": "Python 3 (ipykernel)",
   "language": "python",
   "name": "python3"
  },
  "language_info": {
   "codemirror_mode": {
    "name": "ipython",
    "version": 3
   },
   "file_extension": ".py",
   "mimetype": "text/x-python",
   "name": "python",
   "nbconvert_exporter": "python",
   "pygments_lexer": "ipython3",
   "version": "3.12.3"
  }
 },
 "nbformat": 4,
 "nbformat_minor": 5
}
