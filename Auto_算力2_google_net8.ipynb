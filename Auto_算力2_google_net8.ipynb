{
 "cells": [
  {
   "cell_type": "code",
   "execution_count": 19,
   "metadata": {
    "id": "HWaiSBwEkz8V"
   },
   "outputs": [],
   "source": [
    "import os\n",
    "import pandas as pd\n",
    "import numpy as np\n",
    "from datetime import datetime as datatime\n",
    "from pathlib import Path\n",
    "import torch\n",
    "import torch.nn as nn\n",
    "from PIL import Image\n",
    "# import torch.optim as optim\n",
    "from torchvision import transforms\n",
    "from torchvision import models\n",
    "from torch.optim.lr_scheduler import StepLR\n",
    "\n",
    "from torch.utils.data import Dataset\n",
    "from torch.utils.data import DataLoader\n",
    "from torch.utils.tensorboard import SummaryWriter\n",
    "\n",
    "from sklearn.model_selection import train_test_split\n",
    "from sklearn.metrics import accuracy_score,f1_score,precision_score,recall_score,confusion_matrix,classification_report\n",
    "from sklearn.model_selection import StratifiedShuffleSplit\n",
    "from sklearn.model_selection import train_test_split\n",
    "from sklearn.utils import resample\n",
    "from imblearn.over_sampling import SMOTE, ADASYN, RandomOverSampler\n",
    "\n",
    "from tqdm import tqdm\n"
   ]
  },
  {
   "cell_type": "code",
   "execution_count": 20,
   "metadata": {},
   "outputs": [
    {
     "name": "stdout",
     "output_type": "stream",
     "text": [
      "Files extracted to COMP90086_2024_Project_train\n",
      "Files extracted to COMP90086_2024_Project_test\n"
     ]
    }
   ],
   "source": [
    "# import zipfile\n",
    "# import os\n",
    "\n",
    "# # 要解压的 zip 文件路径\n",
    "# train_zip = ('./COMP90086_2024_Project_train.zip')\n",
    "# test_zip = ('./COMP90086_2024_Project_test.zip')\n",
    "\n",
    "# # 解压后的目标文件夹（如果不存在则创建）\n",
    "# train_folder = 'COMP90086_2024_Project_train'\n",
    "# os.makedirs(train_folder, exist_ok=True)\n",
    "# test_folder = 'COMP90086_2024_Project_test'\n",
    "# os.makedirs(test_folder, exist_ok=True)\n",
    "\n",
    "# # 打开并解压 zip 文件\n",
    "\n",
    "# with zipfile.ZipFile(train_zip, 'r') as zip_ref:\n",
    "#     zip_ref.extractall(train_folder)\n",
    "\n",
    "# with zipfile.ZipFile(test_zip, 'r') as zip_ref:\n",
    "#     zip_ref.extractall(test_folder)\n",
    "    \n",
    "# print(f\"Files extracted to {train_folder}\")\n",
    "# print(f\"Files extracted to {test_folder}\")"
   ]
  },
  {
   "cell_type": "code",
   "execution_count": 21,
   "metadata": {},
   "outputs": [],
   "source": [
    "csv_path = './COMP90086_2024_Project_train/train.csv'\n",
    "img_dir = './COMP90086_2024_Project_train/train'"
   ]
  },
  {
   "cell_type": "markdown",
   "metadata": {
    "id": "k25H8iyjtQzN"
   },
   "source": [
    "## The data set file path is defined here."
   ]
  },
  {
   "cell_type": "code",
   "execution_count": 22,
   "metadata": {
    "id": "vwhixF45mZlT"
   },
   "outputs": [],
   "source": [
    "import os\n",
    "import pandas as pd\n",
    "import torch\n",
    "from torch.utils.data import Dataset\n",
    "from torchvision import transforms\n",
    "from PIL import Image\n",
    "\n",
    "'''\n",
    "In this function block, the funciton is defined to do\n",
    "1. def__init__() : get the image from the trainning data path\n",
    "2. def __len__() : get the size of hte dataset\n",
    "3. def __getitem__() : get the ralated image the correct dataset\n",
    "'''\n",
    "class BlockStackDataset(Dataset):\n",
    "  '''\n",
    "  Return the image and its label. If not access or not exist, raise error.\n",
    "  '''\n",
    "  def __init__(self, data_frame, img_dir, transform = None):\n",
    "    self.data_frame = data_frame\n",
    "    self.img_dir = img_dir\n",
    "    self.transform = transform\n",
    "\n",
    "    if not os.path.exists(self.img_dir):\n",
    "      raise ValueError(f\"File path {self.img_dir} not exisits!\")\n",
    "    if not os.access(self.img_dir, os.R_OK):\n",
    "      raise ValueError(f\"File path {self.img_dir} is not readable!\")\n",
    "  '''\n",
    "  Return the size of the dataset\n",
    "  '''\n",
    "  def __len__(self):\n",
    "    return len(self.data_frame)\n",
    "\n",
    "  '''\n",
    "  Read the image and according to its id, get the related data in the train.csv.\n",
    "\n",
    "  Then return the corresponding image , stable_height, instability_type dataset provided.\n",
    "  '''\n",
    "  def __getitem__(self, idx):\n",
    "    img_name = os.path.join(self.img_dir, str(self.data_frame.iloc[idx, 0])) # the first column in the train == image name\n",
    "    image = Image.open(img_name + \".jpg\")\n",
    "    label = self.data_frame.iloc[idx,-1] # stable_height/instability_type\n",
    "    # print(\"image id: \", self.data_frame.iloc[idx,0])\n",
    "    # print(\"Whole line: \", self.data_frame.iloc[idx,:].tolist())\n",
    "\n",
    "    if self.transform:\n",
    "      image = self.transform(image)\n",
    "\n",
    "    return image, label\n",
    "\n"
   ]
  },
  {
   "cell_type": "code",
   "execution_count": 23,
   "metadata": {},
   "outputs": [],
   "source": [
    "class FineTunedGoogLeNet(nn.Module):\n",
    "    def __init__(self):\n",
    "        super(FineTunedGoogLeNet, self).__init__()\n",
    "        # load the pre-trained model: gogglenet\n",
    "        self.googlenet = models.googlenet(weights = models.GoogLeNet_Weights.IMAGENET1K_V1)\n",
    "\n",
    "        num_ftrs = self.googlenet.fc.in_features\n",
    "        self.googlenet.fc = nn.Identity()\n",
    "\n",
    "        self.fc = nn.Sequential(        \n",
    "            nn.Linear(num_ftrs, 256),\n",
    "            nn.BatchNorm1d(256),  # 添加 Batch Normalization\n",
    "           # nn.LeakyReLU(negative_slope=0.01),\n",
    "            nn.ReLU(),\n",
    "            nn.Dropout(0.25),\n",
    "            \n",
    "            nn.Linear(256, 128),\n",
    "            nn.BatchNorm1d(128),  # 添加 Batch Normalization\n",
    "        #    nn.LeakyReLU(negative_slope=0.01),\n",
    "            nn.ReLU(),\n",
    "            nn.Dropout(0.25),\n",
    "            \n",
    "            nn.Linear(128, 6)\n",
    "\n",
    "        )\n",
    "    def forward(self, x):\n",
    "      x = self.googlenet(x)\n",
    "      x = self.fc(x)\n",
    "      return x"
   ]
  },
  {
   "cell_type": "code",
   "execution_count": 24,
   "metadata": {},
   "outputs": [
    {
     "data": {
      "text/html": [
       "<div>\n",
       "<style scoped>\n",
       "    .dataframe tbody tr th:only-of-type {\n",
       "        vertical-align: middle;\n",
       "    }\n",
       "\n",
       "    .dataframe tbody tr th {\n",
       "        vertical-align: top;\n",
       "    }\n",
       "\n",
       "    .dataframe thead th {\n",
       "        text-align: right;\n",
       "    }\n",
       "</style>\n",
       "<table border=\"1\" class=\"dataframe\">\n",
       "  <thead>\n",
       "    <tr style=\"text-align: right;\">\n",
       "      <th></th>\n",
       "      <th>id</th>\n",
       "      <th>shapeset</th>\n",
       "      <th>type</th>\n",
       "      <th>total_height</th>\n",
       "      <th>instability_type</th>\n",
       "      <th>cam_angle</th>\n",
       "      <th>stable_height</th>\n",
       "    </tr>\n",
       "  </thead>\n",
       "  <tbody>\n",
       "    <tr>\n",
       "      <th>0</th>\n",
       "      <td>54</td>\n",
       "      <td>2</td>\n",
       "      <td>1</td>\n",
       "      <td>3</td>\n",
       "      <td>1</td>\n",
       "      <td>1</td>\n",
       "      <td>2</td>\n",
       "    </tr>\n",
       "    <tr>\n",
       "      <th>1</th>\n",
       "      <td>173</td>\n",
       "      <td>1</td>\n",
       "      <td>1</td>\n",
       "      <td>4</td>\n",
       "      <td>1</td>\n",
       "      <td>2</td>\n",
       "      <td>1</td>\n",
       "    </tr>\n",
       "    <tr>\n",
       "      <th>2</th>\n",
       "      <td>245</td>\n",
       "      <td>1</td>\n",
       "      <td>1</td>\n",
       "      <td>4</td>\n",
       "      <td>1</td>\n",
       "      <td>2</td>\n",
       "      <td>1</td>\n",
       "    </tr>\n",
       "    <tr>\n",
       "      <th>3</th>\n",
       "      <td>465</td>\n",
       "      <td>2</td>\n",
       "      <td>1</td>\n",
       "      <td>5</td>\n",
       "      <td>0</td>\n",
       "      <td>1</td>\n",
       "      <td>5</td>\n",
       "    </tr>\n",
       "    <tr>\n",
       "      <th>4</th>\n",
       "      <td>611</td>\n",
       "      <td>2</td>\n",
       "      <td>1</td>\n",
       "      <td>3</td>\n",
       "      <td>1</td>\n",
       "      <td>1</td>\n",
       "      <td>1</td>\n",
       "    </tr>\n",
       "  </tbody>\n",
       "</table>\n",
       "</div>"
      ],
      "text/plain": [
       "    id  shapeset  type  total_height  instability_type  cam_angle  \\\n",
       "0   54         2     1             3                 1          1   \n",
       "1  173         1     1             4                 1          2   \n",
       "2  245         1     1             4                 1          2   \n",
       "3  465         2     1             5                 0          1   \n",
       "4  611         2     1             3                 1          1   \n",
       "\n",
       "   stable_height  \n",
       "0              2  \n",
       "1              1  \n",
       "2              1  \n",
       "3              5  \n",
       "4              1  "
      ]
     },
     "execution_count": 24,
     "metadata": {},
     "output_type": "execute_result"
    }
   ],
   "source": [
    "df = pd.read_csv('./COMP90086_2024_Project_train/train.csv')\n",
    "df.head()"
   ]
  },
  {
   "cell_type": "markdown",
   "metadata": {
    "id": "2GACK9K_uPnV"
   },
   "source": [
    "## Trainner"
   ]
  },
  {
   "cell_type": "code",
   "execution_count": 25,
   "metadata": {
    "id": "NfTZbRKSxh2C"
   },
   "outputs": [],
   "source": [
    "'''\n",
    "The function here helps to create the logs recording the experiment results.\n",
    "'''\n",
    "def create_log_dir():\n",
    "  current_time = datatime.now().strftime(\"%Y%m%d-%H%M%S\")\n",
    "  # log_dir = f'/content/drive/MyDrive/CV final project/runs/experiment_{current_time}'\n",
    "  # solution_dir = f'/content/drive/MyDrive/CV final project/trained_models/experiment_{current_time}'\n",
    "\n",
    "  log_dir = f'./runs/experiment_{current_time}'\n",
    "  solution_dir = f'./runs/experiment_{current_time}'\n",
    "  if not os.path.exists(log_dir):\n",
    "    os.makedirs(log_dir)\n",
    "\n",
    "  if not os.path.exists(solution_dir):\n",
    "    os.makedirs(solution_dir)\n",
    "\n",
    "  return log_dir, solution_dir\n"
   ]
  },
  {
   "cell_type": "code",
   "execution_count": 26,
   "metadata": {
    "id": "7ox5LZ7Aage0"
   },
   "outputs": [],
   "source": [
    "\n",
    "# Define models: googlenet\n",
    "\n",
    "# class TunnedBlockStackNet8(nn.Module):\n",
    "#     def __init__(self):\n",
    "#         super(TunnedBlockStackNet8, self).__init__()\n",
    "#         # load the pre-trained model: gogglenet\n",
    "#         self.googlenet = models.googlenet(weights = models.GoogLeNet_Weights.IMAGENET1K_V1)\n",
    "\n",
    "#         num_ftrs = self.googlenet.fc.in_features\n",
    "#         self.googlenet.fc = nn.Identity()\n",
    "\n",
    "#         self.fc = nn.Sequential(\n",
    "#             nn.Linear(num_ftrs, 256),\n",
    "#             nn.ReLU(),\n",
    "#             nn.Dropout(0.25),\n",
    "#             nn.Linear(256, 128),\n",
    "#             nn.ReLU(),\n",
    "#             nn.Dropout(0.25),\n",
    "#             nn.Linear(128, 6)\n",
    "\n",
    "#         )\n",
    "#     def forward(self, x):\n",
    "#       x = self.googlenet(x)\n",
    "#       x = self.fc(x)\n",
    "#       return x"
   ]
  },
  {
   "cell_type": "code",
   "execution_count": null,
   "metadata": {},
   "outputs": [],
   "source": []
  },
  {
   "cell_type": "code",
   "execution_count": 27,
   "metadata": {
    "id": "R3ipvbupjF6v"
   },
   "outputs": [],
   "source": [
    "class ClassificationBlockStackTrainer1:\n",
    "  '''\n",
    "  The function here helps to initalize the parameters used in the models and pre-process the image\n",
    "  '''\n",
    "  def __init__(self, csv_path, img_dir, model, stratify_column='stable_height', test_size=0.2,\n",
    "                 batch_size=32, num_epochs=10, learning_rate=0.001,random_state=42):\n",
    "        self.img_dir = img_dir\n",
    "        self.stratify_column = stratify_column\n",
    "        self.test_size = test_size\n",
    "        self.batch_size = batch_size\n",
    "        self.num_epochs = num_epochs\n",
    "        self.learning_rate = learning_rate\n",
    "        self.model = model\n",
    "\n",
    "        # load the train dataset\n",
    "        self.data_frame = pd.read_csv(csv_path)\n",
    "\n",
    "        # split data into train and validation dataset\n",
    "        self.train_data, self.val_data, self.train_ids, self.valid_ids = self.split_dataset()\n",
    "        self.dynamic_train = self.train_data.copy()\n",
    "\n",
    "       # self.train_data = self.dynamic_oversamp(self.train_data)\n",
    "\n",
    "        # pre-processing the images\n",
    "        self.transform = transforms.Compose([\n",
    "            # transforms.Resize((512, 512)),\n",
    "\n",
    "              #ADD MORE TRANSFORM METHODS HERE\n",
    "\n",
    "            transforms.RandomHorizontalFlip(),## ADDDED\n",
    "            transforms.RandomAffine(degrees=0, translate=(0.1, 0.1), scale=(0.9, 1.1)), ## ADDDED\n",
    "            transforms.ColorJitter(brightness=0.4, contrast=0.4, saturation=0.4, hue=0.2),## ADDDED\n",
    "            transforms.ToTensor(),\n",
    "            transforms.Normalize(mean=[0.485, 0.456, 0.406], std=[0.229, 0.224, 0.225])\n",
    "        ])\n",
    "\n",
    "\n",
    "        self.train_loader = self.create_dataloader(self.train_data, self.transform)\n",
    "        self.val_loader = self.create_dataloader(self.val_data, self.transform, shuffle=False)\n",
    "\n",
    "\n",
    "        # use the gpu\n",
    "        self.device = torch.device(\"cuda:0\" if torch.cuda.is_available() else \"cpu\")\n",
    "        self.model.to(self.device)\n",
    "\n",
    "        # set the loss weight\n",
    "        '''\n",
    "        Changed some thing here : to see the results\n",
    "        1. add the class_weights to each class labels with different weights,\n",
    "           more lables occurece with lower weight, few label occurence with higher weight;\n",
    "           without the weights, all the labels will be treated equally.\n",
    "\n",
    "        2. used to apply L2 regularization (also called weight decay).\n",
    "        The primary purpose of weight decay is to prevent overfitting by penalizing large weights.\n",
    "         It adds a penalty to the loss function based on the size of the weights\n",
    "         helps it generalize better to unseen data.\n",
    "         Lnew = Lold + weight_decay * sum(weight^2)\n",
    "\n",
    "        3. add scheduler to Reduces the learning rate after every step_size epochs.\n",
    "          After every 4 epochs, the learning rate will be multiplied by gamma (0.1 here), reducing it by 90%.\n",
    "        '''\n",
    "        class_weights = torch.tensor([100/25 , 100/25, 100/20,  100/15, 100/10,  100/5], device= self.device)\n",
    "        self.criterion = nn.CrossEntropyLoss(weight=class_weights) # CrossEntropy for multi categorical-label predication\n",
    "        self.criterion = nn.CrossEntropyLoss()\n",
    "        self.optimizer = optim.Adam(self.model.parameters(), lr=self.learning_rate , weight_decay=0.0001)\n",
    "        self.scheduler = optim.lr_scheduler.StepLR(self.optimizer, step_size = 15, gamma=0.1)\n",
    "\n",
    "\n",
    "  def dynamic_oversamp(self, train_df, epoch):\n",
    "    if epoch % 3 == 0:\n",
    "        over_random = 333\n",
    "    elif epoch % 3 == 1:\n",
    "        over_random = 111\n",
    "    else:\n",
    "        over_random = 222\n",
    "        \n",
    "    hard_df = self.train_data[(train_df['type']==2) &\n",
    "                              (train_df['instability_type']==0)]\n",
    "\n",
    "    oversample_hard = resample(hard_df,replace=True,n_samples=500, random_state = over_random)\n",
    "\n",
    "    hard_df2 = self.train_data[(train_df['type']==2) &\n",
    "                              (train_df['instability_type']==1)]\n",
    "    oversample_hard2 = resample(hard_df2,replace=True,n_samples=500, random_state = over_random)\n",
    "\n",
    "    hard_df3 = self.train_data[(train_df['type']==2) &\n",
    "                              (train_df['instability_type']==2)]\n",
    "\n",
    "    oversample_hard3 = resample(hard_df3,replace=True,n_samples=200, random_state = over_random)\n",
    "    \n",
    "    conca_df = pd.concat([train_df,oversample_hard,oversample_hard2, oversample_hard3])\n",
    "   # self.train_data = conca_df\n",
    "    # 打乱顺序\n",
    "    conca_df = conca_df.sample(frac=1)\n",
    "    print(conca_df['stable_height'].value_counts())\n",
    "    return conca_df\n",
    "        \n",
    "  '''\n",
    "  The function helps to split the data set into the training and validation dataset according to the\n",
    "  size pre-determined.\n",
    "  '''\n",
    "\n",
    "  def split_dataset(self):\n",
    "    split = StratifiedShuffleSplit(n_splits=1, test_size=self.test_size, random_state=42)\n",
    "    train_ids = []\n",
    "    valid_ids = []\n",
    "    for train_idx, val_idx in split.split(self.data_frame, self.data_frame[self.stratify_column]):\n",
    "      train_data = self.data_frame.iloc[train_idx]\n",
    "      val_data = self.data_frame.iloc[val_idx]\n",
    "      train_ids.append(train_idx)\n",
    "      valid_ids.append(val_idx)\n",
    "    print(f\"Train dataset size: {len(train_data)}\",\n",
    "       f\"Validation dataset size: {len(val_data)}\",\n",
    "       f\"length of train_ids{(len(train_ids))}\",\n",
    "       f\"length of valid_ids{(len(valid_ids))}\")\n",
    "    return train_data, val_data, train_ids, valid_ids\n",
    "\n",
    "\n",
    "  '''\n",
    "  The function helps to loda the image\n",
    "  '''\n",
    "  def create_dataloader(self, data_frame, transform, shuffle=True):\n",
    "    dataset = BlockStackDataset(data_frame, self.img_dir, transform=transform) # transform 可以用来数据增强\n",
    "    return DataLoader(dataset, batch_size=self.batch_size, shuffle=shuffle)\n",
    "\n",
    "\n",
    "  def generate_classification_report(self, outputs, labels):\n",
    "    predicted = outputs # 'outputs' is already a numpy array after prediction\n",
    "    labels = labels\n",
    "    print(classification_report(labels, predicted, zero_division=0))\n",
    "\n",
    "\n",
    "\n",
    "  def calculate_confusion_matrix(self, outputs, labels):\n",
    "    predicted = outputs\n",
    "    labels = labels\n",
    "    matrix = confusion_matrix(labels, predicted)\n",
    "    print(matrix)\n",
    "\n",
    "\n",
    "  def validate(self):\n",
    "    self.model.eval()\n",
    "    val_loss = 0.0\n",
    "    correct_predictions = 0\n",
    "    total_samples = 0\n",
    "    all_labels = []  # add all the lables\n",
    "    all_predictions = []  # add all the prediction\n",
    "\n",
    "    with torch.no_grad():\n",
    "        for inputs, labels in self.val_loader:\n",
    "            inputs, labels = inputs.to(self.device), labels.to(self.device).long()\n",
    "            labels = labels - 1\n",
    "            outputs = self.model(inputs)\n",
    "            predicted = torch.argmax(outputs, 1)\n",
    "\n",
    "            # collecting all the lables and predictions\n",
    "            all_labels.extend(labels.cpu().numpy())\n",
    "            all_predictions.extend(predicted.cpu().numpy())\n",
    "\n",
    "            # calculate the loss\n",
    "            loss = self.criterion(outputs, labels)\n",
    "            val_loss += loss.item()\n",
    "\n",
    "            # calculate the correct predication\n",
    "            correct_predictions += (predicted == labels).sum().item()\n",
    "            total_samples += labels.size(0)\n",
    "\n",
    "    # calculate the accuracy rate\n",
    "    val_accuracy = correct_predictions / total_samples\n",
    "    self.generate_classification_report(np.array(all_predictions), np.array(all_labels))\n",
    "    self.calculate_confusion_matrix(np.array(all_predictions), np.array(all_labels))\n",
    "    return val_loss/len(self.val_loader),val_accuracy, all_labels, all_predictions\n",
    "\n",
    "\n",
    "  '''\n",
    "  The function here is used as the main training function on the image by using the pre-definned models in\n",
    "  hte first model class.\n",
    "  '''\n",
    "\n",
    "  def train(self):\n",
    "      _, solution_dir = create_log_dir()\n",
    "\n",
    "      best_val_accuracy = 0.0\n",
    "      for epoch in range(self.num_epochs):\n",
    "          self.model.train()\n",
    "          running_loss = 0.0\n",
    "          running_accuracy = 0.0\n",
    "          self.dynamic_train = self.dynamic_oversamp(self.train_data, epoch)\n",
    "          self.train_loader = self.create_dataloader(self.dynamic_train, self.transform)\n",
    "\n",
    "          # monitor the process\n",
    "          with tqdm(self.train_loader, unit=\"batch\") as tepoch:\n",
    "              tepoch.set_description(f\"Epoch {epoch + 1}/{self.num_epochs}\")\n",
    "\n",
    "              for inputs, labels in tepoch:\n",
    "                  inputs, labels = inputs.to(self.device), labels.to(self.device).long()\n",
    "                  labels = labels - 1\n",
    "\n",
    "                  #forward propagation\n",
    "                  self.optimizer.zero_grad()\n",
    "                  raw_outputs = self.model(inputs)\n",
    "                  loss = self.criterion(raw_outputs, labels)  # loss calculation\n",
    "\n",
    "                  loss.backward()  # backward propagation\n",
    "                  self.optimizer.step()\n",
    "\n",
    "                  #Loss calculating\n",
    "                  running_loss += loss.item()\n",
    "                  _, predicted = torch.max(raw_outputs, 1)\n",
    "                  accuracy = (predicted == labels).sum().item()/ labels.size(0)\n",
    "                  running_accuracy += accuracy\n",
    "                  tepoch.set_postfix(loss=running_loss / len(self.train_loader),\n",
    "                            accuracy=running_accuracy / len(self.train_loader))\n",
    "\n",
    "\n",
    "\n",
    "          self.scheduler.step()\n",
    "          print(self.scheduler.get_last_lr())\n",
    "\n",
    "\n",
    "          val_loss,val_accuracy, all_labels, all_predictions = self.validate()\n",
    "          print(f\"Epoch {epoch + 1}/{self.num_epochs}, Validation Loss: {val_loss:.4f}, Validation Accuracy: {val_accuracy:.4f}\")\n",
    "\n",
    "          if val_accuracy > best_val_accuracy:\n",
    "              best_val_accuracy = val_accuracy\n",
    "              torch.save(self.model.state_dict(), f'{solution_dir}/best_model.pth')\n",
    "              current_time = datatime.now().strftime(\"%Y%m%d-%H%M\")\n",
    "              print('Best model saved!', current_time)\n",
    "\n",
    "      print('Finished Training')\n",
    "      print(f'Best validation accuracy: {best_val_accuracy:.4f}')\n",
    "\n"
   ]
  },
  {
   "cell_type": "code",
   "execution_count": 28,
   "metadata": {},
   "outputs": [],
   "source": [
    "csv_path = './COMP90086_2024_Project_train/train.csv'\n",
    "img_dir = './COMP90086_2024_Project_train/train'"
   ]
  },
  {
   "cell_type": "code",
   "execution_count": 29,
   "metadata": {},
   "outputs": [],
   "source": [
    "class ContinueTrainer:\n",
    "  '''\n",
    "  The function here helps to initalize the parameters used in the models and pre-process the image\n",
    "  '''\n",
    "  def __init__(self, model_path, model, \n",
    "                csv_path, img_dir, \n",
    "                stratify_column='stable_height', \n",
    "                test_size=0.2,\n",
    "                batch_size=32, num_epochs=10, learning_rate=0.001 ,random_state=42):\n",
    "        self.img_dir = img_dir\n",
    "        self.stratify_column = stratify_column\n",
    "        self.test_size = test_size\n",
    "        self.batch_size = batch_size\n",
    "        self.num_epochs = num_epochs\n",
    "        self.learning_rate = learning_rate\n",
    "\n",
    "        self.model = model\n",
    "        self.model_path = model_path\n",
    "        \n",
    "        self.device = torch.device('cuda' if torch.cuda.is_available() else 'cpu')\n",
    "        self.model.to(self.device)\n",
    "        self.model = self.load_model()\n",
    "\n",
    "        # load the train dataset\n",
    "        self.data_frame = pd.read_csv(csv_path)\n",
    "\n",
    "        # split data into train and validation dataset\n",
    "        self.train_data, self.val_data, self.train_ids, self.valid_ids = self.split_dataset()\n",
    "\n",
    "        hard_df = self.train_data[(self.train_data['type']==2) &\n",
    "                                  (self.train_data['instability_type']==0)]\n",
    "\n",
    "        oversample_hard = resample(hard_df,replace=True,n_samples=500,random_state=2)\n",
    "\n",
    "        # hard_df2 = self.train_data[(self.train_data['type']==2) &\n",
    "        #                           (self.train_data['instability_type']==1)]\n",
    "        # oversample_hard2 = resample(hard_df2,replace=True,n_samples=300, random_state=1)\n",
    "\n",
    "        # hard_df3 = self.train_data[(self.train_data['type']==2) &\n",
    "        #                           (self.train_data['instability_type']==2)]\n",
    "        # oversample_hard3 = resample(hard_df3,replace=True,n_samples=50,random_state=2)\n",
    "\n",
    "        # simple_1_df = self.train_data[(self.train_data['type']==1) &\n",
    "        #                                 (self.train_data['instability_type']==1)]\n",
    "        # oversample_simpe1 = resample(simple_1_df,replace=True,n_samples=100, random_state=1)\n",
    "\n",
    "        conca_df = pd.concat([self.train_data,oversample_hard\n",
    "                        #      ,oversample_hard2, oversample_hard3,oversample_simpe1\n",
    "                             ])\n",
    "       # self.train_data = conca_df\n",
    "        # 打乱顺序\n",
    "        self.train_data = conca_df.sample(frac=1)\n",
    "\n",
    "        # pre-processing the images\n",
    "        self.transform = transforms.Compose([\n",
    "            # transforms.Resize((512, 512)),\n",
    "\n",
    "              #ADD MORE TRANSFORM METHODS HERE\n",
    "\n",
    "            transforms.RandomHorizontalFlip(),## ADDDED\n",
    "            transforms.RandomAffine(degrees=0, translate=(0.1, 0.1), scale=(0.9, 1.1)), ## ADDDED\n",
    "            transforms.ColorJitter(brightness=0.4, contrast=0.4, saturation=0.4, hue=0.2),## ADDDED\n",
    "            transforms.ToTensor(),\n",
    "            transforms.Normalize(mean=[0.485, 0.456, 0.406], std=[0.229, 0.224, 0.225])\n",
    "        ])\n",
    "\n",
    "\n",
    "        self.train_loader = self.create_dataloader(self.train_data, self.transform)\n",
    "        self.val_loader = self.create_dataloader(self.val_data, self.transform, shuffle=False)\n",
    "\n",
    "\n",
    "        # set the loss weight\n",
    "        '''\n",
    "        Changed some thing here : to see the results\n",
    "        1. add the class_weights to each class labels with different weights,\n",
    "           more lables occurece with lower weight, few label occurence with higher weight;\n",
    "           without the weights, all the labels will be treated equally.\n",
    "\n",
    "        2. used to apply L2 regularization (also called weight decay).\n",
    "        The primary purpose of weight decay is to prevent overfitting by penalizing large weights.\n",
    "         It adds a penalty to the loss function based on the size of the weights\n",
    "         helps it generalize better to unseen data.\n",
    "         Lnew = Lold + weight_decay * sum(weight^2)\n",
    "\n",
    "        3. add scheduler to Reduces the learning rate after every step_size epochs.\n",
    "          After every 4 epochs, the learning rate will be multiplied by gamma (0.1 here), reducing it by 90%.\n",
    "        '''\n",
    "        class_weights = torch.tensor([100/25 , 100/25, 100/20,  100/15, 100/10,  100/5], device= self.device)\n",
    "        self.criterion = nn.CrossEntropyLoss(weight=class_weights) # CrossEntropy for multi categorical-label predication\n",
    "        self.criterion = nn.CrossEntropyLoss()\n",
    "        self.optimizer = optim.Adam(self.model.parameters(), lr=self.learning_rate , weight_decay=0.0001)\n",
    "        self.scheduler = optim.lr_scheduler.StepLR(self.optimizer, step_size = 10, gamma=0.15)\n",
    "\n",
    "  def load_model(self):\n",
    "    self.model.load_state_dict(torch.load(self.model_path, map_location=self.device))\n",
    "    return self.model\n",
    "\n",
    "  '''\n",
    "  The function helps to split the data set into the training and validation dataset according to the\n",
    "  size pre-determined.\n",
    "  '''\n",
    "\n",
    "  def split_dataset(self):\n",
    "    split = StratifiedShuffleSplit(n_splits=1, test_size=self.test_size, random_state=42)\n",
    "    train_ids = []\n",
    "    valid_ids = []\n",
    "    for train_idx, val_idx in split.split(self.data_frame, self.data_frame[self.stratify_column]):\n",
    "      train_data = self.data_frame.iloc[train_idx]\n",
    "      val_data = self.data_frame.iloc[val_idx]\n",
    "      train_ids.append(train_idx)\n",
    "      valid_ids.append(val_idx)\n",
    "    print(f\"Train dataset size: {len(train_data)}\",\n",
    "       f\"Validation dataset size: {len(val_data)}\",\n",
    "       f\"length of train_ids{(len(train_ids))}\",\n",
    "       f\"length of valid_ids{(len(valid_ids))}\")\n",
    "    return train_data, val_data, train_ids, valid_ids\n",
    "\n",
    "\n",
    "  '''\n",
    "  The function helps to loda the image\n",
    "  '''\n",
    "  def create_dataloader(self, data_frame, transform, shuffle=True):\n",
    "    dataset = BlockStackDataset(data_frame, self.img_dir, transform=transform) # transform 可以用来数据增强\n",
    "    return DataLoader(dataset, batch_size=self.batch_size, shuffle=shuffle)\n",
    "\n",
    "\n",
    "  def generate_classification_report(self, outputs, labels):\n",
    "    predicted = outputs # 'outputs' is already a numpy array after prediction\n",
    "    labels = labels\n",
    "    print(classification_report(labels, predicted, zero_division=0))\n",
    "\n",
    "\n",
    "\n",
    "  def calculate_confusion_matrix(self, outputs, labels):\n",
    "    predicted = outputs\n",
    "    labels = labels\n",
    "    matrix = confusion_matrix(labels, predicted)\n",
    "    print(matrix)\n",
    "\n",
    "\n",
    "  def validate(self):\n",
    "    self.model.eval()\n",
    "    val_loss = 0.0\n",
    "    correct_predictions = 0\n",
    "    total_samples = 0\n",
    "    all_labels = []  # add all the lables\n",
    "    all_predictions = []  # add all the prediction\n",
    "\n",
    "    with torch.no_grad():\n",
    "        for inputs, labels in self.val_loader:\n",
    "            inputs, labels = inputs.to(self.device), labels.to(self.device).long()\n",
    "            labels = labels - 1\n",
    "            outputs = self.model(inputs)\n",
    "            predicted = torch.argmax(outputs, 1)\n",
    "\n",
    "            # collecting all the lables and predictions\n",
    "            all_labels.extend(labels.cpu().numpy())\n",
    "            all_predictions.extend(predicted.cpu().numpy())\n",
    "\n",
    "            # calculate the loss\n",
    "            loss = self.criterion(outputs, labels)\n",
    "            val_loss += loss.item()\n",
    "\n",
    "            # calculate the correct predication\n",
    "            correct_predictions += (predicted == labels).sum().item()\n",
    "            total_samples += labels.size(0)\n",
    "\n",
    "    # calculate the accuracy rate\n",
    "    val_accuracy = correct_predictions / total_samples\n",
    "    self.generate_classification_report(np.array(all_predictions), np.array(all_labels))\n",
    "    self.calculate_confusion_matrix(np.array(all_predictions), np.array(all_labels))\n",
    "    return val_loss/len(self.val_loader),val_accuracy, all_labels, all_predictions\n",
    "\n",
    "\n",
    "  '''\n",
    "  The function here is used as the main training function on the image by using the pre-definned models in\n",
    "  hte first model class.\n",
    "  '''\n",
    "\n",
    "  def train(self):\n",
    "      _, solution_dir = create_log_dir()\n",
    "\n",
    "      best_val_accuracy = 0.0\n",
    "      for epoch in range(self.num_epochs):\n",
    "          self.model.train()\n",
    "          running_loss = 0.0\n",
    "          running_accuracy = 0.0\n",
    "\n",
    "          # monitor the process\n",
    "          with tqdm(self.train_loader, unit=\"batch\") as tepoch:\n",
    "              tepoch.set_description(f\"Epoch {epoch + 1}/{self.num_epochs}\")\n",
    "\n",
    "              for inputs, labels in tepoch:\n",
    "                  inputs, labels = inputs.to(self.device), labels.to(self.device).long()\n",
    "                  labels = labels - 1\n",
    "\n",
    "                  #forward propagation\n",
    "                  self.optimizer.zero_grad()\n",
    "                  raw_outputs = self.model(inputs)\n",
    "                  loss = self.criterion(raw_outputs, labels)  # loss calculation\n",
    "\n",
    "                  loss.backward()  # backward propagation\n",
    "                  self.optimizer.step()\n",
    "\n",
    "                  #Loss calculating\n",
    "                  running_loss += loss.item()\n",
    "                  _, predicted = torch.max(raw_outputs, 1)\n",
    "                  accuracy = (predicted == labels).sum().item()/ labels.size(0)\n",
    "                  running_accuracy += accuracy\n",
    "                  tepoch.set_postfix(loss=running_loss / len(self.train_loader),\n",
    "                            accuracy=running_accuracy / len(self.train_loader))\n",
    "\n",
    "\n",
    "\n",
    "          self.scheduler.step()\n",
    "          print(self.scheduler.get_last_lr())\n",
    "\n",
    "\n",
    "          val_loss,val_accuracy, all_labels, all_predictions = self.validate()\n",
    "          print(f\"Epoch {epoch + 1}/{self.num_epochs}, Validation Loss: {val_loss:.4f}, Validation Accuracy: {val_accuracy:.4f}\")\n",
    "\n",
    "          if val_accuracy > best_val_accuracy:\n",
    "              best_val_accuracy = val_accuracy\n",
    "              torch.save(self.model.state_dict(), f'{solution_dir}/best_model.pth')\n",
    "              current_time = datatime.now().strftime(\"%Y%m%d-%H%M\")\n",
    "              print('Best model saved!', current_time)\n",
    "\n",
    "      print('Finished Training')\n",
    "      print(f'Best validation accuracy: {best_val_accuracy:.4f}')\n",
    "\n"
   ]
  },
  {
   "cell_type": "code",
   "execution_count": null,
   "metadata": {},
   "outputs": [],
   "source": []
  },
  {
   "cell_type": "markdown",
   "metadata": {},
   "source": [
    "# Model with LeakyReLU with Danymic Oversampling"
   ]
  },
  {
   "cell_type": "code",
   "execution_count": 30,
   "metadata": {},
   "outputs": [
    {
     "name": "stdout",
     "output_type": "stream",
     "text": [
      "Train dataset size: 6144 Validation dataset size: 1536 length of train_ids1 length of valid_ids1\n",
      "stable_height\n",
      "2    1852\n",
      "1    1756\n",
      "3    1470\n",
      "4    1119\n",
      "5     753\n",
      "6     394\n",
      "Name: count, dtype: int64\n"
     ]
    },
    {
     "name": "stderr",
     "output_type": "stream",
     "text": [
      "Epoch 1/64: 100%|██████████| 230/230 [01:14<00:00,  3.07batch/s, accuracy=0.313, loss=1.57]    \n"
     ]
    },
    {
     "name": "stdout",
     "output_type": "stream",
     "text": [
      "[0.001]\n",
      "              precision    recall  f1-score   support\n",
      "\n",
      "           0       0.39      0.70      0.50       384\n",
      "           1       0.42      0.35      0.38       384\n",
      "           2       0.42      0.22      0.29       307\n",
      "           3       0.33      0.30      0.32       230\n",
      "           4       0.32      0.29      0.30       154\n",
      "           5       0.18      0.05      0.08        77\n",
      "\n",
      "    accuracy                           0.38      1536\n",
      "   macro avg       0.35      0.32      0.31      1536\n",
      "weighted avg       0.38      0.38      0.36      1536\n",
      "\n",
      "[[268  62   9  25  14   6]\n",
      " [185 135  16  27  16   5]\n",
      " [105  80  69  34  17   2]\n",
      " [ 71  25  41  69  23   1]\n",
      " [ 40  13  15  38  44   4]\n",
      " [ 15   9  13  14  22   4]]\n",
      "Epoch 1/64, Validation Loss: 1.4369, Validation Accuracy: 0.3835\n",
      "Best model saved! 20241015-0922\n",
      "stable_height\n",
      "2    1828\n",
      "1    1754\n",
      "3    1478\n",
      "4    1105\n",
      "5     772\n",
      "6     407\n",
      "Name: count, dtype: int64\n"
     ]
    },
    {
     "name": "stderr",
     "output_type": "stream",
     "text": [
      "Epoch 2/64: 100%|██████████| 230/230 [01:14<00:00,  3.09batch/s, accuracy=0.4, loss=1.39]     \n"
     ]
    },
    {
     "name": "stdout",
     "output_type": "stream",
     "text": [
      "[0.001]\n",
      "              precision    recall  f1-score   support\n",
      "\n",
      "           0       0.69      0.48      0.57       384\n",
      "           1       0.60      0.38      0.46       384\n",
      "           2       0.43      0.52      0.47       307\n",
      "           3       0.33      0.59      0.42       230\n",
      "           4       0.21      0.34      0.26       154\n",
      "           5       0.33      0.01      0.03        77\n",
      "\n",
      "    accuracy                           0.44      1536\n",
      "   macro avg       0.43      0.39      0.37      1536\n",
      "weighted avg       0.49      0.44      0.44      1536\n",
      "\n",
      "[[185  41  63  51  44   0]\n",
      " [ 58 145  70  62  48   1]\n",
      " [ 20  39 159  54  34   1]\n",
      " [  6   6  60 135  23   0]\n",
      " [  1   6  10  85  52   0]\n",
      " [  0   6   5  21  44   1]]\n",
      "Epoch 2/64, Validation Loss: 1.3195, Validation Accuracy: 0.4408\n",
      "Best model saved! 20241015-0924\n",
      "stable_height\n",
      "2    1832\n",
      "1    1783\n",
      "3    1462\n",
      "4    1107\n",
      "5     766\n",
      "6     394\n",
      "Name: count, dtype: int64\n"
     ]
    },
    {
     "name": "stderr",
     "output_type": "stream",
     "text": [
      "Epoch 3/64: 100%|██████████| 230/230 [01:11<00:00,  3.20batch/s, accuracy=0.451, loss=1.31]   \n"
     ]
    },
    {
     "name": "stdout",
     "output_type": "stream",
     "text": [
      "[0.001]\n",
      "              precision    recall  f1-score   support\n",
      "\n",
      "           0       0.71      0.53      0.60       384\n",
      "           1       0.64      0.50      0.56       384\n",
      "           2       0.43      0.58      0.50       307\n",
      "           3       0.49      0.39      0.43       230\n",
      "           4       0.31      0.50      0.39       154\n",
      "           5       0.20      0.27      0.23        77\n",
      "\n",
      "    accuracy                           0.50      1536\n",
      "   macro avg       0.46      0.46      0.45      1536\n",
      "weighted avg       0.54      0.50      0.51      1536\n",
      "\n",
      "[[202  61  43  25  28  25]\n",
      " [ 40 193  78  21  30  22]\n",
      " [ 28  35 179  26  30   9]\n",
      " [ 10   6  59  89  56  10]\n",
      " [  5   4  34  14  77  20]\n",
      " [  0   4  23   5  24  21]]\n",
      "Epoch 3/64, Validation Loss: 1.2276, Validation Accuracy: 0.4954\n",
      "Best model saved! 20241015-0925\n",
      "stable_height\n",
      "2    1852\n",
      "1    1756\n",
      "3    1470\n",
      "4    1119\n",
      "5     753\n",
      "6     394\n",
      "Name: count, dtype: int64\n"
     ]
    },
    {
     "name": "stderr",
     "output_type": "stream",
     "text": [
      "Epoch 4/64: 100%|██████████| 230/230 [01:12<00:00,  3.18batch/s, accuracy=0.481, loss=1.25]   \n"
     ]
    },
    {
     "name": "stdout",
     "output_type": "stream",
     "text": [
      "[0.001]\n",
      "              precision    recall  f1-score   support\n",
      "\n",
      "           0       0.60      0.51      0.55       384\n",
      "           1       0.62      0.57      0.59       384\n",
      "           2       0.65      0.35      0.45       307\n",
      "           3       0.39      0.58      0.47       230\n",
      "           4       0.32      0.43      0.37       154\n",
      "           5       0.26      0.47      0.33        77\n",
      "\n",
      "    accuracy                           0.49      1536\n",
      "   macro avg       0.47      0.48      0.46      1536\n",
      "weighted avg       0.54      0.49      0.50      1536\n",
      "\n",
      "[[197  78  22  48  21  18]\n",
      " [ 42 219  22  61  27  13]\n",
      " [ 22  45 106  76  33  25]\n",
      " [ 19   7   9 134  43  18]\n",
      " [ 30   4   2  23  66  29]\n",
      " [ 18   3   2   3  15  36]]\n",
      "Epoch 4/64, Validation Loss: 1.2229, Validation Accuracy: 0.4935\n",
      "stable_height\n",
      "2    1828\n",
      "1    1754\n",
      "3    1478\n",
      "4    1105\n",
      "5     772\n",
      "6     407\n",
      "Name: count, dtype: int64\n"
     ]
    },
    {
     "name": "stderr",
     "output_type": "stream",
     "text": [
      "Epoch 5/64: 100%|██████████| 230/230 [01:11<00:00,  3.20batch/s, accuracy=0.495, loss=1.22]   \n"
     ]
    },
    {
     "name": "stdout",
     "output_type": "stream",
     "text": [
      "[0.001]\n",
      "              precision    recall  f1-score   support\n",
      "\n",
      "           0       0.79      0.48      0.59       384\n",
      "           1       0.69      0.54      0.60       384\n",
      "           2       0.59      0.52      0.55       307\n",
      "           3       0.39      0.35      0.37       230\n",
      "           4       0.27      0.47      0.34       154\n",
      "           5       0.24      0.79      0.37        77\n",
      "\n",
      "    accuracy                           0.50      1536\n",
      "   macro avg       0.49      0.52      0.47      1536\n",
      "weighted avg       0.58      0.50      0.52      1536\n",
      "\n",
      "[[183  48  40  36  39  38]\n",
      " [ 28 206  49  38  27  36]\n",
      " [ 12  23 161  43  35  33]\n",
      " [  3   7  22  81  84  33]\n",
      " [  4  13   1  10  72  54]\n",
      " [  2   3   2   0   9  61]]\n",
      "Epoch 5/64, Validation Loss: 1.1862, Validation Accuracy: 0.4974\n",
      "Best model saved! 20241015-0928\n",
      "stable_height\n",
      "2    1832\n",
      "1    1783\n",
      "3    1462\n",
      "4    1107\n",
      "5     766\n",
      "6     394\n",
      "Name: count, dtype: int64\n"
     ]
    },
    {
     "name": "stderr",
     "output_type": "stream",
     "text": [
      "Epoch 6/64: 100%|██████████| 230/230 [01:14<00:00,  3.08batch/s, accuracy=0.523, loss=1.17]   \n"
     ]
    },
    {
     "name": "stdout",
     "output_type": "stream",
     "text": [
      "[0.001]\n",
      "              precision    recall  f1-score   support\n",
      "\n",
      "           0       0.65      0.46      0.54       384\n",
      "           1       0.56      0.68      0.62       384\n",
      "           2       0.42      0.72      0.53       307\n",
      "           3       0.47      0.30      0.37       230\n",
      "           4       0.61      0.25      0.35       154\n",
      "           5       0.18      0.16      0.17        77\n",
      "\n",
      "    accuracy                           0.51      1536\n",
      "   macro avg       0.48      0.43      0.43      1536\n",
      "weighted avg       0.53      0.51      0.49      1536\n",
      "\n",
      "[[178  99  65  28   4  10]\n",
      " [ 16 261  70  20   3  14]\n",
      " [ 18  49 220  14   1   5]\n",
      " [ 20  15 106  69  12   8]\n",
      " [ 24  21  41  14  38  16]\n",
      " [ 18  17  24   2   4  12]]\n",
      "Epoch 6/64, Validation Loss: 1.2084, Validation Accuracy: 0.5065\n",
      "Best model saved! 20241015-0930\n",
      "stable_height\n",
      "2    1852\n",
      "1    1756\n",
      "3    1470\n",
      "4    1119\n",
      "5     753\n",
      "6     394\n",
      "Name: count, dtype: int64\n"
     ]
    },
    {
     "name": "stderr",
     "output_type": "stream",
     "text": [
      "Epoch 7/64: 100%|██████████| 230/230 [01:12<00:00,  3.19batch/s, accuracy=0.537, loss=1.15]   \n"
     ]
    },
    {
     "name": "stdout",
     "output_type": "stream",
     "text": [
      "[0.001]\n",
      "              precision    recall  f1-score   support\n",
      "\n",
      "           0       0.63      0.60      0.61       384\n",
      "           1       0.53      0.77      0.63       384\n",
      "           2       0.55      0.52      0.53       307\n",
      "           3       0.50      0.38      0.43       230\n",
      "           4       0.38      0.31      0.34       154\n",
      "           5       0.38      0.13      0.19        77\n",
      "\n",
      "    accuracy                           0.54      1536\n",
      "   macro avg       0.50      0.45      0.46      1536\n",
      "weighted avg       0.53      0.54      0.53      1536\n",
      "\n",
      "[[229  87  31  16  15   6]\n",
      " [ 34 296  25  11  15   3]\n",
      " [ 31  90 159  14  10   3]\n",
      " [ 35  40  46  87  21   1]\n",
      " [ 22  27  16  38  48   3]\n",
      " [ 13  16  11   9  18  10]]\n",
      "Epoch 7/64, Validation Loss: 1.1148, Validation Accuracy: 0.5397\n",
      "Best model saved! 20241015-0931\n",
      "stable_height\n",
      "2    1828\n",
      "1    1754\n",
      "3    1478\n",
      "4    1105\n",
      "5     772\n",
      "6     407\n",
      "Name: count, dtype: int64\n"
     ]
    },
    {
     "name": "stderr",
     "output_type": "stream",
     "text": [
      "Epoch 8/64: 100%|██████████| 230/230 [01:12<00:00,  3.16batch/s, accuracy=0.55, loss=1.12]    \n"
     ]
    },
    {
     "name": "stdout",
     "output_type": "stream",
     "text": [
      "[0.001]\n",
      "              precision    recall  f1-score   support\n",
      "\n",
      "           0       0.59      0.72      0.65       384\n",
      "           1       0.71      0.54      0.61       384\n",
      "           2       0.55      0.59      0.57       307\n",
      "           3       0.54      0.34      0.42       230\n",
      "           4       0.32      0.29      0.30       154\n",
      "           5       0.22      0.43      0.29        77\n",
      "\n",
      "    accuracy                           0.54      1536\n",
      "   macro avg       0.49      0.49      0.47      1536\n",
      "weighted avg       0.56      0.54      0.54      1536\n",
      "\n",
      "[[276  43  30  12  16   7]\n",
      " [ 63 208  60  16  12  25]\n",
      " [ 34  24 182  35  13  19]\n",
      " [ 44  11  25  78  51  21]\n",
      " [ 37   5  15   4  45  48]\n",
      " [ 17   4  18   0   5  33]]\n",
      "Epoch 8/64, Validation Loss: 1.1432, Validation Accuracy: 0.5352\n",
      "stable_height\n",
      "2    1832\n",
      "1    1783\n",
      "3    1462\n",
      "4    1107\n",
      "5     766\n",
      "6     394\n",
      "Name: count, dtype: int64\n"
     ]
    },
    {
     "name": "stderr",
     "output_type": "stream",
     "text": [
      "Epoch 9/64: 100%|██████████| 230/230 [01:15<00:00,  3.07batch/s, accuracy=0.551, loss=1.11]  \n"
     ]
    },
    {
     "name": "stdout",
     "output_type": "stream",
     "text": [
      "[0.001]\n",
      "              precision    recall  f1-score   support\n",
      "\n",
      "           0       0.50      0.76      0.60       384\n",
      "           1       0.73      0.57      0.64       384\n",
      "           2       0.59      0.60      0.60       307\n",
      "           3       0.57      0.43      0.49       230\n",
      "           4       0.38      0.27      0.31       154\n",
      "           5       0.28      0.23      0.25        77\n",
      "\n",
      "    accuracy                           0.56      1536\n",
      "   macro avg       0.51      0.48      0.48      1536\n",
      "weighted avg       0.56      0.56      0.55      1536\n",
      "\n",
      "[[290  38  29  16   8   3]\n",
      " [ 78 220  54  17   8   7]\n",
      " [ 46  26 185  28  14   8]\n",
      " [ 61   8  22 100  28  11]\n",
      " [ 61   6  14  14  41  18]\n",
      " [ 39   3   8   1   8  18]]\n",
      "Epoch 9/64, Validation Loss: 1.0910, Validation Accuracy: 0.5560\n",
      "Best model saved! 20241015-0934\n",
      "stable_height\n",
      "2    1852\n",
      "1    1756\n",
      "3    1470\n",
      "4    1119\n",
      "5     753\n",
      "6     394\n",
      "Name: count, dtype: int64\n"
     ]
    },
    {
     "name": "stderr",
     "output_type": "stream",
     "text": [
      "Epoch 10/64: 100%|██████████| 230/230 [01:14<00:00,  3.10batch/s, accuracy=0.56, loss=1.08]    \n"
     ]
    },
    {
     "name": "stdout",
     "output_type": "stream",
     "text": [
      "[0.001]\n",
      "              precision    recall  f1-score   support\n",
      "\n",
      "           0       0.68      0.64      0.66       384\n",
      "           1       0.57      0.71      0.63       384\n",
      "           2       0.56      0.55      0.55       307\n",
      "           3       0.62      0.45      0.52       230\n",
      "           4       0.45      0.45      0.45       154\n",
      "           5       0.29      0.31      0.30        77\n",
      "\n",
      "    accuracy                           0.57      1536\n",
      "   macro avg       0.53      0.52      0.52      1536\n",
      "weighted avg       0.58      0.57      0.57      1536\n",
      "\n",
      "[[246  67  27  23  13   8]\n",
      " [ 43 272  30  13  14  12]\n",
      " [ 27  72 168  22  12   6]\n",
      " [ 21  30  27 103  35  14]\n",
      " [ 16  21  25   5  69  18]\n",
      " [  8  12  22   1  10  24]]\n",
      "Epoch 10/64, Validation Loss: 1.0706, Validation Accuracy: 0.5742\n",
      "Best model saved! 20241015-0935\n",
      "stable_height\n",
      "2    1828\n",
      "1    1754\n",
      "3    1478\n",
      "4    1105\n",
      "5     772\n",
      "6     407\n",
      "Name: count, dtype: int64\n"
     ]
    },
    {
     "name": "stderr",
     "output_type": "stream",
     "text": [
      "Epoch 11/64: 100%|██████████| 230/230 [01:10<00:00,  3.25batch/s, accuracy=0.574, loss=1.07]   \n"
     ]
    },
    {
     "name": "stdout",
     "output_type": "stream",
     "text": [
      "[0.001]\n",
      "              precision    recall  f1-score   support\n",
      "\n",
      "           0       0.72      0.63      0.67       384\n",
      "           1       0.62      0.68      0.65       384\n",
      "           2       0.61      0.63      0.62       307\n",
      "           3       0.60      0.61      0.61       230\n",
      "           4       0.51      0.44      0.47       154\n",
      "           5       0.27      0.31      0.29        77\n",
      "\n",
      "    accuracy                           0.60      1536\n",
      "   macro avg       0.55      0.55      0.55      1536\n",
      "weighted avg       0.61      0.60      0.61      1536\n",
      "\n",
      "[[243  53  41  23  12  12]\n",
      " [ 33 260  37  31  13  10]\n",
      " [ 13  51 194  30   9  10]\n",
      " [ 19  13  24 141  20  13]\n",
      " [ 24  16  17   9  67  21]\n",
      " [  6  29   6   1  11  24]]\n",
      "Epoch 11/64, Validation Loss: 0.9798, Validation Accuracy: 0.6048\n",
      "Best model saved! 20241015-0937\n",
      "stable_height\n",
      "2    1832\n",
      "1    1783\n",
      "3    1462\n",
      "4    1107\n",
      "5     766\n",
      "6     394\n",
      "Name: count, dtype: int64\n"
     ]
    },
    {
     "name": "stderr",
     "output_type": "stream",
     "text": [
      "Epoch 12/64: 100%|██████████| 230/230 [01:15<00:00,  3.04batch/s, accuracy=0.585, loss=1.06]   \n"
     ]
    },
    {
     "name": "stdout",
     "output_type": "stream",
     "text": [
      "[0.001]\n",
      "              precision    recall  f1-score   support\n",
      "\n",
      "           0       0.65      0.69      0.67       384\n",
      "           1       0.62      0.67      0.64       384\n",
      "           2       0.57      0.65      0.61       307\n",
      "           3       0.55      0.57      0.56       230\n",
      "           4       0.44      0.27      0.34       154\n",
      "           5       0.35      0.16      0.22        77\n",
      "\n",
      "    accuracy                           0.59      1536\n",
      "   macro avg       0.53      0.50      0.50      1536\n",
      "weighted avg       0.57      0.59      0.58      1536\n",
      "\n",
      "[[264  48  32  27  10   3]\n",
      " [ 58 256  40  19   8   3]\n",
      " [ 30  50 199  20   4   4]\n",
      " [ 22  24  37 130  14   3]\n",
      " [ 19  20  26  38  42   9]\n",
      " [ 16  14  15   3  17  12]]\n",
      "Epoch 12/64, Validation Loss: 1.0774, Validation Accuracy: 0.5879\n",
      "stable_height\n",
      "2    1852\n",
      "1    1756\n",
      "3    1470\n",
      "4    1119\n",
      "5     753\n",
      "6     394\n",
      "Name: count, dtype: int64\n"
     ]
    },
    {
     "name": "stderr",
     "output_type": "stream",
     "text": [
      "Epoch 13/64: 100%|██████████| 230/230 [01:14<00:00,  3.10batch/s, accuracy=0.582, loss=1.05]   \n"
     ]
    },
    {
     "name": "stdout",
     "output_type": "stream",
     "text": [
      "[0.001]\n",
      "              precision    recall  f1-score   support\n",
      "\n",
      "           0       0.68      0.66      0.67       384\n",
      "           1       0.71      0.65      0.68       384\n",
      "           2       0.61      0.66      0.64       307\n",
      "           3       0.59      0.60      0.60       230\n",
      "           4       0.51      0.40      0.45       154\n",
      "           5       0.28      0.47      0.35        77\n",
      "\n",
      "    accuracy                           0.61      1536\n",
      "   macro avg       0.56      0.57      0.56      1536\n",
      "weighted avg       0.62      0.61      0.62      1536\n",
      "\n",
      "[[252  46  46  26   6   8]\n",
      " [ 36 248  49  21  14  16]\n",
      " [ 23  23 203  30  10  18]\n",
      " [ 18  15  19 139  21  18]\n",
      " [ 27   9   7  17  62  32]\n",
      " [ 15   8   7   2   9  36]]\n",
      "Epoch 13/64, Validation Loss: 0.9955, Validation Accuracy: 0.6120\n",
      "Best model saved! 20241015-0940\n",
      "stable_height\n",
      "2    1828\n",
      "1    1754\n",
      "3    1478\n",
      "4    1105\n",
      "5     772\n",
      "6     407\n",
      "Name: count, dtype: int64\n"
     ]
    },
    {
     "name": "stderr",
     "output_type": "stream",
     "text": [
      "Epoch 14/64: 100%|██████████| 230/230 [01:11<00:00,  3.20batch/s, accuracy=0.588, loss=1.03]   \n"
     ]
    },
    {
     "name": "stdout",
     "output_type": "stream",
     "text": [
      "[0.001]\n",
      "              precision    recall  f1-score   support\n",
      "\n",
      "           0       0.61      0.71      0.65       384\n",
      "           1       0.67      0.73      0.70       384\n",
      "           2       0.60      0.57      0.58       307\n",
      "           3       0.60      0.46      0.52       230\n",
      "           4       0.52      0.49      0.50       154\n",
      "           5       0.33      0.21      0.25        77\n",
      "\n",
      "    accuracy                           0.60      1536\n",
      "   macro avg       0.55      0.53      0.54      1536\n",
      "weighted avg       0.60      0.60      0.60      1536\n",
      "\n",
      "[[273  55  23  19  10   4]\n",
      " [ 46 282  32  16   7   1]\n",
      " [ 50  35 176  22  16   8]\n",
      " [ 36  16  35 105  31   7]\n",
      " [ 23  16  16  11  75  13]\n",
      " [ 23  16  13   3   6  16]]\n",
      "Epoch 14/64, Validation Loss: 0.9908, Validation Accuracy: 0.6035\n",
      "stable_height\n",
      "2    1832\n",
      "1    1783\n",
      "3    1462\n",
      "4    1107\n",
      "5     766\n",
      "6     394\n",
      "Name: count, dtype: int64\n"
     ]
    },
    {
     "name": "stderr",
     "output_type": "stream",
     "text": [
      "Epoch 15/64: 100%|██████████| 230/230 [01:12<00:00,  3.17batch/s, accuracy=0.6, loss=1.02]     \n"
     ]
    },
    {
     "name": "stdout",
     "output_type": "stream",
     "text": [
      "[0.0001]\n",
      "              precision    recall  f1-score   support\n",
      "\n",
      "           0       0.51      0.78      0.62       384\n",
      "           1       0.79      0.47      0.58       384\n",
      "           2       0.54      0.63      0.59       307\n",
      "           3       0.66      0.37      0.48       230\n",
      "           4       0.37      0.48      0.42       154\n",
      "           5       0.30      0.12      0.17        77\n",
      "\n",
      "    accuracy                           0.55      1536\n",
      "   macro avg       0.53      0.48      0.47      1536\n",
      "weighted avg       0.58      0.55      0.54      1536\n",
      "\n",
      "[[300  18  28  12  22   4]\n",
      " [118 179  50  14  20   3]\n",
      " [ 60  16 194  10  25   2]\n",
      " [ 46   8  51  86  36   3]\n",
      " [ 40   4  21   6  74   9]\n",
      " [ 26   3  12   3  24   9]]\n",
      "Epoch 15/64, Validation Loss: 1.0960, Validation Accuracy: 0.5482\n",
      "stable_height\n",
      "2    1852\n",
      "1    1756\n",
      "3    1470\n",
      "4    1119\n",
      "5     753\n",
      "6     394\n",
      "Name: count, dtype: int64\n"
     ]
    },
    {
     "name": "stderr",
     "output_type": "stream",
     "text": [
      "Epoch 16/64: 100%|██████████| 230/230 [01:16<00:00,  3.02batch/s, accuracy=0.642, loss=0.927]  \n"
     ]
    },
    {
     "name": "stdout",
     "output_type": "stream",
     "text": [
      "[0.0001]\n",
      "              precision    recall  f1-score   support\n",
      "\n",
      "           0       0.74      0.63      0.68       384\n",
      "           1       0.73      0.65      0.69       384\n",
      "           2       0.62      0.68      0.65       307\n",
      "           3       0.58      0.63      0.60       230\n",
      "           4       0.48      0.59      0.53       154\n",
      "           5       0.35      0.42      0.38        77\n",
      "\n",
      "    accuracy                           0.63      1536\n",
      "   macro avg       0.58      0.60      0.59      1536\n",
      "weighted avg       0.64      0.63      0.63      1536\n",
      "\n",
      "[[241  40  48  33  15   7]\n",
      " [ 32 249  38  31  19  15]\n",
      " [ 12  30 208  28  20   9]\n",
      " [ 14  10  22 145  27  12]\n",
      " [ 15   5  15  11  91  17]\n",
      " [ 11   7   6   4  17  32]]\n",
      "Epoch 16/64, Validation Loss: 0.8988, Validation Accuracy: 0.6289\n",
      "Best model saved! 20241015-0944\n",
      "stable_height\n",
      "2    1828\n",
      "1    1754\n",
      "3    1478\n",
      "4    1105\n",
      "5     772\n",
      "6     407\n",
      "Name: count, dtype: int64\n"
     ]
    },
    {
     "name": "stderr",
     "output_type": "stream",
     "text": [
      "Epoch 17/64: 100%|██████████| 230/230 [01:10<00:00,  3.28batch/s, accuracy=0.66, loss=0.878]   \n"
     ]
    },
    {
     "name": "stdout",
     "output_type": "stream",
     "text": [
      "[0.0001]\n",
      "              precision    recall  f1-score   support\n",
      "\n",
      "           0       0.78      0.67      0.72       384\n",
      "           1       0.77      0.64      0.70       384\n",
      "           2       0.65      0.67      0.66       307\n",
      "           3       0.58      0.63      0.61       230\n",
      "           4       0.51      0.66      0.57       154\n",
      "           5       0.34      0.53      0.41        77\n",
      "\n",
      "    accuracy                           0.65      1536\n",
      "   macro avg       0.60      0.63      0.61      1536\n",
      "weighted avg       0.67      0.65      0.65      1536\n",
      "\n",
      "[[256  33  28  36  19  12]\n",
      " [ 30 244  46  29  15  20]\n",
      " [ 13  20 206  24  26  18]\n",
      " [ 12   7  24 145  28  14]\n",
      " [ 13   7   6   9 102  17]\n",
      " [  6   7   7   5  11  41]]\n",
      "Epoch 17/64, Validation Loss: 0.8835, Validation Accuracy: 0.6471\n",
      "Best model saved! 20241015-0945\n",
      "stable_height\n",
      "2    1832\n",
      "1    1783\n",
      "3    1462\n",
      "4    1107\n",
      "5     766\n",
      "6     394\n",
      "Name: count, dtype: int64\n"
     ]
    },
    {
     "name": "stderr",
     "output_type": "stream",
     "text": [
      "Epoch 18/64: 100%|██████████| 230/230 [01:14<00:00,  3.07batch/s, accuracy=0.671, loss=0.852]  \n"
     ]
    },
    {
     "name": "stdout",
     "output_type": "stream",
     "text": [
      "[0.0001]\n",
      "              precision    recall  f1-score   support\n",
      "\n",
      "           0       0.76      0.65      0.70       384\n",
      "           1       0.75      0.65      0.70       384\n",
      "           2       0.68      0.70      0.69       307\n",
      "           3       0.56      0.70      0.63       230\n",
      "           4       0.51      0.56      0.53       154\n",
      "           5       0.34      0.45      0.39        77\n",
      "\n",
      "    accuracy                           0.65      1536\n",
      "   macro avg       0.60      0.62      0.61      1536\n",
      "weighted avg       0.67      0.65      0.65      1536\n",
      "\n",
      "[[250  41  27  36  17  13]\n",
      " [ 32 251  29  38  16  18]\n",
      " [ 12  24 214  28  19  10]\n",
      " [ 14   3  24 161  18  10]\n",
      " [ 15   9  11  17  86  16]\n",
      " [  8   6  10   5  13  35]]\n",
      "Epoch 18/64, Validation Loss: 0.8626, Validation Accuracy: 0.6491\n",
      "Best model saved! 20241015-0947\n",
      "stable_height\n",
      "2    1852\n",
      "1    1756\n",
      "3    1470\n",
      "4    1119\n",
      "5     753\n",
      "6     394\n",
      "Name: count, dtype: int64\n"
     ]
    },
    {
     "name": "stderr",
     "output_type": "stream",
     "text": [
      "Epoch 19/64: 100%|██████████| 230/230 [01:16<00:00,  2.99batch/s, accuracy=0.672, loss=0.841]  \n"
     ]
    },
    {
     "name": "stdout",
     "output_type": "stream",
     "text": [
      "[0.0001]\n",
      "              precision    recall  f1-score   support\n",
      "\n",
      "           0       0.77      0.64      0.70       384\n",
      "           1       0.79      0.67      0.73       384\n",
      "           2       0.68      0.71      0.69       307\n",
      "           3       0.57      0.64      0.61       230\n",
      "           4       0.51      0.62      0.56       154\n",
      "           5       0.32      0.52      0.40        77\n",
      "\n",
      "    accuracy                           0.65      1536\n",
      "   macro avg       0.61      0.63      0.61      1536\n",
      "weighted avg       0.68      0.65      0.66      1536\n",
      "\n",
      "[[244  37  37  34  18  14]\n",
      " [ 25 259  31  34  17  18]\n",
      " [ 11  18 218  30  19  11]\n",
      " [ 13   5  21 148  27  16]\n",
      " [ 14   4   7   8  96  25]\n",
      " [  9   3   7   5  13  40]]\n",
      "Epoch 19/64, Validation Loss: 0.8657, Validation Accuracy: 0.6543\n",
      "Best model saved! 20241015-0948\n",
      "stable_height\n",
      "2    1828\n",
      "1    1754\n",
      "3    1478\n",
      "4    1105\n",
      "5     772\n",
      "6     407\n",
      "Name: count, dtype: int64\n"
     ]
    },
    {
     "name": "stderr",
     "output_type": "stream",
     "text": [
      "Epoch 20/64: 100%|██████████| 230/230 [01:11<00:00,  3.20batch/s, accuracy=0.684, loss=0.823]  \n"
     ]
    },
    {
     "name": "stdout",
     "output_type": "stream",
     "text": [
      "[0.0001]\n",
      "              precision    recall  f1-score   support\n",
      "\n",
      "           0       0.76      0.65      0.70       384\n",
      "           1       0.75      0.68      0.72       384\n",
      "           2       0.68      0.71      0.70       307\n",
      "           3       0.57      0.66      0.61       230\n",
      "           4       0.50      0.60      0.55       154\n",
      "           5       0.36      0.43      0.39        77\n",
      "\n",
      "    accuracy                           0.65      1536\n",
      "   macro avg       0.60      0.62      0.61      1536\n",
      "weighted avg       0.67      0.65      0.66      1536\n",
      "\n",
      "[[250  39  32  31  20  12]\n",
      " [ 27 261  30  34  17  15]\n",
      " [ 16  19 219  29  16   8]\n",
      " [ 14   8  25 151  23   9]\n",
      " [ 14   9  10  14  92  15]\n",
      " [  8  10   7   4  15  33]]\n",
      "Epoch 20/64, Validation Loss: 0.8561, Validation Accuracy: 0.6549\n",
      "Best model saved! 20241015-0950\n",
      "stable_height\n",
      "2    1832\n",
      "1    1783\n",
      "3    1462\n",
      "4    1107\n",
      "5     766\n",
      "6     394\n",
      "Name: count, dtype: int64\n"
     ]
    },
    {
     "name": "stderr",
     "output_type": "stream",
     "text": [
      "Epoch 21/64: 100%|██████████| 230/230 [01:12<00:00,  3.19batch/s, accuracy=0.693, loss=0.799]  \n"
     ]
    },
    {
     "name": "stdout",
     "output_type": "stream",
     "text": [
      "[0.0001]\n",
      "              precision    recall  f1-score   support\n",
      "\n",
      "           0       0.70      0.67      0.69       384\n",
      "           1       0.74      0.66      0.70       384\n",
      "           2       0.65      0.69      0.67       307\n",
      "           3       0.61      0.67      0.64       230\n",
      "           4       0.55      0.59      0.57       154\n",
      "           5       0.41      0.42      0.41        77\n",
      "\n",
      "    accuracy                           0.65      1536\n",
      "   macro avg       0.61      0.62      0.61      1536\n",
      "weighted avg       0.66      0.65      0.65      1536\n",
      "\n",
      "[[258  31  35  33  18   9]\n",
      " [ 53 255  36  22  11   7]\n",
      " [ 18  26 213  27  13  10]\n",
      " [ 18  12  24 154  17   5]\n",
      " [ 16  10  12  10  91  15]\n",
      " [  6  11   7   7  14  32]]\n",
      "Epoch 21/64, Validation Loss: 0.8595, Validation Accuracy: 0.6530\n",
      "stable_height\n",
      "2    1852\n",
      "1    1756\n",
      "3    1470\n",
      "4    1119\n",
      "5     753\n",
      "6     394\n",
      "Name: count, dtype: int64\n"
     ]
    },
    {
     "name": "stderr",
     "output_type": "stream",
     "text": [
      "Epoch 22/64: 100%|██████████| 230/230 [01:16<00:00,  3.01batch/s, accuracy=0.696, loss=0.79]   \n"
     ]
    },
    {
     "name": "stdout",
     "output_type": "stream",
     "text": [
      "[0.0001]\n",
      "              precision    recall  f1-score   support\n",
      "\n",
      "           0       0.82      0.64      0.72       384\n",
      "           1       0.74      0.68      0.71       384\n",
      "           2       0.67      0.71      0.69       307\n",
      "           3       0.58      0.69      0.63       230\n",
      "           4       0.54      0.61      0.57       154\n",
      "           5       0.37      0.55      0.44        77\n",
      "\n",
      "    accuracy                           0.66      1536\n",
      "   macro avg       0.62      0.65      0.63      1536\n",
      "weighted avg       0.69      0.66      0.67      1536\n",
      "\n",
      "[[245  41  34  33  17  14]\n",
      " [ 22 261  33  37  15  16]\n",
      " [ 10  24 219  26  18  10]\n",
      " [  7  11  22 158  19  13]\n",
      " [  9   7  11  13  94  20]\n",
      " [  5   7   8   4  11  42]]\n",
      "Epoch 22/64, Validation Loss: 0.8475, Validation Accuracy: 0.6634\n",
      "Best model saved! 20241015-0953\n",
      "stable_height\n",
      "2    1828\n",
      "1    1754\n",
      "3    1478\n",
      "4    1105\n",
      "5     772\n",
      "6     407\n",
      "Name: count, dtype: int64\n"
     ]
    },
    {
     "name": "stderr",
     "output_type": "stream",
     "text": [
      "Epoch 23/64: 100%|██████████| 230/230 [01:15<00:00,  3.06batch/s, accuracy=0.701, loss=0.778]  \n"
     ]
    },
    {
     "name": "stdout",
     "output_type": "stream",
     "text": [
      "[0.0001]\n",
      "              precision    recall  f1-score   support\n",
      "\n",
      "           0       0.76      0.63      0.69       384\n",
      "           1       0.76      0.68      0.71       384\n",
      "           2       0.66      0.70      0.68       307\n",
      "           3       0.57      0.70      0.63       230\n",
      "           4       0.53      0.54      0.54       154\n",
      "           5       0.37      0.55      0.44        77\n",
      "\n",
      "    accuracy                           0.65      1536\n",
      "   macro avg       0.61      0.63      0.61      1536\n",
      "weighted avg       0.67      0.65      0.66      1536\n",
      "\n",
      "[[241  44  37  28  17  17]\n",
      " [ 32 260  25  37  14  16]\n",
      " [ 12  19 216  33  18   9]\n",
      " [ 14   8  23 160  15  10]\n",
      " [ 12   7  14  19  83  19]\n",
      " [  5   6  11   4   9  42]]\n",
      "Epoch 23/64, Validation Loss: 0.8536, Validation Accuracy: 0.6523\n",
      "stable_height\n",
      "2    1832\n",
      "1    1783\n",
      "3    1462\n",
      "4    1107\n",
      "5     766\n",
      "6     394\n",
      "Name: count, dtype: int64\n"
     ]
    },
    {
     "name": "stderr",
     "output_type": "stream",
     "text": [
      "Epoch 24/64: 100%|██████████| 230/230 [01:11<00:00,  3.20batch/s, accuracy=0.711, loss=0.766]  \n"
     ]
    },
    {
     "name": "stdout",
     "output_type": "stream",
     "text": [
      "[0.0001]\n",
      "              precision    recall  f1-score   support\n",
      "\n",
      "           0       0.75      0.69      0.72       384\n",
      "           1       0.74      0.70      0.72       384\n",
      "           2       0.65      0.70      0.68       307\n",
      "           3       0.64      0.69      0.66       230\n",
      "           4       0.62      0.53      0.57       154\n",
      "           5       0.34      0.51      0.41        77\n",
      "\n",
      "    accuracy                           0.67      1536\n",
      "   macro avg       0.62      0.63      0.63      1536\n",
      "weighted avg       0.68      0.67      0.67      1536\n",
      "\n",
      "[[265  36  31  31   8  13]\n",
      " [ 31 268  28  28  10  19]\n",
      " [ 18  29 214  20  13  13]\n",
      " [ 12  13  25 159  10  11]\n",
      " [ 20  10  16   7  81  20]\n",
      " [  7   5  13   4   9  39]]\n",
      "Epoch 24/64, Validation Loss: 0.8479, Validation Accuracy: 0.6680\n",
      "Best model saved! 20241015-0956\n",
      "stable_height\n",
      "2    1852\n",
      "1    1756\n",
      "3    1470\n",
      "4    1119\n",
      "5     753\n",
      "6     394\n",
      "Name: count, dtype: int64\n"
     ]
    },
    {
     "name": "stderr",
     "output_type": "stream",
     "text": [
      "Epoch 25/64: 100%|██████████| 230/230 [01:09<00:00,  3.32batch/s, accuracy=0.717, loss=0.752]  \n"
     ]
    },
    {
     "name": "stdout",
     "output_type": "stream",
     "text": [
      "[0.0001]\n",
      "              precision    recall  f1-score   support\n",
      "\n",
      "           0       0.73      0.68      0.70       384\n",
      "           1       0.80      0.66      0.72       384\n",
      "           2       0.66      0.68      0.67       307\n",
      "           3       0.62      0.67      0.64       230\n",
      "           4       0.52      0.60      0.56       154\n",
      "           5       0.35      0.51      0.41        77\n",
      "\n",
      "    accuracy                           0.66      1536\n",
      "   macro avg       0.61      0.63      0.62      1536\n",
      "weighted avg       0.67      0.66      0.66      1536\n",
      "\n",
      "[[262  30  30  28  17  17]\n",
      " [ 35 254  41  25  14  15]\n",
      " [ 25  17 209  21  23  12]\n",
      " [ 19   8  21 153  16  13]\n",
      " [ 13   5  10  17  93  16]\n",
      " [  7   4   7   4  16  39]]\n",
      "Epoch 25/64, Validation Loss: 0.8657, Validation Accuracy: 0.6576\n",
      "stable_height\n",
      "2    1828\n",
      "1    1754\n",
      "3    1478\n",
      "4    1105\n",
      "5     772\n",
      "6     407\n",
      "Name: count, dtype: int64\n"
     ]
    },
    {
     "name": "stderr",
     "output_type": "stream",
     "text": [
      "Epoch 26/64: 100%|██████████| 230/230 [01:13<00:00,  3.14batch/s, accuracy=0.713, loss=0.754]  \n"
     ]
    },
    {
     "name": "stdout",
     "output_type": "stream",
     "text": [
      "[0.0001]\n",
      "              precision    recall  f1-score   support\n",
      "\n",
      "           0       0.75      0.65      0.70       384\n",
      "           1       0.79      0.66      0.71       384\n",
      "           2       0.67      0.70      0.68       307\n",
      "           3       0.58      0.69      0.63       230\n",
      "           4       0.49      0.60      0.54       154\n",
      "           5       0.33      0.44      0.38        77\n",
      "\n",
      "    accuracy                           0.65      1536\n",
      "   macro avg       0.60      0.62      0.61      1536\n",
      "weighted avg       0.67      0.65      0.66      1536\n",
      "\n",
      "[[250  33  33  34  24  10]\n",
      " [ 36 252  30  29  21  16]\n",
      " [ 13  23 214  26  16  15]\n",
      " [ 13   5  25 158  19  10]\n",
      " [ 13   3   9  19  93  17]\n",
      " [  9   5   8   5  16  34]]\n",
      "Epoch 26/64, Validation Loss: 0.8583, Validation Accuracy: 0.6517\n",
      "stable_height\n",
      "2    1832\n",
      "1    1783\n",
      "3    1462\n",
      "4    1107\n",
      "5     766\n",
      "6     394\n",
      "Name: count, dtype: int64\n"
     ]
    },
    {
     "name": "stderr",
     "output_type": "stream",
     "text": [
      "Epoch 27/64: 100%|██████████| 230/230 [01:15<00:00,  3.06batch/s, accuracy=0.718, loss=0.74]   \n"
     ]
    },
    {
     "name": "stdout",
     "output_type": "stream",
     "text": [
      "[0.0001]\n",
      "              precision    recall  f1-score   support\n",
      "\n",
      "           0       0.80      0.71      0.75       384\n",
      "           1       0.77      0.72      0.74       384\n",
      "           2       0.65      0.73      0.69       307\n",
      "           3       0.64      0.60      0.62       230\n",
      "           4       0.49      0.56      0.52       154\n",
      "           5       0.37      0.49      0.42        77\n",
      "\n",
      "    accuracy                           0.67      1536\n",
      "   macro avg       0.62      0.63      0.62      1536\n",
      "weighted avg       0.68      0.67      0.68      1536\n",
      "\n",
      "[[272  30  32  20  16  14]\n",
      " [ 26 275  35  20  17  11]\n",
      " [ 12  20 223  22  20  10]\n",
      " [  9  14  25 137  30  15]\n",
      " [ 13  10  19  10  86  16]\n",
      " [  8   9   8   6   8  38]]\n",
      "Epoch 27/64, Validation Loss: 0.8522, Validation Accuracy: 0.6712\n",
      "Best model saved! 20241015-1000\n",
      "stable_height\n",
      "2    1852\n",
      "1    1756\n",
      "3    1470\n",
      "4    1119\n",
      "5     753\n",
      "6     394\n",
      "Name: count, dtype: int64\n"
     ]
    },
    {
     "name": "stderr",
     "output_type": "stream",
     "text": [
      "Epoch 28/64: 100%|██████████| 230/230 [01:12<00:00,  3.17batch/s, accuracy=0.729, loss=0.721]  \n"
     ]
    },
    {
     "name": "stdout",
     "output_type": "stream",
     "text": [
      "[0.0001]\n",
      "              precision    recall  f1-score   support\n",
      "\n",
      "           0       0.78      0.64      0.70       384\n",
      "           1       0.77      0.68      0.73       384\n",
      "           2       0.69      0.72      0.71       307\n",
      "           3       0.60      0.68      0.64       230\n",
      "           4       0.49      0.56      0.52       154\n",
      "           5       0.32      0.52      0.40        77\n",
      "\n",
      "    accuracy                           0.66      1536\n",
      "   macro avg       0.61      0.63      0.62      1536\n",
      "weighted avg       0.68      0.66      0.67      1536\n",
      "\n",
      "[[244  44  29  35  15  17]\n",
      " [ 30 263  28  30  17  16]\n",
      " [ 11  19 221  21  20  15]\n",
      " [ 11   3  19 157  26  14]\n",
      " [ 14   7  11  13  87  22]\n",
      " [  3   5  10   5  14  40]]\n",
      "Epoch 28/64, Validation Loss: 0.8555, Validation Accuracy: 0.6589\n",
      "stable_height\n",
      "2    1828\n",
      "1    1754\n",
      "3    1478\n",
      "4    1105\n",
      "5     772\n",
      "6     407\n",
      "Name: count, dtype: int64\n"
     ]
    },
    {
     "name": "stderr",
     "output_type": "stream",
     "text": [
      "Epoch 29/64: 100%|██████████| 230/230 [01:16<00:00,  3.02batch/s, accuracy=0.727, loss=0.729]  \n"
     ]
    },
    {
     "name": "stdout",
     "output_type": "stream",
     "text": [
      "[0.0001]\n",
      "              precision    recall  f1-score   support\n",
      "\n",
      "           0       0.79      0.66      0.72       384\n",
      "           1       0.73      0.72      0.73       384\n",
      "           2       0.68      0.65      0.67       307\n",
      "           3       0.62      0.66      0.64       230\n",
      "           4       0.53      0.62      0.57       154\n",
      "           5       0.34      0.52      0.41        77\n",
      "\n",
      "    accuracy                           0.66      1536\n",
      "   macro avg       0.62      0.64      0.62      1536\n",
      "weighted avg       0.68      0.66      0.67      1536\n",
      "\n",
      "[[254  41  32  25  14  18]\n",
      " [ 24 277  26  27  14  16]\n",
      " [ 15  33 201  27  14  17]\n",
      " [ 12  11  18 151  25  13]\n",
      " [ 15   8  13   9  95  14]\n",
      " [  3   9   5   4  16  40]]\n",
      "Epoch 29/64, Validation Loss: 0.8540, Validation Accuracy: 0.6628\n",
      "stable_height\n",
      "2    1832\n",
      "1    1783\n",
      "3    1462\n",
      "4    1107\n",
      "5     766\n",
      "6     394\n",
      "Name: count, dtype: int64\n"
     ]
    },
    {
     "name": "stderr",
     "output_type": "stream",
     "text": [
      "Epoch 30/64: 100%|██████████| 230/230 [01:12<00:00,  3.19batch/s, accuracy=0.735, loss=0.701]  \n"
     ]
    },
    {
     "name": "stdout",
     "output_type": "stream",
     "text": [
      "[1e-05]\n",
      "              precision    recall  f1-score   support\n",
      "\n",
      "           0       0.75      0.65      0.69       384\n",
      "           1       0.75      0.69      0.72       384\n",
      "           2       0.67      0.67      0.67       307\n",
      "           3       0.59      0.60      0.59       230\n",
      "           4       0.49      0.58      0.53       154\n",
      "           5       0.30      0.49      0.37        77\n",
      "\n",
      "    accuracy                           0.64      1536\n",
      "   macro avg       0.59      0.61      0.60      1536\n",
      "weighted avg       0.66      0.64      0.65      1536\n",
      "\n",
      "[[248  38  33  26  19  20]\n",
      " [ 28 266  31  24  17  18]\n",
      " [ 17  26 206  23  19  16]\n",
      " [ 17  12  25 137  30   9]\n",
      " [ 12   6   6  14  90  26]\n",
      " [  8   7   7   7  10  38]]\n",
      "Epoch 30/64, Validation Loss: 0.8903, Validation Accuracy: 0.6413\n",
      "stable_height\n",
      "2    1852\n",
      "1    1756\n",
      "3    1470\n",
      "4    1119\n",
      "5     753\n",
      "6     394\n",
      "Name: count, dtype: int64\n"
     ]
    },
    {
     "name": "stderr",
     "output_type": "stream",
     "text": [
      "Epoch 31/64: 100%|██████████| 230/230 [01:10<00:00,  3.25batch/s, accuracy=0.744, loss=0.682]  \n"
     ]
    },
    {
     "name": "stdout",
     "output_type": "stream",
     "text": [
      "[1e-05]\n",
      "              precision    recall  f1-score   support\n",
      "\n",
      "           0       0.78      0.65      0.71       384\n",
      "           1       0.74      0.73      0.73       384\n",
      "           2       0.67      0.73      0.69       307\n",
      "           3       0.61      0.63      0.62       230\n",
      "           4       0.55      0.60      0.57       154\n",
      "           5       0.33      0.42      0.37        77\n",
      "\n",
      "    accuracy                           0.66      1536\n",
      "   macro avg       0.61      0.62      0.62      1536\n",
      "weighted avg       0.68      0.66      0.67      1536\n",
      "\n",
      "[[250  40  29  29  18  18]\n",
      " [ 26 279  31  22  12  14]\n",
      " [ 12  25 223  23  15   9]\n",
      " [ 12  13  30 145  23   7]\n",
      " [ 14   5  13  14  92  16]\n",
      " [  8  15   9   5   8  32]]\n",
      "Epoch 31/64, Validation Loss: 0.8475, Validation Accuracy: 0.6647\n",
      "stable_height\n",
      "2    1828\n",
      "1    1754\n",
      "3    1478\n",
      "4    1105\n",
      "5     772\n",
      "6     407\n",
      "Name: count, dtype: int64\n"
     ]
    },
    {
     "name": "stderr",
     "output_type": "stream",
     "text": [
      "Epoch 32/64: 100%|██████████| 230/230 [01:14<00:00,  3.09batch/s, accuracy=0.752, loss=0.669]  \n"
     ]
    },
    {
     "name": "stdout",
     "output_type": "stream",
     "text": [
      "[1e-05]\n",
      "              precision    recall  f1-score   support\n",
      "\n",
      "           0       0.75      0.70      0.72       384\n",
      "           1       0.77      0.72      0.75       384\n",
      "           2       0.71      0.70      0.70       307\n",
      "           3       0.64      0.66      0.65       230\n",
      "           4       0.52      0.58      0.55       154\n",
      "           5       0.34      0.45      0.39        77\n",
      "\n",
      "    accuracy                           0.68      1536\n",
      "   macro avg       0.62      0.64      0.63      1536\n",
      "weighted avg       0.69      0.68      0.68      1536\n",
      "\n",
      "[[269  38  25  24  14  14]\n",
      " [ 31 278  25  26  13  11]\n",
      " [ 23  24 214  18  18  10]\n",
      " [ 13   9  23 151  21  13]\n",
      " [ 15   8   9  12  90  20]\n",
      " [  9   5   7   5  16  35]]\n",
      "Epoch 32/64, Validation Loss: 0.8417, Validation Accuracy: 0.6751\n",
      "Best model saved! 20241015-1007\n",
      "stable_height\n",
      "2    1832\n",
      "1    1783\n",
      "3    1462\n",
      "4    1107\n",
      "5     766\n",
      "6     394\n",
      "Name: count, dtype: int64\n"
     ]
    },
    {
     "name": "stderr",
     "output_type": "stream",
     "text": [
      "Epoch 33/64: 100%|██████████| 230/230 [01:08<00:00,  3.36batch/s, accuracy=0.762, loss=0.657]  \n"
     ]
    },
    {
     "name": "stdout",
     "output_type": "stream",
     "text": [
      "[1e-05]\n",
      "              precision    recall  f1-score   support\n",
      "\n",
      "           0       0.74      0.71      0.72       384\n",
      "           1       0.75      0.73      0.74       384\n",
      "           2       0.67      0.67      0.67       307\n",
      "           3       0.63      0.64      0.63       230\n",
      "           4       0.57      0.62      0.60       154\n",
      "           5       0.42      0.45      0.43        77\n",
      "\n",
      "    accuracy                           0.68      1536\n",
      "   macro avg       0.63      0.64      0.63      1536\n",
      "weighted avg       0.68      0.68      0.68      1536\n",
      "\n",
      "[[271  39  28  25  13   8]\n",
      " [ 33 281  25  23  13   9]\n",
      " [ 23  33 207  18  14  12]\n",
      " [ 16  10  25 147  23   9]\n",
      " [ 17   6  10  14  96  11]\n",
      " [  7   7  12   7   9  35]]\n",
      "Epoch 33/64, Validation Loss: 0.8389, Validation Accuracy: 0.6751\n",
      "stable_height\n",
      "2    1852\n",
      "1    1756\n",
      "3    1470\n",
      "4    1119\n",
      "5     753\n",
      "6     394\n",
      "Name: count, dtype: int64\n"
     ]
    },
    {
     "name": "stderr",
     "output_type": "stream",
     "text": [
      "Epoch 34/64: 100%|██████████| 230/230 [01:09<00:00,  3.30batch/s, accuracy=0.752, loss=0.663]  \n"
     ]
    },
    {
     "name": "stdout",
     "output_type": "stream",
     "text": [
      "[1e-05]\n",
      "              precision    recall  f1-score   support\n",
      "\n",
      "           0       0.77      0.68      0.72       384\n",
      "           1       0.77      0.71      0.74       384\n",
      "           2       0.69      0.72      0.71       307\n",
      "           3       0.61      0.70      0.65       230\n",
      "           4       0.55      0.60      0.57       154\n",
      "           5       0.33      0.42      0.37        77\n",
      "\n",
      "    accuracy                           0.68      1536\n",
      "   macro avg       0.62      0.64      0.63      1536\n",
      "weighted avg       0.69      0.68      0.68      1536\n",
      "\n",
      "[[262  34  26  32  18  12]\n",
      " [ 31 271  30  26  14  12]\n",
      " [ 14  24 220  23  13  13]\n",
      " [ 10   8  20 161  20  11]\n",
      " [ 16   7   7  16  92  16]\n",
      " [  7   7  14   6  11  32]]\n",
      "Epoch 34/64, Validation Loss: 0.8529, Validation Accuracy: 0.6758\n",
      "Best model saved! 20241015-1010\n",
      "stable_height\n",
      "2    1828\n",
      "1    1754\n",
      "3    1478\n",
      "4    1105\n",
      "5     772\n",
      "6     407\n",
      "Name: count, dtype: int64\n"
     ]
    },
    {
     "name": "stderr",
     "output_type": "stream",
     "text": [
      "Epoch 35/64: 100%|██████████| 230/230 [01:07<00:00,  3.40batch/s, accuracy=0.754, loss=0.661]  \n"
     ]
    },
    {
     "name": "stdout",
     "output_type": "stream",
     "text": [
      "[1e-05]\n",
      "              precision    recall  f1-score   support\n",
      "\n",
      "           0       0.73      0.68      0.71       384\n",
      "           1       0.77      0.67      0.72       384\n",
      "           2       0.65      0.70      0.67       307\n",
      "           3       0.62      0.62      0.62       230\n",
      "           4       0.52      0.56      0.54       154\n",
      "           5       0.34      0.53      0.41        77\n",
      "\n",
      "    accuracy                           0.65      1536\n",
      "   macro avg       0.61      0.63      0.61      1536\n",
      "weighted avg       0.67      0.65      0.66      1536\n",
      "\n",
      "[[261  33  30  26  21  13]\n",
      " [ 39 258  38  26   8  15]\n",
      " [ 18  21 214  22  18  14]\n",
      " [ 15   9  27 142  22  15]\n",
      " [ 14   6  14   9  87  24]\n",
      " [  9   7   5   5  10  41]]\n",
      "Epoch 35/64, Validation Loss: 0.8826, Validation Accuracy: 0.6530\n",
      "stable_height\n",
      "2    1832\n",
      "1    1783\n",
      "3    1462\n",
      "4    1107\n",
      "5     766\n",
      "6     394\n",
      "Name: count, dtype: int64\n"
     ]
    },
    {
     "name": "stderr",
     "output_type": "stream",
     "text": [
      "Epoch 36/64: 100%|██████████| 230/230 [01:18<00:00,  2.92batch/s, accuracy=0.749, loss=0.658]  \n"
     ]
    },
    {
     "name": "stdout",
     "output_type": "stream",
     "text": [
      "[1e-05]\n",
      "              precision    recall  f1-score   support\n",
      "\n",
      "           0       0.74      0.70      0.72       384\n",
      "           1       0.76      0.68      0.72       384\n",
      "           2       0.68      0.69      0.69       307\n",
      "           3       0.65      0.65      0.65       230\n",
      "           4       0.49      0.62      0.55       154\n",
      "           5       0.39      0.47      0.42        77\n",
      "\n",
      "    accuracy                           0.67      1536\n",
      "   macro avg       0.62      0.64      0.63      1536\n",
      "weighted avg       0.68      0.67      0.67      1536\n",
      "\n",
      "[[270  32  28  24  20  10]\n",
      " [ 38 260  29  23  22  12]\n",
      " [ 16  29 213  19  20  10]\n",
      " [ 15   9  24 150  23   9]\n",
      " [ 15   6  11  10  96  16]\n",
      " [ 10   5   6   4  16  36]]\n",
      "Epoch 36/64, Validation Loss: 0.8776, Validation Accuracy: 0.6673\n",
      "stable_height\n",
      "2    1852\n",
      "1    1756\n",
      "3    1470\n",
      "4    1119\n",
      "5     753\n",
      "6     394\n",
      "Name: count, dtype: int64\n"
     ]
    },
    {
     "name": "stderr",
     "output_type": "stream",
     "text": [
      "Epoch 37/64: 100%|██████████| 230/230 [01:15<00:00,  3.06batch/s, accuracy=0.756, loss=0.652]  \n"
     ]
    },
    {
     "name": "stdout",
     "output_type": "stream",
     "text": [
      "[1e-05]\n",
      "              precision    recall  f1-score   support\n",
      "\n",
      "           0       0.77      0.67      0.72       384\n",
      "           1       0.76      0.66      0.71       384\n",
      "           2       0.70      0.70      0.70       307\n",
      "           3       0.60      0.66      0.63       230\n",
      "           4       0.47      0.62      0.54       154\n",
      "           5       0.30      0.44      0.36        77\n",
      "\n",
      "    accuracy                           0.66      1536\n",
      "   macro avg       0.60      0.62      0.61      1536\n",
      "weighted avg       0.68      0.66      0.66      1536\n",
      "\n",
      "[[258  39  29  24  19  15]\n",
      " [ 34 253  26  31  21  19]\n",
      " [ 13  17 216  23  24  14]\n",
      " [ 10  11  22 151  27   9]\n",
      " [ 11   5  10  12  95  21]\n",
      " [  8   7   5   9  14  34]]\n",
      "Epoch 37/64, Validation Loss: 0.8730, Validation Accuracy: 0.6556\n",
      "stable_height\n",
      "2    1828\n",
      "1    1754\n",
      "3    1478\n",
      "4    1105\n",
      "5     772\n",
      "6     407\n",
      "Name: count, dtype: int64\n"
     ]
    },
    {
     "name": "stderr",
     "output_type": "stream",
     "text": [
      "Epoch 38/64: 100%|██████████| 230/230 [01:21<00:00,  2.82batch/s, accuracy=0.757, loss=0.647]  \n"
     ]
    },
    {
     "name": "stdout",
     "output_type": "stream",
     "text": [
      "[1e-05]\n",
      "              precision    recall  f1-score   support\n",
      "\n",
      "           0       0.77      0.66      0.71       384\n",
      "           1       0.75      0.72      0.73       384\n",
      "           2       0.69      0.70      0.70       307\n",
      "           3       0.60      0.69      0.64       230\n",
      "           4       0.50      0.56      0.53       154\n",
      "           5       0.39      0.44      0.41        77\n",
      "\n",
      "    accuracy                           0.67      1536\n",
      "   macro avg       0.62      0.63      0.62      1536\n",
      "weighted avg       0.68      0.67      0.67      1536\n",
      "\n",
      "[[253  47  32  27  16   9]\n",
      " [ 25 277  24  30  19   9]\n",
      " [ 17  24 216  27  18   5]\n",
      " [ 14   9  19 159  19  10]\n",
      " [ 13   7  12  16  86  20]\n",
      " [  6   7   9   7  14  34]]\n",
      "Epoch 38/64, Validation Loss: 0.8693, Validation Accuracy: 0.6673\n",
      "stable_height\n",
      "2    1832\n",
      "1    1783\n",
      "3    1462\n",
      "4    1107\n",
      "5     766\n",
      "6     394\n",
      "Name: count, dtype: int64\n"
     ]
    },
    {
     "name": "stderr",
     "output_type": "stream",
     "text": [
      "Epoch 39/64: 100%|██████████| 230/230 [01:13<00:00,  3.14batch/s, accuracy=0.764, loss=0.638]  \n"
     ]
    },
    {
     "name": "stdout",
     "output_type": "stream",
     "text": [
      "[1e-05]\n",
      "              precision    recall  f1-score   support\n",
      "\n",
      "           0       0.72      0.67      0.69       384\n",
      "           1       0.78      0.68      0.72       384\n",
      "           2       0.66      0.69      0.68       307\n",
      "           3       0.60      0.62      0.61       230\n",
      "           4       0.46      0.57      0.51       154\n",
      "           5       0.36      0.45      0.40        77\n",
      "\n",
      "    accuracy                           0.65      1536\n",
      "   macro avg       0.60      0.61      0.60      1536\n",
      "weighted avg       0.66      0.65      0.65      1536\n",
      "\n",
      "[[256  33  33  29  19  14]\n",
      " [ 39 261  27  19  26  12]\n",
      " [ 18  22 212  28  16  11]\n",
      " [ 14   8  25 143  29  11]\n",
      " [ 16   9  13  13  88  15]\n",
      " [ 11   3   9   6  13  35]]\n",
      "Epoch 39/64, Validation Loss: 0.8722, Validation Accuracy: 0.6478\n",
      "stable_height\n",
      "2    1852\n",
      "1    1756\n",
      "3    1470\n",
      "4    1119\n",
      "5     753\n",
      "6     394\n",
      "Name: count, dtype: int64\n"
     ]
    },
    {
     "name": "stderr",
     "output_type": "stream",
     "text": [
      "Epoch 40/64: 100%|██████████| 230/230 [01:14<00:00,  3.09batch/s, accuracy=0.755, loss=0.656]  \n"
     ]
    },
    {
     "name": "stdout",
     "output_type": "stream",
     "text": [
      "[1e-05]\n",
      "              precision    recall  f1-score   support\n",
      "\n",
      "           0       0.76      0.67      0.71       384\n",
      "           1       0.72      0.74      0.73       384\n",
      "           2       0.69      0.72      0.70       307\n",
      "           3       0.62      0.60      0.61       230\n",
      "           4       0.55      0.60      0.57       154\n",
      "           5       0.36      0.44      0.40        77\n",
      "\n",
      "    accuracy                           0.67      1536\n",
      "   macro avg       0.62      0.63      0.62      1536\n",
      "weighted avg       0.68      0.67      0.67      1536\n",
      "\n",
      "[[257  41  31  21  23  11]\n",
      " [ 29 284  28  24  10   9]\n",
      " [ 13  30 222  21  13   8]\n",
      " [ 18  20  21 139  20  12]\n",
      " [ 11   7  10  13  92  21]\n",
      " [  8  11  11   5   8  34]]\n",
      "Epoch 40/64, Validation Loss: 0.8937, Validation Accuracy: 0.6693\n",
      "stable_height\n",
      "2    1828\n",
      "1    1754\n",
      "3    1478\n",
      "4    1105\n",
      "5     772\n",
      "6     407\n",
      "Name: count, dtype: int64\n"
     ]
    },
    {
     "name": "stderr",
     "output_type": "stream",
     "text": [
      "Epoch 41/64: 100%|██████████| 230/230 [01:11<00:00,  3.20batch/s, accuracy=0.76, loss=0.646]   \n"
     ]
    },
    {
     "name": "stdout",
     "output_type": "stream",
     "text": [
      "[1e-05]\n",
      "              precision    recall  f1-score   support\n",
      "\n",
      "           0       0.75      0.69      0.72       384\n",
      "           1       0.75      0.71      0.73       384\n",
      "           2       0.72      0.70      0.71       307\n",
      "           3       0.63      0.71      0.67       230\n",
      "           4       0.54      0.61      0.57       154\n",
      "           5       0.35      0.39      0.37        77\n",
      "\n",
      "    accuracy                           0.68      1536\n",
      "   macro avg       0.62      0.64      0.63      1536\n",
      "weighted avg       0.68      0.68      0.68      1536\n",
      "\n",
      "[[264  37  26  28  20   9]\n",
      " [ 38 274  23  25  15   9]\n",
      " [ 15  29 214  23  17   9]\n",
      " [ 14  13  17 164  11  11]\n",
      " [ 11   8   8  16  94  17]\n",
      " [ 10   6  10   5  16  30]]\n",
      "Epoch 41/64, Validation Loss: 0.8756, Validation Accuracy: 0.6771\n",
      "Best model saved! 20241015-1020\n",
      "stable_height\n",
      "2    1832\n",
      "1    1783\n",
      "3    1462\n",
      "4    1107\n",
      "5     766\n",
      "6     394\n",
      "Name: count, dtype: int64\n"
     ]
    },
    {
     "name": "stderr",
     "output_type": "stream",
     "text": [
      "Epoch 42/64: 100%|██████████| 230/230 [01:15<00:00,  3.04batch/s, accuracy=0.764, loss=0.642] \n"
     ]
    },
    {
     "name": "stdout",
     "output_type": "stream",
     "text": [
      "[1e-05]\n",
      "              precision    recall  f1-score   support\n",
      "\n",
      "           0       0.77      0.66      0.71       384\n",
      "           1       0.74      0.74      0.74       384\n",
      "           2       0.73      0.70      0.71       307\n",
      "           3       0.64      0.70      0.67       230\n",
      "           4       0.55      0.60      0.57       154\n",
      "           5       0.32      0.44      0.37        77\n",
      "\n",
      "    accuracy                           0.68      1536\n",
      "   macro avg       0.62      0.64      0.63      1536\n",
      "weighted avg       0.69      0.68      0.68      1536\n",
      "\n",
      "[[254  46  26  26  16  16]\n",
      " [ 25 284  25  20  16  14]\n",
      " [ 14  29 215  22  14  13]\n",
      " [ 15  12  17 160  16  10]\n",
      " [ 14   5   7  15  93  20]\n",
      " [ 10   7   5   6  15  34]]\n",
      "Epoch 42/64, Validation Loss: 0.8790, Validation Accuracy: 0.6771\n",
      "stable_height\n",
      "2    1852\n",
      "1    1756\n",
      "3    1470\n",
      "4    1119\n",
      "5     753\n",
      "6     394\n",
      "Name: count, dtype: int64\n"
     ]
    },
    {
     "name": "stderr",
     "output_type": "stream",
     "text": [
      "Epoch 43/64: 100%|██████████| 230/230 [01:12<00:00,  3.16batch/s, accuracy=0.759, loss=0.645]  \n"
     ]
    },
    {
     "name": "stdout",
     "output_type": "stream",
     "text": [
      "[1e-05]\n",
      "              precision    recall  f1-score   support\n",
      "\n",
      "           0       0.76      0.72      0.74       384\n",
      "           1       0.76      0.69      0.73       384\n",
      "           2       0.68      0.70      0.69       307\n",
      "           3       0.64      0.67      0.65       230\n",
      "           4       0.56      0.56      0.56       154\n",
      "           5       0.36      0.52      0.43        77\n",
      "\n",
      "    accuracy                           0.68      1536\n",
      "   macro avg       0.63      0.64      0.63      1536\n",
      "weighted avg       0.69      0.68      0.68      1536\n",
      "\n",
      "[[276  33  30  23  10  12]\n",
      " [ 33 265  30  28  13  15]\n",
      " [ 19  26 216  18  16  12]\n",
      " [ 14   8  23 154  18  13]\n",
      " [ 15   8  11  15  87  18]\n",
      " [  8   7   7   4  11  40]]\n",
      "Epoch 43/64, Validation Loss: 0.8692, Validation Accuracy: 0.6758\n",
      "stable_height\n",
      "2    1828\n",
      "1    1754\n",
      "3    1478\n",
      "4    1105\n",
      "5     772\n",
      "6     407\n",
      "Name: count, dtype: int64\n"
     ]
    },
    {
     "name": "stderr",
     "output_type": "stream",
     "text": [
      "Epoch 44/64: 100%|██████████| 230/230 [01:10<00:00,  3.27batch/s, accuracy=0.764, loss=0.636]  \n"
     ]
    },
    {
     "name": "stdout",
     "output_type": "stream",
     "text": [
      "[1e-05]\n",
      "              precision    recall  f1-score   support\n",
      "\n",
      "           0       0.76      0.69      0.72       384\n",
      "           1       0.78      0.70      0.74       384\n",
      "           2       0.70      0.70      0.70       307\n",
      "           3       0.61      0.64      0.63       230\n",
      "           4       0.49      0.63      0.55       154\n",
      "           5       0.35      0.42      0.38        77\n",
      "\n",
      "    accuracy                           0.67      1536\n",
      "   macro avg       0.61      0.63      0.62      1536\n",
      "weighted avg       0.68      0.67      0.67      1536\n",
      "\n",
      "[[266  32  26  25  22  13]\n",
      " [ 32 269  27  29  14  13]\n",
      " [ 19  25 216  22  17   8]\n",
      " [ 12  10  22 148  29   9]\n",
      " [ 12   8   7  14  97  16]\n",
      " [  9   2  11   5  18  32]]\n",
      "Epoch 44/64, Validation Loss: 0.8787, Validation Accuracy: 0.6693\n",
      "stable_height\n",
      "2    1832\n",
      "1    1783\n",
      "3    1462\n",
      "4    1107\n",
      "5     766\n",
      "6     394\n",
      "Name: count, dtype: int64\n"
     ]
    },
    {
     "name": "stderr",
     "output_type": "stream",
     "text": [
      "Epoch 45/64: 100%|██████████| 230/230 [01:14<00:00,  3.08batch/s, accuracy=0.768, loss=0.631]  \n"
     ]
    },
    {
     "name": "stdout",
     "output_type": "stream",
     "text": [
      "[1.0000000000000002e-06]\n",
      "              precision    recall  f1-score   support\n",
      "\n",
      "           0       0.74      0.65      0.69       384\n",
      "           1       0.74      0.72      0.73       384\n",
      "           2       0.71      0.69      0.70       307\n",
      "           3       0.63      0.67      0.65       230\n",
      "           4       0.53      0.61      0.57       154\n",
      "           5       0.38      0.52      0.44        77\n",
      "\n",
      "    accuracy                           0.67      1536\n",
      "   macro avg       0.62      0.64      0.63      1536\n",
      "weighted avg       0.68      0.67      0.67      1536\n",
      "\n",
      "[[250  47  26  29  18  14]\n",
      " [ 34 277  25  22  15  11]\n",
      " [ 12  27 213  23  21  11]\n",
      " [ 14   9  22 153  20  12]\n",
      " [ 20   7   9   8  94  16]\n",
      " [  7   8   7   7   8  40]]\n",
      "Epoch 45/64, Validation Loss: 0.8660, Validation Accuracy: 0.6686\n",
      "stable_height\n",
      "2    1852\n",
      "1    1756\n",
      "3    1470\n",
      "4    1119\n",
      "5     753\n",
      "6     394\n",
      "Name: count, dtype: int64\n"
     ]
    },
    {
     "name": "stderr",
     "output_type": "stream",
     "text": [
      "Epoch 46/64: 100%|██████████| 230/230 [01:09<00:00,  3.33batch/s, accuracy=0.761, loss=0.642]  \n"
     ]
    },
    {
     "name": "stdout",
     "output_type": "stream",
     "text": [
      "[1.0000000000000002e-06]\n",
      "              precision    recall  f1-score   support\n",
      "\n",
      "           0       0.74      0.71      0.72       384\n",
      "           1       0.77      0.69      0.73       384\n",
      "           2       0.70      0.68      0.69       307\n",
      "           3       0.59      0.67      0.63       230\n",
      "           4       0.56      0.61      0.58       154\n",
      "           5       0.31      0.40      0.35        77\n",
      "\n",
      "    accuracy                           0.67      1536\n",
      "   macro avg       0.61      0.63      0.62      1536\n",
      "weighted avg       0.68      0.67      0.67      1536\n",
      "\n",
      "[[271  33  22  30  14  14]\n",
      " [ 33 266  27  32  14  12]\n",
      " [ 22  23 209  29  14  10]\n",
      " [ 12  10  20 155  20  13]\n",
      " [ 14   7   8  12  94  19]\n",
      " [ 12   6  11   5  12  31]]\n",
      "Epoch 46/64, Validation Loss: 0.8754, Validation Accuracy: 0.6680\n",
      "stable_height\n",
      "2    1828\n",
      "1    1754\n",
      "3    1478\n",
      "4    1105\n",
      "5     772\n",
      "6     407\n",
      "Name: count, dtype: int64\n"
     ]
    },
    {
     "name": "stderr",
     "output_type": "stream",
     "text": [
      "Epoch 47/64: 100%|██████████| 230/230 [01:14<00:00,  3.07batch/s, accuracy=0.769, loss=0.641]  \n"
     ]
    },
    {
     "name": "stdout",
     "output_type": "stream",
     "text": [
      "[1.0000000000000002e-06]\n",
      "              precision    recall  f1-score   support\n",
      "\n",
      "           0       0.76      0.69      0.72       384\n",
      "           1       0.78      0.68      0.72       384\n",
      "           2       0.68      0.70      0.69       307\n",
      "           3       0.61      0.66      0.63       230\n",
      "           4       0.50      0.60      0.54       154\n",
      "           5       0.39      0.51      0.44        77\n",
      "\n",
      "    accuracy                           0.67      1536\n",
      "   macro avg       0.62      0.64      0.63      1536\n",
      "weighted avg       0.68      0.67      0.67      1536\n",
      "\n",
      "[[264  33  32  28  19   8]\n",
      " [ 37 261  27  29  20  10]\n",
      " [ 16  24 215  21  18  13]\n",
      " [ 13   5  24 152  26  10]\n",
      " [ 11   4  11  17  92  19]\n",
      " [  7   9   9   4   9  39]]\n",
      "Epoch 47/64, Validation Loss: 0.8527, Validation Accuracy: 0.6660\n",
      "stable_height\n",
      "2    1832\n",
      "1    1783\n",
      "3    1462\n",
      "4    1107\n",
      "5     766\n",
      "6     394\n",
      "Name: count, dtype: int64\n"
     ]
    },
    {
     "name": "stderr",
     "output_type": "stream",
     "text": [
      "Epoch 48/64: 100%|██████████| 230/230 [01:15<00:00,  3.06batch/s, accuracy=0.762, loss=0.63]   \n"
     ]
    },
    {
     "name": "stdout",
     "output_type": "stream",
     "text": [
      "[1.0000000000000002e-06]\n",
      "              precision    recall  f1-score   support\n",
      "\n",
      "           0       0.77      0.69      0.73       384\n",
      "           1       0.74      0.69      0.72       384\n",
      "           2       0.65      0.72      0.68       307\n",
      "           3       0.66      0.70      0.68       230\n",
      "           4       0.55      0.60      0.57       154\n",
      "           5       0.39      0.43      0.41        77\n",
      "\n",
      "    accuracy                           0.68      1536\n",
      "   macro avg       0.63      0.64      0.63      1536\n",
      "weighted avg       0.68      0.68      0.68      1536\n",
      "\n",
      "[[265  35  29  23  20  12]\n",
      " [ 29 265  35  25  18  12]\n",
      " [ 22  27 220  20  13   5]\n",
      " [ 11   7  29 161  14   8]\n",
      " [ 10  11  14  11  93  15]\n",
      " [  6  11  11   4  12  33]]\n",
      "Epoch 48/64, Validation Loss: 0.8644, Validation Accuracy: 0.6751\n",
      "stable_height\n",
      "2    1852\n",
      "1    1756\n",
      "3    1470\n",
      "4    1119\n",
      "5     753\n",
      "6     394\n",
      "Name: count, dtype: int64\n"
     ]
    },
    {
     "name": "stderr",
     "output_type": "stream",
     "text": [
      "Epoch 49/64: 100%|██████████| 230/230 [01:11<00:00,  3.24batch/s, accuracy=0.762, loss=0.636]  \n"
     ]
    },
    {
     "name": "stdout",
     "output_type": "stream",
     "text": [
      "[1.0000000000000002e-06]\n",
      "              precision    recall  f1-score   support\n",
      "\n",
      "           0       0.73      0.68      0.70       384\n",
      "           1       0.80      0.71      0.75       384\n",
      "           2       0.70      0.70      0.70       307\n",
      "           3       0.61      0.67      0.64       230\n",
      "           4       0.50      0.63      0.56       154\n",
      "           5       0.38      0.40      0.39        77\n",
      "\n",
      "    accuracy                           0.67      1536\n",
      "   macro avg       0.62      0.63      0.62      1536\n",
      "weighted avg       0.68      0.67      0.67      1536\n",
      "\n",
      "[[260  34  27  34  19  10]\n",
      " [ 36 274  23  23  20   8]\n",
      " [ 19  19 216  17  26  10]\n",
      " [ 16   7  26 153  21   7]\n",
      " [ 13   4   8  17  97  15]\n",
      " [ 11   6  10   7  12  31]]\n",
      "Epoch 49/64, Validation Loss: 0.8640, Validation Accuracy: 0.6712\n",
      "stable_height\n",
      "2    1828\n",
      "1    1754\n",
      "3    1478\n",
      "4    1105\n",
      "5     772\n",
      "6     407\n",
      "Name: count, dtype: int64\n"
     ]
    },
    {
     "name": "stderr",
     "output_type": "stream",
     "text": [
      "Epoch 50/64: 100%|██████████| 230/230 [01:11<00:00,  3.21batch/s, accuracy=0.765, loss=0.629]  \n"
     ]
    },
    {
     "name": "stdout",
     "output_type": "stream",
     "text": [
      "[1.0000000000000002e-06]\n",
      "              precision    recall  f1-score   support\n",
      "\n",
      "           0       0.76      0.67      0.71       384\n",
      "           1       0.75      0.71      0.73       384\n",
      "           2       0.69      0.68      0.69       307\n",
      "           3       0.63      0.69      0.66       230\n",
      "           4       0.51      0.57      0.54       154\n",
      "           5       0.31      0.43      0.36        77\n",
      "\n",
      "    accuracy                           0.66      1536\n",
      "   macro avg       0.61      0.62      0.61      1536\n",
      "weighted avg       0.68      0.66      0.67      1536\n",
      "\n",
      "[[259  39  28  29  13  16]\n",
      " [ 33 271  26  26  18  10]\n",
      " [ 21  25 209  19  18  15]\n",
      " [ 10  10  18 158  19  15]\n",
      " [ 13  10  14  12  88  17]\n",
      " [  6   8   7   7  16  33]]\n",
      "Epoch 50/64, Validation Loss: 0.8624, Validation Accuracy: 0.6628\n",
      "stable_height\n",
      "2    1832\n",
      "1    1783\n",
      "3    1462\n",
      "4    1107\n",
      "5     766\n",
      "6     394\n",
      "Name: count, dtype: int64\n"
     ]
    },
    {
     "name": "stderr",
     "output_type": "stream",
     "text": [
      "Epoch 51/64: 100%|██████████| 230/230 [01:14<00:00,  3.10batch/s, accuracy=0.765, loss=0.638]  \n"
     ]
    },
    {
     "name": "stdout",
     "output_type": "stream",
     "text": [
      "[1.0000000000000002e-06]\n",
      "              precision    recall  f1-score   support\n",
      "\n",
      "           0       0.76      0.65      0.70       384\n",
      "           1       0.76      0.71      0.74       384\n",
      "           2       0.67      0.68      0.68       307\n",
      "           3       0.62      0.65      0.63       230\n",
      "           4       0.53      0.60      0.56       154\n",
      "           5       0.39      0.60      0.47        77\n",
      "\n",
      "    accuracy                           0.67      1536\n",
      "   macro avg       0.62      0.65      0.63      1536\n",
      "weighted avg       0.68      0.67      0.67      1536\n",
      "\n",
      "[[251  39  41  23  14  16]\n",
      " [ 28 274  23  26  20  13]\n",
      " [ 14  27 210  26  17  13]\n",
      " [ 16  11  23 149  21  10]\n",
      " [ 14   4  10  15  92  19]\n",
      " [  7   5   8   3   8  46]]\n",
      "Epoch 51/64, Validation Loss: 0.8823, Validation Accuracy: 0.6654\n",
      "stable_height\n",
      "2    1852\n",
      "1    1756\n",
      "3    1470\n",
      "4    1119\n",
      "5     753\n",
      "6     394\n",
      "Name: count, dtype: int64\n"
     ]
    },
    {
     "name": "stderr",
     "output_type": "stream",
     "text": [
      "Epoch 52/64: 100%|██████████| 230/230 [01:15<00:00,  3.05batch/s, accuracy=0.764, loss=0.63]   \n"
     ]
    },
    {
     "name": "stdout",
     "output_type": "stream",
     "text": [
      "[1.0000000000000002e-06]\n",
      "              precision    recall  f1-score   support\n",
      "\n",
      "           0       0.77      0.68      0.72       384\n",
      "           1       0.76      0.71      0.73       384\n",
      "           2       0.69      0.69      0.69       307\n",
      "           3       0.60      0.65      0.62       230\n",
      "           4       0.52      0.58      0.55       154\n",
      "           5       0.39      0.53      0.45        77\n",
      "\n",
      "    accuracy                           0.67      1536\n",
      "   macro avg       0.62      0.64      0.63      1536\n",
      "weighted avg       0.68      0.67      0.67      1536\n",
      "\n",
      "[[262  37  24  27  18  16]\n",
      " [ 30 272  30  26  15  11]\n",
      " [ 16  28 212  25  15  11]\n",
      " [ 15  10  22 149  23  11]\n",
      " [ 12   9  12  15  90  16]\n",
      " [  7   3   8   7  11  41]]\n",
      "Epoch 52/64, Validation Loss: 0.8924, Validation Accuracy: 0.6680\n",
      "stable_height\n",
      "2    1828\n",
      "1    1754\n",
      "3    1478\n",
      "4    1105\n",
      "5     772\n",
      "6     407\n",
      "Name: count, dtype: int64\n"
     ]
    },
    {
     "name": "stderr",
     "output_type": "stream",
     "text": [
      "Epoch 53/64: 100%|██████████| 230/230 [01:13<00:00,  3.13batch/s, accuracy=0.757, loss=0.641]  \n"
     ]
    },
    {
     "name": "stdout",
     "output_type": "stream",
     "text": [
      "[1.0000000000000002e-06]\n",
      "              precision    recall  f1-score   support\n",
      "\n",
      "           0       0.75      0.64      0.69       384\n",
      "           1       0.77      0.68      0.72       384\n",
      "           2       0.66      0.73      0.69       307\n",
      "           3       0.64      0.68      0.66       230\n",
      "           4       0.50      0.59      0.54       154\n",
      "           5       0.39      0.51      0.44        77\n",
      "\n",
      "    accuracy                           0.66      1536\n",
      "   macro avg       0.62      0.64      0.63      1536\n",
      "weighted avg       0.68      0.66      0.67      1536\n",
      "\n",
      "[[247  33  37  29  23  15]\n",
      " [ 33 261  39  21  19  11]\n",
      " [ 14  23 225  17  19   9]\n",
      " [ 14   8  24 157  23   4]\n",
      " [ 14   8   7  13  91  21]\n",
      " [  7   7  11   7   6  39]]\n",
      "Epoch 53/64, Validation Loss: 0.8861, Validation Accuracy: 0.6641\n",
      "stable_height\n",
      "2    1832\n",
      "1    1783\n",
      "3    1462\n",
      "4    1107\n",
      "5     766\n",
      "6     394\n",
      "Name: count, dtype: int64\n"
     ]
    },
    {
     "name": "stderr",
     "output_type": "stream",
     "text": [
      "Epoch 54/64: 100%|██████████| 230/230 [01:10<00:00,  3.28batch/s, accuracy=0.769, loss=0.619]  \n"
     ]
    },
    {
     "name": "stdout",
     "output_type": "stream",
     "text": [
      "[1.0000000000000002e-06]\n",
      "              precision    recall  f1-score   support\n",
      "\n",
      "           0       0.76      0.69      0.72       384\n",
      "           1       0.76      0.73      0.74       384\n",
      "           2       0.70      0.67      0.69       307\n",
      "           3       0.61      0.68      0.64       230\n",
      "           4       0.56      0.62      0.59       154\n",
      "           5       0.38      0.51      0.44        77\n",
      "\n",
      "    accuracy                           0.68      1536\n",
      "   macro avg       0.63      0.65      0.64      1536\n",
      "weighted avg       0.69      0.68      0.68      1536\n",
      "\n",
      "[[264  36  23  29  19  13]\n",
      " [ 31 279  24  24  13  13]\n",
      " [ 19  30 205  24  15  14]\n",
      " [ 10  12  22 156  20  10]\n",
      " [ 13   6   9  17  96  13]\n",
      " [ 10   6   8   6   8  39]]\n",
      "Epoch 54/64, Validation Loss: 0.8655, Validation Accuracy: 0.6764\n",
      "stable_height\n",
      "2    1852\n",
      "1    1756\n",
      "3    1470\n",
      "4    1119\n",
      "5     753\n",
      "6     394\n",
      "Name: count, dtype: int64\n"
     ]
    },
    {
     "name": "stderr",
     "output_type": "stream",
     "text": [
      "Epoch 55/64: 100%|██████████| 230/230 [01:10<00:00,  3.26batch/s, accuracy=0.768, loss=0.631]  \n"
     ]
    },
    {
     "name": "stdout",
     "output_type": "stream",
     "text": [
      "[1.0000000000000002e-06]\n",
      "              precision    recall  f1-score   support\n",
      "\n",
      "           0       0.77      0.69      0.73       384\n",
      "           1       0.75      0.73      0.74       384\n",
      "           2       0.71      0.70      0.70       307\n",
      "           3       0.66      0.70      0.68       230\n",
      "           4       0.56      0.62      0.59       154\n",
      "           5       0.39      0.51      0.44        77\n",
      "\n",
      "    accuracy                           0.69      1536\n",
      "   macro avg       0.64      0.66      0.65      1536\n",
      "weighted avg       0.70      0.69      0.69      1536\n",
      "\n",
      "[[266  43  22  22  16  15]\n",
      " [ 27 280  25  26  16  10]\n",
      " [ 18  28 214  21  19   7]\n",
      " [ 11  10  26 161  14   8]\n",
      " [ 14   4  11   7  96  22]\n",
      " [ 10   7   3   8  10  39]]\n",
      "Epoch 55/64, Validation Loss: 0.8835, Validation Accuracy: 0.6875\n",
      "Best model saved! 20241015-1040\n",
      "stable_height\n",
      "2    1828\n",
      "1    1754\n",
      "3    1478\n",
      "4    1105\n",
      "5     772\n",
      "6     407\n",
      "Name: count, dtype: int64\n"
     ]
    },
    {
     "name": "stderr",
     "output_type": "stream",
     "text": [
      "Epoch 56/64: 100%|██████████| 230/230 [01:09<00:00,  3.31batch/s, accuracy=0.758, loss=0.642]  \n"
     ]
    },
    {
     "name": "stdout",
     "output_type": "stream",
     "text": [
      "[1.0000000000000002e-06]\n",
      "              precision    recall  f1-score   support\n",
      "\n",
      "           0       0.77      0.68      0.72       384\n",
      "           1       0.77      0.70      0.73       384\n",
      "           2       0.66      0.71      0.69       307\n",
      "           3       0.66      0.67      0.66       230\n",
      "           4       0.53      0.63      0.58       154\n",
      "           5       0.41      0.55      0.47        77\n",
      "\n",
      "    accuracy                           0.68      1536\n",
      "   macro avg       0.63      0.65      0.64      1536\n",
      "weighted avg       0.69      0.68      0.68      1536\n",
      "\n",
      "[[261  27  34  28  21  13]\n",
      " [ 36 267  37  19  16   9]\n",
      " [ 15  27 218  18  17  12]\n",
      " [ 13  12  22 154  20   9]\n",
      " [  8   7  11  13  97  18]\n",
      " [  8   6   7   3  11  42]]\n",
      "Epoch 56/64, Validation Loss: 0.8615, Validation Accuracy: 0.6764\n",
      "stable_height\n",
      "2    1832\n",
      "1    1783\n",
      "3    1462\n",
      "4    1107\n",
      "5     766\n",
      "6     394\n",
      "Name: count, dtype: int64\n"
     ]
    },
    {
     "name": "stderr",
     "output_type": "stream",
     "text": [
      "Epoch 57/64: 100%|██████████| 230/230 [01:11<00:00,  3.23batch/s, accuracy=0.764, loss=0.637]  \n"
     ]
    },
    {
     "name": "stdout",
     "output_type": "stream",
     "text": [
      "[1.0000000000000002e-06]\n",
      "              precision    recall  f1-score   support\n",
      "\n",
      "           0       0.71      0.68      0.69       384\n",
      "           1       0.75      0.69      0.72       384\n",
      "           2       0.67      0.67      0.67       307\n",
      "           3       0.64      0.65      0.64       230\n",
      "           4       0.52      0.58      0.55       154\n",
      "           5       0.37      0.49      0.42        77\n",
      "\n",
      "    accuracy                           0.66      1536\n",
      "   macro avg       0.61      0.63      0.62      1536\n",
      "weighted avg       0.67      0.66      0.66      1536\n",
      "\n",
      "[[260  40  31  24  15  14]\n",
      " [ 41 266  29  23  15  10]\n",
      " [ 26  27 207  21  15  11]\n",
      " [ 17   6  26 149  22  10]\n",
      " [ 12   9  11  12  89  21]\n",
      " [ 10   7   4   4  14  38]]\n",
      "Epoch 57/64, Validation Loss: 0.8937, Validation Accuracy: 0.6569\n",
      "stable_height\n",
      "2    1852\n",
      "1    1756\n",
      "3    1470\n",
      "4    1119\n",
      "5     753\n",
      "6     394\n",
      "Name: count, dtype: int64\n"
     ]
    },
    {
     "name": "stderr",
     "output_type": "stream",
     "text": [
      "Epoch 58/64: 100%|██████████| 230/230 [01:15<00:00,  3.06batch/s, accuracy=0.762, loss=0.628]  \n"
     ]
    },
    {
     "name": "stdout",
     "output_type": "stream",
     "text": [
      "[1.0000000000000002e-06]\n",
      "              precision    recall  f1-score   support\n",
      "\n",
      "           0       0.75      0.67      0.70       384\n",
      "           1       0.77      0.69      0.73       384\n",
      "           2       0.67      0.70      0.68       307\n",
      "           3       0.64      0.67      0.66       230\n",
      "           4       0.51      0.64      0.57       154\n",
      "           5       0.38      0.45      0.41        77\n",
      "\n",
      "    accuracy                           0.67      1536\n",
      "   macro avg       0.62      0.64      0.62      1536\n",
      "weighted avg       0.68      0.67      0.67      1536\n",
      "\n",
      "[[256  36  32  26  21  13]\n",
      " [ 30 265  33  23  24   9]\n",
      " [ 25  22 214  24  17   5]\n",
      " [ 13  10  20 154  21  12]\n",
      " [ 11   5  11   9  99  19]\n",
      " [  8   7  11   4  12  35]]\n",
      "Epoch 58/64, Validation Loss: 0.8843, Validation Accuracy: 0.6660\n",
      "stable_height\n",
      "2    1828\n",
      "1    1754\n",
      "3    1478\n",
      "4    1105\n",
      "5     772\n",
      "6     407\n",
      "Name: count, dtype: int64\n"
     ]
    },
    {
     "name": "stderr",
     "output_type": "stream",
     "text": [
      "Epoch 59/64: 100%|██████████| 230/230 [01:12<00:00,  3.15batch/s, accuracy=0.759, loss=0.635]  \n"
     ]
    },
    {
     "name": "stdout",
     "output_type": "stream",
     "text": [
      "[1.0000000000000002e-06]\n",
      "              precision    recall  f1-score   support\n",
      "\n",
      "           0       0.75      0.68      0.72       384\n",
      "           1       0.72      0.70      0.71       384\n",
      "           2       0.66      0.70      0.68       307\n",
      "           3       0.66      0.65      0.66       230\n",
      "           4       0.50      0.56      0.53       154\n",
      "           5       0.38      0.47      0.42        77\n",
      "\n",
      "    accuracy                           0.66      1536\n",
      "   macro avg       0.61      0.63      0.62      1536\n",
      "weighted avg       0.67      0.66      0.67      1536\n",
      "\n",
      "[[262  44  28  23  16  11]\n",
      " [ 30 267  35  24  18  10]\n",
      " [ 17  31 216  17  17   9]\n",
      " [ 15   9  21 150  24  11]\n",
      " [ 18  10  13   8  86  19]\n",
      " [  6   8  12   5  10  36]]\n",
      "Epoch 59/64, Validation Loss: 0.8928, Validation Accuracy: 0.6621\n",
      "stable_height\n",
      "2    1832\n",
      "1    1783\n",
      "3    1462\n",
      "4    1107\n",
      "5     766\n",
      "6     394\n",
      "Name: count, dtype: int64\n"
     ]
    },
    {
     "name": "stderr",
     "output_type": "stream",
     "text": [
      "Epoch 60/64: 100%|██████████| 230/230 [01:13<00:00,  3.15batch/s, accuracy=0.768, loss=0.634]  \n"
     ]
    },
    {
     "name": "stdout",
     "output_type": "stream",
     "text": [
      "[1.0000000000000002e-07]\n",
      "              precision    recall  f1-score   support\n",
      "\n",
      "           0       0.77      0.66      0.71       384\n",
      "           1       0.72      0.73      0.73       384\n",
      "           2       0.68      0.70      0.69       307\n",
      "           3       0.64      0.67      0.65       230\n",
      "           4       0.54      0.57      0.56       154\n",
      "           5       0.41      0.52      0.46        77\n",
      "\n",
      "    accuracy                           0.67      1536\n",
      "   macro avg       0.63      0.64      0.63      1536\n",
      "weighted avg       0.68      0.67      0.67      1536\n",
      "\n",
      "[[255  40  37  28  15   9]\n",
      " [ 32 280  21  28  14   9]\n",
      " [ 16  34 216  14  17  10]\n",
      " [ 12  15  22 153  18  10]\n",
      " [  9  12  13  13  88  19]\n",
      " [  7   7   9   4  10  40]]\n",
      "Epoch 60/64, Validation Loss: 0.8573, Validation Accuracy: 0.6719\n",
      "stable_height\n",
      "2    1852\n",
      "1    1756\n",
      "3    1470\n",
      "4    1119\n",
      "5     753\n",
      "6     394\n",
      "Name: count, dtype: int64\n"
     ]
    },
    {
     "name": "stderr",
     "output_type": "stream",
     "text": [
      "Epoch 61/64: 100%|██████████| 230/230 [01:11<00:00,  3.20batch/s, accuracy=0.77, loss=0.623]   \n"
     ]
    },
    {
     "name": "stdout",
     "output_type": "stream",
     "text": [
      "[1.0000000000000002e-07]\n",
      "              precision    recall  f1-score   support\n",
      "\n",
      "           0       0.77      0.67      0.72       384\n",
      "           1       0.75      0.70      0.72       384\n",
      "           2       0.69      0.68      0.69       307\n",
      "           3       0.60      0.65      0.63       230\n",
      "           4       0.48      0.58      0.53       154\n",
      "           5       0.36      0.51      0.42        77\n",
      "\n",
      "    accuracy                           0.66      1536\n",
      "   macro avg       0.61      0.63      0.62      1536\n",
      "weighted avg       0.68      0.66      0.66      1536\n",
      "\n",
      "[[256  38  31  28  18  13]\n",
      " [ 28 268  29  26  20  13]\n",
      " [ 15  26 210  24  19  13]\n",
      " [ 15  11  19 150  24  11]\n",
      " [ 12  12   7  15  90  18]\n",
      " [  6   3   7   5  17  39]]\n",
      "Epoch 61/64, Validation Loss: 0.8763, Validation Accuracy: 0.6595\n",
      "stable_height\n",
      "2    1828\n",
      "1    1754\n",
      "3    1478\n",
      "4    1105\n",
      "5     772\n",
      "6     407\n",
      "Name: count, dtype: int64\n"
     ]
    },
    {
     "name": "stderr",
     "output_type": "stream",
     "text": [
      "Epoch 62/64: 100%|██████████| 230/230 [01:10<00:00,  3.28batch/s, accuracy=0.766, loss=0.627]  \n"
     ]
    },
    {
     "name": "stdout",
     "output_type": "stream",
     "text": [
      "[1.0000000000000002e-07]\n",
      "              precision    recall  f1-score   support\n",
      "\n",
      "           0       0.76      0.67      0.71       384\n",
      "           1       0.76      0.72      0.74       384\n",
      "           2       0.67      0.69      0.68       307\n",
      "           3       0.62      0.65      0.63       230\n",
      "           4       0.54      0.56      0.55       154\n",
      "           5       0.35      0.52      0.42        77\n",
      "\n",
      "    accuracy                           0.67      1536\n",
      "   macro avg       0.62      0.64      0.62      1536\n",
      "weighted avg       0.68      0.67      0.67      1536\n",
      "\n",
      "[[258  38  30  25  17  16]\n",
      " [ 32 276  27  26   9  14]\n",
      " [ 16  31 213  23  15   9]\n",
      " [ 11   7  25 150  22  15]\n",
      " [ 13   6  13  15  87  20]\n",
      " [  8   5   8   4  12  40]]\n",
      "Epoch 62/64, Validation Loss: 0.8507, Validation Accuracy: 0.6667\n",
      "stable_height\n",
      "2    1832\n",
      "1    1783\n",
      "3    1462\n",
      "4    1107\n",
      "5     766\n",
      "6     394\n",
      "Name: count, dtype: int64\n"
     ]
    },
    {
     "name": "stderr",
     "output_type": "stream",
     "text": [
      "Epoch 63/64: 100%|██████████| 230/230 [01:13<00:00,  3.11batch/s, accuracy=0.773, loss=0.625] \n"
     ]
    },
    {
     "name": "stdout",
     "output_type": "stream",
     "text": [
      "[1.0000000000000002e-07]\n",
      "              precision    recall  f1-score   support\n",
      "\n",
      "           0       0.76      0.66      0.70       384\n",
      "           1       0.74      0.70      0.72       384\n",
      "           2       0.66      0.70      0.68       307\n",
      "           3       0.64      0.62      0.63       230\n",
      "           4       0.50      0.60      0.55       154\n",
      "           5       0.35      0.51      0.42        77\n",
      "\n",
      "    accuracy                           0.66      1536\n",
      "   macro avg       0.61      0.63      0.62      1536\n",
      "weighted avg       0.67      0.66      0.66      1536\n",
      "\n",
      "[[252  38  38  21  20  15]\n",
      " [ 28 268  30  26  19  13]\n",
      " [ 21  27 216  18  12  13]\n",
      " [ 13  12  25 142  25  13]\n",
      " [ 13  10  10  12  92  17]\n",
      " [  5   6   8   4  15  39]]\n",
      "Epoch 63/64, Validation Loss: 0.8709, Validation Accuracy: 0.6569\n",
      "stable_height\n",
      "2    1852\n",
      "1    1756\n",
      "3    1470\n",
      "4    1119\n",
      "5     753\n",
      "6     394\n",
      "Name: count, dtype: int64\n"
     ]
    },
    {
     "name": "stderr",
     "output_type": "stream",
     "text": [
      "Epoch 64/64: 100%|██████████| 230/230 [01:11<00:00,  3.21batch/s, accuracy=0.768, loss=0.623]  \n"
     ]
    },
    {
     "name": "stdout",
     "output_type": "stream",
     "text": [
      "[1.0000000000000002e-07]\n",
      "              precision    recall  f1-score   support\n",
      "\n",
      "           0       0.74      0.73      0.73       384\n",
      "           1       0.75      0.71      0.73       384\n",
      "           2       0.67      0.66      0.67       307\n",
      "           3       0.65      0.65      0.65       230\n",
      "           4       0.54      0.60      0.57       154\n",
      "           5       0.37      0.43      0.40        77\n",
      "\n",
      "    accuracy                           0.67      1536\n",
      "   macro avg       0.62      0.63      0.62      1536\n",
      "weighted avg       0.68      0.67      0.67      1536\n",
      "\n",
      "[[279  36  21  21  21   6]\n",
      " [ 35 271  31  20  16  11]\n",
      " [ 24  26 204  25  15  13]\n",
      " [ 17  10  28 149  15  11]\n",
      " [  9  11  12  14  93  15]\n",
      " [ 14   8   7   2  13  33]]\n",
      "Epoch 64/64, Validation Loss: 0.8590, Validation Accuracy: 0.6699\n",
      "Finished Training\n",
      "Best validation accuracy: 0.6875\n"
     ]
    }
   ],
   "source": [
    "if __name__ == \"__main__\":\n",
    "    trainer = ClassificationBlockStackTrainer1(\n",
    "        model = FineTunedGoogLeNet(),\n",
    "        csv_path = csv_path, \n",
    "        img_dir= img_dir, \n",
    "        test_size=0.2, \n",
    "        num_epochs=64,\n",
    "        batch_size=32\n",
    "        )\n",
    "    trainer.train()"
   ]
  },
  {
   "cell_type": "markdown",
   "metadata": {},
   "source": [
    "# Model \n",
    "* Adjusting weight on after best model in epoch 48"
   ]
  },
  {
   "cell_type": "code",
   "execution_count": 52,
   "metadata": {
    "scrolled": true
   },
   "outputs": [
    {
     "name": "stdout",
     "output_type": "stream",
     "text": [
      "Train dataset size: 6144 Validation dataset size: 1536 length of train_ids1 length of valid_ids1\n"
     ]
    },
    {
     "name": "stderr",
     "output_type": "stream",
     "text": [
      "Epoch 1/64: 100%|██████████| 222/222 [00:52<00:00,  4.19batch/s, accuracy=0.64, loss=0.937]   \n"
     ]
    },
    {
     "name": "stdout",
     "output_type": "stream",
     "text": [
      "[0.001]\n",
      "              precision    recall  f1-score   support\n",
      "\n",
      "           0       0.78      0.62      0.69       384\n",
      "           1       0.76      0.64      0.69       384\n",
      "           2       0.62      0.74      0.67       307\n",
      "           3       0.54      0.66      0.59       230\n",
      "           4       0.48      0.50      0.49       154\n",
      "           5       0.32      0.43      0.37        77\n",
      "\n",
      "    accuracy                           0.63      1536\n",
      "   macro avg       0.58      0.60      0.58      1536\n",
      "weighted avg       0.65      0.63      0.64      1536\n",
      "\n",
      "[[237  48  40  27  16  16]\n",
      " [ 23 244  45  38  18  16]\n",
      " [ 16  13 227  29  14   8]\n",
      " [ 11   5  33 152  18  11]\n",
      " [ 12   4  13  30  77  18]\n",
      " [  3   9  11   5  16  33]]\n",
      "Epoch 1/64, Validation Loss: 0.9115, Validation Accuracy: 0.6315\n",
      "Best model saved! 20241014-2104\n"
     ]
    },
    {
     "name": "stderr",
     "output_type": "stream",
     "text": [
      "Epoch 2/64: 100%|██████████| 222/222 [00:52<00:00,  4.23batch/s, accuracy=0.64, loss=0.92]    \n"
     ]
    },
    {
     "name": "stdout",
     "output_type": "stream",
     "text": [
      "[0.001]\n",
      "              precision    recall  f1-score   support\n",
      "\n",
      "           0       0.71      0.70      0.70       384\n",
      "           1       0.76      0.64      0.69       384\n",
      "           2       0.65      0.66      0.65       307\n",
      "           3       0.56      0.69      0.62       230\n",
      "           4       0.47      0.62      0.54       154\n",
      "           5       0.34      0.19      0.25        77\n",
      "\n",
      "    accuracy                           0.64      1536\n",
      "   macro avg       0.58      0.58      0.57      1536\n",
      "weighted avg       0.64      0.64      0.64      1536\n",
      "\n",
      "[[267  32  30  36  12   7]\n",
      " [ 51 244  36  26  21   6]\n",
      " [ 24  27 202  30  17   7]\n",
      " [ 17  10  16 158  27   2]\n",
      " [ 11   4  11  26  95   7]\n",
      " [  8   5  15   6  28  15]]\n",
      "Epoch 2/64, Validation Loss: 0.9207, Validation Accuracy: 0.6387\n",
      "Best model saved! 20241014-2105\n"
     ]
    },
    {
     "name": "stderr",
     "output_type": "stream",
     "text": [
      "Epoch 3/64: 100%|██████████| 222/222 [00:51<00:00,  4.29batch/s, accuracy=0.645, loss=0.921]  \n"
     ]
    },
    {
     "name": "stdout",
     "output_type": "stream",
     "text": [
      "[0.001]\n",
      "              precision    recall  f1-score   support\n",
      "\n",
      "           0       0.70      0.62      0.66       384\n",
      "           1       0.73      0.67      0.70       384\n",
      "           2       0.66      0.67      0.67       307\n",
      "           3       0.47      0.60      0.53       230\n",
      "           4       0.43      0.58      0.50       154\n",
      "           5       0.31      0.14      0.20        77\n",
      "\n",
      "    accuracy                           0.61      1536\n",
      "   macro avg       0.55      0.55      0.54      1536\n",
      "weighted avg       0.62      0.61      0.61      1536\n",
      "\n",
      "[[240  44  32  43  19   6]\n",
      " [ 28 256  31  42  24   3]\n",
      " [ 24  30 207  26  17   3]\n",
      " [ 19   4  30 139  30   8]\n",
      " [ 12   7   9  33  89   4]\n",
      " [ 18   8   3  11  26  11]]\n",
      "Epoch 3/64, Validation Loss: 0.9696, Validation Accuracy: 0.6133\n"
     ]
    },
    {
     "name": "stderr",
     "output_type": "stream",
     "text": [
      "Epoch 4/64: 100%|██████████| 222/222 [00:53<00:00,  4.16batch/s, accuracy=0.64, loss=0.931]   \n"
     ]
    },
    {
     "name": "stdout",
     "output_type": "stream",
     "text": [
      "[0.001]\n",
      "              precision    recall  f1-score   support\n",
      "\n",
      "           0       0.75      0.68      0.72       384\n",
      "           1       0.81      0.61      0.70       384\n",
      "           2       0.58      0.73      0.65       307\n",
      "           3       0.51      0.65      0.57       230\n",
      "           4       0.49      0.49      0.49       154\n",
      "           5       0.35      0.31      0.33        77\n",
      "\n",
      "    accuracy                           0.63      1536\n",
      "   macro avg       0.58      0.58      0.58      1536\n",
      "weighted avg       0.65      0.63      0.63      1536\n",
      "\n",
      "[[262  20  50  28  14  10]\n",
      " [ 40 233  41  40  19  11]\n",
      " [ 18  15 224  35   8   7]\n",
      " [ 12   8  35 150  15  10]\n",
      " [ 12   5  17  37  76   7]\n",
      " [  4   5  16   4  24  24]]\n",
      "Epoch 4/64, Validation Loss: 0.9349, Validation Accuracy: 0.6309\n"
     ]
    },
    {
     "name": "stderr",
     "output_type": "stream",
     "text": [
      "Epoch 5/64: 100%|██████████| 222/222 [00:52<00:00,  4.25batch/s, accuracy=0.647, loss=0.926]  \n"
     ]
    },
    {
     "name": "stdout",
     "output_type": "stream",
     "text": [
      "[0.001]\n",
      "              precision    recall  f1-score   support\n",
      "\n",
      "           0       0.68      0.65      0.66       384\n",
      "           1       0.72      0.64      0.68       384\n",
      "           2       0.61      0.63      0.62       307\n",
      "           3       0.44      0.62      0.52       230\n",
      "           4       0.49      0.48      0.49       154\n",
      "           5       0.36      0.17      0.23        77\n",
      "\n",
      "    accuracy                           0.60      1536\n",
      "   macro avg       0.55      0.53      0.53      1536\n",
      "weighted avg       0.60      0.60      0.60      1536\n",
      "\n",
      "[[251  41  35  40  10   7]\n",
      " [ 45 244  30  38  20   7]\n",
      " [ 28  38 194  31  11   5]\n",
      " [ 24   5  44 142  14   1]\n",
      " [ 13   3  10  51  74   3]\n",
      " [ 10   7   7  19  21  13]]\n",
      "Epoch 5/64, Validation Loss: 1.0156, Validation Accuracy: 0.5977\n"
     ]
    },
    {
     "name": "stderr",
     "output_type": "stream",
     "text": [
      "Epoch 6/64: 100%|██████████| 222/222 [00:52<00:00,  4.22batch/s, accuracy=0.64, loss=0.929]   \n"
     ]
    },
    {
     "name": "stdout",
     "output_type": "stream",
     "text": [
      "[0.001]\n",
      "              precision    recall  f1-score   support\n",
      "\n",
      "           0       0.73      0.67      0.70       384\n",
      "           1       0.71      0.66      0.68       384\n",
      "           2       0.59      0.66      0.62       307\n",
      "           3       0.56      0.58      0.57       230\n",
      "           4       0.51      0.51      0.51       154\n",
      "           5       0.31      0.36      0.34        77\n",
      "\n",
      "    accuracy                           0.62      1536\n",
      "   macro avg       0.57      0.57      0.57      1536\n",
      "weighted avg       0.63      0.62      0.62      1536\n",
      "\n",
      "[[258  38  40  24  12  12]\n",
      " [ 34 252  41  29  16  12]\n",
      " [ 19  30 203  29  17   9]\n",
      " [ 19  10  40 134  17  10]\n",
      " [ 13  14  13  17  79  18]\n",
      " [  9  12   9   6  13  28]]\n",
      "Epoch 6/64, Validation Loss: 0.9688, Validation Accuracy: 0.6211\n"
     ]
    },
    {
     "name": "stderr",
     "output_type": "stream",
     "text": [
      "Epoch 7/64: 100%|██████████| 222/222 [00:51<00:00,  4.28batch/s, accuracy=0.649, loss=0.908]  \n"
     ]
    },
    {
     "name": "stdout",
     "output_type": "stream",
     "text": [
      "[0.001]\n",
      "              precision    recall  f1-score   support\n",
      "\n",
      "           0       0.72      0.65      0.68       384\n",
      "           1       0.73      0.69      0.71       384\n",
      "           2       0.70      0.60      0.64       307\n",
      "           3       0.55      0.67      0.60       230\n",
      "           4       0.45      0.60      0.51       154\n",
      "           5       0.36      0.35      0.36        77\n",
      "\n",
      "    accuracy                           0.63      1536\n",
      "   macro avg       0.58      0.59      0.59      1536\n",
      "weighted avg       0.65      0.63      0.64      1536\n",
      "\n",
      "[[250  47  22  35  22   8]\n",
      " [ 24 266  28  29  22  15]\n",
      " [ 30  33 183  34  20   7]\n",
      " [ 20   6  14 155  28   7]\n",
      " [ 12   6   8  26  92  10]\n",
      " [ 10   7   7   5  21  27]]\n",
      "Epoch 7/64, Validation Loss: 0.9436, Validation Accuracy: 0.6335\n"
     ]
    },
    {
     "name": "stderr",
     "output_type": "stream",
     "text": [
      "Epoch 8/64: 100%|██████████| 222/222 [00:51<00:00,  4.29batch/s, accuracy=0.656, loss=0.908]  \n"
     ]
    },
    {
     "name": "stdout",
     "output_type": "stream",
     "text": [
      "[0.001]\n",
      "              precision    recall  f1-score   support\n",
      "\n",
      "           0       0.71      0.62      0.66       384\n",
      "           1       0.65      0.65      0.65       384\n",
      "           2       0.61      0.61      0.61       307\n",
      "           3       0.58      0.56      0.57       230\n",
      "           4       0.47      0.59      0.52       154\n",
      "           5       0.32      0.40      0.36        77\n",
      "\n",
      "    accuracy                           0.60      1536\n",
      "   macro avg       0.56      0.57      0.56      1536\n",
      "weighted avg       0.61      0.60      0.61      1536\n",
      "\n",
      "[[239  50  27  32  22  14]\n",
      " [ 48 249  29  22  19  17]\n",
      " [ 18  53 186  22  18  10]\n",
      " [ 13  20  41 128  16  12]\n",
      " [ 13   6  14  17  91  13]\n",
      " [  4   7   8   0  27  31]]\n",
      "Epoch 8/64, Validation Loss: 0.9969, Validation Accuracy: 0.6016\n"
     ]
    },
    {
     "name": "stderr",
     "output_type": "stream",
     "text": [
      "Epoch 9/64: 100%|██████████| 222/222 [00:52<00:00,  4.24batch/s, accuracy=0.657, loss=0.911]  \n"
     ]
    },
    {
     "name": "stdout",
     "output_type": "stream",
     "text": [
      "[0.001]\n",
      "              precision    recall  f1-score   support\n",
      "\n",
      "           0       0.66      0.76      0.70       384\n",
      "           1       0.80      0.61      0.69       384\n",
      "           2       0.71      0.56      0.63       307\n",
      "           3       0.54      0.68      0.60       230\n",
      "           4       0.43      0.60      0.50       154\n",
      "           5       0.31      0.22      0.26        77\n",
      "\n",
      "    accuracy                           0.63      1536\n",
      "   macro avg       0.58      0.57      0.56      1536\n",
      "weighted avg       0.65      0.63      0.63      1536\n",
      "\n",
      "[[291  18  17  33  20   5]\n",
      " [ 55 234  22  32  30  11]\n",
      " [ 51  24 173  30  18  11]\n",
      " [ 17   7  18 157  27   4]\n",
      " [ 15   3   6  32  92   6]\n",
      " [ 14   7   6   8  25  17]]\n",
      "Epoch 9/64, Validation Loss: 0.9555, Validation Accuracy: 0.6276\n"
     ]
    },
    {
     "name": "stderr",
     "output_type": "stream",
     "text": [
      "Epoch 10/64: 100%|██████████| 222/222 [00:51<00:00,  4.29batch/s, accuracy=0.659, loss=0.89]   \n"
     ]
    },
    {
     "name": "stdout",
     "output_type": "stream",
     "text": [
      "[0.00015]\n",
      "              precision    recall  f1-score   support\n",
      "\n",
      "           0       0.82      0.56      0.67       384\n",
      "           1       0.67      0.74      0.70       384\n",
      "           2       0.58      0.67      0.62       307\n",
      "           3       0.54      0.63      0.58       230\n",
      "           4       0.47      0.49      0.48       154\n",
      "           5       0.32      0.29      0.30        77\n",
      "\n",
      "    accuracy                           0.62      1536\n",
      "   macro avg       0.57      0.56      0.56      1536\n",
      "weighted avg       0.63      0.62      0.62      1536\n",
      "\n",
      "[[215  55  47  38  21   8]\n",
      " [ 18 283  36  23  12  12]\n",
      " [  8  47 206  24  14   8]\n",
      " [  7  14  39 144  20   6]\n",
      " [  9   9  17  32  75  12]\n",
      " [  4  17  11   5  18  22]]\n",
      "Epoch 10/64, Validation Loss: 0.9623, Validation Accuracy: 0.6152\n"
     ]
    },
    {
     "name": "stderr",
     "output_type": "stream",
     "text": [
      "Epoch 11/64: 100%|██████████| 222/222 [00:51<00:00,  4.28batch/s, accuracy=0.703, loss=0.775]  \n"
     ]
    },
    {
     "name": "stdout",
     "output_type": "stream",
     "text": [
      "[0.00015]\n",
      "              precision    recall  f1-score   support\n",
      "\n",
      "           0       0.76      0.67      0.71       384\n",
      "           1       0.77      0.73      0.75       384\n",
      "           2       0.66      0.66      0.66       307\n",
      "           3       0.61      0.69      0.65       230\n",
      "           4       0.52      0.64      0.57       154\n",
      "           5       0.35      0.35      0.35        77\n",
      "\n",
      "    accuracy                           0.67      1536\n",
      "   macro avg       0.61      0.62      0.61      1536\n",
      "weighted avg       0.67      0.67      0.67      1536\n",
      "\n",
      "[[256  37  34  25  21  11]\n",
      " [ 23 281  28  24  16  12]\n",
      " [ 24  26 202  28  19   8]\n",
      " [ 13  12  20 158  19   8]\n",
      " [  9   5  12  18  99  11]\n",
      " [ 10   6  11   5  18  27]]\n",
      "Epoch 11/64, Validation Loss: 0.8724, Validation Accuracy: 0.6660\n",
      "Best model saved! 20241014-2114\n"
     ]
    },
    {
     "name": "stderr",
     "output_type": "stream",
     "text": [
      "Epoch 12/64: 100%|██████████| 222/222 [00:52<00:00,  4.25batch/s, accuracy=0.723, loss=0.727]  \n"
     ]
    },
    {
     "name": "stdout",
     "output_type": "stream",
     "text": [
      "[0.00015]\n",
      "              precision    recall  f1-score   support\n",
      "\n",
      "           0       0.78      0.67      0.72       384\n",
      "           1       0.75      0.71      0.73       384\n",
      "           2       0.67      0.70      0.68       307\n",
      "           3       0.62      0.64      0.63       230\n",
      "           4       0.55      0.66      0.60       154\n",
      "           5       0.37      0.47      0.41        77\n",
      "\n",
      "    accuracy                           0.67      1536\n",
      "   macro avg       0.62      0.64      0.63      1536\n",
      "weighted avg       0.68      0.67      0.68      1536\n",
      "\n",
      "[[258  39  31  25  16  15]\n",
      " [ 25 272  31  23  25   8]\n",
      " [ 23  22 216  21  13  12]\n",
      " [ 10  12  24 148  22  14]\n",
      " [  9   7   9  15 101  13]\n",
      " [  5  10  13   5   8  36]]\n",
      "Epoch 12/64, Validation Loss: 0.8760, Validation Accuracy: 0.6712\n",
      "Best model saved! 20241014-2115\n"
     ]
    },
    {
     "name": "stderr",
     "output_type": "stream",
     "text": [
      "Epoch 13/64: 100%|██████████| 222/222 [00:51<00:00,  4.28batch/s, accuracy=0.732, loss=0.721]  \n"
     ]
    },
    {
     "name": "stdout",
     "output_type": "stream",
     "text": [
      "[0.00015]\n",
      "              precision    recall  f1-score   support\n",
      "\n",
      "           0       0.82      0.66      0.73       384\n",
      "           1       0.76      0.70      0.73       384\n",
      "           2       0.66      0.71      0.68       307\n",
      "           3       0.63      0.72      0.67       230\n",
      "           4       0.51      0.59      0.55       154\n",
      "           5       0.35      0.47      0.40        77\n",
      "\n",
      "    accuracy                           0.67      1536\n",
      "   macro avg       0.62      0.64      0.63      1536\n",
      "weighted avg       0.69      0.67      0.68      1536\n",
      "\n",
      "[[253  38  30  22  25  16]\n",
      " [ 28 269  32  26  16  13]\n",
      " [ 10  24 217  27  19  10]\n",
      " [  7   8  24 165  17   9]\n",
      " [  8   5  15  17  91  18]\n",
      " [  4   9  12   5  11  36]]\n",
      "Epoch 13/64, Validation Loss: 0.8724, Validation Accuracy: 0.6712\n"
     ]
    },
    {
     "name": "stderr",
     "output_type": "stream",
     "text": [
      "Epoch 14/64: 100%|██████████| 222/222 [00:51<00:00,  4.30batch/s, accuracy=0.741, loss=0.698]  \n"
     ]
    },
    {
     "name": "stdout",
     "output_type": "stream",
     "text": [
      "[0.00015]\n",
      "              precision    recall  f1-score   support\n",
      "\n",
      "           0       0.79      0.68      0.73       384\n",
      "           1       0.78      0.69      0.73       384\n",
      "           2       0.67      0.69      0.68       307\n",
      "           3       0.63      0.70      0.66       230\n",
      "           4       0.54      0.60      0.57       154\n",
      "           5       0.31      0.52      0.39        77\n",
      "\n",
      "    accuracy                           0.67      1536\n",
      "   macro avg       0.62      0.65      0.63      1536\n",
      "weighted avg       0.69      0.67      0.68      1536\n",
      "\n",
      "[[261  35  31  22  16  19]\n",
      " [ 25 264  28  33  18  16]\n",
      " [ 15  24 212  22  19  15]\n",
      " [ 11   4  24 160  14  17]\n",
      " [ 11   5  13  13  92  20]\n",
      " [  7   5   8   5  12  40]]\n",
      "Epoch 14/64, Validation Loss: 0.8627, Validation Accuracy: 0.6699\n"
     ]
    },
    {
     "name": "stderr",
     "output_type": "stream",
     "text": [
      "Epoch 15/64: 100%|██████████| 222/222 [00:51<00:00,  4.28batch/s, accuracy=0.74, loss=0.696]   \n"
     ]
    },
    {
     "name": "stdout",
     "output_type": "stream",
     "text": [
      "[0.00015]\n",
      "              precision    recall  f1-score   support\n",
      "\n",
      "           0       0.80      0.64      0.71       384\n",
      "           1       0.79      0.70      0.74       384\n",
      "           2       0.67      0.69      0.68       307\n",
      "           3       0.61      0.71      0.66       230\n",
      "           4       0.55      0.68      0.60       154\n",
      "           5       0.32      0.49      0.39        77\n",
      "\n",
      "    accuracy                           0.67      1536\n",
      "   macro avg       0.62      0.65      0.63      1536\n",
      "weighted avg       0.69      0.67      0.68      1536\n",
      "\n",
      "[[245  35  32  35  21  16]\n",
      " [ 20 268  35  32  16  13]\n",
      " [ 18  18 212  20  22  17]\n",
      " [  9   6  18 164  17  16]\n",
      " [  9   5   9  10 104  17]\n",
      " [  7   6  10   6  10  38]]\n",
      "Epoch 15/64, Validation Loss: 0.8684, Validation Accuracy: 0.6712\n"
     ]
    },
    {
     "name": "stderr",
     "output_type": "stream",
     "text": [
      "Epoch 16/64: 100%|██████████| 222/222 [00:52<00:00,  4.23batch/s, accuracy=0.747, loss=0.669]  \n"
     ]
    },
    {
     "name": "stdout",
     "output_type": "stream",
     "text": [
      "[0.00015]\n",
      "              precision    recall  f1-score   support\n",
      "\n",
      "           0       0.75      0.70      0.73       384\n",
      "           1       0.80      0.68      0.74       384\n",
      "           2       0.67      0.69      0.68       307\n",
      "           3       0.65      0.63      0.64       230\n",
      "           4       0.49      0.62      0.55       154\n",
      "           5       0.34      0.48      0.40        77\n",
      "\n",
      "    accuracy                           0.67      1536\n",
      "   macro avg       0.62      0.64      0.62      1536\n",
      "weighted avg       0.68      0.67      0.67      1536\n",
      "\n",
      "[[269  25  26  28  21  15]\n",
      " [ 33 263  31  24  25   8]\n",
      " [ 22  17 213  17  23  15]\n",
      " [ 14  13  25 146  19  13]\n",
      " [ 14   4  11   9  96  20]\n",
      " [  6   8  12   2  12  37]]\n",
      "Epoch 16/64, Validation Loss: 0.8563, Validation Accuracy: 0.6667\n"
     ]
    },
    {
     "name": "stderr",
     "output_type": "stream",
     "text": [
      "Epoch 17/64: 100%|██████████| 222/222 [00:52<00:00,  4.23batch/s, accuracy=0.75, loss=0.681]   \n"
     ]
    },
    {
     "name": "stdout",
     "output_type": "stream",
     "text": [
      "[0.00015]\n",
      "              precision    recall  f1-score   support\n",
      "\n",
      "           0       0.79      0.65      0.71       384\n",
      "           1       0.76      0.68      0.72       384\n",
      "           2       0.70      0.72      0.71       307\n",
      "           3       0.64      0.69      0.66       230\n",
      "           4       0.51      0.69      0.59       154\n",
      "           5       0.37      0.49      0.42        77\n",
      "\n",
      "    accuracy                           0.67      1536\n",
      "   macro avg       0.63      0.65      0.64      1536\n",
      "weighted avg       0.69      0.67      0.68      1536\n",
      "\n",
      "[[249  41  28  28  25  13]\n",
      " [ 24 260  32  27  25  16]\n",
      " [ 11  20 221  23  19  13]\n",
      " [ 11   6  20 159  20  14]\n",
      " [ 12   8   8  11 107   8]\n",
      " [  8   7   8   2  14  38]]\n",
      "Epoch 17/64, Validation Loss: 0.8410, Validation Accuracy: 0.6732\n",
      "Best model saved! 20241014-2120\n"
     ]
    },
    {
     "name": "stderr",
     "output_type": "stream",
     "text": [
      "Epoch 18/64: 100%|██████████| 222/222 [00:51<00:00,  4.28batch/s, accuracy=0.753, loss=0.655]  \n"
     ]
    },
    {
     "name": "stdout",
     "output_type": "stream",
     "text": [
      "[0.00015]\n",
      "              precision    recall  f1-score   support\n",
      "\n",
      "           0       0.76      0.68      0.72       384\n",
      "           1       0.77      0.69      0.73       384\n",
      "           2       0.67      0.69      0.68       307\n",
      "           3       0.62      0.68      0.65       230\n",
      "           4       0.52      0.66      0.58       154\n",
      "           5       0.35      0.40      0.38        77\n",
      "\n",
      "    accuracy                           0.67      1536\n",
      "   macro avg       0.62      0.63      0.62      1536\n",
      "weighted avg       0.68      0.67      0.67      1536\n",
      "\n",
      "[[262  34  32  24  20  12]\n",
      " [ 27 265  31  28  20  13]\n",
      " [ 22  19 211  24  18  13]\n",
      " [ 13  11  21 156  22   7]\n",
      " [ 13   5  10  12 102  12]\n",
      " [  9   8  10   6  13  31]]\n",
      "Epoch 18/64, Validation Loss: 0.8875, Validation Accuracy: 0.6686\n"
     ]
    },
    {
     "name": "stderr",
     "output_type": "stream",
     "text": [
      "Epoch 19/64: 100%|██████████| 222/222 [00:51<00:00,  4.30batch/s, accuracy=0.757, loss=0.646]  \n"
     ]
    },
    {
     "name": "stdout",
     "output_type": "stream",
     "text": [
      "[0.00015]\n",
      "              precision    recall  f1-score   support\n",
      "\n",
      "           0       0.77      0.67      0.71       384\n",
      "           1       0.78      0.66      0.72       384\n",
      "           2       0.68      0.70      0.69       307\n",
      "           3       0.62      0.70      0.66       230\n",
      "           4       0.53      0.65      0.58       154\n",
      "           5       0.34      0.51      0.41        77\n",
      "\n",
      "    accuracy                           0.67      1536\n",
      "   macro avg       0.62      0.65      0.63      1536\n",
      "weighted avg       0.69      0.67      0.67      1536\n",
      "\n",
      "[[256  32  29  27  22  18]\n",
      " [ 28 254  34  32  21  15]\n",
      " [ 21  18 214  24  16  14]\n",
      " [ 13   6  21 160  17  13]\n",
      " [ 12   6  10  11 100  15]\n",
      " [  4   8   8   4  14  39]]\n",
      "Epoch 19/64, Validation Loss: 0.8817, Validation Accuracy: 0.6660\n"
     ]
    },
    {
     "name": "stderr",
     "output_type": "stream",
     "text": [
      "Epoch 20/64: 100%|██████████| 222/222 [00:51<00:00,  4.27batch/s, accuracy=0.767, loss=0.634]  \n"
     ]
    },
    {
     "name": "stdout",
     "output_type": "stream",
     "text": [
      "[2.2499999999999998e-05]\n",
      "              precision    recall  f1-score   support\n",
      "\n",
      "           0       0.77      0.70      0.73       384\n",
      "           1       0.72      0.71      0.71       384\n",
      "           2       0.64      0.71      0.67       307\n",
      "           3       0.67      0.63      0.65       230\n",
      "           4       0.61      0.60      0.60       154\n",
      "           5       0.36      0.47      0.41        77\n",
      "\n",
      "    accuracy                           0.67      1536\n",
      "   macro avg       0.63      0.64      0.63      1536\n",
      "weighted avg       0.68      0.67      0.67      1536\n",
      "\n",
      "[[269  38  28  20  13  16]\n",
      " [ 38 272  35  20   9  10]\n",
      " [ 19  31 218  15  13  11]\n",
      " [ 12  16  32 145  14  11]\n",
      " [ 11  10  15  11  92  15]\n",
      " [  2  11  14   4  10  36]]\n",
      "Epoch 20/64, Validation Loss: 0.9226, Validation Accuracy: 0.6719\n"
     ]
    },
    {
     "name": "stderr",
     "output_type": "stream",
     "text": [
      "Epoch 21/64: 100%|██████████| 222/222 [00:51<00:00,  4.30batch/s, accuracy=0.771, loss=0.622]  \n"
     ]
    },
    {
     "name": "stdout",
     "output_type": "stream",
     "text": [
      "[2.2499999999999998e-05]\n",
      "              precision    recall  f1-score   support\n",
      "\n",
      "           0       0.78      0.67      0.72       384\n",
      "           1       0.74      0.70      0.72       384\n",
      "           2       0.70      0.71      0.71       307\n",
      "           3       0.67      0.67      0.67       230\n",
      "           4       0.54      0.64      0.59       154\n",
      "           5       0.36      0.55      0.44        77\n",
      "\n",
      "    accuracy                           0.68      1536\n",
      "   macro avg       0.63      0.66      0.64      1536\n",
      "weighted avg       0.69      0.68      0.68      1536\n",
      "\n",
      "[[259  43  27  21  16  18]\n",
      " [ 30 269  29  21  19  16]\n",
      " [ 14  26 218  20  17  12]\n",
      " [ 14  10  19 155  20  12]\n",
      " [ 13   5  10  11  99  16]\n",
      " [  4   9   7   3  12  42]]\n",
      "Epoch 21/64, Validation Loss: 0.9022, Validation Accuracy: 0.6784\n",
      "Best model saved! 20241014-2124\n"
     ]
    },
    {
     "name": "stderr",
     "output_type": "stream",
     "text": [
      "Epoch 22/64: 100%|██████████| 222/222 [00:52<00:00,  4.24batch/s, accuracy=0.774, loss=0.606]  \n"
     ]
    },
    {
     "name": "stdout",
     "output_type": "stream",
     "text": [
      "[2.2499999999999998e-05]\n",
      "              precision    recall  f1-score   support\n",
      "\n",
      "           0       0.77      0.71      0.74       384\n",
      "           1       0.77      0.69      0.73       384\n",
      "           2       0.66      0.68      0.67       307\n",
      "           3       0.64      0.65      0.65       230\n",
      "           4       0.51      0.61      0.56       154\n",
      "           5       0.37      0.48      0.42        77\n",
      "\n",
      "    accuracy                           0.67      1536\n",
      "   macro avg       0.62      0.64      0.63      1536\n",
      "weighted avg       0.68      0.67      0.67      1536\n",
      "\n",
      "[[272  32  28  24  14  14]\n",
      " [ 34 266  27  25  22  10]\n",
      " [ 23  27 210  19  16  12]\n",
      " [ 12   8  27 150  22  11]\n",
      " [ 10   6  13  15  94  16]\n",
      " [  3   8  11   2  16  37]]\n",
      "Epoch 22/64, Validation Loss: 0.9126, Validation Accuracy: 0.6699\n"
     ]
    },
    {
     "name": "stderr",
     "output_type": "stream",
     "text": [
      "Epoch 23/64: 100%|██████████| 222/222 [00:52<00:00,  4.26batch/s, accuracy=0.774, loss=0.603]  \n"
     ]
    },
    {
     "name": "stdout",
     "output_type": "stream",
     "text": [
      "[2.2499999999999998e-05]\n",
      "              precision    recall  f1-score   support\n",
      "\n",
      "           0       0.77      0.67      0.71       384\n",
      "           1       0.75      0.73      0.74       384\n",
      "           2       0.68      0.70      0.69       307\n",
      "           3       0.64      0.70      0.67       230\n",
      "           4       0.59      0.62      0.60       154\n",
      "           5       0.34      0.44      0.39        77\n",
      "\n",
      "    accuracy                           0.68      1536\n",
      "   macro avg       0.63      0.64      0.63      1536\n",
      "weighted avg       0.69      0.68      0.68      1536\n",
      "\n",
      "[[257  42  30  24  16  15]\n",
      " [ 35 279  26  23  14   7]\n",
      " [ 15  22 215  22  15  18]\n",
      " [ 13   8  23 160  14  12]\n",
      " [  9   9  12  15  96  13]\n",
      " [  6  11  11   6   9  34]]\n",
      "Epoch 23/64, Validation Loss: 0.9183, Validation Accuracy: 0.6777\n"
     ]
    },
    {
     "name": "stderr",
     "output_type": "stream",
     "text": [
      "Epoch 24/64: 100%|██████████| 222/222 [00:52<00:00,  4.26batch/s, accuracy=0.777, loss=0.601]  \n"
     ]
    },
    {
     "name": "stdout",
     "output_type": "stream",
     "text": [
      "[2.2499999999999998e-05]\n",
      "              precision    recall  f1-score   support\n",
      "\n",
      "           0       0.75      0.67      0.71       384\n",
      "           1       0.73      0.69      0.71       384\n",
      "           2       0.71      0.70      0.70       307\n",
      "           3       0.67      0.64      0.66       230\n",
      "           4       0.53      0.65      0.58       154\n",
      "           5       0.35      0.53      0.42        77\n",
      "\n",
      "    accuracy                           0.67      1536\n",
      "   macro avg       0.62      0.65      0.63      1536\n",
      "weighted avg       0.68      0.67      0.67      1536\n",
      "\n",
      "[[259  39  26  26  18  16]\n",
      " [ 33 264  28  24  24  11]\n",
      " [ 18  29 214  13  19  14]\n",
      " [ 17  11  21 148  17  16]\n",
      " [  9   9   9   8 100  19]\n",
      " [ 10   9   4   2  11  41]]\n",
      "Epoch 24/64, Validation Loss: 0.9018, Validation Accuracy: 0.6680\n"
     ]
    },
    {
     "name": "stderr",
     "output_type": "stream",
     "text": [
      "Epoch 25/64: 100%|██████████| 222/222 [00:51<00:00,  4.29batch/s, accuracy=0.772, loss=0.601]  \n"
     ]
    },
    {
     "name": "stdout",
     "output_type": "stream",
     "text": [
      "[2.2499999999999998e-05]\n",
      "              precision    recall  f1-score   support\n",
      "\n",
      "           0       0.77      0.69      0.73       384\n",
      "           1       0.77      0.69      0.73       384\n",
      "           2       0.67      0.67      0.67       307\n",
      "           3       0.65      0.66      0.66       230\n",
      "           4       0.52      0.62      0.57       154\n",
      "           5       0.31      0.48      0.38        77\n",
      "\n",
      "    accuracy                           0.67      1536\n",
      "   macro avg       0.61      0.64      0.62      1536\n",
      "weighted avg       0.68      0.67      0.67      1536\n",
      "\n",
      "[[264  35  32  24  16  13]\n",
      " [ 26 266  29  27  20  16]\n",
      " [ 23  22 207  15  21  19]\n",
      " [ 13   9  20 152  21  15]\n",
      " [ 11   4  12  12  96  19]\n",
      " [  7   8  10   4  11  37]]\n",
      "Epoch 25/64, Validation Loss: 0.9349, Validation Accuracy: 0.6654\n"
     ]
    },
    {
     "name": "stderr",
     "output_type": "stream",
     "text": [
      "Epoch 26/64: 100%|██████████| 222/222 [00:52<00:00,  4.25batch/s, accuracy=0.782, loss=0.587]  \n"
     ]
    },
    {
     "name": "stdout",
     "output_type": "stream",
     "text": [
      "[2.2499999999999998e-05]\n",
      "              precision    recall  f1-score   support\n",
      "\n",
      "           0       0.80      0.66      0.73       384\n",
      "           1       0.75      0.72      0.73       384\n",
      "           2       0.64      0.68      0.66       307\n",
      "           3       0.64      0.67      0.66       230\n",
      "           4       0.57      0.65      0.61       154\n",
      "           5       0.36      0.51      0.42        77\n",
      "\n",
      "    accuracy                           0.67      1536\n",
      "   macro avg       0.63      0.65      0.64      1536\n",
      "weighted avg       0.69      0.67      0.68      1536\n",
      "\n",
      "[[255  35  32  27  18  17]\n",
      " [ 25 276  34  26  11  12]\n",
      " [ 14  35 209  19  18  12]\n",
      " [ 12   9  28 155  16  10]\n",
      " [  9   5  12  11 100  17]\n",
      " [  4   8  11   4  11  39]]\n",
      "Epoch 26/64, Validation Loss: 0.9158, Validation Accuracy: 0.6732\n"
     ]
    },
    {
     "name": "stderr",
     "output_type": "stream",
     "text": [
      "Epoch 27/64: 100%|██████████| 222/222 [00:51<00:00,  4.29batch/s, accuracy=0.787, loss=0.581]  \n"
     ]
    },
    {
     "name": "stdout",
     "output_type": "stream",
     "text": [
      "[2.2499999999999998e-05]\n",
      "              precision    recall  f1-score   support\n",
      "\n",
      "           0       0.73      0.70      0.72       384\n",
      "           1       0.76      0.68      0.72       384\n",
      "           2       0.69      0.67      0.68       307\n",
      "           3       0.66      0.66      0.66       230\n",
      "           4       0.56      0.68      0.61       154\n",
      "           5       0.41      0.60      0.49        77\n",
      "\n",
      "    accuracy                           0.68      1536\n",
      "   macro avg       0.64      0.66      0.65      1536\n",
      "weighted avg       0.69      0.68      0.68      1536\n",
      "\n",
      "[[269  31  26  27  19  12]\n",
      " [ 38 261  28  19  25  13]\n",
      " [ 25  32 207  19  11  13]\n",
      " [ 18  10  20 151  18  13]\n",
      " [ 11   1  15   9 104  14]\n",
      " [  5  10   5   3   8  46]]\n",
      "Epoch 27/64, Validation Loss: 0.9171, Validation Accuracy: 0.6758\n"
     ]
    },
    {
     "name": "stderr",
     "output_type": "stream",
     "text": [
      "Epoch 28/64: 100%|██████████| 222/222 [00:52<00:00,  4.26batch/s, accuracy=0.782, loss=0.594]  \n"
     ]
    },
    {
     "name": "stdout",
     "output_type": "stream",
     "text": [
      "[2.2499999999999998e-05]\n",
      "              precision    recall  f1-score   support\n",
      "\n",
      "           0       0.76      0.67      0.71       384\n",
      "           1       0.77      0.70      0.73       384\n",
      "           2       0.69      0.73      0.71       307\n",
      "           3       0.67      0.64      0.65       230\n",
      "           4       0.50      0.58      0.53       154\n",
      "           5       0.31      0.49      0.38        77\n",
      "\n",
      "    accuracy                           0.67      1536\n",
      "   macro avg       0.62      0.64      0.62      1536\n",
      "weighted avg       0.69      0.67      0.67      1536\n",
      "\n",
      "[[259  31  33  21  25  15]\n",
      " [ 32 269  27  22  18  16]\n",
      " [ 17  22 223  15  15  15]\n",
      " [ 17   8  21 148  24  12]\n",
      " [ 11   8  11  10  89  25]\n",
      " [  5  10  10   6   8  38]]\n",
      "Epoch 28/64, Validation Loss: 0.9019, Validation Accuracy: 0.6680\n"
     ]
    },
    {
     "name": "stderr",
     "output_type": "stream",
     "text": [
      "Epoch 29/64: 100%|██████████| 222/222 [00:52<00:00,  4.26batch/s, accuracy=0.78, loss=0.589]   \n"
     ]
    },
    {
     "name": "stdout",
     "output_type": "stream",
     "text": [
      "[2.2499999999999998e-05]\n",
      "              precision    recall  f1-score   support\n",
      "\n",
      "           0       0.73      0.69      0.71       384\n",
      "           1       0.78      0.68      0.73       384\n",
      "           2       0.67      0.69      0.68       307\n",
      "           3       0.64      0.68      0.66       230\n",
      "           4       0.52      0.62      0.56       154\n",
      "           5       0.35      0.42      0.38        77\n",
      "\n",
      "    accuracy                           0.67      1536\n",
      "   macro avg       0.62      0.63      0.62      1536\n",
      "weighted avg       0.68      0.67      0.67      1536\n",
      "\n",
      "[[266  31  26  31  21   9]\n",
      " [ 36 262  32  19  18  17]\n",
      " [ 23  27 213  17  15  12]\n",
      " [ 17   7  25 157  18   6]\n",
      " [ 12   5   9  17  95  16]\n",
      " [  9   6  11   3  16  32]]\n",
      "Epoch 29/64, Validation Loss: 0.9242, Validation Accuracy: 0.6673\n"
     ]
    },
    {
     "name": "stderr",
     "output_type": "stream",
     "text": [
      "Epoch 30/64: 100%|██████████| 222/222 [00:52<00:00,  4.21batch/s, accuracy=0.781, loss=0.583]  \n"
     ]
    },
    {
     "name": "stdout",
     "output_type": "stream",
     "text": [
      "[3.3749999999999995e-06]\n",
      "              precision    recall  f1-score   support\n",
      "\n",
      "           0       0.76      0.70      0.73       384\n",
      "           1       0.76      0.71      0.73       384\n",
      "           2       0.70      0.72      0.71       307\n",
      "           3       0.62      0.67      0.64       230\n",
      "           4       0.52      0.63      0.57       154\n",
      "           5       0.41      0.43      0.42        77\n",
      "\n",
      "    accuracy                           0.68      1536\n",
      "   macro avg       0.63      0.64      0.63      1536\n",
      "weighted avg       0.69      0.68      0.68      1536\n",
      "\n",
      "[[269  32  30  27  17   9]\n",
      " [ 30 271  29  21  23  10]\n",
      " [ 17  27 220  22  14   7]\n",
      " [ 20  14  17 153  19   7]\n",
      " [ 12   4   9  18  97  14]\n",
      " [  5   8  11   5  15  33]]\n",
      "Epoch 30/64, Validation Loss: 0.9302, Validation Accuracy: 0.6790\n",
      "Best model saved! 20241014-2134\n"
     ]
    },
    {
     "name": "stderr",
     "output_type": "stream",
     "text": [
      "Epoch 31/64: 100%|██████████| 222/222 [00:53<00:00,  4.16batch/s, accuracy=0.788, loss=0.58]   \n"
     ]
    },
    {
     "name": "stdout",
     "output_type": "stream",
     "text": [
      "[3.3749999999999995e-06]\n",
      "              precision    recall  f1-score   support\n",
      "\n",
      "           0       0.78      0.68      0.73       384\n",
      "           1       0.78      0.66      0.72       384\n",
      "           2       0.67      0.74      0.70       307\n",
      "           3       0.64      0.63      0.63       230\n",
      "           4       0.48      0.63      0.55       154\n",
      "           5       0.33      0.47      0.39        77\n",
      "\n",
      "    accuracy                           0.66      1536\n",
      "   macro avg       0.61      0.63      0.62      1536\n",
      "weighted avg       0.68      0.66      0.67      1536\n",
      "\n",
      "[[262  27  31  21  24  19]\n",
      " [ 34 255  26  30  21  18]\n",
      " [ 13  22 226  16  18  12]\n",
      " [ 12  10  27 144  26  11]\n",
      " [ 10   5  16  12  97  14]\n",
      " [  4   8  12   3  14  36]]\n",
      "Epoch 31/64, Validation Loss: 0.8914, Validation Accuracy: 0.6641\n"
     ]
    },
    {
     "name": "stderr",
     "output_type": "stream",
     "text": [
      "Epoch 32/64: 100%|██████████| 222/222 [00:52<00:00,  4.25batch/s, accuracy=0.787, loss=0.581]  \n"
     ]
    },
    {
     "name": "stdout",
     "output_type": "stream",
     "text": [
      "[3.3749999999999995e-06]\n",
      "              precision    recall  f1-score   support\n",
      "\n",
      "           0       0.75      0.70      0.72       384\n",
      "           1       0.78      0.67      0.72       384\n",
      "           2       0.67      0.69      0.68       307\n",
      "           3       0.66      0.68      0.67       230\n",
      "           4       0.53      0.62      0.57       154\n",
      "           5       0.39      0.56      0.46        77\n",
      "\n",
      "    accuracy                           0.67      1536\n",
      "   macro avg       0.63      0.65      0.64      1536\n",
      "weighted avg       0.69      0.67      0.68      1536\n",
      "\n",
      "[[269  30  26  28  19  12]\n",
      " [ 39 258  40  17  19  11]\n",
      " [ 24  24 213  17  18  11]\n",
      " [ 14   7  19 156  21  13]\n",
      " [ 11   6   8  14  96  19]\n",
      " [  4   7  11   3   9  43]]\n",
      "Epoch 32/64, Validation Loss: 0.9080, Validation Accuracy: 0.6738\n"
     ]
    },
    {
     "name": "stderr",
     "output_type": "stream",
     "text": [
      "Epoch 33/64: 100%|██████████| 222/222 [00:52<00:00,  4.25batch/s, accuracy=0.782, loss=0.583]  \n"
     ]
    },
    {
     "name": "stdout",
     "output_type": "stream",
     "text": [
      "[3.3749999999999995e-06]\n",
      "              precision    recall  f1-score   support\n",
      "\n",
      "           0       0.76      0.68      0.72       384\n",
      "           1       0.76      0.68      0.72       384\n",
      "           2       0.67      0.71      0.69       307\n",
      "           3       0.61      0.69      0.65       230\n",
      "           4       0.53      0.62      0.57       154\n",
      "           5       0.31      0.36      0.34        77\n",
      "\n",
      "    accuracy                           0.67      1536\n",
      "   macro avg       0.61      0.62      0.61      1536\n",
      "weighted avg       0.68      0.67      0.67      1536\n",
      "\n",
      "[[261  34  25  28  23  13]\n",
      " [ 32 262  34  29  18   9]\n",
      " [ 12  25 219  24  15  12]\n",
      " [ 14   7  23 158  16  12]\n",
      " [ 15   5  12  12  95  15]\n",
      " [  8  11  12   6  12  28]]\n",
      "Epoch 33/64, Validation Loss: 0.9175, Validation Accuracy: 0.6660\n"
     ]
    },
    {
     "name": "stderr",
     "output_type": "stream",
     "text": [
      "Epoch 34/64: 100%|██████████| 222/222 [00:51<00:00,  4.33batch/s, accuracy=0.79, loss=0.579]   \n"
     ]
    },
    {
     "name": "stdout",
     "output_type": "stream",
     "text": [
      "[3.3749999999999995e-06]\n",
      "              precision    recall  f1-score   support\n",
      "\n",
      "           0       0.78      0.67      0.72       384\n",
      "           1       0.76      0.72      0.74       384\n",
      "           2       0.64      0.69      0.66       307\n",
      "           3       0.65      0.69      0.67       230\n",
      "           4       0.55      0.59      0.57       154\n",
      "           5       0.34      0.45      0.39        77\n",
      "\n",
      "    accuracy                           0.67      1536\n",
      "   macro avg       0.62      0.64      0.63      1536\n",
      "weighted avg       0.68      0.67      0.67      1536\n",
      "\n",
      "[[259  35  35  25  18  12]\n",
      " [ 28 275  30  22  16  13]\n",
      " [ 17  25 211  22  15  17]\n",
      " [ 16   8  26 159  13   8]\n",
      " [  8   7  15  14  91  19]\n",
      " [  5  10  12   3  12  35]]\n",
      "Epoch 34/64, Validation Loss: 0.9504, Validation Accuracy: 0.6706\n"
     ]
    },
    {
     "name": "stderr",
     "output_type": "stream",
     "text": [
      "Epoch 35/64: 100%|██████████| 222/222 [00:52<00:00,  4.25batch/s, accuracy=0.791, loss=0.583]  \n"
     ]
    },
    {
     "name": "stdout",
     "output_type": "stream",
     "text": [
      "[3.3749999999999995e-06]\n",
      "              precision    recall  f1-score   support\n",
      "\n",
      "           0       0.78      0.68      0.73       384\n",
      "           1       0.79      0.71      0.75       384\n",
      "           2       0.68      0.71      0.69       307\n",
      "           3       0.65      0.65      0.65       230\n",
      "           4       0.51      0.57      0.54       154\n",
      "           5       0.31      0.52      0.39        77\n",
      "\n",
      "    accuracy                           0.67      1536\n",
      "   macro avg       0.62      0.64      0.62      1536\n",
      "weighted avg       0.69      0.67      0.68      1536\n",
      "\n",
      "[[262  35  29  22  18  18]\n",
      " [ 26 271  26  24  19  18]\n",
      " [ 20  20 218  17  16  16]\n",
      " [ 16   7  23 150  21  13]\n",
      " [  7   6  13  15  88  25]\n",
      " [  7   3  12   4  11  40]]\n",
      "Epoch 35/64, Validation Loss: 0.9133, Validation Accuracy: 0.6699\n"
     ]
    },
    {
     "name": "stderr",
     "output_type": "stream",
     "text": [
      "Epoch 36/64: 100%|██████████| 222/222 [00:51<00:00,  4.30batch/s, accuracy=0.785, loss=0.583]  \n"
     ]
    },
    {
     "name": "stdout",
     "output_type": "stream",
     "text": [
      "[3.3749999999999995e-06]\n",
      "              precision    recall  f1-score   support\n",
      "\n",
      "           0       0.75      0.69      0.72       384\n",
      "           1       0.76      0.70      0.73       384\n",
      "           2       0.68      0.70      0.69       307\n",
      "           3       0.67      0.67      0.67       230\n",
      "           4       0.57      0.65      0.61       154\n",
      "           5       0.35      0.51      0.42        77\n",
      "\n",
      "    accuracy                           0.68      1536\n",
      "   macro avg       0.63      0.65      0.64      1536\n",
      "weighted avg       0.69      0.68      0.68      1536\n",
      "\n",
      "[[266  32  32  24  17  13]\n",
      " [ 34 268  28  24  17  13]\n",
      " [ 23  28 214  15  13  14]\n",
      " [ 14  10  22 153  15  16]\n",
      " [ 13   6  11   9 100  15]\n",
      " [  7   7   9   3  12  39]]\n",
      "Epoch 36/64, Validation Loss: 0.9341, Validation Accuracy: 0.6771\n"
     ]
    },
    {
     "name": "stderr",
     "output_type": "stream",
     "text": [
      "Epoch 37/64: 100%|██████████| 222/222 [00:51<00:00,  4.30batch/s, accuracy=0.788, loss=0.578]  \n"
     ]
    },
    {
     "name": "stdout",
     "output_type": "stream",
     "text": [
      "[3.3749999999999995e-06]\n",
      "              precision    recall  f1-score   support\n",
      "\n",
      "           0       0.74      0.69      0.71       384\n",
      "           1       0.76      0.71      0.74       384\n",
      "           2       0.68      0.69      0.69       307\n",
      "           3       0.67      0.67      0.67       230\n",
      "           4       0.58      0.64      0.61       154\n",
      "           5       0.33      0.47      0.39        77\n",
      "\n",
      "    accuracy                           0.68      1536\n",
      "   macro avg       0.63      0.64      0.63      1536\n",
      "weighted avg       0.69      0.68      0.68      1536\n",
      "\n",
      "[[264  33  29  31  12  15]\n",
      " [ 35 273  27  21  16  12]\n",
      " [ 24  26 213  15  14  15]\n",
      " [ 14  11  22 154  15  14]\n",
      " [ 15   5  10   9  98  17]\n",
      " [  7  10  10   1  13  36]]\n",
      "Epoch 37/64, Validation Loss: 0.9192, Validation Accuracy: 0.6758\n"
     ]
    },
    {
     "name": "stderr",
     "output_type": "stream",
     "text": [
      "Epoch 38/64: 100%|██████████| 222/222 [00:52<00:00,  4.23batch/s, accuracy=0.788, loss=0.574]  \n"
     ]
    },
    {
     "name": "stdout",
     "output_type": "stream",
     "text": [
      "[3.3749999999999995e-06]\n",
      "              precision    recall  f1-score   support\n",
      "\n",
      "           0       0.78      0.68      0.73       384\n",
      "           1       0.75      0.70      0.72       384\n",
      "           2       0.68      0.73      0.70       307\n",
      "           3       0.62      0.66      0.64       230\n",
      "           4       0.54      0.58      0.56       154\n",
      "           5       0.35      0.49      0.41        77\n",
      "\n",
      "    accuracy                           0.67      1536\n",
      "   macro avg       0.62      0.64      0.63      1536\n",
      "weighted avg       0.68      0.67      0.68      1536\n",
      "\n",
      "[[263  35  26  32  14  14]\n",
      " [ 30 267  34  24  15  14]\n",
      " [ 10  30 223  18  15  11]\n",
      " [ 14  11  21 151  22  11]\n",
      " [ 13   6  10  14  89  22]\n",
      " [  7   6  12   4  10  38]]\n",
      "Epoch 38/64, Validation Loss: 0.9217, Validation Accuracy: 0.6712\n"
     ]
    },
    {
     "name": "stderr",
     "output_type": "stream",
     "text": [
      "Epoch 39/64: 100%|██████████| 222/222 [00:52<00:00,  4.26batch/s, accuracy=0.788, loss=0.58]   \n"
     ]
    },
    {
     "name": "stdout",
     "output_type": "stream",
     "text": [
      "[3.3749999999999995e-06]\n",
      "              precision    recall  f1-score   support\n",
      "\n",
      "           0       0.78      0.67      0.72       384\n",
      "           1       0.74      0.70      0.72       384\n",
      "           2       0.69      0.68      0.68       307\n",
      "           3       0.62      0.68      0.65       230\n",
      "           4       0.55      0.66      0.60       154\n",
      "           5       0.32      0.45      0.38        77\n",
      "\n",
      "    accuracy                           0.67      1536\n",
      "   macro avg       0.62      0.64      0.63      1536\n",
      "weighted avg       0.68      0.67      0.67      1536\n",
      "\n",
      "[[258  33  33  25  16  19]\n",
      " [ 30 267  24  28  23  12]\n",
      " [ 18  29 208  23  14  15]\n",
      " [ 12  11  23 157  15  12]\n",
      " [ 10   6   8  14 101  15]\n",
      " [  4  13   7   5  13  35]]\n",
      "Epoch 39/64, Validation Loss: 0.9196, Validation Accuracy: 0.6680\n"
     ]
    },
    {
     "name": "stderr",
     "output_type": "stream",
     "text": [
      "Epoch 40/64: 100%|██████████| 222/222 [00:52<00:00,  4.26batch/s, accuracy=0.783, loss=0.583] \n"
     ]
    },
    {
     "name": "stdout",
     "output_type": "stream",
     "text": [
      "[5.062499999999999e-07]\n",
      "              precision    recall  f1-score   support\n",
      "\n",
      "           0       0.78      0.71      0.74       384\n",
      "           1       0.82      0.68      0.74       384\n",
      "           2       0.68      0.72      0.70       307\n",
      "           3       0.64      0.68      0.66       230\n",
      "           4       0.52      0.63      0.57       154\n",
      "           5       0.39      0.57      0.47        77\n",
      "\n",
      "    accuracy                           0.68      1536\n",
      "   macro avg       0.64      0.66      0.65      1536\n",
      "weighted avg       0.70      0.68      0.69      1536\n",
      "\n",
      "[[271  20  30  25  22  16]\n",
      " [ 32 262  31  26  20  13]\n",
      " [ 15  24 221  20  15  12]\n",
      " [ 15   6  21 156  23   9]\n",
      " [ 11   2  11  15  97  18]\n",
      " [  3   6  11   2  11  44]]\n",
      "Epoch 40/64, Validation Loss: 0.9147, Validation Accuracy: 0.6842\n",
      "Best model saved! 20241014-2144\n"
     ]
    },
    {
     "name": "stderr",
     "output_type": "stream",
     "text": [
      "Epoch 41/64: 100%|██████████| 222/222 [00:51<00:00,  4.29batch/s, accuracy=0.786, loss=0.579]  \n"
     ]
    },
    {
     "name": "stdout",
     "output_type": "stream",
     "text": [
      "[5.062499999999999e-07]\n",
      "              precision    recall  f1-score   support\n",
      "\n",
      "           0       0.76      0.68      0.72       384\n",
      "           1       0.77      0.68      0.72       384\n",
      "           2       0.68      0.70      0.69       307\n",
      "           3       0.61      0.67      0.64       230\n",
      "           4       0.52      0.63      0.57       154\n",
      "           5       0.36      0.47      0.41        77\n",
      "\n",
      "    accuracy                           0.67      1536\n",
      "   macro avg       0.62      0.64      0.62      1536\n",
      "weighted avg       0.68      0.67      0.67      1536\n",
      "\n",
      "[[261  35  29  28  18  13]\n",
      " [ 34 260  29  27  20  14]\n",
      " [ 18  20 216  24  17  12]\n",
      " [ 16   9  19 154  22  10]\n",
      " [ 11   5  12  14  97  15]\n",
      " [  4   8  13   4  12  36]]\n",
      "Epoch 41/64, Validation Loss: 0.8985, Validation Accuracy: 0.6667\n"
     ]
    },
    {
     "name": "stderr",
     "output_type": "stream",
     "text": [
      "Epoch 42/64: 100%|██████████| 222/222 [00:52<00:00,  4.23batch/s, accuracy=0.786, loss=0.576]  \n"
     ]
    },
    {
     "name": "stdout",
     "output_type": "stream",
     "text": [
      "[5.062499999999999e-07]\n",
      "              precision    recall  f1-score   support\n",
      "\n",
      "           0       0.74      0.65      0.69       384\n",
      "           1       0.72      0.70      0.71       384\n",
      "           2       0.68      0.71      0.70       307\n",
      "           3       0.68      0.64      0.66       230\n",
      "           4       0.55      0.62      0.58       154\n",
      "           5       0.31      0.45      0.37        77\n",
      "\n",
      "    accuracy                           0.66      1536\n",
      "   macro avg       0.61      0.63      0.62      1536\n",
      "weighted avg       0.67      0.66      0.67      1536\n",
      "\n",
      "[[248  42  33  23  18  20]\n",
      " [ 36 270  28  18  18  14]\n",
      " [ 19  29 219  16  10  14]\n",
      " [ 16  14  21 148  20  11]\n",
      " [  8  10  13   9  95  19]\n",
      " [  7  12   9   3  11  35]]\n",
      "Epoch 42/64, Validation Loss: 0.9316, Validation Accuracy: 0.6608\n"
     ]
    },
    {
     "name": "stderr",
     "output_type": "stream",
     "text": [
      "Epoch 43/64: 100%|██████████| 222/222 [00:51<00:00,  4.27batch/s, accuracy=0.788, loss=0.579]  \n"
     ]
    },
    {
     "name": "stdout",
     "output_type": "stream",
     "text": [
      "[5.062499999999999e-07]\n",
      "              precision    recall  f1-score   support\n",
      "\n",
      "           0       0.74      0.68      0.71       384\n",
      "           1       0.78      0.67      0.72       384\n",
      "           2       0.67      0.72      0.69       307\n",
      "           3       0.63      0.67      0.65       230\n",
      "           4       0.52      0.59      0.55       154\n",
      "           5       0.31      0.42      0.35        77\n",
      "\n",
      "    accuracy                           0.66      1536\n",
      "   macro avg       0.61      0.62      0.61      1536\n",
      "weighted avg       0.68      0.66      0.67      1536\n",
      "\n",
      "[[262  31  32  26  17  16]\n",
      " [ 34 259  31  28  19  13]\n",
      " [ 24  19 220  18  17   9]\n",
      " [ 17   9  22 153  16  13]\n",
      " [ 10   6  13  13  91  21]\n",
      " [  9   7  11   4  14  32]]\n",
      "Epoch 43/64, Validation Loss: 0.9379, Validation Accuracy: 0.6621\n"
     ]
    },
    {
     "name": "stderr",
     "output_type": "stream",
     "text": [
      "Epoch 44/64: 100%|██████████| 222/222 [00:52<00:00,  4.27batch/s, accuracy=0.79, loss=0.568]   \n"
     ]
    },
    {
     "name": "stdout",
     "output_type": "stream",
     "text": [
      "[5.062499999999999e-07]\n",
      "              precision    recall  f1-score   support\n",
      "\n",
      "           0       0.75      0.68      0.71       384\n",
      "           1       0.77      0.70      0.73       384\n",
      "           2       0.67      0.68      0.67       307\n",
      "           3       0.64      0.66      0.65       230\n",
      "           4       0.52      0.60      0.56       154\n",
      "           5       0.36      0.51      0.42        77\n",
      "\n",
      "    accuracy                           0.66      1536\n",
      "   macro avg       0.62      0.64      0.62      1536\n",
      "weighted avg       0.68      0.66      0.67      1536\n",
      "\n",
      "[[261  36  35  26  15  11]\n",
      " [ 31 268  23  26  23  13]\n",
      " [ 20  28 209  19  20  11]\n",
      " [ 20   5  24 152  16  13]\n",
      " [ 11   6  10  13  92  22]\n",
      " [  7   6  13   1  11  39]]\n",
      "Epoch 44/64, Validation Loss: 0.9362, Validation Accuracy: 0.6647\n"
     ]
    },
    {
     "name": "stderr",
     "output_type": "stream",
     "text": [
      "Epoch 45/64: 100%|██████████| 222/222 [00:51<00:00,  4.30batch/s, accuracy=0.784, loss=0.587]  \n"
     ]
    },
    {
     "name": "stdout",
     "output_type": "stream",
     "text": [
      "[5.062499999999999e-07]\n",
      "              precision    recall  f1-score   support\n",
      "\n",
      "           0       0.78      0.67      0.72       384\n",
      "           1       0.77      0.71      0.74       384\n",
      "           2       0.69      0.72      0.70       307\n",
      "           3       0.66      0.68      0.67       230\n",
      "           4       0.55      0.66      0.60       154\n",
      "           5       0.33      0.48      0.39        77\n",
      "\n",
      "    accuracy                           0.68      1536\n",
      "   macro avg       0.63      0.65      0.64      1536\n",
      "weighted avg       0.70      0.68      0.69      1536\n",
      "\n",
      "[[259  34  36  21  17  17]\n",
      " [ 31 271  24  24  22  12]\n",
      " [ 13  22 222  21  17  12]\n",
      " [ 12  11  24 156  14  13]\n",
      " [ 11   3   8  10 101  21]\n",
      " [  6   9   9   3  13  37]]\n",
      "Epoch 45/64, Validation Loss: 0.9033, Validation Accuracy: 0.6810\n"
     ]
    },
    {
     "name": "stderr",
     "output_type": "stream",
     "text": [
      "Epoch 46/64: 100%|██████████| 222/222 [00:51<00:00,  4.30batch/s, accuracy=0.79, loss=0.573]   \n"
     ]
    },
    {
     "name": "stdout",
     "output_type": "stream",
     "text": [
      "[5.062499999999999e-07]\n",
      "              precision    recall  f1-score   support\n",
      "\n",
      "           0       0.75      0.69      0.72       384\n",
      "           1       0.78      0.71      0.74       384\n",
      "           2       0.68      0.70      0.69       307\n",
      "           3       0.63      0.64      0.64       230\n",
      "           4       0.55      0.67      0.60       154\n",
      "           5       0.32      0.42      0.36        77\n",
      "\n",
      "    accuracy                           0.67      1536\n",
      "   macro avg       0.62      0.64      0.63      1536\n",
      "weighted avg       0.69      0.67      0.68      1536\n",
      "\n",
      "[[265  32  29  28  19  11]\n",
      " [ 33 271  28  19  17  16]\n",
      " [ 22  20 216  24  15  10]\n",
      " [ 15  10  22 148  23  12]\n",
      " [  8   6  10   8 103  19]\n",
      " [  9   7  11   7  11  32]]\n",
      "Epoch 46/64, Validation Loss: 0.9139, Validation Accuracy: 0.6738\n"
     ]
    },
    {
     "name": "stderr",
     "output_type": "stream",
     "text": [
      "Epoch 47/64: 100%|██████████| 222/222 [00:51<00:00,  4.31batch/s, accuracy=0.791, loss=0.572]  \n"
     ]
    },
    {
     "name": "stdout",
     "output_type": "stream",
     "text": [
      "[5.062499999999999e-07]\n",
      "              precision    recall  f1-score   support\n",
      "\n",
      "           0       0.75      0.68      0.71       384\n",
      "           1       0.75      0.68      0.71       384\n",
      "           2       0.70      0.69      0.70       307\n",
      "           3       0.65      0.68      0.66       230\n",
      "           4       0.47      0.62      0.54       154\n",
      "           5       0.35      0.42      0.38        77\n",
      "\n",
      "    accuracy                           0.66      1536\n",
      "   macro avg       0.61      0.63      0.62      1536\n",
      "weighted avg       0.68      0.66      0.67      1536\n",
      "\n",
      "[[261  35  25  24  27  12]\n",
      " [ 40 262  28  23  21  10]\n",
      " [ 19  24 213  20  21  10]\n",
      " [  9  13  18 156  22  12]\n",
      " [ 12   6  11  14  95  16]\n",
      " [  8   9  10   4  14  32]]\n",
      "Epoch 47/64, Validation Loss: 0.9490, Validation Accuracy: 0.6634\n"
     ]
    },
    {
     "name": "stderr",
     "output_type": "stream",
     "text": [
      "Epoch 48/64: 100%|██████████| 222/222 [00:50<00:00,  4.39batch/s, accuracy=0.782, loss=0.583]  \n"
     ]
    },
    {
     "name": "stdout",
     "output_type": "stream",
     "text": [
      "[5.062499999999999e-07]\n",
      "              precision    recall  f1-score   support\n",
      "\n",
      "           0       0.79      0.67      0.73       384\n",
      "           1       0.75      0.71      0.73       384\n",
      "           2       0.69      0.70      0.69       307\n",
      "           3       0.63      0.64      0.63       230\n",
      "           4       0.51      0.62      0.56       154\n",
      "           5       0.37      0.55      0.44        77\n",
      "\n",
      "    accuracy                           0.67      1536\n",
      "   macro avg       0.62      0.65      0.63      1536\n",
      "weighted avg       0.69      0.67      0.68      1536\n",
      "\n",
      "[[258  39  26  27  23  11]\n",
      " [ 23 274  27  24  19  17]\n",
      " [ 17  24 214  20  19  13]\n",
      " [ 13  15  23 147  19  13]\n",
      " [ 10   4  14  13  95  18]\n",
      " [  4  10   7   4  10  42]]\n",
      "Epoch 48/64, Validation Loss: 0.9160, Validation Accuracy: 0.6706\n"
     ]
    },
    {
     "name": "stderr",
     "output_type": "stream",
     "text": [
      "Epoch 49/64: 100%|██████████| 222/222 [00:51<00:00,  4.31batch/s, accuracy=0.785, loss=0.599]  \n"
     ]
    },
    {
     "name": "stdout",
     "output_type": "stream",
     "text": [
      "[5.062499999999999e-07]\n",
      "              precision    recall  f1-score   support\n",
      "\n",
      "           0       0.78      0.68      0.73       384\n",
      "           1       0.78      0.71      0.75       384\n",
      "           2       0.68      0.70      0.69       307\n",
      "           3       0.66      0.70      0.68       230\n",
      "           4       0.54      0.62      0.58       154\n",
      "           5       0.42      0.58      0.49        77\n",
      "\n",
      "    accuracy                           0.69      1536\n",
      "   macro avg       0.64      0.67      0.65      1536\n",
      "weighted avg       0.70      0.69      0.69      1536\n",
      "\n",
      "[[263  32  32  26  21  10]\n",
      " [ 29 274  31  22  16  12]\n",
      " [ 16  24 216  20  21  10]\n",
      " [ 16   9  16 162  14  13]\n",
      " [ 11   6  12  13  95  17]\n",
      " [  4   6  10   4   8  45]]\n",
      "Epoch 49/64, Validation Loss: 0.8903, Validation Accuracy: 0.6868\n",
      "Best model saved! 20241014-2153\n"
     ]
    },
    {
     "name": "stderr",
     "output_type": "stream",
     "text": [
      "Epoch 50/64: 100%|██████████| 222/222 [00:51<00:00,  4.28batch/s, accuracy=0.781, loss=0.583]  \n"
     ]
    },
    {
     "name": "stdout",
     "output_type": "stream",
     "text": [
      "[7.593749999999999e-08]\n",
      "              precision    recall  f1-score   support\n",
      "\n",
      "           0       0.77      0.70      0.73       384\n",
      "           1       0.80      0.70      0.75       384\n",
      "           2       0.70      0.71      0.71       307\n",
      "           3       0.64      0.68      0.66       230\n",
      "           4       0.49      0.65      0.56       154\n",
      "           5       0.34      0.39      0.36        77\n",
      "\n",
      "    accuracy                           0.68      1536\n",
      "   macro avg       0.62      0.64      0.63      1536\n",
      "weighted avg       0.69      0.68      0.68      1536\n",
      "\n",
      "[[268  31  26  25  22  12]\n",
      " [ 29 270  24  25  27   9]\n",
      " [ 20  14 219  22  20  12]\n",
      " [ 13   8  23 157  19  10]\n",
      " [ 11   4  12  12 100  15]\n",
      " [  7   9  10   4  17  30]]\n",
      "Epoch 50/64, Validation Loss: 0.9351, Validation Accuracy: 0.6797\n"
     ]
    },
    {
     "name": "stderr",
     "output_type": "stream",
     "text": [
      "Epoch 51/64: 100%|██████████| 222/222 [00:51<00:00,  4.30batch/s, accuracy=0.785, loss=0.572]  \n"
     ]
    },
    {
     "name": "stdout",
     "output_type": "stream",
     "text": [
      "[7.593749999999999e-08]\n",
      "              precision    recall  f1-score   support\n",
      "\n",
      "           0       0.77      0.65      0.71       384\n",
      "           1       0.75      0.69      0.72       384\n",
      "           2       0.68      0.69      0.69       307\n",
      "           3       0.62      0.65      0.63       230\n",
      "           4       0.49      0.62      0.55       154\n",
      "           5       0.34      0.49      0.40        77\n",
      "\n",
      "    accuracy                           0.66      1536\n",
      "   macro avg       0.61      0.63      0.62      1536\n",
      "weighted avg       0.68      0.66      0.66      1536\n",
      "\n",
      "[[251  40  28  30  21  14]\n",
      " [ 31 264  28  18  28  15]\n",
      " [ 19  26 213  22  14  13]\n",
      " [  9   8  27 150  22  14]\n",
      " [  9   5  10  18  95  17]\n",
      " [  6   8   8   5  12  38]]\n",
      "Epoch 51/64, Validation Loss: 0.9324, Validation Accuracy: 0.6582\n"
     ]
    },
    {
     "name": "stderr",
     "output_type": "stream",
     "text": [
      "Epoch 52/64: 100%|██████████| 222/222 [00:51<00:00,  4.34batch/s, accuracy=0.788, loss=0.584]  \n"
     ]
    },
    {
     "name": "stdout",
     "output_type": "stream",
     "text": [
      "[7.593749999999999e-08]\n",
      "              precision    recall  f1-score   support\n",
      "\n",
      "           0       0.77      0.69      0.73       384\n",
      "           1       0.80      0.68      0.74       384\n",
      "           2       0.70      0.69      0.69       307\n",
      "           3       0.62      0.69      0.65       230\n",
      "           4       0.49      0.60      0.54       154\n",
      "           5       0.32      0.48      0.39        77\n",
      "\n",
      "    accuracy                           0.67      1536\n",
      "   macro avg       0.62      0.64      0.62      1536\n",
      "weighted avg       0.69      0.67      0.68      1536\n",
      "\n",
      "[[265  25  26  26  26  16]\n",
      " [ 30 263  28  29  20  14]\n",
      " [ 14  24 213  25  19  12]\n",
      " [ 15   4  20 158  18  15]\n",
      " [ 13   5  11  11  93  21]\n",
      " [  6   8   8   5  13  37]]\n",
      "Epoch 52/64, Validation Loss: 0.9358, Validation Accuracy: 0.6699\n"
     ]
    },
    {
     "name": "stderr",
     "output_type": "stream",
     "text": [
      "Epoch 53/64: 100%|██████████| 222/222 [00:51<00:00,  4.34batch/s, accuracy=0.786, loss=0.574]  \n"
     ]
    },
    {
     "name": "stdout",
     "output_type": "stream",
     "text": [
      "[7.593749999999999e-08]\n",
      "              precision    recall  f1-score   support\n",
      "\n",
      "           0       0.76      0.66      0.71       384\n",
      "           1       0.79      0.69      0.74       384\n",
      "           2       0.66      0.70      0.68       307\n",
      "           3       0.63      0.67      0.65       230\n",
      "           4       0.51      0.60      0.55       154\n",
      "           5       0.32      0.48      0.38        77\n",
      "\n",
      "    accuracy                           0.66      1536\n",
      "   macro avg       0.61      0.63      0.62      1536\n",
      "weighted avg       0.68      0.66      0.67      1536\n",
      "\n",
      "[[253  31  34  29  22  15]\n",
      " [ 31 264  33  19  23  14]\n",
      " [ 19  23 215  22  13  15]\n",
      " [ 10   8  23 154  20  15]\n",
      " [  9   2  13  17  92  21]\n",
      " [  9   6  10   4  11  37]]\n",
      "Epoch 53/64, Validation Loss: 0.9199, Validation Accuracy: 0.6608\n"
     ]
    },
    {
     "name": "stderr",
     "output_type": "stream",
     "text": [
      "Epoch 54/64: 100%|██████████| 222/222 [00:51<00:00,  4.28batch/s, accuracy=0.789, loss=0.575]  \n"
     ]
    },
    {
     "name": "stdout",
     "output_type": "stream",
     "text": [
      "[7.593749999999999e-08]\n",
      "              precision    recall  f1-score   support\n",
      "\n",
      "           0       0.76      0.69      0.73       384\n",
      "           1       0.75      0.68      0.72       384\n",
      "           2       0.70      0.71      0.71       307\n",
      "           3       0.66      0.70      0.68       230\n",
      "           4       0.53      0.64      0.58       154\n",
      "           5       0.37      0.48      0.42        77\n",
      "\n",
      "    accuracy                           0.68      1536\n",
      "   macro avg       0.63      0.65      0.64      1536\n",
      "weighted avg       0.69      0.68      0.68      1536\n",
      "\n",
      "[[266  33  26  26  19  14]\n",
      " [ 31 261  31  26  23  12]\n",
      " [ 22  26 219  15  17   8]\n",
      " [ 14   8  16 161  19  12]\n",
      " [ 12   6  10  12  98  16]\n",
      " [  4  12  12   4   8  37]]\n",
      "Epoch 54/64, Validation Loss: 0.9228, Validation Accuracy: 0.6784\n"
     ]
    },
    {
     "name": "stderr",
     "output_type": "stream",
     "text": [
      "Epoch 55/64: 100%|██████████| 222/222 [00:52<00:00,  4.26batch/s, accuracy=0.784, loss=0.58]   \n"
     ]
    },
    {
     "name": "stdout",
     "output_type": "stream",
     "text": [
      "[7.593749999999999e-08]\n",
      "              precision    recall  f1-score   support\n",
      "\n",
      "           0       0.80      0.70      0.75       384\n",
      "           1       0.76      0.67      0.71       384\n",
      "           2       0.68      0.70      0.69       307\n",
      "           3       0.64      0.68      0.66       230\n",
      "           4       0.55      0.63      0.59       154\n",
      "           5       0.39      0.64      0.48        77\n",
      "\n",
      "    accuracy                           0.68      1536\n",
      "   macro avg       0.64      0.67      0.65      1536\n",
      "weighted avg       0.70      0.68      0.68      1536\n",
      "\n",
      "[[268  39  29  22  13  13]\n",
      " [ 27 256  33  27  23  18]\n",
      " [ 17  23 216  23  16  12]\n",
      " [  9   8  23 157  19  14]\n",
      " [  9   4  12  11  97  21]\n",
      " [  5   6   5   5   7  49]]\n",
      "Epoch 55/64, Validation Loss: 0.9285, Validation Accuracy: 0.6790\n"
     ]
    },
    {
     "name": "stderr",
     "output_type": "stream",
     "text": [
      "Epoch 56/64: 100%|██████████| 222/222 [00:52<00:00,  4.24batch/s, accuracy=0.791, loss=0.576]  \n"
     ]
    },
    {
     "name": "stdout",
     "output_type": "stream",
     "text": [
      "[7.593749999999999e-08]\n",
      "              precision    recall  f1-score   support\n",
      "\n",
      "           0       0.78      0.66      0.72       384\n",
      "           1       0.75      0.70      0.73       384\n",
      "           2       0.69      0.71      0.70       307\n",
      "           3       0.63      0.70      0.67       230\n",
      "           4       0.53      0.64      0.58       154\n",
      "           5       0.37      0.48      0.42        77\n",
      "\n",
      "    accuracy                           0.68      1536\n",
      "   macro avg       0.63      0.65      0.63      1536\n",
      "weighted avg       0.69      0.68      0.68      1536\n",
      "\n",
      "[[254  43  31  26  18  12]\n",
      " [ 32 269  26  25  22  10]\n",
      " [ 14  24 218  23  17  11]\n",
      " [ 11  10  16 162  18  13]\n",
      " [  7   5  13  15  98  16]\n",
      " [  6   6  10   5  13  37]]\n",
      "Epoch 56/64, Validation Loss: 0.9135, Validation Accuracy: 0.6758\n"
     ]
    },
    {
     "name": "stderr",
     "output_type": "stream",
     "text": [
      "Epoch 57/64: 100%|██████████| 222/222 [00:52<00:00,  4.26batch/s, accuracy=0.785, loss=0.578]  \n"
     ]
    },
    {
     "name": "stdout",
     "output_type": "stream",
     "text": [
      "[7.593749999999999e-08]\n",
      "              precision    recall  f1-score   support\n",
      "\n",
      "           0       0.76      0.66      0.71       384\n",
      "           1       0.76      0.66      0.71       384\n",
      "           2       0.66      0.67      0.67       307\n",
      "           3       0.62      0.67      0.64       230\n",
      "           4       0.51      0.62      0.56       154\n",
      "           5       0.33      0.51      0.40        77\n",
      "\n",
      "    accuracy                           0.65      1536\n",
      "   macro avg       0.61      0.63      0.61      1536\n",
      "weighted avg       0.67      0.65      0.66      1536\n",
      "\n",
      "[[254  31  25  30  23  21]\n",
      " [ 36 254  33  23  21  17]\n",
      " [ 23  26 207  24  16  11]\n",
      " [ 12  10  23 155  20  10]\n",
      " [  8   4  15  13  95  19]\n",
      " [  3   8  10   7  10  39]]\n",
      "Epoch 57/64, Validation Loss: 0.9596, Validation Accuracy: 0.6536\n"
     ]
    },
    {
     "name": "stderr",
     "output_type": "stream",
     "text": [
      "Epoch 58/64: 100%|██████████| 222/222 [00:51<00:00,  4.28batch/s, accuracy=0.784, loss=0.587]  \n"
     ]
    },
    {
     "name": "stdout",
     "output_type": "stream",
     "text": [
      "[7.593749999999999e-08]\n",
      "              precision    recall  f1-score   support\n",
      "\n",
      "           0       0.77      0.71      0.74       384\n",
      "           1       0.77      0.69      0.73       384\n",
      "           2       0.70      0.71      0.71       307\n",
      "           3       0.66      0.67      0.66       230\n",
      "           4       0.56      0.66      0.60       154\n",
      "           5       0.36      0.51      0.42        77\n",
      "\n",
      "    accuracy                           0.68      1536\n",
      "   macro avg       0.64      0.66      0.64      1536\n",
      "weighted avg       0.70      0.68      0.69      1536\n",
      "\n",
      "[[272  30  28  25  14  15]\n",
      " [ 32 266  26  28  18  14]\n",
      " [ 19  24 219  17  17  11]\n",
      " [ 15   9  25 154  17  10]\n",
      " [ 12   8   9   6 101  18]\n",
      " [  4  10   6   4  14  39]]\n",
      "Epoch 58/64, Validation Loss: 0.9150, Validation Accuracy: 0.6842\n"
     ]
    },
    {
     "name": "stderr",
     "output_type": "stream",
     "text": [
      "Epoch 59/64: 100%|██████████| 222/222 [00:51<00:00,  4.31batch/s, accuracy=0.786, loss=0.576]  \n"
     ]
    },
    {
     "name": "stdout",
     "output_type": "stream",
     "text": [
      "[7.593749999999999e-08]\n",
      "              precision    recall  f1-score   support\n",
      "\n",
      "           0       0.75      0.67      0.71       384\n",
      "           1       0.73      0.71      0.72       384\n",
      "           2       0.66      0.68      0.67       307\n",
      "           3       0.62      0.63      0.63       230\n",
      "           4       0.55      0.58      0.56       154\n",
      "           5       0.30      0.42      0.35        77\n",
      "\n",
      "    accuracy                           0.65      1536\n",
      "   macro avg       0.60      0.61      0.61      1536\n",
      "weighted avg       0.67      0.65      0.66      1536\n",
      "\n",
      "[[257  40  29  31  15  12]\n",
      " [ 29 271  29  21  17  17]\n",
      " [ 19  27 210  21  17  13]\n",
      " [ 17  15  25 146  14  13]\n",
      " [ 13   6  13  14  89  19]\n",
      " [  7  10  13   4  11  32]]\n",
      "Epoch 59/64, Validation Loss: 0.9565, Validation Accuracy: 0.6543\n"
     ]
    },
    {
     "name": "stderr",
     "output_type": "stream",
     "text": [
      "Epoch 60/64: 100%|██████████| 222/222 [00:51<00:00,  4.31batch/s, accuracy=0.787, loss=0.573]  \n"
     ]
    },
    {
     "name": "stdout",
     "output_type": "stream",
     "text": [
      "[1.1390624999999997e-08]\n",
      "              precision    recall  f1-score   support\n",
      "\n",
      "           0       0.78      0.68      0.73       384\n",
      "           1       0.75      0.70      0.72       384\n",
      "           2       0.70      0.68      0.69       307\n",
      "           3       0.67      0.63      0.65       230\n",
      "           4       0.54      0.66      0.59       154\n",
      "           5       0.32      0.53      0.40        77\n",
      "\n",
      "    accuracy                           0.67      1536\n",
      "   macro avg       0.62      0.65      0.63      1536\n",
      "weighted avg       0.69      0.67      0.68      1536\n",
      "\n",
      "[[263  36  23  23  16  23]\n",
      " [ 27 269  28  24  18  18]\n",
      " [ 19  28 210  16  19  15]\n",
      " [ 12  11  24 146  26  11]\n",
      " [ 11   5   8   7 102  21]\n",
      " [  5  10   9   3   9  41]]\n",
      "Epoch 60/64, Validation Loss: 0.9094, Validation Accuracy: 0.6712\n"
     ]
    },
    {
     "name": "stderr",
     "output_type": "stream",
     "text": [
      "Epoch 61/64: 100%|██████████| 222/222 [00:52<00:00,  4.25batch/s, accuracy=0.796, loss=0.57]   \n"
     ]
    },
    {
     "name": "stdout",
     "output_type": "stream",
     "text": [
      "[1.1390624999999997e-08]\n",
      "              precision    recall  f1-score   support\n",
      "\n",
      "           0       0.75      0.70      0.72       384\n",
      "           1       0.77      0.69      0.73       384\n",
      "           2       0.68      0.69      0.69       307\n",
      "           3       0.64      0.69      0.66       230\n",
      "           4       0.55      0.61      0.58       154\n",
      "           5       0.32      0.44      0.37        77\n",
      "\n",
      "    accuracy                           0.67      1536\n",
      "   macro avg       0.62      0.64      0.63      1536\n",
      "weighted avg       0.68      0.67      0.68      1536\n",
      "\n",
      "[[267  37  26  22  18  14]\n",
      " [ 33 266  32  22  16  15]\n",
      " [ 23  18 212  24  16  14]\n",
      " [ 12  11  21 158  18  10]\n",
      " [ 13   6   9  14  94  18]\n",
      " [  8   9  10   6  10  34]]\n",
      "Epoch 61/64, Validation Loss: 0.9493, Validation Accuracy: 0.6712\n"
     ]
    },
    {
     "name": "stderr",
     "output_type": "stream",
     "text": [
      "Epoch 62/64: 100%|██████████| 222/222 [00:52<00:00,  4.22batch/s, accuracy=0.792, loss=0.571]  \n"
     ]
    },
    {
     "name": "stdout",
     "output_type": "stream",
     "text": [
      "[1.1390624999999997e-08]\n",
      "              precision    recall  f1-score   support\n",
      "\n",
      "           0       0.76      0.67      0.71       384\n",
      "           1       0.73      0.68      0.71       384\n",
      "           2       0.68      0.67      0.68       307\n",
      "           3       0.63      0.69      0.66       230\n",
      "           4       0.55      0.61      0.58       154\n",
      "           5       0.31      0.44      0.37        77\n",
      "\n",
      "    accuracy                           0.66      1536\n",
      "   macro avg       0.61      0.63      0.62      1536\n",
      "weighted avg       0.67      0.66      0.66      1536\n",
      "\n",
      "[[256  40  28  26  18  16]\n",
      " [ 32 263  32  24  20  13]\n",
      " [ 20  31 207  21  13  15]\n",
      " [ 11  10  20 159  15  15]\n",
      " [ 10   8  11  15  94  16]\n",
      " [  7  10   8   6  12  34]]\n",
      "Epoch 62/64, Validation Loss: 0.9797, Validation Accuracy: 0.6595\n"
     ]
    },
    {
     "name": "stderr",
     "output_type": "stream",
     "text": [
      "Epoch 63/64: 100%|██████████| 222/222 [00:52<00:00,  4.23batch/s, accuracy=0.792, loss=0.566]  \n"
     ]
    },
    {
     "name": "stdout",
     "output_type": "stream",
     "text": [
      "[1.1390624999999997e-08]\n",
      "              precision    recall  f1-score   support\n",
      "\n",
      "           0       0.77      0.66      0.71       384\n",
      "           1       0.75      0.69      0.72       384\n",
      "           2       0.65      0.68      0.67       307\n",
      "           3       0.64      0.68      0.66       230\n",
      "           4       0.55      0.62      0.58       154\n",
      "           5       0.39      0.60      0.47        77\n",
      "\n",
      "    accuracy                           0.67      1536\n",
      "   macro avg       0.63      0.65      0.63      1536\n",
      "weighted avg       0.68      0.67      0.67      1536\n",
      "\n",
      "[[252  37  33  28  17  17]\n",
      " [ 30 265  33  22  23  11]\n",
      " [ 16  27 208  22  19  15]\n",
      " [ 14  11  23 156  14  12]\n",
      " [ 12   4  12  14  96  16]\n",
      " [  4   8   9   3   7  46]]\n",
      "Epoch 63/64, Validation Loss: 0.9658, Validation Accuracy: 0.6660\n"
     ]
    },
    {
     "name": "stderr",
     "output_type": "stream",
     "text": [
      "Epoch 64/64: 100%|██████████| 222/222 [00:52<00:00,  4.24batch/s, accuracy=0.789, loss=0.579]  \n"
     ]
    },
    {
     "name": "stdout",
     "output_type": "stream",
     "text": [
      "[1.1390624999999997e-08]\n",
      "              precision    recall  f1-score   support\n",
      "\n",
      "           0       0.78      0.71      0.75       384\n",
      "           1       0.77      0.71      0.74       384\n",
      "           2       0.67      0.71      0.69       307\n",
      "           3       0.67      0.67      0.67       230\n",
      "           4       0.49      0.59      0.54       154\n",
      "           5       0.40      0.49      0.44        77\n",
      "\n",
      "    accuracy                           0.68      1536\n",
      "   macro avg       0.63      0.65      0.64      1536\n",
      "weighted avg       0.69      0.68      0.69      1536\n",
      "\n",
      "[[274  29  33  19  19  10]\n",
      " [ 30 272  28  22  22  10]\n",
      " [ 18  26 217  16  18  12]\n",
      " [ 12  14  21 155  21   7]\n",
      " [ 12   6  13  15  91  17]\n",
      " [  5   8  10   3  13  38]]\n",
      "Epoch 64/64, Validation Loss: 0.9155, Validation Accuracy: 0.6816\n",
      "Finished Training\n",
      "Best validation accuracy: 0.6868\n"
     ]
    }
   ],
   "source": [
    "if __name__ == \"__main__\":\n",
    "    trainer = ContinueTrainer(\n",
    "   #     model_path = './runs/20241014-oversam-epoch48-bestmodel/best_model.pth',\n",
    "        model = TunnedBlockStackNet8(),\n",
    "        csv_path = csv_path, \n",
    "        img_dir= img_dir, \n",
    "        test_size=0.2, \n",
    "        num_epochs=64,\n",
    "        batch_size=32\n",
    "        )\n",
    "    trainer.train()"
   ]
  },
  {
   "cell_type": "code",
   "execution_count": 53,
   "metadata": {},
   "outputs": [
    {
     "name": "stdout",
     "output_type": "stream",
     "text": [
      "              precision    recall  f1-score   support\n",
      "\n",
      "           0       0.77      0.70      0.73       384\n",
      "           1       0.78      0.68      0.73       384\n",
      "           2       0.65      0.70      0.68       307\n",
      "           3       0.62      0.64      0.63       230\n",
      "           4       0.51      0.64      0.56       154\n",
      "           5       0.32      0.38      0.34        77\n",
      "\n",
      "    accuracy                           0.66      1536\n",
      "   macro avg       0.61      0.62      0.61      1536\n",
      "weighted avg       0.68      0.66      0.67      1536\n",
      "\n",
      "[[268  27  31  24  19  15]\n",
      " [ 32 262  30  26  24  10]\n",
      " [ 21  22 214  23  19   8]\n",
      " [ 12  11  29 148  17  13]\n",
      " [  9   7  10  13  98  17]\n",
      " [  6   9  13   4  16  29]]\n"
     ]
    },
    {
     "name": "stderr",
     "output_type": "stream",
     "text": [
      "/tmp/ipykernel_1235/2499798223.py:3: SettingWithCopyWarning: \n",
      "A value is trying to be set on a copy of a slice from a DataFrame.\n",
      "Try using .loc[row_indexer,col_indexer] = value instead\n",
      "\n",
      "See the caveats in the documentation: https://pandas.pydata.org/pandas-docs/stable/user_guide/indexing.html#returning-a-view-versus-a-copy\n",
      "  valid1_df['pred_label'] = [pred + 1 for pred in all_predictions]\n",
      "/tmp/ipykernel_1235/2499798223.py:4: SettingWithCopyWarning: \n",
      "A value is trying to be set on a copy of a slice from a DataFrame.\n",
      "Try using .loc[row_indexer,col_indexer] = value instead\n",
      "\n",
      "See the caveats in the documentation: https://pandas.pydata.org/pandas-docs/stable/user_guide/indexing.html#returning-a-view-versus-a-copy\n",
      "  valid1_df['pred_type'] = valid1_df['pred_label'] == valid1_df['stable_height']\n"
     ]
    },
    {
     "data": {
      "text/plain": [
       "instability_type  type\n",
       "0                 1       0.802395\n",
       "                  2       0.495050\n",
       "1                 1       0.671795\n",
       "                  2       0.428941\n",
       "2                 1       0.927184\n",
       "                  2       0.902174\n",
       "Name: pred_type, dtype: float64"
      ]
     },
     "execution_count": 53,
     "metadata": {},
     "output_type": "execute_result"
    }
   ],
   "source": [
    "valid1_df = trainer.val_data\n",
    "_,_, all_labels, all_predictions = trainer.validate()\n",
    "valid1_df['pred_label'] = [pred + 1 for pred in all_predictions]\n",
    "valid1_df['pred_type'] = valid1_df['pred_label'] == valid1_df['stable_height']\n",
    "valid1_df.groupby(['instability_type', 'type']).pred_type.sum()/valid1_df.groupby(['instability_type', 'type']).pred_type.count()"
   ]
  },
  {
   "cell_type": "code",
   "execution_count": 69,
   "metadata": {},
   "outputs": [
    {
     "name": "stdout",
     "output_type": "stream",
     "text": [
      "instability_type\n",
      "1    777\n",
      "2    390\n",
      "0    369\n",
      "Name: count, dtype: int64\n"
     ]
    }
   ],
   "source": [
    "print(valid1_df['instability_type'].value_counts())"
   ]
  },
  {
   "cell_type": "code",
   "execution_count": null,
   "metadata": {},
   "outputs": [],
   "source": []
  },
  {
   "cell_type": "code",
   "execution_count": 41,
   "metadata": {
    "scrolled": true
   },
   "outputs": [
    {
     "name": "stdout",
     "output_type": "stream",
     "text": [
      "Train dataset size: 6144 Validation dataset size: 1536 length of train_ids1 length of valid_ids1\n"
     ]
    },
    {
     "name": "stderr",
     "output_type": "stream",
     "text": [
      "Epoch 1/8: 100%|█████████▉| 221/222 [00:51<00:00,  4.34batch/s, accuracy=0.639, loss=0.928]  /root/miniconda3/lib/python3.12/site-packages/torch/nn/modules/conv.py:456: UserWarning: Plan failed with a cudnnException: CUDNN_BACKEND_EXECUTION_PLAN_DESCRIPTOR: cudnnFinalize Descriptor Failed cudnn_status: CUDNN_STATUS_NOT_SUPPORTED (Triggered internally at ../aten/src/ATen/native/cudnn/Conv_v8.cpp:919.)\n",
      "  return F.conv2d(input, weight, bias, self.stride,\n",
      "Epoch 1/8: 100%|██████████| 222/222 [00:51<00:00,  4.29batch/s, accuracy=0.641, loss=0.933]\n"
     ]
    },
    {
     "name": "stdout",
     "output_type": "stream",
     "text": [
      "[0.001]\n",
      "              precision    recall  f1-score   support\n",
      "\n",
      "           0       0.73      0.61      0.66       384\n",
      "           1       0.74      0.60      0.66       384\n",
      "           2       0.69      0.64      0.66       307\n",
      "           3       0.52      0.71      0.60       230\n",
      "           4       0.45      0.58      0.51       154\n",
      "           5       0.31      0.43      0.36        77\n",
      "\n",
      "    accuracy                           0.62      1536\n",
      "   macro avg       0.57      0.59      0.58      1536\n",
      "weighted avg       0.64      0.62      0.62      1536\n",
      "\n",
      "[[233  48  33  40  20  10]\n",
      " [ 32 230  34  40  28  20]\n",
      " [ 16  21 195  38  19  18]\n",
      " [ 10   5  13 164  25  13]\n",
      " [ 16   4   4  26  90  14]\n",
      " [ 13   2   3   6  20  33]]\n",
      "Epoch 1/8, Validation Loss: 0.9815, Validation Accuracy: 0.6152\n",
      "Best model saved! 20241014-2034\n"
     ]
    },
    {
     "name": "stderr",
     "output_type": "stream",
     "text": [
      "Epoch 2/8: 100%|██████████| 222/222 [00:52<00:00,  4.21batch/s, accuracy=0.638, loss=0.929]  \n"
     ]
    },
    {
     "name": "stdout",
     "output_type": "stream",
     "text": [
      "[0.001]\n",
      "              precision    recall  f1-score   support\n",
      "\n",
      "           0       0.69      0.72      0.70       384\n",
      "           1       0.75      0.67      0.71       384\n",
      "           2       0.61      0.67      0.64       307\n",
      "           3       0.59      0.60      0.60       230\n",
      "           4       0.50      0.52      0.51       154\n",
      "           5       0.37      0.31      0.34        77\n",
      "\n",
      "    accuracy                           0.64      1536\n",
      "   macro avg       0.59      0.58      0.58      1536\n",
      "weighted avg       0.64      0.64      0.64      1536\n",
      "\n",
      "[[275  32  31  24  14   8]\n",
      " [ 44 256  33  24  17  10]\n",
      " [ 39  25 206  22  11   4]\n",
      " [ 20  12  30 138  22   8]\n",
      " [ 15   7  22  19  80  11]\n",
      " [  8   9  14   6  16  24]]\n",
      "Epoch 2/8, Validation Loss: 0.9350, Validation Accuracy: 0.6374\n",
      "Best model saved! 20241014-2035\n"
     ]
    },
    {
     "name": "stderr",
     "output_type": "stream",
     "text": [
      "Epoch 3/8: 100%|██████████| 222/222 [00:51<00:00,  4.31batch/s, accuracy=0.631, loss=0.948]  \n"
     ]
    },
    {
     "name": "stdout",
     "output_type": "stream",
     "text": [
      "[0.001]\n",
      "              precision    recall  f1-score   support\n",
      "\n",
      "           0       0.58      0.78      0.66       384\n",
      "           1       0.71      0.67      0.69       384\n",
      "           2       0.66      0.64      0.65       307\n",
      "           3       0.60      0.56      0.58       230\n",
      "           4       0.64      0.34      0.44       154\n",
      "           5       0.37      0.32      0.34        77\n",
      "\n",
      "    accuracy                           0.62      1536\n",
      "   macro avg       0.59      0.55      0.56      1536\n",
      "weighted avg       0.63      0.62      0.62      1536\n",
      "\n",
      "[[299  32  26  21   3   3]\n",
      " [ 74 257  26  14   2  11]\n",
      " [ 42  30 196  20   8  11]\n",
      " [ 40  18  29 128  10   5]\n",
      " [ 38  15  11  25  52  13]\n",
      " [ 25   9   8   4   6  25]]\n",
      "Epoch 3/8, Validation Loss: 0.9880, Validation Accuracy: 0.6230\n"
     ]
    },
    {
     "name": "stderr",
     "output_type": "stream",
     "text": [
      "Epoch 4/8: 100%|██████████| 222/222 [00:52<00:00,  4.26batch/s, accuracy=0.647, loss=0.916]  \n"
     ]
    },
    {
     "name": "stdout",
     "output_type": "stream",
     "text": [
      "[0.001]\n",
      "              precision    recall  f1-score   support\n",
      "\n",
      "           0       0.69      0.72      0.71       384\n",
      "           1       0.75      0.67      0.71       384\n",
      "           2       0.55      0.71      0.62       307\n",
      "           3       0.62      0.59      0.61       230\n",
      "           4       0.57      0.47      0.51       154\n",
      "           5       0.39      0.29      0.33        77\n",
      "\n",
      "    accuracy                           0.64      1536\n",
      "   macro avg       0.60      0.57      0.58      1536\n",
      "weighted avg       0.64      0.64      0.64      1536\n",
      "\n",
      "[[277  29  37  23  14   4]\n",
      " [ 52 258  40  15  12   7]\n",
      " [ 23  34 217  19   9   5]\n",
      " [ 23   8  47 136   9   7]\n",
      " [ 13   8  31  19  72  11]\n",
      " [ 11   8  19   6  11  22]]\n",
      "Epoch 4/8, Validation Loss: 0.9436, Validation Accuracy: 0.6393\n",
      "Best model saved! 20241014-2037\n"
     ]
    },
    {
     "name": "stderr",
     "output_type": "stream",
     "text": [
      "Epoch 5/8: 100%|██████████| 222/222 [00:51<00:00,  4.27batch/s, accuracy=0.642, loss=0.923]  \n"
     ]
    },
    {
     "name": "stdout",
     "output_type": "stream",
     "text": [
      "[0.001]\n",
      "              precision    recall  f1-score   support\n",
      "\n",
      "           0       0.75      0.65      0.69       384\n",
      "           1       0.70      0.69      0.70       384\n",
      "           2       0.68      0.62      0.65       307\n",
      "           3       0.58      0.57      0.58       230\n",
      "           4       0.43      0.54      0.48       154\n",
      "           5       0.27      0.45      0.33        77\n",
      "\n",
      "    accuracy                           0.62      1536\n",
      "   macro avg       0.57      0.59      0.57      1536\n",
      "weighted avg       0.64      0.62      0.63      1536\n",
      "\n",
      "[[248  49  23  28  19  17]\n",
      " [ 32 265  20  22  21  24]\n",
      " [ 20  35 189  21  23  19]\n",
      " [ 11  14  28 132  26  19]\n",
      " [ 14   6  11  22  83  18]\n",
      " [  7   8   5   2  20  35]]\n",
      "Epoch 5/8, Validation Loss: 0.9550, Validation Accuracy: 0.6198\n"
     ]
    },
    {
     "name": "stderr",
     "output_type": "stream",
     "text": [
      "Epoch 6/8: 100%|██████████| 222/222 [00:52<00:00,  4.27batch/s, accuracy=0.647, loss=0.913]  \n"
     ]
    },
    {
     "name": "stdout",
     "output_type": "stream",
     "text": [
      "[0.001]\n",
      "              precision    recall  f1-score   support\n",
      "\n",
      "           0       0.67      0.72      0.69       384\n",
      "           1       0.69      0.71      0.70       384\n",
      "           2       0.65      0.60      0.62       307\n",
      "           3       0.59      0.53      0.56       230\n",
      "           4       0.52      0.42      0.46       154\n",
      "           5       0.28      0.43      0.34        77\n",
      "\n",
      "    accuracy                           0.62      1536\n",
      "   macro avg       0.57      0.57      0.56      1536\n",
      "weighted avg       0.62      0.62      0.62      1536\n",
      "\n",
      "[[275  42  31  17  11   8]\n",
      " [ 37 271  33  20  10  13]\n",
      " [ 27  39 185  34   8  14]\n",
      " [ 27  16  15 122  28  22]\n",
      " [ 23  15  14   8  64  30]\n",
      " [ 19  11   7   5   2  33]]\n",
      "Epoch 6/8, Validation Loss: 0.9817, Validation Accuracy: 0.6185\n"
     ]
    },
    {
     "name": "stderr",
     "output_type": "stream",
     "text": [
      "Epoch 7/8: 100%|██████████| 222/222 [00:52<00:00,  4.21batch/s, accuracy=0.645, loss=0.918]  \n"
     ]
    },
    {
     "name": "stdout",
     "output_type": "stream",
     "text": [
      "[0.001]\n",
      "              precision    recall  f1-score   support\n",
      "\n",
      "           0       0.82      0.54      0.66       384\n",
      "           1       0.66      0.77      0.71       384\n",
      "           2       0.59      0.69      0.64       307\n",
      "           3       0.60      0.54      0.57       230\n",
      "           4       0.53      0.61      0.57       154\n",
      "           5       0.31      0.36      0.33        77\n",
      "\n",
      "    accuracy                           0.63      1536\n",
      "   macro avg       0.58      0.59      0.58      1536\n",
      "weighted avg       0.65      0.63      0.63      1536\n",
      "\n",
      "[[209  62  45  35  16  17]\n",
      " [ 15 294  28  26  15   6]\n",
      " [ 10  42 213  14  17  11]\n",
      " [ 11  18  40 124  25  12]\n",
      " [  6  14  16   7  94  17]\n",
      " [  3  14  19   2  11  28]]\n",
      "Epoch 7/8, Validation Loss: 0.9344, Validation Accuracy: 0.6263\n"
     ]
    },
    {
     "name": "stderr",
     "output_type": "stream",
     "text": [
      "Epoch 8/8: 100%|██████████| 222/222 [00:51<00:00,  4.29batch/s, accuracy=0.651, loss=0.896]  \n"
     ]
    },
    {
     "name": "stdout",
     "output_type": "stream",
     "text": [
      "[0.001]\n",
      "              precision    recall  f1-score   support\n",
      "\n",
      "           0       0.84      0.58      0.69       384\n",
      "           1       0.75      0.68      0.71       384\n",
      "           2       0.67      0.65      0.66       307\n",
      "           3       0.45      0.78      0.58       230\n",
      "           4       0.37      0.39      0.38       154\n",
      "           5       0.35      0.31      0.33        77\n",
      "\n",
      "    accuracy                           0.62      1536\n",
      "   macro avg       0.57      0.57      0.56      1536\n",
      "weighted avg       0.65      0.62      0.62      1536\n",
      "\n",
      "[[222  46  38  47  20  11]\n",
      " [ 15 261  29  44  25  10]\n",
      " [  7  31 200  42  15  12]\n",
      " [  9   2  18 180  16   5]\n",
      " [  6   6   9  67  60   6]\n",
      " [  5   4   3  16  25  24]]\n",
      "Epoch 8/8, Validation Loss: 0.9748, Validation Accuracy: 0.6165\n",
      "Finished Training\n",
      "Best validation accuracy: 0.6393\n"
     ]
    }
   ],
   "source": [
    "if __name__ == \"__main__\":\n",
    "    trainer = ContinueTrainer(\n",
    "        model_path = './runs/20241014-oversam-epoch48-bestmodel/best_model.pth',\n",
    "        model = TunnedBlockStackNet8(),\n",
    "        csv_path = csv_path, \n",
    "        img_dir= img_dir, \n",
    "        test_size=0.2, \n",
    "        num_epochs=8,\n",
    "        batch_size=32\n",
    "        )\n",
    "    trainer.train()"
   ]
  },
  {
   "cell_type": "code",
   "execution_count": 42,
   "metadata": {
    "scrolled": true
   },
   "outputs": [
    {
     "name": "stdout",
     "output_type": "stream",
     "text": [
      "              precision    recall  f1-score   support\n",
      "\n",
      "           0       0.79      0.58      0.67       384\n",
      "           1       0.74      0.67      0.70       384\n",
      "           2       0.66      0.64      0.65       307\n",
      "           3       0.44      0.74      0.56       230\n",
      "           4       0.42      0.40      0.41       154\n",
      "           5       0.39      0.38      0.38        77\n",
      "\n",
      "    accuracy                           0.61      1536\n",
      "   macro avg       0.57      0.57      0.56      1536\n",
      "weighted avg       0.64      0.61      0.62      1536\n",
      "\n",
      "[[223  45  41  51  15   9]\n",
      " [ 22 256  27  45  23  11]\n",
      " [ 10  31 198  44  13  11]\n",
      " [ 15   3  21 171  11   9]\n",
      " [  9   5   9  63  62   6]\n",
      " [  5   4   3  12  24  29]]\n"
     ]
    },
    {
     "name": "stderr",
     "output_type": "stream",
     "text": [
      "/tmp/ipykernel_1235/2499798223.py:3: SettingWithCopyWarning: \n",
      "A value is trying to be set on a copy of a slice from a DataFrame.\n",
      "Try using .loc[row_indexer,col_indexer] = value instead\n",
      "\n",
      "See the caveats in the documentation: https://pandas.pydata.org/pandas-docs/stable/user_guide/indexing.html#returning-a-view-versus-a-copy\n",
      "  valid1_df['pred_label'] = [pred + 1 for pred in all_predictions]\n",
      "/tmp/ipykernel_1235/2499798223.py:4: SettingWithCopyWarning: \n",
      "A value is trying to be set on a copy of a slice from a DataFrame.\n",
      "Try using .loc[row_indexer,col_indexer] = value instead\n",
      "\n",
      "See the caveats in the documentation: https://pandas.pydata.org/pandas-docs/stable/user_guide/indexing.html#returning-a-view-versus-a-copy\n",
      "  valid1_df['pred_type'] = valid1_df['pred_label'] == valid1_df['stable_height']\n"
     ]
    },
    {
     "data": {
      "text/plain": [
       "instability_type  type\n",
       "0                 1       0.718563\n",
       "                  2       0.460396\n",
       "1                 1       0.625641\n",
       "                  2       0.366925\n",
       "2                 1       0.873786\n",
       "                  2       0.869565\n",
       "Name: pred_type, dtype: float64"
      ]
     },
     "execution_count": 42,
     "metadata": {},
     "output_type": "execute_result"
    }
   ],
   "source": [
    "valid1_df = trainer.val_data\n",
    "_,_, all_labels, all_predictions = trainer.validate()\n",
    "valid1_df['pred_label'] = [pred + 1 for pred in all_predictions]\n",
    "valid1_df['pred_type'] = valid1_df['pred_label'] == valid1_df['stable_height']\n",
    "valid1_df.groupby(['instability_type', 'type']).pred_type.sum()/valid1_df.groupby(['instability_type', 'type']).pred_type.count()"
   ]
  },
  {
   "cell_type": "markdown",
   "metadata": {},
   "source": [
    "# Add hard example \n",
    "* Instability type 0 1 2 random sampling with ratio (500, 400, 50)\n",
    "* Acc: 0.68"
   ]
  },
  {
   "cell_type": "code",
   "execution_count": 34,
   "metadata": {
    "scrolled": true
   },
   "outputs": [
    {
     "name": "stdout",
     "output_type": "stream",
     "text": [
      "Train dataset size: 6144 Validation dataset size: 1536 length of train_ids1 length of valid_ids1\n"
     ]
    },
    {
     "name": "stderr",
     "output_type": "stream",
     "text": [
      "Epoch 1/32: 100%|█████████▉| 218/219 [00:50<00:00,  4.15batch/s, accuracy=0.566, loss=1.08]   /root/miniconda3/lib/python3.12/site-packages/torch/nn/modules/conv.py:456: UserWarning: Plan failed with a cudnnException: CUDNN_BACKEND_EXECUTION_PLAN_DESCRIPTOR: cudnnFinalize Descriptor Failed cudnn_status: CUDNN_STATUS_NOT_SUPPORTED (Triggered internally at ../aten/src/ATen/native/cudnn/Conv_v8.cpp:919.)\n",
      "  return F.conv2d(input, weight, bias, self.stride,\n",
      "Epoch 1/32: 100%|██████████| 219/219 [00:51<00:00,  4.28batch/s, accuracy=0.568, loss=1.09]\n"
     ]
    },
    {
     "name": "stdout",
     "output_type": "stream",
     "text": [
      "[0.001]\n",
      "              precision    recall  f1-score   support\n",
      "\n",
      "           0       0.70      0.61      0.66       384\n",
      "           1       0.61      0.74      0.67       384\n",
      "           2       0.66      0.59      0.62       307\n",
      "           3       0.55      0.35      0.43       230\n",
      "           4       0.34      0.44      0.39       154\n",
      "           5       0.20      0.31      0.25        77\n",
      "\n",
      "    accuracy                           0.57      1536\n",
      "   macro avg       0.51      0.51      0.50      1536\n",
      "weighted avg       0.59      0.57      0.57      1536\n",
      "\n",
      "[[236  68  28  21  21  10]\n",
      " [ 20 283  37  15  11  18]\n",
      " [ 17  48 182  27  19  14]\n",
      " [ 26  24  14  80  69  17]\n",
      " [ 21  17  10   3  68  35]\n",
      " [ 16  22   5   0  10  24]]\n",
      "Epoch 1/32, Validation Loss: 1.0438, Validation Accuracy: 0.5684\n",
      "Best model saved! 20241014-1947\n"
     ]
    },
    {
     "name": "stderr",
     "output_type": "stream",
     "text": [
      "Epoch 2/32: 100%|██████████| 219/219 [00:50<00:00,  4.31batch/s, accuracy=0.58, loss=1.06]    \n"
     ]
    },
    {
     "name": "stdout",
     "output_type": "stream",
     "text": [
      "[0.001]\n",
      "              precision    recall  f1-score   support\n",
      "\n",
      "           0       0.63      0.64      0.63       384\n",
      "           1       0.68      0.65      0.67       384\n",
      "           2       0.56      0.73      0.63       307\n",
      "           3       0.56      0.45      0.50       230\n",
      "           4       0.47      0.29      0.36       154\n",
      "           5       0.28      0.38      0.32        77\n",
      "\n",
      "    accuracy                           0.58      1536\n",
      "   macro avg       0.53      0.52      0.52      1536\n",
      "weighted avg       0.59      0.58      0.58      1536\n",
      "\n",
      "[[244  50  55  26   5   4]\n",
      " [ 35 251  59  23   7   9]\n",
      " [ 20  23 224  23   8   9]\n",
      " [ 35  17  28 103  25  22]\n",
      " [ 35  18  19   7  44  31]\n",
      " [ 17  11  15   1   4  29]]\n",
      "Epoch 2/32, Validation Loss: 1.0425, Validation Accuracy: 0.5827\n",
      "Best model saved! 20241014-1948\n"
     ]
    },
    {
     "name": "stderr",
     "output_type": "stream",
     "text": [
      "Epoch 3/32: 100%|██████████| 219/219 [00:50<00:00,  4.32batch/s, accuracy=0.578, loss=1.06]   \n"
     ]
    },
    {
     "name": "stdout",
     "output_type": "stream",
     "text": [
      "[0.001]\n",
      "              precision    recall  f1-score   support\n",
      "\n",
      "           0       0.83      0.57      0.67       384\n",
      "           1       0.67      0.67      0.67       384\n",
      "           2       0.49      0.72      0.59       307\n",
      "           3       0.44      0.55      0.49       230\n",
      "           4       0.44      0.32      0.37       154\n",
      "           5       0.33      0.16      0.21        77\n",
      "\n",
      "    accuracy                           0.58      1536\n",
      "   macro avg       0.53      0.50      0.50      1536\n",
      "weighted avg       0.60      0.58      0.58      1536\n",
      "\n",
      "[[219  48  60  38  13   6]\n",
      " [ 23 258  60  30  11   2]\n",
      " [  6  32 222  33   9   5]\n",
      " [  7  21  55 126  15   6]\n",
      " [  6  12  28  53  50   5]\n",
      " [  4  12  24   9  16  12]]\n",
      "Epoch 3/32, Validation Loss: 1.0567, Validation Accuracy: 0.5775\n"
     ]
    },
    {
     "name": "stderr",
     "output_type": "stream",
     "text": [
      "Epoch 4/32: 100%|██████████| 219/219 [00:50<00:00,  4.31batch/s, accuracy=0.594, loss=1.04]   \n"
     ]
    },
    {
     "name": "stdout",
     "output_type": "stream",
     "text": [
      "[0.001]\n",
      "              precision    recall  f1-score   support\n",
      "\n",
      "           0       0.75      0.59      0.66       384\n",
      "           1       0.81      0.53      0.64       384\n",
      "           2       0.50      0.79      0.62       307\n",
      "           3       0.53      0.53      0.53       230\n",
      "           4       0.44      0.57      0.49       154\n",
      "           5       0.36      0.31      0.33        77\n",
      "\n",
      "    accuracy                           0.59      1536\n",
      "   macro avg       0.57      0.56      0.55      1536\n",
      "weighted avg       0.63      0.59      0.60      1536\n",
      "\n",
      "[[228  19  64  36  25  12]\n",
      " [ 42 204  89  30  16   3]\n",
      " [ 12   9 243  19  16   8]\n",
      " [  7   7  52 122  32  10]\n",
      " [  8   5  21  22  88  10]\n",
      " [  5   7  13   3  25  24]]\n",
      "Epoch 4/32, Validation Loss: 1.0057, Validation Accuracy: 0.5918\n",
      "Best model saved! 20241014-1950\n"
     ]
    },
    {
     "name": "stderr",
     "output_type": "stream",
     "text": [
      "Epoch 5/32: 100%|██████████| 219/219 [00:51<00:00,  4.24batch/s, accuracy=0.592, loss=1.03]   \n"
     ]
    },
    {
     "name": "stdout",
     "output_type": "stream",
     "text": [
      "[0.001]\n",
      "              precision    recall  f1-score   support\n",
      "\n",
      "           0       0.68      0.71      0.69       384\n",
      "           1       0.79      0.57      0.66       384\n",
      "           2       0.65      0.59      0.62       307\n",
      "           3       0.53      0.62      0.57       230\n",
      "           4       0.39      0.53      0.45       154\n",
      "           5       0.34      0.44      0.39        77\n",
      "\n",
      "    accuracy                           0.60      1536\n",
      "   macro avg       0.56      0.58      0.56      1536\n",
      "weighted avg       0.63      0.60      0.61      1536\n",
      "\n",
      "[[271  32  31  21  18  11]\n",
      " [ 48 218  32  46  28  12]\n",
      " [ 42  16 181  33  20  15]\n",
      " [ 16   3  20 142  41   8]\n",
      " [ 15   4  11  23  82  19]\n",
      " [  8   4   3   5  23  34]]\n",
      "Epoch 5/32, Validation Loss: 0.9872, Validation Accuracy: 0.6042\n",
      "Best model saved! 20241014-1951\n"
     ]
    },
    {
     "name": "stderr",
     "output_type": "stream",
     "text": [
      "Epoch 6/32: 100%|██████████| 219/219 [00:51<00:00,  4.28batch/s, accuracy=0.595, loss=1.03]   \n"
     ]
    },
    {
     "name": "stdout",
     "output_type": "stream",
     "text": [
      "[0.001]\n",
      "              precision    recall  f1-score   support\n",
      "\n",
      "           0       0.70      0.65      0.68       384\n",
      "           1       0.70      0.61      0.65       384\n",
      "           2       0.64      0.60      0.62       307\n",
      "           3       0.60      0.55      0.57       230\n",
      "           4       0.41      0.60      0.49       154\n",
      "           5       0.31      0.49      0.38        77\n",
      "\n",
      "    accuracy                           0.60      1536\n",
      "   macro avg       0.56      0.58      0.56      1536\n",
      "weighted avg       0.62      0.60      0.61      1536\n",
      "\n",
      "[[250  36  29  30  22  17]\n",
      " [ 48 233  36  12  32  23]\n",
      " [ 23  38 183  19  25  19]\n",
      " [ 14  12  29 127  35  13]\n",
      " [ 13   6   5  24  92  14]\n",
      " [  8   7   5   1  18  38]]\n",
      "Epoch 6/32, Validation Loss: 1.0193, Validation Accuracy: 0.6009\n"
     ]
    },
    {
     "name": "stderr",
     "output_type": "stream",
     "text": [
      "Epoch 7/32: 100%|██████████| 219/219 [00:50<00:00,  4.34batch/s, accuracy=0.596, loss=1.03]   \n"
     ]
    },
    {
     "name": "stdout",
     "output_type": "stream",
     "text": [
      "[0.001]\n",
      "              precision    recall  f1-score   support\n",
      "\n",
      "           0       0.61      0.72      0.66       384\n",
      "           1       0.69      0.68      0.68       384\n",
      "           2       0.70      0.57      0.63       307\n",
      "           3       0.53      0.49      0.51       230\n",
      "           4       0.37      0.42      0.39       154\n",
      "           5       0.21      0.18      0.19        77\n",
      "\n",
      "    accuracy                           0.59      1536\n",
      "   macro avg       0.52      0.51      0.51      1536\n",
      "weighted avg       0.59      0.59      0.59      1536\n",
      "\n",
      "[[278  47  23  19  12   5]\n",
      " [ 57 261  30  17  12   7]\n",
      " [ 27  34 174  49  15   8]\n",
      " [ 28  13   3 112  61  13]\n",
      " [ 32  16  10  11  64  21]\n",
      " [ 32   8   9   3  11  14]]\n",
      "Epoch 7/32, Validation Loss: 1.0090, Validation Accuracy: 0.5879\n"
     ]
    },
    {
     "name": "stderr",
     "output_type": "stream",
     "text": [
      "Epoch 8/32: 100%|██████████| 219/219 [00:51<00:00,  4.28batch/s, accuracy=0.599, loss=1.01]   \n"
     ]
    },
    {
     "name": "stdout",
     "output_type": "stream",
     "text": [
      "[0.001]\n",
      "              precision    recall  f1-score   support\n",
      "\n",
      "           0       0.72      0.63      0.67       384\n",
      "           1       0.73      0.64      0.68       384\n",
      "           2       0.62      0.70      0.66       307\n",
      "           3       0.55      0.60      0.57       230\n",
      "           4       0.46      0.56      0.51       154\n",
      "           5       0.37      0.38      0.37        77\n",
      "\n",
      "    accuracy                           0.62      1536\n",
      "   macro avg       0.57      0.58      0.58      1536\n",
      "weighted avg       0.63      0.62      0.62      1536\n",
      "\n",
      "[[242  46  28  35  22  11]\n",
      " [ 35 244  44  29  19  13]\n",
      " [ 18  21 216  27  19   6]\n",
      " [ 15   8  35 137  29   6]\n",
      " [ 14   7  13  20  87  13]\n",
      " [ 13   7  13   2  13  29]]\n",
      "Epoch 8/32, Validation Loss: 0.9446, Validation Accuracy: 0.6217\n",
      "Best model saved! 20241014-1954\n"
     ]
    },
    {
     "name": "stderr",
     "output_type": "stream",
     "text": [
      "Epoch 9/32: 100%|██████████| 219/219 [00:51<00:00,  4.28batch/s, accuracy=0.609, loss=0.992]  \n"
     ]
    },
    {
     "name": "stdout",
     "output_type": "stream",
     "text": [
      "[0.001]\n",
      "              precision    recall  f1-score   support\n",
      "\n",
      "           0       0.66      0.70      0.68       384\n",
      "           1       0.68      0.71      0.69       384\n",
      "           2       0.63      0.60      0.62       307\n",
      "           3       0.57      0.62      0.60       230\n",
      "           4       0.56      0.47      0.51       154\n",
      "           5       0.39      0.31      0.35        77\n",
      "\n",
      "    accuracy                           0.63      1536\n",
      "   macro avg       0.58      0.57      0.57      1536\n",
      "weighted avg       0.62      0.63      0.62      1536\n",
      "\n",
      "[[269  46  26  25  14   4]\n",
      " [ 46 272  25  22  10   9]\n",
      " [ 40  42 185  28   9   3]\n",
      " [ 23  16  29 142  10  10]\n",
      " [ 20   9  16  26  72  11]\n",
      " [  9  15  12   4  13  24]]\n",
      "Epoch 9/32, Validation Loss: 0.9433, Validation Accuracy: 0.6276\n",
      "Best model saved! 20241014-1955\n"
     ]
    },
    {
     "name": "stderr",
     "output_type": "stream",
     "text": [
      "Epoch 10/32: 100%|██████████| 219/219 [00:50<00:00,  4.30batch/s, accuracy=0.613, loss=0.988]  \n"
     ]
    },
    {
     "name": "stdout",
     "output_type": "stream",
     "text": [
      "[0.00015]\n",
      "              precision    recall  f1-score   support\n",
      "\n",
      "           0       0.72      0.69      0.71       384\n",
      "           1       0.70      0.68      0.69       384\n",
      "           2       0.62      0.70      0.66       307\n",
      "           3       0.55      0.60      0.57       230\n",
      "           4       0.48      0.44      0.46       154\n",
      "           5       0.33      0.25      0.28        77\n",
      "\n",
      "    accuracy                           0.63      1536\n",
      "   macro avg       0.57      0.56      0.56      1536\n",
      "weighted avg       0.63      0.63      0.63      1536\n",
      "\n",
      "[[266  40  41  23   9   5]\n",
      " [ 40 262  41  20  14   7]\n",
      " [ 17  27 215  31  14   3]\n",
      " [ 20  14  27 137  21  11]\n",
      " [ 18  11  12  33  67  13]\n",
      " [  6  18  12   7  15  19]]\n",
      "Epoch 10/32, Validation Loss: 0.9723, Validation Accuracy: 0.6289\n",
      "Best model saved! 20241014-1956\n"
     ]
    },
    {
     "name": "stderr",
     "output_type": "stream",
     "text": [
      "Epoch 11/32: 100%|██████████| 219/219 [00:51<00:00,  4.26batch/s, accuracy=0.646, loss=0.908] \n"
     ]
    },
    {
     "name": "stdout",
     "output_type": "stream",
     "text": [
      "[0.00015]\n",
      "              precision    recall  f1-score   support\n",
      "\n",
      "           0       0.78      0.65      0.71       384\n",
      "           1       0.72      0.71      0.72       384\n",
      "           2       0.65      0.68      0.66       307\n",
      "           3       0.58      0.65      0.61       230\n",
      "           4       0.48      0.56      0.52       154\n",
      "           5       0.36      0.36      0.36        77\n",
      "\n",
      "    accuracy                           0.65      1536\n",
      "   macro avg       0.60      0.60      0.60      1536\n",
      "weighted avg       0.66      0.65      0.65      1536\n",
      "\n",
      "[[249  40  35  29  20  11]\n",
      " [ 23 274  34  28  17   8]\n",
      " [ 21  29 208  26  20   3]\n",
      " [ 15   9  19 149  26  12]\n",
      " [  8  12  14  18  87  15]\n",
      " [  5  15  12   5  12  28]]\n",
      "Epoch 11/32, Validation Loss: 0.8783, Validation Accuracy: 0.6478\n",
      "Best model saved! 20241014-1957\n"
     ]
    },
    {
     "name": "stderr",
     "output_type": "stream",
     "text": [
      "Epoch 12/32: 100%|██████████| 219/219 [00:50<00:00,  4.33batch/s, accuracy=0.667, loss=0.857]  \n"
     ]
    },
    {
     "name": "stdout",
     "output_type": "stream",
     "text": [
      "[0.00015]\n",
      "              precision    recall  f1-score   support\n",
      "\n",
      "           0       0.78      0.64      0.70       384\n",
      "           1       0.74      0.69      0.71       384\n",
      "           2       0.63      0.69      0.66       307\n",
      "           3       0.59      0.60      0.60       230\n",
      "           4       0.47      0.61      0.53       154\n",
      "           5       0.34      0.39      0.36        77\n",
      "\n",
      "    accuracy                           0.64      1536\n",
      "   macro avg       0.59      0.60      0.59      1536\n",
      "weighted avg       0.66      0.64      0.65      1536\n",
      "\n",
      "[[246  39  38  31  17  13]\n",
      " [ 20 266  36  25  25  12]\n",
      " [ 16  28 211  21  21  10]\n",
      " [ 13  10  27 139  27  14]\n",
      " [ 11   8  13  18  94  10]\n",
      " [  8  10  12   1  16  30]]\n",
      "Epoch 12/32, Validation Loss: 0.8851, Validation Accuracy: 0.6419\n"
     ]
    },
    {
     "name": "stderr",
     "output_type": "stream",
     "text": [
      "Epoch 13/32: 100%|██████████| 219/219 [00:50<00:00,  4.31batch/s, accuracy=0.672, loss=0.836]  \n"
     ]
    },
    {
     "name": "stdout",
     "output_type": "stream",
     "text": [
      "[0.00015]\n",
      "              precision    recall  f1-score   support\n",
      "\n",
      "           0       0.78      0.66      0.71       384\n",
      "           1       0.76      0.72      0.74       384\n",
      "           2       0.65      0.69      0.67       307\n",
      "           3       0.57      0.64      0.60       230\n",
      "           4       0.48      0.53      0.51       154\n",
      "           5       0.35      0.42      0.38        77\n",
      "\n",
      "    accuracy                           0.65      1536\n",
      "   macro avg       0.60      0.61      0.60      1536\n",
      "weighted avg       0.66      0.65      0.66      1536\n",
      "\n",
      "[[253  36  33  35  14  13]\n",
      " [ 27 275  31  26  16   9]\n",
      " [ 13  26 213  25  19  11]\n",
      " [ 14   3  25 147  27  14]\n",
      " [ 14  10  16  19  82  13]\n",
      " [  5  11  12   5  12  32]]\n",
      "Epoch 13/32, Validation Loss: 0.8593, Validation Accuracy: 0.6523\n",
      "Best model saved! 20241014-1959\n"
     ]
    },
    {
     "name": "stderr",
     "output_type": "stream",
     "text": [
      "Epoch 14/32: 100%|██████████| 219/219 [00:50<00:00,  4.32batch/s, accuracy=0.69, loss=0.813]   \n"
     ]
    },
    {
     "name": "stdout",
     "output_type": "stream",
     "text": [
      "[0.00015]\n",
      "              precision    recall  f1-score   support\n",
      "\n",
      "           0       0.80      0.63      0.71       384\n",
      "           1       0.75      0.70      0.72       384\n",
      "           2       0.66      0.70      0.68       307\n",
      "           3       0.59      0.64      0.61       230\n",
      "           4       0.48      0.60      0.53       154\n",
      "           5       0.26      0.34      0.29        77\n",
      "\n",
      "    accuracy                           0.65      1536\n",
      "   macro avg       0.59      0.60      0.59      1536\n",
      "weighted avg       0.67      0.65      0.65      1536\n",
      "\n",
      "[[243  44  33  33  16  15]\n",
      " [ 23 269  31  32  17  12]\n",
      " [ 10  19 214  25  24  15]\n",
      " [ 10   9  24 148  26  13]\n",
      " [ 12  10  10   9  93  20]\n",
      " [  6   8  13   5  19  26]]\n",
      "Epoch 14/32, Validation Loss: 0.8876, Validation Accuracy: 0.6465\n"
     ]
    },
    {
     "name": "stderr",
     "output_type": "stream",
     "text": [
      "Epoch 15/32: 100%|██████████| 219/219 [00:50<00:00,  4.29batch/s, accuracy=0.688, loss=0.818]  \n"
     ]
    },
    {
     "name": "stdout",
     "output_type": "stream",
     "text": [
      "[0.00015]\n",
      "              precision    recall  f1-score   support\n",
      "\n",
      "           0       0.80      0.66      0.72       384\n",
      "           1       0.78      0.68      0.73       384\n",
      "           2       0.69      0.69      0.69       307\n",
      "           3       0.60      0.70      0.65       230\n",
      "           4       0.51      0.67      0.58       154\n",
      "           5       0.29      0.39      0.33        77\n",
      "\n",
      "    accuracy                           0.66      1536\n",
      "   macro avg       0.61      0.63      0.62      1536\n",
      "weighted avg       0.69      0.66      0.67      1536\n",
      "\n",
      "[[252  39  24  35  16  18]\n",
      " [ 20 262  32  31  21  18]\n",
      " [ 16  20 212  27  22  10]\n",
      " [ 13   4  19 162  20  12]\n",
      " [  9   3  10  12 103  17]\n",
      " [  5   7  11   5  19  30]]\n",
      "Epoch 15/32, Validation Loss: 0.8698, Validation Accuracy: 0.6647\n",
      "Best model saved! 20241014-2001\n"
     ]
    },
    {
     "name": "stderr",
     "output_type": "stream",
     "text": [
      "Epoch 16/32: 100%|██████████| 219/219 [00:51<00:00,  4.27batch/s, accuracy=0.688, loss=0.798]  \n"
     ]
    },
    {
     "name": "stdout",
     "output_type": "stream",
     "text": [
      "[0.00015]\n",
      "              precision    recall  f1-score   support\n",
      "\n",
      "           0       0.76      0.67      0.72       384\n",
      "           1       0.72      0.68      0.70       384\n",
      "           2       0.68      0.69      0.69       307\n",
      "           3       0.60      0.65      0.62       230\n",
      "           4       0.51      0.57      0.54       154\n",
      "           5       0.31      0.42      0.36        77\n",
      "\n",
      "    accuracy                           0.65      1536\n",
      "   macro avg       0.60      0.61      0.60      1536\n",
      "weighted avg       0.66      0.65      0.66      1536\n",
      "\n",
      "[[259  44  29  28  14  10]\n",
      " [ 34 260  29  31  18  12]\n",
      " [ 14  29 212  25  17  10]\n",
      " [ 15   7  22 149  24  13]\n",
      " [ 10   6  12  13  88  25]\n",
      " [  8  15   7   3  12  32]]\n",
      "Epoch 16/32, Validation Loss: 0.8763, Validation Accuracy: 0.6510\n"
     ]
    },
    {
     "name": "stderr",
     "output_type": "stream",
     "text": [
      "Epoch 17/32: 100%|██████████| 219/219 [00:50<00:00,  4.31batch/s, accuracy=0.697, loss=0.791]  \n"
     ]
    },
    {
     "name": "stdout",
     "output_type": "stream",
     "text": [
      "[0.00015]\n",
      "              precision    recall  f1-score   support\n",
      "\n",
      "           0       0.74      0.67      0.70       384\n",
      "           1       0.78      0.63      0.69       384\n",
      "           2       0.67      0.70      0.69       307\n",
      "           3       0.59      0.67      0.63       230\n",
      "           4       0.49      0.64      0.55       154\n",
      "           5       0.33      0.44      0.38        77\n",
      "\n",
      "    accuracy                           0.65      1536\n",
      "   macro avg       0.60      0.62      0.61      1536\n",
      "weighted avg       0.67      0.65      0.66      1536\n",
      "\n",
      "[[256  33  35  32  15  13]\n",
      " [ 38 241  33  33  22  17]\n",
      " [ 15  22 216  20  20  14]\n",
      " [ 15   4  16 154  30  11]\n",
      " [ 13   6  10  14  98  13]\n",
      " [  7   4  11   6  15  34]]\n",
      "Epoch 17/32, Validation Loss: 0.8864, Validation Accuracy: 0.6504\n"
     ]
    },
    {
     "name": "stderr",
     "output_type": "stream",
     "text": [
      "Epoch 18/32: 100%|██████████| 219/219 [00:50<00:00,  4.34batch/s, accuracy=0.701, loss=0.773]  \n"
     ]
    },
    {
     "name": "stdout",
     "output_type": "stream",
     "text": [
      "[0.00015]\n",
      "              precision    recall  f1-score   support\n",
      "\n",
      "           0       0.77      0.66      0.71       384\n",
      "           1       0.76      0.66      0.71       384\n",
      "           2       0.67      0.68      0.68       307\n",
      "           3       0.61      0.68      0.64       230\n",
      "           4       0.52      0.62      0.57       154\n",
      "           5       0.31      0.47      0.37        77\n",
      "\n",
      "    accuracy                           0.65      1536\n",
      "   macro avg       0.60      0.63      0.61      1536\n",
      "weighted avg       0.67      0.65      0.66      1536\n",
      "\n",
      "[[252  44  28  32  13  15]\n",
      " [ 26 254  32  35  19  18]\n",
      " [ 23  23 209  20  20  12]\n",
      " [  9   3  19 157  25  17]\n",
      " [ 12   5  14   8  95  20]\n",
      " [  7   7  10   7  10  36]]\n",
      "Epoch 18/32, Validation Loss: 0.8884, Validation Accuracy: 0.6530\n"
     ]
    },
    {
     "name": "stderr",
     "output_type": "stream",
     "text": [
      "Epoch 19/32: 100%|██████████| 219/219 [00:50<00:00,  4.34batch/s, accuracy=0.712, loss=0.765]  \n"
     ]
    },
    {
     "name": "stdout",
     "output_type": "stream",
     "text": [
      "[0.00015]\n",
      "              precision    recall  f1-score   support\n",
      "\n",
      "           0       0.78      0.66      0.72       384\n",
      "           1       0.75      0.68      0.72       384\n",
      "           2       0.65      0.74      0.69       307\n",
      "           3       0.63      0.65      0.64       230\n",
      "           4       0.53      0.61      0.57       154\n",
      "           5       0.42      0.53      0.47        77\n",
      "\n",
      "    accuracy                           0.67      1536\n",
      "   macro avg       0.63      0.65      0.63      1536\n",
      "weighted avg       0.68      0.67      0.67      1536\n",
      "\n",
      "[[255  45  35  27  12  10]\n",
      " [ 29 262  31  26  24  12]\n",
      " [ 18  20 227  17  18   7]\n",
      " [ 11   7  33 149  17  13]\n",
      " [  9   9  12  15  94  15]\n",
      " [  7   5  11   2  11  41]]\n",
      "Epoch 19/32, Validation Loss: 0.8855, Validation Accuracy: 0.6693\n",
      "Best model saved! 20241014-2005\n"
     ]
    },
    {
     "name": "stderr",
     "output_type": "stream",
     "text": [
      "Epoch 20/32: 100%|██████████| 219/219 [00:50<00:00,  4.36batch/s, accuracy=0.713, loss=0.752]  \n"
     ]
    },
    {
     "name": "stdout",
     "output_type": "stream",
     "text": [
      "[2.2499999999999998e-05]\n",
      "              precision    recall  f1-score   support\n",
      "\n",
      "           0       0.79      0.64      0.71       384\n",
      "           1       0.75      0.71      0.73       384\n",
      "           2       0.66      0.70      0.68       307\n",
      "           3       0.60      0.69      0.64       230\n",
      "           4       0.51      0.60      0.55       154\n",
      "           5       0.36      0.42      0.39        77\n",
      "\n",
      "    accuracy                           0.66      1536\n",
      "   macro avg       0.61      0.63      0.62      1536\n",
      "weighted avg       0.67      0.66      0.67      1536\n",
      "\n",
      "[[247  40  35  36  14  12]\n",
      " [ 27 272  31  23  23   8]\n",
      " [ 13  28 214  22  20  10]\n",
      " [  9   6  29 158  15  13]\n",
      " [ 10  11  12  15  93  13]\n",
      " [  7   7   4   8  19  32]]\n",
      "Epoch 20/32, Validation Loss: 0.9038, Validation Accuracy: 0.6615\n"
     ]
    },
    {
     "name": "stderr",
     "output_type": "stream",
     "text": [
      "Epoch 21/32: 100%|██████████| 219/219 [00:51<00:00,  4.27batch/s, accuracy=0.718, loss=0.743]  \n"
     ]
    },
    {
     "name": "stdout",
     "output_type": "stream",
     "text": [
      "[2.2499999999999998e-05]\n",
      "              precision    recall  f1-score   support\n",
      "\n",
      "           0       0.77      0.63      0.70       384\n",
      "           1       0.76      0.71      0.73       384\n",
      "           2       0.68      0.69      0.68       307\n",
      "           3       0.61      0.67      0.64       230\n",
      "           4       0.50      0.62      0.55       154\n",
      "           5       0.39      0.56      0.46        77\n",
      "\n",
      "    accuracy                           0.66      1536\n",
      "   macro avg       0.62      0.65      0.63      1536\n",
      "weighted avg       0.68      0.66      0.67      1536\n",
      "\n",
      "[[243  45  29  31  21  15]\n",
      " [ 26 272  30  27  17  12]\n",
      " [ 19  23 212  24  20   9]\n",
      " [ 15   5  22 154  22  12]\n",
      " [  7   6  15  13  95  18]\n",
      " [  4   7   5   4  14  43]]\n",
      "Epoch 21/32, Validation Loss: 0.8860, Validation Accuracy: 0.6634\n"
     ]
    },
    {
     "name": "stderr",
     "output_type": "stream",
     "text": [
      "Epoch 22/32: 100%|██████████| 219/219 [00:51<00:00,  4.28batch/s, accuracy=0.724, loss=0.716] \n"
     ]
    },
    {
     "name": "stdout",
     "output_type": "stream",
     "text": [
      "[2.2499999999999998e-05]\n",
      "              precision    recall  f1-score   support\n",
      "\n",
      "           0       0.77      0.66      0.71       384\n",
      "           1       0.75      0.70      0.72       384\n",
      "           2       0.66      0.69      0.68       307\n",
      "           3       0.63      0.62      0.62       230\n",
      "           4       0.54      0.65      0.59       154\n",
      "           5       0.33      0.51      0.40        77\n",
      "\n",
      "    accuracy                           0.66      1536\n",
      "   macro avg       0.61      0.64      0.62      1536\n",
      "weighted avg       0.68      0.66      0.67      1536\n",
      "\n",
      "[[254  46  28  25  17  14]\n",
      " [ 23 267  30  28  20  16]\n",
      " [ 21  21 213  20  20  12]\n",
      " [ 13   8  30 143  19  17]\n",
      " [  9   7  10   8 100  20]\n",
      " [  8   7  10   4   9  39]]\n",
      "Epoch 22/32, Validation Loss: 0.8872, Validation Accuracy: 0.6615\n"
     ]
    },
    {
     "name": "stderr",
     "output_type": "stream",
     "text": [
      "Epoch 23/32: 100%|██████████| 219/219 [00:50<00:00,  4.34batch/s, accuracy=0.732, loss=0.701]  \n"
     ]
    },
    {
     "name": "stdout",
     "output_type": "stream",
     "text": [
      "[2.2499999999999998e-05]\n",
      "              precision    recall  f1-score   support\n",
      "\n",
      "           0       0.79      0.67      0.72       384\n",
      "           1       0.74      0.69      0.71       384\n",
      "           2       0.65      0.68      0.67       307\n",
      "           3       0.62      0.63      0.62       230\n",
      "           4       0.51      0.60      0.56       154\n",
      "           5       0.35      0.55      0.43        77\n",
      "\n",
      "    accuracy                           0.66      1536\n",
      "   macro avg       0.61      0.64      0.62      1536\n",
      "weighted avg       0.67      0.66      0.66      1536\n",
      "\n",
      "[[257  39  29  26  15  18]\n",
      " [ 23 266  37  24  24  10]\n",
      " [ 16  26 208  23  20  14]\n",
      " [ 15  13  23 144  20  15]\n",
      " [ 11   8  10  12  93  20]\n",
      " [  4   9  11   2   9  42]]\n",
      "Epoch 23/32, Validation Loss: 0.8972, Validation Accuracy: 0.6576\n"
     ]
    },
    {
     "name": "stderr",
     "output_type": "stream",
     "text": [
      "Epoch 24/32: 100%|██████████| 219/219 [00:50<00:00,  4.32batch/s, accuracy=0.732, loss=0.71]   \n"
     ]
    },
    {
     "name": "stdout",
     "output_type": "stream",
     "text": [
      "[2.2499999999999998e-05]\n",
      "              precision    recall  f1-score   support\n",
      "\n",
      "           0       0.78      0.66      0.71       384\n",
      "           1       0.78      0.67      0.72       384\n",
      "           2       0.67      0.71      0.69       307\n",
      "           3       0.59      0.69      0.64       230\n",
      "           4       0.53      0.62      0.57       154\n",
      "           5       0.37      0.52      0.43        77\n",
      "\n",
      "    accuracy                           0.66      1536\n",
      "   macro avg       0.62      0.64      0.63      1536\n",
      "weighted avg       0.68      0.66      0.67      1536\n",
      "\n",
      "[[252  38  35  29  14  16]\n",
      " [ 32 257  31  32  18  14]\n",
      " [ 18  17 218  29  15  10]\n",
      " [ 11   5  21 159  25   9]\n",
      " [  7   7   8  17  95  20]\n",
      " [  5   7  10   2  13  40]]\n",
      "Epoch 24/32, Validation Loss: 0.8763, Validation Accuracy: 0.6647\n"
     ]
    },
    {
     "name": "stderr",
     "output_type": "stream",
     "text": [
      "Epoch 25/32: 100%|██████████| 219/219 [00:50<00:00,  4.33batch/s, accuracy=0.725, loss=0.718]  \n"
     ]
    },
    {
     "name": "stdout",
     "output_type": "stream",
     "text": [
      "[2.2499999999999998e-05]\n",
      "              precision    recall  f1-score   support\n",
      "\n",
      "           0       0.81      0.68      0.74       384\n",
      "           1       0.78      0.70      0.74       384\n",
      "           2       0.70      0.68      0.69       307\n",
      "           3       0.59      0.66      0.62       230\n",
      "           4       0.48      0.64      0.55       154\n",
      "           5       0.31      0.45      0.37        77\n",
      "\n",
      "    accuracy                           0.67      1536\n",
      "   macro avg       0.61      0.64      0.62      1536\n",
      "weighted avg       0.69      0.67      0.68      1536\n",
      "\n",
      "[[262  37  27  30  14  14]\n",
      " [ 20 269  27  32  28   8]\n",
      " [ 14  23 209  26  19  16]\n",
      " [ 14   3  19 151  27  16]\n",
      " [  6   4  10  12  99  23]\n",
      " [  6   7   5   6  18  35]]\n",
      "Epoch 25/32, Validation Loss: 0.8816, Validation Accuracy: 0.6673\n"
     ]
    },
    {
     "name": "stderr",
     "output_type": "stream",
     "text": [
      "Epoch 26/32: 100%|██████████| 219/219 [00:51<00:00,  4.27batch/s, accuracy=0.727, loss=0.71]   \n"
     ]
    },
    {
     "name": "stdout",
     "output_type": "stream",
     "text": [
      "[2.2499999999999998e-05]\n",
      "              precision    recall  f1-score   support\n",
      "\n",
      "           0       0.78      0.67      0.72       384\n",
      "           1       0.75      0.65      0.70       384\n",
      "           2       0.67      0.70      0.68       307\n",
      "           3       0.61      0.64      0.62       230\n",
      "           4       0.52      0.66      0.58       154\n",
      "           5       0.34      0.53      0.42        77\n",
      "\n",
      "    accuracy                           0.66      1536\n",
      "   macro avg       0.61      0.64      0.62      1536\n",
      "weighted avg       0.68      0.66      0.66      1536\n",
      "\n",
      "[[257  37  30  29  14  17]\n",
      " [ 31 250  31  34  23  15]\n",
      " [ 14  24 214  21  20  14]\n",
      " [ 14   5  21 147  27  16]\n",
      " [  8   7  14   7 101  17]\n",
      " [  5   9   9   4   9  41]]\n",
      "Epoch 26/32, Validation Loss: 0.8856, Validation Accuracy: 0.6576\n"
     ]
    },
    {
     "name": "stderr",
     "output_type": "stream",
     "text": [
      "Epoch 27/32: 100%|██████████| 219/219 [00:51<00:00,  4.28batch/s, accuracy=0.733, loss=0.704]  \n"
     ]
    },
    {
     "name": "stdout",
     "output_type": "stream",
     "text": [
      "[2.2499999999999998e-05]\n",
      "              precision    recall  f1-score   support\n",
      "\n",
      "           0       0.78      0.69      0.73       384\n",
      "           1       0.79      0.68      0.73       384\n",
      "           2       0.67      0.72      0.70       307\n",
      "           3       0.64      0.68      0.66       230\n",
      "           4       0.52      0.62      0.57       154\n",
      "           5       0.34      0.49      0.40        77\n",
      "\n",
      "    accuracy                           0.68      1536\n",
      "   macro avg       0.62      0.65      0.63      1536\n",
      "weighted avg       0.69      0.68      0.68      1536\n",
      "\n",
      "[[266  33  30  26  17  12]\n",
      " [ 30 262  31  25  23  13]\n",
      " [ 16  19 220  24  16  12]\n",
      " [ 11   5  23 156  19  16]\n",
      " [ 12   6   9  11  95  21]\n",
      " [  5   8  13   2  11  38]]\n",
      "Epoch 27/32, Validation Loss: 0.8690, Validation Accuracy: 0.6751\n",
      "Best model saved! 20241014-2013\n"
     ]
    },
    {
     "name": "stderr",
     "output_type": "stream",
     "text": [
      "Epoch 28/32: 100%|██████████| 219/219 [00:50<00:00,  4.37batch/s, accuracy=0.732, loss=0.706]  \n"
     ]
    },
    {
     "name": "stdout",
     "output_type": "stream",
     "text": [
      "[2.2499999999999998e-05]\n",
      "              precision    recall  f1-score   support\n",
      "\n",
      "           0       0.78      0.67      0.72       384\n",
      "           1       0.78      0.65      0.71       384\n",
      "           2       0.64      0.70      0.67       307\n",
      "           3       0.60      0.65      0.63       230\n",
      "           4       0.49      0.61      0.55       154\n",
      "           5       0.31      0.45      0.37        77\n",
      "\n",
      "    accuracy                           0.65      1536\n",
      "   macro avg       0.60      0.62      0.61      1536\n",
      "weighted avg       0.67      0.65      0.66      1536\n",
      "\n",
      "[[256  32  34  30  17  15]\n",
      " [ 32 249  38  31  20  14]\n",
      " [ 16  20 214  24  18  15]\n",
      " [  9   5  27 150  25  14]\n",
      " [ 11   5  13  12  94  19]\n",
      " [  5  10   9   2  16  35]]\n",
      "Epoch 28/32, Validation Loss: 0.8820, Validation Accuracy: 0.6497\n"
     ]
    },
    {
     "name": "stderr",
     "output_type": "stream",
     "text": [
      "Epoch 29/32: 100%|██████████| 219/219 [00:50<00:00,  4.35batch/s, accuracy=0.733, loss=0.707]  \n"
     ]
    },
    {
     "name": "stdout",
     "output_type": "stream",
     "text": [
      "[2.2499999999999998e-05]\n",
      "              precision    recall  f1-score   support\n",
      "\n",
      "           0       0.78      0.70      0.74       384\n",
      "           1       0.78      0.71      0.75       384\n",
      "           2       0.70      0.70      0.70       307\n",
      "           3       0.63      0.67      0.65       230\n",
      "           4       0.53      0.63      0.58       154\n",
      "           5       0.33      0.48      0.39        77\n",
      "\n",
      "    accuracy                           0.68      1536\n",
      "   macro avg       0.63      0.65      0.63      1536\n",
      "weighted avg       0.70      0.68      0.69      1536\n",
      "\n",
      "[[268  34  23  29  15  15]\n",
      " [ 27 274  23  26  23  11]\n",
      " [ 19  23 216  18  16  15]\n",
      " [ 10   6  24 153  21  16]\n",
      " [ 12   5  10  12  97  18]\n",
      " [  7   8  11   4  10  37]]\n",
      "Epoch 29/32, Validation Loss: 0.8621, Validation Accuracy: 0.6803\n",
      "Best model saved! 20241014-2015\n"
     ]
    },
    {
     "name": "stderr",
     "output_type": "stream",
     "text": [
      "Epoch 30/32: 100%|██████████| 219/219 [00:50<00:00,  4.30batch/s, accuracy=0.735, loss=0.697]  \n"
     ]
    },
    {
     "name": "stdout",
     "output_type": "stream",
     "text": [
      "[3.3749999999999995e-06]\n",
      "              precision    recall  f1-score   support\n",
      "\n",
      "           0       0.76      0.65      0.70       384\n",
      "           1       0.77      0.67      0.72       384\n",
      "           2       0.65      0.66      0.65       307\n",
      "           3       0.57      0.67      0.61       230\n",
      "           4       0.51      0.63      0.56       154\n",
      "           5       0.35      0.45      0.40        77\n",
      "\n",
      "    accuracy                           0.65      1536\n",
      "   macro avg       0.60      0.62      0.61      1536\n",
      "weighted avg       0.67      0.65      0.65      1536\n",
      "\n",
      "[[250  36  34  34  17  13]\n",
      " [ 27 258  30  37  21  11]\n",
      " [ 22  27 202  23  19  14]\n",
      " [ 11   7  22 153  27  10]\n",
      " [ 10   3  10  18  97  16]\n",
      " [  9   5  13   4  11  35]]\n",
      "Epoch 30/32, Validation Loss: 0.8871, Validation Accuracy: 0.6478\n"
     ]
    },
    {
     "name": "stderr",
     "output_type": "stream",
     "text": [
      "Epoch 31/32: 100%|██████████| 219/219 [00:51<00:00,  4.28batch/s, accuracy=0.732, loss=0.703]  \n"
     ]
    },
    {
     "name": "stdout",
     "output_type": "stream",
     "text": [
      "[3.3749999999999995e-06]\n",
      "              precision    recall  f1-score   support\n",
      "\n",
      "           0       0.75      0.67      0.71       384\n",
      "           1       0.77      0.67      0.72       384\n",
      "           2       0.68      0.66      0.67       307\n",
      "           3       0.61      0.63      0.62       230\n",
      "           4       0.51      0.65      0.57       154\n",
      "           5       0.31      0.49      0.38        77\n",
      "\n",
      "    accuracy                           0.65      1536\n",
      "   macro avg       0.60      0.63      0.61      1536\n",
      "weighted avg       0.67      0.65      0.66      1536\n",
      "\n",
      "[[258  42  31  25  11  17]\n",
      " [ 28 258  29  31  22  16]\n",
      " [ 18  23 204  25  21  16]\n",
      " [ 19   1  23 145  27  15]\n",
      " [  8   6   9   9 100  22]\n",
      " [ 11   6   6   2  14  38]]\n",
      "Epoch 31/32, Validation Loss: 0.8837, Validation Accuracy: 0.6530\n"
     ]
    },
    {
     "name": "stderr",
     "output_type": "stream",
     "text": [
      "Epoch 32/32: 100%|██████████| 219/219 [00:50<00:00,  4.30batch/s, accuracy=0.737, loss=0.693]  \n"
     ]
    },
    {
     "name": "stdout",
     "output_type": "stream",
     "text": [
      "[3.3749999999999995e-06]\n",
      "              precision    recall  f1-score   support\n",
      "\n",
      "           0       0.75      0.66      0.70       384\n",
      "           1       0.78      0.68      0.73       384\n",
      "           2       0.65      0.71      0.68       307\n",
      "           3       0.59      0.63      0.61       230\n",
      "           4       0.53      0.62      0.57       154\n",
      "           5       0.30      0.42      0.35        77\n",
      "\n",
      "    accuracy                           0.65      1536\n",
      "   macro avg       0.60      0.62      0.61      1536\n",
      "weighted avg       0.67      0.65      0.66      1536\n",
      "\n",
      "[[252  35  34  32  14  17]\n",
      " [ 26 262  35  24  25  12]\n",
      " [ 17  17 218  28  16  11]\n",
      " [ 18   8  27 146  17  14]\n",
      " [ 10   7  10  11  95  21]\n",
      " [ 11   6  11   5  12  32]]\n",
      "Epoch 32/32, Validation Loss: 0.8889, Validation Accuracy: 0.6543\n",
      "Finished Training\n",
      "Best validation accuracy: 0.6803\n"
     ]
    }
   ],
   "source": [
    "# \n",
    "if __name__ == \"__main__\":\n",
    "    trainer = ContinueTrainer(\n",
    "        model_path = './runs/20241014-oversam_instab1-epoch16/best_model.pth',\n",
    "        model = TunnedBlockStackNet8(),\n",
    "        csv_path = csv_path, \n",
    "        img_dir= img_dir, \n",
    "        test_size=0.2, \n",
    "        num_epochs=32,\n",
    "        batch_size=32\n",
    "        )\n",
    "    trainer.train()"
   ]
  },
  {
   "cell_type": "code",
   "execution_count": 35,
   "metadata": {},
   "outputs": [
    {
     "name": "stdout",
     "output_type": "stream",
     "text": [
      "              precision    recall  f1-score   support\n",
      "\n",
      "           0       0.75      0.67      0.71       384\n",
      "           1       0.77      0.69      0.73       384\n",
      "           2       0.68      0.68      0.68       307\n",
      "           3       0.58      0.64      0.61       230\n",
      "           4       0.50      0.58      0.53       154\n",
      "           5       0.30      0.40      0.34        77\n",
      "\n",
      "    accuracy                           0.65      1536\n",
      "   macro avg       0.60      0.61      0.60      1536\n",
      "weighted avg       0.67      0.65      0.66      1536\n",
      "\n",
      "[[257  33  28  39  14  13]\n",
      " [ 34 266  23  29  21  11]\n",
      " [ 18  26 210  21  20  12]\n",
      " [ 17   4  26 148  21  14]\n",
      " [  9   7  11  16  89  22]\n",
      " [  6  11  11   4  14  31]]\n"
     ]
    },
    {
     "name": "stderr",
     "output_type": "stream",
     "text": [
      "/tmp/ipykernel_1235/2315130222.py:3: SettingWithCopyWarning: \n",
      "A value is trying to be set on a copy of a slice from a DataFrame.\n",
      "Try using .loc[row_indexer,col_indexer] = value instead\n",
      "\n",
      "See the caveats in the documentation: https://pandas.pydata.org/pandas-docs/stable/user_guide/indexing.html#returning-a-view-versus-a-copy\n",
      "  valid1_df['pred_label'] = [pred + 1 for pred in all_predictions]\n",
      "/tmp/ipykernel_1235/2315130222.py:4: SettingWithCopyWarning: \n",
      "A value is trying to be set on a copy of a slice from a DataFrame.\n",
      "Try using .loc[row_indexer,col_indexer] = value instead\n",
      "\n",
      "See the caveats in the documentation: https://pandas.pydata.org/pandas-docs/stable/user_guide/indexing.html#returning-a-view-versus-a-copy\n",
      "  valid1_df['pred_type'] = valid1_df['pred_label'] == valid1_df['stable_height']\n"
     ]
    }
   ],
   "source": [
    "valid1_df = trainer.val_data\n",
    "_,_, all_labels, all_predictions = trainer.validate()\n",
    "valid1_df['pred_label'] = [pred + 1 for pred in all_predictions]\n",
    "valid1_df['pred_type'] = valid1_df['pred_label'] == valid1_df['stable_height']"
   ]
  },
  {
   "cell_type": "code",
   "execution_count": 37,
   "metadata": {},
   "outputs": [
    {
     "data": {
      "text/plain": [
       "instability_type  type\n",
       "0                 1       0.778443\n",
       "                  2       0.554455\n",
       "1                 1       0.648718\n",
       "                  2       0.377261\n",
       "2                 1       0.941748\n",
       "                  2       0.902174\n",
       "Name: pred_type, dtype: float64"
      ]
     },
     "execution_count": 37,
     "metadata": {},
     "output_type": "execute_result"
    }
   ],
   "source": [
    "valid1_df.groupby(['instability_type', 'type']).pred_type.sum()/valid1_df.groupby(['instability_type', 'type']).pred_type.count()"
   ]
  },
  {
   "cell_type": "markdown",
   "metadata": {},
   "source": [
    "# Add hard example \n",
    "* Instability type 0 1 2 random sampling with ratio (500, 200, 50)\n",
    "* Acc: 0.67"
   ]
  },
  {
   "cell_type": "code",
   "execution_count": 22,
   "metadata": {
    "scrolled": true
   },
   "outputs": [
    {
     "name": "stdout",
     "output_type": "stream",
     "text": [
      "Train dataset size: 6144 Validation dataset size: 1536 length of train_ids1 length of valid_ids1\n"
     ]
    },
    {
     "name": "stderr",
     "output_type": "stream",
     "text": [
      "Epoch 1/32:   0%|          | 0/216 [00:00<?, ?batch/s]/root/miniconda3/lib/python3.12/site-packages/torch/nn/modules/conv.py:456: UserWarning: Plan failed with a cudnnException: CUDNN_BACKEND_EXECUTION_PLAN_DESCRIPTOR: cudnnFinalize Descriptor Failed cudnn_status: CUDNN_STATUS_NOT_SUPPORTED (Triggered internally at ../aten/src/ATen/native/cudnn/Conv_v8.cpp:919.)\n",
      "  return F.conv2d(input, weight, bias, self.stride,\n",
      "Epoch 1/32: 100%|██████████| 216/216 [00:53<00:00,  4.07batch/s, accuracy=0.571, loss=1.08]  \n"
     ]
    },
    {
     "name": "stdout",
     "output_type": "stream",
     "text": [
      "[0.001]\n",
      "              precision    recall  f1-score   support\n",
      "\n",
      "           0       0.71      0.56      0.63       384\n",
      "           1       0.78      0.57      0.66       384\n",
      "           2       0.62      0.65      0.63       307\n",
      "           3       0.52      0.59      0.55       230\n",
      "           4       0.37      0.44      0.40       154\n",
      "           5       0.27      0.64      0.38        77\n",
      "\n",
      "    accuracy                           0.58      1536\n",
      "   macro avg       0.54      0.57      0.54      1536\n",
      "weighted avg       0.62      0.58      0.59      1536\n",
      "\n",
      "[[216  32  51  36  24  25]\n",
      " [ 46 220  36  30  19  33]\n",
      " [ 13  19 200  27  24  24]\n",
      " [ 15   4  28 135  28  20]\n",
      " [ 14   4   7  30  67  32]\n",
      " [  1   3   2   2  20  49]]\n",
      "Epoch 1/32, Validation Loss: 1.0249, Validation Accuracy: 0.5775\n",
      "Best model saved! 20241014-1904\n"
     ]
    },
    {
     "name": "stderr",
     "output_type": "stream",
     "text": [
      "Epoch 2/32: 100%|██████████| 216/216 [00:50<00:00,  4.28batch/s, accuracy=0.565, loss=1.07]  \n"
     ]
    },
    {
     "name": "stdout",
     "output_type": "stream",
     "text": [
      "[0.001]\n",
      "              precision    recall  f1-score   support\n",
      "\n",
      "           0       0.70      0.65      0.67       384\n",
      "           1       0.68      0.68      0.68       384\n",
      "           2       0.67      0.64      0.65       307\n",
      "           3       0.57      0.59      0.58       230\n",
      "           4       0.42      0.57      0.48       154\n",
      "           5       0.24      0.17      0.20        77\n",
      "\n",
      "    accuracy                           0.61      1536\n",
      "   macro avg       0.54      0.55      0.54      1536\n",
      "weighted avg       0.62      0.61      0.61      1536\n",
      "\n",
      "[[248  49  38  24  22   3]\n",
      " [ 38 260  31  33  15   7]\n",
      " [ 14  32 197  27  27  10]\n",
      " [ 24  17  16 135  29   9]\n",
      " [ 15  14   7  17  88  13]\n",
      " [ 14  13   6   1  30  13]]\n",
      "Epoch 2/32, Validation Loss: 1.0111, Validation Accuracy: 0.6126\n",
      "Best model saved! 20241014-1905\n"
     ]
    },
    {
     "name": "stderr",
     "output_type": "stream",
     "text": [
      "Epoch 3/32: 100%|██████████| 216/216 [00:50<00:00,  4.26batch/s, accuracy=0.58, loss=1.05]   \n"
     ]
    },
    {
     "name": "stdout",
     "output_type": "stream",
     "text": [
      "[0.001]\n",
      "              precision    recall  f1-score   support\n",
      "\n",
      "           0       0.76      0.57      0.65       384\n",
      "           1       0.72      0.62      0.66       384\n",
      "           2       0.63      0.65      0.64       307\n",
      "           3       0.49      0.60      0.54       230\n",
      "           4       0.38      0.60      0.46       154\n",
      "           5       0.27      0.27      0.27        77\n",
      "\n",
      "    accuracy                           0.59      1536\n",
      "   macro avg       0.54      0.55      0.54      1536\n",
      "weighted avg       0.62      0.59      0.60      1536\n",
      "\n",
      "[[219  42  40  39  32  12]\n",
      " [ 36 237  40  29  26  16]\n",
      " [ 10  22 199  38  23  15]\n",
      " [ 11  16  16 138  43   6]\n",
      " [  8   9   7  30  92   8]\n",
      " [  4   3  12   8  29  21]]\n",
      "Epoch 3/32, Validation Loss: 1.0004, Validation Accuracy: 0.5898\n"
     ]
    },
    {
     "name": "stderr",
     "output_type": "stream",
     "text": [
      "Epoch 4/32: 100%|██████████| 216/216 [00:50<00:00,  4.29batch/s, accuracy=0.58, loss=1.04]    \n"
     ]
    },
    {
     "name": "stdout",
     "output_type": "stream",
     "text": [
      "[0.001]\n",
      "              precision    recall  f1-score   support\n",
      "\n",
      "           0       0.78      0.58      0.67       384\n",
      "           1       0.73      0.59      0.65       384\n",
      "           2       0.63      0.66      0.65       307\n",
      "           3       0.49      0.58      0.53       230\n",
      "           4       0.42      0.57      0.48       154\n",
      "           5       0.29      0.51      0.37        77\n",
      "\n",
      "    accuracy                           0.59      1536\n",
      "   macro avg       0.56      0.58      0.56      1536\n",
      "weighted avg       0.63      0.59      0.60      1536\n",
      "\n",
      "[[223  52  40  28  21  20]\n",
      " [ 13 225  46  51  22  27]\n",
      " [ 18  14 203  33  18  21]\n",
      " [ 16   5  22 134  40  13]\n",
      " [ 13   5   7  26  88  15]\n",
      " [  3   6   4   3  22  39]]\n",
      "Epoch 4/32, Validation Loss: 1.0021, Validation Accuracy: 0.5938\n"
     ]
    },
    {
     "name": "stderr",
     "output_type": "stream",
     "text": [
      "Epoch 5/32: 100%|██████████| 216/216 [00:50<00:00,  4.31batch/s, accuracy=0.6, loss=1.03]     \n"
     ]
    },
    {
     "name": "stdout",
     "output_type": "stream",
     "text": [
      "[0.001]\n",
      "              precision    recall  f1-score   support\n",
      "\n",
      "           0       0.69      0.59      0.64       384\n",
      "           1       0.71      0.69      0.70       384\n",
      "           2       0.60      0.66      0.63       307\n",
      "           3       0.57      0.57      0.57       230\n",
      "           4       0.47      0.47      0.47       154\n",
      "           5       0.32      0.45      0.37        77\n",
      "\n",
      "    accuracy                           0.61      1536\n",
      "   macro avg       0.56      0.57      0.56      1536\n",
      "weighted avg       0.62      0.61      0.61      1536\n",
      "\n",
      "[[228  52  45  32  14  13]\n",
      " [ 38 265  32  19  14  16]\n",
      " [ 16  26 203  36  12  14]\n",
      " [ 19  10  31 130  31   9]\n",
      " [ 19  16  12  11  73  23]\n",
      " [ 10   6  14   0  12  35]]\n",
      "Epoch 5/32, Validation Loss: 0.9776, Validation Accuracy: 0.6081\n"
     ]
    },
    {
     "name": "stderr",
     "output_type": "stream",
     "text": [
      "Epoch 6/32: 100%|██████████| 216/216 [00:50<00:00,  4.31batch/s, accuracy=0.591, loss=1.04]   \n"
     ]
    },
    {
     "name": "stdout",
     "output_type": "stream",
     "text": [
      "[0.001]\n",
      "              precision    recall  f1-score   support\n",
      "\n",
      "           0       0.77      0.61      0.68       384\n",
      "           1       0.72      0.61      0.66       384\n",
      "           2       0.69      0.54      0.60       307\n",
      "           3       0.47      0.58      0.52       230\n",
      "           4       0.35      0.62      0.44       154\n",
      "           5       0.30      0.42      0.35        77\n",
      "\n",
      "    accuracy                           0.58      1536\n",
      "   macro avg       0.55      0.56      0.54      1536\n",
      "weighted avg       0.63      0.58      0.60      1536\n",
      "\n",
      "[[235  33  23  40  39  14]\n",
      " [ 27 234  28  42  34  19]\n",
      " [ 23  35 165  34  34  16]\n",
      " [ 12   7  18 134  46  13]\n",
      " [  4   9   2  31  95  13]\n",
      " [  4   8   3   3  27  32]]\n",
      "Epoch 6/32, Validation Loss: 1.0340, Validation Accuracy: 0.5827\n"
     ]
    },
    {
     "name": "stderr",
     "output_type": "stream",
     "text": [
      "Epoch 7/32: 100%|██████████| 216/216 [00:50<00:00,  4.27batch/s, accuracy=0.598, loss=1.01]   \n"
     ]
    },
    {
     "name": "stdout",
     "output_type": "stream",
     "text": [
      "[0.001]\n",
      "              precision    recall  f1-score   support\n",
      "\n",
      "           0       0.79      0.60      0.68       384\n",
      "           1       0.67      0.66      0.66       384\n",
      "           2       0.65      0.61      0.63       307\n",
      "           3       0.49      0.65      0.56       230\n",
      "           4       0.34      0.56      0.42       154\n",
      "           5       0.50      0.10      0.17        77\n",
      "\n",
      "    accuracy                           0.60      1536\n",
      "   macro avg       0.57      0.53      0.52      1536\n",
      "weighted avg       0.63      0.60      0.60      1536\n",
      "\n",
      "[[231  52  37  35  28   1]\n",
      " [ 27 254  32  34  35   2]\n",
      " [ 12  44 186  36  26   3]\n",
      " [ 10  13  17 149  40   1]\n",
      " [  8   9   9  40  87   1]\n",
      " [  5   8   6   9  41   8]]\n",
      "Epoch 7/32, Validation Loss: 1.0351, Validation Accuracy: 0.5957\n"
     ]
    },
    {
     "name": "stderr",
     "output_type": "stream",
     "text": [
      "Epoch 8/32: 100%|██████████| 216/216 [00:51<00:00,  4.18batch/s, accuracy=0.599, loss=1.01]   \n"
     ]
    },
    {
     "name": "stdout",
     "output_type": "stream",
     "text": [
      "[0.001]\n",
      "              precision    recall  f1-score   support\n",
      "\n",
      "           0       0.88      0.51      0.64       384\n",
      "           1       0.79      0.58      0.67       384\n",
      "           2       0.47      0.80      0.60       307\n",
      "           3       0.53      0.57      0.55       230\n",
      "           4       0.39      0.53      0.45       154\n",
      "           5       0.25      0.21      0.23        77\n",
      "\n",
      "    accuracy                           0.58      1536\n",
      "   macro avg       0.55      0.53      0.52      1536\n",
      "weighted avg       0.64      0.58      0.59      1536\n",
      "\n",
      "[[194  35  74  39  23  19]\n",
      " [ 10 224  86  26  30   8]\n",
      " [  6  14 245  16  19   7]\n",
      " [  8   4  59 130  22   7]\n",
      " [  2   3  30  30  81   8]\n",
      " [  0   4  22   3  32  16]]\n",
      "Epoch 8/32, Validation Loss: 1.0380, Validation Accuracy: 0.5794\n"
     ]
    },
    {
     "name": "stderr",
     "output_type": "stream",
     "text": [
      "Epoch 9/32: 100%|██████████| 216/216 [00:50<00:00,  4.24batch/s, accuracy=0.598, loss=1]      \n"
     ]
    },
    {
     "name": "stdout",
     "output_type": "stream",
     "text": [
      "[0.001]\n",
      "              precision    recall  f1-score   support\n",
      "\n",
      "           0       0.86      0.50      0.63       384\n",
      "           1       0.64      0.73      0.68       384\n",
      "           2       0.58      0.70      0.63       307\n",
      "           3       0.47      0.69      0.56       230\n",
      "           4       0.55      0.34      0.42       154\n",
      "           5       0.29      0.27      0.28        77\n",
      "\n",
      "    accuracy                           0.60      1536\n",
      "   macro avg       0.57      0.54      0.53      1536\n",
      "weighted avg       0.63      0.60      0.60      1536\n",
      "\n",
      "[[191  67  53  51  14   8]\n",
      " [ 12 281  37  36   9   9]\n",
      " [  5  40 216  33   3  10]\n",
      " [  5  14  40 158   7   6]\n",
      " [  5  16  16  47  52  18]\n",
      " [  4  20  13  10   9  21]]\n",
      "Epoch 9/32, Validation Loss: 1.0208, Validation Accuracy: 0.5983\n"
     ]
    },
    {
     "name": "stderr",
     "output_type": "stream",
     "text": [
      "Epoch 10/32: 100%|██████████| 216/216 [00:49<00:00,  4.32batch/s, accuracy=0.604, loss=1.01]   \n"
     ]
    },
    {
     "name": "stdout",
     "output_type": "stream",
     "text": [
      "[0.00015]\n",
      "              precision    recall  f1-score   support\n",
      "\n",
      "           0       0.73      0.54      0.62       384\n",
      "           1       0.77      0.57      0.66       384\n",
      "           2       0.55      0.67      0.60       307\n",
      "           3       0.54      0.49      0.51       230\n",
      "           4       0.33      0.62      0.43       154\n",
      "           5       0.33      0.40      0.36        77\n",
      "\n",
      "    accuracy                           0.57      1536\n",
      "   macro avg       0.54      0.55      0.53      1536\n",
      "weighted avg       0.62      0.57      0.58      1536\n",
      "\n",
      "[[206  40  58  29  39  12]\n",
      " [ 22 219  62  30  34  17]\n",
      " [ 15  12 206  27  36  11]\n",
      " [ 14   3  26 113  61  13]\n",
      " [ 14   6  18  10  96  10]\n",
      " [ 10   4   7   0  25  31]]\n",
      "Epoch 10/32, Validation Loss: 1.0439, Validation Accuracy: 0.5671\n"
     ]
    },
    {
     "name": "stderr",
     "output_type": "stream",
     "text": [
      "Epoch 11/32: 100%|██████████| 216/216 [00:50<00:00,  4.24batch/s, accuracy=0.642, loss=0.911]  \n"
     ]
    },
    {
     "name": "stdout",
     "output_type": "stream",
     "text": [
      "[0.00015]\n",
      "              precision    recall  f1-score   support\n",
      "\n",
      "           0       0.73      0.65      0.69       384\n",
      "           1       0.75      0.69      0.72       384\n",
      "           2       0.61      0.68      0.65       307\n",
      "           3       0.59      0.59      0.59       230\n",
      "           4       0.45      0.49      0.47       154\n",
      "           5       0.30      0.40      0.35        77\n",
      "\n",
      "    accuracy                           0.63      1536\n",
      "   macro avg       0.57      0.58      0.58      1536\n",
      "weighted avg       0.64      0.63      0.63      1536\n",
      "\n",
      "[[251  41  40  26  13  13]\n",
      " [ 32 264  34  25  11  18]\n",
      " [ 20  26 210  22  21   8]\n",
      " [ 19   5  35 135  23  13]\n",
      " [ 15   9  16  20  75  19]\n",
      " [  6   6   8   2  24  31]]\n",
      "Epoch 11/32, Validation Loss: 0.9177, Validation Accuracy: 0.6289\n",
      "Best model saved! 20241014-1914\n"
     ]
    },
    {
     "name": "stderr",
     "output_type": "stream",
     "text": [
      "Epoch 12/32: 100%|██████████| 216/216 [00:50<00:00,  4.32batch/s, accuracy=0.665, loss=0.858]  \n"
     ]
    },
    {
     "name": "stdout",
     "output_type": "stream",
     "text": [
      "[0.00015]\n",
      "              precision    recall  f1-score   support\n",
      "\n",
      "           0       0.73      0.65      0.69       384\n",
      "           1       0.72      0.72      0.72       384\n",
      "           2       0.66      0.68      0.67       307\n",
      "           3       0.66      0.57      0.61       230\n",
      "           4       0.45      0.59      0.51       154\n",
      "           5       0.31      0.39      0.34        77\n",
      "\n",
      "    accuracy                           0.64      1536\n",
      "   macro avg       0.59      0.60      0.59      1536\n",
      "weighted avg       0.65      0.64      0.65      1536\n",
      "\n",
      "[[251  50  31  18  22  12]\n",
      " [ 32 275  32  16  16  13]\n",
      " [ 17  25 208  20  25  12]\n",
      " [ 23  12  23 130  30  12]\n",
      " [ 14   9  10  11  91  19]\n",
      " [  7  11   9   3  17  30]]\n",
      "Epoch 12/32, Validation Loss: 0.8867, Validation Accuracy: 0.6413\n",
      "Best model saved! 20241014-1915\n"
     ]
    },
    {
     "name": "stderr",
     "output_type": "stream",
     "text": [
      "Epoch 13/32: 100%|██████████| 216/216 [00:49<00:00,  4.40batch/s, accuracy=0.678, loss=0.825]  \n"
     ]
    },
    {
     "name": "stdout",
     "output_type": "stream",
     "text": [
      "[0.00015]\n",
      "              precision    recall  f1-score   support\n",
      "\n",
      "           0       0.75      0.67      0.71       384\n",
      "           1       0.74      0.69      0.71       384\n",
      "           2       0.65      0.68      0.66       307\n",
      "           3       0.63      0.62      0.63       230\n",
      "           4       0.48      0.56      0.52       154\n",
      "           5       0.32      0.45      0.38        77\n",
      "\n",
      "    accuracy                           0.65      1536\n",
      "   macro avg       0.59      0.61      0.60      1536\n",
      "weighted avg       0.66      0.65      0.65      1536\n",
      "\n",
      "[[256  39  34  25  18  12]\n",
      " [ 29 264  37  20  20  14]\n",
      " [ 18  28 208  23  18  12]\n",
      " [ 17   9  21 143  26  14]\n",
      " [ 13  10  10  13  86  22]\n",
      " [  9   7  12   3  11  35]]\n",
      "Epoch 13/32, Validation Loss: 0.8910, Validation Accuracy: 0.6458\n",
      "Best model saved! 20241014-1916\n"
     ]
    },
    {
     "name": "stderr",
     "output_type": "stream",
     "text": [
      "Epoch 14/32: 100%|██████████| 216/216 [00:49<00:00,  4.35batch/s, accuracy=0.687, loss=0.824]  \n"
     ]
    },
    {
     "name": "stdout",
     "output_type": "stream",
     "text": [
      "[0.00015]\n",
      "              precision    recall  f1-score   support\n",
      "\n",
      "           0       0.74      0.69      0.72       384\n",
      "           1       0.75      0.71      0.73       384\n",
      "           2       0.69      0.69      0.69       307\n",
      "           3       0.62      0.67      0.64       230\n",
      "           4       0.50      0.58      0.54       154\n",
      "           5       0.33      0.36      0.35        77\n",
      "\n",
      "    accuracy                           0.66      1536\n",
      "   macro avg       0.61      0.62      0.61      1536\n",
      "weighted avg       0.67      0.66      0.67      1536\n",
      "\n",
      "[[265  37  27  28  15  12]\n",
      " [ 30 274  31  21  17  11]\n",
      " [ 17  28 211  25  18   8]\n",
      " [ 19   7  17 153  25   9]\n",
      " [ 14  10  11  14  89  16]\n",
      " [ 11  11   9   4  14  28]]\n",
      "Epoch 14/32, Validation Loss: 0.8956, Validation Accuracy: 0.6641\n",
      "Best model saved! 20241014-1917\n"
     ]
    },
    {
     "name": "stderr",
     "output_type": "stream",
     "text": [
      "Epoch 15/32: 100%|██████████| 216/216 [00:50<00:00,  4.30batch/s, accuracy=0.691, loss=0.824]  \n"
     ]
    },
    {
     "name": "stdout",
     "output_type": "stream",
     "text": [
      "[0.00015]\n",
      "              precision    recall  f1-score   support\n",
      "\n",
      "           0       0.70      0.68      0.69       384\n",
      "           1       0.70      0.72      0.71       384\n",
      "           2       0.66      0.67      0.66       307\n",
      "           3       0.65      0.58      0.61       230\n",
      "           4       0.51      0.55      0.53       154\n",
      "           5       0.33      0.39      0.36        77\n",
      "\n",
      "    accuracy                           0.64      1536\n",
      "   macro avg       0.59      0.60      0.59      1536\n",
      "weighted avg       0.65      0.64      0.65      1536\n",
      "\n",
      "[[260  48  30  24  14   8]\n",
      " [ 36 276  28  21  13  10]\n",
      " [ 26  34 205  16  16  10]\n",
      " [ 27  10  23 134  24  12]\n",
      " [ 16  10  15   8  84  21]\n",
      " [  6  15  10   3  13  30]]\n",
      "Epoch 15/32, Validation Loss: 0.8909, Validation Accuracy: 0.6439\n"
     ]
    },
    {
     "name": "stderr",
     "output_type": "stream",
     "text": [
      "Epoch 16/32: 100%|██████████| 216/216 [00:49<00:00,  4.32batch/s, accuracy=0.695, loss=0.805]  \n"
     ]
    },
    {
     "name": "stdout",
     "output_type": "stream",
     "text": [
      "[0.00015]\n",
      "              precision    recall  f1-score   support\n",
      "\n",
      "           0       0.74      0.64      0.69       384\n",
      "           1       0.75      0.69      0.72       384\n",
      "           2       0.64      0.70      0.67       307\n",
      "           3       0.60      0.60      0.60       230\n",
      "           4       0.45      0.58      0.51       154\n",
      "           5       0.36      0.44      0.40        77\n",
      "\n",
      "    accuracy                           0.64      1536\n",
      "   macro avg       0.59      0.61      0.59      1536\n",
      "weighted avg       0.65      0.64      0.64      1536\n",
      "\n",
      "[[244  47  35  28  22   8]\n",
      " [ 31 264  33  24  21  11]\n",
      " [ 19  26 214  19  18  11]\n",
      " [ 16   6  28 137  30  13]\n",
      " [ 11   6  15  15  89  18]\n",
      " [  7   4  10   5  17  34]]\n",
      "Epoch 16/32, Validation Loss: 0.8987, Validation Accuracy: 0.6393\n"
     ]
    },
    {
     "name": "stderr",
     "output_type": "stream",
     "text": [
      "Epoch 17/32: 100%|██████████| 216/216 [00:50<00:00,  4.27batch/s, accuracy=0.694, loss=0.791]  \n"
     ]
    },
    {
     "name": "stdout",
     "output_type": "stream",
     "text": [
      "[0.00015]\n",
      "              precision    recall  f1-score   support\n",
      "\n",
      "           0       0.76      0.70      0.73       384\n",
      "           1       0.80      0.69      0.74       384\n",
      "           2       0.68      0.68      0.68       307\n",
      "           3       0.62      0.62      0.62       230\n",
      "           4       0.47      0.58      0.52       154\n",
      "           5       0.36      0.55      0.43        77\n",
      "\n",
      "    accuracy                           0.66      1536\n",
      "   macro avg       0.61      0.64      0.62      1536\n",
      "weighted avg       0.68      0.66      0.67      1536\n",
      "\n",
      "[[269  29  29  25  19  13]\n",
      " [ 28 266  32  22  18  18]\n",
      " [ 17  22 210  23  22  13]\n",
      " [ 20   8  19 142  29  12]\n",
      " [ 13   5  12  14  90  20]\n",
      " [  9   4   5   2  15  42]]\n",
      "Epoch 17/32, Validation Loss: 0.8656, Validation Accuracy: 0.6634\n"
     ]
    },
    {
     "name": "stderr",
     "output_type": "stream",
     "text": [
      "Epoch 18/32: 100%|██████████| 216/216 [00:50<00:00,  4.30batch/s, accuracy=0.698, loss=0.777]  \n"
     ]
    },
    {
     "name": "stdout",
     "output_type": "stream",
     "text": [
      "[0.00015]\n",
      "              precision    recall  f1-score   support\n",
      "\n",
      "           0       0.78      0.66      0.72       384\n",
      "           1       0.76      0.71      0.73       384\n",
      "           2       0.68      0.67      0.68       307\n",
      "           3       0.57      0.65      0.61       230\n",
      "           4       0.50      0.59      0.54       154\n",
      "           5       0.35      0.47      0.40        77\n",
      "\n",
      "    accuracy                           0.66      1536\n",
      "   macro avg       0.61      0.63      0.61      1536\n",
      "weighted avg       0.67      0.66      0.66      1536\n",
      "\n",
      "[[255  35  32  32  19  11]\n",
      " [ 30 272  25  32  10  15]\n",
      " [ 13  25 207  25  26  11]\n",
      " [ 14  11  22 150  19  14]\n",
      " [  9   8   9  20  91  17]\n",
      " [  4   8  10   2  17  36]]\n",
      "Epoch 18/32, Validation Loss: 0.8968, Validation Accuracy: 0.6582\n"
     ]
    },
    {
     "name": "stderr",
     "output_type": "stream",
     "text": [
      "Epoch 19/32: 100%|██████████| 216/216 [00:50<00:00,  4.26batch/s, accuracy=0.706, loss=0.775]  \n"
     ]
    },
    {
     "name": "stdout",
     "output_type": "stream",
     "text": [
      "[0.00015]\n",
      "              precision    recall  f1-score   support\n",
      "\n",
      "           0       0.75      0.69      0.72       384\n",
      "           1       0.77      0.65      0.70       384\n",
      "           2       0.66      0.67      0.67       307\n",
      "           3       0.59      0.59      0.59       230\n",
      "           4       0.50      0.62      0.55       154\n",
      "           5       0.30      0.49      0.38        77\n",
      "\n",
      "    accuracy                           0.65      1536\n",
      "   macro avg       0.60      0.62      0.60      1536\n",
      "weighted avg       0.67      0.65      0.65      1536\n",
      "\n",
      "[[266  33  24  29  14  18]\n",
      " [ 32 249  37  32  21  13]\n",
      " [ 15  22 207  23  19  21]\n",
      " [ 16   8  23 136  32  15]\n",
      " [ 13   5  10  11  95  20]\n",
      " [ 11   6  11   1  10  38]]\n",
      "Epoch 19/32, Validation Loss: 0.8703, Validation Accuracy: 0.6452\n"
     ]
    },
    {
     "name": "stderr",
     "output_type": "stream",
     "text": [
      "Epoch 20/32: 100%|██████████| 216/216 [00:50<00:00,  4.26batch/s, accuracy=0.71, loss=0.761]   \n"
     ]
    },
    {
     "name": "stdout",
     "output_type": "stream",
     "text": [
      "[2.2499999999999998e-05]\n",
      "              precision    recall  f1-score   support\n",
      "\n",
      "           0       0.80      0.66      0.73       384\n",
      "           1       0.77      0.69      0.73       384\n",
      "           2       0.68      0.71      0.70       307\n",
      "           3       0.66      0.64      0.65       230\n",
      "           4       0.46      0.69      0.55       154\n",
      "           5       0.27      0.35      0.31        77\n",
      "\n",
      "    accuracy                           0.66      1536\n",
      "   macro avg       0.61      0.63      0.61      1536\n",
      "weighted avg       0.69      0.66      0.67      1536\n",
      "\n",
      "[[255  36  33  23  27  10]\n",
      " [ 18 265  34  21  24  22]\n",
      " [ 13  16 218  22  24  14]\n",
      " [ 11  11  18 148  31  11]\n",
      " [ 13   6   6   7 107  15]\n",
      " [  7   9  11   2  21  27]]\n",
      "Epoch 20/32, Validation Loss: 0.8658, Validation Accuracy: 0.6641\n"
     ]
    },
    {
     "name": "stderr",
     "output_type": "stream",
     "text": [
      "Epoch 21/32: 100%|██████████| 216/216 [00:50<00:00,  4.28batch/s, accuracy=0.713, loss=0.744]  \n"
     ]
    },
    {
     "name": "stdout",
     "output_type": "stream",
     "text": [
      "[2.2499999999999998e-05]\n",
      "              precision    recall  f1-score   support\n",
      "\n",
      "           0       0.76      0.68      0.72       384\n",
      "           1       0.76      0.69      0.73       384\n",
      "           2       0.66      0.70      0.68       307\n",
      "           3       0.66      0.60      0.63       230\n",
      "           4       0.46      0.59      0.52       154\n",
      "           5       0.36      0.55      0.44        77\n",
      "\n",
      "    accuracy                           0.66      1536\n",
      "   macro avg       0.61      0.64      0.62      1536\n",
      "weighted avg       0.68      0.66      0.67      1536\n",
      "\n",
      "[[260  36  30  25  19  14]\n",
      " [ 30 266  36  19  21  12]\n",
      " [ 17  24 215  18  20  13]\n",
      " [ 15   9  24 139  29  14]\n",
      " [ 14  10  11   7  91  21]\n",
      " [  4   4   8   3  16  42]]\n",
      "Epoch 21/32, Validation Loss: 0.8658, Validation Accuracy: 0.6595\n"
     ]
    },
    {
     "name": "stderr",
     "output_type": "stream",
     "text": [
      "Epoch 22/32: 100%|██████████| 216/216 [00:50<00:00,  4.30batch/s, accuracy=0.718, loss=0.734]  \n"
     ]
    },
    {
     "name": "stdout",
     "output_type": "stream",
     "text": [
      "[2.2499999999999998e-05]\n",
      "              precision    recall  f1-score   support\n",
      "\n",
      "           0       0.75      0.70      0.72       384\n",
      "           1       0.79      0.71      0.75       384\n",
      "           2       0.64      0.67      0.66       307\n",
      "           3       0.62      0.63      0.63       230\n",
      "           4       0.52      0.63      0.57       154\n",
      "           5       0.37      0.42      0.39        77\n",
      "\n",
      "    accuracy                           0.67      1536\n",
      "   macro avg       0.62      0.63      0.62      1536\n",
      "weighted avg       0.68      0.67      0.67      1536\n",
      "\n",
      "[[269  25  36  23  19  12]\n",
      " [ 29 273  28  28  15  11]\n",
      " [ 21  31 207  21  17  10]\n",
      " [ 18   8  25 146  24   9]\n",
      " [ 11   5  14  15  97  12]\n",
      " [ 12   3  12   3  15  32]]\n",
      "Epoch 22/32, Validation Loss: 0.8837, Validation Accuracy: 0.6667\n",
      "Best model saved! 20241014-1925\n"
     ]
    },
    {
     "name": "stderr",
     "output_type": "stream",
     "text": [
      "Epoch 23/32: 100%|██████████| 216/216 [00:50<00:00,  4.27batch/s, accuracy=0.715, loss=0.738]  \n"
     ]
    },
    {
     "name": "stdout",
     "output_type": "stream",
     "text": [
      "[2.2499999999999998e-05]\n",
      "              precision    recall  f1-score   support\n",
      "\n",
      "           0       0.76      0.66      0.71       384\n",
      "           1       0.75      0.68      0.71       384\n",
      "           2       0.67      0.71      0.69       307\n",
      "           3       0.65      0.60      0.62       230\n",
      "           4       0.45      0.59      0.51       154\n",
      "           5       0.33      0.48      0.39        77\n",
      "\n",
      "    accuracy                           0.65      1536\n",
      "   macro avg       0.60      0.62      0.61      1536\n",
      "weighted avg       0.67      0.65      0.66      1536\n",
      "\n",
      "[[255  39  32  24  20  14]\n",
      " [ 33 260  31  25  23  12]\n",
      " [ 11  25 217  15  22  17]\n",
      " [ 16   9  25 139  30  11]\n",
      " [ 12   9  12   9  91  21]\n",
      " [  7   6   9   3  15  37]]\n",
      "Epoch 23/32, Validation Loss: 0.8762, Validation Accuracy: 0.6504\n"
     ]
    },
    {
     "name": "stderr",
     "output_type": "stream",
     "text": [
      "Epoch 24/32: 100%|██████████| 216/216 [00:50<00:00,  4.29batch/s, accuracy=0.724, loss=0.723]  \n"
     ]
    },
    {
     "name": "stdout",
     "output_type": "stream",
     "text": [
      "[2.2499999999999998e-05]\n",
      "              precision    recall  f1-score   support\n",
      "\n",
      "           0       0.78      0.67      0.72       384\n",
      "           1       0.75      0.72      0.74       384\n",
      "           2       0.67      0.70      0.68       307\n",
      "           3       0.65      0.67      0.66       230\n",
      "           4       0.48      0.60      0.53       154\n",
      "           5       0.35      0.42      0.38        77\n",
      "\n",
      "    accuracy                           0.67      1536\n",
      "   macro avg       0.61      0.63      0.62      1536\n",
      "weighted avg       0.68      0.67      0.67      1536\n",
      "\n",
      "[[256  41  34  22  19  12]\n",
      " [ 25 277  28  26  18  10]\n",
      " [ 15  27 215  18  20  12]\n",
      " [ 16   4  21 154  26   9]\n",
      " [ 10   7  15  14  92  16]\n",
      " [  7  12   8   3  15  32]]\n",
      "Epoch 24/32, Validation Loss: 0.8749, Validation Accuracy: 0.6680\n",
      "Best model saved! 20241014-1927\n"
     ]
    },
    {
     "name": "stderr",
     "output_type": "stream",
     "text": [
      "Epoch 25/32: 100%|██████████| 216/216 [00:49<00:00,  4.35batch/s, accuracy=0.728, loss=0.722]  \n"
     ]
    },
    {
     "name": "stdout",
     "output_type": "stream",
     "text": [
      "[2.2499999999999998e-05]\n",
      "              precision    recall  f1-score   support\n",
      "\n",
      "           0       0.76      0.68      0.72       384\n",
      "           1       0.76      0.69      0.73       384\n",
      "           2       0.72      0.70      0.71       307\n",
      "           3       0.68      0.66      0.67       230\n",
      "           4       0.49      0.62      0.55       154\n",
      "           5       0.35      0.57      0.43        77\n",
      "\n",
      "    accuracy                           0.67      1536\n",
      "   macro avg       0.63      0.65      0.63      1536\n",
      "weighted avg       0.69      0.67      0.68      1536\n",
      "\n",
      "[[262  36  27  22  21  16]\n",
      " [ 36 266  25  23  19  15]\n",
      " [ 17  28 215  14  21  12]\n",
      " [ 12   9  17 151  22  19]\n",
      " [ 12   5  11  11  95  20]\n",
      " [  7   5   4   1  16  44]]\n",
      "Epoch 25/32, Validation Loss: 0.8509, Validation Accuracy: 0.6725\n",
      "Best model saved! 20241014-1928\n"
     ]
    },
    {
     "name": "stderr",
     "output_type": "stream",
     "text": [
      "Epoch 26/32: 100%|██████████| 216/216 [00:49<00:00,  4.33batch/s, accuracy=0.727, loss=0.724]  \n"
     ]
    },
    {
     "name": "stdout",
     "output_type": "stream",
     "text": [
      "[2.2499999999999998e-05]\n",
      "              precision    recall  f1-score   support\n",
      "\n",
      "           0       0.74      0.70      0.72       384\n",
      "           1       0.76      0.68      0.72       384\n",
      "           2       0.71      0.68      0.69       307\n",
      "           3       0.62      0.63      0.63       230\n",
      "           4       0.46      0.59      0.52       154\n",
      "           5       0.34      0.44      0.38        77\n",
      "\n",
      "    accuracy                           0.66      1536\n",
      "   macro avg       0.61      0.62      0.61      1536\n",
      "weighted avg       0.67      0.66      0.66      1536\n",
      "\n",
      "[[269  40  19  24  18  14]\n",
      " [ 37 262  28  25  22  10]\n",
      " [ 19  24 209  22  23  10]\n",
      " [ 20   8  18 146  27  11]\n",
      " [ 11   5  13  13  91  21]\n",
      " [  8   8   8   4  15  34]]\n",
      "Epoch 26/32, Validation Loss: 0.8650, Validation Accuracy: 0.6582\n"
     ]
    },
    {
     "name": "stderr",
     "output_type": "stream",
     "text": [
      "Epoch 27/32: 100%|██████████| 216/216 [00:49<00:00,  4.34batch/s, accuracy=0.728, loss=0.72]   \n"
     ]
    },
    {
     "name": "stdout",
     "output_type": "stream",
     "text": [
      "[2.2499999999999998e-05]\n",
      "              precision    recall  f1-score   support\n",
      "\n",
      "           0       0.76      0.68      0.72       384\n",
      "           1       0.77      0.69      0.73       384\n",
      "           2       0.65      0.69      0.67       307\n",
      "           3       0.63      0.63      0.63       230\n",
      "           4       0.49      0.60      0.54       154\n",
      "           5       0.42      0.58      0.49        77\n",
      "\n",
      "    accuracy                           0.66      1536\n",
      "   macro avg       0.62      0.65      0.63      1536\n",
      "weighted avg       0.68      0.66      0.67      1536\n",
      "\n",
      "[[260  32  35  24  23  10]\n",
      " [ 27 265  35  26  19  12]\n",
      " [ 19  26 212  21  18  11]\n",
      " [ 18   9  22 144  28   9]\n",
      " [ 13   8   8  12  93  20]\n",
      " [  3   4  12   3  10  45]]\n",
      "Epoch 27/32, Validation Loss: 0.8757, Validation Accuracy: 0.6634\n"
     ]
    },
    {
     "name": "stderr",
     "output_type": "stream",
     "text": [
      "Epoch 28/32: 100%|██████████| 216/216 [00:50<00:00,  4.30batch/s, accuracy=0.739, loss=0.704]  \n"
     ]
    },
    {
     "name": "stdout",
     "output_type": "stream",
     "text": [
      "[2.2499999999999998e-05]\n",
      "              precision    recall  f1-score   support\n",
      "\n",
      "           0       0.77      0.68      0.72       384\n",
      "           1       0.80      0.72      0.76       384\n",
      "           2       0.70      0.69      0.69       307\n",
      "           3       0.64      0.63      0.64       230\n",
      "           4       0.51      0.66      0.57       154\n",
      "           5       0.35      0.56      0.43        77\n",
      "\n",
      "    accuracy                           0.68      1536\n",
      "   macro avg       0.63      0.66      0.64      1536\n",
      "weighted avg       0.70      0.68      0.68      1536\n",
      "\n",
      "[[261  31  35  26  15  16]\n",
      " [ 30 276  23  26  15  14]\n",
      " [ 15  22 211  20  24  15]\n",
      " [ 20   6  17 146  27  14]\n",
      " [  9   5  10   8 101  21]\n",
      " [  6   4   7   1  16  43]]\n",
      "Epoch 28/32, Validation Loss: 0.8732, Validation Accuracy: 0.6758\n",
      "Best model saved! 20241014-1931\n"
     ]
    },
    {
     "name": "stderr",
     "output_type": "stream",
     "text": [
      "Epoch 29/32: 100%|██████████| 216/216 [00:50<00:00,  4.24batch/s, accuracy=0.735, loss=0.707]  \n"
     ]
    },
    {
     "name": "stdout",
     "output_type": "stream",
     "text": [
      "[2.2499999999999998e-05]\n",
      "              precision    recall  f1-score   support\n",
      "\n",
      "           0       0.76      0.67      0.71       384\n",
      "           1       0.77      0.68      0.72       384\n",
      "           2       0.69      0.71      0.70       307\n",
      "           3       0.64      0.65      0.65       230\n",
      "           4       0.49      0.59      0.54       154\n",
      "           5       0.33      0.49      0.40        77\n",
      "\n",
      "    accuracy                           0.66      1536\n",
      "   macro avg       0.61      0.63      0.62      1536\n",
      "weighted avg       0.68      0.66      0.67      1536\n",
      "\n",
      "[[259  36  29  26  23  11]\n",
      " [ 31 262  30  24  23  14]\n",
      " [ 16  21 219  19  18  14]\n",
      " [ 15   8  18 150  22  17]\n",
      " [ 13   8  10  11  91  21]\n",
      " [  9   7  10   4   9  38]]\n",
      "Epoch 29/32, Validation Loss: 0.8571, Validation Accuracy: 0.6634\n"
     ]
    },
    {
     "name": "stderr",
     "output_type": "stream",
     "text": [
      "Epoch 30/32: 100%|██████████| 216/216 [00:50<00:00,  4.32batch/s, accuracy=0.731, loss=0.711]  \n"
     ]
    },
    {
     "name": "stdout",
     "output_type": "stream",
     "text": [
      "[3.3749999999999995e-06]\n",
      "              precision    recall  f1-score   support\n",
      "\n",
      "           0       0.74      0.67      0.70       384\n",
      "           1       0.75      0.70      0.72       384\n",
      "           2       0.68      0.69      0.69       307\n",
      "           3       0.64      0.65      0.64       230\n",
      "           4       0.48      0.59      0.53       154\n",
      "           5       0.33      0.43      0.37        77\n",
      "\n",
      "    accuracy                           0.66      1536\n",
      "   macro avg       0.60      0.62      0.61      1536\n",
      "weighted avg       0.67      0.66      0.66      1536\n",
      "\n",
      "[[256  37  34  23  20  14]\n",
      " [ 28 268  27  26  21  14]\n",
      " [ 18  28 213  20  17  11]\n",
      " [ 20   6  20 149  23  12]\n",
      " [ 13   9  11  14  91  16]\n",
      " [  9   9   8   1  17  33]]\n",
      "Epoch 30/32, Validation Loss: 0.8882, Validation Accuracy: 0.6576\n"
     ]
    },
    {
     "name": "stderr",
     "output_type": "stream",
     "text": [
      "Epoch 31/32: 100%|██████████| 216/216 [00:49<00:00,  4.34batch/s, accuracy=0.734, loss=0.706]  \n"
     ]
    },
    {
     "name": "stdout",
     "output_type": "stream",
     "text": [
      "[3.3749999999999995e-06]\n",
      "              precision    recall  f1-score   support\n",
      "\n",
      "           0       0.76      0.67      0.71       384\n",
      "           1       0.73      0.71      0.72       384\n",
      "           2       0.69      0.70      0.70       307\n",
      "           3       0.65      0.63      0.64       230\n",
      "           4       0.49      0.62      0.55       154\n",
      "           5       0.33      0.44      0.38        77\n",
      "\n",
      "    accuracy                           0.66      1536\n",
      "   macro avg       0.61      0.63      0.62      1536\n",
      "weighted avg       0.68      0.66      0.67      1536\n",
      "\n",
      "[[256  45  27  24  20  12]\n",
      " [ 25 273  30  24  20  12]\n",
      " [ 19  26 215  16  21  10]\n",
      " [ 17  12  20 144  24  13]\n",
      " [ 12   8  10   8  95  21]\n",
      " [  6  11   8   4  14  34]]\n",
      "Epoch 31/32, Validation Loss: 0.8623, Validation Accuracy: 0.6621\n"
     ]
    },
    {
     "name": "stderr",
     "output_type": "stream",
     "text": [
      "Epoch 32/32: 100%|██████████| 216/216 [00:49<00:00,  4.36batch/s, accuracy=0.733, loss=0.714]  \n"
     ]
    },
    {
     "name": "stdout",
     "output_type": "stream",
     "text": [
      "[3.3749999999999995e-06]\n",
      "              precision    recall  f1-score   support\n",
      "\n",
      "           0       0.74      0.67      0.70       384\n",
      "           1       0.77      0.68      0.72       384\n",
      "           2       0.69      0.67      0.68       307\n",
      "           3       0.64      0.65      0.64       230\n",
      "           4       0.49      0.64      0.56       154\n",
      "           5       0.34      0.49      0.40        77\n",
      "\n",
      "    accuracy                           0.66      1536\n",
      "   macro avg       0.61      0.63      0.62      1536\n",
      "weighted avg       0.68      0.66      0.66      1536\n",
      "\n",
      "[[257  36  31  25  22  13]\n",
      " [ 34 262  31  26  19  12]\n",
      " [ 20  25 207  19  21  15]\n",
      " [ 19   8  17 150  21  15]\n",
      " [ 10   3  11  14  98  18]\n",
      " [  7   8   4   2  18  38]]\n",
      "Epoch 32/32, Validation Loss: 0.8856, Validation Accuracy: 0.6589\n",
      "Finished Training\n",
      "Best validation accuracy: 0.6758\n"
     ]
    }
   ],
   "source": [
    "# \n",
    "if __name__ == \"__main__\":\n",
    "    trainer2 = ContinueTrainer(\n",
    "        model_path = './runs/20241014-oversam_instab1-epoch16/best_model.pth',\n",
    "        model = TunnedBlockStackNet8(),\n",
    "        csv_path = csv_path, \n",
    "        img_dir= img_dir, \n",
    "        test_size=0.2, \n",
    "        num_epochs=32,\n",
    "        batch_size=32\n",
    "        )\n",
    "    trainer2.train()\n",
    "        "
   ]
  },
  {
   "cell_type": "code",
   "execution_count": 27,
   "metadata": {},
   "outputs": [
    {
     "name": "stdout",
     "output_type": "stream",
     "text": [
      "              precision    recall  f1-score   support\n",
      "\n",
      "           0       0.73      0.68      0.71       384\n",
      "           1       0.77      0.69      0.73       384\n",
      "           2       0.70      0.70      0.70       307\n",
      "           3       0.60      0.62      0.61       230\n",
      "           4       0.49      0.59      0.53       154\n",
      "           5       0.35      0.47      0.40        77\n",
      "\n",
      "    accuracy                           0.66      1536\n",
      "   macro avg       0.61      0.62      0.61      1536\n",
      "weighted avg       0.67      0.66      0.66      1536\n",
      "\n",
      "[[263  32  28  29  15  17]\n",
      " [ 36 264  31  26  19   8]\n",
      " [ 20  22 214  19  20  12]\n",
      " [ 20   8  20 143  28  11]\n",
      " [ 15   5   9  15  91  19]\n",
      " [  7  10   5   5  14  36]]\n"
     ]
    }
   ],
   "source": [
    "valid_df = trainer2.val_data\n",
    "_,_, all_labels, all_predictions = trainer2.validate()"
   ]
  },
  {
   "cell_type": "code",
   "execution_count": 31,
   "metadata": {},
   "outputs": [
    {
     "name": "stderr",
     "output_type": "stream",
     "text": [
      "/tmp/ipykernel_1235/3749961525.py:1: SettingWithCopyWarning: \n",
      "A value is trying to be set on a copy of a slice from a DataFrame.\n",
      "Try using .loc[row_indexer,col_indexer] = value instead\n",
      "\n",
      "See the caveats in the documentation: https://pandas.pydata.org/pandas-docs/stable/user_guide/indexing.html#returning-a-view-versus-a-copy\n",
      "  valid_df['pred_label'] = [pred + 1 for pred in all_predictions]\n",
      "/tmp/ipykernel_1235/3749961525.py:2: SettingWithCopyWarning: \n",
      "A value is trying to be set on a copy of a slice from a DataFrame.\n",
      "Try using .loc[row_indexer,col_indexer] = value instead\n",
      "\n",
      "See the caveats in the documentation: https://pandas.pydata.org/pandas-docs/stable/user_guide/indexing.html#returning-a-view-versus-a-copy\n",
      "  valid_df['pred_type'] = valid_df['pred_label'] == valid_df['stable_height']\n"
     ]
    }
   ],
   "source": [
    "valid_df['pred_label'] = [pred + 1 for pred in all_predictions]\n",
    "valid_df['pred_type'] = valid_df['pred_label'] == valid_df['stable_height']"
   ]
  },
  {
   "cell_type": "code",
   "execution_count": 36,
   "metadata": {},
   "outputs": [
    {
     "data": {
      "text/plain": [
       "instability_type  type\n",
       "0                 1       0.826347\n",
       "                  2       0.500000\n",
       "1                 1       0.687179\n",
       "                  2       0.361757\n",
       "2                 1       0.922330\n",
       "                  2       0.945652\n",
       "Name: pred_type, dtype: float64"
      ]
     },
     "execution_count": 36,
     "metadata": {},
     "output_type": "execute_result"
    }
   ],
   "source": [
    "valid_df.groupby(['instability_type', 'type']).pred_type.sum()/valid_df.groupby(['instability_type', 'type']).pred_type.count()"
   ]
  },
  {
   "cell_type": "markdown",
   "metadata": {},
   "source": [
    "### Model with oversampling hard examples in instability type 1\n",
    "* add 500 hard examples in instability type 1\n",
    "* need increase epoches"
   ]
  },
  {
   "cell_type": "code",
   "execution_count": 16,
   "metadata": {},
   "outputs": [
    {
     "name": "stdout",
     "output_type": "stream",
     "text": [
      "Train dataset size: 6144 Validation dataset size: 1536 length of train_ids1 length of valid_ids1\n"
     ]
    },
    {
     "name": "stderr",
     "output_type": "stream",
     "text": [
      "Epoch 1/16: 100%|██████████| 208/208 [06:05<00:00,  1.76s/batch, accuracy=0.284, loss=1.57]    \n"
     ]
    },
    {
     "name": "stdout",
     "output_type": "stream",
     "text": [
      "[0.001]\n",
      "              precision    recall  f1-score   support\n",
      "\n",
      "           0       0.61      0.33      0.43       384\n",
      "           1       0.32      0.75      0.44       384\n",
      "           2       0.25      0.26      0.25       307\n",
      "           3       0.18      0.07      0.11       230\n",
      "           4       0.29      0.01      0.02       154\n",
      "           5       0.00      0.00      0.00        77\n",
      "\n",
      "    accuracy                           0.33      1536\n",
      "   macro avg       0.27      0.24      0.21      1536\n",
      "weighted avg       0.34      0.33      0.29      1536\n",
      "\n",
      "[[128 195  48  13   0   0]\n",
      " [ 40 287  42  13   2   0]\n",
      " [ 11 203  79  13   1   0]\n",
      " [ 14 113  85  17   1   0]\n",
      " [ 12  72  46  22   2   0]\n",
      " [  4  40  17  15   1   0]]\n",
      "Epoch 1/16, Validation Loss: 1.8216, Validation Accuracy: 0.3340\n",
      "Best model saved! 20241014-1742\n"
     ]
    },
    {
     "name": "stderr",
     "output_type": "stream",
     "text": [
      "Epoch 2/16: 100%|██████████| 208/208 [06:03<00:00,  1.75s/batch, accuracy=0.371, loss=1.46]   \n"
     ]
    },
    {
     "name": "stdout",
     "output_type": "stream",
     "text": [
      "[0.001]\n",
      "              precision    recall  f1-score   support\n",
      "\n",
      "           0       0.53      0.51      0.52       384\n",
      "           1       0.47      0.41      0.44       384\n",
      "           2       0.32      0.46      0.38       307\n",
      "           3       0.19      0.26      0.22       230\n",
      "           4       0.17      0.07      0.10       154\n",
      "           5       0.21      0.04      0.07        77\n",
      "\n",
      "    accuracy                           0.37      1536\n",
      "   macro avg       0.32      0.29      0.29      1536\n",
      "weighted avg       0.37      0.37      0.36      1536\n",
      "\n",
      "[[196  59  69  44  13   3]\n",
      " [ 82 159  81  54   8   0]\n",
      " [ 37  83 141  40   5   1]\n",
      " [ 22  27 108  59  10   4]\n",
      " [ 24   8  31  77  11   3]\n",
      " [ 10   5  14  29  16   3]]\n",
      "Epoch 2/16, Validation Loss: 1.4574, Validation Accuracy: 0.3704\n",
      "Best model saved! 20241014-1749\n"
     ]
    },
    {
     "name": "stderr",
     "output_type": "stream",
     "text": [
      "Epoch 3/16: 100%|██████████| 208/208 [06:03<00:00,  1.75s/batch, accuracy=0.399, loss=1.4]   \n"
     ]
    },
    {
     "name": "stdout",
     "output_type": "stream",
     "text": [
      "[0.001]\n",
      "              precision    recall  f1-score   support\n",
      "\n",
      "           0       0.82      0.31      0.45       384\n",
      "           1       0.69      0.24      0.36       384\n",
      "           2       0.27      0.16      0.20       307\n",
      "           3       0.23      0.36      0.28       230\n",
      "           4       0.16      0.12      0.14       154\n",
      "           5       0.12      0.97      0.22        77\n",
      "\n",
      "    accuracy                           0.28      1536\n",
      "   macro avg       0.38      0.36      0.27      1536\n",
      "weighted avg       0.49      0.28      0.31      1536\n",
      "\n",
      "[[120  39  50  64  17  94]\n",
      " [ 17  92  78  63  21 113]\n",
      " [  4   3  50 142  13  95]\n",
      " [  3   0   6  82  40  99]\n",
      " [  2   0   0   6  18 128]\n",
      " [  0   0   0   0   2  75]]\n",
      "Epoch 3/16, Validation Loss: 1.4982, Validation Accuracy: 0.2845\n"
     ]
    },
    {
     "name": "stderr",
     "output_type": "stream",
     "text": [
      "Epoch 4/16: 100%|██████████| 208/208 [06:03<00:00,  1.75s/batch, accuracy=0.418, loss=1.36]  \n"
     ]
    },
    {
     "name": "stdout",
     "output_type": "stream",
     "text": [
      "[0.001]\n",
      "              precision    recall  f1-score   support\n",
      "\n",
      "           0       0.57      0.56      0.56       384\n",
      "           1       0.52      0.45      0.48       384\n",
      "           2       0.50      0.40      0.44       307\n",
      "           3       0.40      0.42      0.41       230\n",
      "           4       0.29      0.16      0.21       154\n",
      "           5       0.16      0.52      0.24        77\n",
      "\n",
      "    accuracy                           0.44      1536\n",
      "   macro avg       0.41      0.42      0.39      1536\n",
      "weighted avg       0.47      0.44      0.45      1536\n",
      "\n",
      "[[215  53  38  30   3  45]\n",
      " [ 88 174  45  27  14  36]\n",
      " [ 37  62 123  48  11  26]\n",
      " [ 24  17  32  96  23  38]\n",
      " [ 11  16   5  31  25  66]\n",
      " [  5  13   4   6   9  40]]\n",
      "Epoch 4/16, Validation Loss: 1.3244, Validation Accuracy: 0.4382\n",
      "Best model saved! 20241014-1803\n"
     ]
    },
    {
     "name": "stderr",
     "output_type": "stream",
     "text": [
      "Epoch 5/16: 100%|██████████| 208/208 [06:02<00:00,  1.74s/batch, accuracy=0.446, loss=1.32]  \n"
     ]
    },
    {
     "name": "stdout",
     "output_type": "stream",
     "text": [
      "[0.001]\n",
      "              precision    recall  f1-score   support\n",
      "\n",
      "           0       0.92      0.26      0.40       384\n",
      "           1       0.48      0.56      0.51       384\n",
      "           2       0.26      0.57      0.36       307\n",
      "           3       0.33      0.18      0.23       230\n",
      "           4       0.35      0.09      0.14       154\n",
      "           5       0.20      0.38      0.26        77\n",
      "\n",
      "    accuracy                           0.37      1536\n",
      "   macro avg       0.42      0.34      0.32      1536\n",
      "weighted avg       0.49      0.37      0.36      1536\n",
      "\n",
      "[[ 98 105 131  14   6  30]\n",
      " [  7 214 120  18   5  20]\n",
      " [  0  97 175  13   3  19]\n",
      " [  0  13 147  41   7  22]\n",
      " [  2  11  63  37  14  27]\n",
      " [  0   9  31   3   5  29]]\n",
      "Epoch 5/16, Validation Loss: 1.3544, Validation Accuracy: 0.3717\n"
     ]
    },
    {
     "name": "stderr",
     "output_type": "stream",
     "text": [
      "Epoch 6/16: 100%|██████████| 208/208 [06:04<00:00,  1.75s/batch, accuracy=0.46, loss=1.27]   \n"
     ]
    },
    {
     "name": "stdout",
     "output_type": "stream",
     "text": [
      "[0.001]\n",
      "              precision    recall  f1-score   support\n",
      "\n",
      "           0       0.56      0.52      0.54       384\n",
      "           1       0.53      0.49      0.51       384\n",
      "           2       0.49      0.45      0.47       307\n",
      "           3       0.35      0.38      0.37       230\n",
      "           4       0.27      0.25      0.26       154\n",
      "           5       0.21      0.40      0.28        77\n",
      "\n",
      "    accuracy                           0.45      1536\n",
      "   macro avg       0.40      0.42      0.40      1536\n",
      "weighted avg       0.46      0.45      0.45      1536\n",
      "\n",
      "[[201  89  48  23  12  11]\n",
      " [ 42 190  63  53  17  19]\n",
      " [ 36  40 137  59  12  23]\n",
      " [ 30  15  19  88  50  28]\n",
      " [ 33  17   7  25  38  34]\n",
      " [ 17  10   6   1  12  31]]\n",
      "Epoch 6/16, Validation Loss: 1.2989, Validation Accuracy: 0.4460\n",
      "Best model saved! 20241014-1817\n"
     ]
    },
    {
     "name": "stderr",
     "output_type": "stream",
     "text": [
      "Epoch 7/16: 100%|██████████| 208/208 [06:01<00:00,  1.74s/batch, accuracy=0.478, loss=1.25]  \n"
     ]
    },
    {
     "name": "stdout",
     "output_type": "stream",
     "text": [
      "[0.001]\n",
      "              precision    recall  f1-score   support\n",
      "\n",
      "           0       0.75      0.45      0.56       384\n",
      "           1       0.51      0.67      0.58       384\n",
      "           2       0.38      0.68      0.49       307\n",
      "           3       0.44      0.22      0.29       230\n",
      "           4       0.31      0.23      0.26       154\n",
      "           5       0.12      0.04      0.06        77\n",
      "\n",
      "    accuracy                           0.47      1536\n",
      "   macro avg       0.42      0.38      0.37      1536\n",
      "weighted avg       0.49      0.47      0.46      1536\n",
      "\n",
      "[[174  92  85  11  18   4]\n",
      " [ 23 256  84   7  10   4]\n",
      " [  9  63 209  11  11   4]\n",
      " [  9  36 105  50  26   4]\n",
      " [ 13  33  37  31  35   5]\n",
      " [  4  25  27   4  14   3]]\n",
      "Epoch 7/16, Validation Loss: 1.2991, Validation Accuracy: 0.4733\n",
      "Best model saved! 20241014-1824\n"
     ]
    },
    {
     "name": "stderr",
     "output_type": "stream",
     "text": [
      "Epoch 8/16: 100%|██████████| 208/208 [06:15<00:00,  1.81s/batch, accuracy=0.494, loss=1.22]   \n"
     ]
    },
    {
     "name": "stdout",
     "output_type": "stream",
     "text": [
      "[0.001]\n",
      "              precision    recall  f1-score   support\n",
      "\n",
      "           0       0.93      0.33      0.49       384\n",
      "           1       0.71      0.51      0.59       384\n",
      "           2       0.48      0.67      0.56       307\n",
      "           3       0.35      0.63      0.45       230\n",
      "           4       0.24      0.37      0.29       154\n",
      "           5       0.26      0.12      0.16        77\n",
      "\n",
      "    accuracy                           0.48      1536\n",
      "   macro avg       0.49      0.44      0.42      1536\n",
      "weighted avg       0.59      0.48      0.49      1536\n",
      "\n",
      "[[128  55  78  71  47   5]\n",
      " [  5 197  83  55  37   7]\n",
      " [  4  14 207  53  23   6]\n",
      " [  0   5  46 145  30   4]\n",
      " [  0   2  13  79  57   3]\n",
      " [  1   6   8   9  44   9]]\n",
      "Epoch 8/16, Validation Loss: 1.2799, Validation Accuracy: 0.4837\n",
      "Best model saved! 20241014-1831\n"
     ]
    },
    {
     "name": "stderr",
     "output_type": "stream",
     "text": [
      "Epoch 9/16: 100%|██████████| 208/208 [06:16<00:00,  1.81s/batch, accuracy=0.52, loss=1.19]    \n"
     ]
    },
    {
     "name": "stdout",
     "output_type": "stream",
     "text": [
      "[0.001]\n",
      "              precision    recall  f1-score   support\n",
      "\n",
      "           0       0.70      0.55      0.61       384\n",
      "           1       0.68      0.49      0.57       384\n",
      "           2       0.53      0.58      0.55       307\n",
      "           3       0.37      0.46      0.41       230\n",
      "           4       0.31      0.45      0.37       154\n",
      "           5       0.23      0.35      0.27        77\n",
      "\n",
      "    accuracy                           0.51      1536\n",
      "   macro avg       0.47      0.48      0.47      1536\n",
      "weighted avg       0.55      0.51      0.52      1536\n",
      "\n",
      "[[210  47  55  33  24  15]\n",
      " [ 35 190  52  48  40  19]\n",
      " [ 16  25 177  42  25  22]\n",
      " [ 17  13  42 105  36  17]\n",
      " [ 14   0   5  46  69  20]\n",
      " [ 10   3   1   7  29  27]]\n",
      "Epoch 9/16, Validation Loss: 1.1937, Validation Accuracy: 0.5065\n",
      "Best model saved! 20241014-1838\n"
     ]
    },
    {
     "name": "stderr",
     "output_type": "stream",
     "text": [
      "Epoch 10/16: 100%|██████████| 208/208 [06:11<00:00,  1.79s/batch, accuracy=0.522, loss=1.17]   \n"
     ]
    },
    {
     "name": "stdout",
     "output_type": "stream",
     "text": [
      "[0.001]\n",
      "              precision    recall  f1-score   support\n",
      "\n",
      "           0       0.67      0.60      0.64       384\n",
      "           1       0.67      0.58      0.62       384\n",
      "           2       0.58      0.60      0.59       307\n",
      "           3       0.51      0.40      0.44       230\n",
      "           4       0.36      0.34      0.35       154\n",
      "           5       0.25      0.70      0.37        77\n",
      "\n",
      "    accuracy                           0.54      1536\n",
      "   macro avg       0.51      0.54      0.50      1536\n",
      "weighted avg       0.58      0.54      0.55      1536\n",
      "\n",
      "[[232  51  37  25  15  24]\n",
      " [ 37 223  50  28  13  33]\n",
      " [ 30  25 184  27  19  22]\n",
      " [ 23  12  32  91  42  30]\n",
      " [ 18  11  10   8  52  55]\n",
      " [  5   9   5   0   4  54]]\n",
      "Epoch 10/16, Validation Loss: 1.1214, Validation Accuracy: 0.5443\n",
      "Best model saved! 20241014-1845\n"
     ]
    },
    {
     "name": "stderr",
     "output_type": "stream",
     "text": [
      "Epoch 11/16: 100%|██████████| 208/208 [06:12<00:00,  1.79s/batch, accuracy=0.526, loss=1.16]   \n"
     ]
    },
    {
     "name": "stdout",
     "output_type": "stream",
     "text": [
      "[0.001]\n",
      "              precision    recall  f1-score   support\n",
      "\n",
      "           0       0.77      0.49      0.60       384\n",
      "           1       0.69      0.55      0.61       384\n",
      "           2       0.48      0.70      0.57       307\n",
      "           3       0.35      0.60      0.45       230\n",
      "           4       0.18      0.14      0.16       154\n",
      "           5       0.41      0.12      0.18        77\n",
      "\n",
      "    accuracy                           0.51      1536\n",
      "   macro avg       0.48      0.43      0.43      1536\n",
      "weighted avg       0.55      0.51      0.51      1536\n",
      "\n",
      "[[187  52  77  50  15   3]\n",
      " [ 27 213  65  57  19   3]\n",
      " [  6  22 216  44  17   2]\n",
      " [  5   7  59 139  18   2]\n",
      " [ 13   8  18  90  22   3]\n",
      " [  4   7  12  12  33   9]]\n",
      "Epoch 11/16, Validation Loss: 1.1850, Validation Accuracy: 0.5117\n"
     ]
    },
    {
     "name": "stderr",
     "output_type": "stream",
     "text": [
      "Epoch 12/16: 100%|██████████| 208/208 [06:08<00:00,  1.77s/batch, accuracy=0.541, loss=1.15]   \n"
     ]
    },
    {
     "name": "stdout",
     "output_type": "stream",
     "text": [
      "[0.001]\n",
      "              precision    recall  f1-score   support\n",
      "\n",
      "           0       0.80      0.53      0.64       384\n",
      "           1       0.65      0.63      0.64       384\n",
      "           2       0.65      0.58      0.61       307\n",
      "           3       0.48      0.58      0.53       230\n",
      "           4       0.35      0.65      0.45       154\n",
      "           5       0.30      0.29      0.29        77\n",
      "\n",
      "    accuracy                           0.57      1536\n",
      "   macro avg       0.54      0.54      0.53      1536\n",
      "weighted avg       0.62      0.57      0.58      1536\n",
      "\n",
      "[[202  50  34  45  41  12]\n",
      " [ 26 241  32  42  33  10]\n",
      " [  8  43 178  39  28  11]\n",
      " [  7  13  15 134  52   9]\n",
      " [  7  10   7  20 100  10]\n",
      " [  1  12   8   0  34  22]]\n",
      "Epoch 12/16, Validation Loss: 1.0539, Validation Accuracy: 0.5710\n",
      "Best model saved! 20241014-1859\n"
     ]
    },
    {
     "name": "stderr",
     "output_type": "stream",
     "text": [
      "Epoch 13/16: 100%|██████████| 208/208 [06:05<00:00,  1.75s/batch, accuracy=0.548, loss=1.13]   \n"
     ]
    },
    {
     "name": "stdout",
     "output_type": "stream",
     "text": [
      "[0.001]\n",
      "              precision    recall  f1-score   support\n",
      "\n",
      "           0       0.69      0.62      0.65       384\n",
      "           1       0.60      0.69      0.64       384\n",
      "           2       0.68      0.52      0.59       307\n",
      "           3       0.51      0.45      0.48       230\n",
      "           4       0.42      0.27      0.33       154\n",
      "           5       0.22      0.62      0.32        77\n",
      "\n",
      "    accuracy                           0.56      1536\n",
      "   macro avg       0.52      0.53      0.50      1536\n",
      "weighted avg       0.59      0.56      0.56      1536\n",
      "\n",
      "[[238  71  27  23   7  18]\n",
      " [ 33 264  26  22  11  28]\n",
      " [ 23  42 160  40  11  31]\n",
      " [ 19  25  14 103  25  44]\n",
      " [ 22  20   5  15  42  50]\n",
      " [  8  15   2   0   4  48]]\n",
      "Epoch 13/16, Validation Loss: 1.1148, Validation Accuracy: 0.5566\n"
     ]
    },
    {
     "name": "stderr",
     "output_type": "stream",
     "text": [
      "Epoch 14/16: 100%|██████████| 208/208 [06:10<00:00,  1.78s/batch, accuracy=0.565, loss=1.11]   \n"
     ]
    },
    {
     "name": "stdout",
     "output_type": "stream",
     "text": [
      "[0.001]\n",
      "              precision    recall  f1-score   support\n",
      "\n",
      "           0       0.57      0.69      0.62       384\n",
      "           1       0.66      0.67      0.66       384\n",
      "           2       0.61      0.54      0.57       307\n",
      "           3       0.54      0.48      0.51       230\n",
      "           4       0.39      0.47      0.42       154\n",
      "           5       0.28      0.06      0.11        77\n",
      "\n",
      "    accuracy                           0.57      1536\n",
      "   macro avg       0.51      0.48      0.48      1536\n",
      "weighted avg       0.56      0.57      0.56      1536\n",
      "\n",
      "[[264  58  34  18   8   2]\n",
      " [ 45 256  37  20  24   2]\n",
      " [ 46  33 166  38  21   3]\n",
      " [ 49  20  12 111  38   0]\n",
      " [ 37  11   9  19  72   6]\n",
      " [ 22  11  15   0  24   5]]\n",
      "Epoch 14/16, Validation Loss: 1.1130, Validation Accuracy: 0.5690\n"
     ]
    },
    {
     "name": "stderr",
     "output_type": "stream",
     "text": [
      "Epoch 15/16: 100%|██████████| 208/208 [06:11<00:00,  1.79s/batch, accuracy=0.569, loss=1.08]  \n"
     ]
    },
    {
     "name": "stdout",
     "output_type": "stream",
     "text": [
      "[0.0001]\n",
      "              precision    recall  f1-score   support\n",
      "\n",
      "           0       0.75      0.66      0.70       384\n",
      "           1       0.69      0.60      0.64       384\n",
      "           2       0.61      0.62      0.61       307\n",
      "           3       0.65      0.44      0.52       230\n",
      "           4       0.34      0.66      0.45       154\n",
      "           5       0.30      0.34      0.32        77\n",
      "\n",
      "    accuracy                           0.59      1536\n",
      "   macro avg       0.55      0.55      0.54      1536\n",
      "weighted avg       0.62      0.59      0.60      1536\n",
      "\n",
      "[[252  40  34  17  31  10]\n",
      " [ 38 231  41  17  39  18]\n",
      " [ 17  29 191  17  40  13]\n",
      " [ 17  22  26 101  58   6]\n",
      " [ 12  10  13   4 102  13]\n",
      " [  2   5  10   0  34  26]]\n",
      "Epoch 15/16, Validation Loss: 1.0438, Validation Accuracy: 0.5879\n",
      "Best model saved! 20241014-1920\n"
     ]
    },
    {
     "name": "stderr",
     "output_type": "stream",
     "text": [
      "Epoch 16/16: 100%|██████████| 208/208 [06:09<00:00,  1.78s/batch, accuracy=0.607, loss=0.991] \n"
     ]
    },
    {
     "name": "stdout",
     "output_type": "stream",
     "text": [
      "[0.0001]\n",
      "              precision    recall  f1-score   support\n",
      "\n",
      "           0       0.83      0.59      0.69       384\n",
      "           1       0.72      0.65      0.68       384\n",
      "           2       0.59      0.68      0.63       307\n",
      "           3       0.57      0.57      0.57       230\n",
      "           4       0.41      0.58      0.48       154\n",
      "           5       0.28      0.44      0.34        77\n",
      "\n",
      "    accuracy                           0.61      1536\n",
      "   macro avg       0.57      0.58      0.57      1536\n",
      "weighted avg       0.65      0.61      0.62      1536\n",
      "\n",
      "[[225  45  42  33  27  12]\n",
      " [ 15 249  51  26  19  24]\n",
      " [ 10  24 209  27  24  13]\n",
      " [  7  14  23 130  41  15]\n",
      " [ 10   7  15   9  89  24]\n",
      " [  5   5  13   2  18  34]]\n",
      "Epoch 16/16, Validation Loss: 0.9651, Validation Accuracy: 0.6094\n",
      "Best model saved! 20241014-1927\n",
      "Finished Training\n",
      "Best validation accuracy: 0.6094\n"
     ]
    }
   ],
   "source": [
    "# test\n",
    "if __name__ == \"__main__\":\n",
    "    model = TunnedBlockStackNet8()\n",
    "    trainer = ClassificationBlockStackTrainer1(\n",
    "        csv_file = './COMP90086_2024_Project_train/train.csv', ##\n",
    "        img_dir='./COMP90086_2024_Project_train/train', ##\n",
    "        model=model,\n",
    "        test_size=0.2, # used to control the size of data in split_dataset(self)\n",
    "        num_epochs=16,\n",
    "        batch_size=32\n",
    "        )\n",
    "    trainer.train()\n",
    "        "
   ]
  },
  {
   "cell_type": "code",
   "execution_count": 18,
   "metadata": {},
   "outputs": [
    {
     "name": "stdout",
     "output_type": "stream",
     "text": [
      "              precision    recall  f1-score   support\n",
      "\n",
      "           0       0.78      0.56      0.65       384\n",
      "           1       0.71      0.66      0.68       384\n",
      "           2       0.60      0.69      0.64       307\n",
      "           3       0.55      0.53      0.54       230\n",
      "           4       0.43      0.58      0.50       154\n",
      "           5       0.23      0.36      0.28        77\n",
      "\n",
      "    accuracy                           0.60      1536\n",
      "   macro avg       0.55      0.56      0.55      1536\n",
      "weighted avg       0.63      0.60      0.61      1536\n",
      "\n",
      "[[214  50  44  35  24  17]\n",
      " [ 18 253  48  24  22  19]\n",
      " [ 13  24 212  28  16  14]\n",
      " [ 11  14  24 121  44  16]\n",
      " [ 11   4  13   9  90  27]\n",
      " [  9  11  14   2  13  28]]\n"
     ]
    },
    {
     "name": "stderr",
     "output_type": "stream",
     "text": [
      "/var/folders/gk/b497571d49ndglvgyk5sb53h0000gn/T/ipykernel_95107/284521822.py:3: SettingWithCopyWarning: \n",
      "A value is trying to be set on a copy of a slice from a DataFrame.\n",
      "Try using .loc[row_indexer,col_indexer] = value instead\n",
      "\n",
      "See the caveats in the documentation: https://pandas.pydata.org/pandas-docs/stable/user_guide/indexing.html#returning-a-view-versus-a-copy\n",
      "  valid_ds['predicted'] = all_predictions\n"
     ]
    },
    {
     "data": {
      "text/html": [
       "<div>\n",
       "<style scoped>\n",
       "    .dataframe tbody tr th:only-of-type {\n",
       "        vertical-align: middle;\n",
       "    }\n",
       "\n",
       "    .dataframe tbody tr th {\n",
       "        vertical-align: top;\n",
       "    }\n",
       "\n",
       "    .dataframe thead th {\n",
       "        text-align: right;\n",
       "    }\n",
       "</style>\n",
       "<table border=\"1\" class=\"dataframe\">\n",
       "  <thead>\n",
       "    <tr style=\"text-align: right;\">\n",
       "      <th></th>\n",
       "      <th>id</th>\n",
       "      <th>shapeset</th>\n",
       "      <th>type</th>\n",
       "      <th>total_height</th>\n",
       "      <th>instability_type</th>\n",
       "      <th>cam_angle</th>\n",
       "      <th>stable_height</th>\n",
       "      <th>predicted</th>\n",
       "    </tr>\n",
       "  </thead>\n",
       "  <tbody>\n",
       "    <tr>\n",
       "      <th>7334</th>\n",
       "      <td>956915</td>\n",
       "      <td>2</td>\n",
       "      <td>2</td>\n",
       "      <td>4</td>\n",
       "      <td>2</td>\n",
       "      <td>1</td>\n",
       "      <td>1</td>\n",
       "      <td>0</td>\n",
       "    </tr>\n",
       "    <tr>\n",
       "      <th>3955</th>\n",
       "      <td>516709</td>\n",
       "      <td>1</td>\n",
       "      <td>2</td>\n",
       "      <td>5</td>\n",
       "      <td>1</td>\n",
       "      <td>1</td>\n",
       "      <td>3</td>\n",
       "      <td>1</td>\n",
       "    </tr>\n",
       "    <tr>\n",
       "      <th>619</th>\n",
       "      <td>77447</td>\n",
       "      <td>1</td>\n",
       "      <td>2</td>\n",
       "      <td>5</td>\n",
       "      <td>1</td>\n",
       "      <td>1</td>\n",
       "      <td>3</td>\n",
       "      <td>2</td>\n",
       "    </tr>\n",
       "    <tr>\n",
       "      <th>1594</th>\n",
       "      <td>212770</td>\n",
       "      <td>2</td>\n",
       "      <td>2</td>\n",
       "      <td>4</td>\n",
       "      <td>2</td>\n",
       "      <td>1</td>\n",
       "      <td>1</td>\n",
       "      <td>0</td>\n",
       "    </tr>\n",
       "    <tr>\n",
       "      <th>5645</th>\n",
       "      <td>745098</td>\n",
       "      <td>2</td>\n",
       "      <td>2</td>\n",
       "      <td>6</td>\n",
       "      <td>1</td>\n",
       "      <td>1</td>\n",
       "      <td>4</td>\n",
       "      <td>4</td>\n",
       "    </tr>\n",
       "  </tbody>\n",
       "</table>\n",
       "</div>"
      ],
      "text/plain": [
       "          id  shapeset  type  total_height  instability_type  cam_angle  \\\n",
       "7334  956915         2     2             4                 2          1   \n",
       "3955  516709         1     2             5                 1          1   \n",
       "619    77447         1     2             5                 1          1   \n",
       "1594  212770         2     2             4                 2          1   \n",
       "5645  745098         2     2             6                 1          1   \n",
       "\n",
       "      stable_height  predicted  \n",
       "7334              1          0  \n",
       "3955              3          1  \n",
       "619               3          2  \n",
       "1594              1          0  \n",
       "5645              4          4  "
      ]
     },
     "execution_count": 18,
     "metadata": {},
     "output_type": "execute_result"
    }
   ],
   "source": [
    "valid_ds = trainer.val_data\n",
    "_,val_accuracy, all_labels, all_predictions = trainer.validate()\n",
    "valid_ds['predicted'] = all_predictions\n",
    "valid_ds.head()"
   ]
  },
  {
   "cell_type": "code",
   "execution_count": 20,
   "metadata": {},
   "outputs": [
    {
     "name": "stderr",
     "output_type": "stream",
     "text": [
      "/var/folders/gk/b497571d49ndglvgyk5sb53h0000gn/T/ipykernel_95107/911565123.py:1: SettingWithCopyWarning: \n",
      "A value is trying to be set on a copy of a slice from a DataFrame.\n",
      "Try using .loc[row_indexer,col_indexer] = value instead\n",
      "\n",
      "See the caveats in the documentation: https://pandas.pydata.org/pandas-docs/stable/user_guide/indexing.html#returning-a-view-versus-a-copy\n",
      "  valid_ds['predicted'] = valid_ds['predicted'] + 1\n",
      "/var/folders/gk/b497571d49ndglvgyk5sb53h0000gn/T/ipykernel_95107/911565123.py:2: SettingWithCopyWarning: \n",
      "A value is trying to be set on a copy of a slice from a DataFrame.\n",
      "Try using .loc[row_indexer,col_indexer] = value instead\n",
      "\n",
      "See the caveats in the documentation: https://pandas.pydata.org/pandas-docs/stable/user_guide/indexing.html#returning-a-view-versus-a-copy\n",
      "  valid_ds['pred_type'] = valid_ds['predicted'] == valid_ds['stable_height']\n"
     ]
    },
    {
     "data": {
      "text/plain": [
       "0.59765625"
      ]
     },
     "execution_count": 20,
     "metadata": {},
     "output_type": "execute_result"
    }
   ],
   "source": [
    "valid_ds['predicted'] = valid_ds['predicted'] + 1\n",
    "valid_ds['pred_type'] = valid_ds['predicted'] == valid_ds['stable_height']\n",
    "\n",
    "valid_ds.pred_type.sum()/len(valid_ds)"
   ]
  },
  {
   "cell_type": "code",
   "execution_count": 21,
   "metadata": {},
   "outputs": [
    {
     "data": {
      "text/plain": [
       "instability_type  type\n",
       "0                 1       0.796407\n",
       "                  2       0.608911\n",
       "1                 1       0.500000\n",
       "                  2       0.299742\n",
       "2                 1       0.898058\n",
       "                  2       0.902174\n",
       "Name: pred_type, dtype: float64"
      ]
     },
     "execution_count": 21,
     "metadata": {},
     "output_type": "execute_result"
    }
   ],
   "source": [
    "valid_ds.groupby(['instability_type', 'type']).pred_type.sum()/valid_ds.groupby(['instability_type', 'type']).pred_type.count()"
   ]
  },
  {
   "cell_type": "code",
   "execution_count": 9,
   "metadata": {
    "scrolled": true
   },
   "outputs": [
    {
     "name": "stdout",
     "output_type": "stream",
     "text": [
      "Train dataset size: 6144 Validation dataset size: 1536 length of train_ids1 length of valid_ids1\n"
     ]
    },
    {
     "name": "stderr",
     "output_type": "stream",
     "text": [
      "Epoch 1/16: 100%|██████████| 192/192 [06:25<00:00,  2.01s/batch, accuracy=0.621, loss=0.814]  \n"
     ]
    },
    {
     "name": "stdout",
     "output_type": "stream",
     "text": [
      "[0.001]\n",
      "              precision    recall  f1-score   support\n",
      "\n",
      "           0       0.00      0.00      0.00       369\n",
      "           1       0.63      0.99      0.77       777\n",
      "           2       0.98      0.78      0.87       390\n",
      "\n",
      "    accuracy                           0.70      1536\n",
      "   macro avg       0.54      0.59      0.55      1536\n",
      "weighted avg       0.57      0.70      0.61      1536\n",
      "\n",
      "[[  0 368   1]\n",
      " [  0 773   4]\n",
      " [  0  87 303]]\n",
      "Epoch 1/16, Validation Loss: 0.6589, Validation Accuracy: 0.7005\n",
      "Best model saved!\n"
     ]
    },
    {
     "name": "stderr",
     "output_type": "stream",
     "text": [
      "Epoch 2/16: 100%|██████████| 192/192 [06:23<00:00,  2.00s/batch, accuracy=0.689, loss=0.664]  \n"
     ]
    },
    {
     "name": "stdout",
     "output_type": "stream",
     "text": [
      "[0.001]\n",
      "              precision    recall  f1-score   support\n",
      "\n",
      "           0       0.67      0.05      0.09       369\n",
      "           1       0.65      0.97      0.78       777\n",
      "           2       0.93      0.83      0.87       390\n",
      "\n",
      "    accuracy                           0.71      1536\n",
      "   macro avg       0.75      0.62      0.58      1536\n",
      "weighted avg       0.72      0.71      0.64      1536\n",
      "\n",
      "[[ 18 340  11]\n",
      " [  8 754  15]\n",
      " [  1  66 323]]\n",
      "Epoch 2/16, Validation Loss: 0.6186, Validation Accuracy: 0.7129\n",
      "Best model saved!\n"
     ]
    },
    {
     "name": "stderr",
     "output_type": "stream",
     "text": [
      "Epoch 3/16: 100%|██████████| 192/192 [06:19<00:00,  1.98s/batch, accuracy=0.71, loss=0.615]   \n"
     ]
    },
    {
     "name": "stdout",
     "output_type": "stream",
     "text": [
      "[0.001]\n",
      "              precision    recall  f1-score   support\n",
      "\n",
      "           0       0.42      0.60      0.49       369\n",
      "           1       0.75      0.61      0.67       777\n",
      "           2       0.84      0.80      0.82       390\n",
      "\n",
      "    accuracy                           0.66      1536\n",
      "   macro avg       0.67      0.67      0.66      1536\n",
      "weighted avg       0.69      0.66      0.67      1536\n",
      "\n",
      "[[220 128  21]\n",
      " [261 476  40]\n",
      " [ 49  30 311]]\n",
      "Epoch 3/16, Validation Loss: 0.7420, Validation Accuracy: 0.6556\n"
     ]
    },
    {
     "name": "stderr",
     "output_type": "stream",
     "text": [
      "Epoch 4/16: 100%|██████████| 192/192 [06:21<00:00,  1.99s/batch, accuracy=0.704, loss=0.632]  \n"
     ]
    },
    {
     "name": "stdout",
     "output_type": "stream",
     "text": [
      "[0.001]\n",
      "              precision    recall  f1-score   support\n",
      "\n",
      "           0       0.00      0.00      0.00       369\n",
      "           1       0.65      0.99      0.79       777\n",
      "           2       0.96      0.87      0.92       390\n",
      "\n",
      "    accuracy                           0.72      1536\n",
      "   macro avg       0.54      0.62      0.57      1536\n",
      "weighted avg       0.57      0.72      0.63      1536\n",
      "\n",
      "[[  0 363   6]\n",
      " [  0 770   7]\n",
      " [  0  49 341]]\n",
      "Epoch 4/16, Validation Loss: 0.5647, Validation Accuracy: 0.7233\n",
      "Best model saved!\n"
     ]
    },
    {
     "name": "stderr",
     "output_type": "stream",
     "text": [
      "Epoch 5/16: 100%|██████████| 192/192 [06:19<00:00,  1.98s/batch, accuracy=0.708, loss=0.633]  \n"
     ]
    },
    {
     "name": "stdout",
     "output_type": "stream",
     "text": [
      "[0.001]\n",
      "              precision    recall  f1-score   support\n",
      "\n",
      "           0       0.54      0.27      0.36       369\n",
      "           1       0.70      0.88      0.78       777\n",
      "           2       0.92      0.88      0.90       390\n",
      "\n",
      "    accuracy                           0.74      1536\n",
      "   macro avg       0.72      0.68      0.68      1536\n",
      "weighted avg       0.72      0.74      0.71      1536\n",
      "\n",
      "[[ 99 260  10]\n",
      " [ 71 685  21]\n",
      " [ 15  30 345]]\n",
      "Epoch 5/16, Validation Loss: 0.5816, Validation Accuracy: 0.7350\n",
      "Best model saved!\n"
     ]
    },
    {
     "name": "stderr",
     "output_type": "stream",
     "text": [
      "Epoch 6/16: 100%|██████████| 192/192 [06:19<00:00,  1.98s/batch, accuracy=0.727, loss=0.572]  \n"
     ]
    },
    {
     "name": "stdout",
     "output_type": "stream",
     "text": [
      "[0.001]\n",
      "              precision    recall  f1-score   support\n",
      "\n",
      "           0       0.56      0.40      0.46       369\n",
      "           1       0.73      0.87      0.79       777\n",
      "           2       0.97      0.88      0.92       390\n",
      "\n",
      "    accuracy                           0.76      1536\n",
      "   macro avg       0.75      0.71      0.73      1536\n",
      "weighted avg       0.75      0.76      0.75      1536\n",
      "\n",
      "[[146 216   7]\n",
      " [ 99 673   5]\n",
      " [ 18  30 342]]\n",
      "Epoch 6/16, Validation Loss: 0.5489, Validation Accuracy: 0.7559\n",
      "Best model saved!\n"
     ]
    },
    {
     "name": "stderr",
     "output_type": "stream",
     "text": [
      "Epoch 7/16: 100%|██████████| 192/192 [06:19<00:00,  1.98s/batch, accuracy=0.743, loss=0.556]  \n"
     ]
    },
    {
     "name": "stdout",
     "output_type": "stream",
     "text": [
      "[0.001]\n",
      "              precision    recall  f1-score   support\n",
      "\n",
      "           0       0.67      0.09      0.16       369\n",
      "           1       0.67      0.94      0.78       777\n",
      "           2       0.83      0.85      0.84       390\n",
      "\n",
      "    accuracy                           0.71      1536\n",
      "   macro avg       0.72      0.63      0.60      1536\n",
      "weighted avg       0.71      0.71      0.65      1536\n",
      "\n",
      "[[ 34 301  34]\n",
      " [ 14 729  34]\n",
      " [  3  54 333]]\n",
      "Epoch 7/16, Validation Loss: 0.7482, Validation Accuracy: 0.7135\n"
     ]
    },
    {
     "name": "stderr",
     "output_type": "stream",
     "text": [
      "Epoch 8/16: 100%|██████████| 192/192 [06:20<00:00,  1.98s/batch, accuracy=0.748, loss=0.562]  \n"
     ]
    },
    {
     "name": "stdout",
     "output_type": "stream",
     "text": [
      "[0.001]\n",
      "              precision    recall  f1-score   support\n",
      "\n",
      "           0       0.61      0.32      0.42       369\n",
      "           1       0.72      0.90      0.80       777\n",
      "           2       0.94      0.89      0.91       390\n",
      "\n",
      "    accuracy                           0.76      1536\n",
      "   macro avg       0.76      0.70      0.71      1536\n",
      "weighted avg       0.75      0.76      0.74      1536\n",
      "\n",
      "[[117 240  12]\n",
      " [ 66 700  11]\n",
      " [  8  34 348]]\n",
      "Epoch 8/16, Validation Loss: 0.5437, Validation Accuracy: 0.7585\n",
      "Best model saved!\n"
     ]
    },
    {
     "name": "stderr",
     "output_type": "stream",
     "text": [
      "Epoch 9/16: 100%|██████████| 192/192 [06:19<00:00,  1.98s/batch, accuracy=0.752, loss=0.548]  \n"
     ]
    },
    {
     "name": "stdout",
     "output_type": "stream",
     "text": [
      "[0.001]\n",
      "              precision    recall  f1-score   support\n",
      "\n",
      "           0       0.64      0.26      0.37       369\n",
      "           1       0.70      0.95      0.80       777\n",
      "           2       0.99      0.85      0.92       390\n",
      "\n",
      "    accuracy                           0.76      1536\n",
      "   macro avg       0.78      0.69      0.70      1536\n",
      "weighted avg       0.76      0.76      0.73      1536\n",
      "\n",
      "[[ 96 271   2]\n",
      " [ 41 735   1]\n",
      " [ 14  44 332]]\n",
      "Epoch 9/16, Validation Loss: 0.5880, Validation Accuracy: 0.7572\n"
     ]
    },
    {
     "name": "stderr",
     "output_type": "stream",
     "text": [
      "Epoch 10/16: 100%|██████████| 192/192 [06:19<00:00,  1.98s/batch, accuracy=0.756, loss=0.538]  \n"
     ]
    },
    {
     "name": "stdout",
     "output_type": "stream",
     "text": [
      "[0.001]\n",
      "              precision    recall  f1-score   support\n",
      "\n",
      "           0       0.59      0.47      0.52       369\n",
      "           1       0.77      0.81      0.79       777\n",
      "           2       0.89      0.95      0.92       390\n",
      "\n",
      "    accuracy                           0.76      1536\n",
      "   macro avg       0.75      0.74      0.74      1536\n",
      "weighted avg       0.75      0.76      0.76      1536\n",
      "\n",
      "[[174 175  20]\n",
      " [121 628  28]\n",
      " [  2  17 371]]\n",
      "Epoch 10/16, Validation Loss: 0.5356, Validation Accuracy: 0.7637\n",
      "Best model saved!\n"
     ]
    },
    {
     "name": "stderr",
     "output_type": "stream",
     "text": [
      "Epoch 11/16: 100%|██████████| 192/192 [06:19<00:00,  1.98s/batch, accuracy=0.757, loss=0.543]  \n"
     ]
    },
    {
     "name": "stdout",
     "output_type": "stream",
     "text": [
      "[0.001]\n",
      "              precision    recall  f1-score   support\n",
      "\n",
      "           0       0.49      0.64      0.56       369\n",
      "           1       0.81      0.69      0.74       777\n",
      "           2       0.93      0.94      0.93       390\n",
      "\n",
      "    accuracy                           0.74      1536\n",
      "   macro avg       0.74      0.76      0.74      1536\n",
      "weighted avg       0.76      0.74      0.75      1536\n",
      "\n",
      "[[238 120  11]\n",
      " [227 533  17]\n",
      " [ 22   3 365]]\n",
      "Epoch 11/16, Validation Loss: 0.5334, Validation Accuracy: 0.7396\n"
     ]
    },
    {
     "name": "stderr",
     "output_type": "stream",
     "text": [
      "Epoch 12/16: 100%|██████████| 192/192 [06:19<00:00,  1.98s/batch, accuracy=0.759, loss=0.527]  \n"
     ]
    },
    {
     "name": "stdout",
     "output_type": "stream",
     "text": [
      "[0.001]\n",
      "              precision    recall  f1-score   support\n",
      "\n",
      "           0       0.61      0.44      0.51       369\n",
      "           1       0.74      0.88      0.81       777\n",
      "           2       0.98      0.89      0.93       390\n",
      "\n",
      "    accuracy                           0.78      1536\n",
      "   macro avg       0.78      0.74      0.75      1536\n",
      "weighted avg       0.77      0.78      0.77      1536\n",
      "\n",
      "[[161 205   3]\n",
      " [ 89 683   5]\n",
      " [ 12  31 347]]\n",
      "Epoch 12/16, Validation Loss: 0.5295, Validation Accuracy: 0.7754\n",
      "Best model saved!\n"
     ]
    },
    {
     "name": "stderr",
     "output_type": "stream",
     "text": [
      "Epoch 13/16: 100%|██████████| 192/192 [06:19<00:00,  1.98s/batch, accuracy=0.758, loss=0.539]  \n"
     ]
    },
    {
     "name": "stdout",
     "output_type": "stream",
     "text": [
      "[0.001]\n",
      "              precision    recall  f1-score   support\n",
      "\n",
      "           0       0.56      0.40      0.46       369\n",
      "           1       0.70      0.87      0.78       777\n",
      "           2       0.98      0.79      0.87       390\n",
      "\n",
      "    accuracy                           0.73      1536\n",
      "   macro avg       0.75      0.68      0.70      1536\n",
      "weighted avg       0.74      0.73      0.73      1536\n",
      "\n",
      "[[146 221   2]\n",
      " [ 99 675   3]\n",
      " [ 16  67 307]]\n",
      "Epoch 13/16, Validation Loss: 0.6386, Validation Accuracy: 0.7344\n"
     ]
    },
    {
     "name": "stderr",
     "output_type": "stream",
     "text": [
      "Epoch 14/16: 100%|██████████| 192/192 [06:19<00:00,  1.98s/batch, accuracy=0.758, loss=0.535]  \n"
     ]
    },
    {
     "name": "stdout",
     "output_type": "stream",
     "text": [
      "[0.001]\n",
      "              precision    recall  f1-score   support\n",
      "\n",
      "           0       0.54      0.47      0.50       369\n",
      "           1       0.75      0.82      0.78       777\n",
      "           2       0.97      0.90      0.93       390\n",
      "\n",
      "    accuracy                           0.76      1536\n",
      "   macro avg       0.75      0.73      0.74      1536\n",
      "weighted avg       0.75      0.76      0.75      1536\n",
      "\n",
      "[[172 192   5]\n",
      " [134 637   6]\n",
      " [ 13  26 351]]\n",
      "Epoch 14/16, Validation Loss: 0.5306, Validation Accuracy: 0.7552\n"
     ]
    },
    {
     "name": "stderr",
     "output_type": "stream",
     "text": [
      "Epoch 15/16: 100%|██████████| 192/192 [06:20<00:00,  1.98s/batch, accuracy=0.775, loss=0.517]  \n"
     ]
    },
    {
     "name": "stdout",
     "output_type": "stream",
     "text": [
      "[0.0001]\n",
      "              precision    recall  f1-score   support\n",
      "\n",
      "           0       0.63      0.37      0.47       369\n",
      "           1       0.73      0.90      0.81       777\n",
      "           2       0.97      0.90      0.93       390\n",
      "\n",
      "    accuracy                           0.77      1536\n",
      "   macro avg       0.78      0.72      0.74      1536\n",
      "weighted avg       0.77      0.77      0.76      1536\n",
      "\n",
      "[[137 225   7]\n",
      " [ 75 697   5]\n",
      " [  6  32 352]]\n",
      "Epoch 15/16, Validation Loss: 0.5107, Validation Accuracy: 0.7721\n"
     ]
    },
    {
     "name": "stderr",
     "output_type": "stream",
     "text": [
      "Epoch 16/16: 100%|██████████| 192/192 [06:20<00:00,  1.98s/batch, accuracy=0.786, loss=0.48]   \n"
     ]
    },
    {
     "name": "stdout",
     "output_type": "stream",
     "text": [
      "[0.0001]\n",
      "              precision    recall  f1-score   support\n",
      "\n",
      "           0       0.59      0.41      0.48       369\n",
      "           1       0.74      0.86      0.79       777\n",
      "           2       0.96      0.93      0.94       390\n",
      "\n",
      "    accuracy                           0.77      1536\n",
      "   macro avg       0.76      0.73      0.74      1536\n",
      "weighted avg       0.76      0.77      0.76      1536\n",
      "\n",
      "[[151 212   6]\n",
      " [101 666  10]\n",
      " [  5  22 363]]\n",
      "Epoch 16/16, Validation Loss: 0.4951, Validation Accuracy: 0.7682\n",
      "Finished Training\n",
      "Best validation accuracy: 0.7754\n"
     ]
    }
   ],
   "source": [
    "if __name__ == \"__main__\":\n",
    "    model = TunnedBlockStackNet8()\n",
    "    trainer = ClassificationBlockStackTrainer1(\n",
    "        csv_file = './COMP90086_2024_Project_train/train.csv', ##\n",
    "        img_dir='./COMP90086_2024_Project_train/train', ##\n",
    "        model=model,\n",
    "        test_size=0.2, # used to control the size of data in split_dataset(self)\n",
    "        num_epochs=16,\n",
    "        batch_size=32\n",
    "        )\n",
    "    trainer.train()\n",
    "        "
   ]
  },
  {
   "cell_type": "code",
   "execution_count": null,
   "metadata": {},
   "outputs": [],
   "source": []
  },
  {
   "cell_type": "code",
   "execution_count": 23,
   "metadata": {},
   "outputs": [
    {
     "ename": "NameError",
     "evalue": "name 'trainer' is not defined",
     "output_type": "error",
     "traceback": [
      "\u001b[0;31m---------------------------------------------------------------------------\u001b[0m",
      "\u001b[0;31mNameError\u001b[0m                                 Traceback (most recent call last)",
      "Cell \u001b[0;32mIn[23], line 1\u001b[0m\n\u001b[0;32m----> 1\u001b[0m train_ids \u001b[38;5;241m=\u001b[39m \u001b[43mtrainer\u001b[49m\u001b[38;5;241m.\u001b[39mtrain_ids\n\u001b[1;32m      2\u001b[0m valid_ids \u001b[38;5;241m=\u001b[39m trainer\u001b[38;5;241m.\u001b[39mvalid_ids\n",
      "\u001b[0;31mNameError\u001b[0m: name 'trainer' is not defined"
     ]
    }
   ],
   "source": [
    "train_ids = trainer.train_ids\n",
    "valid_ids = trainer.valid_ids"
   ]
  },
  {
   "cell_type": "code",
   "execution_count": 12,
   "metadata": {},
   "outputs": [
    {
     "name": "stdout",
     "output_type": "stream",
     "text": [
      "              precision    recall  f1-score   support\n",
      "\n",
      "           0       0.62      0.41      0.49       369\n",
      "           1       0.75      0.88      0.81       777\n",
      "           2       0.97      0.93      0.95       390\n",
      "\n",
      "    accuracy                           0.78      1536\n",
      "   macro avg       0.78      0.74      0.75      1536\n",
      "weighted avg       0.77      0.78      0.77      1536\n",
      "\n",
      "[[152 211   6]\n",
      " [ 88 683   6]\n",
      " [  7  19 364]]\n"
     ]
    }
   ],
   "source": [
    "val_loss,val_accuracy, all_labels, all_predictions = trainer.validate()"
   ]
  },
  {
   "cell_type": "code",
   "execution_count": 13,
   "metadata": {},
   "outputs": [
    {
     "data": {
      "text/plain": [
       "0.7805989583333334"
      ]
     },
     "execution_count": 13,
     "metadata": {},
     "output_type": "execute_result"
    }
   ],
   "source": [
    "comparison = map(lambda all_labels, all_predictions: all_labels == all_predictions, all_labels, all_predictions)\n",
    "sum(comparison)/len(all_labels)"
   ]
  },
  {
   "cell_type": "code",
   "execution_count": 14,
   "metadata": {},
   "outputs": [
    {
     "data": {
      "text/html": [
       "<div>\n",
       "<style scoped>\n",
       "    .dataframe tbody tr th:only-of-type {\n",
       "        vertical-align: middle;\n",
       "    }\n",
       "\n",
       "    .dataframe tbody tr th {\n",
       "        vertical-align: top;\n",
       "    }\n",
       "\n",
       "    .dataframe thead th {\n",
       "        text-align: right;\n",
       "    }\n",
       "</style>\n",
       "<table border=\"1\" class=\"dataframe\">\n",
       "  <thead>\n",
       "    <tr style=\"text-align: right;\">\n",
       "      <th></th>\n",
       "      <th>id</th>\n",
       "      <th>shapeset</th>\n",
       "      <th>type</th>\n",
       "      <th>total_height</th>\n",
       "      <th>instability_type</th>\n",
       "      <th>cam_angle</th>\n",
       "      <th>stable_height</th>\n",
       "    </tr>\n",
       "  </thead>\n",
       "  <tbody>\n",
       "    <tr>\n",
       "      <th>7334</th>\n",
       "      <td>956915</td>\n",
       "      <td>2</td>\n",
       "      <td>2</td>\n",
       "      <td>4</td>\n",
       "      <td>2</td>\n",
       "      <td>1</td>\n",
       "      <td>1</td>\n",
       "    </tr>\n",
       "    <tr>\n",
       "      <th>3955</th>\n",
       "      <td>516709</td>\n",
       "      <td>1</td>\n",
       "      <td>2</td>\n",
       "      <td>5</td>\n",
       "      <td>1</td>\n",
       "      <td>1</td>\n",
       "      <td>3</td>\n",
       "    </tr>\n",
       "    <tr>\n",
       "      <th>619</th>\n",
       "      <td>77447</td>\n",
       "      <td>1</td>\n",
       "      <td>2</td>\n",
       "      <td>5</td>\n",
       "      <td>1</td>\n",
       "      <td>1</td>\n",
       "      <td>3</td>\n",
       "    </tr>\n",
       "    <tr>\n",
       "      <th>1594</th>\n",
       "      <td>212770</td>\n",
       "      <td>2</td>\n",
       "      <td>2</td>\n",
       "      <td>4</td>\n",
       "      <td>2</td>\n",
       "      <td>1</td>\n",
       "      <td>1</td>\n",
       "    </tr>\n",
       "    <tr>\n",
       "      <th>5645</th>\n",
       "      <td>745098</td>\n",
       "      <td>2</td>\n",
       "      <td>2</td>\n",
       "      <td>6</td>\n",
       "      <td>1</td>\n",
       "      <td>1</td>\n",
       "      <td>4</td>\n",
       "    </tr>\n",
       "  </tbody>\n",
       "</table>\n",
       "</div>"
      ],
      "text/plain": [
       "          id  shapeset  type  total_height  instability_type  cam_angle  \\\n",
       "7334  956915         2     2             4                 2          1   \n",
       "3955  516709         1     2             5                 1          1   \n",
       "619    77447         1     2             5                 1          1   \n",
       "1594  212770         2     2             4                 2          1   \n",
       "5645  745098         2     2             6                 1          1   \n",
       "\n",
       "      stable_height  \n",
       "7334              1  \n",
       "3955              3  \n",
       "619               3  \n",
       "1594              1  \n",
       "5645              4  "
      ]
     },
     "execution_count": 14,
     "metadata": {},
     "output_type": "execute_result"
    }
   ],
   "source": [
    "val_data = trainer.val_data\n",
    "val_data.head()"
   ]
  },
  {
   "cell_type": "code",
   "execution_count": null,
   "metadata": {},
   "outputs": [],
   "source": []
  },
  {
   "cell_type": "code",
   "execution_count": 15,
   "metadata": {},
   "outputs": [
    {
     "name": "stderr",
     "output_type": "stream",
     "text": [
      "/var/folders/gk/b497571d49ndglvgyk5sb53h0000gn/T/ipykernel_37333/1695572929.py:1: SettingWithCopyWarning: \n",
      "A value is trying to be set on a copy of a slice from a DataFrame.\n",
      "Try using .loc[row_indexer,col_indexer] = value instead\n",
      "\n",
      "See the caveats in the documentation: https://pandas.pydata.org/pandas-docs/stable/user_guide/indexing.html#returning-a-view-versus-a-copy\n",
      "  val_data['predicted'] = all_predictions\n"
     ]
    },
    {
     "data": {
      "text/html": [
       "<div>\n",
       "<style scoped>\n",
       "    .dataframe tbody tr th:only-of-type {\n",
       "        vertical-align: middle;\n",
       "    }\n",
       "\n",
       "    .dataframe tbody tr th {\n",
       "        vertical-align: top;\n",
       "    }\n",
       "\n",
       "    .dataframe thead th {\n",
       "        text-align: right;\n",
       "    }\n",
       "</style>\n",
       "<table border=\"1\" class=\"dataframe\">\n",
       "  <thead>\n",
       "    <tr style=\"text-align: right;\">\n",
       "      <th></th>\n",
       "      <th>id</th>\n",
       "      <th>shapeset</th>\n",
       "      <th>type</th>\n",
       "      <th>total_height</th>\n",
       "      <th>instability_type</th>\n",
       "      <th>cam_angle</th>\n",
       "      <th>stable_height</th>\n",
       "      <th>predicted</th>\n",
       "    </tr>\n",
       "  </thead>\n",
       "  <tbody>\n",
       "    <tr>\n",
       "      <th>7334</th>\n",
       "      <td>956915</td>\n",
       "      <td>2</td>\n",
       "      <td>2</td>\n",
       "      <td>4</td>\n",
       "      <td>2</td>\n",
       "      <td>1</td>\n",
       "      <td>1</td>\n",
       "      <td>2</td>\n",
       "    </tr>\n",
       "    <tr>\n",
       "      <th>3955</th>\n",
       "      <td>516709</td>\n",
       "      <td>1</td>\n",
       "      <td>2</td>\n",
       "      <td>5</td>\n",
       "      <td>1</td>\n",
       "      <td>1</td>\n",
       "      <td>3</td>\n",
       "      <td>1</td>\n",
       "    </tr>\n",
       "    <tr>\n",
       "      <th>619</th>\n",
       "      <td>77447</td>\n",
       "      <td>1</td>\n",
       "      <td>2</td>\n",
       "      <td>5</td>\n",
       "      <td>1</td>\n",
       "      <td>1</td>\n",
       "      <td>3</td>\n",
       "      <td>1</td>\n",
       "    </tr>\n",
       "    <tr>\n",
       "      <th>1594</th>\n",
       "      <td>212770</td>\n",
       "      <td>2</td>\n",
       "      <td>2</td>\n",
       "      <td>4</td>\n",
       "      <td>2</td>\n",
       "      <td>1</td>\n",
       "      <td>1</td>\n",
       "      <td>2</td>\n",
       "    </tr>\n",
       "    <tr>\n",
       "      <th>5645</th>\n",
       "      <td>745098</td>\n",
       "      <td>2</td>\n",
       "      <td>2</td>\n",
       "      <td>6</td>\n",
       "      <td>1</td>\n",
       "      <td>1</td>\n",
       "      <td>4</td>\n",
       "      <td>1</td>\n",
       "    </tr>\n",
       "  </tbody>\n",
       "</table>\n",
       "</div>"
      ],
      "text/plain": [
       "          id  shapeset  type  total_height  instability_type  cam_angle  \\\n",
       "7334  956915         2     2             4                 2          1   \n",
       "3955  516709         1     2             5                 1          1   \n",
       "619    77447         1     2             5                 1          1   \n",
       "1594  212770         2     2             4                 2          1   \n",
       "5645  745098         2     2             6                 1          1   \n",
       "\n",
       "      stable_height  predicted  \n",
       "7334              1          2  \n",
       "3955              3          1  \n",
       "619               3          1  \n",
       "1594              1          2  \n",
       "5645              4          1  "
      ]
     },
     "execution_count": 15,
     "metadata": {},
     "output_type": "execute_result"
    }
   ],
   "source": [
    "val_data['predicted'] = all_predictions\n",
    "val_data.head()"
   ]
  },
  {
   "cell_type": "code",
   "execution_count": 16,
   "metadata": {},
   "outputs": [
    {
     "name": "stderr",
     "output_type": "stream",
     "text": [
      "/var/folders/gk/b497571d49ndglvgyk5sb53h0000gn/T/ipykernel_37333/3086623943.py:1: SettingWithCopyWarning: \n",
      "A value is trying to be set on a copy of a slice from a DataFrame.\n",
      "Try using .loc[row_indexer,col_indexer] = value instead\n",
      "\n",
      "See the caveats in the documentation: https://pandas.pydata.org/pandas-docs/stable/user_guide/indexing.html#returning-a-view-versus-a-copy\n",
      "  val_data['pred_type'] = val_data['predicted'] == val_data['instability_type']\n"
     ]
    },
    {
     "data": {
      "text/html": [
       "<div>\n",
       "<style scoped>\n",
       "    .dataframe tbody tr th:only-of-type {\n",
       "        vertical-align: middle;\n",
       "    }\n",
       "\n",
       "    .dataframe tbody tr th {\n",
       "        vertical-align: top;\n",
       "    }\n",
       "\n",
       "    .dataframe thead th {\n",
       "        text-align: right;\n",
       "    }\n",
       "</style>\n",
       "<table border=\"1\" class=\"dataframe\">\n",
       "  <thead>\n",
       "    <tr style=\"text-align: right;\">\n",
       "      <th></th>\n",
       "      <th>id</th>\n",
       "      <th>shapeset</th>\n",
       "      <th>type</th>\n",
       "      <th>total_height</th>\n",
       "      <th>instability_type</th>\n",
       "      <th>cam_angle</th>\n",
       "      <th>stable_height</th>\n",
       "      <th>predicted</th>\n",
       "      <th>pred_type</th>\n",
       "    </tr>\n",
       "  </thead>\n",
       "  <tbody>\n",
       "    <tr>\n",
       "      <th>7334</th>\n",
       "      <td>956915</td>\n",
       "      <td>2</td>\n",
       "      <td>2</td>\n",
       "      <td>4</td>\n",
       "      <td>2</td>\n",
       "      <td>1</td>\n",
       "      <td>1</td>\n",
       "      <td>2</td>\n",
       "      <td>True</td>\n",
       "    </tr>\n",
       "    <tr>\n",
       "      <th>3955</th>\n",
       "      <td>516709</td>\n",
       "      <td>1</td>\n",
       "      <td>2</td>\n",
       "      <td>5</td>\n",
       "      <td>1</td>\n",
       "      <td>1</td>\n",
       "      <td>3</td>\n",
       "      <td>1</td>\n",
       "      <td>True</td>\n",
       "    </tr>\n",
       "    <tr>\n",
       "      <th>619</th>\n",
       "      <td>77447</td>\n",
       "      <td>1</td>\n",
       "      <td>2</td>\n",
       "      <td>5</td>\n",
       "      <td>1</td>\n",
       "      <td>1</td>\n",
       "      <td>3</td>\n",
       "      <td>1</td>\n",
       "      <td>True</td>\n",
       "    </tr>\n",
       "    <tr>\n",
       "      <th>1594</th>\n",
       "      <td>212770</td>\n",
       "      <td>2</td>\n",
       "      <td>2</td>\n",
       "      <td>4</td>\n",
       "      <td>2</td>\n",
       "      <td>1</td>\n",
       "      <td>1</td>\n",
       "      <td>2</td>\n",
       "      <td>True</td>\n",
       "    </tr>\n",
       "    <tr>\n",
       "      <th>5645</th>\n",
       "      <td>745098</td>\n",
       "      <td>2</td>\n",
       "      <td>2</td>\n",
       "      <td>6</td>\n",
       "      <td>1</td>\n",
       "      <td>1</td>\n",
       "      <td>4</td>\n",
       "      <td>1</td>\n",
       "      <td>True</td>\n",
       "    </tr>\n",
       "  </tbody>\n",
       "</table>\n",
       "</div>"
      ],
      "text/plain": [
       "          id  shapeset  type  total_height  instability_type  cam_angle  \\\n",
       "7334  956915         2     2             4                 2          1   \n",
       "3955  516709         1     2             5                 1          1   \n",
       "619    77447         1     2             5                 1          1   \n",
       "1594  212770         2     2             4                 2          1   \n",
       "5645  745098         2     2             6                 1          1   \n",
       "\n",
       "      stable_height  predicted  pred_type  \n",
       "7334              1          2       True  \n",
       "3955              3          1       True  \n",
       "619               3          1       True  \n",
       "1594              1          2       True  \n",
       "5645              4          1       True  "
      ]
     },
     "execution_count": 16,
     "metadata": {},
     "output_type": "execute_result"
    }
   ],
   "source": [
    "val_data['pred_type'] = val_data['predicted'] == val_data['instability_type']\n",
    "val_data.head()"
   ]
  },
  {
   "cell_type": "code",
   "execution_count": 18,
   "metadata": {},
   "outputs": [
    {
     "data": {
      "text/plain": [
       "0.7805989583333334"
      ]
     },
     "execution_count": 18,
     "metadata": {},
     "output_type": "execute_result"
    }
   ],
   "source": [
    "len(val_data[val_data['predicted']== val_data['instability_type']])/len(valid_ids[0])"
   ]
  },
  {
   "cell_type": "code",
   "execution_count": 88,
   "metadata": {},
   "outputs": [
    {
     "data": {
      "text/plain": [
       "0.64453125"
      ]
     },
     "execution_count": 88,
     "metadata": {},
     "output_type": "execute_result"
    }
   ],
   "source": [
    "val_data['pred_type'].sum()/len(val_data)"
   ]
  },
  {
   "cell_type": "code",
   "execution_count": 91,
   "metadata": {},
   "outputs": [
    {
     "data": {
      "text/plain": [
       "instability_type\n",
       "0    369\n",
       "1    777\n",
       "2    390\n",
       "Name: pred_type, dtype: int64"
      ]
     },
     "execution_count": 91,
     "metadata": {},
     "output_type": "execute_result"
    }
   ],
   "source": [
    "val_data.groupby('instability_type').pred_type.count()"
   ]
  },
  {
   "cell_type": "code",
   "execution_count": 22,
   "metadata": {},
   "outputs": [
    {
     "data": {
      "text/plain": [
       "shapeset\n",
       "1    0.812734\n",
       "2    0.763473\n",
       "Name: pred_type, dtype: float64"
      ]
     },
     "execution_count": 22,
     "metadata": {},
     "output_type": "execute_result"
    }
   ],
   "source": [
    "val_data.groupby('shapeset').pred_type.sum()/val_data.groupby('shapeset').pred_type.count()"
   ]
  },
  {
   "cell_type": "code",
   "execution_count": 21,
   "metadata": {},
   "outputs": [
    {
     "data": {
      "text/plain": [
       "type\n",
       "1    0.821756\n",
       "2    0.739974\n",
       "Name: pred_type, dtype: float64"
      ]
     },
     "execution_count": 21,
     "metadata": {},
     "output_type": "execute_result"
    }
   ],
   "source": [
    "val_data.groupby('type').pred_type.sum()/val_data.groupby('type').pred_type.count()"
   ]
  },
  {
   "cell_type": "code",
   "execution_count": 20,
   "metadata": {},
   "outputs": [
    {
     "data": {
      "text/plain": [
       "instability_type\n",
       "0    0.411924\n",
       "1    0.879022\n",
       "2    0.933333\n",
       "Name: pred_type, dtype: float64"
      ]
     },
     "execution_count": 20,
     "metadata": {},
     "output_type": "execute_result"
    }
   ],
   "source": [
    "val_data.groupby('instability_type').pred_type.sum()/val_data.groupby('instability_type').pred_type.count()"
   ]
  },
  {
   "cell_type": "code",
   "execution_count": 23,
   "metadata": {},
   "outputs": [
    {
     "data": {
      "text/plain": [
       "cam_angle\n",
       "1    0.802426\n",
       "2    0.714660\n",
       "Name: pred_type, dtype: float64"
      ]
     },
     "execution_count": 23,
     "metadata": {},
     "output_type": "execute_result"
    }
   ],
   "source": [
    "val_data.groupby('cam_angle').pred_type.sum()/val_data.groupby('cam_angle').pred_type.count()"
   ]
  },
  {
   "cell_type": "code",
   "execution_count": 3,
   "metadata": {},
   "outputs": [
    {
     "data": {
      "text/html": [
       "<div>\n",
       "<style scoped>\n",
       "    .dataframe tbody tr th:only-of-type {\n",
       "        vertical-align: middle;\n",
       "    }\n",
       "\n",
       "    .dataframe tbody tr th {\n",
       "        vertical-align: top;\n",
       "    }\n",
       "\n",
       "    .dataframe thead th {\n",
       "        text-align: right;\n",
       "    }\n",
       "</style>\n",
       "<table border=\"1\" class=\"dataframe\">\n",
       "  <thead>\n",
       "    <tr style=\"text-align: right;\">\n",
       "      <th></th>\n",
       "      <th>id</th>\n",
       "      <th>shapeset</th>\n",
       "      <th>type</th>\n",
       "      <th>total_height</th>\n",
       "      <th>instability_type</th>\n",
       "      <th>cam_angle</th>\n",
       "      <th>stable_height</th>\n",
       "    </tr>\n",
       "  </thead>\n",
       "  <tbody>\n",
       "    <tr>\n",
       "      <th>0</th>\n",
       "      <td>54</td>\n",
       "      <td>2</td>\n",
       "      <td>1</td>\n",
       "      <td>3</td>\n",
       "      <td>1</td>\n",
       "      <td>1</td>\n",
       "      <td>2</td>\n",
       "    </tr>\n",
       "    <tr>\n",
       "      <th>1</th>\n",
       "      <td>173</td>\n",
       "      <td>1</td>\n",
       "      <td>1</td>\n",
       "      <td>4</td>\n",
       "      <td>1</td>\n",
       "      <td>2</td>\n",
       "      <td>1</td>\n",
       "    </tr>\n",
       "    <tr>\n",
       "      <th>2</th>\n",
       "      <td>245</td>\n",
       "      <td>1</td>\n",
       "      <td>1</td>\n",
       "      <td>4</td>\n",
       "      <td>1</td>\n",
       "      <td>2</td>\n",
       "      <td>1</td>\n",
       "    </tr>\n",
       "    <tr>\n",
       "      <th>3</th>\n",
       "      <td>465</td>\n",
       "      <td>2</td>\n",
       "      <td>1</td>\n",
       "      <td>5</td>\n",
       "      <td>0</td>\n",
       "      <td>1</td>\n",
       "      <td>5</td>\n",
       "    </tr>\n",
       "    <tr>\n",
       "      <th>4</th>\n",
       "      <td>611</td>\n",
       "      <td>2</td>\n",
       "      <td>1</td>\n",
       "      <td>3</td>\n",
       "      <td>1</td>\n",
       "      <td>1</td>\n",
       "      <td>1</td>\n",
       "    </tr>\n",
       "  </tbody>\n",
       "</table>\n",
       "</div>"
      ],
      "text/plain": [
       "    id  shapeset  type  total_height  instability_type  cam_angle  \\\n",
       "0   54         2     1             3                 1          1   \n",
       "1  173         1     1             4                 1          2   \n",
       "2  245         1     1             4                 1          2   \n",
       "3  465         2     1             5                 0          1   \n",
       "4  611         2     1             3                 1          1   \n",
       "\n",
       "   stable_height  \n",
       "0              2  \n",
       "1              1  \n",
       "2              1  \n",
       "3              5  \n",
       "4              1  "
      ]
     },
     "execution_count": 3,
     "metadata": {},
     "output_type": "execute_result"
    }
   ],
   "source": [
    "import pandas as pd\n",
    "df = pd.read_csv('./COMP90086_2024_Project_train/train.csv')\n",
    "df.head()"
   ]
  },
  {
   "cell_type": "code",
   "execution_count": 6,
   "metadata": {},
   "outputs": [
    {
     "data": {
      "text/html": [
       "<div>\n",
       "<style scoped>\n",
       "    .dataframe tbody tr th:only-of-type {\n",
       "        vertical-align: middle;\n",
       "    }\n",
       "\n",
       "    .dataframe tbody tr th {\n",
       "        vertical-align: top;\n",
       "    }\n",
       "\n",
       "    .dataframe thead th {\n",
       "        text-align: right;\n",
       "    }\n",
       "</style>\n",
       "<table border=\"1\" class=\"dataframe\">\n",
       "  <thead>\n",
       "    <tr style=\"text-align: right;\">\n",
       "      <th></th>\n",
       "      <th>id</th>\n",
       "      <th>shapeset</th>\n",
       "      <th>type</th>\n",
       "      <th>total_height</th>\n",
       "      <th>cam_angle</th>\n",
       "      <th>stable_height</th>\n",
       "    </tr>\n",
       "    <tr>\n",
       "      <th>instability_type</th>\n",
       "      <th></th>\n",
       "      <th></th>\n",
       "      <th></th>\n",
       "      <th></th>\n",
       "      <th></th>\n",
       "      <th></th>\n",
       "    </tr>\n",
       "  </thead>\n",
       "  <tbody>\n",
       "    <tr>\n",
       "      <th>0</th>\n",
       "      <td>1920</td>\n",
       "      <td>1920</td>\n",
       "      <td>1920</td>\n",
       "      <td>1920</td>\n",
       "      <td>1920</td>\n",
       "      <td>1920</td>\n",
       "    </tr>\n",
       "    <tr>\n",
       "      <th>1</th>\n",
       "      <td>3840</td>\n",
       "      <td>3840</td>\n",
       "      <td>3840</td>\n",
       "      <td>3840</td>\n",
       "      <td>3840</td>\n",
       "      <td>3840</td>\n",
       "    </tr>\n",
       "    <tr>\n",
       "      <th>2</th>\n",
       "      <td>1920</td>\n",
       "      <td>1920</td>\n",
       "      <td>1920</td>\n",
       "      <td>1920</td>\n",
       "      <td>1920</td>\n",
       "      <td>1920</td>\n",
       "    </tr>\n",
       "  </tbody>\n",
       "</table>\n",
       "</div>"
      ],
      "text/plain": [
       "                    id  shapeset  type  total_height  cam_angle  stable_height\n",
       "instability_type                                                              \n",
       "0                 1920      1920  1920          1920       1920           1920\n",
       "1                 3840      3840  3840          3840       3840           3840\n",
       "2                 1920      1920  1920          1920       1920           1920"
      ]
     },
     "execution_count": 6,
     "metadata": {},
     "output_type": "execute_result"
    }
   ],
   "source": [
    "df.groupby('instability_type').count()"
   ]
  },
  {
   "cell_type": "code",
   "execution_count": 10,
   "metadata": {},
   "outputs": [
    {
     "name": "stderr",
     "output_type": "stream",
     "text": [
      "/var/folders/gk/b497571d49ndglvgyk5sb53h0000gn/T/ipykernel_67928/1284981419.py:1: FutureWarning: You are using `torch.load` with `weights_only=False` (the current default value), which uses the default pickle module implicitly. It is possible to construct malicious pickle data which will execute arbitrary code during unpickling (See https://github.com/pytorch/pytorch/blob/main/SECURITY.md#untrusted-models for more details). In a future release, the default value for `weights_only` will be flipped to `True`. This limits the functions that could be executed during unpickling. Arbitrary objects will no longer be allowed to be loaded via this mode unless they are explicitly allowlisted by the user via `torch.serialization.add_safe_globals`. We recommend you start setting `weights_only=True` for any use case where you don't have full control of the loaded file. Please open an issue on GitHub for any issues related to this experimental feature.\n",
      "  best_model = torch.load('./runs/experiment_20241012-010838/best_model.pth')\n"
     ]
    }
   ],
   "source": [
    "best_model = torch.load('./runs/experiment_20241012-010838/best_model.pth')"
   ]
  },
  {
   "cell_type": "code",
   "execution_count": 15,
   "metadata": {},
   "outputs": [
    {
     "name": "stderr",
     "output_type": "stream",
     "text": [
      "/var/folders/gk/b497571d49ndglvgyk5sb53h0000gn/T/ipykernel_67928/1886415100.py:1: FutureWarning: You are using `torch.load` with `weights_only=False` (the current default value), which uses the default pickle module implicitly. It is possible to construct malicious pickle data which will execute arbitrary code during unpickling (See https://github.com/pytorch/pytorch/blob/main/SECURITY.md#untrusted-models for more details). In a future release, the default value for `weights_only` will be flipped to `True`. This limits the functions that could be executed during unpickling. Arbitrary objects will no longer be allowed to be loaded via this mode unless they are explicitly allowlisted by the user via `torch.serialization.add_safe_globals`. We recommend you start setting `weights_only=True` for any use case where you don't have full control of the loaded file. Please open an issue on GitHub for any issues related to this experimental feature.\n",
      "  best_model = torch.load('./runs/experiment_20241012-010838/best_model.pth',map_location=torch.device('cpu'))\n"
     ]
    },
    {
     "ename": "AttributeError",
     "evalue": "'collections.OrderedDict' object has no attribute 'eval'",
     "output_type": "error",
     "traceback": [
      "\u001b[0;31m---------------------------------------------------------------------------\u001b[0m",
      "\u001b[0;31mAttributeError\u001b[0m                            Traceback (most recent call last)",
      "Cell \u001b[0;32mIn[15], line 2\u001b[0m\n\u001b[1;32m      1\u001b[0m best_model \u001b[38;5;241m=\u001b[39m torch\u001b[38;5;241m.\u001b[39mload(\u001b[38;5;124m'\u001b[39m\u001b[38;5;124m./runs/experiment_20241012-010838/best_model.pth\u001b[39m\u001b[38;5;124m'\u001b[39m,map_location\u001b[38;5;241m=\u001b[39mtorch\u001b[38;5;241m.\u001b[39mdevice(\u001b[38;5;124m'\u001b[39m\u001b[38;5;124mcpu\u001b[39m\u001b[38;5;124m'\u001b[39m))\n\u001b[0;32m----> 2\u001b[0m best_model\u001b[38;5;241m.\u001b[39meval()\n",
      "\u001b[0;31mAttributeError\u001b[0m: 'collections.OrderedDict' object has no attribute 'eval'"
     ]
    }
   ],
   "source": [
    "best_model = torch.load('./runs/experiment_20241012-010838/best_model.pth',map_location=torch.device('cpu'))\n",
    "best_model.eval()"
   ]
  },
  {
   "cell_type": "markdown",
   "metadata": {},
   "source": [
    "# Load Model"
   ]
  },
  {
   "cell_type": "markdown",
   "metadata": {},
   "source": [
    "Test Model\n",
    "\n",
    "Net8, epoch = 8, no batch_size defined"
   ]
  },
  {
   "cell_type": "code",
   "execution_count": 13,
   "metadata": {
    "colab": {
     "base_uri": "https://localhost:8080/"
    },
    "collapsed": true,
    "id": "q39AMlmH_3fn",
    "jupyter": {
     "outputs_hidden": true
    },
    "outputId": "f009ffad-9b8d-4a78-eaa4-cb942caa4ba2"
   },
   "outputs": [
    {
     "name": "stderr",
     "output_type": "stream",
     "text": [
      "Downloading: \"https://download.pytorch.org/models/googlenet-1378be20.pth\" to /Users/macbookpro/.cache/torch/hub/checkpoints/googlenet-1378be20.pth\n",
      "100%|██████████| 49.7M/49.7M [00:03<00:00, 14.0MB/s]\n"
     ]
    },
    {
     "name": "stdout",
     "output_type": "stream",
     "text": [
      "Train dataset size: 6144 Validation dataset size: 1536\n"
     ]
    },
    {
     "name": "stderr",
     "output_type": "stream",
     "text": [
      "Epoch 1/8: 100%|██████████| 192/192 [06:38<00:00,  2.07s/batch, accuracy=0.274, loss=1.58]   \n"
     ]
    },
    {
     "name": "stdout",
     "output_type": "stream",
     "text": [
      "[0.001]\n",
      "              precision    recall  f1-score   support\n",
      "\n",
      "           0       0.49      0.42      0.45       384\n",
      "           1       0.38      0.45      0.41       384\n",
      "           2       0.30      0.62      0.41       307\n",
      "           3       0.25      0.06      0.09       230\n",
      "           4       0.26      0.12      0.16       154\n",
      "           5       0.00      0.00      0.00        77\n",
      "\n",
      "    accuracy                           0.36      1536\n",
      "   macro avg       0.28      0.28      0.25      1536\n",
      "weighted avg       0.34      0.36      0.33      1536\n",
      "\n",
      "[[161 134  78   4   7   0]\n",
      " [ 70 172 132   4   6   0]\n",
      " [ 26  71 191  12   7   0]\n",
      " [ 28  47 124  13  18   0]\n",
      " [ 32  12  76  16  18   0]\n",
      " [ 13  11  35   4  14   0]]\n",
      "Epoch 1/8, Validation Loss: 1.5266, Validation Accuracy: 0.3613\n",
      "Best model saved!\n"
     ]
    },
    {
     "name": "stderr",
     "output_type": "stream",
     "text": [
      "Epoch 2/8: 100%|██████████| 192/192 [06:44<00:00,  2.11s/batch, accuracy=0.363, loss=1.45]   \n"
     ]
    },
    {
     "name": "stdout",
     "output_type": "stream",
     "text": [
      "[0.001]\n",
      "              precision    recall  f1-score   support\n",
      "\n",
      "           0       0.43      0.63      0.51       384\n",
      "           1       0.81      0.17      0.28       384\n",
      "           2       0.42      0.39      0.40       307\n",
      "           3       0.33      0.28      0.30       230\n",
      "           4       0.22      0.57      0.31       154\n",
      "           5       0.00      0.00      0.00        77\n",
      "\n",
      "    accuracy                           0.38      1536\n",
      "   macro avg       0.37      0.34      0.30      1536\n",
      "weighted avg       0.46      0.38      0.35      1536\n",
      "\n",
      "[[242  10  35  32  65   0]\n",
      " [145  64  79  29  67   0]\n",
      " [ 91   5 119  35  57   0]\n",
      " [ 53   0  44  65  68   0]\n",
      " [ 28   0   5  33  88   0]\n",
      " [  6   0   3   5  63   0]]\n",
      "Epoch 2/8, Validation Loss: 1.4068, Validation Accuracy: 0.3763\n",
      "Best model saved!\n"
     ]
    },
    {
     "name": "stderr",
     "output_type": "stream",
     "text": [
      "Epoch 3/8: 100%|██████████| 192/192 [06:37<00:00,  2.07s/batch, accuracy=0.417, loss=1.38]   \n"
     ]
    },
    {
     "name": "stdout",
     "output_type": "stream",
     "text": [
      "[0.001]\n",
      "              precision    recall  f1-score   support\n",
      "\n",
      "           0       0.66      0.39      0.49       384\n",
      "           1       0.60      0.41      0.49       384\n",
      "           2       0.41      0.61      0.49       307\n",
      "           3       0.38      0.45      0.41       230\n",
      "           4       0.29      0.56      0.38       154\n",
      "           5       0.29      0.03      0.05        77\n",
      "\n",
      "    accuracy                           0.45      1536\n",
      "   macro avg       0.44      0.41      0.38      1536\n",
      "weighted avg       0.50      0.45      0.44      1536\n",
      "\n",
      "[[151  64  77  48  44   0]\n",
      " [ 36 157 112  37  40   2]\n",
      " [ 12  22 188  50  34   1]\n",
      " [ 11   7  59 104  48   1]\n",
      " [ 11   6  19  30  87   1]\n",
      " [  9   4   5   7  50   2]]\n",
      "Epoch 3/8, Validation Loss: 1.3109, Validation Accuracy: 0.4486\n",
      "Best model saved!\n"
     ]
    },
    {
     "name": "stderr",
     "output_type": "stream",
     "text": [
      "Epoch 4/8: 100%|██████████| 192/192 [06:59<00:00,  2.18s/batch, accuracy=0.437, loss=1.33]   \n"
     ]
    },
    {
     "name": "stdout",
     "output_type": "stream",
     "text": [
      "[0.001]\n",
      "              precision    recall  f1-score   support\n",
      "\n",
      "           0       0.45      0.67      0.54       384\n",
      "           1       0.51      0.55      0.53       384\n",
      "           2       0.57      0.38      0.45       307\n",
      "           3       0.48      0.34      0.40       230\n",
      "           4       0.31      0.35      0.33       154\n",
      "           5       0.00      0.00      0.00        77\n",
      "\n",
      "    accuracy                           0.47      1536\n",
      "   macro avg       0.39      0.38      0.38      1536\n",
      "weighted avg       0.46      0.47      0.45      1536\n",
      "\n",
      "[[259  80  19  14  11   1]\n",
      " [103 213  39  10  18   1]\n",
      " [ 67  65 116  35  23   1]\n",
      " [ 72  20  28  78  32   0]\n",
      " [ 52  23   2  23  54   0]\n",
      " [ 24  14   1   4  34   0]]\n",
      "Epoch 4/8, Validation Loss: 1.2569, Validation Accuracy: 0.4688\n",
      "Best model saved!\n"
     ]
    },
    {
     "name": "stderr",
     "output_type": "stream",
     "text": [
      "Epoch 5/8: 100%|██████████| 192/192 [06:57<00:00,  2.17s/batch, accuracy=0.461, loss=1.3]    \n"
     ]
    },
    {
     "name": "stdout",
     "output_type": "stream",
     "text": [
      "[0.001]\n",
      "              precision    recall  f1-score   support\n",
      "\n",
      "           0       0.52      0.74      0.61       384\n",
      "           1       0.68      0.37      0.48       384\n",
      "           2       0.46      0.52      0.49       307\n",
      "           3       0.45      0.45      0.45       230\n",
      "           4       0.32      0.45      0.38       154\n",
      "           5       0.00      0.00      0.00        77\n",
      "\n",
      "    accuracy                           0.49      1536\n",
      "   macro avg       0.41      0.42      0.40      1536\n",
      "weighted avg       0.50      0.49      0.48      1536\n",
      "\n",
      "[[283  34  36  12  19   0]\n",
      " [ 97 143  91  24  29   0]\n",
      " [ 69  12 159  43  24   0]\n",
      " [ 46   6  37 103  38   0]\n",
      " [ 30   5  13  36  70   0]\n",
      " [ 16   9   6   9  37   0]]\n",
      "Epoch 5/8, Validation Loss: 1.2357, Validation Accuracy: 0.4935\n",
      "Best model saved!\n"
     ]
    },
    {
     "name": "stderr",
     "output_type": "stream",
     "text": [
      "Epoch 6/8: 100%|██████████| 192/192 [06:43<00:00,  2.10s/batch, accuracy=0.487, loss=1.26]   \n"
     ]
    },
    {
     "name": "stdout",
     "output_type": "stream",
     "text": [
      "[0.001]\n",
      "              precision    recall  f1-score   support\n",
      "\n",
      "           0       0.77      0.38      0.51       384\n",
      "           1       0.69      0.51      0.58       384\n",
      "           2       0.53      0.53      0.53       307\n",
      "           3       0.42      0.47      0.44       230\n",
      "           4       0.25      0.69      0.37       154\n",
      "           5       0.12      0.12      0.12        77\n",
      "\n",
      "    accuracy                           0.47      1536\n",
      "   macro avg       0.46      0.45      0.43      1536\n",
      "weighted avg       0.56      0.47      0.49      1536\n",
      "\n",
      "[[147  52  53  45  80   7]\n",
      " [ 23 194  65  32  46  24]\n",
      " [  6  17 162  56  51  15]\n",
      " [  9   5  19 109  84   4]\n",
      " [  6   6   6  17 106  13]\n",
      " [  1   8   0   1  58   9]]\n",
      "Epoch 6/8, Validation Loss: 1.3388, Validation Accuracy: 0.4733\n"
     ]
    },
    {
     "name": "stderr",
     "output_type": "stream",
     "text": [
      "Epoch 7/8: 100%|██████████| 192/192 [06:46<00:00,  2.12s/batch, accuracy=0.49, loss=1.22]    \n"
     ]
    },
    {
     "name": "stdout",
     "output_type": "stream",
     "text": [
      "[0.001]\n",
      "              precision    recall  f1-score   support\n",
      "\n",
      "           0       0.44      0.70      0.54       384\n",
      "           1       0.51      0.58      0.54       384\n",
      "           2       0.48      0.23      0.31       307\n",
      "           3       0.42      0.33      0.37       230\n",
      "           4       0.40      0.38      0.39       154\n",
      "           5       0.31      0.05      0.09        77\n",
      "\n",
      "    accuracy                           0.46      1536\n",
      "   macro avg       0.43      0.38      0.37      1536\n",
      "weighted avg       0.45      0.46      0.43      1536\n",
      "\n",
      "[[268  78  14  18   6   0]\n",
      " [103 222  22  20  15   2]\n",
      " [ 72 101  71  47  14   2]\n",
      " [ 66  20  33  76  35   0]\n",
      " [ 63   7   5  15  59   5]\n",
      " [ 38   9   4   3  19   4]]\n",
      "Epoch 7/8, Validation Loss: 1.3688, Validation Accuracy: 0.4557\n"
     ]
    },
    {
     "name": "stderr",
     "output_type": "stream",
     "text": [
      "Epoch 8/8: 100%|██████████| 192/192 [06:54<00:00,  2.16s/batch, accuracy=0.515, loss=1.2]    \n"
     ]
    },
    {
     "name": "stdout",
     "output_type": "stream",
     "text": [
      "[0.001]\n",
      "              precision    recall  f1-score   support\n",
      "\n",
      "           0       0.64      0.58      0.61       384\n",
      "           1       0.60      0.60      0.60       384\n",
      "           2       0.48      0.57      0.52       307\n",
      "           3       0.47      0.50      0.49       230\n",
      "           4       0.36      0.36      0.36       154\n",
      "           5       0.26      0.13      0.17        77\n",
      "\n",
      "    accuracy                           0.53      1536\n",
      "   macro avg       0.47      0.46      0.46      1536\n",
      "weighted avg       0.52      0.53      0.52      1536\n",
      "\n",
      "[[223  80  40  29  10   2]\n",
      " [ 47 231  71  18  14   3]\n",
      " [ 21  49 174  41  20   2]\n",
      " [ 24   8  48 116  28   6]\n",
      " [ 23   7  17  36  55  16]\n",
      " [ 12  10  13   7  25  10]]\n",
      "Epoch 8/8, Validation Loss: 1.1596, Validation Accuracy: 0.5267\n",
      "Best model saved!\n",
      "Finished Training\n",
      "Best validation accuracy: 0.5267\n"
     ]
    }
   ],
   "source": [
    "if __name__ == \"__main__\":\n",
    "    model = TunnedBlockStackNet8()\n",
    "    trainer = ClassificationBlockStackTrainer1(\n",
    "        # csv_file = '/content/drive/MyDrive/CV final project/train data/train.csv', ##\n",
    "        # img_dir='/content/drive/MyDrive/CV final project/train data/train', ##\n",
    "        csv_file = './COMP90086_2024_Project_train/train.csv', ##\n",
    "        img_dir='./COMP90086_2024_Project_train/train', ##\n",
    "        model=model,\n",
    "        test_size=0.2, # used to control the size of data in split_dataset(self)\n",
    "        num_epochs=8,\n",
    "        #batch_size=32\n",
    "        )\n",
    "    trainer.train()"
   ]
  }
 ],
 "metadata": {
  "accelerator": "GPU",
  "colab": {
   "gpuType": "A100",
   "machine_shape": "hm",
   "provenance": []
  },
  "kernelspec": {
   "display_name": "Python 3 (ipykernel)",
   "language": "python",
   "name": "python3"
  },
  "language_info": {
   "codemirror_mode": {
    "name": "ipython",
    "version": 3
   },
   "file_extension": ".py",
   "mimetype": "text/x-python",
   "name": "python",
   "nbconvert_exporter": "python",
   "pygments_lexer": "ipython3",
   "version": "3.12.3"
  }
 },
 "nbformat": 4,
 "nbformat_minor": 4
}
