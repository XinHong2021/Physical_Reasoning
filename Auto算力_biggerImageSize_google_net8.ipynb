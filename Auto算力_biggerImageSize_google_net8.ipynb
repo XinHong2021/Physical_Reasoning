{
 "cells": [
  {
   "cell_type": "code",
   "execution_count": 1,
   "metadata": {
    "id": "HWaiSBwEkz8V"
   },
   "outputs": [],
   "source": [
    "import os\n",
    "import pandas as pd\n",
    "import numpy as np\n",
    "from datetime import datetime as datatime\n",
    "from pathlib import Path\n",
    "import torch\n",
    "import torch.nn as nn\n",
    "from PIL import Image\n",
    "import torch.optim as optim\n",
    "from torchvision import transforms\n",
    "from torchvision import models\n",
    "from torch.optim.lr_scheduler import StepLR\n",
    "\n",
    "from torch.utils.data import Dataset\n",
    "from torch.utils.data import DataLoader\n",
    "from torch.utils.tensorboard import SummaryWriter\n",
    "\n",
    "from sklearn.model_selection import train_test_split\n",
    "from sklearn.metrics import accuracy_score,f1_score,precision_score,recall_score,confusion_matrix,classification_report\n",
    "from sklearn.model_selection import StratifiedShuffleSplit\n",
    "from sklearn.model_selection import train_test_split\n",
    "from sklearn.utils import resample\n",
    "\n",
    "from tqdm import tqdm\n"
   ]
  },
  {
   "cell_type": "code",
   "execution_count": 10,
   "metadata": {},
   "outputs": [
    {
     "name": "stdout",
     "output_type": "stream",
     "text": [
      "Files extracted to COMP90086_2024_Project_train\n",
      "Files extracted to COMP90086_2024_Project_test\n"
     ]
    }
   ],
   "source": [
    "import zipfile\n",
    "import os\n",
    "\n",
    "# 要解压的 zip 文件路径\n",
    "train_zip = ('./COMP90086_2024_Project_train.zip')\n",
    "test_zip = ('./COMP90086_2024_Project_test.zip')\n",
    "\n",
    "# 解压后的目标文件夹（如果不存在则创建）\n",
    "train_folder = 'COMP90086_2024_Project_train'\n",
    "os.makedirs(train_folder, exist_ok=True)\n",
    "test_folder = 'COMP90086_2024_Project_test'\n",
    "os.makedirs(test_folder, exist_ok=True)\n",
    "\n",
    "# 打开并解压 zip 文件\n",
    "\n",
    "with zipfile.ZipFile(train_zip, 'r') as zip_ref:\n",
    "    zip_ref.extractall(train_folder)\n",
    "\n",
    "with zipfile.ZipFile(test_zip, 'r') as zip_ref:\n",
    "    zip_ref.extractall(test_folder)\n",
    "    \n",
    "print(f\"Files extracted to {train_folder}\")\n",
    "print(f\"Files extracted to {test_folder}\")"
   ]
  },
  {
   "cell_type": "code",
   "execution_count": 11,
   "metadata": {},
   "outputs": [],
   "source": [
    "csv_path = './COMP90086_2024_Project_train/train.csv'\n",
    "img_dir = './COMP90086_2024_Project_train/train'"
   ]
  },
  {
   "cell_type": "markdown",
   "metadata": {
    "id": "k25H8iyjtQzN"
   },
   "source": [
    "## The data set file path is defined here."
   ]
  },
  {
   "cell_type": "code",
   "execution_count": 12,
   "metadata": {
    "id": "vwhixF45mZlT"
   },
   "outputs": [],
   "source": [
    "import os\n",
    "import pandas as pd\n",
    "import torch\n",
    "from torch.utils.data import Dataset\n",
    "from torchvision import transforms\n",
    "from PIL import Image\n",
    "\n",
    "'''\n",
    "In this function block, the funciton is defined to do\n",
    "1. def__init__() : get the image from the trainning data path\n",
    "2. def __len__() : get the size of hte dataset\n",
    "3. def __getitem__() : get the ralated image the correct dataset\n",
    "'''\n",
    "class BlockStackDataset(Dataset):\n",
    "  '''\n",
    "  Return the image and its label. If not access or not exist, raise error.\n",
    "  '''\n",
    "  def __init__(self, data_frame, img_dir, transform = None):\n",
    "    self.data_frame = data_frame\n",
    "    self.img_dir = img_dir\n",
    "    self.transform = transform\n",
    "\n",
    "    if not os.path.exists(self.img_dir):\n",
    "      raise ValueError(f\"File path {self.img_dir} not exisits!\")\n",
    "    if not os.access(self.img_dir, os.R_OK):\n",
    "      raise ValueError(f\"File path {self.img_dir} is not readable!\")\n",
    "  '''\n",
    "  Return the size of the dataset\n",
    "  '''\n",
    "  def __len__(self):\n",
    "    return len(self.data_frame)\n",
    "\n",
    "  '''\n",
    "  Read the image and according to its id, get the related data in the train.csv.\n",
    "\n",
    "  Then return the corresponding image , stable_height, instability_type dataset provided.\n",
    "  '''\n",
    "  def __getitem__(self, idx):\n",
    "    img_name = os.path.join(self.img_dir, str(self.data_frame.iloc[idx, 0])) # the first column in the train == image name\n",
    "    image = Image.open(img_name + \".jpg\")\n",
    "    label = self.data_frame.iloc[idx,-1] # stable_height/instability_type\n",
    "    # print(\"image id: \", self.data_frame.iloc[idx,0])\n",
    "    # print(\"Whole line: \", self.data_frame.iloc[idx,:].tolist())\n",
    "\n",
    "    if self.transform:\n",
    "      image = self.transform(image)\n",
    "\n",
    "    return image, label\n",
    "\n"
   ]
  },
  {
   "cell_type": "code",
   "execution_count": 13,
   "metadata": {},
   "outputs": [],
   "source": [
    "class FineTunedGoogLeNet(nn.Module):\n",
    "    def __init__(self):\n",
    "        super(FineTunedGoogLeNet, self).__init__()\n",
    "        # load the pre-trained model: gogglenet\n",
    "        self.googlenet = models.googlenet(weights = models.GoogLeNet_Weights.IMAGENET1K_V1)\n",
    "\n",
    "        num_ftrs = self.googlenet.fc.in_features\n",
    "        self.googlenet.fc = nn.Identity()\n",
    "\n",
    "        self.fc = nn.Sequential(\n",
    "            nn.Linear(num_ftrs, 256),\n",
    "            nn.ReLU(),\n",
    "            nn.Dropout(0.25),\n",
    "            nn.Linear(256, 128),\n",
    "            nn.ReLU(),\n",
    "            nn.Dropout(0.25),\n",
    "            nn.Linear(128, 6)\n",
    "\n",
    "        )\n",
    "    def forward(self, x):\n",
    "      x = self.googlenet(x)\n",
    "      x = self.fc(x)\n",
    "      return x"
   ]
  },
  {
   "cell_type": "code",
   "execution_count": 14,
   "metadata": {},
   "outputs": [
    {
     "data": {
      "text/html": [
       "<div>\n",
       "<style scoped>\n",
       "    .dataframe tbody tr th:only-of-type {\n",
       "        vertical-align: middle;\n",
       "    }\n",
       "\n",
       "    .dataframe tbody tr th {\n",
       "        vertical-align: top;\n",
       "    }\n",
       "\n",
       "    .dataframe thead th {\n",
       "        text-align: right;\n",
       "    }\n",
       "</style>\n",
       "<table border=\"1\" class=\"dataframe\">\n",
       "  <thead>\n",
       "    <tr style=\"text-align: right;\">\n",
       "      <th></th>\n",
       "      <th>id</th>\n",
       "      <th>shapeset</th>\n",
       "      <th>type</th>\n",
       "      <th>total_height</th>\n",
       "      <th>instability_type</th>\n",
       "      <th>cam_angle</th>\n",
       "      <th>stable_height</th>\n",
       "    </tr>\n",
       "  </thead>\n",
       "  <tbody>\n",
       "    <tr>\n",
       "      <th>0</th>\n",
       "      <td>54</td>\n",
       "      <td>2</td>\n",
       "      <td>1</td>\n",
       "      <td>3</td>\n",
       "      <td>1</td>\n",
       "      <td>1</td>\n",
       "      <td>2</td>\n",
       "    </tr>\n",
       "    <tr>\n",
       "      <th>1</th>\n",
       "      <td>173</td>\n",
       "      <td>1</td>\n",
       "      <td>1</td>\n",
       "      <td>4</td>\n",
       "      <td>1</td>\n",
       "      <td>2</td>\n",
       "      <td>1</td>\n",
       "    </tr>\n",
       "    <tr>\n",
       "      <th>2</th>\n",
       "      <td>245</td>\n",
       "      <td>1</td>\n",
       "      <td>1</td>\n",
       "      <td>4</td>\n",
       "      <td>1</td>\n",
       "      <td>2</td>\n",
       "      <td>1</td>\n",
       "    </tr>\n",
       "    <tr>\n",
       "      <th>3</th>\n",
       "      <td>465</td>\n",
       "      <td>2</td>\n",
       "      <td>1</td>\n",
       "      <td>5</td>\n",
       "      <td>0</td>\n",
       "      <td>1</td>\n",
       "      <td>5</td>\n",
       "    </tr>\n",
       "    <tr>\n",
       "      <th>4</th>\n",
       "      <td>611</td>\n",
       "      <td>2</td>\n",
       "      <td>1</td>\n",
       "      <td>3</td>\n",
       "      <td>1</td>\n",
       "      <td>1</td>\n",
       "      <td>1</td>\n",
       "    </tr>\n",
       "  </tbody>\n",
       "</table>\n",
       "</div>"
      ],
      "text/plain": [
       "    id  shapeset  type  total_height  instability_type  cam_angle  \\\n",
       "0   54         2     1             3                 1          1   \n",
       "1  173         1     1             4                 1          2   \n",
       "2  245         1     1             4                 1          2   \n",
       "3  465         2     1             5                 0          1   \n",
       "4  611         2     1             3                 1          1   \n",
       "\n",
       "   stable_height  \n",
       "0              2  \n",
       "1              1  \n",
       "2              1  \n",
       "3              5  \n",
       "4              1  "
      ]
     },
     "execution_count": 14,
     "metadata": {},
     "output_type": "execute_result"
    }
   ],
   "source": [
    "df = pd.read_csv('./COMP90086_2024_Project_train/train.csv')\n",
    "df.head()"
   ]
  },
  {
   "cell_type": "markdown",
   "metadata": {
    "id": "2GACK9K_uPnV"
   },
   "source": [
    "## Trainner"
   ]
  },
  {
   "cell_type": "code",
   "execution_count": 15,
   "metadata": {
    "id": "NfTZbRKSxh2C"
   },
   "outputs": [],
   "source": [
    "'''\n",
    "The function here helps to create the logs recording the experiment results.\n",
    "'''\n",
    "def create_log_dir():\n",
    "  current_time = datatime.now().strftime(\"%Y%m%d-%H%M%S\")\n",
    "  # log_dir = f'/content/drive/MyDrive/CV final project/runs/experiment_{current_time}'\n",
    "  # solution_dir = f'/content/drive/MyDrive/CV final project/trained_models/experiment_{current_time}'\n",
    "\n",
    "  log_dir = f'./runs/experiment_{current_time}'\n",
    "  solution_dir = f'./runs/experiment_{current_time}'\n",
    "  if not os.path.exists(log_dir):\n",
    "    os.makedirs(log_dir)\n",
    "\n",
    "  if not os.path.exists(solution_dir):\n",
    "    os.makedirs(solution_dir)\n",
    "\n",
    "  return log_dir, solution_dir\n"
   ]
  },
  {
   "cell_type": "code",
   "execution_count": 30,
   "metadata": {
    "id": "7ox5LZ7Aage0"
   },
   "outputs": [],
   "source": [
    "\n",
    "# Define models: googlenet\n",
    "\n",
    "class TunnedBlockStackNet8(nn.Module):\n",
    "    def __init__(self):\n",
    "        super(TunnedBlockStackNet8, self).__init__()\n",
    "        # load the pre-trained model: gogglenet\n",
    "        self.googlenet = models.googlenet(weights = models.GoogLeNet_Weights.IMAGENET1K_V1)\n",
    "\n",
    "        num_ftrs = self.googlenet.fc.in_features\n",
    "        self.googlenet.fc = nn.Identity()\n",
    "\n",
    "        self.fc = nn.Sequential(\n",
    "            nn.Linear(num_ftrs, 512),\n",
    "            nn.ReLU(),\n",
    "            nn.Dropout(0.25),\n",
    "            nn.Linear(512, 256),\n",
    "            nn.ReLU(),\n",
    "            nn.Dropout(0.25),\n",
    "            nn.Linear(256, 128),\n",
    "            nn.ReLU(),\n",
    "            nn.Dropout(0.50),\n",
    "            nn.Linear(128, 6)\n",
    "\n",
    "        )\n",
    "    def forward(self, x):\n",
    "      x = self.googlenet(x)\n",
    "      x = self.fc(x)\n",
    "      return x"
   ]
  },
  {
   "cell_type": "code",
   "execution_count": null,
   "metadata": {},
   "outputs": [],
   "source": []
  },
  {
   "cell_type": "code",
   "execution_count": 40,
   "metadata": {
    "id": "R3ipvbupjF6v"
   },
   "outputs": [
    {
     "ename": "IndentationError",
     "evalue": "unindent does not match any outer indentation level (<string>, line 68)",
     "output_type": "error",
     "traceback": [
      "\u001b[0;36m  File \u001b[0;32m<string>:68\u001b[0;36m\u001b[0m\n\u001b[0;31m    def dynamic_oversamp(self, num_epoch):\u001b[0m\n\u001b[0m                                          ^\u001b[0m\n\u001b[0;31mIndentationError\u001b[0m\u001b[0;31m:\u001b[0m unindent does not match any outer indentation level\n"
     ]
    }
   ],
   "source": [
    "class ClassificationBlockStackTrainer1:\n",
    "  '''\n",
    "  The function here helps to initalize the parameters used in the models and pre-process the image\n",
    "  '''\n",
    "  def __init__(self, csv_path, img_dir, model, stratify_column='stable_height', test_size=0.2,\n",
    "                 batch_size=32, num_epochs=10, learning_rate=0.001,random_state=42):\n",
    "        self.img_dir = img_dir\n",
    "        self.stratify_column = stratify_column\n",
    "        self.test_size = test_size\n",
    "        self.batch_size = batch_size\n",
    "        self.num_epochs = num_epochs\n",
    "        self.learning_rate = learning_rate\n",
    "        self.model = model\n",
    "\n",
    "        # load the train dataset\n",
    "        self.data_frame = pd.read_csv(csv_path)\n",
    "\n",
    "        # split data into train and validation dataset\n",
    "        self.train_data, self.val_data, self.train_ids, self.valid_ids = self.split_dataset()\n",
    "\n",
    "        hard_df = self.train_data[(self.train_data['type']==2) &\n",
    "                                  (self.train_data['instability_type']==0)]\n",
    "\n",
    "        oversample_hard = resample(hard_df,replace=True,n_samples=500)\n",
    "\n",
    "        hard_df2 = self.train_data[(self.train_data['type']==2) &\n",
    "                                  (self.train_data['instability_type']==1)]\n",
    "        oversample_hard2 = resample(hard_df2,replace=True,n_samples=500)\n",
    "\n",
    "        hard_df3 = self.train_data[(self.train_data['type']==2) &\n",
    "                                  (self.train_data['instability_type']==2)]\n",
    "\n",
    "        oversample_hard3 = resample(hard_df3,replace=True,n_samples=200)\n",
    "        \n",
    "        conca_df = pd.concat([self.train_data,oversample_hard,oversample_hard2, oversample_hard3])\n",
    "       # self.train_data = conca_df\n",
    "        # 打乱顺序\n",
    "        self.train_data = conca_df.sample(frac=1)\n",
    "\n",
    "        # pre-processing the images\n",
    "        self.transform = transforms.Compose([\n",
    "            # transforms.Resize((512, 512)),\n",
    "\n",
    "              #ADD MORE TRANSFORM METHODS HERE\n",
    "\n",
    "            transforms.RandomHorizontalFlip(),## ADDDED\n",
    "            transforms.RandomAffine(degrees=0, translate=(0.1, 0.1), scale=(0.9, 1.1)), ## ADDDED\n",
    "            transforms.ColorJitter(brightness=0.4, contrast=0.4, saturation=0.4, hue=0.2),## ADDDED\n",
    "            transforms.ToTensor(),\n",
    "            transforms.Normalize(mean=[0.485, 0.456, 0.406], std=[0.229, 0.224, 0.225])\n",
    "        ])\n",
    "\n",
    "\n",
    "        self.train_loader = self.create_dataloader(self.train_data, self.transform)\n",
    "        self.val_loader = self.create_dataloader(self.val_data, self.transform, shuffle=False)\n",
    "\n",
    "\n",
    "        # use the gpu\n",
    "        self.device = torch.device(\"cuda:0\" if torch.cuda.is_available() else \"cpu\")\n",
    "        self.model.to(self.device)\n",
    "\n",
    "        # set the loss weight\n",
    "        '''\n",
    "        Changed some thing here : to see the results\n",
    "        1. add the class_weights to each class labels with different weights,\n",
    "           more lables occurece with lower weight, few label occurence with higher weight;\n",
    "           without the weights, all the labels will be treated equally.\n",
    "\n",
    "        2. used to apply L2 regularization (also called weight decay).\n",
    "        The primary purpose of weight decay is to prevent overfitting by penalizing large weights.\n",
    "         It adds a penalty to the loss function based on the size of the weights\n",
    "         helps it generalize better to unseen data.\n",
    "         Lnew = Lold + weight_decay * sum(weight^2)\n",
    "\n",
    "        3. add scheduler to Reduces the learning rate after every step_size epochs.\n",
    "          After every 4 epochs, the learning rate will be multiplied by gamma (0.1 here), reducing it by 90%.\n",
    "        '''\n",
    "        class_weights = torch.tensor([100/25 , 100/25, 100/20,  100/15, 100/10,  100/5], device= self.device)\n",
    "        self.criterion = nn.CrossEntropyLoss(weight=class_weights) # CrossEntropy for multi categorical-label predication\n",
    "        self.criterion = nn.CrossEntropyLoss()\n",
    "        self.optimizer = optim.Adam(self.model.parameters(), lr=self.learning_rate , weight_decay=0.0001)\n",
    "        self.scheduler = optim.lr_scheduler.StepLR(self.optimizer, step_size = 15, gamma=0.1)\n",
    "\n",
    "\n",
    "    def dynamic_oversamp(self):\n",
    "        if epoch % 3 == 0:\n",
    "            over_random = 333\n",
    "        else epoch % 3 == 1:\n",
    "            over_random == 111\n",
    "        else:\n",
    "            over_random = 222\n",
    "            \n",
    "        hard_df = self.train_data[(self.train_data['type']==2) &\n",
    "                                  (self.train_data['instability_type']==0)]\n",
    "\n",
    "        oversample_hard = resample(hard_df,replace=True,n_samples=500, random)\n",
    "\n",
    "        hard_df2 = self.train_data[(self.train_data['type']==2) &\n",
    "                                  (self.train_data['instability_type']==1)]\n",
    "        oversample_hard2 = resample(hard_df2,replace=True,n_samples=500)\n",
    "\n",
    "        hard_df3 = self.train_data[(self.train_data['type']==2) &\n",
    "                                  (self.train_data['instability_type']==2)]\n",
    "\n",
    "        oversample_hard3 = resample(hard_df3,replace=True,n_samples=200)\n",
    "        \n",
    "        conca_df = pd.concat([self.train_data,oversample_hard,oversample_hard2, oversample_hard3])\n",
    "       # self.train_data = conca_df\n",
    "        # 打乱顺序\n",
    "        self.train_data = conca_df.sample(frac=1)\n",
    "  '''\n",
    "  The function helps to split the data set into the training and validation dataset according to the\n",
    "  size pre-determined.\n",
    "  '''\n",
    "\n",
    "  def split_dataset(self):\n",
    "    split = StratifiedShuffleSplit(n_splits=1, test_size=self.test_size, random_state=42)\n",
    "    train_ids = []\n",
    "    valid_ids = []\n",
    "    for train_idx, val_idx in split.split(self.data_frame, self.data_frame[self.stratify_column]):\n",
    "      train_data = self.data_frame.iloc[train_idx]\n",
    "      val_data = self.data_frame.iloc[val_idx]\n",
    "      train_ids.append(train_idx)\n",
    "      valid_ids.append(val_idx)\n",
    "    print(f\"Train dataset size: {len(train_data)}\",\n",
    "       f\"Validation dataset size: {len(val_data)}\",\n",
    "       f\"length of train_ids{(len(train_ids))}\",\n",
    "       f\"length of valid_ids{(len(valid_ids))}\")\n",
    "    return train_data, val_data, train_ids, valid_ids\n",
    "\n",
    "\n",
    "  '''\n",
    "  The function helps to loda the image\n",
    "  '''\n",
    "  def create_dataloader(self, data_frame, transform, shuffle=True):\n",
    "    dataset = BlockStackDataset(data_frame, self.img_dir, transform=transform) # transform 可以用来数据增强\n",
    "    return DataLoader(dataset, batch_size=self.batch_size, shuffle=shuffle)\n",
    "\n",
    "\n",
    "  def generate_classification_report(self, outputs, labels):\n",
    "    predicted = outputs # 'outputs' is already a numpy array after prediction\n",
    "    labels = labels\n",
    "    print(classification_report(labels, predicted, zero_division=0))\n",
    "\n",
    "\n",
    "\n",
    "  def calculate_confusion_matrix(self, outputs, labels):\n",
    "    predicted = outputs\n",
    "    labels = labels\n",
    "    matrix = confusion_matrix(labels, predicted)\n",
    "    print(matrix)\n",
    "\n",
    "\n",
    "  def validate(self):\n",
    "    self.model.eval()\n",
    "    val_loss = 0.0\n",
    "    correct_predictions = 0\n",
    "    total_samples = 0\n",
    "    all_labels = []  # add all the lables\n",
    "    all_predictions = []  # add all the prediction\n",
    "\n",
    "    with torch.no_grad():\n",
    "        for inputs, labels in self.val_loader:\n",
    "            inputs, labels = inputs.to(self.device), labels.to(self.device).long()\n",
    "            labels = labels - 1\n",
    "            outputs = self.model(inputs)\n",
    "            predicted = torch.argmax(outputs, 1)\n",
    "\n",
    "            # collecting all the lables and predictions\n",
    "            all_labels.extend(labels.cpu().numpy())\n",
    "            all_predictions.extend(predicted.cpu().numpy())\n",
    "\n",
    "            # calculate the loss\n",
    "            loss = self.criterion(outputs, labels)\n",
    "            val_loss += loss.item()\n",
    "\n",
    "            # calculate the correct predication\n",
    "            correct_predictions += (predicted == labels).sum().item()\n",
    "            total_samples += labels.size(0)\n",
    "\n",
    "    # calculate the accuracy rate\n",
    "    val_accuracy = correct_predictions / total_samples\n",
    "    self.generate_classification_report(np.array(all_predictions), np.array(all_labels))\n",
    "    self.calculate_confusion_matrix(np.array(all_predictions), np.array(all_labels))\n",
    "    return val_loss/len(self.val_loader),val_accuracy, all_labels, all_predictions\n",
    "\n",
    "\n",
    "  '''\n",
    "  The function here is used as the main training function on the image by using the pre-definned models in\n",
    "  hte first model class.\n",
    "  '''\n",
    "\n",
    "  def train(self):\n",
    "      _, solution_dir = create_log_dir()\n",
    "\n",
    "      best_val_accuracy = 0.0\n",
    "      for epoch in range(self.num_epochs):\n",
    "          self.model.train()\n",
    "          running_loss = 0.0\n",
    "          running_accuracy = 0.0\n",
    "\n",
    "          # monitor the process\n",
    "          with tqdm(self.train_loader, unit=\"batch\") as tepoch:\n",
    "              tepoch.set_description(f\"Epoch {epoch + 1}/{self.num_epochs}\")\n",
    "\n",
    "              for inputs, labels in tepoch:\n",
    "                  inputs, labels = inputs.to(self.device), labels.to(self.device).long()\n",
    "                  labels = labels - 1\n",
    "\n",
    "                  #forward propagation\n",
    "                  self.optimizer.zero_grad()\n",
    "                  raw_outputs = self.model(inputs)\n",
    "                  loss = self.criterion(raw_outputs, labels)  # loss calculation\n",
    "\n",
    "                  loss.backward()  # backward propagation\n",
    "                  self.optimizer.step()\n",
    "\n",
    "                  #Loss calculating\n",
    "                  running_loss += loss.item()\n",
    "                  _, predicted = torch.max(raw_outputs, 1)\n",
    "                  accuracy = (predicted == labels).sum().item()/ labels.size(0)\n",
    "                  running_accuracy += accuracy\n",
    "                  tepoch.set_postfix(loss=running_loss / len(self.train_loader),\n",
    "                            accuracy=running_accuracy / len(self.train_loader))\n",
    "\n",
    "\n",
    "\n",
    "          self.scheduler.step()\n",
    "          print(self.scheduler.get_last_lr())\n",
    "\n",
    "\n",
    "          val_loss,val_accuracy, all_labels, all_predictions = self.validate()\n",
    "          print(f\"Epoch {epoch + 1}/{self.num_epochs}, Validation Loss: {val_loss:.4f}, Validation Accuracy: {val_accuracy:.4f}\")\n",
    "\n",
    "          if val_accuracy > best_val_accuracy:\n",
    "              best_val_accuracy = val_accuracy\n",
    "              torch.save(self.model.state_dict(), f'{solution_dir}/best_model.pth')\n",
    "              current_time = datatime.now().strftime(\"%Y%m%d-%H%M\")\n",
    "              print('Best model saved!', current_time)\n",
    "\n",
    "      print('Finished Training')\n",
    "      print(f'Best validation accuracy: {best_val_accuracy:.4f}')\n",
    "\n"
   ]
  },
  {
   "cell_type": "code",
   "execution_count": null,
   "metadata": {},
   "outputs": [],
   "source": []
  },
  {
   "cell_type": "code",
   "execution_count": 35,
   "metadata": {},
   "outputs": [],
   "source": [
    "class ContinueTrainer:\n",
    "  '''\n",
    "  The function here helps to initalize the parameters used in the models and pre-process the image\n",
    "  '''\n",
    "  def __init__(self, model_path, model, \n",
    "                csv_path, img_dir, \n",
    "                stratify_column='stable_height', \n",
    "                test_size=0.2,\n",
    "                batch_size=32, num_epochs=10, learning_rate=0.001 ,random_state=42):\n",
    "        self.img_dir = img_dir\n",
    "        self.stratify_column = stratify_column\n",
    "        self.test_size = test_size\n",
    "        self.batch_size = batch_size\n",
    "        self.num_epochs = num_epochs\n",
    "        self.learning_rate = learning_rate\n",
    "\n",
    "        self.model = model\n",
    "        self.model_path = model_path\n",
    "        \n",
    "        self.device = torch.device('cuda' if torch.cuda.is_available() else 'cpu')\n",
    "        self.model.to(self.device)\n",
    "        self.model = self.load_model()\n",
    "\n",
    "        # load the train dataset\n",
    "        self.data_frame = pd.read_csv(csv_path)\n",
    "\n",
    "        # split data into train and validation dataset\n",
    "        self.train_data, self.val_data, self.train_ids, self.valid_ids = self.split_dataset()\n",
    "\n",
    "       #  hard_df = self.train_data[(self.train_data['type']==2) &\n",
    "       #                            (self.train_data['instability_type']==0)]\n",
    "\n",
    "       #  oversample_hard = resample(hard_df,replace=True,n_samples=500)\n",
    "\n",
    "       #  hard_df2 = self.train_data[(self.train_data['type']==2) &\n",
    "       #                            (self.train_data['instability_type']==1)]\n",
    "       #  oversample_hard2 = resample(hard_df2,replace=True,n_samples=200)\n",
    "\n",
    "       #  hard_df3 = self.train_data[(self.train_data['type']==2) &\n",
    "       #                            (self.train_data['instability_type']==2)]\n",
    "\n",
    "       #  oversample_hard3 = resample(hard_df3,replace=True,n_samples=50)\n",
    "        \n",
    "       #  conca_df = pd.concat([self.train_data,oversample_hard,oversample_hard2, oversample_hard3])\n",
    "       # # self.train_data = conca_df\n",
    "       #  # 打乱顺序\n",
    "       #  self.train_data = conca_df.sample(frac=1)\n",
    "\n",
    "        # pre-processing the images\n",
    "        self.transform = transforms.Compose([\n",
    "            # transforms.Resize((512, 512)),\n",
    "\n",
    "              #ADD MORE TRANSFORM METHODS HERE\n",
    "\n",
    "            transforms.RandomHorizontalFlip(),## ADDDED\n",
    "            transforms.RandomAffine(degrees=0, translate=(0.1, 0.1), scale=(0.9, 1.1)), ## ADDDED\n",
    "            transforms.ColorJitter(brightness=0.4, contrast=0.4, saturation=0.4, hue=0.2),## ADDDED\n",
    "            transforms.ToTensor(),\n",
    "            transforms.Normalize(mean=[0.485, 0.456, 0.406], std=[0.229, 0.224, 0.225])\n",
    "        ])\n",
    "\n",
    "\n",
    "        self.train_loader = self.create_dataloader(self.train_data, self.transform)\n",
    "        self.val_loader = self.create_dataloader(self.val_data, self.transform, shuffle=False)\n",
    "\n",
    "\n",
    "        # set the loss weight\n",
    "        '''\n",
    "        Changed some thing here : to see the results\n",
    "        1. add the class_weights to each class labels with different weights,\n",
    "           more lables occurece with lower weight, few label occurence with higher weight;\n",
    "           without the weights, all the labels will be treated equally.\n",
    "\n",
    "        2. used to apply L2 regularization (also called weight decay).\n",
    "        The primary purpose of weight decay is to prevent overfitting by penalizing large weights.\n",
    "         It adds a penalty to the loss function based on the size of the weights\n",
    "         helps it generalize better to unseen data.\n",
    "         Lnew = Lold + weight_decay * sum(weight^2)\n",
    "\n",
    "        3. add scheduler to Reduces the learning rate after every step_size epochs.\n",
    "          After every 4 epochs, the learning rate will be multiplied by gamma (0.1 here), reducing it by 90%.\n",
    "        '''\n",
    "        class_weights = torch.tensor([100/25 , 100/25, 100/20,  100/15, 100/10,  100/5], device= self.device)\n",
    "        self.criterion = nn.CrossEntropyLoss(weight=class_weights) # CrossEntropy for multi categorical-label predication\n",
    "        self.criterion = nn.CrossEntropyLoss()\n",
    "        self.optimizer = optim.Adam(self.model.parameters(), lr=self.learning_rate , weight_decay=0.0001)\n",
    "        self.scheduler = optim.lr_scheduler.StepLR(self.optimizer, step_size = 10, gamma=0.15)\n",
    "\n",
    "  def load_model(self):\n",
    "    self.model.load_state_dict(torch.load(self.model_path, map_location=self.device))\n",
    "    return self.model\n",
    "\n",
    "  '''\n",
    "  The function helps to split the data set into the training and validation dataset according to the\n",
    "  size pre-determined.\n",
    "  '''\n",
    "\n",
    "  def split_dataset(self):\n",
    "    split = StratifiedShuffleSplit(n_splits=1, test_size=self.test_size, random_state=42)\n",
    "    train_ids = []\n",
    "    valid_ids = []\n",
    "    for train_idx, val_idx in split.split(self.data_frame, self.data_frame[self.stratify_column]):\n",
    "      train_data = self.data_frame.iloc[train_idx]\n",
    "      val_data = self.data_frame.iloc[val_idx]\n",
    "      train_ids.append(train_idx)\n",
    "      valid_ids.append(val_idx)\n",
    "    print(f\"Train dataset size: {len(train_data)}\",\n",
    "       f\"Validation dataset size: {len(val_data)}\",\n",
    "       f\"length of train_ids{(len(train_ids))}\",\n",
    "       f\"length of valid_ids{(len(valid_ids))}\")\n",
    "    return train_data, val_data, train_ids, valid_ids\n",
    "\n",
    "\n",
    "  '''\n",
    "  The function helps to loda the image\n",
    "  '''\n",
    "  def create_dataloader(self, data_frame, transform, shuffle=True):\n",
    "    dataset = BlockStackDataset(data_frame, self.img_dir, transform=transform) # transform 可以用来数据增强\n",
    "    return DataLoader(dataset, batch_size=self.batch_size, shuffle=shuffle)\n",
    "\n",
    "\n",
    "  def generate_classification_report(self, outputs, labels):\n",
    "    predicted = outputs # 'outputs' is already a numpy array after prediction\n",
    "    labels = labels\n",
    "    print(classification_report(labels, predicted, zero_division=0))\n",
    "\n",
    "\n",
    "\n",
    "  def calculate_confusion_matrix(self, outputs, labels):\n",
    "    predicted = outputs\n",
    "    labels = labels\n",
    "    matrix = confusion_matrix(labels, predicted)\n",
    "    print(matrix)\n",
    "\n",
    "\n",
    "  def validate(self):\n",
    "    self.model.eval()\n",
    "    val_loss = 0.0\n",
    "    correct_predictions = 0\n",
    "    total_samples = 0\n",
    "    all_labels = []  # add all the lables\n",
    "    all_predictions = []  # add all the prediction\n",
    "\n",
    "    with torch.no_grad():\n",
    "        for inputs, labels in self.val_loader:\n",
    "            inputs, labels = inputs.to(self.device), labels.to(self.device).long()\n",
    "            labels = labels - 1\n",
    "            outputs = self.model(inputs)\n",
    "            predicted = torch.argmax(outputs, 1)\n",
    "\n",
    "            # collecting all the lables and predictions\n",
    "            all_labels.extend(labels.cpu().numpy())\n",
    "            all_predictions.extend(predicted.cpu().numpy())\n",
    "\n",
    "            # calculate the loss\n",
    "            loss = self.criterion(outputs, labels)\n",
    "            val_loss += loss.item()\n",
    "\n",
    "            # calculate the correct predication\n",
    "            correct_predictions += (predicted == labels).sum().item()\n",
    "            total_samples += labels.size(0)\n",
    "\n",
    "    # calculate the accuracy rate\n",
    "    val_accuracy = correct_predictions / total_samples\n",
    "    self.generate_classification_report(np.array(all_predictions), np.array(all_labels))\n",
    "    self.calculate_confusion_matrix(np.array(all_predictions), np.array(all_labels))\n",
    "    return val_loss/len(self.val_loader),val_accuracy, all_labels, all_predictions\n",
    "\n",
    "\n",
    "  '''\n",
    "  The function here is used as the main training function on the image by using the pre-definned models in\n",
    "  hte first model class.\n",
    "  '''\n",
    "\n",
    "  def train(self):\n",
    "      _, solution_dir = create_log_dir()\n",
    "\n",
    "      best_val_accuracy = 0.0\n",
    "      for epoch in range(self.num_epochs):\n",
    "          self.model.train()\n",
    "          running_loss = 0.0\n",
    "          running_accuracy = 0.0\n",
    "\n",
    "          # monitor the process\n",
    "          with tqdm(self.train_loader, unit=\"batch\") as tepoch:\n",
    "              tepoch.set_description(f\"Epoch {epoch + 1}/{self.num_epochs}\")\n",
    "\n",
    "              for inputs, labels in tepoch:\n",
    "                  inputs, labels = inputs.to(self.device), labels.to(self.device).long()\n",
    "                  labels = labels - 1\n",
    "\n",
    "                  #forward propagation\n",
    "                  self.optimizer.zero_grad()\n",
    "                  raw_outputs = self.model(inputs)\n",
    "                  loss = self.criterion(raw_outputs, labels)  # loss calculation\n",
    "\n",
    "                  loss.backward()  # backward propagation\n",
    "                  self.optimizer.step()\n",
    "\n",
    "                  #Loss calculating\n",
    "                  running_loss += loss.item()\n",
    "                  _, predicted = torch.max(raw_outputs, 1)\n",
    "                  accuracy = (predicted == labels).sum().item()/ labels.size(0)\n",
    "                  running_accuracy += accuracy\n",
    "                  tepoch.set_postfix(loss=running_loss / len(self.train_loader),\n",
    "                            accuracy=running_accuracy / len(self.train_loader))\n",
    "\n",
    "\n",
    "\n",
    "          self.scheduler.step()\n",
    "          print(self.scheduler.get_last_lr())\n",
    "\n",
    "\n",
    "          val_loss,val_accuracy, all_labels, all_predictions = self.validate()\n",
    "          print(f\"Epoch {epoch + 1}/{self.num_epochs}, Validation Loss: {val_loss:.4f}, Validation Accuracy: {val_accuracy:.4f}\")\n",
    "\n",
    "          if val_accuracy > best_val_accuracy:\n",
    "              best_val_accuracy = val_accuracy\n",
    "              torch.save(self.model.state_dict(), f'{solution_dir}/best_model.pth')\n",
    "              current_time = datatime.now().strftime(\"%Y%m%d-%H%M\")\n",
    "              print('Best model saved!', current_time)\n",
    "\n",
    "      print('Finished Training')\n",
    "      print(f'Best validation accuracy: {best_val_accuracy:.4f}')\n",
    "\n"
   ]
  },
  {
   "cell_type": "markdown",
   "metadata": {},
   "source": [
    "# Model 3\n",
    "* with higher batch size: 128"
   ]
  },
  {
   "cell_type": "code",
   "execution_count": 38,
   "metadata": {
    "scrolled": true
   },
   "outputs": [
    {
     "name": "stdout",
     "output_type": "stream",
     "text": [
      "Train dataset size: 6144 Validation dataset size: 1536 length of train_ids1 length of valid_ids1\n"
     ]
    },
    {
     "name": "stderr",
     "output_type": "stream",
     "text": [
      "Epoch 1/64: 100%|██████████| 58/58 [01:10<00:00,  1.22s/batch, accuracy=0.25, loss=1.6]     \n"
     ]
    },
    {
     "name": "stdout",
     "output_type": "stream",
     "text": [
      "[0.001]\n",
      "              precision    recall  f1-score   support\n",
      "\n",
      "           0       0.14      0.02      0.03       384\n",
      "           1       0.38      0.47      0.42       384\n",
      "           2       0.39      0.38      0.39       307\n",
      "           3       0.23      0.71      0.34       230\n",
      "           4       0.00      0.00      0.00       154\n",
      "           5       0.00      0.00      0.00        77\n",
      "\n",
      "    accuracy                           0.30      1536\n",
      "   macro avg       0.19      0.26      0.20      1536\n",
      "weighted avg       0.24      0.30      0.24      1536\n",
      "\n",
      "[[  6 197  63 118   0   0]\n",
      " [  6 179  74 125   0   0]\n",
      " [  7  52 117 131   0   0]\n",
      " [  5  17  44 164   0   0]\n",
      " [  7  16   0 131   0   0]\n",
      " [ 11   5   2  59   0   0]]\n",
      "Epoch 1/64, Validation Loss: 1.4900, Validation Accuracy: 0.3034\n",
      "Best model saved! 20241014-2309\n"
     ]
    },
    {
     "name": "stderr",
     "output_type": "stream",
     "text": [
      "Epoch 2/64: 100%|██████████| 58/58 [01:00<00:00,  1.05s/batch, accuracy=0.342, loss=1.44]   \n"
     ]
    },
    {
     "name": "stdout",
     "output_type": "stream",
     "text": [
      "[0.001]\n",
      "              precision    recall  f1-score   support\n",
      "\n",
      "           0       0.60      0.35      0.45       384\n",
      "           1       0.49      0.35      0.41       384\n",
      "           2       0.45      0.35      0.40       307\n",
      "           3       0.28      0.65      0.40       230\n",
      "           4       0.20      0.36      0.26       154\n",
      "           5       0.00      0.00      0.00        77\n",
      "\n",
      "    accuracy                           0.38      1536\n",
      "   macro avg       0.34      0.34      0.32      1536\n",
      "weighted avg       0.43      0.38      0.38      1536\n",
      "\n",
      "[[136  73  47  84  44   0]\n",
      " [ 69 134  49  87  45   0]\n",
      " [ 12  58 108  92  37   0]\n",
      " [  3   7  34 150  36   0]\n",
      " [  5   3   0  91  55   0]\n",
      " [  1   0   0  23  53   0]]\n",
      "Epoch 2/64, Validation Loss: 1.3897, Validation Accuracy: 0.3796\n",
      "Best model saved! 20241014-2310\n"
     ]
    },
    {
     "name": "stderr",
     "output_type": "stream",
     "text": [
      "Epoch 3/64: 100%|██████████| 58/58 [01:02<00:00,  1.07s/batch, accuracy=0.41, loss=1.36]    \n"
     ]
    },
    {
     "name": "stdout",
     "output_type": "stream",
     "text": [
      "[0.001]\n",
      "              precision    recall  f1-score   support\n",
      "\n",
      "           0       0.31      0.82      0.45       384\n",
      "           1       0.48      0.51      0.49       384\n",
      "           2       0.53      0.10      0.17       307\n",
      "           3       0.69      0.10      0.17       230\n",
      "           4       0.53      0.06      0.12       154\n",
      "           5       0.00      0.00      0.00        77\n",
      "\n",
      "    accuracy                           0.37      1536\n",
      "   macro avg       0.42      0.26      0.23      1536\n",
      "weighted avg       0.46      0.37      0.31      1536\n",
      "\n",
      "[[314  65   1   3   1   0]\n",
      " [187 194   1   1   1   0]\n",
      " [152 122  31   0   2   0]\n",
      " [163  17  26  22   2   0]\n",
      " [135   3   0   6  10   0]\n",
      " [ 70   4   0   0   3   0]]\n",
      "Epoch 3/64, Validation Loss: 1.3870, Validation Accuracy: 0.3717\n"
     ]
    },
    {
     "name": "stderr",
     "output_type": "stream",
     "text": [
      "Epoch 4/64: 100%|██████████| 58/58 [00:58<00:00,  1.02s/batch, accuracy=0.444, loss=1.29]  \n"
     ]
    },
    {
     "name": "stdout",
     "output_type": "stream",
     "text": [
      "[0.001]\n",
      "              precision    recall  f1-score   support\n",
      "\n",
      "           0       0.57      0.49      0.53       384\n",
      "           1       0.47      0.62      0.53       384\n",
      "           2       0.42      0.45      0.43       307\n",
      "           3       0.35      0.47      0.40       230\n",
      "           4       0.41      0.18      0.25       154\n",
      "           5       0.00      0.00      0.00        77\n",
      "\n",
      "    accuracy                           0.46      1536\n",
      "   macro avg       0.37      0.37      0.36      1536\n",
      "weighted avg       0.44      0.46      0.44      1536\n",
      "\n",
      "[[190 110  49  30   5   0]\n",
      " [ 55 238  56  30   5   0]\n",
      " [ 20 102 137  44   4   0]\n",
      " [ 21  19  72 107  11   0]\n",
      " [ 27  15  11  74  27   0]\n",
      " [ 21  22   1  19  14   0]]\n",
      "Epoch 4/64, Validation Loss: 1.2671, Validation Accuracy: 0.4551\n",
      "Best model saved! 20241014-2312\n"
     ]
    },
    {
     "name": "stderr",
     "output_type": "stream",
     "text": [
      "Epoch 5/64: 100%|██████████| 58/58 [01:05<00:00,  1.13s/batch, accuracy=0.478, loss=1.25]   \n"
     ]
    },
    {
     "name": "stdout",
     "output_type": "stream",
     "text": [
      "[0.001]\n",
      "              precision    recall  f1-score   support\n",
      "\n",
      "           0       0.54      0.59      0.56       384\n",
      "           1       0.59      0.48      0.53       384\n",
      "           2       0.65      0.35      0.45       307\n",
      "           3       0.40      0.24      0.30       230\n",
      "           4       0.28      0.73      0.40       154\n",
      "           5       0.20      0.26      0.22        77\n",
      "\n",
      "    accuracy                           0.46      1536\n",
      "   macro avg       0.44      0.44      0.41      1536\n",
      "weighted avg       0.51      0.46      0.46      1536\n",
      "\n",
      "[[227  44  24  20  53  16]\n",
      " [ 95 184  20  19  43  23]\n",
      " [ 46  54 106  39  43  19]\n",
      " [ 31   9  11  55 112  12]\n",
      " [ 15  12   1   3 112  11]\n",
      " [  8   8   0   0  41  20]]\n",
      "Epoch 5/64, Validation Loss: 1.2736, Validation Accuracy: 0.4583\n",
      "Best model saved! 20241014-2314\n"
     ]
    },
    {
     "name": "stderr",
     "output_type": "stream",
     "text": [
      "Epoch 6/64: 100%|██████████| 58/58 [00:56<00:00,  1.02batch/s, accuracy=0.494, loss=1.2]    \n"
     ]
    },
    {
     "name": "stdout",
     "output_type": "stream",
     "text": [
      "[0.001]\n",
      "              precision    recall  f1-score   support\n",
      "\n",
      "           0       0.60      0.58      0.59       384\n",
      "           1       0.68      0.47      0.56       384\n",
      "           2       0.47      0.68      0.56       307\n",
      "           3       0.49      0.53      0.51       230\n",
      "           4       0.43      0.32      0.37       154\n",
      "           5       0.27      0.31      0.29        77\n",
      "\n",
      "    accuracy                           0.53      1536\n",
      "   macro avg       0.49      0.48      0.48      1536\n",
      "weighted avg       0.54      0.53      0.53      1536\n",
      "\n",
      "[[224  35  73  30  13   9]\n",
      " [ 79 180  86  13  12  14]\n",
      " [ 19  26 210  38   8   6]\n",
      " [ 19   5  51 121  21  13]\n",
      " [ 23   9  14  34  50  24]\n",
      " [ 10   9  11  10  13  24]]\n",
      "Epoch 6/64, Validation Loss: 1.2045, Validation Accuracy: 0.5267\n",
      "Best model saved! 20241014-2315\n"
     ]
    },
    {
     "name": "stderr",
     "output_type": "stream",
     "text": [
      "Epoch 7/64: 100%|██████████| 58/58 [00:52<00:00,  1.10batch/s, accuracy=0.519, loss=1.15]  \n"
     ]
    },
    {
     "name": "stdout",
     "output_type": "stream",
     "text": [
      "[0.001]\n",
      "              precision    recall  f1-score   support\n",
      "\n",
      "           0       0.60      0.59      0.59       384\n",
      "           1       0.60      0.67      0.63       384\n",
      "           2       0.68      0.54      0.60       307\n",
      "           3       0.45      0.56      0.50       230\n",
      "           4       0.42      0.38      0.40       154\n",
      "           5       0.30      0.26      0.28        77\n",
      "\n",
      "    accuracy                           0.56      1536\n",
      "   macro avg       0.51      0.50      0.50      1536\n",
      "weighted avg       0.56      0.56      0.56      1536\n",
      "\n",
      "[[225  72  30  38   9  10]\n",
      " [ 52 259  31  23  11   8]\n",
      " [ 31  46 165  50   9   6]\n",
      " [ 35  22  12 128  29   4]\n",
      " [ 21  17   1  38  58  19]\n",
      " [ 11  16   3   6  21  20]]\n",
      "Epoch 7/64, Validation Loss: 1.1016, Validation Accuracy: 0.5566\n",
      "Best model saved! 20241014-2316\n"
     ]
    },
    {
     "name": "stderr",
     "output_type": "stream",
     "text": [
      "Epoch 8/64: 100%|██████████| 58/58 [00:54<00:00,  1.06batch/s, accuracy=0.538, loss=1.14]   \n"
     ]
    },
    {
     "name": "stdout",
     "output_type": "stream",
     "text": [
      "[0.001]\n",
      "              precision    recall  f1-score   support\n",
      "\n",
      "           0       0.68      0.57      0.62       384\n",
      "           1       0.71      0.52      0.60       384\n",
      "           2       0.69      0.45      0.55       307\n",
      "           3       0.40      0.43      0.42       230\n",
      "           4       0.30      0.76      0.43       154\n",
      "           5       0.32      0.38      0.34        77\n",
      "\n",
      "    accuracy                           0.52      1536\n",
      "   macro avg       0.52      0.52      0.49      1536\n",
      "weighted avg       0.59      0.52      0.54      1536\n",
      "\n",
      "[[220  56  23  31  46   8]\n",
      " [ 48 201  27  43  45  20]\n",
      " [ 17  22 138  62  53  15]\n",
      " [ 22   0   8 100  93   7]\n",
      " [ 10   2   1  11 117  13]\n",
      " [  7   3   2   1  35  29]]\n",
      "Epoch 8/64, Validation Loss: 1.1644, Validation Accuracy: 0.5241\n"
     ]
    },
    {
     "name": "stderr",
     "output_type": "stream",
     "text": [
      "Epoch 9/64: 100%|██████████| 58/58 [01:04<00:00,  1.11s/batch, accuracy=0.56, loss=1.1]    \n"
     ]
    },
    {
     "name": "stdout",
     "output_type": "stream",
     "text": [
      "[0.001]\n",
      "              precision    recall  f1-score   support\n",
      "\n",
      "           0       0.57      0.68      0.62       384\n",
      "           1       0.77      0.49      0.60       384\n",
      "           2       0.67      0.49      0.56       307\n",
      "           3       0.48      0.51      0.49       230\n",
      "           4       0.37      0.60      0.46       154\n",
      "           5       0.27      0.40      0.32        77\n",
      "\n",
      "    accuracy                           0.55      1536\n",
      "   macro avg       0.52      0.53      0.51      1536\n",
      "weighted avg       0.59      0.55      0.55      1536\n",
      "\n",
      "[[260  32  29  34  21   8]\n",
      " [ 88 189  34  35  19  19]\n",
      " [ 40  14 150  52  31  20]\n",
      " [ 25   5   9 117  59  15]\n",
      " [ 25   4   2   8  92  23]\n",
      " [ 21   1   0   0  24  31]]\n",
      "Epoch 9/64, Validation Loss: 1.1139, Validation Accuracy: 0.5462\n"
     ]
    },
    {
     "name": "stderr",
     "output_type": "stream",
     "text": [
      "Epoch 10/64: 100%|██████████| 58/58 [01:04<00:00,  1.11s/batch, accuracy=0.569, loss=1.09]   \n"
     ]
    },
    {
     "name": "stdout",
     "output_type": "stream",
     "text": [
      "[0.001]\n",
      "              precision    recall  f1-score   support\n",
      "\n",
      "           0       0.74      0.55      0.63       384\n",
      "           1       0.58      0.71      0.63       384\n",
      "           2       0.55      0.48      0.51       307\n",
      "           3       0.47      0.57      0.51       230\n",
      "           4       0.46      0.43      0.45       154\n",
      "           5       0.30      0.34      0.32        77\n",
      "\n",
      "    accuracy                           0.55      1536\n",
      "   macro avg       0.51      0.51      0.51      1536\n",
      "weighted avg       0.57      0.55      0.56      1536\n",
      "\n",
      "[[211  71  38  32  13  19]\n",
      " [ 26 271  38  30  11   8]\n",
      " [ 22  68 148  56   8   5]\n",
      " [ 17  20  24 130  30   9]\n",
      " [  9  17  13  28  66  21]\n",
      " [  0  24  10   3  14  26]]\n",
      "Epoch 10/64, Validation Loss: 1.1254, Validation Accuracy: 0.5547\n"
     ]
    },
    {
     "name": "stderr",
     "output_type": "stream",
     "text": [
      "Epoch 11/64: 100%|██████████| 58/58 [01:09<00:00,  1.20s/batch, accuracy=0.576, loss=1.06]  \n"
     ]
    },
    {
     "name": "stdout",
     "output_type": "stream",
     "text": [
      "[0.001]\n",
      "              precision    recall  f1-score   support\n",
      "\n",
      "           0       0.73      0.50      0.59       384\n",
      "           1       0.65      0.66      0.66       384\n",
      "           2       0.60      0.62      0.61       307\n",
      "           3       0.48      0.57      0.52       230\n",
      "           4       0.39      0.56      0.46       154\n",
      "           5       0.26      0.25      0.25        77\n",
      "\n",
      "    accuracy                           0.57      1536\n",
      "   macro avg       0.52      0.53      0.51      1536\n",
      "weighted avg       0.59      0.57      0.57      1536\n",
      "\n",
      "[[191  71  51  44  19   8]\n",
      " [ 19 253  52  35  14  11]\n",
      " [  9  33 190  47  23   5]\n",
      " [ 10   3  19 130  53  15]\n",
      " [ 19  13   5  15  87  15]\n",
      " [ 14  15   2   2  25  19]]\n",
      "Epoch 11/64, Validation Loss: 1.0904, Validation Accuracy: 0.5664\n",
      "Best model saved! 20241014-2321\n"
     ]
    },
    {
     "name": "stderr",
     "output_type": "stream",
     "text": [
      "Epoch 12/64: 100%|██████████| 58/58 [01:11<00:00,  1.23s/batch, accuracy=0.589, loss=1.04]   \n"
     ]
    },
    {
     "name": "stdout",
     "output_type": "stream",
     "text": [
      "[0.001]\n",
      "              precision    recall  f1-score   support\n",
      "\n",
      "           0       0.67      0.61      0.64       384\n",
      "           1       0.67      0.59      0.63       384\n",
      "           2       0.50      0.53      0.51       307\n",
      "           3       0.42      0.37      0.39       230\n",
      "           4       0.33      0.58      0.42       154\n",
      "           5       0.24      0.17      0.20        77\n",
      "\n",
      "    accuracy                           0.53      1536\n",
      "   macro avg       0.47      0.47      0.46      1536\n",
      "weighted avg       0.54      0.53      0.53      1536\n",
      "\n",
      "[[233  32  33  33  38  15]\n",
      " [ 57 227  34  22  34  10]\n",
      " [ 29  59 163  17  32   7]\n",
      " [ 16  10  80  84  34   6]\n",
      " [  9   2  11  39  89   4]\n",
      " [  2   7   8   3  44  13]]\n",
      "Epoch 12/64, Validation Loss: 1.1802, Validation Accuracy: 0.5267\n"
     ]
    },
    {
     "name": "stderr",
     "output_type": "stream",
     "text": [
      "Epoch 13/64: 100%|██████████| 58/58 [00:53<00:00,  1.09batch/s, accuracy=0.587, loss=1.05]  \n"
     ]
    },
    {
     "name": "stdout",
     "output_type": "stream",
     "text": [
      "[0.001]\n",
      "              precision    recall  f1-score   support\n",
      "\n",
      "           0       0.88      0.45      0.59       384\n",
      "           1       0.71      0.64      0.68       384\n",
      "           2       0.55      0.74      0.63       307\n",
      "           3       0.45      0.67      0.54       230\n",
      "           4       0.45      0.38      0.41       154\n",
      "           5       0.26      0.38      0.31        77\n",
      "\n",
      "    accuracy                           0.58      1536\n",
      "   macro avg       0.55      0.54      0.53      1536\n",
      "weighted avg       0.63      0.58      0.58      1536\n",
      "\n",
      "[[171  60  48  47  27  31]\n",
      " [ 16 247  60  34  12  15]\n",
      " [  1  25 226  42   5   8]\n",
      " [  5   6  42 153  14  10]\n",
      " [  1   7  14  56  59  17]\n",
      " [  1   2  23   8  14  29]]\n",
      "Epoch 13/64, Validation Loss: 1.0896, Validation Accuracy: 0.5762\n",
      "Best model saved! 20241014-2323\n"
     ]
    },
    {
     "name": "stderr",
     "output_type": "stream",
     "text": [
      "Epoch 14/64: 100%|██████████| 58/58 [00:52<00:00,  1.10batch/s, accuracy=0.607, loss=1.02]  \n"
     ]
    },
    {
     "name": "stdout",
     "output_type": "stream",
     "text": [
      "[0.001]\n",
      "              precision    recall  f1-score   support\n",
      "\n",
      "           0       0.63      0.67      0.65       384\n",
      "           1       0.61      0.68      0.64       384\n",
      "           2       0.51      0.57      0.54       307\n",
      "           3       0.41      0.44      0.43       230\n",
      "           4       0.47      0.27      0.35       154\n",
      "           5       0.33      0.09      0.14        77\n",
      "\n",
      "    accuracy                           0.55      1536\n",
      "   macro avg       0.50      0.45      0.46      1536\n",
      "weighted avg       0.54      0.55      0.54      1536\n",
      "\n",
      "[[258  53  27  35   8   3]\n",
      " [ 64 260  36  17   6   1]\n",
      " [ 30  63 176  32   2   4]\n",
      " [ 26  18  71 102  13   0]\n",
      " [ 23  13  18  52  42   6]\n",
      " [ 10  18  15   9  18   7]]\n",
      "Epoch 14/64, Validation Loss: 1.1615, Validation Accuracy: 0.5501\n"
     ]
    },
    {
     "name": "stderr",
     "output_type": "stream",
     "text": [
      "Epoch 15/64: 100%|██████████| 58/58 [00:52<00:00,  1.10batch/s, accuracy=0.614, loss=1]      \n"
     ]
    },
    {
     "name": "stdout",
     "output_type": "stream",
     "text": [
      "[0.0001]\n",
      "              precision    recall  f1-score   support\n",
      "\n",
      "           0       0.55      0.67      0.60       384\n",
      "           1       0.70      0.49      0.58       384\n",
      "           2       0.54      0.42      0.47       307\n",
      "           3       0.38      0.31      0.34       230\n",
      "           4       0.26      0.28      0.27       154\n",
      "           5       0.19      0.49      0.27        77\n",
      "\n",
      "    accuracy                           0.47      1536\n",
      "   macro avg       0.44      0.44      0.42      1536\n",
      "weighted avg       0.51      0.47      0.48      1536\n",
      "\n",
      "[[258  35  32  23  18  18]\n",
      " [ 54 189  70  29  10  32]\n",
      " [ 46  13 128  62  25  33]\n",
      " [ 45  14   3  71  67  30]\n",
      " [ 43  10   1   3  43  54]\n",
      " [ 27  10   1   0   1  38]]\n",
      "Epoch 15/64, Validation Loss: 1.3097, Validation Accuracy: 0.4733\n"
     ]
    },
    {
     "name": "stderr",
     "output_type": "stream",
     "text": [
      "Epoch 16/64: 100%|██████████| 58/58 [00:52<00:00,  1.10batch/s, accuracy=0.643, loss=0.929] \n"
     ]
    },
    {
     "name": "stdout",
     "output_type": "stream",
     "text": [
      "[0.0001]\n",
      "              precision    recall  f1-score   support\n",
      "\n",
      "           0       0.74      0.61      0.67       384\n",
      "           1       0.73      0.65      0.69       384\n",
      "           2       0.61      0.71      0.66       307\n",
      "           3       0.56      0.63      0.59       230\n",
      "           4       0.53      0.53      0.53       154\n",
      "           5       0.34      0.45      0.39        77\n",
      "\n",
      "    accuracy                           0.63      1536\n",
      "   macro avg       0.58      0.60      0.59      1536\n",
      "weighted avg       0.64      0.63      0.63      1536\n",
      "\n",
      "[[236  47  42  33  13  13]\n",
      " [ 42 251  44  22  10  15]\n",
      " [ 11  23 217  35  12   9]\n",
      " [ 15   7  27 145  25  11]\n",
      " [  9   7  14  22  81  21]\n",
      " [  6  10   9   4  13  35]]\n",
      "Epoch 16/64, Validation Loss: 0.9252, Validation Accuracy: 0.6283\n",
      "Best model saved! 20241014-2326\n"
     ]
    },
    {
     "name": "stderr",
     "output_type": "stream",
     "text": [
      "Epoch 17/64: 100%|██████████| 58/58 [00:53<00:00,  1.08batch/s, accuracy=0.67, loss=0.864]  \n"
     ]
    },
    {
     "name": "stdout",
     "output_type": "stream",
     "text": [
      "[0.0001]\n",
      "              precision    recall  f1-score   support\n",
      "\n",
      "           0       0.82      0.61      0.70       384\n",
      "           1       0.75      0.63      0.69       384\n",
      "           2       0.62      0.71      0.66       307\n",
      "           3       0.56      0.64      0.60       230\n",
      "           4       0.48      0.62      0.54       154\n",
      "           5       0.33      0.47      0.39        77\n",
      "\n",
      "    accuracy                           0.63      1536\n",
      "   macro avg       0.59      0.61      0.59      1536\n",
      "weighted avg       0.66      0.63      0.64      1536\n",
      "\n",
      "[[233  38  42  35  21  15]\n",
      " [ 31 243  41  30  18  21]\n",
      " [  4  29 218  26  20  10]\n",
      " [ 11   5  30 148  26  10]\n",
      " [  5   4  10  21  96  18]\n",
      " [  1   6  10   4  20  36]]\n",
      "Epoch 17/64, Validation Loss: 0.9456, Validation Accuracy: 0.6341\n",
      "Best model saved! 20241014-2327\n"
     ]
    },
    {
     "name": "stderr",
     "output_type": "stream",
     "text": [
      "Epoch 18/64: 100%|██████████| 58/58 [01:03<00:00,  1.10s/batch, accuracy=0.676, loss=0.847] \n"
     ]
    },
    {
     "name": "stdout",
     "output_type": "stream",
     "text": [
      "[0.0001]\n",
      "              precision    recall  f1-score   support\n",
      "\n",
      "           0       0.70      0.68      0.69       384\n",
      "           1       0.78      0.64      0.70       384\n",
      "           2       0.63      0.69      0.66       307\n",
      "           3       0.58      0.61      0.59       230\n",
      "           4       0.57      0.61      0.59       154\n",
      "           5       0.33      0.44      0.38        77\n",
      "\n",
      "    accuracy                           0.64      1536\n",
      "   macro avg       0.60      0.61      0.60      1536\n",
      "weighted avg       0.66      0.64      0.65      1536\n",
      "\n",
      "[[262  35  33  31  13  10]\n",
      " [ 46 247  43  24   9  15]\n",
      " [ 18  19 211  34  11  14]\n",
      " [ 27   5  24 141  23  10]\n",
      " [ 12   4   9  14  94  21]\n",
      " [  9   7  13   0  14  34]]\n",
      "Epoch 18/64, Validation Loss: 0.9057, Validation Accuracy: 0.6439\n",
      "Best model saved! 20241014-2329\n"
     ]
    },
    {
     "name": "stderr",
     "output_type": "stream",
     "text": [
      "Epoch 19/64: 100%|██████████| 58/58 [00:57<00:00,  1.00batch/s, accuracy=0.692, loss=0.819] \n"
     ]
    },
    {
     "name": "stdout",
     "output_type": "stream",
     "text": [
      "[0.0001]\n",
      "              precision    recall  f1-score   support\n",
      "\n",
      "           0       0.77      0.63      0.69       384\n",
      "           1       0.74      0.65      0.69       384\n",
      "           2       0.62      0.70      0.66       307\n",
      "           3       0.60      0.65      0.62       230\n",
      "           4       0.51      0.60      0.56       154\n",
      "           5       0.36      0.49      0.42        77\n",
      "\n",
      "    accuracy                           0.64      1536\n",
      "   macro avg       0.60      0.62      0.61      1536\n",
      "weighted avg       0.66      0.64      0.65      1536\n",
      "\n",
      "[[243  40  38  31  20  12]\n",
      " [ 40 249  47  18  13  17]\n",
      " [ 11  28 216  28  13  11]\n",
      " [ 13   7  30 149  23   8]\n",
      " [  5   6   9  21  93  20]\n",
      " [  5   7   6   2  19  38]]\n",
      "Epoch 19/64, Validation Loss: 0.9323, Validation Accuracy: 0.6432\n"
     ]
    },
    {
     "name": "stderr",
     "output_type": "stream",
     "text": [
      "Epoch 20/64: 100%|██████████| 58/58 [00:52<00:00,  1.10batch/s, accuracy=0.699, loss=0.808] \n"
     ]
    },
    {
     "name": "stdout",
     "output_type": "stream",
     "text": [
      "[0.0001]\n",
      "              precision    recall  f1-score   support\n",
      "\n",
      "           0       0.76      0.62      0.68       384\n",
      "           1       0.76      0.66      0.70       384\n",
      "           2       0.64      0.67      0.66       307\n",
      "           3       0.55      0.63      0.59       230\n",
      "           4       0.49      0.59      0.53       154\n",
      "           5       0.30      0.45      0.36        77\n",
      "\n",
      "    accuracy                           0.63      1536\n",
      "   macro avg       0.58      0.60      0.59      1536\n",
      "weighted avg       0.65      0.63      0.64      1536\n",
      "\n",
      "[[237  39  34  40  19  15]\n",
      " [ 35 252  36  28  15  18]\n",
      " [ 12  23 207  32  17  16]\n",
      " [ 13   4  28 145  26  14]\n",
      " [ 11   7   9  16  91  20]\n",
      " [  3   8   8   4  19  35]]\n",
      "Epoch 20/64, Validation Loss: 0.9284, Validation Accuracy: 0.6296\n"
     ]
    },
    {
     "name": "stderr",
     "output_type": "stream",
     "text": [
      "Epoch 21/64: 100%|██████████| 58/58 [00:52<00:00,  1.10batch/s, accuracy=0.705, loss=0.787] \n"
     ]
    },
    {
     "name": "stdout",
     "output_type": "stream",
     "text": [
      "[0.0001]\n",
      "              precision    recall  f1-score   support\n",
      "\n",
      "           0       0.73      0.66      0.69       384\n",
      "           1       0.76      0.65      0.70       384\n",
      "           2       0.63      0.67      0.65       307\n",
      "           3       0.58      0.63      0.60       230\n",
      "           4       0.51      0.60      0.55       154\n",
      "           5       0.28      0.39      0.33        77\n",
      "\n",
      "    accuracy                           0.63      1536\n",
      "   macro avg       0.58      0.60      0.59      1536\n",
      "weighted avg       0.65      0.63      0.64      1536\n",
      "\n",
      "[[252  37  35  32  14  14]\n",
      " [ 34 250  40  24  18  18]\n",
      " [ 19  25 205  30  16  12]\n",
      " [ 20   3  29 144  19  15]\n",
      " [ 12   5  10  17  92  18]\n",
      " [  9   8   8   2  20  30]]\n",
      "Epoch 21/64, Validation Loss: 0.9403, Validation Accuracy: 0.6335\n"
     ]
    },
    {
     "name": "stderr",
     "output_type": "stream",
     "text": [
      "Epoch 22/64: 100%|██████████| 58/58 [00:58<00:00,  1.00s/batch, accuracy=0.699, loss=0.794] \n"
     ]
    },
    {
     "name": "stdout",
     "output_type": "stream",
     "text": [
      "[0.0001]\n",
      "              precision    recall  f1-score   support\n",
      "\n",
      "           0       0.75      0.62      0.68       384\n",
      "           1       0.75      0.67      0.71       384\n",
      "           2       0.65      0.69      0.67       307\n",
      "           3       0.56      0.65      0.60       230\n",
      "           4       0.49      0.55      0.52       154\n",
      "           5       0.29      0.43      0.35        77\n",
      "\n",
      "    accuracy                           0.64      1536\n",
      "   macro avg       0.58      0.60      0.59      1536\n",
      "weighted avg       0.66      0.64      0.64      1536\n",
      "\n",
      "[[240  38  40  38  12  16]\n",
      " [ 30 258  29  28  17  22]\n",
      " [ 16  26 211  29  13  12]\n",
      " [ 16   6  23 149  27   9]\n",
      " [ 11   7  11  18  85  22]\n",
      " [  5   8  10   3  18  33]]\n",
      "Epoch 22/64, Validation Loss: 0.9406, Validation Accuracy: 0.6354\n"
     ]
    },
    {
     "name": "stderr",
     "output_type": "stream",
     "text": [
      "Epoch 23/64: 100%|██████████| 58/58 [01:02<00:00,  1.08s/batch, accuracy=0.706, loss=0.786] \n"
     ]
    },
    {
     "name": "stdout",
     "output_type": "stream",
     "text": [
      "[0.0001]\n",
      "              precision    recall  f1-score   support\n",
      "\n",
      "           0       0.71      0.64      0.67       384\n",
      "           1       0.74      0.68      0.71       384\n",
      "           2       0.68      0.66      0.67       307\n",
      "           3       0.59      0.64      0.61       230\n",
      "           4       0.53      0.62      0.57       154\n",
      "           5       0.35      0.49      0.41        77\n",
      "\n",
      "    accuracy                           0.65      1536\n",
      "   macro avg       0.60      0.62      0.61      1536\n",
      "weighted avg       0.66      0.65      0.65      1536\n",
      "\n",
      "[[247  39  32  34  18  14]\n",
      " [ 37 261  32  26  11  17]\n",
      " [ 20  34 203  29  10  11]\n",
      " [ 20   7  18 147  27  11]\n",
      " [ 15   4   9  12  95  19]\n",
      " [  9   7   5   1  17  38]]\n",
      "Epoch 23/64, Validation Loss: 0.8947, Validation Accuracy: 0.6452\n",
      "Best model saved! 20241014-2334\n"
     ]
    },
    {
     "name": "stderr",
     "output_type": "stream",
     "text": [
      "Epoch 24/64: 100%|██████████| 58/58 [00:59<00:00,  1.03s/batch, accuracy=0.715, loss=0.758] \n"
     ]
    },
    {
     "name": "stdout",
     "output_type": "stream",
     "text": [
      "[0.0001]\n",
      "              precision    recall  f1-score   support\n",
      "\n",
      "           0       0.75      0.63      0.68       384\n",
      "           1       0.74      0.65      0.69       384\n",
      "           2       0.66      0.68      0.67       307\n",
      "           3       0.55      0.64      0.59       230\n",
      "           4       0.52      0.54      0.53       154\n",
      "           5       0.28      0.52      0.37        77\n",
      "\n",
      "    accuracy                           0.63      1536\n",
      "   macro avg       0.59      0.61      0.59      1536\n",
      "weighted avg       0.66      0.63      0.64      1536\n",
      "\n",
      "[[241  45  37  36  13  12]\n",
      " [ 30 248  36  35  15  20]\n",
      " [ 12  16 208  38  14  19]\n",
      " [ 13   8  14 147  25  23]\n",
      " [ 17   5  12  10  83  27]\n",
      " [  7  11   8   2   9  40]]\n",
      "Epoch 24/64, Validation Loss: 0.9542, Validation Accuracy: 0.6296\n"
     ]
    },
    {
     "name": "stderr",
     "output_type": "stream",
     "text": [
      "Epoch 25/64: 100%|██████████| 58/58 [00:59<00:00,  1.02s/batch, accuracy=0.72, loss=0.754]  \n"
     ]
    },
    {
     "name": "stdout",
     "output_type": "stream",
     "text": [
      "[0.0001]\n",
      "              precision    recall  f1-score   support\n",
      "\n",
      "           0       0.71      0.67      0.69       384\n",
      "           1       0.74      0.65      0.69       384\n",
      "           2       0.61      0.69      0.65       307\n",
      "           3       0.61      0.66      0.63       230\n",
      "           4       0.52      0.56      0.54       154\n",
      "           5       0.33      0.32      0.33        77\n",
      "\n",
      "    accuracy                           0.64      1536\n",
      "   macro avg       0.59      0.59      0.59      1536\n",
      "weighted avg       0.65      0.64      0.64      1536\n",
      "\n",
      "[[257  38  36  30  16   7]\n",
      " [ 46 250  42  21  15  10]\n",
      " [ 20  28 211  26  12  10]\n",
      " [ 15   5  28 152  21   9]\n",
      " [ 15   6  14  17  87  15]\n",
      " [ 11   9  13   4  15  25]]\n",
      "Epoch 25/64, Validation Loss: 0.9615, Validation Accuracy: 0.6393\n"
     ]
    },
    {
     "name": "stderr",
     "output_type": "stream",
     "text": [
      "Epoch 26/64: 100%|██████████| 58/58 [00:53<00:00,  1.09batch/s, accuracy=0.732, loss=0.734] \n"
     ]
    },
    {
     "name": "stdout",
     "output_type": "stream",
     "text": [
      "[0.0001]\n",
      "              precision    recall  f1-score   support\n",
      "\n",
      "           0       0.72      0.65      0.68       384\n",
      "           1       0.74      0.71      0.72       384\n",
      "           2       0.70      0.65      0.67       307\n",
      "           3       0.59      0.68      0.63       230\n",
      "           4       0.55      0.56      0.55       154\n",
      "           5       0.29      0.45      0.36        77\n",
      "\n",
      "    accuracy                           0.65      1536\n",
      "   macro avg       0.60      0.62      0.60      1536\n",
      "weighted avg       0.66      0.65      0.65      1536\n",
      "\n",
      "[[248  47  26  36  12  15]\n",
      " [ 34 271  29  24  11  15]\n",
      " [ 19  24 199  34  14  17]\n",
      " [ 19   6  10 156  21  18]\n",
      " [ 18   9   8  13  86  20]\n",
      " [  6  10  13   1  12  35]]\n",
      "Epoch 26/64, Validation Loss: 0.9283, Validation Accuracy: 0.6478\n",
      "Best model saved! 20241014-2338\n"
     ]
    },
    {
     "name": "stderr",
     "output_type": "stream",
     "text": [
      "Epoch 27/64: 100%|██████████| 58/58 [00:55<00:00,  1.04batch/s, accuracy=0.728, loss=0.748] \n"
     ]
    },
    {
     "name": "stdout",
     "output_type": "stream",
     "text": [
      "[0.0001]\n",
      "              precision    recall  f1-score   support\n",
      "\n",
      "           0       0.75      0.65      0.69       384\n",
      "           1       0.70      0.68      0.69       384\n",
      "           2       0.62      0.67      0.64       307\n",
      "           3       0.58      0.65      0.61       230\n",
      "           4       0.57      0.55      0.56       154\n",
      "           5       0.33      0.39      0.36        77\n",
      "\n",
      "    accuracy                           0.64      1536\n",
      "   macro avg       0.59      0.60      0.59      1536\n",
      "weighted avg       0.65      0.64      0.64      1536\n",
      "\n",
      "[[249  47  34  35   9  10]\n",
      " [ 33 262  38  25  15  11]\n",
      " [ 18  37 205  25  12  10]\n",
      " [ 17  10  27 149  15  12]\n",
      " [ 12   6  14  20  85  17]\n",
      " [  4  14  12   3  14  30]]\n",
      "Epoch 27/64, Validation Loss: 0.9497, Validation Accuracy: 0.6380\n"
     ]
    },
    {
     "name": "stderr",
     "output_type": "stream",
     "text": [
      "Epoch 28/64: 100%|██████████| 58/58 [01:05<00:00,  1.13s/batch, accuracy=0.733, loss=0.718] \n"
     ]
    },
    {
     "name": "stdout",
     "output_type": "stream",
     "text": [
      "[0.0001]\n",
      "              precision    recall  f1-score   support\n",
      "\n",
      "           0       0.71      0.66      0.68       384\n",
      "           1       0.73      0.70      0.72       384\n",
      "           2       0.65      0.65      0.65       307\n",
      "           3       0.58      0.64      0.61       230\n",
      "           4       0.49      0.50      0.50       154\n",
      "           5       0.33      0.39      0.36        77\n",
      "\n",
      "    accuracy                           0.64      1536\n",
      "   macro avg       0.58      0.59      0.58      1536\n",
      "weighted avg       0.64      0.64      0.64      1536\n",
      "\n",
      "[[252  41  30  31  19  11]\n",
      " [ 38 270  30  21  13  12]\n",
      " [ 22  36 199  27  12  11]\n",
      " [ 22   4  26 148  18  12]\n",
      " [ 15   8  11  27  77  16]\n",
      " [  7  11   8   3  18  30]]\n",
      "Epoch 28/64, Validation Loss: 0.9908, Validation Accuracy: 0.6354\n"
     ]
    },
    {
     "name": "stderr",
     "output_type": "stream",
     "text": [
      "Epoch 29/64: 100%|██████████| 58/58 [01:04<00:00,  1.10s/batch, accuracy=0.733, loss=0.719] \n"
     ]
    },
    {
     "name": "stdout",
     "output_type": "stream",
     "text": [
      "[0.0001]\n",
      "              precision    recall  f1-score   support\n",
      "\n",
      "           0       0.77      0.66      0.71       384\n",
      "           1       0.73      0.71      0.72       384\n",
      "           2       0.65      0.72      0.69       307\n",
      "           3       0.63      0.66      0.65       230\n",
      "           4       0.60      0.54      0.57       154\n",
      "           5       0.35      0.52      0.42        77\n",
      "\n",
      "    accuracy                           0.67      1536\n",
      "   macro avg       0.62      0.63      0.62      1536\n",
      "weighted avg       0.68      0.67      0.67      1536\n",
      "\n",
      "[[252  41  37  32   8  14]\n",
      " [ 33 274  34  17   9  17]\n",
      " [ 12  31 222  23   8  11]\n",
      " [ 14   7  30 151  17  11]\n",
      " [ 13  11  12  14  83  21]\n",
      " [  4  12   6   1  14  40]]\n",
      "Epoch 29/64, Validation Loss: 0.9217, Validation Accuracy: 0.6654\n",
      "Best model saved! 20241014-2342\n"
     ]
    },
    {
     "name": "stderr",
     "output_type": "stream",
     "text": [
      "Epoch 30/64: 100%|██████████| 58/58 [01:06<00:00,  1.14s/batch, accuracy=0.745, loss=0.704] \n"
     ]
    },
    {
     "name": "stdout",
     "output_type": "stream",
     "text": [
      "[1e-05]\n",
      "              precision    recall  f1-score   support\n",
      "\n",
      "           0       0.74      0.68      0.71       384\n",
      "           1       0.72      0.67      0.69       384\n",
      "           2       0.67      0.71      0.69       307\n",
      "           3       0.63      0.64      0.64       230\n",
      "           4       0.54      0.62      0.58       154\n",
      "           5       0.38      0.43      0.40        77\n",
      "\n",
      "    accuracy                           0.66      1536\n",
      "   macro avg       0.61      0.63      0.62      1536\n",
      "weighted avg       0.67      0.66      0.66      1536\n",
      "\n",
      "[[262  43  29  29  16   5]\n",
      " [ 44 257  40  22   9  12]\n",
      " [ 15  29 219  20  15   9]\n",
      " [ 18   5  24 148  27   8]\n",
      " [ 13   8   8  11  95  19]\n",
      " [  4  15   8   4  13  33]]\n",
      "Epoch 30/64, Validation Loss: 0.9734, Validation Accuracy: 0.6602\n"
     ]
    },
    {
     "name": "stderr",
     "output_type": "stream",
     "text": [
      "Epoch 31/64: 100%|██████████| 58/58 [01:09<00:00,  1.20s/batch, accuracy=0.749, loss=0.684] \n"
     ]
    },
    {
     "name": "stdout",
     "output_type": "stream",
     "text": [
      "[1e-05]\n",
      "              precision    recall  f1-score   support\n",
      "\n",
      "           0       0.71      0.65      0.68       384\n",
      "           1       0.74      0.65      0.69       384\n",
      "           2       0.67      0.69      0.68       307\n",
      "           3       0.63      0.68      0.65       230\n",
      "           4       0.53      0.61      0.57       154\n",
      "           5       0.37      0.49      0.42        77\n",
      "\n",
      "    accuracy                           0.65      1536\n",
      "   macro avg       0.61      0.63      0.62      1536\n",
      "weighted avg       0.66      0.65      0.65      1536\n",
      "\n",
      "[[250  38  31  36  16  13]\n",
      " [ 43 250  39  20  21  11]\n",
      " [ 22  26 212  20  13  14]\n",
      " [ 18   6  21 156  19  10]\n",
      " [ 15   7   9  13  94  16]\n",
      " [  5  11   6   4  13  38]]\n",
      "Epoch 31/64, Validation Loss: 0.9748, Validation Accuracy: 0.6510\n"
     ]
    },
    {
     "name": "stderr",
     "output_type": "stream",
     "text": [
      "Epoch 32/64: 100%|██████████| 58/58 [01:04<00:00,  1.12s/batch, accuracy=0.758, loss=0.679] \n"
     ]
    },
    {
     "name": "stdout",
     "output_type": "stream",
     "text": [
      "[1e-05]\n",
      "              precision    recall  f1-score   support\n",
      "\n",
      "           0       0.71      0.65      0.68       384\n",
      "           1       0.73      0.68      0.70       384\n",
      "           2       0.67      0.68      0.68       307\n",
      "           3       0.65      0.68      0.67       230\n",
      "           4       0.51      0.56      0.53       154\n",
      "           5       0.36      0.49      0.41        77\n",
      "\n",
      "    accuracy                           0.65      1536\n",
      "   macro avg       0.60      0.62      0.61      1536\n",
      "weighted avg       0.66      0.65      0.65      1536\n",
      "\n",
      "[[250  48  30  28  15  13]\n",
      " [ 43 260  36  18  14  13]\n",
      " [ 24  22 210  21  19  11]\n",
      " [ 14   4  22 156  22  12]\n",
      " [ 14   9  12  13  86  20]\n",
      " [  7  12   4   3  13  38]]\n",
      "Epoch 32/64, Validation Loss: 0.9827, Validation Accuracy: 0.6510\n"
     ]
    },
    {
     "name": "stderr",
     "output_type": "stream",
     "text": [
      "Epoch 33/64: 100%|██████████| 58/58 [01:05<00:00,  1.13s/batch, accuracy=0.753, loss=0.674] \n"
     ]
    },
    {
     "name": "stdout",
     "output_type": "stream",
     "text": [
      "[1e-05]\n",
      "              precision    recall  f1-score   support\n",
      "\n",
      "           0       0.72      0.65      0.68       384\n",
      "           1       0.75      0.64      0.69       384\n",
      "           2       0.65      0.70      0.67       307\n",
      "           3       0.62      0.67      0.64       230\n",
      "           4       0.56      0.64      0.60       154\n",
      "           5       0.32      0.43      0.37        77\n",
      "\n",
      "    accuracy                           0.65      1536\n",
      "   macro avg       0.60      0.62      0.61      1536\n",
      "weighted avg       0.66      0.65      0.65      1536\n",
      "\n",
      "[[251  37  35  30  17  14]\n",
      " [ 46 245  43  26  12  12]\n",
      " [ 17  24 214  26  12  14]\n",
      " [ 17   3  24 155  18  13]\n",
      " [ 12   7   7  13  98  17]\n",
      " [  6  12   8   1  17  33]]\n",
      "Epoch 33/64, Validation Loss: 0.9740, Validation Accuracy: 0.6484\n"
     ]
    },
    {
     "name": "stderr",
     "output_type": "stream",
     "text": [
      "Epoch 34/64: 100%|██████████| 58/58 [01:08<00:00,  1.18s/batch, accuracy=0.754, loss=0.672] \n"
     ]
    },
    {
     "name": "stdout",
     "output_type": "stream",
     "text": [
      "[1e-05]\n",
      "              precision    recall  f1-score   support\n",
      "\n",
      "           0       0.72      0.65      0.68       384\n",
      "           1       0.77      0.67      0.71       384\n",
      "           2       0.66      0.70      0.68       307\n",
      "           3       0.59      0.66      0.62       230\n",
      "           4       0.52      0.55      0.53       154\n",
      "           5       0.35      0.49      0.41        77\n",
      "\n",
      "    accuracy                           0.65      1536\n",
      "   macro avg       0.60      0.62      0.61      1536\n",
      "weighted avg       0.66      0.65      0.65      1536\n",
      "\n",
      "[[251  37  34  34  12  16]\n",
      " [ 37 256  33  25  16  17]\n",
      " [ 16  23 215  25  15  13]\n",
      " [ 20   6  22 151  23   8]\n",
      " [ 18   5  12  19  84  16]\n",
      " [  8   6  10   3  12  38]]\n",
      "Epoch 34/64, Validation Loss: 0.9749, Validation Accuracy: 0.6478\n"
     ]
    },
    {
     "name": "stderr",
     "output_type": "stream",
     "text": [
      "Epoch 35/64: 100%|██████████| 58/58 [00:53<00:00,  1.08batch/s, accuracy=0.755, loss=0.673] \n"
     ]
    },
    {
     "name": "stdout",
     "output_type": "stream",
     "text": [
      "[1e-05]\n",
      "              precision    recall  f1-score   support\n",
      "\n",
      "           0       0.72      0.67      0.70       384\n",
      "           1       0.77      0.67      0.72       384\n",
      "           2       0.66      0.68      0.67       307\n",
      "           3       0.60      0.61      0.61       230\n",
      "           4       0.51      0.60      0.55       154\n",
      "           5       0.37      0.53      0.43        77\n",
      "\n",
      "    accuracy                           0.65      1536\n",
      "   macro avg       0.60      0.63      0.61      1536\n",
      "weighted avg       0.66      0.65      0.65      1536\n",
      "\n",
      "[[257  31  31  33  22  10]\n",
      " [ 43 257  32  23  13  16]\n",
      " [ 19  28 209  25  13  13]\n",
      " [ 16   4  26 141  32  11]\n",
      " [ 13   5  11  11  93  21]\n",
      " [  7   9   8   1  11  41]]\n",
      "Epoch 35/64, Validation Loss: 0.9602, Validation Accuracy: 0.6497\n"
     ]
    },
    {
     "name": "stderr",
     "output_type": "stream",
     "text": [
      "Epoch 36/64: 100%|██████████| 58/58 [00:52<00:00,  1.10batch/s, accuracy=0.752, loss=0.678] \n"
     ]
    },
    {
     "name": "stdout",
     "output_type": "stream",
     "text": [
      "[1e-05]\n",
      "              precision    recall  f1-score   support\n",
      "\n",
      "           0       0.73      0.67      0.70       384\n",
      "           1       0.75      0.65      0.70       384\n",
      "           2       0.66      0.68      0.67       307\n",
      "           3       0.60      0.68      0.64       230\n",
      "           4       0.55      0.58      0.56       154\n",
      "           5       0.30      0.43      0.35        77\n",
      "\n",
      "    accuracy                           0.65      1536\n",
      "   macro avg       0.60      0.62      0.60      1536\n",
      "weighted avg       0.66      0.65      0.65      1536\n",
      "\n",
      "[[259  31  34  33  15  12]\n",
      " [ 43 251  35  24  12  19]\n",
      " [ 18  31 208  29   7  14]\n",
      " [ 17   3  23 156  22   9]\n",
      " [ 12   6   8  16  89  23]\n",
      " [  6  11   9   0  18  33]]\n",
      "Epoch 36/64, Validation Loss: 0.9632, Validation Accuracy: 0.6484\n"
     ]
    },
    {
     "name": "stderr",
     "output_type": "stream",
     "text": [
      "Epoch 37/64: 100%|██████████| 58/58 [01:02<00:00,  1.08s/batch, accuracy=0.759, loss=0.674] \n"
     ]
    },
    {
     "name": "stdout",
     "output_type": "stream",
     "text": [
      "[1e-05]\n",
      "              precision    recall  f1-score   support\n",
      "\n",
      "           0       0.74      0.65      0.69       384\n",
      "           1       0.73      0.67      0.70       384\n",
      "           2       0.65      0.67      0.66       307\n",
      "           3       0.63      0.66      0.64       230\n",
      "           4       0.54      0.58      0.56       154\n",
      "           5       0.30      0.44      0.36        77\n",
      "\n",
      "    accuracy                           0.65      1536\n",
      "   macro avg       0.60      0.61      0.60      1536\n",
      "weighted avg       0.66      0.65      0.65      1536\n",
      "\n",
      "[[251  42  32  31  14  14]\n",
      " [ 44 259  30  20  12  19]\n",
      " [ 17  29 206  21  17  17]\n",
      " [ 14   8  28 152  17  11]\n",
      " [ 10  10  10  15  90  19]\n",
      " [  4   8  11   3  17  34]]\n",
      "Epoch 37/64, Validation Loss: 0.9765, Validation Accuracy: 0.6458\n"
     ]
    },
    {
     "name": "stderr",
     "output_type": "stream",
     "text": [
      "Epoch 38/64: 100%|██████████| 58/58 [01:01<00:00,  1.06s/batch, accuracy=0.755, loss=0.668] \n"
     ]
    },
    {
     "name": "stdout",
     "output_type": "stream",
     "text": [
      "[1e-05]\n",
      "              precision    recall  f1-score   support\n",
      "\n",
      "           0       0.76      0.65      0.70       384\n",
      "           1       0.73      0.68      0.70       384\n",
      "           2       0.63      0.67      0.65       307\n",
      "           3       0.59      0.64      0.62       230\n",
      "           4       0.55      0.60      0.58       154\n",
      "           5       0.33      0.45      0.38        77\n",
      "\n",
      "    accuracy                           0.65      1536\n",
      "   macro avg       0.60      0.62      0.61      1536\n",
      "weighted avg       0.66      0.65      0.65      1536\n",
      "\n",
      "[[248  42  33  35  11  15]\n",
      " [ 32 261  40  25  14  12]\n",
      " [ 15  35 207  24  11  15]\n",
      " [ 16   6  25 148  25  10]\n",
      " [  9   6  12  15  93  19]\n",
      " [  6   8  11   3  14  35]]\n",
      "Epoch 38/64, Validation Loss: 0.9801, Validation Accuracy: 0.6458\n"
     ]
    },
    {
     "name": "stderr",
     "output_type": "stream",
     "text": [
      "Epoch 39/64: 100%|██████████| 58/58 [00:52<00:00,  1.11batch/s, accuracy=0.757, loss=0.67]  \n"
     ]
    },
    {
     "name": "stdout",
     "output_type": "stream",
     "text": [
      "[1e-05]\n",
      "              precision    recall  f1-score   support\n",
      "\n",
      "           0       0.73      0.67      0.70       384\n",
      "           1       0.73      0.69      0.71       384\n",
      "           2       0.65      0.66      0.66       307\n",
      "           3       0.60      0.64      0.62       230\n",
      "           4       0.53      0.56      0.55       154\n",
      "           5       0.29      0.38      0.33        77\n",
      "\n",
      "    accuracy                           0.64      1536\n",
      "   macro avg       0.59      0.60      0.59      1536\n",
      "weighted avg       0.65      0.64      0.65      1536\n",
      "\n",
      "[[258  42  32  31  10  11]\n",
      " [ 41 264  29  21   9  20]\n",
      " [ 20  30 203  25  16  13]\n",
      " [ 18   7  28 147  19  11]\n",
      " [ 12   9  14  17  86  16]\n",
      " [  6  12   6   3  21  29]]\n",
      "Epoch 39/64, Validation Loss: 0.9795, Validation Accuracy: 0.6426\n"
     ]
    },
    {
     "name": "stderr",
     "output_type": "stream",
     "text": [
      "Epoch 40/64: 100%|██████████| 58/58 [00:55<00:00,  1.04batch/s, accuracy=0.756, loss=0.671] \n"
     ]
    },
    {
     "name": "stdout",
     "output_type": "stream",
     "text": [
      "[1e-05]\n",
      "              precision    recall  f1-score   support\n",
      "\n",
      "           0       0.72      0.64      0.68       384\n",
      "           1       0.75      0.68      0.71       384\n",
      "           2       0.65      0.67      0.66       307\n",
      "           3       0.60      0.67      0.63       230\n",
      "           4       0.50      0.55      0.53       154\n",
      "           5       0.31      0.42      0.36        77\n",
      "\n",
      "    accuracy                           0.64      1536\n",
      "   macro avg       0.59      0.61      0.60      1536\n",
      "weighted avg       0.65      0.64      0.65      1536\n",
      "\n",
      "[[247  41  31  38  14  13]\n",
      " [ 38 263  31  25  14  13]\n",
      " [ 19  27 206  23  15  17]\n",
      " [ 17   4  22 153  24  10]\n",
      " [ 14   9  14  15  85  17]\n",
      " [  6   8  11   3  17  32]]\n",
      "Epoch 40/64, Validation Loss: 0.9770, Validation Accuracy: 0.6419\n"
     ]
    },
    {
     "name": "stderr",
     "output_type": "stream",
     "text": [
      "Epoch 41/64: 100%|██████████| 58/58 [01:15<00:00,  1.30s/batch, accuracy=0.758, loss=0.668] \n"
     ]
    },
    {
     "name": "stdout",
     "output_type": "stream",
     "text": [
      "[1e-05]\n",
      "              precision    recall  f1-score   support\n",
      "\n",
      "           0       0.71      0.67      0.69       384\n",
      "           1       0.74      0.67      0.70       384\n",
      "           2       0.65      0.65      0.65       307\n",
      "           3       0.60      0.64      0.62       230\n",
      "           4       0.53      0.58      0.55       154\n",
      "           5       0.30      0.40      0.34        77\n",
      "\n",
      "    accuracy                           0.64      1536\n",
      "   macro avg       0.59      0.60      0.59      1536\n",
      "weighted avg       0.65      0.64      0.64      1536\n",
      "\n",
      "[[259  38  29  28  16  14]\n",
      " [ 44 257  33  25  13  12]\n",
      " [ 17  30 200  32  12  16]\n",
      " [ 22   5  22 148  23  10]\n",
      " [ 13   9  12  11  89  20]\n",
      " [ 10   8  10   4  14  31]]\n",
      "Epoch 41/64, Validation Loss: 0.9966, Validation Accuracy: 0.6406\n"
     ]
    },
    {
     "name": "stderr",
     "output_type": "stream",
     "text": [
      "Epoch 42/64: 100%|██████████| 58/58 [01:16<00:00,  1.32s/batch, accuracy=0.764, loss=0.65]  \n"
     ]
    },
    {
     "name": "stdout",
     "output_type": "stream",
     "text": [
      "[1e-05]\n",
      "              precision    recall  f1-score   support\n",
      "\n",
      "           0       0.73      0.68      0.70       384\n",
      "           1       0.76      0.68      0.72       384\n",
      "           2       0.65      0.67      0.66       307\n",
      "           3       0.61      0.66      0.63       230\n",
      "           4       0.56      0.58      0.57       154\n",
      "           5       0.37      0.51      0.43        77\n",
      "\n",
      "    accuracy                           0.66      1536\n",
      "   macro avg       0.61      0.63      0.62      1536\n",
      "weighted avg       0.67      0.66      0.66      1536\n",
      "\n",
      "[[261  35  33  26  16  13]\n",
      " [ 38 262  33  22  14  15]\n",
      " [ 22  27 207  30  11  10]\n",
      " [ 16   5  26 152  21  10]\n",
      " [ 14   6  12  14  90  18]\n",
      " [  7   9   7   6   9  39]]\n",
      "Epoch 42/64, Validation Loss: 0.9620, Validation Accuracy: 0.6582\n"
     ]
    },
    {
     "name": "stderr",
     "output_type": "stream",
     "text": [
      "Epoch 43/64: 100%|██████████| 58/58 [01:03<00:00,  1.09s/batch, accuracy=0.762, loss=0.655] \n"
     ]
    },
    {
     "name": "stdout",
     "output_type": "stream",
     "text": [
      "[1e-05]\n",
      "              precision    recall  f1-score   support\n",
      "\n",
      "           0       0.73      0.62      0.67       384\n",
      "           1       0.73      0.68      0.71       384\n",
      "           2       0.64      0.70      0.67       307\n",
      "           3       0.62      0.69      0.65       230\n",
      "           4       0.56      0.56      0.56       154\n",
      "           5       0.37      0.49      0.42        77\n",
      "\n",
      "    accuracy                           0.65      1536\n",
      "   macro avg       0.61      0.62      0.61      1536\n",
      "weighted avg       0.66      0.65      0.65      1536\n",
      "\n",
      "[[238  45  34  38  18  11]\n",
      " [ 33 263  44  25   8  11]\n",
      " [ 14  32 214  23  13  11]\n",
      " [ 16   2  23 158  17  14]\n",
      " [ 20   7  12   9  87  19]\n",
      " [  5  11   7   3  13  38]]\n",
      "Epoch 43/64, Validation Loss: 0.9863, Validation Accuracy: 0.6497\n"
     ]
    },
    {
     "name": "stderr",
     "output_type": "stream",
     "text": [
      "Epoch 44/64: 100%|██████████| 58/58 [01:04<00:00,  1.11s/batch, accuracy=0.754, loss=0.661] \n"
     ]
    },
    {
     "name": "stdout",
     "output_type": "stream",
     "text": [
      "[1e-05]\n",
      "              precision    recall  f1-score   support\n",
      "\n",
      "           0       0.72      0.68      0.70       384\n",
      "           1       0.73      0.68      0.70       384\n",
      "           2       0.64      0.69      0.66       307\n",
      "           3       0.62      0.64      0.63       230\n",
      "           4       0.56      0.55      0.56       154\n",
      "           5       0.33      0.42      0.37        77\n",
      "\n",
      "    accuracy                           0.65      1536\n",
      "   macro avg       0.60      0.61      0.60      1536\n",
      "weighted avg       0.66      0.65      0.65      1536\n",
      "\n",
      "[[262  37  32  27  13  13]\n",
      " [ 48 260  35  23   8  10]\n",
      " [ 19  30 211  23  13  11]\n",
      " [ 20   6  29 147  19   9]\n",
      " [ 12   9  12  14  85  22]\n",
      " [  5  15   9   2  14  32]]\n",
      "Epoch 44/64, Validation Loss: 1.0008, Validation Accuracy: 0.6491\n"
     ]
    },
    {
     "name": "stderr",
     "output_type": "stream",
     "text": [
      "Epoch 45/64: 100%|██████████| 58/58 [01:08<00:00,  1.18s/batch, accuracy=0.764, loss=0.646]  \n"
     ]
    },
    {
     "name": "stdout",
     "output_type": "stream",
     "text": [
      "[1.0000000000000002e-06]\n",
      "              precision    recall  f1-score   support\n",
      "\n",
      "           0       0.73      0.64      0.68       384\n",
      "           1       0.74      0.67      0.70       384\n",
      "           2       0.63      0.68      0.66       307\n",
      "           3       0.60      0.63      0.61       230\n",
      "           4       0.50      0.50      0.50       154\n",
      "           5       0.27      0.42      0.33        77\n",
      "\n",
      "    accuracy                           0.63      1536\n",
      "   macro avg       0.58      0.59      0.58      1536\n",
      "weighted avg       0.64      0.63      0.64      1536\n",
      "\n",
      "[[247  38  39  30  15  15]\n",
      " [ 44 258  35  21  10  16]\n",
      " [ 16  30 209  24  15  13]\n",
      " [ 16   6  29 144  22  13]\n",
      " [ 11  10   9  18  77  29]\n",
      " [  6   9   9   5  16  32]]\n",
      "Epoch 45/64, Validation Loss: 1.0259, Validation Accuracy: 0.6296\n"
     ]
    },
    {
     "name": "stderr",
     "output_type": "stream",
     "text": [
      "Epoch 46/64: 100%|██████████| 58/58 [01:09<00:00,  1.20s/batch, accuracy=0.761, loss=0.656]  \n"
     ]
    },
    {
     "name": "stdout",
     "output_type": "stream",
     "text": [
      "[1.0000000000000002e-06]\n",
      "              precision    recall  f1-score   support\n",
      "\n",
      "           0       0.72      0.68      0.70       384\n",
      "           1       0.73      0.65      0.69       384\n",
      "           2       0.64      0.68      0.66       307\n",
      "           3       0.64      0.66      0.65       230\n",
      "           4       0.54      0.55      0.54       154\n",
      "           5       0.33      0.47      0.39        77\n",
      "\n",
      "    accuracy                           0.65      1536\n",
      "   macro avg       0.60      0.61      0.60      1536\n",
      "weighted avg       0.66      0.65      0.65      1536\n",
      "\n",
      "[[262  33  36  25  17  11]\n",
      " [ 42 250  36  25  15  16]\n",
      " [ 16  31 210  25  10  15]\n",
      " [ 21   7  22 151  18  11]\n",
      " [ 17   9  15   9  84  20]\n",
      " [  8  12   8   2  11  36]]\n",
      "Epoch 46/64, Validation Loss: 0.9637, Validation Accuracy: 0.6465\n"
     ]
    },
    {
     "name": "stderr",
     "output_type": "stream",
     "text": [
      "Epoch 47/64: 100%|██████████| 58/58 [01:05<00:00,  1.13s/batch, accuracy=0.761, loss=0.655] \n"
     ]
    },
    {
     "name": "stdout",
     "output_type": "stream",
     "text": [
      "[1.0000000000000002e-06]\n",
      "              precision    recall  f1-score   support\n",
      "\n",
      "           0       0.73      0.66      0.69       384\n",
      "           1       0.74      0.67      0.70       384\n",
      "           2       0.62      0.69      0.65       307\n",
      "           3       0.62      0.64      0.63       230\n",
      "           4       0.56      0.56      0.56       154\n",
      "           5       0.33      0.45      0.38        77\n",
      "\n",
      "    accuracy                           0.65      1536\n",
      "   macro avg       0.60      0.61      0.61      1536\n",
      "weighted avg       0.66      0.65      0.65      1536\n",
      "\n",
      "[[254  40  36  29  14  11]\n",
      " [ 40 259  37  21  14  13]\n",
      " [ 19  30 211  24  10  13]\n",
      " [ 19   5  29 148  17  12]\n",
      " [ 10   9  14  13  87  21]\n",
      " [  8   8  12   2  12  35]]\n",
      "Epoch 47/64, Validation Loss: 0.9632, Validation Accuracy: 0.6471\n"
     ]
    },
    {
     "name": "stderr",
     "output_type": "stream",
     "text": [
      "Epoch 48/64: 100%|██████████| 58/58 [01:09<00:00,  1.20s/batch, accuracy=0.762, loss=0.657] \n"
     ]
    },
    {
     "name": "stdout",
     "output_type": "stream",
     "text": [
      "[1.0000000000000002e-06]\n",
      "              precision    recall  f1-score   support\n",
      "\n",
      "           0       0.73      0.65      0.69       384\n",
      "           1       0.71      0.65      0.68       384\n",
      "           2       0.65      0.68      0.67       307\n",
      "           3       0.60      0.63      0.61       230\n",
      "           4       0.53      0.58      0.55       154\n",
      "           5       0.31      0.44      0.37        77\n",
      "\n",
      "    accuracy                           0.64      1536\n",
      "   macro avg       0.59      0.61      0.59      1536\n",
      "weighted avg       0.65      0.64      0.64      1536\n",
      "\n",
      "[[251  44  30  32  17  10]\n",
      " [ 39 248  38  29  15  15]\n",
      " [ 17  27 210  23  15  15]\n",
      " [ 17   7  29 146  19  12]\n",
      " [ 11  10   9  13  89  22]\n",
      " [ 10  11   7   2  13  34]]\n",
      "Epoch 48/64, Validation Loss: 0.9954, Validation Accuracy: 0.6367\n"
     ]
    },
    {
     "name": "stderr",
     "output_type": "stream",
     "text": [
      "Epoch 49/64: 100%|██████████| 58/58 [01:06<00:00,  1.14s/batch, accuracy=0.761, loss=0.66]  \n"
     ]
    },
    {
     "name": "stdout",
     "output_type": "stream",
     "text": [
      "[1.0000000000000002e-06]\n",
      "              precision    recall  f1-score   support\n",
      "\n",
      "           0       0.72      0.63      0.67       384\n",
      "           1       0.73      0.69      0.71       384\n",
      "           2       0.63      0.66      0.65       307\n",
      "           3       0.62      0.65      0.63       230\n",
      "           4       0.54      0.60      0.57       154\n",
      "           5       0.32      0.44      0.37        77\n",
      "\n",
      "    accuracy                           0.64      1536\n",
      "   macro avg       0.59      0.61      0.60      1536\n",
      "weighted avg       0.65      0.64      0.65      1536\n",
      "\n",
      "[[241  48  38  29  15  13]\n",
      " [ 33 266  32  25  12  16]\n",
      " [ 24  25 204  25  14  15]\n",
      " [ 18   4  27 149  23   9]\n",
      " [ 11  11  12  10  92  18]\n",
      " [  9   8   9   3  14  34]]\n",
      "Epoch 49/64, Validation Loss: 0.9890, Validation Accuracy: 0.6419\n"
     ]
    },
    {
     "name": "stderr",
     "output_type": "stream",
     "text": [
      "Epoch 50/64: 100%|██████████| 58/58 [01:01<00:00,  1.06s/batch, accuracy=0.764, loss=0.661] \n"
     ]
    },
    {
     "name": "stdout",
     "output_type": "stream",
     "text": [
      "[1.0000000000000002e-06]\n",
      "              precision    recall  f1-score   support\n",
      "\n",
      "           0       0.74      0.64      0.69       384\n",
      "           1       0.72      0.67      0.69       384\n",
      "           2       0.64      0.67      0.65       307\n",
      "           3       0.62      0.65      0.64       230\n",
      "           4       0.56      0.61      0.58       154\n",
      "           5       0.36      0.53      0.43        77\n",
      "\n",
      "    accuracy                           0.65      1536\n",
      "   macro avg       0.61      0.63      0.61      1536\n",
      "weighted avg       0.66      0.65      0.65      1536\n",
      "\n",
      "[[245  47  36  32  15   9]\n",
      " [ 35 258  37  23  14  17]\n",
      " [ 15  32 206  25  14  15]\n",
      " [ 16   8  23 150  22  11]\n",
      " [ 13   5  11  11  94  20]\n",
      " [  6   9  11   0  10  41]]\n",
      "Epoch 50/64, Validation Loss: 0.9792, Validation Accuracy: 0.6471\n"
     ]
    },
    {
     "name": "stderr",
     "output_type": "stream",
     "text": [
      "Epoch 51/64: 100%|██████████| 58/58 [01:04<00:00,  1.12s/batch, accuracy=0.758, loss=0.664]  \n"
     ]
    },
    {
     "name": "stdout",
     "output_type": "stream",
     "text": [
      "[1.0000000000000002e-06]\n",
      "              precision    recall  f1-score   support\n",
      "\n",
      "           0       0.72      0.66      0.69       384\n",
      "           1       0.76      0.68      0.72       384\n",
      "           2       0.68      0.67      0.68       307\n",
      "           3       0.62      0.66      0.64       230\n",
      "           4       0.51      0.59      0.54       154\n",
      "           5       0.30      0.43      0.35        77\n",
      "\n",
      "    accuracy                           0.65      1536\n",
      "   macro avg       0.60      0.62      0.60      1536\n",
      "weighted avg       0.66      0.65      0.65      1536\n",
      "\n",
      "[[254  36  29  32  16  17]\n",
      " [ 40 262  32  20  14  16]\n",
      " [ 20  28 205  27  12  15]\n",
      " [ 15   3  19 152  29  12]\n",
      " [ 16   7   8  15  91  17]\n",
      " [  8  10   7   1  18  33]]\n",
      "Epoch 51/64, Validation Loss: 0.9622, Validation Accuracy: 0.6491\n"
     ]
    },
    {
     "name": "stderr",
     "output_type": "stream",
     "text": [
      "Epoch 52/64: 100%|██████████| 58/58 [01:03<00:00,  1.10s/batch, accuracy=0.76, loss=0.657]  \n"
     ]
    },
    {
     "name": "stdout",
     "output_type": "stream",
     "text": [
      "[1.0000000000000002e-06]\n",
      "              precision    recall  f1-score   support\n",
      "\n",
      "           0       0.71      0.63      0.67       384\n",
      "           1       0.74      0.67      0.71       384\n",
      "           2       0.67      0.69      0.68       307\n",
      "           3       0.60      0.67      0.63       230\n",
      "           4       0.54      0.60      0.57       154\n",
      "           5       0.30      0.40      0.35        77\n",
      "\n",
      "    accuracy                           0.64      1536\n",
      "   macro avg       0.59      0.61      0.60      1536\n",
      "weighted avg       0.65      0.64      0.65      1536\n",
      "\n",
      "[[242  45  34  36  17  10]\n",
      " [ 39 259  33  23  14  16]\n",
      " [ 21  23 211  24  12  16]\n",
      " [ 13   8  24 154  20  11]\n",
      " [ 17   4   6  17  92  18]\n",
      " [ 11  10   7   4  14  31]]\n",
      "Epoch 52/64, Validation Loss: 0.9958, Validation Accuracy: 0.6439\n"
     ]
    },
    {
     "name": "stderr",
     "output_type": "stream",
     "text": [
      "Epoch 53/64: 100%|██████████| 58/58 [01:06<00:00,  1.15s/batch, accuracy=0.763, loss=0.652] \n"
     ]
    },
    {
     "name": "stdout",
     "output_type": "stream",
     "text": [
      "[1.0000000000000002e-06]\n",
      "              precision    recall  f1-score   support\n",
      "\n",
      "           0       0.72      0.64      0.68       384\n",
      "           1       0.75      0.66      0.70       384\n",
      "           2       0.64      0.70      0.67       307\n",
      "           3       0.59      0.69      0.64       230\n",
      "           4       0.54      0.57      0.55       154\n",
      "           5       0.32      0.39      0.35        77\n",
      "\n",
      "    accuracy                           0.64      1536\n",
      "   macro avg       0.59      0.61      0.60      1536\n",
      "weighted avg       0.66      0.64      0.65      1536\n",
      "\n",
      "[[244  43  32  38  15  12]\n",
      " [ 36 252  42  26  15  13]\n",
      " [ 22  22 216  26  10  11]\n",
      " [ 13   5  24 159  18  11]\n",
      " [ 15   7  10  16  88  18]\n",
      " [  8   6  12   3  18  30]]\n",
      "Epoch 53/64, Validation Loss: 0.9740, Validation Accuracy: 0.6439\n"
     ]
    },
    {
     "name": "stderr",
     "output_type": "stream",
     "text": [
      "Epoch 54/64: 100%|██████████| 58/58 [01:02<00:00,  1.08s/batch, accuracy=0.767, loss=0.653] \n"
     ]
    },
    {
     "name": "stdout",
     "output_type": "stream",
     "text": [
      "[1.0000000000000002e-06]\n",
      "              precision    recall  f1-score   support\n",
      "\n",
      "           0       0.73      0.65      0.69       384\n",
      "           1       0.77      0.69      0.73       384\n",
      "           2       0.63      0.69      0.66       307\n",
      "           3       0.64      0.67      0.65       230\n",
      "           4       0.57      0.58      0.57       154\n",
      "           5       0.31      0.47      0.38        77\n",
      "\n",
      "    accuracy                           0.65      1536\n",
      "   macro avg       0.61      0.62      0.61      1536\n",
      "weighted avg       0.67      0.65      0.66      1536\n",
      "\n",
      "[[251  32  44  29  14  14]\n",
      " [ 38 264  35  20  10  17]\n",
      " [ 20  26 211  21  13  16]\n",
      " [ 18   6  24 154  16  12]\n",
      " [ 13   9  10  13  89  20]\n",
      " [  6   7  10   4  14  36]]\n",
      "Epoch 54/64, Validation Loss: 0.9840, Validation Accuracy: 0.6543\n"
     ]
    },
    {
     "name": "stderr",
     "output_type": "stream",
     "text": [
      "Epoch 55/64: 100%|██████████| 58/58 [01:10<00:00,  1.22s/batch, accuracy=0.762, loss=0.647] \n"
     ]
    },
    {
     "name": "stdout",
     "output_type": "stream",
     "text": [
      "[1.0000000000000002e-06]\n",
      "              precision    recall  f1-score   support\n",
      "\n",
      "           0       0.70      0.66      0.68       384\n",
      "           1       0.74      0.68      0.71       384\n",
      "           2       0.67      0.68      0.67       307\n",
      "           3       0.64      0.67      0.65       230\n",
      "           4       0.54      0.59      0.56       154\n",
      "           5       0.31      0.43      0.36        77\n",
      "\n",
      "    accuracy                           0.65      1536\n",
      "   macro avg       0.60      0.62      0.61      1536\n",
      "weighted avg       0.66      0.65      0.65      1536\n",
      "\n",
      "[[252  39  34  24  20  15]\n",
      " [ 44 260  35  24  10  11]\n",
      " [ 20  30 208  25  10  14]\n",
      " [ 23   3  17 153  23  11]\n",
      " [ 12   9   7  13  91  22]\n",
      " [  7  11   9   1  16  33]]\n",
      "Epoch 55/64, Validation Loss: 0.9847, Validation Accuracy: 0.6491\n"
     ]
    },
    {
     "name": "stderr",
     "output_type": "stream",
     "text": [
      "Epoch 56/64: 100%|██████████| 58/58 [01:06<00:00,  1.14s/batch, accuracy=0.76, loss=0.66]   \n"
     ]
    },
    {
     "name": "stdout",
     "output_type": "stream",
     "text": [
      "[1.0000000000000002e-06]\n",
      "              precision    recall  f1-score   support\n",
      "\n",
      "           0       0.72      0.66      0.69       384\n",
      "           1       0.75      0.66      0.70       384\n",
      "           2       0.66      0.69      0.68       307\n",
      "           3       0.60      0.65      0.63       230\n",
      "           4       0.51      0.58      0.54       154\n",
      "           5       0.31      0.40      0.35        77\n",
      "\n",
      "    accuracy                           0.64      1536\n",
      "   macro avg       0.59      0.61      0.60      1536\n",
      "weighted avg       0.66      0.64      0.65      1536\n",
      "\n",
      "[[254  36  30  35  16  13]\n",
      " [ 41 255  37  21  13  17]\n",
      " [ 17  25 211  27  15  12]\n",
      " [ 16   6  23 150  24  11]\n",
      " [ 18   6  11  14  89  16]\n",
      " [  8  13   6   1  18  31]]\n",
      "Epoch 56/64, Validation Loss: 0.9755, Validation Accuracy: 0.6445\n"
     ]
    },
    {
     "name": "stderr",
     "output_type": "stream",
     "text": [
      "Epoch 57/64: 100%|██████████| 58/58 [01:09<00:00,  1.20s/batch, accuracy=0.756, loss=0.66]  \n"
     ]
    },
    {
     "name": "stdout",
     "output_type": "stream",
     "text": [
      "[1.0000000000000002e-06]\n",
      "              precision    recall  f1-score   support\n",
      "\n",
      "           0       0.75      0.66      0.70       384\n",
      "           1       0.72      0.66      0.69       384\n",
      "           2       0.63      0.68      0.66       307\n",
      "           3       0.61      0.66      0.63       230\n",
      "           4       0.56      0.60      0.58       154\n",
      "           5       0.38      0.48      0.42        77\n",
      "\n",
      "    accuracy                           0.65      1536\n",
      "   macro avg       0.61      0.63      0.61      1536\n",
      "weighted avg       0.66      0.65      0.65      1536\n",
      "\n",
      "[[253  41  34  32  13  11]\n",
      " [ 34 255  42  26  14  13]\n",
      " [ 16  29 210  27  14  11]\n",
      " [ 15   6  28 152  18  11]\n",
      " [ 15  10   8  13  93  15]\n",
      " [  5  12   9   1  13  37]]\n",
      "Epoch 57/64, Validation Loss: 0.9769, Validation Accuracy: 0.6510\n"
     ]
    },
    {
     "name": "stderr",
     "output_type": "stream",
     "text": [
      "Epoch 58/64: 100%|██████████| 58/58 [01:06<00:00,  1.15s/batch, accuracy=0.758, loss=0.665] \n"
     ]
    },
    {
     "name": "stdout",
     "output_type": "stream",
     "text": [
      "[1.0000000000000002e-06]\n",
      "              precision    recall  f1-score   support\n",
      "\n",
      "           0       0.74      0.64      0.69       384\n",
      "           1       0.77      0.67      0.72       384\n",
      "           2       0.62      0.66      0.64       307\n",
      "           3       0.58      0.67      0.62       230\n",
      "           4       0.54      0.60      0.57       154\n",
      "           5       0.35      0.48      0.40        77\n",
      "\n",
      "    accuracy                           0.65      1536\n",
      "   macro avg       0.60      0.62      0.61      1536\n",
      "weighted avg       0.66      0.65      0.65      1536\n",
      "\n",
      "[[246  34  38  30  21  15]\n",
      " [ 32 259  38  29  13  13]\n",
      " [ 18  27 204  29  17  12]\n",
      " [ 17   3  29 153  17  11]\n",
      " [ 12   6   9  17  92  18]\n",
      " [  7   8  10   4  11  37]]\n",
      "Epoch 58/64, Validation Loss: 1.0020, Validation Accuracy: 0.6452\n"
     ]
    },
    {
     "name": "stderr",
     "output_type": "stream",
     "text": [
      "Epoch 59/64: 100%|██████████| 58/58 [01:02<00:00,  1.08s/batch, accuracy=0.765, loss=0.65]  \n"
     ]
    },
    {
     "name": "stdout",
     "output_type": "stream",
     "text": [
      "[1.0000000000000002e-06]\n",
      "              precision    recall  f1-score   support\n",
      "\n",
      "           0       0.72      0.69      0.70       384\n",
      "           1       0.77      0.69      0.73       384\n",
      "           2       0.67      0.69      0.68       307\n",
      "           3       0.63      0.65      0.64       230\n",
      "           4       0.50      0.54      0.52       154\n",
      "           5       0.32      0.44      0.37        77\n",
      "\n",
      "    accuracy                           0.65      1536\n",
      "   macro avg       0.60      0.62      0.61      1536\n",
      "weighted avg       0.67      0.65      0.66      1536\n",
      "\n",
      "[[264  34  24  32  17  13]\n",
      " [ 39 265  37  19  14  10]\n",
      " [ 24  27 211  22  11  12]\n",
      " [ 14   6  25 149  23  13]\n",
      " [ 18   8   9  13  83  23]\n",
      " [  8   5   9   2  19  34]]\n",
      "Epoch 59/64, Validation Loss: 0.9620, Validation Accuracy: 0.6549\n"
     ]
    },
    {
     "name": "stderr",
     "output_type": "stream",
     "text": [
      "Epoch 60/64: 100%|██████████| 58/58 [01:08<00:00,  1.18s/batch, accuracy=0.761, loss=0.66]  \n"
     ]
    },
    {
     "name": "stdout",
     "output_type": "stream",
     "text": [
      "[1.0000000000000002e-07]\n",
      "              precision    recall  f1-score   support\n",
      "\n",
      "           0       0.73      0.68      0.71       384\n",
      "           1       0.75      0.68      0.71       384\n",
      "           2       0.65      0.69      0.67       307\n",
      "           3       0.62      0.66      0.64       230\n",
      "           4       0.55      0.58      0.57       154\n",
      "           5       0.34      0.43      0.38        77\n",
      "\n",
      "    accuracy                           0.66      1536\n",
      "   macro avg       0.61      0.62      0.61      1536\n",
      "weighted avg       0.67      0.66      0.66      1536\n",
      "\n",
      "[[263  36  33  29  14   9]\n",
      " [ 40 261  35  21  10  17]\n",
      " [ 16  26 212  29  14  10]\n",
      " [ 17   6  27 151  20   9]\n",
      " [ 12   9  11  13  90  19]\n",
      " [ 11   9   6   2  16  33]]\n",
      "Epoch 60/64, Validation Loss: 0.9875, Validation Accuracy: 0.6576\n"
     ]
    },
    {
     "name": "stderr",
     "output_type": "stream",
     "text": [
      "Epoch 61/64: 100%|██████████| 58/58 [01:04<00:00,  1.12s/batch, accuracy=0.757, loss=0.665] \n"
     ]
    },
    {
     "name": "stdout",
     "output_type": "stream",
     "text": [
      "[1.0000000000000002e-07]\n",
      "              precision    recall  f1-score   support\n",
      "\n",
      "           0       0.71      0.67      0.69       384\n",
      "           1       0.74      0.68      0.71       384\n",
      "           2       0.66      0.65      0.66       307\n",
      "           3       0.60      0.64      0.62       230\n",
      "           4       0.51      0.52      0.52       154\n",
      "           5       0.30      0.45      0.36        77\n",
      "\n",
      "    accuracy                           0.64      1536\n",
      "   macro avg       0.59      0.60      0.59      1536\n",
      "weighted avg       0.65      0.64      0.64      1536\n",
      "\n",
      "[[257  34  29  34  16  14]\n",
      " [ 40 261  33  18  11  21]\n",
      " [ 18  34 201  31  12  11]\n",
      " [ 20   5  20 148  25  12]\n",
      " [ 16   9  11  15  80  23]\n",
      " [ 12   8   9   1  12  35]]\n",
      "Epoch 61/64, Validation Loss: 0.9553, Validation Accuracy: 0.6393\n"
     ]
    },
    {
     "name": "stderr",
     "output_type": "stream",
     "text": [
      "Epoch 62/64: 100%|██████████| 58/58 [01:08<00:00,  1.18s/batch, accuracy=0.764, loss=0.651] \n"
     ]
    },
    {
     "name": "stdout",
     "output_type": "stream",
     "text": [
      "[1.0000000000000002e-07]\n",
      "              precision    recall  f1-score   support\n",
      "\n",
      "           0       0.71      0.65      0.68       384\n",
      "           1       0.72      0.67      0.70       384\n",
      "           2       0.68      0.68      0.68       307\n",
      "           3       0.58      0.63      0.60       230\n",
      "           4       0.53      0.58      0.55       154\n",
      "           5       0.36      0.49      0.42        77\n",
      "\n",
      "    accuracy                           0.64      1536\n",
      "   macro avg       0.60      0.62      0.60      1536\n",
      "weighted avg       0.65      0.64      0.65      1536\n",
      "\n",
      "[[250  42  33  36  15   8]\n",
      " [ 40 257  33  31  11  12]\n",
      " [ 22  26 209  23  16  11]\n",
      " [ 18  11  20 144  22  15]\n",
      " [ 15   9   7  12  89  22]\n",
      " [  6  10   7   2  14  38]]\n",
      "Epoch 62/64, Validation Loss: 0.9664, Validation Accuracy: 0.6426\n"
     ]
    },
    {
     "name": "stderr",
     "output_type": "stream",
     "text": [
      "Epoch 63/64: 100%|██████████| 58/58 [01:11<00:00,  1.23s/batch, accuracy=0.768, loss=0.641] \n"
     ]
    },
    {
     "name": "stdout",
     "output_type": "stream",
     "text": [
      "[1.0000000000000002e-07]\n",
      "              precision    recall  f1-score   support\n",
      "\n",
      "           0       0.75      0.68      0.71       384\n",
      "           1       0.75      0.68      0.72       384\n",
      "           2       0.66      0.70      0.68       307\n",
      "           3       0.62      0.66      0.64       230\n",
      "           4       0.55      0.58      0.57       154\n",
      "           5       0.37      0.51      0.43        77\n",
      "\n",
      "    accuracy                           0.66      1536\n",
      "   macro avg       0.62      0.64      0.62      1536\n",
      "weighted avg       0.67      0.66      0.67      1536\n",
      "\n",
      "[[262  36  29  33  10  14]\n",
      " [ 38 261  34  27  13  11]\n",
      " [ 18  25 216  20  11  17]\n",
      " [ 16   7  23 152  22  10]\n",
      " [ 15   9  14  13  89  14]\n",
      " [  2   8  10   2  16  39]]\n",
      "Epoch 63/64, Validation Loss: 0.9456, Validation Accuracy: 0.6634\n"
     ]
    },
    {
     "name": "stderr",
     "output_type": "stream",
     "text": [
      "Epoch 64/64: 100%|██████████| 58/58 [01:13<00:00,  1.26s/batch, accuracy=0.762, loss=0.657] \n"
     ]
    },
    {
     "name": "stdout",
     "output_type": "stream",
     "text": [
      "[1.0000000000000002e-07]\n",
      "              precision    recall  f1-score   support\n",
      "\n",
      "           0       0.72      0.65      0.68       384\n",
      "           1       0.74      0.66      0.70       384\n",
      "           2       0.66      0.69      0.68       307\n",
      "           3       0.60      0.66      0.63       230\n",
      "           4       0.52      0.58      0.55       154\n",
      "           5       0.29      0.38      0.33        77\n",
      "\n",
      "    accuracy                           0.64      1536\n",
      "   macro avg       0.59      0.60      0.59      1536\n",
      "weighted avg       0.65      0.64      0.65      1536\n",
      "\n",
      "[[250  36  35  34  16  13]\n",
      " [ 39 254  34  27  14  16]\n",
      " [ 20  26 213  23  13  12]\n",
      " [ 16  10  19 151  21  13]\n",
      " [ 13   8  10  15  90  18]\n",
      " [  9   8  10   2  19  29]]\n",
      "Epoch 64/64, Validation Loss: 1.0035, Validation Accuracy: 0.6426\n",
      "Finished Training\n",
      "Best validation accuracy: 0.6654\n"
     ]
    }
   ],
   "source": [
    "if __name__ == \"__main__\":\n",
    "    model = TunnedBlockStackNet8()\n",
    "    trainer3 = ClassificationBlockStackTrainer1(\n",
    "        csv_path = csv_path, \n",
    "        img_dir=img_dir, \n",
    "        model=model,\n",
    "        test_size=0.2, \n",
    "        num_epochs=64,\n",
    "        batch_size=128,\n",
    "        )\n",
    "    trainer3.train()"
   ]
  },
  {
   "cell_type": "markdown",
   "metadata": {},
   "source": [
    "# Model2\n",
    "* with higher batch size: 64"
   ]
  },
  {
   "cell_type": "code",
   "execution_count": 37,
   "metadata": {
    "scrolled": true
   },
   "outputs": [
    {
     "name": "stdout",
     "output_type": "stream",
     "text": [
      "Train dataset size: 6144 Validation dataset size: 1536 length of train_ids1 length of valid_ids1\n"
     ]
    },
    {
     "name": "stderr",
     "output_type": "stream",
     "text": [
      "Epoch 1/64:   0%|          | 0/115 [00:00<?, ?batch/s]/root/miniconda3/lib/python3.12/site-packages/torch/nn/modules/conv.py:456: UserWarning: Plan failed with a cudnnException: CUDNN_BACKEND_EXECUTION_PLAN_DESCRIPTOR: cudnnFinalize Descriptor Failed cudnn_status: CUDNN_STATUS_NOT_SUPPORTED (Triggered internally at ../aten/src/ATen/native/cudnn/Conv_v8.cpp:919.)\n",
      "  return F.conv2d(input, weight, bias, self.stride,\n",
      "Epoch 1/64: 100%|██████████| 115/115 [01:08<00:00,  1.67batch/s, accuracy=0.265, loss=1.61]  \n"
     ]
    },
    {
     "name": "stdout",
     "output_type": "stream",
     "text": [
      "[0.001]\n",
      "              precision    recall  f1-score   support\n",
      "\n",
      "           0       0.39      0.58      0.47       384\n",
      "           1       0.00      0.00      0.00       384\n",
      "           2       0.33      0.22      0.27       307\n",
      "           3       0.20      0.67      0.31       230\n",
      "           4       0.00      0.00      0.00       154\n",
      "           5       0.00      0.00      0.00        77\n",
      "\n",
      "    accuracy                           0.29      1536\n",
      "   macro avg       0.15      0.25      0.17      1536\n",
      "weighted avg       0.20      0.29      0.22      1536\n",
      "\n",
      "[[221   0  37 126   0   0]\n",
      " [189   0  61 134   0   0]\n",
      " [104   0  69 134   0   0]\n",
      " [ 44   0  31 155   0   0]\n",
      " [  2   0  10 142   0   0]\n",
      " [  1   0   0  76   0   0]]\n",
      "Epoch 1/64, Validation Loss: 1.5434, Validation Accuracy: 0.2897\n",
      "Best model saved! 20241014-2142\n"
     ]
    },
    {
     "name": "stderr",
     "output_type": "stream",
     "text": [
      "Epoch 2/64: 100%|██████████| 115/115 [01:11<00:00,  1.62batch/s, accuracy=0.337, loss=1.47]  \n"
     ]
    },
    {
     "name": "stdout",
     "output_type": "stream",
     "text": [
      "[0.001]\n",
      "              precision    recall  f1-score   support\n",
      "\n",
      "           0       0.29      0.49      0.36       384\n",
      "           1       0.41      0.41      0.41       384\n",
      "           2       0.37      0.47      0.42       307\n",
      "           3       0.41      0.07      0.11       230\n",
      "           4       0.33      0.16      0.22       154\n",
      "           5       0.00      0.00      0.00        77\n",
      "\n",
      "    accuracy                           0.35      1536\n",
      "   macro avg       0.30      0.27      0.25      1536\n",
      "weighted avg       0.34      0.35      0.32      1536\n",
      "\n",
      "[[188 119  61   6  10   0]\n",
      " [117 157  99   4   7   0]\n",
      " [ 86  60 145   8   8   0]\n",
      " [ 80  43  69  15  22   1]\n",
      " [109   6  11   3  25   0]\n",
      " [ 69   1   2   1   4   0]]\n",
      "Epoch 2/64, Validation Loss: 1.4333, Validation Accuracy: 0.3451\n",
      "Best model saved! 20241014-2144\n"
     ]
    },
    {
     "name": "stderr",
     "output_type": "stream",
     "text": [
      "Epoch 3/64: 100%|██████████| 115/115 [01:13<00:00,  1.57batch/s, accuracy=0.387, loss=1.41]  \n"
     ]
    },
    {
     "name": "stdout",
     "output_type": "stream",
     "text": [
      "[0.001]\n",
      "              precision    recall  f1-score   support\n",
      "\n",
      "           0       0.66      0.35      0.46       384\n",
      "           1       0.45      0.60      0.52       384\n",
      "           2       0.41      0.36      0.38       307\n",
      "           3       0.28      0.54      0.37       230\n",
      "           4       0.24      0.16      0.19       154\n",
      "           5       0.00      0.00      0.00        77\n",
      "\n",
      "    accuracy                           0.41      1536\n",
      "   macro avg       0.34      0.34      0.32      1536\n",
      "weighted avg       0.43      0.41      0.39      1536\n",
      "\n",
      "[[135 145  39  52  13   0]\n",
      " [ 29 231  48  59  17   0]\n",
      " [ 13  89 110  85  10   0]\n",
      " [  9  33  50 125  13   0]\n",
      " [ 11   8  21  89  25   0]\n",
      " [  7   2   3  39  26   0]]\n",
      "Epoch 3/64, Validation Loss: 1.3743, Validation Accuracy: 0.4076\n",
      "Best model saved! 20241014-2145\n"
     ]
    },
    {
     "name": "stderr",
     "output_type": "stream",
     "text": [
      "Epoch 4/64: 100%|██████████| 115/115 [01:10<00:00,  1.64batch/s, accuracy=0.401, loss=1.34]  \n"
     ]
    },
    {
     "name": "stdout",
     "output_type": "stream",
     "text": [
      "[0.001]\n",
      "              precision    recall  f1-score   support\n",
      "\n",
      "           0       0.53      0.53      0.53       384\n",
      "           1       0.70      0.27      0.39       384\n",
      "           2       0.50      0.43      0.46       307\n",
      "           3       0.32      0.66      0.43       230\n",
      "           4       0.26      0.43      0.32       154\n",
      "           5       0.50      0.03      0.05        77\n",
      "\n",
      "    accuracy                           0.43      1536\n",
      "   macro avg       0.47      0.39      0.36      1536\n",
      "weighted avg       0.50      0.43      0.42      1536\n",
      "\n",
      "[[205  28  46  66  37   2]\n",
      " [108 104  54  75  43   0]\n",
      " [ 39  17 132  86  33   0]\n",
      " [ 13   0  33 151  33   0]\n",
      " [ 15   0   1  72  66   0]\n",
      " [  8   0   0  23  44   2]]\n",
      "Epoch 4/64, Validation Loss: 1.3583, Validation Accuracy: 0.4297\n",
      "Best model saved! 20241014-2147\n"
     ]
    },
    {
     "name": "stderr",
     "output_type": "stream",
     "text": [
      "Epoch 5/64: 100%|██████████| 115/115 [01:10<00:00,  1.64batch/s, accuracy=0.427, loss=1.31]  \n"
     ]
    },
    {
     "name": "stdout",
     "output_type": "stream",
     "text": [
      "[0.001]\n",
      "              precision    recall  f1-score   support\n",
      "\n",
      "           0       0.73      0.37      0.49       384\n",
      "           1       0.52      0.51      0.51       384\n",
      "           2       0.45      0.43      0.44       307\n",
      "           3       0.32      0.56      0.41       230\n",
      "           4       0.26      0.44      0.33       154\n",
      "           5       0.38      0.08      0.13        77\n",
      "\n",
      "    accuracy                           0.44      1536\n",
      "   macro avg       0.44      0.40      0.39      1536\n",
      "weighted avg       0.50      0.44      0.44      1536\n",
      "\n",
      "[[142 102  40  54  42   4]\n",
      " [ 26 196  53  67  38   4]\n",
      " [ 13  72 133  59  30   0]\n",
      " [  6   7  54 128  33   2]\n",
      " [  3   2  12  70  67   0]\n",
      " [  4   0   4  17  46   6]]\n",
      "Epoch 5/64, Validation Loss: 1.2883, Validation Accuracy: 0.4375\n",
      "Best model saved! 20241014-2148\n"
     ]
    },
    {
     "name": "stderr",
     "output_type": "stream",
     "text": [
      "Epoch 6/64: 100%|██████████| 115/115 [01:09<00:00,  1.67batch/s, accuracy=0.442, loss=1.29]  \n"
     ]
    },
    {
     "name": "stdout",
     "output_type": "stream",
     "text": [
      "[0.001]\n",
      "              precision    recall  f1-score   support\n",
      "\n",
      "           0       0.65      0.53      0.59       384\n",
      "           1       0.69      0.30      0.42       384\n",
      "           2       0.48      0.32      0.39       307\n",
      "           3       0.31      0.19      0.23       230\n",
      "           4       0.15      0.17      0.16       154\n",
      "           5       0.12      0.82      0.20        77\n",
      "\n",
      "    accuracy                           0.36      1536\n",
      "   macro avg       0.40      0.39      0.33      1536\n",
      "weighted avg       0.50      0.36      0.39      1536\n",
      "\n",
      "[[205  32  34  16  20  77]\n",
      " [ 53 114  65  22  33  97]\n",
      " [ 26   9  99  56  34  83]\n",
      " [ 17   3   7  43  58 102]\n",
      " [  7   4   0   1  26 116]\n",
      " [  8   3   0   0   3  63]]\n",
      "Epoch 6/64, Validation Loss: 1.4344, Validation Accuracy: 0.3581\n"
     ]
    },
    {
     "name": "stderr",
     "output_type": "stream",
     "text": [
      "Epoch 7/64: 100%|██████████| 115/115 [01:10<00:00,  1.62batch/s, accuracy=0.471, loss=1.26]   \n"
     ]
    },
    {
     "name": "stdout",
     "output_type": "stream",
     "text": [
      "[0.001]\n",
      "              precision    recall  f1-score   support\n",
      "\n",
      "           0       0.74      0.44      0.55       384\n",
      "           1       0.64      0.43      0.52       384\n",
      "           2       0.43      0.62      0.51       307\n",
      "           3       0.35      0.63      0.45       230\n",
      "           4       0.24      0.29      0.26       154\n",
      "           5       0.19      0.04      0.06        77\n",
      "\n",
      "    accuracy                           0.47      1536\n",
      "   macro avg       0.43      0.41      0.39      1536\n",
      "weighted avg       0.52      0.47      0.47      1536\n",
      "\n",
      "[[170  61  72  55  22   4]\n",
      " [ 28 167 108  45  29   7]\n",
      " [ 12  18 189  62  25   1]\n",
      " [  6   3  51 145  24   1]\n",
      " [  8   3  10  89  44   0]\n",
      " [  5   7   5  17  40   3]]\n",
      "Epoch 7/64, Validation Loss: 1.2488, Validation Accuracy: 0.4674\n",
      "Best model saved! 20241014-2151\n"
     ]
    },
    {
     "name": "stderr",
     "output_type": "stream",
     "text": [
      "Epoch 8/64: 100%|██████████| 115/115 [01:10<00:00,  1.62batch/s, accuracy=0.482, loss=1.22]  \n"
     ]
    },
    {
     "name": "stdout",
     "output_type": "stream",
     "text": [
      "[0.001]\n",
      "              precision    recall  f1-score   support\n",
      "\n",
      "           0       0.63      0.51      0.56       384\n",
      "           1       0.55      0.58      0.56       384\n",
      "           2       0.39      0.61      0.47       307\n",
      "           3       0.29      0.23      0.25       230\n",
      "           4       0.29      0.28      0.28       154\n",
      "           5       0.00      0.00      0.00        77\n",
      "\n",
      "    accuracy                           0.46      1536\n",
      "   macro avg       0.36      0.37      0.36      1536\n",
      "weighted avg       0.44      0.46      0.44      1536\n",
      "\n",
      "[[196  91  58  19  19   1]\n",
      " [ 52 223  73  12  23   1]\n",
      " [ 20  64 188  24  10   1]\n",
      " [ 17  15 130  52  16   0]\n",
      " [ 17   7  28  59  43   0]\n",
      " [  8   7   8  16  38   0]]\n",
      "Epoch 8/64, Validation Loss: 1.2974, Validation Accuracy: 0.4570\n"
     ]
    },
    {
     "name": "stderr",
     "output_type": "stream",
     "text": [
      "Epoch 9/64: 100%|██████████| 115/115 [01:10<00:00,  1.63batch/s, accuracy=0.488, loss=1.22]  \n"
     ]
    },
    {
     "name": "stdout",
     "output_type": "stream",
     "text": [
      "[0.001]\n",
      "              precision    recall  f1-score   support\n",
      "\n",
      "           0       0.75      0.55      0.63       384\n",
      "           1       0.83      0.37      0.51       384\n",
      "           2       0.51      0.40      0.45       307\n",
      "           3       0.40      0.30      0.34       230\n",
      "           4       0.21      0.32      0.26       154\n",
      "           5       0.16      0.91      0.27        77\n",
      "\n",
      "    accuracy                           0.43      1536\n",
      "   macro avg       0.48      0.47      0.41      1536\n",
      "weighted avg       0.59      0.43      0.47      1536\n",
      "\n",
      "[[210  20  39  15  32  68]\n",
      " [ 31 141  70  31  31  80]\n",
      " [ 20   6 122  57  42  60]\n",
      " [ 16   1   9  69  77  58]\n",
      " [  2   0   0   1  50 101]\n",
      " [  0   1   0   0   6  70]]\n",
      "Epoch 9/64, Validation Loss: 1.2713, Validation Accuracy: 0.4310\n"
     ]
    },
    {
     "name": "stderr",
     "output_type": "stream",
     "text": [
      "Epoch 10/64: 100%|██████████| 115/115 [01:09<00:00,  1.66batch/s, accuracy=0.507, loss=1.18]  \n"
     ]
    },
    {
     "name": "stdout",
     "output_type": "stream",
     "text": [
      "[0.001]\n",
      "              precision    recall  f1-score   support\n",
      "\n",
      "           0       0.62      0.59      0.60       384\n",
      "           1       0.68      0.48      0.57       384\n",
      "           2       0.52      0.61      0.56       307\n",
      "           3       0.39      0.43      0.41       230\n",
      "           4       0.28      0.48      0.35       154\n",
      "           5       0.35      0.10      0.16        77\n",
      "\n",
      "    accuracy                           0.51      1536\n",
      "   macro avg       0.47      0.45      0.44      1536\n",
      "weighted avg       0.53      0.51      0.51      1536\n",
      "\n",
      "[[225  51  48  28  28   4]\n",
      " [ 65 186  68  31  28   6]\n",
      " [ 16  29 186  37  36   3]\n",
      " [ 30   2  51  99  48   0]\n",
      " [ 18   4   3  53  74   2]\n",
      " [ 11   1   0   3  54   8]]\n",
      "Epoch 10/64, Validation Loss: 1.1461, Validation Accuracy: 0.5065\n",
      "Best model saved! 20241014-2155\n"
     ]
    },
    {
     "name": "stderr",
     "output_type": "stream",
     "text": [
      "Epoch 11/64: 100%|██████████| 115/115 [01:13<00:00,  1.57batch/s, accuracy=0.525, loss=1.16]  \n"
     ]
    },
    {
     "name": "stdout",
     "output_type": "stream",
     "text": [
      "[0.001]\n",
      "              precision    recall  f1-score   support\n",
      "\n",
      "           0       0.57      0.67      0.62       384\n",
      "           1       0.62      0.61      0.62       384\n",
      "           2       0.50      0.63      0.56       307\n",
      "           3       0.44      0.36      0.40       230\n",
      "           4       0.34      0.27      0.30       154\n",
      "           5       0.27      0.04      0.07        77\n",
      "\n",
      "    accuracy                           0.53      1536\n",
      "   macro avg       0.46      0.43      0.43      1536\n",
      "weighted avg       0.51      0.53      0.51      1536\n",
      "\n",
      "[[256  55  37  24  11   1]\n",
      " [ 71 236  47  17  13   0]\n",
      " [ 27  58 193  17  10   2]\n",
      " [ 32  11  81  83  23   0]\n",
      " [ 31  14  15  47  42   5]\n",
      " [ 30   9  12   0  23   3]]\n",
      "Epoch 11/64, Validation Loss: 1.1427, Validation Accuracy: 0.5293\n",
      "Best model saved! 20241014-2157\n"
     ]
    },
    {
     "name": "stderr",
     "output_type": "stream",
     "text": [
      "Epoch 12/64: 100%|██████████| 115/115 [01:07<00:00,  1.71batch/s, accuracy=0.534, loss=1.15]  \n"
     ]
    },
    {
     "name": "stdout",
     "output_type": "stream",
     "text": [
      "[0.001]\n",
      "              precision    recall  f1-score   support\n",
      "\n",
      "           0       0.67      0.58      0.62       384\n",
      "           1       0.69      0.54      0.61       384\n",
      "           2       0.64      0.47      0.54       307\n",
      "           3       0.42      0.28      0.33       230\n",
      "           4       0.21      0.33      0.25       154\n",
      "           5       0.17      0.61      0.27        77\n",
      "\n",
      "    accuracy                           0.48      1536\n",
      "   macro avg       0.47      0.47      0.44      1536\n",
      "weighted avg       0.56      0.48      0.51      1536\n",
      "\n",
      "[[223  60  26  16  29  30]\n",
      " [ 33 208  46  32  28  37]\n",
      " [ 30  11 145  39  43  39]\n",
      " [ 20   4   6  64  87  49]\n",
      " [ 17   8   1   2  51  75]\n",
      " [  8  11   2   0   9  47]]\n",
      "Epoch 12/64, Validation Loss: 1.2050, Validation Accuracy: 0.4805\n"
     ]
    },
    {
     "name": "stderr",
     "output_type": "stream",
     "text": [
      "Epoch 13/64: 100%|██████████| 115/115 [01:08<00:00,  1.69batch/s, accuracy=0.531, loss=1.14]   \n"
     ]
    },
    {
     "name": "stdout",
     "output_type": "stream",
     "text": [
      "[0.001]\n",
      "              precision    recall  f1-score   support\n",
      "\n",
      "           0       0.72      0.59      0.65       384\n",
      "           1       0.73      0.49      0.59       384\n",
      "           2       0.55      0.62      0.58       307\n",
      "           3       0.42      0.51      0.46       230\n",
      "           4       0.31      0.66      0.43       154\n",
      "           5       0.46      0.08      0.13        77\n",
      "\n",
      "    accuracy                           0.54      1536\n",
      "   macro avg       0.53      0.49      0.47      1536\n",
      "weighted avg       0.59      0.54      0.54      1536\n",
      "\n",
      "[[226  35  44  33  46   0]\n",
      " [ 50 189  65  36  40   4]\n",
      " [ 18  25 191  40  33   0]\n",
      " [ 14   5  40 117  52   2]\n",
      " [  4   1   2  45 101   1]\n",
      " [  4   3   7   8  49   6]]\n",
      "Epoch 13/64, Validation Loss: 1.1350, Validation Accuracy: 0.5404\n",
      "Best model saved! 20241014-2159\n"
     ]
    },
    {
     "name": "stderr",
     "output_type": "stream",
     "text": [
      "Epoch 14/64: 100%|██████████| 115/115 [01:10<00:00,  1.62batch/s, accuracy=0.546, loss=1.12]  \n"
     ]
    },
    {
     "name": "stdout",
     "output_type": "stream",
     "text": [
      "[0.001]\n",
      "              precision    recall  f1-score   support\n",
      "\n",
      "           0       0.75      0.54      0.62       384\n",
      "           1       0.69      0.54      0.61       384\n",
      "           2       0.60      0.54      0.57       307\n",
      "           3       0.44      0.55      0.49       230\n",
      "           4       0.34      0.71      0.46       154\n",
      "           5       0.30      0.31      0.30        77\n",
      "\n",
      "    accuracy                           0.55      1536\n",
      "   macro avg       0.52      0.53      0.51      1536\n",
      "weighted avg       0.60      0.55      0.56      1536\n",
      "\n",
      "[[206  36  41  46  42  13]\n",
      " [ 36 207  46  46  31  18]\n",
      " [ 17  30 165  50  33  12]\n",
      " [ 10   9  12 126  68   5]\n",
      " [  5   9   6  15 110   9]\n",
      " [  2   7   4   3  37  24]]\n",
      "Epoch 14/64, Validation Loss: 1.0997, Validation Accuracy: 0.5456\n",
      "Best model saved! 20241014-2201\n"
     ]
    },
    {
     "name": "stderr",
     "output_type": "stream",
     "text": [
      "Epoch 15/64: 100%|██████████| 115/115 [01:09<00:00,  1.66batch/s, accuracy=0.543, loss=1.12]   \n"
     ]
    },
    {
     "name": "stdout",
     "output_type": "stream",
     "text": [
      "[0.0001]\n",
      "              precision    recall  f1-score   support\n",
      "\n",
      "           0       0.62      0.69      0.65       384\n",
      "           1       0.67      0.57      0.62       384\n",
      "           2       0.48      0.66      0.56       307\n",
      "           3       0.38      0.39      0.38       230\n",
      "           4       0.32      0.23      0.27       154\n",
      "           5       0.47      0.09      0.15        77\n",
      "\n",
      "    accuracy                           0.53      1536\n",
      "   macro avg       0.49      0.44      0.44      1536\n",
      "weighted avg       0.53      0.53      0.52      1536\n",
      "\n",
      "[[265  38  40  22  17   2]\n",
      " [ 70 220  60  22  12   0]\n",
      " [ 28  51 203  19   5   1]\n",
      " [ 29   7  84  89  20   1]\n",
      " [ 20   5  18  71  36   4]\n",
      " [ 15   5  17  12  21   7]]\n",
      "Epoch 15/64, Validation Loss: 1.1698, Validation Accuracy: 0.5339\n"
     ]
    },
    {
     "name": "stderr",
     "output_type": "stream",
     "text": [
      "Epoch 16/64: 100%|██████████| 115/115 [01:10<00:00,  1.64batch/s, accuracy=0.59, loss=1.03]   \n"
     ]
    },
    {
     "name": "stdout",
     "output_type": "stream",
     "text": [
      "[0.0001]\n",
      "              precision    recall  f1-score   support\n",
      "\n",
      "           0       0.72      0.62      0.66       384\n",
      "           1       0.71      0.62      0.66       384\n",
      "           2       0.62      0.64      0.63       307\n",
      "           3       0.55      0.56      0.55       230\n",
      "           4       0.40      0.56      0.46       154\n",
      "           5       0.27      0.35      0.31        77\n",
      "\n",
      "    accuracy                           0.60      1536\n",
      "   macro avg       0.54      0.56      0.55      1536\n",
      "weighted avg       0.62      0.60      0.60      1536\n",
      "\n",
      "[[237  46  36  34  23   8]\n",
      " [ 36 239  50  26  18  15]\n",
      " [ 11  32 198  34  20  12]\n",
      " [ 14   5  17 128  51  15]\n",
      " [ 21   7   8  10  86  22]\n",
      " [ 12   7  10   2  19  27]]\n",
      "Epoch 16/64, Validation Loss: 0.9801, Validation Accuracy: 0.5957\n",
      "Best model saved! 20241014-2203\n"
     ]
    },
    {
     "name": "stderr",
     "output_type": "stream",
     "text": [
      "Epoch 17/64: 100%|██████████| 115/115 [01:10<00:00,  1.62batch/s, accuracy=0.62, loss=0.988]   \n"
     ]
    },
    {
     "name": "stdout",
     "output_type": "stream",
     "text": [
      "[0.0001]\n",
      "              precision    recall  f1-score   support\n",
      "\n",
      "           0       0.74      0.60      0.66       384\n",
      "           1       0.77      0.61      0.68       384\n",
      "           2       0.59      0.68      0.63       307\n",
      "           3       0.53      0.60      0.57       230\n",
      "           4       0.45      0.60      0.51       154\n",
      "           5       0.31      0.39      0.35        77\n",
      "\n",
      "    accuracy                           0.61      1536\n",
      "   macro avg       0.56      0.58      0.57      1536\n",
      "weighted avg       0.63      0.61      0.61      1536\n",
      "\n",
      "[[231  37  46  40  17  13]\n",
      " [ 36 233  55  32  17  11]\n",
      " [ 12  20 209  30  19  17]\n",
      " [ 18   2  26 139  36   9]\n",
      " [ 11   7   7  21  92  16]\n",
      " [  6   3  13   0  25  30]]\n",
      "Epoch 17/64, Validation Loss: 0.9581, Validation Accuracy: 0.6081\n",
      "Best model saved! 20241014-2205\n"
     ]
    },
    {
     "name": "stderr",
     "output_type": "stream",
     "text": [
      "Epoch 18/64: 100%|██████████| 115/115 [01:08<00:00,  1.67batch/s, accuracy=0.626, loss=0.957] \n"
     ]
    },
    {
     "name": "stdout",
     "output_type": "stream",
     "text": [
      "[0.0001]\n",
      "              precision    recall  f1-score   support\n",
      "\n",
      "           0       0.70      0.66      0.68       384\n",
      "           1       0.74      0.64      0.69       384\n",
      "           2       0.60      0.65      0.62       307\n",
      "           3       0.59      0.58      0.58       230\n",
      "           4       0.45      0.56      0.50       154\n",
      "           5       0.34      0.40      0.37        77\n",
      "\n",
      "    accuracy                           0.62      1536\n",
      "   macro avg       0.57      0.58      0.57      1536\n",
      "weighted avg       0.63      0.62      0.62      1536\n",
      "\n",
      "[[253  32  37  33  21   8]\n",
      " [ 47 245  48  18  13  13]\n",
      " [ 16  35 199  28  14  15]\n",
      " [ 23   5  26 133  34   9]\n",
      " [ 16   7  14  15  86  16]\n",
      " [  9   6   9   0  22  31]]\n",
      "Epoch 18/64, Validation Loss: 0.9645, Validation Accuracy: 0.6165\n",
      "Best model saved! 20241014-2206\n"
     ]
    },
    {
     "name": "stderr",
     "output_type": "stream",
     "text": [
      "Epoch 19/64: 100%|██████████| 115/115 [01:08<00:00,  1.68batch/s, accuracy=0.621, loss=0.944]  \n"
     ]
    },
    {
     "name": "stdout",
     "output_type": "stream",
     "text": [
      "[0.0001]\n",
      "              precision    recall  f1-score   support\n",
      "\n",
      "           0       0.72      0.67      0.69       384\n",
      "           1       0.72      0.66      0.69       384\n",
      "           2       0.63      0.67      0.65       307\n",
      "           3       0.61      0.60      0.61       230\n",
      "           4       0.48      0.54      0.51       154\n",
      "           5       0.28      0.36      0.32        77\n",
      "\n",
      "    accuracy                           0.63      1536\n",
      "   macro avg       0.57      0.58      0.58      1536\n",
      "weighted avg       0.64      0.63      0.63      1536\n",
      "\n",
      "[[256  41  28  33  17   9]\n",
      " [ 40 254  42  19  14  15]\n",
      " [ 14  33 206  24  17  13]\n",
      " [ 18  10  23 138  28  13]\n",
      " [ 15   7  15  12  83  22]\n",
      " [ 12   9  13   0  15  28]]\n",
      "Epoch 19/64, Validation Loss: 0.9236, Validation Accuracy: 0.6283\n",
      "Best model saved! 20241014-2208\n"
     ]
    },
    {
     "name": "stderr",
     "output_type": "stream",
     "text": [
      "Epoch 20/64: 100%|██████████| 115/115 [01:11<00:00,  1.61batch/s, accuracy=0.633, loss=0.933]  \n"
     ]
    },
    {
     "name": "stdout",
     "output_type": "stream",
     "text": [
      "[0.0001]\n",
      "              precision    recall  f1-score   support\n",
      "\n",
      "           0       0.77      0.61      0.68       384\n",
      "           1       0.74      0.62      0.67       384\n",
      "           2       0.65      0.69      0.67       307\n",
      "           3       0.58      0.61      0.59       230\n",
      "           4       0.48      0.66      0.55       154\n",
      "           5       0.32      0.52      0.40        77\n",
      "\n",
      "    accuracy                           0.63      1536\n",
      "   macro avg       0.59      0.62      0.60      1536\n",
      "weighted avg       0.66      0.63      0.64      1536\n",
      "\n",
      "[[236  45  34  36  22  11]\n",
      " [ 33 237  51  27  19  17]\n",
      " [  8  22 213  29  20  15]\n",
      " [ 12   7  20 140  31  20]\n",
      " [ 11   4   5  10 102  22]\n",
      " [  6   4   7   0  20  40]]\n",
      "Epoch 20/64, Validation Loss: 0.9232, Validation Accuracy: 0.6302\n",
      "Best model saved! 20241014-2209\n"
     ]
    },
    {
     "name": "stderr",
     "output_type": "stream",
     "text": [
      "Epoch 21/64: 100%|██████████| 115/115 [01:09<00:00,  1.65batch/s, accuracy=0.646, loss=0.918]  \n"
     ]
    },
    {
     "name": "stdout",
     "output_type": "stream",
     "text": [
      "[0.0001]\n",
      "              precision    recall  f1-score   support\n",
      "\n",
      "           0       0.71      0.62      0.66       384\n",
      "           1       0.74      0.64      0.69       384\n",
      "           2       0.64      0.67      0.66       307\n",
      "           3       0.60      0.60      0.60       230\n",
      "           4       0.44      0.55      0.49       154\n",
      "           5       0.27      0.43      0.33        77\n",
      "\n",
      "    accuracy                           0.62      1536\n",
      "   macro avg       0.57      0.59      0.57      1536\n",
      "weighted avg       0.64      0.62      0.62      1536\n",
      "\n",
      "[[240  41  35  29  23  16]\n",
      " [ 40 244  41  22  19  18]\n",
      " [ 20  25 206  27  16  13]\n",
      " [ 15   9  18 139  32  17]\n",
      " [ 14   5   9  15  85  26]\n",
      " [  9   4  11   1  19  33]]\n",
      "Epoch 21/64, Validation Loss: 0.9460, Validation Accuracy: 0.6165\n"
     ]
    },
    {
     "name": "stderr",
     "output_type": "stream",
     "text": [
      "Epoch 22/64: 100%|██████████| 115/115 [01:10<00:00,  1.63batch/s, accuracy=0.639, loss=0.918]  \n"
     ]
    },
    {
     "name": "stdout",
     "output_type": "stream",
     "text": [
      "[0.0001]\n",
      "              precision    recall  f1-score   support\n",
      "\n",
      "           0       0.76      0.60      0.67       384\n",
      "           1       0.75      0.61      0.67       384\n",
      "           2       0.61      0.67      0.64       307\n",
      "           3       0.57      0.60      0.58       230\n",
      "           4       0.44      0.55      0.49       154\n",
      "           5       0.26      0.49      0.34        77\n",
      "\n",
      "    accuracy                           0.61      1536\n",
      "   macro avg       0.56      0.59      0.57      1536\n",
      "weighted avg       0.64      0.61      0.62      1536\n",
      "\n",
      "[[232  41  40  34  17  20]\n",
      " [ 28 235  55  28  18  20]\n",
      " [ 12  22 206  30  21  16]\n",
      " [  9   5  20 137  36  23]\n",
      " [ 16   7   8   9  84  30]\n",
      " [ 10   5   8   1  15  38]]\n",
      "Epoch 22/64, Validation Loss: 0.9207, Validation Accuracy: 0.6068\n"
     ]
    },
    {
     "name": "stderr",
     "output_type": "stream",
     "text": [
      "Epoch 23/64: 100%|██████████| 115/115 [01:08<00:00,  1.67batch/s, accuracy=0.647, loss=0.906]  \n"
     ]
    },
    {
     "name": "stdout",
     "output_type": "stream",
     "text": [
      "[0.0001]\n",
      "              precision    recall  f1-score   support\n",
      "\n",
      "           0       0.70      0.64      0.67       384\n",
      "           1       0.74      0.64      0.68       384\n",
      "           2       0.65      0.65      0.65       307\n",
      "           3       0.59      0.61      0.60       230\n",
      "           4       0.52      0.58      0.55       154\n",
      "           5       0.28      0.49      0.36        77\n",
      "\n",
      "    accuracy                           0.62      1536\n",
      "   macro avg       0.58      0.60      0.59      1536\n",
      "weighted avg       0.64      0.62      0.63      1536\n",
      "\n",
      "[[247  43  31  36  12  15]\n",
      " [ 35 244  41  24  19  21]\n",
      " [ 23  27 201  28  14  14]\n",
      " [ 13   7  21 141  26  22]\n",
      " [ 18   6   8   8  89  25]\n",
      " [ 15   4   9   0  11  38]]\n",
      "Epoch 23/64, Validation Loss: 0.9172, Validation Accuracy: 0.6250\n"
     ]
    },
    {
     "name": "stderr",
     "output_type": "stream",
     "text": [
      "Epoch 24/64: 100%|██████████| 115/115 [01:10<00:00,  1.63batch/s, accuracy=0.649, loss=0.888]  \n"
     ]
    },
    {
     "name": "stdout",
     "output_type": "stream",
     "text": [
      "[0.0001]\n",
      "              precision    recall  f1-score   support\n",
      "\n",
      "           0       0.75      0.62      0.68       384\n",
      "           1       0.73      0.65      0.69       384\n",
      "           2       0.64      0.64      0.64       307\n",
      "           3       0.58      0.59      0.59       230\n",
      "           4       0.47      0.55      0.51       154\n",
      "           5       0.28      0.56      0.38        77\n",
      "\n",
      "    accuracy                           0.62      1536\n",
      "   macro avg       0.57      0.60      0.58      1536\n",
      "weighted avg       0.64      0.62      0.63      1536\n",
      "\n",
      "[[240  40  36  35  14  19]\n",
      " [ 34 249  41  26  14  20]\n",
      " [ 17  30 195  30  19  16]\n",
      " [ 11   6  14 136  40  23]\n",
      " [ 13  10   9   6  85  31]\n",
      " [  6   7  11   1   9  43]]\n",
      "Epoch 24/64, Validation Loss: 0.9271, Validation Accuracy: 0.6172\n"
     ]
    },
    {
     "name": "stderr",
     "output_type": "stream",
     "text": [
      "Epoch 25/64: 100%|██████████| 115/115 [01:11<00:00,  1.60batch/s, accuracy=0.656, loss=0.884]  \n"
     ]
    },
    {
     "name": "stdout",
     "output_type": "stream",
     "text": [
      "[0.0001]\n",
      "              precision    recall  f1-score   support\n",
      "\n",
      "           0       0.73      0.64      0.68       384\n",
      "           1       0.78      0.61      0.69       384\n",
      "           2       0.65      0.68      0.67       307\n",
      "           3       0.59      0.65      0.62       230\n",
      "           4       0.45      0.63      0.52       154\n",
      "           5       0.31      0.43      0.36        77\n",
      "\n",
      "    accuracy                           0.63      1536\n",
      "   macro avg       0.58      0.61      0.59      1536\n",
      "weighted avg       0.66      0.63      0.64      1536\n",
      "\n",
      "[[244  39  31  31  22  17]\n",
      " [ 37 236  48  26  22  15]\n",
      " [ 17  18 210  31  21  10]\n",
      " [ 14   3  20 149  36   8]\n",
      " [ 11   2   5  14  97  25]\n",
      " [ 11   5   9   1  18  33]]\n",
      "Epoch 25/64, Validation Loss: 0.9180, Validation Accuracy: 0.6309\n",
      "Best model saved! 20241014-2216\n"
     ]
    },
    {
     "name": "stderr",
     "output_type": "stream",
     "text": [
      "Epoch 26/64: 100%|██████████| 115/115 [01:10<00:00,  1.64batch/s, accuracy=0.656, loss=0.881]  \n"
     ]
    },
    {
     "name": "stdout",
     "output_type": "stream",
     "text": [
      "[0.0001]\n",
      "              precision    recall  f1-score   support\n",
      "\n",
      "           0       0.76      0.61      0.68       384\n",
      "           1       0.75      0.67      0.71       384\n",
      "           2       0.61      0.72      0.66       307\n",
      "           3       0.58      0.60      0.59       230\n",
      "           4       0.52      0.55      0.53       154\n",
      "           5       0.31      0.48      0.38        77\n",
      "\n",
      "    accuracy                           0.63      1536\n",
      "   macro avg       0.59      0.61      0.59      1536\n",
      "weighted avg       0.65      0.63      0.64      1536\n",
      "\n",
      "[[235  48  43  32  13  13]\n",
      " [ 29 258  46  26  10  15]\n",
      " [ 17  18 221  26  15  10]\n",
      " [ 15   5  30 138  25  17]\n",
      " [ 11   7   9  14  85  28]\n",
      " [  4   6  12   2  16  37]]\n",
      "Epoch 26/64, Validation Loss: 0.9138, Validation Accuracy: 0.6341\n",
      "Best model saved! 20241014-2217\n"
     ]
    },
    {
     "name": "stderr",
     "output_type": "stream",
     "text": [
      "Epoch 27/64: 100%|██████████| 115/115 [01:10<00:00,  1.63batch/s, accuracy=0.665, loss=0.86]   \n"
     ]
    },
    {
     "name": "stdout",
     "output_type": "stream",
     "text": [
      "[0.0001]\n",
      "              precision    recall  f1-score   support\n",
      "\n",
      "           0       0.71      0.64      0.67       384\n",
      "           1       0.78      0.60      0.68       384\n",
      "           2       0.64      0.69      0.66       307\n",
      "           3       0.59      0.63      0.61       230\n",
      "           4       0.48      0.61      0.54       154\n",
      "           5       0.27      0.43      0.33        77\n",
      "\n",
      "    accuracy                           0.62      1536\n",
      "   macro avg       0.58      0.60      0.58      1536\n",
      "weighted avg       0.65      0.62      0.63      1536\n",
      "\n",
      "[[244  33  34  38  15  20]\n",
      " [ 45 231  49  28  13  18]\n",
      " [ 15  22 211  24  23  12]\n",
      " [ 13   2  20 144  33  18]\n",
      " [ 14   6  10   9  94  21]\n",
      " [ 14   4   6   2  18  33]]\n",
      "Epoch 27/64, Validation Loss: 0.9261, Validation Accuracy: 0.6230\n"
     ]
    },
    {
     "name": "stderr",
     "output_type": "stream",
     "text": [
      "Epoch 28/64: 100%|██████████| 115/115 [01:09<00:00,  1.66batch/s, accuracy=0.671, loss=0.858] \n"
     ]
    },
    {
     "name": "stdout",
     "output_type": "stream",
     "text": [
      "[0.0001]\n",
      "              precision    recall  f1-score   support\n",
      "\n",
      "           0       0.78      0.62      0.69       384\n",
      "           1       0.78      0.64      0.70       384\n",
      "           2       0.65      0.68      0.67       307\n",
      "           3       0.58      0.68      0.62       230\n",
      "           4       0.49      0.60      0.54       154\n",
      "           5       0.31      0.53      0.39        77\n",
      "\n",
      "    accuracy                           0.64      1536\n",
      "   macro avg       0.60      0.63      0.60      1536\n",
      "weighted avg       0.67      0.64      0.65      1536\n",
      "\n",
      "[[240  30  44  36  17  17]\n",
      " [ 31 245  37  35  17  19]\n",
      " [ 10  23 210  33  18  13]\n",
      " [ 11   3  14 157  27  18]\n",
      " [ 10   5  12  11  93  23]\n",
      " [  7   7   5   1  16  41]]\n",
      "Epoch 28/64, Validation Loss: 0.8892, Validation Accuracy: 0.6419\n",
      "Best model saved! 20241014-2220\n"
     ]
    },
    {
     "name": "stderr",
     "output_type": "stream",
     "text": [
      "Epoch 29/64: 100%|██████████| 115/115 [01:05<00:00,  1.74batch/s, accuracy=0.672, loss=0.851] \n"
     ]
    },
    {
     "name": "stdout",
     "output_type": "stream",
     "text": [
      "[0.0001]\n",
      "              precision    recall  f1-score   support\n",
      "\n",
      "           0       0.74      0.64      0.68       384\n",
      "           1       0.76      0.66      0.71       384\n",
      "           2       0.61      0.72      0.66       307\n",
      "           3       0.59      0.58      0.59       230\n",
      "           4       0.51      0.53      0.52       154\n",
      "           5       0.28      0.48      0.36        77\n",
      "\n",
      "    accuracy                           0.63      1536\n",
      "   macro avg       0.58      0.60      0.59      1536\n",
      "weighted avg       0.65      0.63      0.64      1536\n",
      "\n",
      "[[244  38  46  26  15  15]\n",
      " [ 35 255  42  21  10  21]\n",
      " [ 13  19 220  26  14  15]\n",
      " [ 17   9  30 133  29  12]\n",
      " [ 12   7   9  15  81  30]\n",
      " [  8   6  12   3  11  37]]\n",
      "Epoch 29/64, Validation Loss: 0.9240, Validation Accuracy: 0.6315\n"
     ]
    },
    {
     "name": "stderr",
     "output_type": "stream",
     "text": [
      "Epoch 30/64: 100%|██████████| 115/115 [01:00<00:00,  1.91batch/s, accuracy=0.677, loss=0.833]  \n"
     ]
    },
    {
     "name": "stdout",
     "output_type": "stream",
     "text": [
      "[1e-05]\n",
      "              precision    recall  f1-score   support\n",
      "\n",
      "           0       0.78      0.63      0.70       384\n",
      "           1       0.75      0.66      0.70       384\n",
      "           2       0.63      0.67      0.65       307\n",
      "           3       0.58      0.65      0.61       230\n",
      "           4       0.49      0.64      0.55       154\n",
      "           5       0.29      0.40      0.34        77\n",
      "\n",
      "    accuracy                           0.64      1536\n",
      "   macro avg       0.59      0.61      0.59      1536\n",
      "weighted avg       0.66      0.64      0.64      1536\n",
      "\n",
      "[[242  32  34  36  25  15]\n",
      " [ 30 252  42  27  17  16]\n",
      " [ 15  32 206  27  15  12]\n",
      " [ 14   6  21 149  26  14]\n",
      " [  7   7   8  14  98  20]\n",
      " [  4   6  14   3  19  31]]\n",
      "Epoch 30/64, Validation Loss: 0.9099, Validation Accuracy: 0.6367\n"
     ]
    },
    {
     "name": "stderr",
     "output_type": "stream",
     "text": [
      "Epoch 31/64: 100%|██████████| 115/115 [01:06<00:00,  1.72batch/s, accuracy=0.69, loss=0.812]  \n"
     ]
    },
    {
     "name": "stdout",
     "output_type": "stream",
     "text": [
      "[1e-05]\n",
      "              precision    recall  f1-score   support\n",
      "\n",
      "           0       0.76      0.61      0.68       384\n",
      "           1       0.71      0.64      0.67       384\n",
      "           2       0.63      0.66      0.64       307\n",
      "           3       0.56      0.63      0.59       230\n",
      "           4       0.48      0.58      0.52       154\n",
      "           5       0.33      0.51      0.40        77\n",
      "\n",
      "    accuracy                           0.62      1536\n",
      "   macro avg       0.58      0.60      0.58      1536\n",
      "weighted avg       0.64      0.62      0.63      1536\n",
      "\n",
      "[[235  42  35  37  19  16]\n",
      " [ 33 244  45  28  17  17]\n",
      " [ 12  34 203  30  16  12]\n",
      " [ 14  11  18 144  29  14]\n",
      " [ 12   6  13  13  89  21]\n",
      " [  4   5  10   3  16  39]]\n",
      "Epoch 31/64, Validation Loss: 0.9156, Validation Accuracy: 0.6211\n"
     ]
    },
    {
     "name": "stderr",
     "output_type": "stream",
     "text": [
      "Epoch 32/64: 100%|██████████| 115/115 [01:06<00:00,  1.73batch/s, accuracy=0.683, loss=0.815]  \n"
     ]
    },
    {
     "name": "stdout",
     "output_type": "stream",
     "text": [
      "[1e-05]\n",
      "              precision    recall  f1-score   support\n",
      "\n",
      "           0       0.75      0.62      0.68       384\n",
      "           1       0.74      0.66      0.70       384\n",
      "           2       0.62      0.70      0.66       307\n",
      "           3       0.58      0.59      0.59       230\n",
      "           4       0.47      0.58      0.52       154\n",
      "           5       0.31      0.44      0.37        77\n",
      "\n",
      "    accuracy                           0.63      1536\n",
      "   macro avg       0.58      0.60      0.58      1536\n",
      "weighted avg       0.65      0.63      0.63      1536\n",
      "\n",
      "[[240  40  40  32  19  13]\n",
      " [ 37 252  40  25  13  17]\n",
      " [ 11  30 214  25  19   8]\n",
      " [ 11   7  27 136  35  14]\n",
      " [ 13   5  13  11  89  23]\n",
      " [  8   5  10   4  16  34]]\n",
      "Epoch 32/64, Validation Loss: 0.9095, Validation Accuracy: 0.6283\n"
     ]
    },
    {
     "name": "stderr",
     "output_type": "stream",
     "text": [
      "Epoch 33/64: 100%|██████████| 115/115 [01:06<00:00,  1.72batch/s, accuracy=0.69, loss=0.804]   \n"
     ]
    },
    {
     "name": "stdout",
     "output_type": "stream",
     "text": [
      "[1e-05]\n",
      "              precision    recall  f1-score   support\n",
      "\n",
      "           0       0.76      0.63      0.69       384\n",
      "           1       0.74      0.66      0.70       384\n",
      "           2       0.65      0.70      0.68       307\n",
      "           3       0.56      0.61      0.58       230\n",
      "           4       0.52      0.62      0.56       154\n",
      "           5       0.34      0.52      0.41        77\n",
      "\n",
      "    accuracy                           0.64      1536\n",
      "   macro avg       0.60      0.62      0.60      1536\n",
      "weighted avg       0.66      0.64      0.65      1536\n",
      "\n",
      "[[242  37  34  41  16  14]\n",
      " [ 29 254  44  30  12  15]\n",
      " [ 12  25 215  28  17  10]\n",
      " [ 13  11  20 140  29  17]\n",
      " [ 12   8  11   8  95  20]\n",
      " [  9   6   5   2  15  40]]\n",
      "Epoch 33/64, Validation Loss: 0.8959, Validation Accuracy: 0.6419\n"
     ]
    },
    {
     "name": "stderr",
     "output_type": "stream",
     "text": [
      "Epoch 34/64: 100%|██████████| 115/115 [01:00<00:00,  1.90batch/s, accuracy=0.695, loss=0.806]  \n"
     ]
    },
    {
     "name": "stdout",
     "output_type": "stream",
     "text": [
      "[1e-05]\n",
      "              precision    recall  f1-score   support\n",
      "\n",
      "           0       0.74      0.63      0.68       384\n",
      "           1       0.73      0.65      0.69       384\n",
      "           2       0.65      0.65      0.65       307\n",
      "           3       0.59      0.65      0.62       230\n",
      "           4       0.51      0.61      0.55       154\n",
      "           5       0.32      0.49      0.39        77\n",
      "\n",
      "    accuracy                           0.63      1536\n",
      "   macro avg       0.59      0.61      0.60      1536\n",
      "weighted avg       0.65      0.63      0.64      1536\n",
      "\n",
      "[[242  39  37  35  16  15]\n",
      " [ 38 250  39  26  15  16]\n",
      " [ 18  33 201  28  19   8]\n",
      " [ 13   5  17 149  26  20]\n",
      " [ 10   8   6  14  94  22]\n",
      " [  7   7   9   1  15  38]]\n",
      "Epoch 34/64, Validation Loss: 0.9032, Validation Accuracy: 0.6341\n"
     ]
    },
    {
     "name": "stderr",
     "output_type": "stream",
     "text": [
      "Epoch 35/64: 100%|██████████| 115/115 [00:56<00:00,  2.04batch/s, accuracy=0.693, loss=0.819]  \n"
     ]
    },
    {
     "name": "stdout",
     "output_type": "stream",
     "text": [
      "[1e-05]\n",
      "              precision    recall  f1-score   support\n",
      "\n",
      "           0       0.76      0.61      0.68       384\n",
      "           1       0.74      0.67      0.70       384\n",
      "           2       0.66      0.70      0.68       307\n",
      "           3       0.58      0.60      0.59       230\n",
      "           4       0.47      0.57      0.51       154\n",
      "           5       0.26      0.40      0.31        77\n",
      "\n",
      "    accuracy                           0.63      1536\n",
      "   macro avg       0.58      0.59      0.58      1536\n",
      "weighted avg       0.65      0.63      0.64      1536\n",
      "\n",
      "[[234  44  35  37  13  21]\n",
      " [ 33 259  36  25  16  15]\n",
      " [ 13  25 216  27  14  12]\n",
      " [ 10   9  21 137  36  17]\n",
      " [ 11   7  12  11  88  25]\n",
      " [  8   7   8   1  22  31]]\n",
      "Epoch 35/64, Validation Loss: 0.9111, Validation Accuracy: 0.6283\n"
     ]
    },
    {
     "name": "stderr",
     "output_type": "stream",
     "text": [
      "Epoch 36/64: 100%|██████████| 115/115 [01:02<00:00,  1.84batch/s, accuracy=0.702, loss=0.79]   \n"
     ]
    },
    {
     "name": "stdout",
     "output_type": "stream",
     "text": [
      "[1e-05]\n",
      "              precision    recall  f1-score   support\n",
      "\n",
      "           0       0.75      0.67      0.71       384\n",
      "           1       0.75      0.64      0.69       384\n",
      "           2       0.67      0.68      0.67       307\n",
      "           3       0.61      0.63      0.62       230\n",
      "           4       0.46      0.59      0.52       154\n",
      "           5       0.31      0.47      0.37        77\n",
      "\n",
      "    accuracy                           0.64      1536\n",
      "   macro avg       0.59      0.61      0.60      1536\n",
      "weighted avg       0.66      0.64      0.65      1536\n",
      "\n",
      "[[257  40  27  34  16  10]\n",
      " [ 36 246  41  25  18  18]\n",
      " [ 15  26 209  23  17  17]\n",
      " [ 12   5  20 144  35  14]\n",
      " [ 15   7   9   9  91  23]\n",
      " [  8   4   8   2  19  36]]\n",
      "Epoch 36/64, Validation Loss: 0.9147, Validation Accuracy: 0.6400\n"
     ]
    },
    {
     "name": "stderr",
     "output_type": "stream",
     "text": [
      "Epoch 37/64: 100%|██████████| 115/115 [01:05<00:00,  1.76batch/s, accuracy=0.69, loss=0.803]   \n"
     ]
    },
    {
     "name": "stdout",
     "output_type": "stream",
     "text": [
      "[1e-05]\n",
      "              precision    recall  f1-score   support\n",
      "\n",
      "           0       0.74      0.64      0.69       384\n",
      "           1       0.76      0.65      0.70       384\n",
      "           2       0.63      0.70      0.67       307\n",
      "           3       0.61      0.63      0.62       230\n",
      "           4       0.47      0.57      0.52       154\n",
      "           5       0.32      0.47      0.38        77\n",
      "\n",
      "    accuracy                           0.64      1536\n",
      "   macro avg       0.59      0.61      0.59      1536\n",
      "weighted avg       0.66      0.64      0.64      1536\n",
      "\n",
      "[[245  30  39  36  19  15]\n",
      " [ 36 250  38  25  19  16]\n",
      " [ 11  28 215  22  19  12]\n",
      " [ 16   9  22 145  27  11]\n",
      " [ 12   8  14   8  88  24]\n",
      " [ 10   5  11   0  15  36]]\n",
      "Epoch 37/64, Validation Loss: 0.8972, Validation Accuracy: 0.6374\n"
     ]
    },
    {
     "name": "stderr",
     "output_type": "stream",
     "text": [
      "Epoch 38/64: 100%|██████████| 115/115 [01:05<00:00,  1.75batch/s, accuracy=0.7, loss=0.793]    \n"
     ]
    },
    {
     "name": "stdout",
     "output_type": "stream",
     "text": [
      "[1e-05]\n",
      "              precision    recall  f1-score   support\n",
      "\n",
      "           0       0.76      0.64      0.70       384\n",
      "           1       0.74      0.67      0.71       384\n",
      "           2       0.63      0.66      0.65       307\n",
      "           3       0.60      0.60      0.60       230\n",
      "           4       0.50      0.58      0.54       154\n",
      "           5       0.29      0.49      0.37        77\n",
      "\n",
      "    accuracy                           0.63      1536\n",
      "   macro avg       0.59      0.61      0.59      1536\n",
      "weighted avg       0.66      0.63      0.64      1536\n",
      "\n",
      "[[246  38  34  26  21  19]\n",
      " [ 28 259  39  26  17  15]\n",
      " [ 15  30 204  27  16  15]\n",
      " [ 14  10  28 137  25  16]\n",
      " [ 11   5  12  10  90  26]\n",
      " [  9   7   8   3  12  38]]\n",
      "Epoch 38/64, Validation Loss: 0.9088, Validation Accuracy: 0.6341\n"
     ]
    },
    {
     "name": "stderr",
     "output_type": "stream",
     "text": [
      "Epoch 39/64: 100%|██████████| 115/115 [01:11<00:00,  1.60batch/s, accuracy=0.704, loss=0.787]  \n"
     ]
    },
    {
     "name": "stdout",
     "output_type": "stream",
     "text": [
      "[1e-05]\n",
      "              precision    recall  f1-score   support\n",
      "\n",
      "           0       0.74      0.66      0.70       384\n",
      "           1       0.78      0.63      0.70       384\n",
      "           2       0.65      0.69      0.67       307\n",
      "           3       0.59      0.62      0.61       230\n",
      "           4       0.48      0.62      0.54       154\n",
      "           5       0.35      0.51      0.42        77\n",
      "\n",
      "    accuracy                           0.64      1536\n",
      "   macro avg       0.60      0.62      0.60      1536\n",
      "weighted avg       0.66      0.64      0.65      1536\n",
      "\n",
      "[[255  33  34  31  18  13]\n",
      " [ 42 243  41  24  17  17]\n",
      " [ 17  20 211  26  22  11]\n",
      " [ 14   8  20 143  33  12]\n",
      " [ 12   4   8  16  96  18]\n",
      " [  6   5   9   2  16  39]]\n",
      "Epoch 39/64, Validation Loss: 0.9149, Validation Accuracy: 0.6426\n",
      "Best model saved! 20241014-2234\n"
     ]
    },
    {
     "name": "stderr",
     "output_type": "stream",
     "text": [
      "Epoch 40/64: 100%|██████████| 115/115 [01:07<00:00,  1.71batch/s, accuracy=0.699, loss=0.797]  \n"
     ]
    },
    {
     "name": "stdout",
     "output_type": "stream",
     "text": [
      "[1e-05]\n",
      "              precision    recall  f1-score   support\n",
      "\n",
      "           0       0.76      0.65      0.70       384\n",
      "           1       0.75      0.66      0.70       384\n",
      "           2       0.62      0.68      0.65       307\n",
      "           3       0.60      0.61      0.61       230\n",
      "           4       0.46      0.57      0.51       154\n",
      "           5       0.30      0.43      0.35        77\n",
      "\n",
      "    accuracy                           0.63      1536\n",
      "   macro avg       0.58      0.60      0.59      1536\n",
      "weighted avg       0.65      0.63      0.64      1536\n",
      "\n",
      "[[248  35  35  29  22  15]\n",
      " [ 31 252  45  24  18  14]\n",
      " [ 14  26 210  27  20  10]\n",
      " [ 14   8  27 141  25  15]\n",
      " [ 14   8  10  11  88  23]\n",
      " [  6   7  10   2  19  33]]\n",
      "Epoch 40/64, Validation Loss: 0.9300, Validation Accuracy: 0.6328\n"
     ]
    },
    {
     "name": "stderr",
     "output_type": "stream",
     "text": [
      "Epoch 41/64: 100%|██████████| 115/115 [01:06<00:00,  1.74batch/s, accuracy=0.693, loss=0.807]  \n"
     ]
    },
    {
     "name": "stdout",
     "output_type": "stream",
     "text": [
      "[1e-05]\n",
      "              precision    recall  f1-score   support\n",
      "\n",
      "           0       0.75      0.65      0.69       384\n",
      "           1       0.77      0.65      0.71       384\n",
      "           2       0.64      0.70      0.67       307\n",
      "           3       0.61      0.66      0.63       230\n",
      "           4       0.47      0.60      0.53       154\n",
      "           5       0.31      0.42      0.35        77\n",
      "\n",
      "    accuracy                           0.64      1536\n",
      "   macro avg       0.59      0.61      0.60      1536\n",
      "weighted avg       0.66      0.64      0.65      1536\n",
      "\n",
      "[[248  33  40  32  17  14]\n",
      " [ 33 251  37  23  21  19]\n",
      " [ 14  24 214  27  17  11]\n",
      " [ 13   5  20 151  29  12]\n",
      " [ 13   7  11  14  93  16]\n",
      " [  9   5  11   1  19  32]]\n",
      "Epoch 41/64, Validation Loss: 0.8991, Validation Accuracy: 0.6439\n",
      "Best model saved! 20241014-2237\n"
     ]
    },
    {
     "name": "stderr",
     "output_type": "stream",
     "text": [
      "Epoch 42/64: 100%|██████████| 115/115 [01:10<00:00,  1.64batch/s, accuracy=0.697, loss=0.794]  \n"
     ]
    },
    {
     "name": "stdout",
     "output_type": "stream",
     "text": [
      "[1e-05]\n",
      "              precision    recall  f1-score   support\n",
      "\n",
      "           0       0.75      0.66      0.70       384\n",
      "           1       0.75      0.67      0.71       384\n",
      "           2       0.66      0.68      0.67       307\n",
      "           3       0.63      0.64      0.63       230\n",
      "           4       0.51      0.59      0.55       154\n",
      "           5       0.32      0.48      0.38        77\n",
      "\n",
      "    accuracy                           0.65      1536\n",
      "   macro avg       0.60      0.62      0.61      1536\n",
      "weighted avg       0.67      0.65      0.66      1536\n",
      "\n",
      "[[255  39  32  29  14  15]\n",
      " [ 33 259  39  25  16  12]\n",
      " [ 15  25 209  25  19  14]\n",
      " [ 14   8  21 147  23  17]\n",
      " [ 15   9  10   7  91  22]\n",
      " [ 10   7   8   0  15  37]]\n",
      "Epoch 42/64, Validation Loss: 0.8955, Validation Accuracy: 0.6497\n",
      "Best model saved! 20241014-2238\n"
     ]
    },
    {
     "name": "stderr",
     "output_type": "stream",
     "text": [
      "Epoch 43/64: 100%|██████████| 115/115 [01:08<00:00,  1.67batch/s, accuracy=0.691, loss=0.799] \n"
     ]
    },
    {
     "name": "stdout",
     "output_type": "stream",
     "text": [
      "[1e-05]\n",
      "              precision    recall  f1-score   support\n",
      "\n",
      "           0       0.75      0.65      0.70       384\n",
      "           1       0.73      0.68      0.70       384\n",
      "           2       0.63      0.67      0.65       307\n",
      "           3       0.60      0.67      0.63       230\n",
      "           4       0.55      0.56      0.56       154\n",
      "           5       0.31      0.42      0.35        77\n",
      "\n",
      "    accuracy                           0.65      1536\n",
      "   macro avg       0.60      0.61      0.60      1536\n",
      "weighted avg       0.66      0.65      0.65      1536\n",
      "\n",
      "[[251  40  37  33  15   8]\n",
      " [ 32 262  36  27  11  16]\n",
      " [ 14  34 207  28  11  13]\n",
      " [ 11   7  26 153  19  14]\n",
      " [ 15   9  11  12  86  21]\n",
      " [ 10   8  10   4  13  32]]\n",
      "Epoch 43/64, Validation Loss: 0.9224, Validation Accuracy: 0.6452\n"
     ]
    },
    {
     "name": "stderr",
     "output_type": "stream",
     "text": [
      "Epoch 44/64: 100%|██████████| 115/115 [00:59<00:00,  1.94batch/s, accuracy=0.702, loss=0.79]  \n"
     ]
    },
    {
     "name": "stdout",
     "output_type": "stream",
     "text": [
      "[1e-05]\n",
      "              precision    recall  f1-score   support\n",
      "\n",
      "           0       0.77      0.62      0.69       384\n",
      "           1       0.75      0.64      0.69       384\n",
      "           2       0.64      0.70      0.67       307\n",
      "           3       0.61      0.64      0.62       230\n",
      "           4       0.51      0.66      0.57       154\n",
      "           5       0.32      0.48      0.38        77\n",
      "\n",
      "    accuracy                           0.64      1536\n",
      "   macro avg       0.60      0.62      0.60      1536\n",
      "weighted avg       0.66      0.64      0.65      1536\n",
      "\n",
      "[[239  41  36  33  18  17]\n",
      " [ 37 247  38  27  13  22]\n",
      " [  9  28 215  26  18  11]\n",
      " [ 12   5  26 148  30   9]\n",
      " [  9   3  11   9 101  21]\n",
      " [  6   6   8   1  19  37]]\n",
      "Epoch 44/64, Validation Loss: 0.9156, Validation Accuracy: 0.6426\n"
     ]
    },
    {
     "name": "stderr",
     "output_type": "stream",
     "text": [
      "Epoch 45/64: 100%|██████████| 115/115 [01:06<00:00,  1.73batch/s, accuracy=0.695, loss=0.801]  \n"
     ]
    },
    {
     "name": "stdout",
     "output_type": "stream",
     "text": [
      "[1.0000000000000002e-06]\n",
      "              precision    recall  f1-score   support\n",
      "\n",
      "           0       0.77      0.64      0.70       384\n",
      "           1       0.74      0.66      0.70       384\n",
      "           2       0.67      0.69      0.68       307\n",
      "           3       0.63      0.66      0.64       230\n",
      "           4       0.47      0.63      0.54       154\n",
      "           5       0.28      0.42      0.34        77\n",
      "\n",
      "    accuracy                           0.65      1536\n",
      "   macro avg       0.60      0.62      0.60      1536\n",
      "weighted avg       0.67      0.65      0.65      1536\n",
      "\n",
      "[[245  33  34  28  27  17]\n",
      " [ 34 255  36  25  17  17]\n",
      " [ 10  33 213  25  13  13]\n",
      " [ 11   5  17 151  33  13]\n",
      " [ 10   8   9   8  97  22]\n",
      " [  8   9   7   3  18  32]]\n",
      "Epoch 45/64, Validation Loss: 0.9060, Validation Accuracy: 0.6465\n"
     ]
    },
    {
     "name": "stderr",
     "output_type": "stream",
     "text": [
      "Epoch 46/64: 100%|██████████| 115/115 [01:06<00:00,  1.73batch/s, accuracy=0.697, loss=0.789] \n"
     ]
    },
    {
     "name": "stdout",
     "output_type": "stream",
     "text": [
      "[1.0000000000000002e-06]\n",
      "              precision    recall  f1-score   support\n",
      "\n",
      "           0       0.75      0.64      0.69       384\n",
      "           1       0.76      0.64      0.69       384\n",
      "           2       0.65      0.69      0.67       307\n",
      "           3       0.58      0.63      0.61       230\n",
      "           4       0.45      0.57      0.50       154\n",
      "           5       0.29      0.42      0.34        77\n",
      "\n",
      "    accuracy                           0.63      1536\n",
      "   macro avg       0.58      0.60      0.58      1536\n",
      "weighted avg       0.65      0.63      0.64      1536\n",
      "\n",
      "[[245  34  34  34  23  14]\n",
      " [ 35 244  45  25  16  19]\n",
      " [ 12  22 213  28  22  10]\n",
      " [ 15  10  19 146  30  10]\n",
      " [ 11   7   8  14  88  26]\n",
      " [ 10   5   8   5  17  32]]\n",
      "Epoch 46/64, Validation Loss: 0.9228, Validation Accuracy: 0.6302\n"
     ]
    },
    {
     "name": "stderr",
     "output_type": "stream",
     "text": [
      "Epoch 47/64: 100%|██████████| 115/115 [01:09<00:00,  1.64batch/s, accuracy=0.7, loss=0.781]    \n"
     ]
    },
    {
     "name": "stdout",
     "output_type": "stream",
     "text": [
      "[1.0000000000000002e-06]\n",
      "              precision    recall  f1-score   support\n",
      "\n",
      "           0       0.77      0.67      0.72       384\n",
      "           1       0.76      0.68      0.72       384\n",
      "           2       0.65      0.68      0.66       307\n",
      "           3       0.61      0.62      0.62       230\n",
      "           4       0.50      0.59      0.54       154\n",
      "           5       0.27      0.44      0.34        77\n",
      "\n",
      "    accuracy                           0.65      1536\n",
      "   macro avg       0.59      0.61      0.60      1536\n",
      "weighted avg       0.67      0.65      0.65      1536\n",
      "\n",
      "[[257  33  38  22  17  17]\n",
      " [ 27 260  32  32  13  20]\n",
      " [ 15  28 208  27  15  14]\n",
      " [ 12   7  25 143  28  15]\n",
      " [ 14   6  12   7  91  24]\n",
      " [  9   8   7   2  17  34]]\n",
      "Epoch 47/64, Validation Loss: 0.8807, Validation Accuracy: 0.6465\n"
     ]
    },
    {
     "name": "stderr",
     "output_type": "stream",
     "text": [
      "Epoch 48/64: 100%|██████████| 115/115 [01:00<00:00,  1.89batch/s, accuracy=0.695, loss=0.793] \n"
     ]
    },
    {
     "name": "stdout",
     "output_type": "stream",
     "text": [
      "[1.0000000000000002e-06]\n",
      "              precision    recall  f1-score   support\n",
      "\n",
      "           0       0.73      0.66      0.70       384\n",
      "           1       0.78      0.67      0.72       384\n",
      "           2       0.66      0.70      0.68       307\n",
      "           3       0.60      0.63      0.61       230\n",
      "           4       0.48      0.61      0.54       154\n",
      "           5       0.27      0.34      0.30        77\n",
      "\n",
      "    accuracy                           0.64      1536\n",
      "   macro avg       0.59      0.60      0.59      1536\n",
      "weighted avg       0.66      0.64      0.65      1536\n",
      "\n",
      "[[254  32  34  29  22  13]\n",
      " [ 36 256  35  31  11  15]\n",
      " [ 16  26 215  26  15   9]\n",
      " [ 15   3  21 145  33  13]\n",
      " [ 15   4  10  10  94  21]\n",
      " [ 10   8  10   1  22  26]]\n",
      "Epoch 48/64, Validation Loss: 0.8977, Validation Accuracy: 0.6445\n"
     ]
    },
    {
     "name": "stderr",
     "output_type": "stream",
     "text": [
      "Epoch 49/64: 100%|██████████| 115/115 [01:05<00:00,  1.76batch/s, accuracy=0.695, loss=0.793] \n"
     ]
    },
    {
     "name": "stdout",
     "output_type": "stream",
     "text": [
      "[1.0000000000000002e-06]\n",
      "              precision    recall  f1-score   support\n",
      "\n",
      "           0       0.78      0.65      0.71       384\n",
      "           1       0.75      0.67      0.71       384\n",
      "           2       0.65      0.71      0.68       307\n",
      "           3       0.61      0.63      0.62       230\n",
      "           4       0.49      0.58      0.53       154\n",
      "           5       0.31      0.47      0.37        77\n",
      "\n",
      "    accuracy                           0.65      1536\n",
      "   macro avg       0.60      0.62      0.60      1536\n",
      "weighted avg       0.67      0.65      0.65      1536\n",
      "\n",
      "[[248  33  38  31  18  16]\n",
      " [ 33 258  39  22  17  15]\n",
      " [  7  29 217  29  10  15]\n",
      " [ 13  11  16 145  33  12]\n",
      " [ 12   8  14   8  89  23]\n",
      " [  6   6  11   3  15  36]]\n",
      "Epoch 49/64, Validation Loss: 0.9025, Validation Accuracy: 0.6465\n"
     ]
    },
    {
     "name": "stderr",
     "output_type": "stream",
     "text": [
      "Epoch 50/64: 100%|██████████| 115/115 [01:01<00:00,  1.88batch/s, accuracy=0.701, loss=0.788]  \n"
     ]
    },
    {
     "name": "stdout",
     "output_type": "stream",
     "text": [
      "[1.0000000000000002e-06]\n",
      "              precision    recall  f1-score   support\n",
      "\n",
      "           0       0.76      0.65      0.70       384\n",
      "           1       0.75      0.65      0.70       384\n",
      "           2       0.65      0.68      0.66       307\n",
      "           3       0.59      0.63      0.61       230\n",
      "           4       0.49      0.60      0.54       154\n",
      "           5       0.30      0.47      0.37        77\n",
      "\n",
      "    accuracy                           0.64      1536\n",
      "   macro avg       0.59      0.61      0.60      1536\n",
      "weighted avg       0.66      0.64      0.65      1536\n",
      "\n",
      "[[249  35  38  32  17  13]\n",
      " [ 34 249  41  27  18  15]\n",
      " [ 11  27 208  29  16  16]\n",
      " [ 14   7  14 145  31  19]\n",
      " [ 14   7  11   8  93  21]\n",
      " [  6   7   9   4  15  36]]\n",
      "Epoch 50/64, Validation Loss: 0.9017, Validation Accuracy: 0.6380\n"
     ]
    },
    {
     "name": "stderr",
     "output_type": "stream",
     "text": [
      "Epoch 51/64: 100%|██████████| 115/115 [01:03<00:00,  1.82batch/s, accuracy=0.706, loss=0.785]  \n"
     ]
    },
    {
     "name": "stdout",
     "output_type": "stream",
     "text": [
      "[1.0000000000000002e-06]\n",
      "              precision    recall  f1-score   support\n",
      "\n",
      "           0       0.75      0.63      0.69       384\n",
      "           1       0.76      0.63      0.69       384\n",
      "           2       0.62      0.68      0.65       307\n",
      "           3       0.58      0.64      0.61       230\n",
      "           4       0.52      0.62      0.57       154\n",
      "           5       0.31      0.47      0.37        77\n",
      "\n",
      "    accuracy                           0.64      1536\n",
      "   macro avg       0.59      0.61      0.60      1536\n",
      "weighted avg       0.66      0.64      0.64      1536\n",
      "\n",
      "[[243  31  37  38  18  17]\n",
      " [ 38 243  43  25  17  18]\n",
      " [ 12  26 210  28  18  13]\n",
      " [ 12   8  26 148  22  14]\n",
      " [ 13   6   7  13  96  19]\n",
      " [  5   6  15   3  12  36]]\n",
      "Epoch 51/64, Validation Loss: 0.9244, Validation Accuracy: 0.6354\n"
     ]
    },
    {
     "name": "stderr",
     "output_type": "stream",
     "text": [
      "Epoch 52/64: 100%|██████████| 115/115 [01:08<00:00,  1.69batch/s, accuracy=0.696, loss=0.79]   \n"
     ]
    },
    {
     "name": "stdout",
     "output_type": "stream",
     "text": [
      "[1.0000000000000002e-06]\n",
      "              precision    recall  f1-score   support\n",
      "\n",
      "           0       0.79      0.65      0.71       384\n",
      "           1       0.74      0.65      0.70       384\n",
      "           2       0.64      0.68      0.66       307\n",
      "           3       0.62      0.68      0.65       230\n",
      "           4       0.45      0.58      0.51       154\n",
      "           5       0.31      0.43      0.36        77\n",
      "\n",
      "    accuracy                           0.64      1536\n",
      "   macro avg       0.59      0.61      0.60      1536\n",
      "weighted avg       0.67      0.64      0.65      1536\n",
      "\n",
      "[[249  37  35  29  20  14]\n",
      " [ 30 251  45  25  17  16]\n",
      " [ 11  29 210  27  18  12]\n",
      " [  8   6  21 156  26  13]\n",
      " [ 15   9   8  13  89  20]\n",
      " [  3   5   8   2  26  33]]\n",
      "Epoch 52/64, Validation Loss: 0.9135, Validation Accuracy: 0.6432\n"
     ]
    },
    {
     "name": "stderr",
     "output_type": "stream",
     "text": [
      "Epoch 53/64: 100%|██████████| 115/115 [01:09<00:00,  1.64batch/s, accuracy=0.695, loss=0.796]  \n"
     ]
    },
    {
     "name": "stdout",
     "output_type": "stream",
     "text": [
      "[1.0000000000000002e-06]\n",
      "              precision    recall  f1-score   support\n",
      "\n",
      "           0       0.81      0.63      0.71       384\n",
      "           1       0.73      0.66      0.69       384\n",
      "           2       0.63      0.70      0.66       307\n",
      "           3       0.59      0.65      0.62       230\n",
      "           4       0.48      0.58      0.53       154\n",
      "           5       0.32      0.47      0.38        77\n",
      "\n",
      "    accuracy                           0.64      1536\n",
      "   macro avg       0.59      0.61      0.60      1536\n",
      "weighted avg       0.66      0.64      0.65      1536\n",
      "\n",
      "[[242  42  34  32  20  14]\n",
      " [ 30 254  44  24  15  17]\n",
      " [  6  29 215  27  19  11]\n",
      " [  8  10  27 149  24  12]\n",
      " [ 11   9   9  15  89  21]\n",
      " [  3   5  12   4  17  36]]\n",
      "Epoch 53/64, Validation Loss: 0.9011, Validation Accuracy: 0.6413\n"
     ]
    },
    {
     "name": "stderr",
     "output_type": "stream",
     "text": [
      "Epoch 54/64: 100%|██████████| 115/115 [01:09<00:00,  1.65batch/s, accuracy=0.698, loss=0.791]  \n"
     ]
    },
    {
     "name": "stdout",
     "output_type": "stream",
     "text": [
      "[1.0000000000000002e-06]\n",
      "              precision    recall  f1-score   support\n",
      "\n",
      "           0       0.75      0.65      0.69       384\n",
      "           1       0.76      0.66      0.70       384\n",
      "           2       0.61      0.68      0.65       307\n",
      "           3       0.59      0.58      0.59       230\n",
      "           4       0.46      0.58      0.51       154\n",
      "           5       0.32      0.44      0.37        77\n",
      "\n",
      "    accuracy                           0.63      1536\n",
      "   macro avg       0.58      0.60      0.59      1536\n",
      "weighted avg       0.65      0.63      0.64      1536\n",
      "\n",
      "[[248  38  38  26  20  14]\n",
      " [ 33 252  41  26  18  14]\n",
      " [ 12  24 210  29  22  10]\n",
      " [ 15  10  29 134  30  12]\n",
      " [ 16   6  12   9  90  21]\n",
      " [  8   3  14   2  16  34]]\n",
      "Epoch 54/64, Validation Loss: 0.9309, Validation Accuracy: 0.6302\n"
     ]
    },
    {
     "name": "stderr",
     "output_type": "stream",
     "text": [
      "Epoch 55/64: 100%|██████████| 115/115 [01:10<00:00,  1.63batch/s, accuracy=0.701, loss=0.785] \n"
     ]
    },
    {
     "name": "stdout",
     "output_type": "stream",
     "text": [
      "[1.0000000000000002e-06]\n",
      "              precision    recall  f1-score   support\n",
      "\n",
      "           0       0.74      0.67      0.70       384\n",
      "           1       0.75      0.63      0.68       384\n",
      "           2       0.66      0.68      0.67       307\n",
      "           3       0.61      0.63      0.62       230\n",
      "           4       0.47      0.60      0.53       154\n",
      "           5       0.27      0.40      0.32        77\n",
      "\n",
      "    accuracy                           0.64      1536\n",
      "   macro avg       0.58      0.60      0.59      1536\n",
      "weighted avg       0.66      0.64      0.64      1536\n",
      "\n",
      "[[257  33  32  28  23  11]\n",
      " [ 39 241  41  28  18  17]\n",
      " [ 15  28 210  23  15  16]\n",
      " [ 16   6  17 144  31  16]\n",
      " [ 11   6  11  10  93  23]\n",
      " [  8   8   8   3  19  31]]\n",
      "Epoch 55/64, Validation Loss: 0.9324, Validation Accuracy: 0.6354\n"
     ]
    },
    {
     "name": "stderr",
     "output_type": "stream",
     "text": [
      "Epoch 56/64: 100%|██████████| 115/115 [01:05<00:00,  1.76batch/s, accuracy=0.695, loss=0.792]  \n"
     ]
    },
    {
     "name": "stdout",
     "output_type": "stream",
     "text": [
      "[1.0000000000000002e-06]\n",
      "              precision    recall  f1-score   support\n",
      "\n",
      "           0       0.74      0.64      0.69       384\n",
      "           1       0.75      0.67      0.71       384\n",
      "           2       0.65      0.70      0.67       307\n",
      "           3       0.58      0.62      0.60       230\n",
      "           4       0.51      0.60      0.55       154\n",
      "           5       0.33      0.45      0.38        77\n",
      "\n",
      "    accuracy                           0.64      1536\n",
      "   macro avg       0.59      0.61      0.60      1536\n",
      "weighted avg       0.66      0.64      0.65      1536\n",
      "\n",
      "[[245  39  36  34  18  12]\n",
      " [ 34 258  32  28  18  14]\n",
      " [ 19  25 214  22  15  12]\n",
      " [ 17   6  25 142  25  15]\n",
      " [  9  10  11  14  93  17]\n",
      " [  5   8  10   4  15  35]]\n",
      "Epoch 56/64, Validation Loss: 0.9104, Validation Accuracy: 0.6426\n"
     ]
    },
    {
     "name": "stderr",
     "output_type": "stream",
     "text": [
      "Epoch 57/64: 100%|██████████| 115/115 [01:03<00:00,  1.80batch/s, accuracy=0.701, loss=0.79]   \n"
     ]
    },
    {
     "name": "stdout",
     "output_type": "stream",
     "text": [
      "[1.0000000000000002e-06]\n",
      "              precision    recall  f1-score   support\n",
      "\n",
      "           0       0.76      0.62      0.69       384\n",
      "           1       0.75      0.69      0.72       384\n",
      "           2       0.66      0.68      0.67       307\n",
      "           3       0.57      0.63      0.60       230\n",
      "           4       0.47      0.57      0.52       154\n",
      "           5       0.35      0.51      0.41        77\n",
      "\n",
      "    accuracy                           0.64      1536\n",
      "   macro avg       0.59      0.62      0.60      1536\n",
      "weighted avg       0.66      0.64      0.65      1536\n",
      "\n",
      "[[239  35  41  39  16  14]\n",
      " [ 36 265  32  21  19  11]\n",
      " [  8  31 208  31  17  12]\n",
      " [ 11   6  17 145  36  15]\n",
      " [ 13   6   8  17  88  22]\n",
      " [  6   8  11   3  10  39]]\n",
      "Epoch 57/64, Validation Loss: 0.9279, Validation Accuracy: 0.6406\n"
     ]
    },
    {
     "name": "stderr",
     "output_type": "stream",
     "text": [
      "Epoch 58/64: 100%|██████████| 115/115 [01:09<00:00,  1.64batch/s, accuracy=0.7, loss=0.79]     \n"
     ]
    },
    {
     "name": "stdout",
     "output_type": "stream",
     "text": [
      "[1.0000000000000002e-06]\n",
      "              precision    recall  f1-score   support\n",
      "\n",
      "           0       0.79      0.66      0.71       384\n",
      "           1       0.76      0.67      0.71       384\n",
      "           2       0.64      0.69      0.67       307\n",
      "           3       0.61      0.64      0.62       230\n",
      "           4       0.48      0.62      0.54       154\n",
      "           5       0.37      0.51      0.43        77\n",
      "\n",
      "    accuracy                           0.65      1536\n",
      "   macro avg       0.61      0.63      0.61      1536\n",
      "weighted avg       0.67      0.65      0.66      1536\n",
      "\n",
      "[[252  35  35  32  21   9]\n",
      " [ 31 257  35  28  14  19]\n",
      " [ 11  28 212  25  20  11]\n",
      " [  9   8  26 147  28  12]\n",
      " [ 14   8  15   7  95  15]\n",
      " [  4   4   7   2  21  39]]\n",
      "Epoch 58/64, Validation Loss: 0.8912, Validation Accuracy: 0.6523\n",
      "Best model saved! 20241014-2259\n"
     ]
    },
    {
     "name": "stderr",
     "output_type": "stream",
     "text": [
      "Epoch 59/64: 100%|██████████| 115/115 [01:05<00:00,  1.76batch/s, accuracy=0.699, loss=0.794]  \n"
     ]
    },
    {
     "name": "stdout",
     "output_type": "stream",
     "text": [
      "[1.0000000000000002e-06]\n",
      "              precision    recall  f1-score   support\n",
      "\n",
      "           0       0.75      0.63      0.68       384\n",
      "           1       0.75      0.66      0.70       384\n",
      "           2       0.64      0.68      0.66       307\n",
      "           3       0.58      0.68      0.63       230\n",
      "           4       0.53      0.59      0.56       154\n",
      "           5       0.35      0.49      0.41        77\n",
      "\n",
      "    accuracy                           0.64      1536\n",
      "   macro avg       0.60      0.62      0.61      1536\n",
      "weighted avg       0.66      0.64      0.65      1536\n",
      "\n",
      "[[241  40  39  36  14  14]\n",
      " [ 33 252  37  31  14  17]\n",
      " [ 15  27 209  28  17  11]\n",
      " [ 14   4  25 156  22   9]\n",
      " [ 13   6  10  13  91  21]\n",
      " [  6   6   9   4  14  38]]\n",
      "Epoch 59/64, Validation Loss: 0.9243, Validation Accuracy: 0.6426\n"
     ]
    },
    {
     "name": "stderr",
     "output_type": "stream",
     "text": [
      "Epoch 60/64: 100%|██████████| 115/115 [01:11<00:00,  1.60batch/s, accuracy=0.698, loss=0.783]  \n"
     ]
    },
    {
     "name": "stdout",
     "output_type": "stream",
     "text": [
      "[1.0000000000000002e-07]\n",
      "              precision    recall  f1-score   support\n",
      "\n",
      "           0       0.75      0.61      0.67       384\n",
      "           1       0.75      0.66      0.70       384\n",
      "           2       0.63      0.68      0.65       307\n",
      "           3       0.59      0.61      0.60       230\n",
      "           4       0.46      0.55      0.50       154\n",
      "           5       0.29      0.48      0.36        77\n",
      "\n",
      "    accuracy                           0.63      1536\n",
      "   macro avg       0.58      0.60      0.58      1536\n",
      "weighted avg       0.65      0.63      0.63      1536\n",
      "\n",
      "[[236  41  40  35  17  15]\n",
      " [ 29 255  40  26  14  20]\n",
      " [ 16  25 208  21  19  18]\n",
      " [ 17   7  20 141  34  11]\n",
      " [ 11   6  14  14  84  25]\n",
      " [  7   7   8   4  14  37]]\n",
      "Epoch 60/64, Validation Loss: 0.9211, Validation Accuracy: 0.6257\n"
     ]
    },
    {
     "name": "stderr",
     "output_type": "stream",
     "text": [
      "Epoch 61/64: 100%|██████████| 115/115 [01:07<00:00,  1.71batch/s, accuracy=0.7, loss=0.796]    \n"
     ]
    },
    {
     "name": "stdout",
     "output_type": "stream",
     "text": [
      "[1.0000000000000002e-07]\n",
      "              precision    recall  f1-score   support\n",
      "\n",
      "           0       0.75      0.65      0.70       384\n",
      "           1       0.76      0.68      0.72       384\n",
      "           2       0.64      0.67      0.65       307\n",
      "           3       0.62      0.64      0.63       230\n",
      "           4       0.48      0.57      0.52       154\n",
      "           5       0.35      0.52      0.42        77\n",
      "\n",
      "    accuracy                           0.65      1536\n",
      "   macro avg       0.60      0.62      0.61      1536\n",
      "weighted avg       0.66      0.65      0.65      1536\n",
      "\n",
      "[[250  39  35  30  18  12]\n",
      " [ 31 261  39  22  15  16]\n",
      " [ 19  25 206  26  17  14]\n",
      " [ 14   7  22 147  26  14]\n",
      " [ 17   8  11  11  88  19]\n",
      " [  4   3  10   2  18  40]]\n",
      "Epoch 61/64, Validation Loss: 0.9135, Validation Accuracy: 0.6458\n"
     ]
    },
    {
     "name": "stderr",
     "output_type": "stream",
     "text": [
      "Epoch 62/64: 100%|██████████| 115/115 [01:03<00:00,  1.81batch/s, accuracy=0.702, loss=0.781]  \n"
     ]
    },
    {
     "name": "stdout",
     "output_type": "stream",
     "text": [
      "[1.0000000000000002e-07]\n",
      "              precision    recall  f1-score   support\n",
      "\n",
      "           0       0.76      0.61      0.68       384\n",
      "           1       0.75      0.66      0.70       384\n",
      "           2       0.65      0.68      0.67       307\n",
      "           3       0.55      0.63      0.59       230\n",
      "           4       0.47      0.56      0.51       154\n",
      "           5       0.29      0.44      0.35        77\n",
      "\n",
      "    accuracy                           0.63      1536\n",
      "   macro avg       0.58      0.60      0.58      1536\n",
      "weighted avg       0.65      0.63      0.63      1536\n",
      "\n",
      "[[235  38  35  39  18  19]\n",
      " [ 35 253  36  29  14  17]\n",
      " [  9  28 209  30  17  14]\n",
      " [ 14   5  25 145  32   9]\n",
      " [ 10   6   8  17  87  26]\n",
      " [  8   6   8   3  18  34]]\n",
      "Epoch 62/64, Validation Loss: 0.9103, Validation Accuracy: 0.6270\n"
     ]
    },
    {
     "name": "stderr",
     "output_type": "stream",
     "text": [
      "Epoch 63/64: 100%|██████████| 115/115 [01:00<00:00,  1.90batch/s, accuracy=0.699, loss=0.792] \n"
     ]
    },
    {
     "name": "stdout",
     "output_type": "stream",
     "text": [
      "[1.0000000000000002e-07]\n",
      "              precision    recall  f1-score   support\n",
      "\n",
      "           0       0.77      0.64      0.70       384\n",
      "           1       0.74      0.66      0.70       384\n",
      "           2       0.64      0.69      0.66       307\n",
      "           3       0.59      0.62      0.60       230\n",
      "           4       0.47      0.60      0.53       154\n",
      "           5       0.37      0.49      0.42        77\n",
      "\n",
      "    accuracy                           0.64      1536\n",
      "   macro avg       0.60      0.62      0.60      1536\n",
      "weighted avg       0.66      0.64      0.65      1536\n",
      "\n",
      "[[246  37  39  28  25   9]\n",
      " [ 28 254  39  30  17  16]\n",
      " [ 16  30 213  23  13  12]\n",
      " [ 13   8  23 142  33  11]\n",
      " [ 11   6  11  16  92  18]\n",
      " [  4   6  10   3  16  38]]\n",
      "Epoch 63/64, Validation Loss: 0.9270, Validation Accuracy: 0.6413\n"
     ]
    },
    {
     "name": "stderr",
     "output_type": "stream",
     "text": [
      "Epoch 64/64: 100%|██████████| 115/115 [01:05<00:00,  1.76batch/s, accuracy=0.7, loss=0.793]    \n"
     ]
    },
    {
     "name": "stdout",
     "output_type": "stream",
     "text": [
      "[1.0000000000000002e-07]\n",
      "              precision    recall  f1-score   support\n",
      "\n",
      "           0       0.75      0.65      0.70       384\n",
      "           1       0.72      0.67      0.70       384\n",
      "           2       0.65      0.66      0.65       307\n",
      "           3       0.62      0.60      0.61       230\n",
      "           4       0.48      0.59      0.53       154\n",
      "           5       0.28      0.44      0.34        77\n",
      "\n",
      "    accuracy                           0.63      1536\n",
      "   macro avg       0.58      0.60      0.59      1536\n",
      "weighted avg       0.65      0.63      0.64      1536\n",
      "\n",
      "[[251  38  33  25  21  16]\n",
      " [ 37 257  38  19  19  14]\n",
      " [ 13  28 202  30  18  16]\n",
      " [ 15  13  23 138  25  16]\n",
      " [ 11  10   8   8  91  26]\n",
      " [  7   9   9   2  16  34]]\n",
      "Epoch 64/64, Validation Loss: 0.9101, Validation Accuracy: 0.6335\n",
      "Finished Training\n",
      "Best validation accuracy: 0.6523\n"
     ]
    }
   ],
   "source": [
    "if __name__ == \"__main__\":\n",
    "    model = TunnedBlockStackNet8()\n",
    "    trainer2 = ClassificationBlockStackTrainer1(\n",
    "        csv_path = csv_path, \n",
    "        img_dir=img_dir, \n",
    "        model=model,\n",
    "        test_size=0.2, \n",
    "        num_epochs=64,\n",
    "        batch_size=64\n",
    "        )\n",
    "    trainer2.train()"
   ]
  },
  {
   "cell_type": "code",
   "execution_count": 36,
   "metadata": {
    "scrolled": true
   },
   "outputs": [
    {
     "name": "stdout",
     "output_type": "stream",
     "text": [
      "Train dataset size: 6144 Validation dataset size: 1536 length of train_ids1 length of valid_ids1\n"
     ]
    },
    {
     "name": "stderr",
     "output_type": "stream",
     "text": [
      "Epoch 1/64: 100%|██████████| 230/230 [01:05<00:00,  3.53batch/s, accuracy=0.256, loss=1.61]   \n"
     ]
    },
    {
     "name": "stdout",
     "output_type": "stream",
     "text": [
      "[0.001]\n",
      "              precision    recall  f1-score   support\n",
      "\n",
      "           0       0.52      0.40      0.45       384\n",
      "           1       0.00      0.00      0.00       384\n",
      "           2       0.26      0.46      0.33       307\n",
      "           3       0.19      0.59      0.29       230\n",
      "           4       0.00      0.00      0.00       154\n",
      "           5       0.00      0.00      0.00        77\n",
      "\n",
      "    accuracy                           0.28      1536\n",
      "   macro avg       0.16      0.24      0.18      1536\n",
      "weighted avg       0.21      0.28      0.22      1536\n",
      "\n",
      "[[152   0 125 107   0   0]\n",
      " [ 99   0 157 128   0   0]\n",
      " [ 35   0 140 132   0   0]\n",
      " [  6   0  88 136   0   0]\n",
      " [  1   0  17 136   0   0]\n",
      " [  0   0   2  75   0   0]]\n",
      "Epoch 1/64, Validation Loss: 1.5360, Validation Accuracy: 0.2786\n",
      "Best model saved! 20241014-2020\n"
     ]
    },
    {
     "name": "stderr",
     "output_type": "stream",
     "text": [
      "Epoch 2/64: 100%|██████████| 230/230 [01:01<00:00,  3.71batch/s, accuracy=0.308, loss=1.53]   \n"
     ]
    },
    {
     "name": "stdout",
     "output_type": "stream",
     "text": [
      "[0.001]\n",
      "              precision    recall  f1-score   support\n",
      "\n",
      "           0       0.87      0.23      0.37       384\n",
      "           1       0.45      0.44      0.44       384\n",
      "           2       0.34      0.25      0.29       307\n",
      "           3       0.21      0.76      0.33       230\n",
      "           4       0.00      0.00      0.00       154\n",
      "           5       0.00      0.00      0.00        77\n",
      "\n",
      "    accuracy                           0.33      1536\n",
      "   macro avg       0.31      0.28      0.24      1536\n",
      "weighted avg       0.43      0.33      0.31      1536\n",
      "\n",
      "[[ 90 119  45 130   0   0]\n",
      " [ 10 169  49 156   0   0]\n",
      " [  0  78  76 153   0   0]\n",
      " [  1   7  48 174   0   0]\n",
      " [  2   3   3 146   0   0]\n",
      " [  0   1   0  76   0   0]]\n",
      "Epoch 2/64, Validation Loss: 1.4856, Validation Accuracy: 0.3314\n",
      "Best model saved! 20241014-2021\n"
     ]
    },
    {
     "name": "stderr",
     "output_type": "stream",
     "text": [
      "Epoch 3/64: 100%|██████████| 230/230 [01:04<00:00,  3.58batch/s, accuracy=0.332, loss=1.48]    \n"
     ]
    },
    {
     "name": "stdout",
     "output_type": "stream",
     "text": [
      "[0.001]\n",
      "              precision    recall  f1-score   support\n",
      "\n",
      "           0       0.78      0.24      0.36       384\n",
      "           1       0.47      0.42      0.44       384\n",
      "           2       0.34      0.40      0.37       307\n",
      "           3       0.26      0.32      0.29       230\n",
      "           4       0.19      0.20      0.20       154\n",
      "           5       0.14      0.51      0.22        77\n",
      "\n",
      "    accuracy                           0.34      1536\n",
      "   macro avg       0.37      0.35      0.31      1536\n",
      "weighted avg       0.45      0.34      0.35      1536\n",
      "\n",
      "[[ 91 111  70  45  22  45]\n",
      " [ 22 160  78  51  20  53]\n",
      " [  1  67 124  46  24  45]\n",
      " [  1   6  81  74  33  35]\n",
      " [  1   0  11  56  31  55]\n",
      " [  0   0   1   8  29  39]]\n",
      "Epoch 3/64, Validation Loss: 1.4244, Validation Accuracy: 0.3379\n",
      "Best model saved! 20241014-2023\n"
     ]
    },
    {
     "name": "stderr",
     "output_type": "stream",
     "text": [
      "Epoch 4/64: 100%|██████████| 230/230 [01:01<00:00,  3.75batch/s, accuracy=0.35, loss=1.47]    \n"
     ]
    },
    {
     "name": "stdout",
     "output_type": "stream",
     "text": [
      "[0.001]\n",
      "              precision    recall  f1-score   support\n",
      "\n",
      "           0       0.73      0.28      0.40       384\n",
      "           1       0.44      0.54      0.48       384\n",
      "           2       0.33      0.39      0.36       307\n",
      "           3       0.23      0.45      0.30       230\n",
      "           4       0.23      0.14      0.17       154\n",
      "           5       0.00      0.00      0.00        77\n",
      "\n",
      "    accuracy                           0.36      1536\n",
      "   macro avg       0.33      0.30      0.29      1536\n",
      "weighted avg       0.41      0.36      0.35      1536\n",
      "\n",
      "[[106 136  59  67  16   0]\n",
      " [ 12 207  68  85  12   0]\n",
      " [  8  99 120  66  14   0]\n",
      " [  8  23  84 104  11   0]\n",
      " [  9   7  26  91  21   0]\n",
      " [  2   3  12  43  17   0]]\n",
      "Epoch 4/64, Validation Loss: 1.4122, Validation Accuracy: 0.3633\n",
      "Best model saved! 20241014-2024\n"
     ]
    },
    {
     "name": "stderr",
     "output_type": "stream",
     "text": [
      "Epoch 5/64: 100%|██████████| 230/230 [01:08<00:00,  3.37batch/s, accuracy=0.359, loss=1.44]   \n"
     ]
    },
    {
     "name": "stdout",
     "output_type": "stream",
     "text": [
      "[0.001]\n",
      "              precision    recall  f1-score   support\n",
      "\n",
      "           0       0.85      0.23      0.37       384\n",
      "           1       0.40      0.54      0.46       384\n",
      "           2       0.22      0.38      0.28       307\n",
      "           3       0.18      0.26      0.21       230\n",
      "           4       0.20      0.06      0.09       154\n",
      "           5       0.00      0.00      0.00        77\n",
      "\n",
      "    accuracy                           0.32      1536\n",
      "   macro avg       0.31      0.25      0.23      1536\n",
      "weighted avg       0.40      0.32      0.30      1536\n",
      "\n",
      "[[ 90 141  95  51   7   0]\n",
      " [  4 209 105  59   7   0]\n",
      " [  1 135 116  48   7   0]\n",
      " [  2  26 137  60   5   0]\n",
      " [  5   2  60  78   9   0]\n",
      " [  4   4  13  45  11   0]]\n",
      "Epoch 5/64, Validation Loss: 1.4598, Validation Accuracy: 0.3151\n"
     ]
    },
    {
     "name": "stderr",
     "output_type": "stream",
     "text": [
      "Epoch 6/64: 100%|██████████| 230/230 [01:11<00:00,  3.22batch/s, accuracy=0.372, loss=1.41]   \n"
     ]
    },
    {
     "name": "stdout",
     "output_type": "stream",
     "text": [
      "[0.001]\n",
      "              precision    recall  f1-score   support\n",
      "\n",
      "           0       0.48      0.36      0.41       384\n",
      "           1       0.54      0.41      0.46       384\n",
      "           2       0.46      0.37      0.41       307\n",
      "           3       0.34      0.21      0.26       230\n",
      "           4       0.22      0.35      0.27       154\n",
      "           5       0.16      0.62      0.25        77\n",
      "\n",
      "    accuracy                           0.37      1536\n",
      "   macro avg       0.36      0.39      0.34      1536\n",
      "weighted avg       0.42      0.37      0.38      1536\n",
      "\n",
      "[[139  93  48  19  42  43]\n",
      " [ 53 156  58  29  38  50]\n",
      " [ 33  39 115  36  38  46]\n",
      " [ 35   2  31  49  66  47]\n",
      " [ 16   0   0  13  54  71]\n",
      " [ 16   0   0   0  13  48]]\n",
      "Epoch 6/64, Validation Loss: 1.4002, Validation Accuracy: 0.3652\n",
      "Best model saved! 20241014-2027\n"
     ]
    },
    {
     "name": "stderr",
     "output_type": "stream",
     "text": [
      "Epoch 7/64: 100%|██████████| 230/230 [01:00<00:00,  3.77batch/s, accuracy=0.39, loss=1.39]    \n"
     ]
    },
    {
     "name": "stdout",
     "output_type": "stream",
     "text": [
      "[0.001]\n",
      "              precision    recall  f1-score   support\n",
      "\n",
      "           0       0.88      0.26      0.40       384\n",
      "           1       0.51      0.49      0.50       384\n",
      "           2       0.34      0.50      0.41       307\n",
      "           3       0.28      0.34      0.31       230\n",
      "           4       0.26      0.52      0.35       154\n",
      "           5       0.29      0.08      0.12        77\n",
      "\n",
      "    accuracy                           0.40      1536\n",
      "   macro avg       0.43      0.37      0.35      1536\n",
      "weighted avg       0.50      0.40      0.39      1536\n",
      "\n",
      "[[100 107  88  45  39   5]\n",
      " [  7 188  96  47  41   5]\n",
      " [  0  63 155  43  45   1]\n",
      " [  1   6  92  78  51   2]\n",
      " [  2   2  19  49  80   2]\n",
      " [  3   0   2  17  49   6]]\n",
      "Epoch 7/64, Validation Loss: 1.3445, Validation Accuracy: 0.3952\n",
      "Best model saved! 20241014-2028\n"
     ]
    },
    {
     "name": "stderr",
     "output_type": "stream",
     "text": [
      "Epoch 8/64: 100%|██████████| 230/230 [01:11<00:00,  3.23batch/s, accuracy=0.401, loss=1.36]   \n"
     ]
    },
    {
     "name": "stdout",
     "output_type": "stream",
     "text": [
      "[0.001]\n",
      "              precision    recall  f1-score   support\n",
      "\n",
      "           0       0.57      0.43      0.49       384\n",
      "           1       0.74      0.38      0.50       384\n",
      "           2       0.40      0.54      0.46       307\n",
      "           3       0.34      0.36      0.35       230\n",
      "           4       0.24      0.44      0.31       154\n",
      "           5       0.24      0.32      0.27        77\n",
      "\n",
      "    accuracy                           0.42      1536\n",
      "   macro avg       0.42      0.41      0.40      1536\n",
      "weighted avg       0.49      0.42      0.44      1536\n",
      "\n",
      "[[166  46  91  34  36  11]\n",
      " [ 39 145  94  42  50  14]\n",
      " [ 23   5 167  43  51  18]\n",
      " [ 21   1  64  82  48  14]\n",
      " [ 27   0   2  35  67  23]\n",
      " [ 16   0   0   3  33  25]]\n",
      "Epoch 8/64, Validation Loss: 1.3111, Validation Accuracy: 0.4245\n",
      "Best model saved! 20241014-2029\n"
     ]
    },
    {
     "name": "stderr",
     "output_type": "stream",
     "text": [
      "Epoch 9/64: 100%|██████████| 230/230 [00:59<00:00,  3.88batch/s, accuracy=0.388, loss=1.38]   \n"
     ]
    },
    {
     "name": "stdout",
     "output_type": "stream",
     "text": [
      "[0.001]\n",
      "              precision    recall  f1-score   support\n",
      "\n",
      "           0       0.86      0.28      0.42       384\n",
      "           1       0.56      0.47      0.51       384\n",
      "           2       0.40      0.43      0.42       307\n",
      "           3       0.32      0.40      0.36       230\n",
      "           4       0.23      0.68      0.35       154\n",
      "           5       0.37      0.09      0.15        77\n",
      "\n",
      "    accuracy                           0.41      1536\n",
      "   macro avg       0.46      0.39      0.37      1536\n",
      "weighted avg       0.53      0.41      0.41      1536\n",
      "\n",
      "[[108  90  70  46  70   0]\n",
      " [  9 180  66  52  74   3]\n",
      " [  1  49 133  46  77   1]\n",
      " [  4   2  61  92  66   5]\n",
      " [  1   0   3  42 105   3]\n",
      " [  2   0   0   6  62   7]]\n",
      "Epoch 9/64, Validation Loss: 1.3059, Validation Accuracy: 0.4069\n"
     ]
    },
    {
     "name": "stderr",
     "output_type": "stream",
     "text": [
      "Epoch 10/64: 100%|██████████| 230/230 [01:03<00:00,  3.60batch/s, accuracy=0.401, loss=1.36]  \n"
     ]
    },
    {
     "name": "stdout",
     "output_type": "stream",
     "text": [
      "[0.001]\n",
      "              precision    recall  f1-score   support\n",
      "\n",
      "           0       0.53      0.51      0.52       384\n",
      "           1       0.63      0.42      0.51       384\n",
      "           2       0.41      0.54      0.47       307\n",
      "           3       0.33      0.44      0.37       230\n",
      "           4       0.28      0.34      0.31       154\n",
      "           5       0.29      0.05      0.09        77\n",
      "\n",
      "    accuracy                           0.44      1536\n",
      "   macro avg       0.41      0.38      0.38      1536\n",
      "weighted avg       0.47      0.44      0.44      1536\n",
      "\n",
      "[[195  60  75  30  20   4]\n",
      " [ 61 163  91  44  22   3]\n",
      " [ 33  27 165  55  25   2]\n",
      " [ 26   4  64 101  35   0]\n",
      " [ 25   3   5  67  53   1]\n",
      " [ 25   1   0  12  35   4]]\n",
      "Epoch 10/64, Validation Loss: 1.2665, Validation Accuracy: 0.4434\n",
      "Best model saved! 20241014-2032\n"
     ]
    },
    {
     "name": "stderr",
     "output_type": "stream",
     "text": [
      "Epoch 11/64: 100%|██████████| 230/230 [01:00<00:00,  3.78batch/s, accuracy=0.417, loss=1.33]  \n"
     ]
    },
    {
     "name": "stdout",
     "output_type": "stream",
     "text": [
      "[0.001]\n",
      "              precision    recall  f1-score   support\n",
      "\n",
      "           0       0.52      0.58      0.55       384\n",
      "           1       0.50      0.49      0.49       384\n",
      "           2       0.46      0.29      0.36       307\n",
      "           3       0.29      0.45      0.35       230\n",
      "           4       0.28      0.29      0.29       154\n",
      "           5       0.11      0.03      0.04        77\n",
      "\n",
      "    accuracy                           0.42      1536\n",
      "   macro avg       0.36      0.35      0.35      1536\n",
      "weighted avg       0.42      0.42      0.42      1536\n",
      "\n",
      "[[222  71  22  51  14   4]\n",
      " [ 89 189  29  51  25   1]\n",
      " [ 46  92  90  56  18   5]\n",
      " [ 26  24  49 103  26   2]\n",
      " [ 24   4   5  72  45   4]\n",
      " [ 18   0   1  23  33   2]]\n",
      "Epoch 11/64, Validation Loss: 1.3780, Validation Accuracy: 0.4238\n"
     ]
    },
    {
     "name": "stderr",
     "output_type": "stream",
     "text": [
      "Epoch 12/64: 100%|██████████| 230/230 [01:00<00:00,  3.77batch/s, accuracy=0.42, loss=1.32]    \n"
     ]
    },
    {
     "name": "stdout",
     "output_type": "stream",
     "text": [
      "[0.001]\n",
      "              precision    recall  f1-score   support\n",
      "\n",
      "           0       0.40      0.60      0.48       384\n",
      "           1       0.41      0.58      0.48       384\n",
      "           2       0.48      0.22      0.31       307\n",
      "           3       0.40      0.20      0.26       230\n",
      "           4       0.32      0.34      0.33       154\n",
      "           5       0.29      0.03      0.05        77\n",
      "\n",
      "    accuracy                           0.40      1536\n",
      "   macro avg       0.38      0.33      0.32      1536\n",
      "weighted avg       0.40      0.40      0.38      1536\n",
      "\n",
      "[[229 114  11  15  14   1]\n",
      " [105 221  17  13  27   1]\n",
      " [ 75 132  69  14  17   0]\n",
      " [ 64  50  45  45  24   2]\n",
      " [ 57  20   3  21  52   1]\n",
      " [ 38   5   0   4  28   2]]\n",
      "Epoch 12/64, Validation Loss: 1.3823, Validation Accuracy: 0.4023\n"
     ]
    },
    {
     "name": "stderr",
     "output_type": "stream",
     "text": [
      "Epoch 13/64: 100%|██████████| 230/230 [01:03<00:00,  3.62batch/s, accuracy=0.424, loss=1.32]   \n"
     ]
    },
    {
     "name": "stdout",
     "output_type": "stream",
     "text": [
      "[0.001]\n",
      "              precision    recall  f1-score   support\n",
      "\n",
      "           0       0.65      0.37      0.47       384\n",
      "           1       0.71      0.41      0.52       384\n",
      "           2       0.50      0.48      0.49       307\n",
      "           3       0.38      0.42      0.40       230\n",
      "           4       0.27      0.58      0.37       154\n",
      "           5       0.20      0.56      0.29        77\n",
      "\n",
      "    accuracy                           0.44      1536\n",
      "   macro avg       0.45      0.47      0.42      1536\n",
      "weighted avg       0.53      0.44      0.46      1536\n",
      "\n",
      "[[142  55  64  50  45  28]\n",
      " [ 29 159  61  53  45  37]\n",
      " [ 18  10 146  45  57  31]\n",
      " [  9   0  22  96  72  31]\n",
      " [ 10   1   0   9  89  45]\n",
      " [ 11   0   0   0  23  43]]\n",
      "Epoch 13/64, Validation Loss: 1.2600, Validation Accuracy: 0.4395\n"
     ]
    },
    {
     "name": "stderr",
     "output_type": "stream",
     "text": [
      "Epoch 14/64: 100%|██████████| 230/230 [01:08<00:00,  3.37batch/s, accuracy=0.442, loss=1.29]  \n"
     ]
    },
    {
     "name": "stdout",
     "output_type": "stream",
     "text": [
      "[0.001]\n",
      "              precision    recall  f1-score   support\n",
      "\n",
      "           0       0.40      0.73      0.52       384\n",
      "           1       0.77      0.34      0.47       384\n",
      "           2       0.48      0.53      0.51       307\n",
      "           3       0.48      0.31      0.38       230\n",
      "           4       0.21      0.21      0.21       154\n",
      "           5       0.19      0.09      0.12        77\n",
      "\n",
      "    accuracy                           0.45      1536\n",
      "   macro avg       0.42      0.37      0.37      1536\n",
      "weighted avg       0.49      0.45      0.43      1536\n",
      "\n",
      "[[279  25  53  12  11   4]\n",
      " [134 132  69  16  29   4]\n",
      " [ 73  11 164  24  30   5]\n",
      " [ 73   2  49  72  29   5]\n",
      " [ 82   2   3  24  32  11]\n",
      " [ 49   0   2   1  18   7]]\n",
      "Epoch 14/64, Validation Loss: 1.2509, Validation Accuracy: 0.4466\n",
      "Best model saved! 20241014-2037\n"
     ]
    },
    {
     "name": "stderr",
     "output_type": "stream",
     "text": [
      "Epoch 15/64: 100%|██████████| 230/230 [01:07<00:00,  3.40batch/s, accuracy=0.442, loss=1.28]  \n"
     ]
    },
    {
     "name": "stdout",
     "output_type": "stream",
     "text": [
      "[0.0001]\n",
      "              precision    recall  f1-score   support\n",
      "\n",
      "           0       0.61      0.61      0.61       384\n",
      "           1       0.54      0.59      0.56       384\n",
      "           2       0.51      0.43      0.47       307\n",
      "           3       0.38      0.38      0.38       230\n",
      "           4       0.28      0.42      0.33       154\n",
      "           5       0.25      0.03      0.05        77\n",
      "\n",
      "    accuracy                           0.49      1536\n",
      "   macro avg       0.43      0.41      0.40      1536\n",
      "weighted avg       0.49      0.49      0.48      1536\n",
      "\n",
      "[[234  68  33  25  22   2]\n",
      " [ 65 227  31  27  33   1]\n",
      " [ 23  93 133  32  26   0]\n",
      " [ 27  19  56  88  39   1]\n",
      " [ 22  10   6  50  64   2]\n",
      " [ 15   4   0  10  46   2]]\n",
      "Epoch 15/64, Validation Loss: 1.2306, Validation Accuracy: 0.4870\n",
      "Best model saved! 20241014-2038\n"
     ]
    },
    {
     "name": "stderr",
     "output_type": "stream",
     "text": [
      "Epoch 16/64: 100%|██████████| 230/230 [01:02<00:00,  3.65batch/s, accuracy=0.481, loss=1.21]   \n"
     ]
    },
    {
     "name": "stdout",
     "output_type": "stream",
     "text": [
      "[0.0001]\n",
      "              precision    recall  f1-score   support\n",
      "\n",
      "           0       0.60      0.63      0.62       384\n",
      "           1       0.69      0.49      0.58       384\n",
      "           2       0.64      0.49      0.55       307\n",
      "           3       0.42      0.53      0.47       230\n",
      "           4       0.30      0.46      0.37       154\n",
      "           5       0.27      0.34      0.30        77\n",
      "\n",
      "    accuracy                           0.52      1536\n",
      "   macro avg       0.49      0.49      0.48      1536\n",
      "weighted avg       0.56      0.52      0.53      1536\n",
      "\n",
      "[[242  42  33  39  16  12]\n",
      " [ 62 190  40  48  24  20]\n",
      " [ 30  29 150  52  34  12]\n",
      " [ 23   7  11 123  59   7]\n",
      " [ 26   4   1  31  71  21]\n",
      " [ 17   2   1   2  29  26]]\n",
      "Epoch 16/64, Validation Loss: 1.1400, Validation Accuracy: 0.5221\n",
      "Best model saved! 20241014-2039\n"
     ]
    },
    {
     "name": "stderr",
     "output_type": "stream",
     "text": [
      "Epoch 17/64: 100%|██████████| 230/230 [01:08<00:00,  3.35batch/s, accuracy=0.501, loss=1.18]   \n"
     ]
    },
    {
     "name": "stdout",
     "output_type": "stream",
     "text": [
      "[0.0001]\n",
      "              precision    recall  f1-score   support\n",
      "\n",
      "           0       0.67      0.55      0.60       384\n",
      "           1       0.71      0.49      0.58       384\n",
      "           2       0.61      0.52      0.56       307\n",
      "           3       0.41      0.53      0.46       230\n",
      "           4       0.31      0.51      0.39       154\n",
      "           5       0.28      0.53      0.37        77\n",
      "\n",
      "    accuracy                           0.52      1536\n",
      "   macro avg       0.50      0.52      0.49      1536\n",
      "weighted avg       0.57      0.52      0.53      1536\n",
      "\n",
      "[[212  49  42  40  22  19]\n",
      " [ 41 187  42  53  33  28]\n",
      " [ 17  17 161  50  43  19]\n",
      " [ 19   5  18 122  48  18]\n",
      " [ 17   5   1  33  78  20]\n",
      " [ 11   0   1   0  24  41]]\n",
      "Epoch 17/64, Validation Loss: 1.1217, Validation Accuracy: 0.5215\n"
     ]
    },
    {
     "name": "stderr",
     "output_type": "stream",
     "text": [
      "Epoch 18/64: 100%|██████████| 230/230 [01:05<00:00,  3.50batch/s, accuracy=0.516, loss=1.15]   \n"
     ]
    },
    {
     "name": "stdout",
     "output_type": "stream",
     "text": [
      "[0.0001]\n",
      "              precision    recall  f1-score   support\n",
      "\n",
      "           0       0.69      0.58      0.63       384\n",
      "           1       0.70      0.51      0.59       384\n",
      "           2       0.66      0.56      0.60       307\n",
      "           3       0.46      0.57      0.51       230\n",
      "           4       0.33      0.47      0.39       154\n",
      "           5       0.24      0.49      0.32        77\n",
      "\n",
      "    accuracy                           0.54      1536\n",
      "   macro avg       0.51      0.53      0.51      1536\n",
      "weighted avg       0.59      0.54      0.56      1536\n",
      "\n",
      "[[224  52  35  39  20  14]\n",
      " [ 42 196  38  51  26  31]\n",
      " [ 16  19 171  45  33  23]\n",
      " [ 15   6  12 131  46  20]\n",
      " [ 19   6   3  19  73  34]\n",
      " [ 11   3   2   0  23  38]]\n",
      "Epoch 18/64, Validation Loss: 1.0914, Validation Accuracy: 0.5423\n",
      "Best model saved! 20241014-2042\n"
     ]
    },
    {
     "name": "stderr",
     "output_type": "stream",
     "text": [
      "Epoch 19/64: 100%|██████████| 230/230 [01:13<00:00,  3.11batch/s, accuracy=0.52, loss=1.15]   \n"
     ]
    },
    {
     "name": "stdout",
     "output_type": "stream",
     "text": [
      "[0.0001]\n",
      "              precision    recall  f1-score   support\n",
      "\n",
      "           0       0.62      0.63      0.63       384\n",
      "           1       0.68      0.53      0.59       384\n",
      "           2       0.63      0.55      0.59       307\n",
      "           3       0.51      0.52      0.52       230\n",
      "           4       0.35      0.45      0.40       154\n",
      "           5       0.31      0.60      0.41        77\n",
      "\n",
      "    accuracy                           0.55      1536\n",
      "   macro avg       0.52      0.55      0.52      1536\n",
      "weighted avg       0.58      0.55      0.56      1536\n",
      "\n",
      "[[242  50  33  31  16  12]\n",
      " [ 53 202  42  35  28  24]\n",
      " [ 29  27 170  34  29  18]\n",
      " [ 22   8  20 120  44  16]\n",
      " [ 29   8   3  13  70  31]\n",
      " [ 14   4   1   1  11  46]]\n",
      "Epoch 19/64, Validation Loss: 1.0948, Validation Accuracy: 0.5534\n",
      "Best model saved! 20241014-2043\n"
     ]
    },
    {
     "name": "stderr",
     "output_type": "stream",
     "text": [
      "Epoch 20/64: 100%|██████████| 230/230 [01:07<00:00,  3.38batch/s, accuracy=0.537, loss=1.13]  \n"
     ]
    },
    {
     "name": "stdout",
     "output_type": "stream",
     "text": [
      "[0.0001]\n",
      "              precision    recall  f1-score   support\n",
      "\n",
      "           0       0.67      0.58      0.62       384\n",
      "           1       0.70      0.53      0.61       384\n",
      "           2       0.63      0.56      0.60       307\n",
      "           3       0.46      0.49      0.47       230\n",
      "           4       0.36      0.51      0.42       154\n",
      "           5       0.26      0.57      0.35        77\n",
      "\n",
      "    accuracy                           0.54      1536\n",
      "   macro avg       0.51      0.54      0.51      1536\n",
      "weighted avg       0.59      0.54      0.56      1536\n",
      "\n",
      "[[223  48  35  40  16  22]\n",
      " [ 42 204  46  38  29  25]\n",
      " [ 18  18 173  43  27  28]\n",
      " [ 19   7  15 113  53  23]\n",
      " [ 20  10   3  13  78  30]\n",
      " [ 12   3   2   0  16  44]]\n",
      "Epoch 20/64, Validation Loss: 1.0837, Validation Accuracy: 0.5436\n"
     ]
    },
    {
     "name": "stderr",
     "output_type": "stream",
     "text": [
      "Epoch 21/64: 100%|██████████| 230/230 [00:58<00:00,  3.92batch/s, accuracy=0.539, loss=1.11]   \n"
     ]
    },
    {
     "name": "stdout",
     "output_type": "stream",
     "text": [
      "[0.0001]\n",
      "              precision    recall  f1-score   support\n",
      "\n",
      "           0       0.67      0.64      0.66       384\n",
      "           1       0.69      0.54      0.61       384\n",
      "           2       0.61      0.56      0.59       307\n",
      "           3       0.51      0.52      0.52       230\n",
      "           4       0.37      0.51      0.43       154\n",
      "           5       0.30      0.55      0.39        77\n",
      "\n",
      "    accuracy                           0.57      1536\n",
      "   macro avg       0.53      0.55      0.53      1536\n",
      "weighted avg       0.59      0.57      0.57      1536\n",
      "\n",
      "[[247  44  34  32  16  11]\n",
      " [ 46 208  46  38  21  25]\n",
      " [ 22  28 172  31  37  17]\n",
      " [ 18  10  24 120  43  15]\n",
      " [ 21   7   4  14  79  29]\n",
      " [ 13   4   0   0  18  42]]\n",
      "Epoch 21/64, Validation Loss: 1.0611, Validation Accuracy: 0.5651\n",
      "Best model saved! 20241014-2046\n"
     ]
    },
    {
     "name": "stderr",
     "output_type": "stream",
     "text": [
      "Epoch 22/64: 100%|██████████| 230/230 [01:02<00:00,  3.67batch/s, accuracy=0.543, loss=1.11]   \n"
     ]
    },
    {
     "name": "stdout",
     "output_type": "stream",
     "text": [
      "[0.0001]\n",
      "              precision    recall  f1-score   support\n",
      "\n",
      "           0       0.70      0.62      0.66       384\n",
      "           1       0.74      0.55      0.63       384\n",
      "           2       0.57      0.63      0.60       307\n",
      "           3       0.50      0.50      0.50       230\n",
      "           4       0.40      0.52      0.45       154\n",
      "           5       0.28      0.48      0.35        77\n",
      "\n",
      "    accuracy                           0.57      1536\n",
      "   macro avg       0.53      0.55      0.53      1536\n",
      "weighted avg       0.60      0.57      0.58      1536\n",
      "\n",
      "[[240  38  44  33  16  13]\n",
      " [ 44 210  54  37  17  22]\n",
      " [ 21  16 193  32  25  20]\n",
      " [ 15   6  35 116  40  18]\n",
      " [ 16  10   9  15  80  24]\n",
      " [  8   3   6   0  23  37]]\n",
      "Epoch 22/64, Validation Loss: 1.0428, Validation Accuracy: 0.5703\n",
      "Best model saved! 20241014-2047\n"
     ]
    },
    {
     "name": "stderr",
     "output_type": "stream",
     "text": [
      "Epoch 23/64: 100%|██████████| 230/230 [01:00<00:00,  3.79batch/s, accuracy=0.551, loss=1.09]   \n"
     ]
    },
    {
     "name": "stdout",
     "output_type": "stream",
     "text": [
      "[0.0001]\n",
      "              precision    recall  f1-score   support\n",
      "\n",
      "           0       0.68      0.60      0.64       384\n",
      "           1       0.67      0.55      0.61       384\n",
      "           2       0.61      0.56      0.59       307\n",
      "           3       0.49      0.54      0.52       230\n",
      "           4       0.37      0.51      0.43       154\n",
      "           5       0.28      0.48      0.35        77\n",
      "\n",
      "    accuracy                           0.56      1536\n",
      "   macro avg       0.52      0.54      0.52      1536\n",
      "weighted avg       0.59      0.56      0.57      1536\n",
      "\n",
      "[[229  43  43  38  18  13]\n",
      " [ 41 213  43  42  18  27]\n",
      " [ 19  33 173  31  33  18]\n",
      " [ 13   9  19 124  52  13]\n",
      " [ 19  11   4  15  79  26]\n",
      " [ 14   8   2   1  15  37]]\n",
      "Epoch 23/64, Validation Loss: 1.0708, Validation Accuracy: 0.5566\n"
     ]
    },
    {
     "name": "stderr",
     "output_type": "stream",
     "text": [
      "Epoch 24/64: 100%|██████████| 230/230 [00:58<00:00,  3.92batch/s, accuracy=0.56, loss=1.08]    \n"
     ]
    },
    {
     "name": "stdout",
     "output_type": "stream",
     "text": [
      "[0.0001]\n",
      "              precision    recall  f1-score   support\n",
      "\n",
      "           0       0.68      0.62      0.65       384\n",
      "           1       0.64      0.55      0.59       384\n",
      "           2       0.60      0.61      0.60       307\n",
      "           3       0.53      0.53      0.53       230\n",
      "           4       0.40      0.49      0.44       154\n",
      "           5       0.31      0.49      0.38        77\n",
      "\n",
      "    accuracy                           0.57      1536\n",
      "   macro avg       0.53      0.55      0.53      1536\n",
      "weighted avg       0.58      0.57      0.57      1536\n",
      "\n",
      "[[240  45  41  29  14  15]\n",
      " [ 49 213  54  33  14  21]\n",
      " [ 18  41 186  23  27  12]\n",
      " [ 16   9  26 121  43  15]\n",
      " [ 21  14   3  20  75  21]\n",
      " [ 11  11   1   2  14  38]]\n",
      "Epoch 24/64, Validation Loss: 1.0514, Validation Accuracy: 0.5684\n"
     ]
    },
    {
     "name": "stderr",
     "output_type": "stream",
     "text": [
      "Epoch 25/64: 100%|██████████| 230/230 [01:05<00:00,  3.50batch/s, accuracy=0.561, loss=1.08]   \n"
     ]
    },
    {
     "name": "stdout",
     "output_type": "stream",
     "text": [
      "[0.0001]\n",
      "              precision    recall  f1-score   support\n",
      "\n",
      "           0       0.67      0.62      0.64       384\n",
      "           1       0.67      0.59      0.63       384\n",
      "           2       0.62      0.60      0.61       307\n",
      "           3       0.51      0.55      0.53       230\n",
      "           4       0.39      0.44      0.41       154\n",
      "           5       0.31      0.49      0.38        77\n",
      "\n",
      "    accuracy                           0.57      1536\n",
      "   macro avg       0.53      0.55      0.53      1536\n",
      "weighted avg       0.59      0.57      0.58      1536\n",
      "\n",
      "[[237  43  43  37  13  11]\n",
      " [ 38 228  50  34  18  16]\n",
      " [ 15  34 183  34  24  17]\n",
      " [ 21  11  13 126  41  18]\n",
      " [ 29  15   4  14  68  24]\n",
      " [ 14  10   3   0  12  38]]\n",
      "Epoch 25/64, Validation Loss: 1.0406, Validation Accuracy: 0.5729\n",
      "Best model saved! 20241014-2051\n"
     ]
    },
    {
     "name": "stderr",
     "output_type": "stream",
     "text": [
      "Epoch 26/64: 100%|██████████| 230/230 [01:09<00:00,  3.31batch/s, accuracy=0.571, loss=1.06]   \n"
     ]
    },
    {
     "name": "stdout",
     "output_type": "stream",
     "text": [
      "[0.0001]\n",
      "              precision    recall  f1-score   support\n",
      "\n",
      "           0       0.70      0.59      0.64       384\n",
      "           1       0.74      0.58      0.65       384\n",
      "           2       0.63      0.60      0.62       307\n",
      "           3       0.49      0.57      0.53       230\n",
      "           4       0.39      0.50      0.44       154\n",
      "           5       0.25      0.49      0.33        77\n",
      "\n",
      "    accuracy                           0.57      1536\n",
      "   macro avg       0.53      0.56      0.53      1536\n",
      "weighted avg       0.61      0.57      0.58      1536\n",
      "\n",
      "[[225  38  42  43  17  19]\n",
      " [ 35 223  39  38  19  30]\n",
      " [ 13  23 184  36  27  24]\n",
      " [ 19   7  15 132  39  18]\n",
      " [ 19   8   7  19  77  24]\n",
      " [ 10   4   4   0  21  38]]\n",
      "Epoch 26/64, Validation Loss: 1.0338, Validation Accuracy: 0.5723\n"
     ]
    },
    {
     "name": "stderr",
     "output_type": "stream",
     "text": [
      "Epoch 27/64: 100%|██████████| 230/230 [01:00<00:00,  3.78batch/s, accuracy=0.564, loss=1.06]   \n"
     ]
    },
    {
     "name": "stdout",
     "output_type": "stream",
     "text": [
      "[0.0001]\n",
      "              precision    recall  f1-score   support\n",
      "\n",
      "           0       0.65      0.67      0.66       384\n",
      "           1       0.72      0.58      0.64       384\n",
      "           2       0.60      0.62      0.61       307\n",
      "           3       0.54      0.49      0.51       230\n",
      "           4       0.43      0.40      0.41       154\n",
      "           5       0.28      0.57      0.37        77\n",
      "\n",
      "    accuracy                           0.58      1536\n",
      "   macro avg       0.54      0.56      0.54      1536\n",
      "weighted avg       0.60      0.58      0.59      1536\n",
      "\n",
      "[[259  35  41  26  12  11]\n",
      " [ 48 223  50  25  11  27]\n",
      " [ 24  24 191  29  15  24]\n",
      " [ 25   9  27 113  36  20]\n",
      " [ 26  11   7  16  62  32]\n",
      " [ 15   7   2   0   9  44]]\n",
      "Epoch 27/64, Validation Loss: 1.0267, Validation Accuracy: 0.5807\n",
      "Best model saved! 20241014-2053\n"
     ]
    },
    {
     "name": "stderr",
     "output_type": "stream",
     "text": [
      "Epoch 28/64: 100%|██████████| 230/230 [00:56<00:00,  4.09batch/s, accuracy=0.569, loss=1.05]   \n"
     ]
    },
    {
     "name": "stdout",
     "output_type": "stream",
     "text": [
      "[0.0001]\n",
      "              precision    recall  f1-score   support\n",
      "\n",
      "           0       0.65      0.66      0.66       384\n",
      "           1       0.66      0.63      0.65       384\n",
      "           2       0.62      0.58      0.60       307\n",
      "           3       0.58      0.50      0.54       230\n",
      "           4       0.44      0.49      0.46       154\n",
      "           5       0.30      0.45      0.36        77\n",
      "\n",
      "    accuracy                           0.59      1536\n",
      "   macro avg       0.54      0.55      0.54      1536\n",
      "weighted avg       0.60      0.59      0.59      1536\n",
      "\n",
      "[[255  39  39  28  11  12]\n",
      " [ 52 243  40  17  11  21]\n",
      " [ 23  43 178  27  20  16]\n",
      " [ 23  10  25 116  42  14]\n",
      " [ 26  18   3  13  75  19]\n",
      " [ 15  15   1   0  11  35]]\n",
      "Epoch 28/64, Validation Loss: 1.0106, Validation Accuracy: 0.5872\n",
      "Best model saved! 20241014-2054\n"
     ]
    },
    {
     "name": "stderr",
     "output_type": "stream",
     "text": [
      "Epoch 29/64: 100%|██████████| 230/230 [01:05<00:00,  3.53batch/s, accuracy=0.584, loss=1.05]   \n"
     ]
    },
    {
     "name": "stdout",
     "output_type": "stream",
     "text": [
      "[0.0001]\n",
      "              precision    recall  f1-score   support\n",
      "\n",
      "           0       0.66      0.64      0.65       384\n",
      "           1       0.70      0.64      0.67       384\n",
      "           2       0.60      0.62      0.61       307\n",
      "           3       0.55      0.51      0.53       230\n",
      "           4       0.40      0.58      0.47       154\n",
      "           5       0.31      0.26      0.28        77\n",
      "\n",
      "    accuracy                           0.59      1536\n",
      "   macro avg       0.54      0.54      0.54      1536\n",
      "weighted avg       0.60      0.59      0.59      1536\n",
      "\n",
      "[[246  43  41  26  21   7]\n",
      " [ 42 245  41  22  23  11]\n",
      " [ 27  28 189  30  22  11]\n",
      " [ 22  15  27 117  42   7]\n",
      " [ 21  10   9  16  90   8]\n",
      " [ 12   9   6   2  28  20]]\n",
      "Epoch 29/64, Validation Loss: 1.0169, Validation Accuracy: 0.5905\n",
      "Best model saved! 20241014-2056\n"
     ]
    },
    {
     "name": "stderr",
     "output_type": "stream",
     "text": [
      "Epoch 30/64: 100%|██████████| 230/230 [01:08<00:00,  3.36batch/s, accuracy=0.591, loss=1.04]   \n"
     ]
    },
    {
     "name": "stdout",
     "output_type": "stream",
     "text": [
      "[1e-05]\n",
      "              precision    recall  f1-score   support\n",
      "\n",
      "           0       0.69      0.65      0.67       384\n",
      "           1       0.69      0.61      0.65       384\n",
      "           2       0.62      0.65      0.63       307\n",
      "           3       0.53      0.61      0.57       230\n",
      "           4       0.50      0.48      0.49       154\n",
      "           5       0.31      0.40      0.35        77\n",
      "\n",
      "    accuracy                           0.60      1536\n",
      "   macro avg       0.56      0.57      0.56      1536\n",
      "weighted avg       0.61      0.60      0.61      1536\n",
      "\n",
      "[[251  40  42  34   7  10]\n",
      " [ 40 234  44  34  17  15]\n",
      " [ 17  33 199  36  10  12]\n",
      " [ 22   9  19 140  24  16]\n",
      " [ 23  11  11  19  74  16]\n",
      " [ 12  10   8   1  15  31]]\n",
      "Epoch 30/64, Validation Loss: 1.0208, Validation Accuracy: 0.6048\n",
      "Best model saved! 20241014-2057\n"
     ]
    },
    {
     "name": "stderr",
     "output_type": "stream",
     "text": [
      "Epoch 31/64: 100%|██████████| 230/230 [00:58<00:00,  3.92batch/s, accuracy=0.58, loss=1.04]    \n"
     ]
    },
    {
     "name": "stdout",
     "output_type": "stream",
     "text": [
      "[1e-05]\n",
      "              precision    recall  f1-score   support\n",
      "\n",
      "           0       0.69      0.64      0.67       384\n",
      "           1       0.74      0.58      0.65       384\n",
      "           2       0.64      0.59      0.61       307\n",
      "           3       0.52      0.54      0.53       230\n",
      "           4       0.40      0.53      0.45       154\n",
      "           5       0.29      0.57      0.38        77\n",
      "\n",
      "    accuracy                           0.58      1536\n",
      "   macro avg       0.55      0.57      0.55      1536\n",
      "weighted avg       0.62      0.58      0.59      1536\n",
      "\n",
      "[[246  37  36  32  16  17]\n",
      " [ 34 222  42  38  18  30]\n",
      " [ 21  26 180  33  25  22]\n",
      " [ 21   5  17 124  50  13]\n",
      " [ 19   8   4  13  82  28]\n",
      " [ 13   2   2   0  16  44]]\n",
      "Epoch 31/64, Validation Loss: 0.9969, Validation Accuracy: 0.5846\n"
     ]
    },
    {
     "name": "stderr",
     "output_type": "stream",
     "text": [
      "Epoch 32/64: 100%|██████████| 230/230 [00:59<00:00,  3.89batch/s, accuracy=0.595, loss=1.01]   \n"
     ]
    },
    {
     "name": "stdout",
     "output_type": "stream",
     "text": [
      "[1e-05]\n",
      "              precision    recall  f1-score   support\n",
      "\n",
      "           0       0.68      0.65      0.66       384\n",
      "           1       0.72      0.60      0.65       384\n",
      "           2       0.64      0.61      0.62       307\n",
      "           3       0.52      0.50      0.51       230\n",
      "           4       0.41      0.50      0.45       154\n",
      "           5       0.26      0.48      0.34        77\n",
      "\n",
      "    accuracy                           0.58      1536\n",
      "   macro avg       0.54      0.56      0.54      1536\n",
      "weighted avg       0.61      0.58      0.59      1536\n",
      "\n",
      "[[248  38  41  36   9  12]\n",
      " [ 41 231  33  34  20  25]\n",
      " [ 19  29 188  26  23  22]\n",
      " [ 22   8  23 116  45  16]\n",
      " [ 20   7   8  13  77  29]\n",
      " [ 13  10   3   0  14  37]]\n",
      "Epoch 32/64, Validation Loss: 1.0184, Validation Accuracy: 0.5840\n"
     ]
    },
    {
     "name": "stderr",
     "output_type": "stream",
     "text": [
      "Epoch 33/64: 100%|██████████| 230/230 [01:03<00:00,  3.64batch/s, accuracy=0.601, loss=1.01]   \n"
     ]
    },
    {
     "name": "stdout",
     "output_type": "stream",
     "text": [
      "[1e-05]\n",
      "              precision    recall  f1-score   support\n",
      "\n",
      "           0       0.70      0.62      0.66       384\n",
      "           1       0.74      0.61      0.67       384\n",
      "           2       0.63      0.66      0.65       307\n",
      "           3       0.55      0.61      0.58       230\n",
      "           4       0.45      0.52      0.48       154\n",
      "           5       0.24      0.38      0.29        77\n",
      "\n",
      "    accuracy                           0.60      1536\n",
      "   macro avg       0.55      0.57      0.55      1536\n",
      "weighted avg       0.63      0.60      0.61      1536\n",
      "\n",
      "[[238  39  45  35  10  17]\n",
      " [ 36 234  43  32  18  21]\n",
      " [ 19  19 204  31  16  18]\n",
      " [ 16   6  18 141  32  17]\n",
      " [ 19   8  11  15  80  21]\n",
      " [ 13   9   4   1  21  29]]\n",
      "Epoch 33/64, Validation Loss: 1.0008, Validation Accuracy: 0.6029\n"
     ]
    },
    {
     "name": "stderr",
     "output_type": "stream",
     "text": [
      "Epoch 34/64: 100%|██████████| 230/230 [01:05<00:00,  3.52batch/s, accuracy=0.594, loss=1.01]   \n"
     ]
    },
    {
     "name": "stdout",
     "output_type": "stream",
     "text": [
      "[1e-05]\n",
      "              precision    recall  f1-score   support\n",
      "\n",
      "           0       0.70      0.61      0.65       384\n",
      "           1       0.73      0.60      0.66       384\n",
      "           2       0.63      0.58      0.60       307\n",
      "           3       0.55      0.56      0.55       230\n",
      "           4       0.42      0.56      0.48       154\n",
      "           5       0.27      0.58      0.37        77\n",
      "\n",
      "    accuracy                           0.59      1536\n",
      "   macro avg       0.55      0.58      0.55      1536\n",
      "weighted avg       0.62      0.59      0.60      1536\n",
      "\n",
      "[[234  32  41  34  18  25]\n",
      " [ 42 230  39  30  17  26]\n",
      " [ 14  34 179  32  27  21]\n",
      " [ 17   8  14 128  44  19]\n",
      " [ 16   7   7   8  86  30]\n",
      " [ 10   5   5   0  12  45]]\n",
      "Epoch 34/64, Validation Loss: 1.0212, Validation Accuracy: 0.5872\n"
     ]
    },
    {
     "name": "stderr",
     "output_type": "stream",
     "text": [
      "Epoch 35/64: 100%|██████████| 230/230 [01:02<00:00,  3.71batch/s, accuracy=0.596, loss=0.997]  \n"
     ]
    },
    {
     "name": "stdout",
     "output_type": "stream",
     "text": [
      "[1e-05]\n",
      "              precision    recall  f1-score   support\n",
      "\n",
      "           0       0.69      0.63      0.66       384\n",
      "           1       0.73      0.59      0.65       384\n",
      "           2       0.64      0.62      0.63       307\n",
      "           3       0.56      0.58      0.57       230\n",
      "           4       0.42      0.56      0.48       154\n",
      "           5       0.29      0.52      0.37        77\n",
      "\n",
      "    accuracy                           0.60      1536\n",
      "   macro avg       0.56      0.58      0.56      1536\n",
      "weighted avg       0.62      0.60      0.61      1536\n",
      "\n",
      "[[243  34  39  35  16  17]\n",
      " [ 40 225  41  33  25  20]\n",
      " [ 19  29 189  26  22  22]\n",
      " [ 15   8  14 133  44  16]\n",
      " [ 21   6   8  10  87  22]\n",
      " [ 14   5   6   0  12  40]]\n",
      "Epoch 35/64, Validation Loss: 0.9946, Validation Accuracy: 0.5970\n"
     ]
    },
    {
     "name": "stderr",
     "output_type": "stream",
     "text": [
      "Epoch 36/64: 100%|██████████| 230/230 [01:05<00:00,  3.53batch/s, accuracy=0.603, loss=1]      \n"
     ]
    },
    {
     "name": "stdout",
     "output_type": "stream",
     "text": [
      "[1e-05]\n",
      "              precision    recall  f1-score   support\n",
      "\n",
      "           0       0.69      0.61      0.64       384\n",
      "           1       0.75      0.60      0.66       384\n",
      "           2       0.61      0.64      0.62       307\n",
      "           3       0.56      0.57      0.56       230\n",
      "           4       0.42      0.51      0.46       154\n",
      "           5       0.26      0.52      0.35        77\n",
      "\n",
      "    accuracy                           0.59      1536\n",
      "   macro avg       0.55      0.57      0.55      1536\n",
      "weighted avg       0.62      0.59      0.60      1536\n",
      "\n",
      "[[233  31  47  35  19  19]\n",
      " [ 45 229  48  22  17  23]\n",
      " [ 11  23 197  31  23  22]\n",
      " [ 16  11  18 130  36  19]\n",
      " [ 23   6   7  12  78  28]\n",
      " [ 11   5   7   1  13  40]]\n",
      "Epoch 36/64, Validation Loss: 0.9996, Validation Accuracy: 0.5905\n"
     ]
    },
    {
     "name": "stderr",
     "output_type": "stream",
     "text": [
      "Epoch 37/64: 100%|██████████| 230/230 [01:06<00:00,  3.46batch/s, accuracy=0.598, loss=1.01]   \n"
     ]
    },
    {
     "name": "stdout",
     "output_type": "stream",
     "text": [
      "[1e-05]\n",
      "              precision    recall  f1-score   support\n",
      "\n",
      "           0       0.71      0.62      0.66       384\n",
      "           1       0.72      0.61      0.66       384\n",
      "           2       0.60      0.62      0.61       307\n",
      "           3       0.56      0.58      0.57       230\n",
      "           4       0.42      0.51      0.46       154\n",
      "           5       0.29      0.51      0.37        77\n",
      "\n",
      "    accuracy                           0.60      1536\n",
      "   macro avg       0.55      0.57      0.56      1536\n",
      "weighted avg       0.62      0.60      0.60      1536\n",
      "\n",
      "[[238  37  45  36  15  13]\n",
      " [ 33 235  44  31  17  24]\n",
      " [ 17  32 191  24  25  18]\n",
      " [ 15   9  20 134  38  14]\n",
      " [ 19  10   8  14  78  25]\n",
      " [ 11   5   8   0  14  39]]\n",
      "Epoch 37/64, Validation Loss: 1.0086, Validation Accuracy: 0.5957\n"
     ]
    },
    {
     "name": "stderr",
     "output_type": "stream",
     "text": [
      "Epoch 38/64: 100%|██████████| 230/230 [01:07<00:00,  3.43batch/s, accuracy=0.604, loss=1]      \n"
     ]
    },
    {
     "name": "stdout",
     "output_type": "stream",
     "text": [
      "[1e-05]\n",
      "              precision    recall  f1-score   support\n",
      "\n",
      "           0       0.68      0.61      0.65       384\n",
      "           1       0.73      0.61      0.67       384\n",
      "           2       0.58      0.64      0.61       307\n",
      "           3       0.53      0.53      0.53       230\n",
      "           4       0.46      0.56      0.50       154\n",
      "           5       0.37      0.52      0.43        77\n",
      "\n",
      "    accuracy                           0.60      1536\n",
      "   macro avg       0.56      0.58      0.57      1536\n",
      "weighted avg       0.61      0.60      0.60      1536\n",
      "\n",
      "[[236  38  46  37  17  10]\n",
      " [ 40 236  50  28  11  19]\n",
      " [ 20  27 198  30  21  11]\n",
      " [ 20   7  29 122  40  12]\n",
      " [ 16  12  11  13  86  16]\n",
      " [ 13   5   5   0  14  40]]\n",
      "Epoch 38/64, Validation Loss: 0.9992, Validation Accuracy: 0.5977\n"
     ]
    },
    {
     "name": "stderr",
     "output_type": "stream",
     "text": [
      "Epoch 39/64: 100%|██████████| 230/230 [01:06<00:00,  3.45batch/s, accuracy=0.602, loss=0.993]  \n"
     ]
    },
    {
     "name": "stdout",
     "output_type": "stream",
     "text": [
      "[1e-05]\n",
      "              precision    recall  f1-score   support\n",
      "\n",
      "           0       0.69      0.65      0.67       384\n",
      "           1       0.74      0.62      0.68       384\n",
      "           2       0.65      0.62      0.64       307\n",
      "           3       0.56      0.58      0.57       230\n",
      "           4       0.41      0.51      0.46       154\n",
      "           5       0.27      0.45      0.34        77\n",
      "\n",
      "    accuracy                           0.60      1536\n",
      "   macro avg       0.55      0.57      0.56      1536\n",
      "weighted avg       0.63      0.60      0.61      1536\n",
      "\n",
      "[[248  37  41  31  16  11]\n",
      " [ 36 240  36  32  20  20]\n",
      " [ 19  25 191  29  22  21]\n",
      " [ 16   6  16 134  39  19]\n",
      " [ 24  10   6  12  79  23]\n",
      " [ 14   8   3   0  17  35]]\n",
      "Epoch 39/64, Validation Loss: 0.9864, Validation Accuracy: 0.6035\n"
     ]
    },
    {
     "name": "stderr",
     "output_type": "stream",
     "text": [
      "Epoch 40/64: 100%|██████████| 230/230 [01:04<00:00,  3.59batch/s, accuracy=0.607, loss=0.986]  \n"
     ]
    },
    {
     "name": "stdout",
     "output_type": "stream",
     "text": [
      "[1e-05]\n",
      "              precision    recall  f1-score   support\n",
      "\n",
      "           0       0.73      0.62      0.67       384\n",
      "           1       0.72      0.62      0.67       384\n",
      "           2       0.63      0.64      0.63       307\n",
      "           3       0.56      0.60      0.58       230\n",
      "           4       0.45      0.53      0.49       154\n",
      "           5       0.29      0.53      0.37        77\n",
      "\n",
      "    accuracy                           0.61      1536\n",
      "   macro avg       0.56      0.59      0.57      1536\n",
      "weighted avg       0.63      0.61      0.62      1536\n",
      "\n",
      "[[237  37  40  38  16  16]\n",
      " [ 28 239  45  31  20  21]\n",
      " [ 13  30 195  26  21  22]\n",
      " [ 15   9  15 138  33  20]\n",
      " [ 17  11   8  13  82  23]\n",
      " [ 13   5   7   0  11  41]]\n",
      "Epoch 40/64, Validation Loss: 0.9811, Validation Accuracy: 0.6068\n",
      "Best model saved! 20241014-2110\n"
     ]
    },
    {
     "name": "stderr",
     "output_type": "stream",
     "text": [
      "Epoch 41/64: 100%|██████████| 230/230 [01:05<00:00,  3.50batch/s, accuracy=0.604, loss=1]      \n"
     ]
    },
    {
     "name": "stdout",
     "output_type": "stream",
     "text": [
      "[1e-05]\n",
      "              precision    recall  f1-score   support\n",
      "\n",
      "           0       0.74      0.64      0.69       384\n",
      "           1       0.75      0.63      0.69       384\n",
      "           2       0.62      0.64      0.63       307\n",
      "           3       0.55      0.56      0.56       230\n",
      "           4       0.43      0.51      0.47       154\n",
      "           5       0.27      0.52      0.35        77\n",
      "\n",
      "    accuracy                           0.61      1536\n",
      "   macro avg       0.56      0.58      0.56      1536\n",
      "weighted avg       0.64      0.61      0.62      1536\n",
      "\n",
      "[[246  35  44  27  15  17]\n",
      " [ 29 242  41  32  16  24]\n",
      " [ 13  20 196  34  20  24]\n",
      " [ 13   7  22 129  39  20]\n",
      " [ 20  11   8  11  79  25]\n",
      " [ 13   6   4   0  14  40]]\n",
      "Epoch 41/64, Validation Loss: 0.9945, Validation Accuracy: 0.6068\n"
     ]
    },
    {
     "name": "stderr",
     "output_type": "stream",
     "text": [
      "Epoch 42/64: 100%|██████████| 230/230 [01:14<00:00,  3.09batch/s, accuracy=0.599, loss=0.993]  \n"
     ]
    },
    {
     "name": "stdout",
     "output_type": "stream",
     "text": [
      "[1e-05]\n",
      "              precision    recall  f1-score   support\n",
      "\n",
      "           0       0.72      0.63      0.67       384\n",
      "           1       0.74      0.60      0.67       384\n",
      "           2       0.62      0.62      0.62       307\n",
      "           3       0.54      0.53      0.53       230\n",
      "           4       0.42      0.55      0.48       154\n",
      "           5       0.25      0.51      0.33        77\n",
      "\n",
      "    accuracy                           0.59      1536\n",
      "   macro avg       0.55      0.57      0.55      1536\n",
      "weighted avg       0.63      0.59      0.60      1536\n",
      "\n",
      "[[242  38  41  28  16  19]\n",
      " [ 34 232  44  30  17  27]\n",
      " [ 12  25 190  32  26  22]\n",
      " [ 18   7  19 121  41  24]\n",
      " [ 17   7   6  12  85  27]\n",
      " [ 13   4   5   0  16  39]]\n",
      "Epoch 42/64, Validation Loss: 0.9921, Validation Accuracy: 0.5918\n"
     ]
    },
    {
     "name": "stderr",
     "output_type": "stream",
     "text": [
      "Epoch 43/64: 100%|██████████| 230/230 [01:03<00:00,  3.61batch/s, accuracy=0.609, loss=0.988]  \n"
     ]
    },
    {
     "name": "stdout",
     "output_type": "stream",
     "text": [
      "[1e-05]\n",
      "              precision    recall  f1-score   support\n",
      "\n",
      "           0       0.71      0.63      0.67       384\n",
      "           1       0.74      0.61      0.67       384\n",
      "           2       0.66      0.64      0.65       307\n",
      "           3       0.59      0.60      0.60       230\n",
      "           4       0.42      0.56      0.48       154\n",
      "           5       0.32      0.56      0.40        77\n",
      "\n",
      "    accuracy                           0.61      1536\n",
      "   macro avg       0.57      0.60      0.58      1536\n",
      "weighted avg       0.64      0.61      0.62      1536\n",
      "\n",
      "[[242  33  45  30  18  16]\n",
      " [ 39 235  37  31  22  20]\n",
      " [ 16  23 198  26  26  18]\n",
      " [ 16   9  13 138  39  15]\n",
      " [ 19  11   7   7  86  24]\n",
      " [ 11   8   2   0  13  43]]\n",
      "Epoch 43/64, Validation Loss: 0.9837, Validation Accuracy: 0.6133\n",
      "Best model saved! 20241014-2114\n"
     ]
    },
    {
     "name": "stderr",
     "output_type": "stream",
     "text": [
      "Epoch 44/64: 100%|██████████| 230/230 [01:08<00:00,  3.34batch/s, accuracy=0.601, loss=1.01]   \n"
     ]
    },
    {
     "name": "stdout",
     "output_type": "stream",
     "text": [
      "[1e-05]\n",
      "              precision    recall  f1-score   support\n",
      "\n",
      "           0       0.70      0.63      0.66       384\n",
      "           1       0.72      0.62      0.67       384\n",
      "           2       0.61      0.63      0.62       307\n",
      "           3       0.57      0.57      0.57       230\n",
      "           4       0.49      0.56      0.52       154\n",
      "           5       0.32      0.56      0.41        77\n",
      "\n",
      "    accuracy                           0.61      1536\n",
      "   macro avg       0.57      0.60      0.58      1536\n",
      "weighted avg       0.63      0.61      0.61      1536\n",
      "\n",
      "[[242  39  46  29  13  15]\n",
      " [ 37 239  44  28  15  21]\n",
      " [ 17  30 194  28  21  17]\n",
      " [ 20   9  18 131  34  18]\n",
      " [ 18   9   8  14  86  19]\n",
      " [ 13   7   6   1   7  43]]\n",
      "Epoch 44/64, Validation Loss: 0.9877, Validation Accuracy: 0.6087\n"
     ]
    },
    {
     "name": "stderr",
     "output_type": "stream",
     "text": [
      "Epoch 45/64: 100%|██████████| 230/230 [01:19<00:00,  2.88batch/s, accuracy=0.605, loss=0.99]   \n"
     ]
    },
    {
     "name": "stdout",
     "output_type": "stream",
     "text": [
      "[1.0000000000000002e-06]\n",
      "              precision    recall  f1-score   support\n",
      "\n",
      "           0       0.70      0.64      0.66       384\n",
      "           1       0.74      0.63      0.68       384\n",
      "           2       0.61      0.65      0.63       307\n",
      "           3       0.55      0.55      0.55       230\n",
      "           4       0.43      0.50      0.46       154\n",
      "           5       0.29      0.47      0.36        77\n",
      "\n",
      "    accuracy                           0.60      1536\n",
      "   macro avg       0.55      0.57      0.56      1536\n",
      "weighted avg       0.62      0.60      0.61      1536\n",
      "\n",
      "[[244  35  44  38   9  14]\n",
      " [ 36 242  41  28  17  20]\n",
      " [ 18  25 199  26  23  16]\n",
      " [ 16   8  23 127  38  18]\n",
      " [ 23  11  12  11  77  20]\n",
      " [ 13   8   5   0  15  36]]\n",
      "Epoch 45/64, Validation Loss: 0.9848, Validation Accuracy: 0.6022\n"
     ]
    },
    {
     "name": "stderr",
     "output_type": "stream",
     "text": [
      "Epoch 46/64: 100%|██████████| 230/230 [01:03<00:00,  3.61batch/s, accuracy=0.608, loss=0.997]  \n"
     ]
    },
    {
     "name": "stdout",
     "output_type": "stream",
     "text": [
      "[1.0000000000000002e-06]\n",
      "              precision    recall  f1-score   support\n",
      "\n",
      "           0       0.70      0.65      0.67       384\n",
      "           1       0.73      0.63      0.68       384\n",
      "           2       0.64      0.64      0.64       307\n",
      "           3       0.58      0.60      0.59       230\n",
      "           4       0.46      0.51      0.49       154\n",
      "           5       0.27      0.48      0.35        77\n",
      "\n",
      "    accuracy                           0.61      1536\n",
      "   macro avg       0.56      0.58      0.57      1536\n",
      "weighted avg       0.63      0.61      0.62      1536\n",
      "\n",
      "[[248  37  40  34  13  12]\n",
      " [ 34 243  42  30  13  22]\n",
      " [ 15  30 195  25  21  21]\n",
      " [ 16   9  15 137  32  21]\n",
      " [ 24   8   9  10  79  24]\n",
      " [ 15   5   6   2  12  37]]\n",
      "Epoch 46/64, Validation Loss: 1.0002, Validation Accuracy: 0.6113\n"
     ]
    },
    {
     "name": "stderr",
     "output_type": "stream",
     "text": [
      "Epoch 47/64: 100%|██████████| 230/230 [01:08<00:00,  3.38batch/s, accuracy=0.609, loss=0.997]  \n"
     ]
    },
    {
     "name": "stdout",
     "output_type": "stream",
     "text": [
      "[1.0000000000000002e-06]\n",
      "              precision    recall  f1-score   support\n",
      "\n",
      "           0       0.69      0.66      0.68       384\n",
      "           1       0.74      0.62      0.67       384\n",
      "           2       0.67      0.62      0.64       307\n",
      "           3       0.57      0.58      0.58       230\n",
      "           4       0.45      0.54      0.49       154\n",
      "           5       0.26      0.45      0.33        77\n",
      "\n",
      "    accuracy                           0.61      1536\n",
      "   macro avg       0.56      0.58      0.56      1536\n",
      "weighted avg       0.63      0.61      0.62      1536\n",
      "\n",
      "[[255  35  36  33  12  13]\n",
      " [ 44 238  32  31  18  21]\n",
      " [ 18  29 189  31  19  21]\n",
      " [ 16   8  12 134  39  21]\n",
      " [ 22   8   8   7  83  26]\n",
      " [ 16   5   6   0  15  35]]\n",
      "Epoch 47/64, Validation Loss: 0.9888, Validation Accuracy: 0.6081\n"
     ]
    },
    {
     "name": "stderr",
     "output_type": "stream",
     "text": [
      "Epoch 48/64: 100%|██████████| 230/230 [01:06<00:00,  3.46batch/s, accuracy=0.603, loss=0.997]  \n"
     ]
    },
    {
     "name": "stdout",
     "output_type": "stream",
     "text": [
      "[1.0000000000000002e-06]\n",
      "              precision    recall  f1-score   support\n",
      "\n",
      "           0       0.68      0.64      0.66       384\n",
      "           1       0.71      0.63      0.67       384\n",
      "           2       0.65      0.65      0.65       307\n",
      "           3       0.57      0.57      0.57       230\n",
      "           4       0.43      0.54      0.48       154\n",
      "           5       0.30      0.44      0.36        77\n",
      "\n",
      "    accuracy                           0.61      1536\n",
      "   macro avg       0.56      0.58      0.57      1536\n",
      "weighted avg       0.62      0.61      0.61      1536\n",
      "\n",
      "[[245  36  42  30  17  14]\n",
      " [ 45 241  37  30  16  15]\n",
      " [ 15  30 199  28  21  14]\n",
      " [ 21  11  13 132  39  14]\n",
      " [ 19  11  10  10  83  21]\n",
      " [ 14   9   5   0  15  34]]\n",
      "Epoch 48/64, Validation Loss: 0.9817, Validation Accuracy: 0.6081\n"
     ]
    },
    {
     "name": "stderr",
     "output_type": "stream",
     "text": [
      "Epoch 49/64: 100%|██████████| 230/230 [01:07<00:00,  3.39batch/s, accuracy=0.604, loss=0.989] \n"
     ]
    },
    {
     "name": "stdout",
     "output_type": "stream",
     "text": [
      "[1.0000000000000002e-06]\n",
      "              precision    recall  f1-score   support\n",
      "\n",
      "           0       0.72      0.62      0.67       384\n",
      "           1       0.73      0.61      0.67       384\n",
      "           2       0.63      0.65      0.64       307\n",
      "           3       0.54      0.61      0.57       230\n",
      "           4       0.47      0.56      0.51       154\n",
      "           5       0.29      0.45      0.35        77\n",
      "\n",
      "    accuracy                           0.61      1536\n",
      "   macro avg       0.56      0.59      0.57      1536\n",
      "weighted avg       0.63      0.61      0.62      1536\n",
      "\n",
      "[[237  45  38  40  14  10]\n",
      " [ 33 236  43  34  16  22]\n",
      " [ 14  25 201  27  19  21]\n",
      " [ 12   8  20 141  32  17]\n",
      " [ 20   6   8  18  86  16]\n",
      " [ 12   5   7   2  16  35]]\n",
      "Epoch 49/64, Validation Loss: 0.9828, Validation Accuracy: 0.6094\n"
     ]
    },
    {
     "name": "stderr",
     "output_type": "stream",
     "text": [
      "Epoch 50/64: 100%|██████████| 230/230 [01:06<00:00,  3.43batch/s, accuracy=0.606, loss=0.993]  \n"
     ]
    },
    {
     "name": "stdout",
     "output_type": "stream",
     "text": [
      "[1.0000000000000002e-06]\n",
      "              precision    recall  f1-score   support\n",
      "\n",
      "           0       0.75      0.62      0.68       384\n",
      "           1       0.75      0.63      0.68       384\n",
      "           2       0.61      0.62      0.61       307\n",
      "           3       0.56      0.57      0.57       230\n",
      "           4       0.44      0.59      0.51       154\n",
      "           5       0.27      0.51      0.35        77\n",
      "\n",
      "    accuracy                           0.60      1536\n",
      "   macro avg       0.56      0.59      0.57      1536\n",
      "weighted avg       0.64      0.60      0.62      1536\n",
      "\n",
      "[[237  33  44  37  13  20]\n",
      " [ 25 241  48  24  20  26]\n",
      " [ 13  30 190  30  25  19]\n",
      " [ 17   7  17 131  38  20]\n",
      " [ 17   6   8  11  91  21]\n",
      " [  9   5   6   0  18  39]]\n",
      "Epoch 50/64, Validation Loss: 0.9807, Validation Accuracy: 0.6048\n"
     ]
    },
    {
     "name": "stderr",
     "output_type": "stream",
     "text": [
      "Epoch 51/64: 100%|██████████| 230/230 [01:02<00:00,  3.67batch/s, accuracy=0.607, loss=0.99]   \n"
     ]
    },
    {
     "name": "stdout",
     "output_type": "stream",
     "text": [
      "[1.0000000000000002e-06]\n",
      "              precision    recall  f1-score   support\n",
      "\n",
      "           0       0.69      0.66      0.68       384\n",
      "           1       0.75      0.62      0.68       384\n",
      "           2       0.64      0.60      0.62       307\n",
      "           3       0.52      0.51      0.52       230\n",
      "           4       0.42      0.56      0.48       154\n",
      "           5       0.24      0.40      0.30        77\n",
      "\n",
      "    accuracy                           0.59      1536\n",
      "   macro avg       0.54      0.56      0.54      1536\n",
      "weighted avg       0.62      0.59      0.60      1536\n",
      "\n",
      "[[254  32  32  36  15  15]\n",
      " [ 35 237  41  31  17  23]\n",
      " [ 19  24 183  36  20  25]\n",
      " [ 18   9  16 118  53  16]\n",
      " [ 23   8   8   7  87  21]\n",
      " [ 17   5   8   0  16  31]]\n",
      "Epoch 51/64, Validation Loss: 1.0016, Validation Accuracy: 0.5924\n"
     ]
    },
    {
     "name": "stderr",
     "output_type": "stream",
     "text": [
      "Epoch 52/64: 100%|██████████| 230/230 [01:05<00:00,  3.53batch/s, accuracy=0.606, loss=0.99]   \n"
     ]
    },
    {
     "name": "stdout",
     "output_type": "stream",
     "text": [
      "[1.0000000000000002e-06]\n",
      "              precision    recall  f1-score   support\n",
      "\n",
      "           0       0.70      0.64      0.67       384\n",
      "           1       0.70      0.64      0.67       384\n",
      "           2       0.63      0.62      0.62       307\n",
      "           3       0.59      0.61      0.60       230\n",
      "           4       0.45      0.54      0.49       154\n",
      "           5       0.32      0.47      0.38        77\n",
      "\n",
      "    accuracy                           0.61      1536\n",
      "   macro avg       0.57      0.59      0.57      1536\n",
      "weighted avg       0.63      0.61      0.62      1536\n",
      "\n",
      "[[247  41  43  28  13  12]\n",
      " [ 37 244  41  27  14  21]\n",
      " [ 21  32 189  24  23  18]\n",
      " [ 17  12  16 141  35   9]\n",
      " [ 18  13   7  15  83  18]\n",
      " [ 14   5   4   2  16  36]]\n",
      "Epoch 52/64, Validation Loss: 0.9820, Validation Accuracy: 0.6120\n"
     ]
    },
    {
     "name": "stderr",
     "output_type": "stream",
     "text": [
      "Epoch 53/64: 100%|██████████| 230/230 [01:01<00:00,  3.76batch/s, accuracy=0.611, loss=0.978]  \n"
     ]
    },
    {
     "name": "stdout",
     "output_type": "stream",
     "text": [
      "[1.0000000000000002e-06]\n",
      "              precision    recall  f1-score   support\n",
      "\n",
      "           0       0.72      0.61      0.66       384\n",
      "           1       0.73      0.61      0.66       384\n",
      "           2       0.63      0.64      0.63       307\n",
      "           3       0.54      0.57      0.55       230\n",
      "           4       0.42      0.56      0.48       154\n",
      "           5       0.29      0.49      0.37        77\n",
      "\n",
      "    accuracy                           0.60      1536\n",
      "   macro avg       0.55      0.58      0.56      1536\n",
      "weighted avg       0.62      0.60      0.61      1536\n",
      "\n",
      "[[233  38  41  38  17  17]\n",
      " [ 34 235  44  31  19  21]\n",
      " [ 15  30 195  29  22  16]\n",
      " [ 14   7  17 130  45  17]\n",
      " [ 19  10   8  10  87  20]\n",
      " [ 10   4   5   1  19  38]]\n",
      "Epoch 53/64, Validation Loss: 0.9732, Validation Accuracy: 0.5977\n"
     ]
    },
    {
     "name": "stderr",
     "output_type": "stream",
     "text": [
      "Epoch 54/64: 100%|██████████| 230/230 [01:02<00:00,  3.65batch/s, accuracy=0.614, loss=0.977]  \n"
     ]
    },
    {
     "name": "stdout",
     "output_type": "stream",
     "text": [
      "[1.0000000000000002e-06]\n",
      "              precision    recall  f1-score   support\n",
      "\n",
      "           0       0.67      0.63      0.65       384\n",
      "           1       0.71      0.62      0.66       384\n",
      "           2       0.62      0.60      0.61       307\n",
      "           3       0.55      0.55      0.55       230\n",
      "           4       0.42      0.51      0.46       154\n",
      "           5       0.30      0.47      0.37        77\n",
      "\n",
      "    accuracy                           0.59      1536\n",
      "   macro avg       0.54      0.56      0.55      1536\n",
      "weighted avg       0.61      0.59      0.59      1536\n",
      "\n",
      "[[241  42  40  34  15  12]\n",
      " [ 40 237  43  27  16  21]\n",
      " [ 23  35 185  27  21  16]\n",
      " [ 20   8  19 127  41  15]\n",
      " [ 24   6   9  17  78  20]\n",
      " [ 14   8   4   0  15  36]]\n",
      "Epoch 54/64, Validation Loss: 0.9939, Validation Accuracy: 0.5885\n"
     ]
    },
    {
     "name": "stderr",
     "output_type": "stream",
     "text": [
      "Epoch 55/64: 100%|██████████| 230/230 [01:04<00:00,  3.54batch/s, accuracy=0.599, loss=0.988] \n"
     ]
    },
    {
     "name": "stdout",
     "output_type": "stream",
     "text": [
      "[1.0000000000000002e-06]\n",
      "              precision    recall  f1-score   support\n",
      "\n",
      "           0       0.72      0.65      0.68       384\n",
      "           1       0.68      0.67      0.68       384\n",
      "           2       0.64      0.64      0.64       307\n",
      "           3       0.55      0.54      0.54       230\n",
      "           4       0.44      0.49      0.47       154\n",
      "           5       0.29      0.42      0.34        77\n",
      "\n",
      "    accuracy                           0.61      1536\n",
      "   macro avg       0.55      0.57      0.56      1536\n",
      "weighted avg       0.62      0.61      0.61      1536\n",
      "\n",
      "[[248  42  39  33  10  12]\n",
      " [ 32 256  34  28  15  19]\n",
      " [ 18  35 197  24  20  13]\n",
      " [ 15  11  26 124  38  16]\n",
      " [ 19  15   9  17  76  18]\n",
      " [ 12  15   4   1  13  32]]\n",
      "Epoch 55/64, Validation Loss: 0.9813, Validation Accuracy: 0.6074\n"
     ]
    },
    {
     "name": "stderr",
     "output_type": "stream",
     "text": [
      "Epoch 56/64: 100%|██████████| 230/230 [01:05<00:00,  3.51batch/s, accuracy=0.605, loss=0.983]  \n"
     ]
    },
    {
     "name": "stdout",
     "output_type": "stream",
     "text": [
      "[1.0000000000000002e-06]\n",
      "              precision    recall  f1-score   support\n",
      "\n",
      "           0       0.71      0.66      0.68       384\n",
      "           1       0.71      0.60      0.65       384\n",
      "           2       0.60      0.64      0.62       307\n",
      "           3       0.58      0.54      0.56       230\n",
      "           4       0.43      0.52      0.47       154\n",
      "           5       0.30      0.51      0.37        77\n",
      "\n",
      "    accuracy                           0.60      1536\n",
      "   macro avg       0.56      0.58      0.56      1536\n",
      "weighted avg       0.62      0.60      0.61      1536\n",
      "\n",
      "[[252  34  43  32  11  12]\n",
      " [ 43 232  47  20  19  23]\n",
      " [ 13  34 195  28  20  17]\n",
      " [ 15  11  24 124  40  16]\n",
      " [ 21  10   9   9  80  25]\n",
      " [ 10   8   6   0  14  39]]\n",
      "Epoch 56/64, Validation Loss: 0.9872, Validation Accuracy: 0.6003\n"
     ]
    },
    {
     "name": "stderr",
     "output_type": "stream",
     "text": [
      "Epoch 57/64: 100%|██████████| 230/230 [01:05<00:00,  3.50batch/s, accuracy=0.603, loss=0.986]  \n"
     ]
    },
    {
     "name": "stdout",
     "output_type": "stream",
     "text": [
      "[1.0000000000000002e-06]\n",
      "              precision    recall  f1-score   support\n",
      "\n",
      "           0       0.69      0.61      0.65       384\n",
      "           1       0.73      0.59      0.65       384\n",
      "           2       0.64      0.60      0.62       307\n",
      "           3       0.54      0.59      0.57       230\n",
      "           4       0.43      0.56      0.49       154\n",
      "           5       0.25      0.48      0.33        77\n",
      "\n",
      "    accuracy                           0.59      1536\n",
      "   macro avg       0.55      0.57      0.55      1536\n",
      "weighted avg       0.62      0.59      0.60      1536\n",
      "\n",
      "[[234  38  40  35  19  18]\n",
      " [ 34 225  40  37  20  28]\n",
      " [ 19  26 185  32  27  18]\n",
      " [ 18  11  13 136  31  21]\n",
      " [ 21   6   6  10  86  25]\n",
      " [ 15   4   5   1  15  37]]\n",
      "Epoch 57/64, Validation Loss: 1.0009, Validation Accuracy: 0.5879\n"
     ]
    },
    {
     "name": "stderr",
     "output_type": "stream",
     "text": [
      "Epoch 58/64: 100%|██████████| 230/230 [01:04<00:00,  3.59batch/s, accuracy=0.607, loss=0.987]  \n"
     ]
    },
    {
     "name": "stdout",
     "output_type": "stream",
     "text": [
      "[1.0000000000000002e-06]\n",
      "              precision    recall  f1-score   support\n",
      "\n",
      "           0       0.71      0.63      0.67       384\n",
      "           1       0.71      0.59      0.64       384\n",
      "           2       0.65      0.64      0.64       307\n",
      "           3       0.55      0.55      0.55       230\n",
      "           4       0.43      0.55      0.48       154\n",
      "           5       0.27      0.51      0.36        77\n",
      "\n",
      "    accuracy                           0.60      1536\n",
      "   macro avg       0.55      0.58      0.56      1536\n",
      "weighted avg       0.62      0.60      0.61      1536\n",
      "\n",
      "[[243  41  37  35  15  13]\n",
      " [ 40 228  39  33  20  24]\n",
      " [ 17  25 195  28  19  23]\n",
      " [ 16   8  16 127  45  18]\n",
      " [ 17  12   6  10  84  25]\n",
      " [ 10   9   6   0  13  39]]\n",
      "Epoch 58/64, Validation Loss: 0.9904, Validation Accuracy: 0.5964\n"
     ]
    },
    {
     "name": "stderr",
     "output_type": "stream",
     "text": [
      "Epoch 59/64: 100%|██████████| 230/230 [01:02<00:00,  3.67batch/s, accuracy=0.604, loss=0.992]  \n"
     ]
    },
    {
     "name": "stdout",
     "output_type": "stream",
     "text": [
      "[1.0000000000000002e-06]\n",
      "              precision    recall  f1-score   support\n",
      "\n",
      "           0       0.71      0.62      0.66       384\n",
      "           1       0.73      0.61      0.66       384\n",
      "           2       0.63      0.62      0.62       307\n",
      "           3       0.56      0.57      0.56       230\n",
      "           4       0.41      0.48      0.44       154\n",
      "           5       0.27      0.57      0.36        77\n",
      "\n",
      "    accuracy                           0.59      1536\n",
      "   macro avg       0.55      0.58      0.55      1536\n",
      "weighted avg       0.62      0.59      0.60      1536\n",
      "\n",
      "[[238  36  41  35  17  17]\n",
      " [ 35 233  43  25  19  29]\n",
      " [ 15  26 191  32  21  22]\n",
      " [ 16  10  18 130  35  21]\n",
      " [ 19  10   7  12  74  32]\n",
      " [ 10   4   5   0  14  44]]\n",
      "Epoch 59/64, Validation Loss: 0.9943, Validation Accuracy: 0.5924\n"
     ]
    },
    {
     "name": "stderr",
     "output_type": "stream",
     "text": [
      "Epoch 60/64: 100%|██████████| 230/230 [01:02<00:00,  3.70batch/s, accuracy=0.609, loss=0.984]  \n"
     ]
    },
    {
     "name": "stdout",
     "output_type": "stream",
     "text": [
      "[1.0000000000000002e-07]\n",
      "              precision    recall  f1-score   support\n",
      "\n",
      "           0       0.70      0.63      0.66       384\n",
      "           1       0.73      0.64      0.68       384\n",
      "           2       0.59      0.60      0.59       307\n",
      "           3       0.55      0.54      0.54       230\n",
      "           4       0.44      0.55      0.49       154\n",
      "           5       0.30      0.47      0.36        77\n",
      "\n",
      "    accuracy                           0.60      1536\n",
      "   macro avg       0.55      0.57      0.56      1536\n",
      "weighted avg       0.62      0.60      0.60      1536\n",
      "\n",
      "[[243  42  44  31  14  10]\n",
      " [ 31 244  42  31  13  23]\n",
      " [ 23  26 183  31  22  22]\n",
      " [ 19   8  22 125  45  11]\n",
      " [ 17   9  13  11  85  19]\n",
      " [ 15   5   5   0  16  36]]\n",
      "Epoch 60/64, Validation Loss: 0.9818, Validation Accuracy: 0.5964\n"
     ]
    },
    {
     "name": "stderr",
     "output_type": "stream",
     "text": [
      "Epoch 61/64: 100%|██████████| 230/230 [01:04<00:00,  3.56batch/s, accuracy=0.609, loss=0.993]  \n"
     ]
    },
    {
     "name": "stdout",
     "output_type": "stream",
     "text": [
      "[1.0000000000000002e-07]\n",
      "              precision    recall  f1-score   support\n",
      "\n",
      "           0       0.70      0.65      0.67       384\n",
      "           1       0.72      0.61      0.66       384\n",
      "           2       0.62      0.63      0.63       307\n",
      "           3       0.55      0.54      0.55       230\n",
      "           4       0.41      0.48      0.44       154\n",
      "           5       0.25      0.44      0.32        77\n",
      "\n",
      "    accuracy                           0.59      1536\n",
      "   macro avg       0.54      0.56      0.54      1536\n",
      "weighted avg       0.61      0.59      0.60      1536\n",
      "\n",
      "[[249  34  39  31  13  18]\n",
      " [ 38 234  40  31  19  22]\n",
      " [ 19  27 194  29  21  17]\n",
      " [ 16   8  23 125  38  20]\n",
      " [ 21  15   8  12  74  24]\n",
      " [ 14   7   7   0  15  34]]\n",
      "Epoch 61/64, Validation Loss: 1.0240, Validation Accuracy: 0.5924\n"
     ]
    },
    {
     "name": "stderr",
     "output_type": "stream",
     "text": [
      "Epoch 62/64: 100%|██████████| 230/230 [01:05<00:00,  3.50batch/s, accuracy=0.606, loss=0.981]  \n"
     ]
    },
    {
     "name": "stdout",
     "output_type": "stream",
     "text": [
      "[1.0000000000000002e-07]\n",
      "              precision    recall  f1-score   support\n",
      "\n",
      "           0       0.70      0.62      0.66       384\n",
      "           1       0.73      0.61      0.66       384\n",
      "           2       0.63      0.66      0.65       307\n",
      "           3       0.58      0.57      0.57       230\n",
      "           4       0.45      0.54      0.49       154\n",
      "           5       0.27      0.49      0.35        77\n",
      "\n",
      "    accuracy                           0.60      1536\n",
      "   macro avg       0.56      0.58      0.56      1536\n",
      "weighted avg       0.63      0.60      0.61      1536\n",
      "\n",
      "[[240  39  43  35  14  13]\n",
      " [ 39 233  38  26  23  25]\n",
      " [ 16  24 203  25  17  22]\n",
      " [ 13  11  22 130  33  21]\n",
      " [ 23   9   8   8  83  23]\n",
      " [ 11   5   8   0  15  38]]\n",
      "Epoch 62/64, Validation Loss: 0.9816, Validation Accuracy: 0.6035\n"
     ]
    },
    {
     "name": "stderr",
     "output_type": "stream",
     "text": [
      "Epoch 63/64: 100%|██████████| 230/230 [01:10<00:00,  3.28batch/s, accuracy=0.606, loss=0.983]  \n"
     ]
    },
    {
     "name": "stdout",
     "output_type": "stream",
     "text": [
      "[1.0000000000000002e-07]\n",
      "              precision    recall  f1-score   support\n",
      "\n",
      "           0       0.69      0.63      0.66       384\n",
      "           1       0.73      0.61      0.66       384\n",
      "           2       0.64      0.64      0.64       307\n",
      "           3       0.55      0.56      0.56       230\n",
      "           4       0.44      0.56      0.49       154\n",
      "           5       0.27      0.44      0.33        77\n",
      "\n",
      "    accuracy                           0.60      1536\n",
      "   macro avg       0.55      0.57      0.56      1536\n",
      "weighted avg       0.62      0.60      0.61      1536\n",
      "\n",
      "[[242  34  40  35  17  16]\n",
      " [ 39 233  39  29  23  21]\n",
      " [ 20  27 195  31  16  18]\n",
      " [ 16   9  22 129  39  15]\n",
      " [ 20  10   5   9  86  24]\n",
      " [ 16   5   5   1  16  34]]\n",
      "Epoch 63/64, Validation Loss: 0.9881, Validation Accuracy: 0.5983\n"
     ]
    },
    {
     "name": "stderr",
     "output_type": "stream",
     "text": [
      "Epoch 64/64: 100%|██████████| 230/230 [01:06<00:00,  3.48batch/s, accuracy=0.611, loss=0.987]  \n"
     ]
    },
    {
     "name": "stdout",
     "output_type": "stream",
     "text": [
      "[1.0000000000000002e-07]\n",
      "              precision    recall  f1-score   support\n",
      "\n",
      "           0       0.72      0.64      0.68       384\n",
      "           1       0.72      0.60      0.65       384\n",
      "           2       0.62      0.60      0.61       307\n",
      "           3       0.57      0.58      0.58       230\n",
      "           4       0.43      0.55      0.48       154\n",
      "           5       0.28      0.56      0.38        77\n",
      "\n",
      "    accuracy                           0.60      1536\n",
      "   macro avg       0.56      0.59      0.56      1536\n",
      "weighted avg       0.63      0.60      0.61      1536\n",
      "\n",
      "[[245  36  36  33  14  20]\n",
      " [ 41 230  42  28  17  26]\n",
      " [ 19  32 183  26  27  20]\n",
      " [ 11   7  19 134  39  20]\n",
      " [ 17   8   8  14  84  23]\n",
      " [  8   7   6   0  13  43]]\n",
      "Epoch 64/64, Validation Loss: 0.9907, Validation Accuracy: 0.5983\n",
      "Finished Training\n",
      "Best validation accuracy: 0.6133\n"
     ]
    }
   ],
   "source": [
    "# test\n",
    "if __name__ == \"__main__\":\n",
    "    model = TunnedBlockStackNet8()\n",
    "    trainer = ClassificationBlockStackTrainer1(\n",
    "        csv_path = csv_path, \n",
    "        img_dir=img_dir, \n",
    "        model=model,\n",
    "        test_size=0.2, \n",
    "        num_epochs=64,\n",
    "        batch_size=32\n",
    "        )\n",
    "    trainer.train()"
   ]
  },
  {
   "cell_type": "markdown",
   "metadata": {},
   "source": [
    "### Model with oversampling hard examples in instability type 1\n",
    "* add 500 hard examples in instability type 1\n",
    "* need increase epoches"
   ]
  },
  {
   "cell_type": "code",
   "execution_count": 16,
   "metadata": {
    "scrolled": true
   },
   "outputs": [
    {
     "name": "stdout",
     "output_type": "stream",
     "text": [
      "Train dataset size: 6144 Validation dataset size: 1536 length of train_ids1 length of valid_ids1\n"
     ]
    },
    {
     "name": "stderr",
     "output_type": "stream",
     "text": [
      "Epoch 1/16: 100%|██████████| 208/208 [06:05<00:00,  1.76s/batch, accuracy=0.284, loss=1.57]    \n"
     ]
    },
    {
     "name": "stdout",
     "output_type": "stream",
     "text": [
      "[0.001]\n",
      "              precision    recall  f1-score   support\n",
      "\n",
      "           0       0.61      0.33      0.43       384\n",
      "           1       0.32      0.75      0.44       384\n",
      "           2       0.25      0.26      0.25       307\n",
      "           3       0.18      0.07      0.11       230\n",
      "           4       0.29      0.01      0.02       154\n",
      "           5       0.00      0.00      0.00        77\n",
      "\n",
      "    accuracy                           0.33      1536\n",
      "   macro avg       0.27      0.24      0.21      1536\n",
      "weighted avg       0.34      0.33      0.29      1536\n",
      "\n",
      "[[128 195  48  13   0   0]\n",
      " [ 40 287  42  13   2   0]\n",
      " [ 11 203  79  13   1   0]\n",
      " [ 14 113  85  17   1   0]\n",
      " [ 12  72  46  22   2   0]\n",
      " [  4  40  17  15   1   0]]\n",
      "Epoch 1/16, Validation Loss: 1.8216, Validation Accuracy: 0.3340\n",
      "Best model saved! 20241014-1742\n"
     ]
    },
    {
     "name": "stderr",
     "output_type": "stream",
     "text": [
      "Epoch 2/16: 100%|██████████| 208/208 [06:03<00:00,  1.75s/batch, accuracy=0.371, loss=1.46]   \n"
     ]
    },
    {
     "name": "stdout",
     "output_type": "stream",
     "text": [
      "[0.001]\n",
      "              precision    recall  f1-score   support\n",
      "\n",
      "           0       0.53      0.51      0.52       384\n",
      "           1       0.47      0.41      0.44       384\n",
      "           2       0.32      0.46      0.38       307\n",
      "           3       0.19      0.26      0.22       230\n",
      "           4       0.17      0.07      0.10       154\n",
      "           5       0.21      0.04      0.07        77\n",
      "\n",
      "    accuracy                           0.37      1536\n",
      "   macro avg       0.32      0.29      0.29      1536\n",
      "weighted avg       0.37      0.37      0.36      1536\n",
      "\n",
      "[[196  59  69  44  13   3]\n",
      " [ 82 159  81  54   8   0]\n",
      " [ 37  83 141  40   5   1]\n",
      " [ 22  27 108  59  10   4]\n",
      " [ 24   8  31  77  11   3]\n",
      " [ 10   5  14  29  16   3]]\n",
      "Epoch 2/16, Validation Loss: 1.4574, Validation Accuracy: 0.3704\n",
      "Best model saved! 20241014-1749\n"
     ]
    },
    {
     "name": "stderr",
     "output_type": "stream",
     "text": [
      "Epoch 3/16: 100%|██████████| 208/208 [06:03<00:00,  1.75s/batch, accuracy=0.399, loss=1.4]   \n"
     ]
    },
    {
     "name": "stdout",
     "output_type": "stream",
     "text": [
      "[0.001]\n",
      "              precision    recall  f1-score   support\n",
      "\n",
      "           0       0.82      0.31      0.45       384\n",
      "           1       0.69      0.24      0.36       384\n",
      "           2       0.27      0.16      0.20       307\n",
      "           3       0.23      0.36      0.28       230\n",
      "           4       0.16      0.12      0.14       154\n",
      "           5       0.12      0.97      0.22        77\n",
      "\n",
      "    accuracy                           0.28      1536\n",
      "   macro avg       0.38      0.36      0.27      1536\n",
      "weighted avg       0.49      0.28      0.31      1536\n",
      "\n",
      "[[120  39  50  64  17  94]\n",
      " [ 17  92  78  63  21 113]\n",
      " [  4   3  50 142  13  95]\n",
      " [  3   0   6  82  40  99]\n",
      " [  2   0   0   6  18 128]\n",
      " [  0   0   0   0   2  75]]\n",
      "Epoch 3/16, Validation Loss: 1.4982, Validation Accuracy: 0.2845\n"
     ]
    },
    {
     "name": "stderr",
     "output_type": "stream",
     "text": [
      "Epoch 4/16: 100%|██████████| 208/208 [06:03<00:00,  1.75s/batch, accuracy=0.418, loss=1.36]  \n"
     ]
    },
    {
     "name": "stdout",
     "output_type": "stream",
     "text": [
      "[0.001]\n",
      "              precision    recall  f1-score   support\n",
      "\n",
      "           0       0.57      0.56      0.56       384\n",
      "           1       0.52      0.45      0.48       384\n",
      "           2       0.50      0.40      0.44       307\n",
      "           3       0.40      0.42      0.41       230\n",
      "           4       0.29      0.16      0.21       154\n",
      "           5       0.16      0.52      0.24        77\n",
      "\n",
      "    accuracy                           0.44      1536\n",
      "   macro avg       0.41      0.42      0.39      1536\n",
      "weighted avg       0.47      0.44      0.45      1536\n",
      "\n",
      "[[215  53  38  30   3  45]\n",
      " [ 88 174  45  27  14  36]\n",
      " [ 37  62 123  48  11  26]\n",
      " [ 24  17  32  96  23  38]\n",
      " [ 11  16   5  31  25  66]\n",
      " [  5  13   4   6   9  40]]\n",
      "Epoch 4/16, Validation Loss: 1.3244, Validation Accuracy: 0.4382\n",
      "Best model saved! 20241014-1803\n"
     ]
    },
    {
     "name": "stderr",
     "output_type": "stream",
     "text": [
      "Epoch 5/16: 100%|██████████| 208/208 [06:02<00:00,  1.74s/batch, accuracy=0.446, loss=1.32]  \n"
     ]
    },
    {
     "name": "stdout",
     "output_type": "stream",
     "text": [
      "[0.001]\n",
      "              precision    recall  f1-score   support\n",
      "\n",
      "           0       0.92      0.26      0.40       384\n",
      "           1       0.48      0.56      0.51       384\n",
      "           2       0.26      0.57      0.36       307\n",
      "           3       0.33      0.18      0.23       230\n",
      "           4       0.35      0.09      0.14       154\n",
      "           5       0.20      0.38      0.26        77\n",
      "\n",
      "    accuracy                           0.37      1536\n",
      "   macro avg       0.42      0.34      0.32      1536\n",
      "weighted avg       0.49      0.37      0.36      1536\n",
      "\n",
      "[[ 98 105 131  14   6  30]\n",
      " [  7 214 120  18   5  20]\n",
      " [  0  97 175  13   3  19]\n",
      " [  0  13 147  41   7  22]\n",
      " [  2  11  63  37  14  27]\n",
      " [  0   9  31   3   5  29]]\n",
      "Epoch 5/16, Validation Loss: 1.3544, Validation Accuracy: 0.3717\n"
     ]
    },
    {
     "name": "stderr",
     "output_type": "stream",
     "text": [
      "Epoch 6/16: 100%|██████████| 208/208 [06:04<00:00,  1.75s/batch, accuracy=0.46, loss=1.27]   \n"
     ]
    },
    {
     "name": "stdout",
     "output_type": "stream",
     "text": [
      "[0.001]\n",
      "              precision    recall  f1-score   support\n",
      "\n",
      "           0       0.56      0.52      0.54       384\n",
      "           1       0.53      0.49      0.51       384\n",
      "           2       0.49      0.45      0.47       307\n",
      "           3       0.35      0.38      0.37       230\n",
      "           4       0.27      0.25      0.26       154\n",
      "           5       0.21      0.40      0.28        77\n",
      "\n",
      "    accuracy                           0.45      1536\n",
      "   macro avg       0.40      0.42      0.40      1536\n",
      "weighted avg       0.46      0.45      0.45      1536\n",
      "\n",
      "[[201  89  48  23  12  11]\n",
      " [ 42 190  63  53  17  19]\n",
      " [ 36  40 137  59  12  23]\n",
      " [ 30  15  19  88  50  28]\n",
      " [ 33  17   7  25  38  34]\n",
      " [ 17  10   6   1  12  31]]\n",
      "Epoch 6/16, Validation Loss: 1.2989, Validation Accuracy: 0.4460\n",
      "Best model saved! 20241014-1817\n"
     ]
    },
    {
     "name": "stderr",
     "output_type": "stream",
     "text": [
      "Epoch 7/16: 100%|██████████| 208/208 [06:01<00:00,  1.74s/batch, accuracy=0.478, loss=1.25]  \n"
     ]
    },
    {
     "name": "stdout",
     "output_type": "stream",
     "text": [
      "[0.001]\n",
      "              precision    recall  f1-score   support\n",
      "\n",
      "           0       0.75      0.45      0.56       384\n",
      "           1       0.51      0.67      0.58       384\n",
      "           2       0.38      0.68      0.49       307\n",
      "           3       0.44      0.22      0.29       230\n",
      "           4       0.31      0.23      0.26       154\n",
      "           5       0.12      0.04      0.06        77\n",
      "\n",
      "    accuracy                           0.47      1536\n",
      "   macro avg       0.42      0.38      0.37      1536\n",
      "weighted avg       0.49      0.47      0.46      1536\n",
      "\n",
      "[[174  92  85  11  18   4]\n",
      " [ 23 256  84   7  10   4]\n",
      " [  9  63 209  11  11   4]\n",
      " [  9  36 105  50  26   4]\n",
      " [ 13  33  37  31  35   5]\n",
      " [  4  25  27   4  14   3]]\n",
      "Epoch 7/16, Validation Loss: 1.2991, Validation Accuracy: 0.4733\n",
      "Best model saved! 20241014-1824\n"
     ]
    },
    {
     "name": "stderr",
     "output_type": "stream",
     "text": [
      "Epoch 8/16: 100%|██████████| 208/208 [06:15<00:00,  1.81s/batch, accuracy=0.494, loss=1.22]   \n"
     ]
    },
    {
     "name": "stdout",
     "output_type": "stream",
     "text": [
      "[0.001]\n",
      "              precision    recall  f1-score   support\n",
      "\n",
      "           0       0.93      0.33      0.49       384\n",
      "           1       0.71      0.51      0.59       384\n",
      "           2       0.48      0.67      0.56       307\n",
      "           3       0.35      0.63      0.45       230\n",
      "           4       0.24      0.37      0.29       154\n",
      "           5       0.26      0.12      0.16        77\n",
      "\n",
      "    accuracy                           0.48      1536\n",
      "   macro avg       0.49      0.44      0.42      1536\n",
      "weighted avg       0.59      0.48      0.49      1536\n",
      "\n",
      "[[128  55  78  71  47   5]\n",
      " [  5 197  83  55  37   7]\n",
      " [  4  14 207  53  23   6]\n",
      " [  0   5  46 145  30   4]\n",
      " [  0   2  13  79  57   3]\n",
      " [  1   6   8   9  44   9]]\n",
      "Epoch 8/16, Validation Loss: 1.2799, Validation Accuracy: 0.4837\n",
      "Best model saved! 20241014-1831\n"
     ]
    },
    {
     "name": "stderr",
     "output_type": "stream",
     "text": [
      "Epoch 9/16: 100%|██████████| 208/208 [06:16<00:00,  1.81s/batch, accuracy=0.52, loss=1.19]    \n"
     ]
    },
    {
     "name": "stdout",
     "output_type": "stream",
     "text": [
      "[0.001]\n",
      "              precision    recall  f1-score   support\n",
      "\n",
      "           0       0.70      0.55      0.61       384\n",
      "           1       0.68      0.49      0.57       384\n",
      "           2       0.53      0.58      0.55       307\n",
      "           3       0.37      0.46      0.41       230\n",
      "           4       0.31      0.45      0.37       154\n",
      "           5       0.23      0.35      0.27        77\n",
      "\n",
      "    accuracy                           0.51      1536\n",
      "   macro avg       0.47      0.48      0.47      1536\n",
      "weighted avg       0.55      0.51      0.52      1536\n",
      "\n",
      "[[210  47  55  33  24  15]\n",
      " [ 35 190  52  48  40  19]\n",
      " [ 16  25 177  42  25  22]\n",
      " [ 17  13  42 105  36  17]\n",
      " [ 14   0   5  46  69  20]\n",
      " [ 10   3   1   7  29  27]]\n",
      "Epoch 9/16, Validation Loss: 1.1937, Validation Accuracy: 0.5065\n",
      "Best model saved! 20241014-1838\n"
     ]
    },
    {
     "name": "stderr",
     "output_type": "stream",
     "text": [
      "Epoch 10/16: 100%|██████████| 208/208 [06:11<00:00,  1.79s/batch, accuracy=0.522, loss=1.17]   \n"
     ]
    },
    {
     "name": "stdout",
     "output_type": "stream",
     "text": [
      "[0.001]\n",
      "              precision    recall  f1-score   support\n",
      "\n",
      "           0       0.67      0.60      0.64       384\n",
      "           1       0.67      0.58      0.62       384\n",
      "           2       0.58      0.60      0.59       307\n",
      "           3       0.51      0.40      0.44       230\n",
      "           4       0.36      0.34      0.35       154\n",
      "           5       0.25      0.70      0.37        77\n",
      "\n",
      "    accuracy                           0.54      1536\n",
      "   macro avg       0.51      0.54      0.50      1536\n",
      "weighted avg       0.58      0.54      0.55      1536\n",
      "\n",
      "[[232  51  37  25  15  24]\n",
      " [ 37 223  50  28  13  33]\n",
      " [ 30  25 184  27  19  22]\n",
      " [ 23  12  32  91  42  30]\n",
      " [ 18  11  10   8  52  55]\n",
      " [  5   9   5   0   4  54]]\n",
      "Epoch 10/16, Validation Loss: 1.1214, Validation Accuracy: 0.5443\n",
      "Best model saved! 20241014-1845\n"
     ]
    },
    {
     "name": "stderr",
     "output_type": "stream",
     "text": [
      "Epoch 11/16: 100%|██████████| 208/208 [06:12<00:00,  1.79s/batch, accuracy=0.526, loss=1.16]   \n"
     ]
    },
    {
     "name": "stdout",
     "output_type": "stream",
     "text": [
      "[0.001]\n",
      "              precision    recall  f1-score   support\n",
      "\n",
      "           0       0.77      0.49      0.60       384\n",
      "           1       0.69      0.55      0.61       384\n",
      "           2       0.48      0.70      0.57       307\n",
      "           3       0.35      0.60      0.45       230\n",
      "           4       0.18      0.14      0.16       154\n",
      "           5       0.41      0.12      0.18        77\n",
      "\n",
      "    accuracy                           0.51      1536\n",
      "   macro avg       0.48      0.43      0.43      1536\n",
      "weighted avg       0.55      0.51      0.51      1536\n",
      "\n",
      "[[187  52  77  50  15   3]\n",
      " [ 27 213  65  57  19   3]\n",
      " [  6  22 216  44  17   2]\n",
      " [  5   7  59 139  18   2]\n",
      " [ 13   8  18  90  22   3]\n",
      " [  4   7  12  12  33   9]]\n",
      "Epoch 11/16, Validation Loss: 1.1850, Validation Accuracy: 0.5117\n"
     ]
    },
    {
     "name": "stderr",
     "output_type": "stream",
     "text": [
      "Epoch 12/16: 100%|██████████| 208/208 [06:08<00:00,  1.77s/batch, accuracy=0.541, loss=1.15]   \n"
     ]
    },
    {
     "name": "stdout",
     "output_type": "stream",
     "text": [
      "[0.001]\n",
      "              precision    recall  f1-score   support\n",
      "\n",
      "           0       0.80      0.53      0.64       384\n",
      "           1       0.65      0.63      0.64       384\n",
      "           2       0.65      0.58      0.61       307\n",
      "           3       0.48      0.58      0.53       230\n",
      "           4       0.35      0.65      0.45       154\n",
      "           5       0.30      0.29      0.29        77\n",
      "\n",
      "    accuracy                           0.57      1536\n",
      "   macro avg       0.54      0.54      0.53      1536\n",
      "weighted avg       0.62      0.57      0.58      1536\n",
      "\n",
      "[[202  50  34  45  41  12]\n",
      " [ 26 241  32  42  33  10]\n",
      " [  8  43 178  39  28  11]\n",
      " [  7  13  15 134  52   9]\n",
      " [  7  10   7  20 100  10]\n",
      " [  1  12   8   0  34  22]]\n",
      "Epoch 12/16, Validation Loss: 1.0539, Validation Accuracy: 0.5710\n",
      "Best model saved! 20241014-1859\n"
     ]
    },
    {
     "name": "stderr",
     "output_type": "stream",
     "text": [
      "Epoch 13/16: 100%|██████████| 208/208 [06:05<00:00,  1.75s/batch, accuracy=0.548, loss=1.13]   \n"
     ]
    },
    {
     "name": "stdout",
     "output_type": "stream",
     "text": [
      "[0.001]\n",
      "              precision    recall  f1-score   support\n",
      "\n",
      "           0       0.69      0.62      0.65       384\n",
      "           1       0.60      0.69      0.64       384\n",
      "           2       0.68      0.52      0.59       307\n",
      "           3       0.51      0.45      0.48       230\n",
      "           4       0.42      0.27      0.33       154\n",
      "           5       0.22      0.62      0.32        77\n",
      "\n",
      "    accuracy                           0.56      1536\n",
      "   macro avg       0.52      0.53      0.50      1536\n",
      "weighted avg       0.59      0.56      0.56      1536\n",
      "\n",
      "[[238  71  27  23   7  18]\n",
      " [ 33 264  26  22  11  28]\n",
      " [ 23  42 160  40  11  31]\n",
      " [ 19  25  14 103  25  44]\n",
      " [ 22  20   5  15  42  50]\n",
      " [  8  15   2   0   4  48]]\n",
      "Epoch 13/16, Validation Loss: 1.1148, Validation Accuracy: 0.5566\n"
     ]
    },
    {
     "name": "stderr",
     "output_type": "stream",
     "text": [
      "Epoch 14/16: 100%|██████████| 208/208 [06:10<00:00,  1.78s/batch, accuracy=0.565, loss=1.11]   \n"
     ]
    },
    {
     "name": "stdout",
     "output_type": "stream",
     "text": [
      "[0.001]\n",
      "              precision    recall  f1-score   support\n",
      "\n",
      "           0       0.57      0.69      0.62       384\n",
      "           1       0.66      0.67      0.66       384\n",
      "           2       0.61      0.54      0.57       307\n",
      "           3       0.54      0.48      0.51       230\n",
      "           4       0.39      0.47      0.42       154\n",
      "           5       0.28      0.06      0.11        77\n",
      "\n",
      "    accuracy                           0.57      1536\n",
      "   macro avg       0.51      0.48      0.48      1536\n",
      "weighted avg       0.56      0.57      0.56      1536\n",
      "\n",
      "[[264  58  34  18   8   2]\n",
      " [ 45 256  37  20  24   2]\n",
      " [ 46  33 166  38  21   3]\n",
      " [ 49  20  12 111  38   0]\n",
      " [ 37  11   9  19  72   6]\n",
      " [ 22  11  15   0  24   5]]\n",
      "Epoch 14/16, Validation Loss: 1.1130, Validation Accuracy: 0.5690\n"
     ]
    },
    {
     "name": "stderr",
     "output_type": "stream",
     "text": [
      "Epoch 15/16: 100%|██████████| 208/208 [06:11<00:00,  1.79s/batch, accuracy=0.569, loss=1.08]  \n"
     ]
    },
    {
     "name": "stdout",
     "output_type": "stream",
     "text": [
      "[0.0001]\n",
      "              precision    recall  f1-score   support\n",
      "\n",
      "           0       0.75      0.66      0.70       384\n",
      "           1       0.69      0.60      0.64       384\n",
      "           2       0.61      0.62      0.61       307\n",
      "           3       0.65      0.44      0.52       230\n",
      "           4       0.34      0.66      0.45       154\n",
      "           5       0.30      0.34      0.32        77\n",
      "\n",
      "    accuracy                           0.59      1536\n",
      "   macro avg       0.55      0.55      0.54      1536\n",
      "weighted avg       0.62      0.59      0.60      1536\n",
      "\n",
      "[[252  40  34  17  31  10]\n",
      " [ 38 231  41  17  39  18]\n",
      " [ 17  29 191  17  40  13]\n",
      " [ 17  22  26 101  58   6]\n",
      " [ 12  10  13   4 102  13]\n",
      " [  2   5  10   0  34  26]]\n",
      "Epoch 15/16, Validation Loss: 1.0438, Validation Accuracy: 0.5879\n",
      "Best model saved! 20241014-1920\n"
     ]
    },
    {
     "name": "stderr",
     "output_type": "stream",
     "text": [
      "Epoch 16/16: 100%|██████████| 208/208 [06:09<00:00,  1.78s/batch, accuracy=0.607, loss=0.991] \n"
     ]
    },
    {
     "name": "stdout",
     "output_type": "stream",
     "text": [
      "[0.0001]\n",
      "              precision    recall  f1-score   support\n",
      "\n",
      "           0       0.83      0.59      0.69       384\n",
      "           1       0.72      0.65      0.68       384\n",
      "           2       0.59      0.68      0.63       307\n",
      "           3       0.57      0.57      0.57       230\n",
      "           4       0.41      0.58      0.48       154\n",
      "           5       0.28      0.44      0.34        77\n",
      "\n",
      "    accuracy                           0.61      1536\n",
      "   macro avg       0.57      0.58      0.57      1536\n",
      "weighted avg       0.65      0.61      0.62      1536\n",
      "\n",
      "[[225  45  42  33  27  12]\n",
      " [ 15 249  51  26  19  24]\n",
      " [ 10  24 209  27  24  13]\n",
      " [  7  14  23 130  41  15]\n",
      " [ 10   7  15   9  89  24]\n",
      " [  5   5  13   2  18  34]]\n",
      "Epoch 16/16, Validation Loss: 0.9651, Validation Accuracy: 0.6094\n",
      "Best model saved! 20241014-1927\n",
      "Finished Training\n",
      "Best validation accuracy: 0.6094\n"
     ]
    }
   ],
   "source": [
    "# test\n",
    "if __name__ == \"__main__\":\n",
    "    model = TunnedBlockStackNet8()\n",
    "    trainer = ClassificationBlockStackTrainer1(\n",
    "        csv_file = './COMP90086_2024_Project_train/train.csv', ##\n",
    "        img_dir='./COMP90086_2024_Project_train/train', ##\n",
    "        model=model,\n",
    "        test_size=0.2, # used to control the size of data in split_dataset(self)\n",
    "        num_epochs=16,\n",
    "        batch_size=32\n",
    "        )\n",
    "    trainer.train()\n",
    "        "
   ]
  },
  {
   "cell_type": "code",
   "execution_count": 18,
   "metadata": {},
   "outputs": [
    {
     "name": "stdout",
     "output_type": "stream",
     "text": [
      "              precision    recall  f1-score   support\n",
      "\n",
      "           0       0.78      0.56      0.65       384\n",
      "           1       0.71      0.66      0.68       384\n",
      "           2       0.60      0.69      0.64       307\n",
      "           3       0.55      0.53      0.54       230\n",
      "           4       0.43      0.58      0.50       154\n",
      "           5       0.23      0.36      0.28        77\n",
      "\n",
      "    accuracy                           0.60      1536\n",
      "   macro avg       0.55      0.56      0.55      1536\n",
      "weighted avg       0.63      0.60      0.61      1536\n",
      "\n",
      "[[214  50  44  35  24  17]\n",
      " [ 18 253  48  24  22  19]\n",
      " [ 13  24 212  28  16  14]\n",
      " [ 11  14  24 121  44  16]\n",
      " [ 11   4  13   9  90  27]\n",
      " [  9  11  14   2  13  28]]\n"
     ]
    },
    {
     "name": "stderr",
     "output_type": "stream",
     "text": [
      "/var/folders/gk/b497571d49ndglvgyk5sb53h0000gn/T/ipykernel_95107/284521822.py:3: SettingWithCopyWarning: \n",
      "A value is trying to be set on a copy of a slice from a DataFrame.\n",
      "Try using .loc[row_indexer,col_indexer] = value instead\n",
      "\n",
      "See the caveats in the documentation: https://pandas.pydata.org/pandas-docs/stable/user_guide/indexing.html#returning-a-view-versus-a-copy\n",
      "  valid_ds['predicted'] = all_predictions\n"
     ]
    },
    {
     "data": {
      "text/html": [
       "<div>\n",
       "<style scoped>\n",
       "    .dataframe tbody tr th:only-of-type {\n",
       "        vertical-align: middle;\n",
       "    }\n",
       "\n",
       "    .dataframe tbody tr th {\n",
       "        vertical-align: top;\n",
       "    }\n",
       "\n",
       "    .dataframe thead th {\n",
       "        text-align: right;\n",
       "    }\n",
       "</style>\n",
       "<table border=\"1\" class=\"dataframe\">\n",
       "  <thead>\n",
       "    <tr style=\"text-align: right;\">\n",
       "      <th></th>\n",
       "      <th>id</th>\n",
       "      <th>shapeset</th>\n",
       "      <th>type</th>\n",
       "      <th>total_height</th>\n",
       "      <th>instability_type</th>\n",
       "      <th>cam_angle</th>\n",
       "      <th>stable_height</th>\n",
       "      <th>predicted</th>\n",
       "    </tr>\n",
       "  </thead>\n",
       "  <tbody>\n",
       "    <tr>\n",
       "      <th>7334</th>\n",
       "      <td>956915</td>\n",
       "      <td>2</td>\n",
       "      <td>2</td>\n",
       "      <td>4</td>\n",
       "      <td>2</td>\n",
       "      <td>1</td>\n",
       "      <td>1</td>\n",
       "      <td>0</td>\n",
       "    </tr>\n",
       "    <tr>\n",
       "      <th>3955</th>\n",
       "      <td>516709</td>\n",
       "      <td>1</td>\n",
       "      <td>2</td>\n",
       "      <td>5</td>\n",
       "      <td>1</td>\n",
       "      <td>1</td>\n",
       "      <td>3</td>\n",
       "      <td>1</td>\n",
       "    </tr>\n",
       "    <tr>\n",
       "      <th>619</th>\n",
       "      <td>77447</td>\n",
       "      <td>1</td>\n",
       "      <td>2</td>\n",
       "      <td>5</td>\n",
       "      <td>1</td>\n",
       "      <td>1</td>\n",
       "      <td>3</td>\n",
       "      <td>2</td>\n",
       "    </tr>\n",
       "    <tr>\n",
       "      <th>1594</th>\n",
       "      <td>212770</td>\n",
       "      <td>2</td>\n",
       "      <td>2</td>\n",
       "      <td>4</td>\n",
       "      <td>2</td>\n",
       "      <td>1</td>\n",
       "      <td>1</td>\n",
       "      <td>0</td>\n",
       "    </tr>\n",
       "    <tr>\n",
       "      <th>5645</th>\n",
       "      <td>745098</td>\n",
       "      <td>2</td>\n",
       "      <td>2</td>\n",
       "      <td>6</td>\n",
       "      <td>1</td>\n",
       "      <td>1</td>\n",
       "      <td>4</td>\n",
       "      <td>4</td>\n",
       "    </tr>\n",
       "  </tbody>\n",
       "</table>\n",
       "</div>"
      ],
      "text/plain": [
       "          id  shapeset  type  total_height  instability_type  cam_angle  \\\n",
       "7334  956915         2     2             4                 2          1   \n",
       "3955  516709         1     2             5                 1          1   \n",
       "619    77447         1     2             5                 1          1   \n",
       "1594  212770         2     2             4                 2          1   \n",
       "5645  745098         2     2             6                 1          1   \n",
       "\n",
       "      stable_height  predicted  \n",
       "7334              1          0  \n",
       "3955              3          1  \n",
       "619               3          2  \n",
       "1594              1          0  \n",
       "5645              4          4  "
      ]
     },
     "execution_count": 18,
     "metadata": {},
     "output_type": "execute_result"
    }
   ],
   "source": [
    "valid_ds = trainer.val_data\n",
    "_,val_accuracy, all_labels, all_predictions = trainer.validate()\n",
    "valid_ds['predicted'] = all_predictions\n",
    "valid_ds.head()"
   ]
  },
  {
   "cell_type": "code",
   "execution_count": 20,
   "metadata": {},
   "outputs": [
    {
     "name": "stderr",
     "output_type": "stream",
     "text": [
      "/var/folders/gk/b497571d49ndglvgyk5sb53h0000gn/T/ipykernel_95107/911565123.py:1: SettingWithCopyWarning: \n",
      "A value is trying to be set on a copy of a slice from a DataFrame.\n",
      "Try using .loc[row_indexer,col_indexer] = value instead\n",
      "\n",
      "See the caveats in the documentation: https://pandas.pydata.org/pandas-docs/stable/user_guide/indexing.html#returning-a-view-versus-a-copy\n",
      "  valid_ds['predicted'] = valid_ds['predicted'] + 1\n",
      "/var/folders/gk/b497571d49ndglvgyk5sb53h0000gn/T/ipykernel_95107/911565123.py:2: SettingWithCopyWarning: \n",
      "A value is trying to be set on a copy of a slice from a DataFrame.\n",
      "Try using .loc[row_indexer,col_indexer] = value instead\n",
      "\n",
      "See the caveats in the documentation: https://pandas.pydata.org/pandas-docs/stable/user_guide/indexing.html#returning-a-view-versus-a-copy\n",
      "  valid_ds['pred_type'] = valid_ds['predicted'] == valid_ds['stable_height']\n"
     ]
    },
    {
     "data": {
      "text/plain": [
       "0.59765625"
      ]
     },
     "execution_count": 20,
     "metadata": {},
     "output_type": "execute_result"
    }
   ],
   "source": [
    "valid_ds['predicted'] = valid_ds['predicted'] + 1\n",
    "valid_ds['pred_type'] = valid_ds['predicted'] == valid_ds['stable_height']\n",
    "\n",
    "valid_ds.pred_type.sum()/len(valid_ds)"
   ]
  },
  {
   "cell_type": "code",
   "execution_count": 21,
   "metadata": {},
   "outputs": [
    {
     "data": {
      "text/plain": [
       "instability_type  type\n",
       "0                 1       0.796407\n",
       "                  2       0.608911\n",
       "1                 1       0.500000\n",
       "                  2       0.299742\n",
       "2                 1       0.898058\n",
       "                  2       0.902174\n",
       "Name: pred_type, dtype: float64"
      ]
     },
     "execution_count": 21,
     "metadata": {},
     "output_type": "execute_result"
    }
   ],
   "source": [
    "valid_ds.groupby(['instability_type', 'type']).pred_type.sum()/valid_ds.groupby(['instability_type', 'type']).pred_type.count()"
   ]
  },
  {
   "cell_type": "code",
   "execution_count": 9,
   "metadata": {},
   "outputs": [
    {
     "name": "stdout",
     "output_type": "stream",
     "text": [
      "Train dataset size: 6144 Validation dataset size: 1536 length of train_ids1 length of valid_ids1\n"
     ]
    },
    {
     "name": "stderr",
     "output_type": "stream",
     "text": [
      "Epoch 1/16: 100%|██████████| 192/192 [06:25<00:00,  2.01s/batch, accuracy=0.621, loss=0.814]  \n"
     ]
    },
    {
     "name": "stdout",
     "output_type": "stream",
     "text": [
      "[0.001]\n",
      "              precision    recall  f1-score   support\n",
      "\n",
      "           0       0.00      0.00      0.00       369\n",
      "           1       0.63      0.99      0.77       777\n",
      "           2       0.98      0.78      0.87       390\n",
      "\n",
      "    accuracy                           0.70      1536\n",
      "   macro avg       0.54      0.59      0.55      1536\n",
      "weighted avg       0.57      0.70      0.61      1536\n",
      "\n",
      "[[  0 368   1]\n",
      " [  0 773   4]\n",
      " [  0  87 303]]\n",
      "Epoch 1/16, Validation Loss: 0.6589, Validation Accuracy: 0.7005\n",
      "Best model saved!\n"
     ]
    },
    {
     "name": "stderr",
     "output_type": "stream",
     "text": [
      "Epoch 2/16: 100%|██████████| 192/192 [06:23<00:00,  2.00s/batch, accuracy=0.689, loss=0.664]  \n"
     ]
    },
    {
     "name": "stdout",
     "output_type": "stream",
     "text": [
      "[0.001]\n",
      "              precision    recall  f1-score   support\n",
      "\n",
      "           0       0.67      0.05      0.09       369\n",
      "           1       0.65      0.97      0.78       777\n",
      "           2       0.93      0.83      0.87       390\n",
      "\n",
      "    accuracy                           0.71      1536\n",
      "   macro avg       0.75      0.62      0.58      1536\n",
      "weighted avg       0.72      0.71      0.64      1536\n",
      "\n",
      "[[ 18 340  11]\n",
      " [  8 754  15]\n",
      " [  1  66 323]]\n",
      "Epoch 2/16, Validation Loss: 0.6186, Validation Accuracy: 0.7129\n",
      "Best model saved!\n"
     ]
    },
    {
     "name": "stderr",
     "output_type": "stream",
     "text": [
      "Epoch 3/16: 100%|██████████| 192/192 [06:19<00:00,  1.98s/batch, accuracy=0.71, loss=0.615]   \n"
     ]
    },
    {
     "name": "stdout",
     "output_type": "stream",
     "text": [
      "[0.001]\n",
      "              precision    recall  f1-score   support\n",
      "\n",
      "           0       0.42      0.60      0.49       369\n",
      "           1       0.75      0.61      0.67       777\n",
      "           2       0.84      0.80      0.82       390\n",
      "\n",
      "    accuracy                           0.66      1536\n",
      "   macro avg       0.67      0.67      0.66      1536\n",
      "weighted avg       0.69      0.66      0.67      1536\n",
      "\n",
      "[[220 128  21]\n",
      " [261 476  40]\n",
      " [ 49  30 311]]\n",
      "Epoch 3/16, Validation Loss: 0.7420, Validation Accuracy: 0.6556\n"
     ]
    },
    {
     "name": "stderr",
     "output_type": "stream",
     "text": [
      "Epoch 4/16: 100%|██████████| 192/192 [06:21<00:00,  1.99s/batch, accuracy=0.704, loss=0.632]  \n"
     ]
    },
    {
     "name": "stdout",
     "output_type": "stream",
     "text": [
      "[0.001]\n",
      "              precision    recall  f1-score   support\n",
      "\n",
      "           0       0.00      0.00      0.00       369\n",
      "           1       0.65      0.99      0.79       777\n",
      "           2       0.96      0.87      0.92       390\n",
      "\n",
      "    accuracy                           0.72      1536\n",
      "   macro avg       0.54      0.62      0.57      1536\n",
      "weighted avg       0.57      0.72      0.63      1536\n",
      "\n",
      "[[  0 363   6]\n",
      " [  0 770   7]\n",
      " [  0  49 341]]\n",
      "Epoch 4/16, Validation Loss: 0.5647, Validation Accuracy: 0.7233\n",
      "Best model saved!\n"
     ]
    },
    {
     "name": "stderr",
     "output_type": "stream",
     "text": [
      "Epoch 5/16: 100%|██████████| 192/192 [06:19<00:00,  1.98s/batch, accuracy=0.708, loss=0.633]  \n"
     ]
    },
    {
     "name": "stdout",
     "output_type": "stream",
     "text": [
      "[0.001]\n",
      "              precision    recall  f1-score   support\n",
      "\n",
      "           0       0.54      0.27      0.36       369\n",
      "           1       0.70      0.88      0.78       777\n",
      "           2       0.92      0.88      0.90       390\n",
      "\n",
      "    accuracy                           0.74      1536\n",
      "   macro avg       0.72      0.68      0.68      1536\n",
      "weighted avg       0.72      0.74      0.71      1536\n",
      "\n",
      "[[ 99 260  10]\n",
      " [ 71 685  21]\n",
      " [ 15  30 345]]\n",
      "Epoch 5/16, Validation Loss: 0.5816, Validation Accuracy: 0.7350\n",
      "Best model saved!\n"
     ]
    },
    {
     "name": "stderr",
     "output_type": "stream",
     "text": [
      "Epoch 6/16: 100%|██████████| 192/192 [06:19<00:00,  1.98s/batch, accuracy=0.727, loss=0.572]  \n"
     ]
    },
    {
     "name": "stdout",
     "output_type": "stream",
     "text": [
      "[0.001]\n",
      "              precision    recall  f1-score   support\n",
      "\n",
      "           0       0.56      0.40      0.46       369\n",
      "           1       0.73      0.87      0.79       777\n",
      "           2       0.97      0.88      0.92       390\n",
      "\n",
      "    accuracy                           0.76      1536\n",
      "   macro avg       0.75      0.71      0.73      1536\n",
      "weighted avg       0.75      0.76      0.75      1536\n",
      "\n",
      "[[146 216   7]\n",
      " [ 99 673   5]\n",
      " [ 18  30 342]]\n",
      "Epoch 6/16, Validation Loss: 0.5489, Validation Accuracy: 0.7559\n",
      "Best model saved!\n"
     ]
    },
    {
     "name": "stderr",
     "output_type": "stream",
     "text": [
      "Epoch 7/16: 100%|██████████| 192/192 [06:19<00:00,  1.98s/batch, accuracy=0.743, loss=0.556]  \n"
     ]
    },
    {
     "name": "stdout",
     "output_type": "stream",
     "text": [
      "[0.001]\n",
      "              precision    recall  f1-score   support\n",
      "\n",
      "           0       0.67      0.09      0.16       369\n",
      "           1       0.67      0.94      0.78       777\n",
      "           2       0.83      0.85      0.84       390\n",
      "\n",
      "    accuracy                           0.71      1536\n",
      "   macro avg       0.72      0.63      0.60      1536\n",
      "weighted avg       0.71      0.71      0.65      1536\n",
      "\n",
      "[[ 34 301  34]\n",
      " [ 14 729  34]\n",
      " [  3  54 333]]\n",
      "Epoch 7/16, Validation Loss: 0.7482, Validation Accuracy: 0.7135\n"
     ]
    },
    {
     "name": "stderr",
     "output_type": "stream",
     "text": [
      "Epoch 8/16: 100%|██████████| 192/192 [06:20<00:00,  1.98s/batch, accuracy=0.748, loss=0.562]  \n"
     ]
    },
    {
     "name": "stdout",
     "output_type": "stream",
     "text": [
      "[0.001]\n",
      "              precision    recall  f1-score   support\n",
      "\n",
      "           0       0.61      0.32      0.42       369\n",
      "           1       0.72      0.90      0.80       777\n",
      "           2       0.94      0.89      0.91       390\n",
      "\n",
      "    accuracy                           0.76      1536\n",
      "   macro avg       0.76      0.70      0.71      1536\n",
      "weighted avg       0.75      0.76      0.74      1536\n",
      "\n",
      "[[117 240  12]\n",
      " [ 66 700  11]\n",
      " [  8  34 348]]\n",
      "Epoch 8/16, Validation Loss: 0.5437, Validation Accuracy: 0.7585\n",
      "Best model saved!\n"
     ]
    },
    {
     "name": "stderr",
     "output_type": "stream",
     "text": [
      "Epoch 9/16: 100%|██████████| 192/192 [06:19<00:00,  1.98s/batch, accuracy=0.752, loss=0.548]  \n"
     ]
    },
    {
     "name": "stdout",
     "output_type": "stream",
     "text": [
      "[0.001]\n",
      "              precision    recall  f1-score   support\n",
      "\n",
      "           0       0.64      0.26      0.37       369\n",
      "           1       0.70      0.95      0.80       777\n",
      "           2       0.99      0.85      0.92       390\n",
      "\n",
      "    accuracy                           0.76      1536\n",
      "   macro avg       0.78      0.69      0.70      1536\n",
      "weighted avg       0.76      0.76      0.73      1536\n",
      "\n",
      "[[ 96 271   2]\n",
      " [ 41 735   1]\n",
      " [ 14  44 332]]\n",
      "Epoch 9/16, Validation Loss: 0.5880, Validation Accuracy: 0.7572\n"
     ]
    },
    {
     "name": "stderr",
     "output_type": "stream",
     "text": [
      "Epoch 10/16: 100%|██████████| 192/192 [06:19<00:00,  1.98s/batch, accuracy=0.756, loss=0.538]  \n"
     ]
    },
    {
     "name": "stdout",
     "output_type": "stream",
     "text": [
      "[0.001]\n",
      "              precision    recall  f1-score   support\n",
      "\n",
      "           0       0.59      0.47      0.52       369\n",
      "           1       0.77      0.81      0.79       777\n",
      "           2       0.89      0.95      0.92       390\n",
      "\n",
      "    accuracy                           0.76      1536\n",
      "   macro avg       0.75      0.74      0.74      1536\n",
      "weighted avg       0.75      0.76      0.76      1536\n",
      "\n",
      "[[174 175  20]\n",
      " [121 628  28]\n",
      " [  2  17 371]]\n",
      "Epoch 10/16, Validation Loss: 0.5356, Validation Accuracy: 0.7637\n",
      "Best model saved!\n"
     ]
    },
    {
     "name": "stderr",
     "output_type": "stream",
     "text": [
      "Epoch 11/16: 100%|██████████| 192/192 [06:19<00:00,  1.98s/batch, accuracy=0.757, loss=0.543]  \n"
     ]
    },
    {
     "name": "stdout",
     "output_type": "stream",
     "text": [
      "[0.001]\n",
      "              precision    recall  f1-score   support\n",
      "\n",
      "           0       0.49      0.64      0.56       369\n",
      "           1       0.81      0.69      0.74       777\n",
      "           2       0.93      0.94      0.93       390\n",
      "\n",
      "    accuracy                           0.74      1536\n",
      "   macro avg       0.74      0.76      0.74      1536\n",
      "weighted avg       0.76      0.74      0.75      1536\n",
      "\n",
      "[[238 120  11]\n",
      " [227 533  17]\n",
      " [ 22   3 365]]\n",
      "Epoch 11/16, Validation Loss: 0.5334, Validation Accuracy: 0.7396\n"
     ]
    },
    {
     "name": "stderr",
     "output_type": "stream",
     "text": [
      "Epoch 12/16: 100%|██████████| 192/192 [06:19<00:00,  1.98s/batch, accuracy=0.759, loss=0.527]  \n"
     ]
    },
    {
     "name": "stdout",
     "output_type": "stream",
     "text": [
      "[0.001]\n",
      "              precision    recall  f1-score   support\n",
      "\n",
      "           0       0.61      0.44      0.51       369\n",
      "           1       0.74      0.88      0.81       777\n",
      "           2       0.98      0.89      0.93       390\n",
      "\n",
      "    accuracy                           0.78      1536\n",
      "   macro avg       0.78      0.74      0.75      1536\n",
      "weighted avg       0.77      0.78      0.77      1536\n",
      "\n",
      "[[161 205   3]\n",
      " [ 89 683   5]\n",
      " [ 12  31 347]]\n",
      "Epoch 12/16, Validation Loss: 0.5295, Validation Accuracy: 0.7754\n",
      "Best model saved!\n"
     ]
    },
    {
     "name": "stderr",
     "output_type": "stream",
     "text": [
      "Epoch 13/16: 100%|██████████| 192/192 [06:19<00:00,  1.98s/batch, accuracy=0.758, loss=0.539]  \n"
     ]
    },
    {
     "name": "stdout",
     "output_type": "stream",
     "text": [
      "[0.001]\n",
      "              precision    recall  f1-score   support\n",
      "\n",
      "           0       0.56      0.40      0.46       369\n",
      "           1       0.70      0.87      0.78       777\n",
      "           2       0.98      0.79      0.87       390\n",
      "\n",
      "    accuracy                           0.73      1536\n",
      "   macro avg       0.75      0.68      0.70      1536\n",
      "weighted avg       0.74      0.73      0.73      1536\n",
      "\n",
      "[[146 221   2]\n",
      " [ 99 675   3]\n",
      " [ 16  67 307]]\n",
      "Epoch 13/16, Validation Loss: 0.6386, Validation Accuracy: 0.7344\n"
     ]
    },
    {
     "name": "stderr",
     "output_type": "stream",
     "text": [
      "Epoch 14/16: 100%|██████████| 192/192 [06:19<00:00,  1.98s/batch, accuracy=0.758, loss=0.535]  \n"
     ]
    },
    {
     "name": "stdout",
     "output_type": "stream",
     "text": [
      "[0.001]\n",
      "              precision    recall  f1-score   support\n",
      "\n",
      "           0       0.54      0.47      0.50       369\n",
      "           1       0.75      0.82      0.78       777\n",
      "           2       0.97      0.90      0.93       390\n",
      "\n",
      "    accuracy                           0.76      1536\n",
      "   macro avg       0.75      0.73      0.74      1536\n",
      "weighted avg       0.75      0.76      0.75      1536\n",
      "\n",
      "[[172 192   5]\n",
      " [134 637   6]\n",
      " [ 13  26 351]]\n",
      "Epoch 14/16, Validation Loss: 0.5306, Validation Accuracy: 0.7552\n"
     ]
    },
    {
     "name": "stderr",
     "output_type": "stream",
     "text": [
      "Epoch 15/16: 100%|██████████| 192/192 [06:20<00:00,  1.98s/batch, accuracy=0.775, loss=0.517]  \n"
     ]
    },
    {
     "name": "stdout",
     "output_type": "stream",
     "text": [
      "[0.0001]\n",
      "              precision    recall  f1-score   support\n",
      "\n",
      "           0       0.63      0.37      0.47       369\n",
      "           1       0.73      0.90      0.81       777\n",
      "           2       0.97      0.90      0.93       390\n",
      "\n",
      "    accuracy                           0.77      1536\n",
      "   macro avg       0.78      0.72      0.74      1536\n",
      "weighted avg       0.77      0.77      0.76      1536\n",
      "\n",
      "[[137 225   7]\n",
      " [ 75 697   5]\n",
      " [  6  32 352]]\n",
      "Epoch 15/16, Validation Loss: 0.5107, Validation Accuracy: 0.7721\n"
     ]
    },
    {
     "name": "stderr",
     "output_type": "stream",
     "text": [
      "Epoch 16/16: 100%|██████████| 192/192 [06:20<00:00,  1.98s/batch, accuracy=0.786, loss=0.48]   \n"
     ]
    },
    {
     "name": "stdout",
     "output_type": "stream",
     "text": [
      "[0.0001]\n",
      "              precision    recall  f1-score   support\n",
      "\n",
      "           0       0.59      0.41      0.48       369\n",
      "           1       0.74      0.86      0.79       777\n",
      "           2       0.96      0.93      0.94       390\n",
      "\n",
      "    accuracy                           0.77      1536\n",
      "   macro avg       0.76      0.73      0.74      1536\n",
      "weighted avg       0.76      0.77      0.76      1536\n",
      "\n",
      "[[151 212   6]\n",
      " [101 666  10]\n",
      " [  5  22 363]]\n",
      "Epoch 16/16, Validation Loss: 0.4951, Validation Accuracy: 0.7682\n",
      "Finished Training\n",
      "Best validation accuracy: 0.7754\n"
     ]
    }
   ],
   "source": [
    "if __name__ == \"__main__\":\n",
    "    model = TunnedBlockStackNet8()\n",
    "    trainer = ClassificationBlockStackTrainer1(\n",
    "        csv_file = './COMP90086_2024_Project_train/train.csv', ##\n",
    "        img_dir='./COMP90086_2024_Project_train/train', ##\n",
    "        model=model,\n",
    "        test_size=0.2, # used to control the size of data in split_dataset(self)\n",
    "        num_epochs=16,\n",
    "        batch_size=32\n",
    "        )\n",
    "    trainer.train()\n",
    "        "
   ]
  },
  {
   "cell_type": "code",
   "execution_count": 10,
   "metadata": {},
   "outputs": [],
   "source": [
    "train_ids = trainer.train_ids\n",
    "valid_ids = trainer.valid_ids"
   ]
  },
  {
   "cell_type": "code",
   "execution_count": 12,
   "metadata": {},
   "outputs": [
    {
     "name": "stdout",
     "output_type": "stream",
     "text": [
      "              precision    recall  f1-score   support\n",
      "\n",
      "           0       0.62      0.41      0.49       369\n",
      "           1       0.75      0.88      0.81       777\n",
      "           2       0.97      0.93      0.95       390\n",
      "\n",
      "    accuracy                           0.78      1536\n",
      "   macro avg       0.78      0.74      0.75      1536\n",
      "weighted avg       0.77      0.78      0.77      1536\n",
      "\n",
      "[[152 211   6]\n",
      " [ 88 683   6]\n",
      " [  7  19 364]]\n"
     ]
    }
   ],
   "source": [
    "val_loss,val_accuracy, all_labels, all_predictions = trainer.validate()"
   ]
  },
  {
   "cell_type": "code",
   "execution_count": 13,
   "metadata": {},
   "outputs": [
    {
     "data": {
      "text/plain": [
       "0.7805989583333334"
      ]
     },
     "execution_count": 13,
     "metadata": {},
     "output_type": "execute_result"
    }
   ],
   "source": [
    "comparison = map(lambda all_labels, all_predictions: all_labels == all_predictions, all_labels, all_predictions)\n",
    "sum(comparison)/len(all_labels)"
   ]
  },
  {
   "cell_type": "code",
   "execution_count": 14,
   "metadata": {},
   "outputs": [
    {
     "data": {
      "text/html": [
       "<div>\n",
       "<style scoped>\n",
       "    .dataframe tbody tr th:only-of-type {\n",
       "        vertical-align: middle;\n",
       "    }\n",
       "\n",
       "    .dataframe tbody tr th {\n",
       "        vertical-align: top;\n",
       "    }\n",
       "\n",
       "    .dataframe thead th {\n",
       "        text-align: right;\n",
       "    }\n",
       "</style>\n",
       "<table border=\"1\" class=\"dataframe\">\n",
       "  <thead>\n",
       "    <tr style=\"text-align: right;\">\n",
       "      <th></th>\n",
       "      <th>id</th>\n",
       "      <th>shapeset</th>\n",
       "      <th>type</th>\n",
       "      <th>total_height</th>\n",
       "      <th>instability_type</th>\n",
       "      <th>cam_angle</th>\n",
       "      <th>stable_height</th>\n",
       "    </tr>\n",
       "  </thead>\n",
       "  <tbody>\n",
       "    <tr>\n",
       "      <th>7334</th>\n",
       "      <td>956915</td>\n",
       "      <td>2</td>\n",
       "      <td>2</td>\n",
       "      <td>4</td>\n",
       "      <td>2</td>\n",
       "      <td>1</td>\n",
       "      <td>1</td>\n",
       "    </tr>\n",
       "    <tr>\n",
       "      <th>3955</th>\n",
       "      <td>516709</td>\n",
       "      <td>1</td>\n",
       "      <td>2</td>\n",
       "      <td>5</td>\n",
       "      <td>1</td>\n",
       "      <td>1</td>\n",
       "      <td>3</td>\n",
       "    </tr>\n",
       "    <tr>\n",
       "      <th>619</th>\n",
       "      <td>77447</td>\n",
       "      <td>1</td>\n",
       "      <td>2</td>\n",
       "      <td>5</td>\n",
       "      <td>1</td>\n",
       "      <td>1</td>\n",
       "      <td>3</td>\n",
       "    </tr>\n",
       "    <tr>\n",
       "      <th>1594</th>\n",
       "      <td>212770</td>\n",
       "      <td>2</td>\n",
       "      <td>2</td>\n",
       "      <td>4</td>\n",
       "      <td>2</td>\n",
       "      <td>1</td>\n",
       "      <td>1</td>\n",
       "    </tr>\n",
       "    <tr>\n",
       "      <th>5645</th>\n",
       "      <td>745098</td>\n",
       "      <td>2</td>\n",
       "      <td>2</td>\n",
       "      <td>6</td>\n",
       "      <td>1</td>\n",
       "      <td>1</td>\n",
       "      <td>4</td>\n",
       "    </tr>\n",
       "  </tbody>\n",
       "</table>\n",
       "</div>"
      ],
      "text/plain": [
       "          id  shapeset  type  total_height  instability_type  cam_angle  \\\n",
       "7334  956915         2     2             4                 2          1   \n",
       "3955  516709         1     2             5                 1          1   \n",
       "619    77447         1     2             5                 1          1   \n",
       "1594  212770         2     2             4                 2          1   \n",
       "5645  745098         2     2             6                 1          1   \n",
       "\n",
       "      stable_height  \n",
       "7334              1  \n",
       "3955              3  \n",
       "619               3  \n",
       "1594              1  \n",
       "5645              4  "
      ]
     },
     "execution_count": 14,
     "metadata": {},
     "output_type": "execute_result"
    }
   ],
   "source": [
    "val_data = trainer.val_data\n",
    "val_data.head()"
   ]
  },
  {
   "cell_type": "code",
   "execution_count": null,
   "metadata": {},
   "outputs": [],
   "source": []
  },
  {
   "cell_type": "code",
   "execution_count": 15,
   "metadata": {},
   "outputs": [
    {
     "name": "stderr",
     "output_type": "stream",
     "text": [
      "/var/folders/gk/b497571d49ndglvgyk5sb53h0000gn/T/ipykernel_37333/1695572929.py:1: SettingWithCopyWarning: \n",
      "A value is trying to be set on a copy of a slice from a DataFrame.\n",
      "Try using .loc[row_indexer,col_indexer] = value instead\n",
      "\n",
      "See the caveats in the documentation: https://pandas.pydata.org/pandas-docs/stable/user_guide/indexing.html#returning-a-view-versus-a-copy\n",
      "  val_data['predicted'] = all_predictions\n"
     ]
    },
    {
     "data": {
      "text/html": [
       "<div>\n",
       "<style scoped>\n",
       "    .dataframe tbody tr th:only-of-type {\n",
       "        vertical-align: middle;\n",
       "    }\n",
       "\n",
       "    .dataframe tbody tr th {\n",
       "        vertical-align: top;\n",
       "    }\n",
       "\n",
       "    .dataframe thead th {\n",
       "        text-align: right;\n",
       "    }\n",
       "</style>\n",
       "<table border=\"1\" class=\"dataframe\">\n",
       "  <thead>\n",
       "    <tr style=\"text-align: right;\">\n",
       "      <th></th>\n",
       "      <th>id</th>\n",
       "      <th>shapeset</th>\n",
       "      <th>type</th>\n",
       "      <th>total_height</th>\n",
       "      <th>instability_type</th>\n",
       "      <th>cam_angle</th>\n",
       "      <th>stable_height</th>\n",
       "      <th>predicted</th>\n",
       "    </tr>\n",
       "  </thead>\n",
       "  <tbody>\n",
       "    <tr>\n",
       "      <th>7334</th>\n",
       "      <td>956915</td>\n",
       "      <td>2</td>\n",
       "      <td>2</td>\n",
       "      <td>4</td>\n",
       "      <td>2</td>\n",
       "      <td>1</td>\n",
       "      <td>1</td>\n",
       "      <td>2</td>\n",
       "    </tr>\n",
       "    <tr>\n",
       "      <th>3955</th>\n",
       "      <td>516709</td>\n",
       "      <td>1</td>\n",
       "      <td>2</td>\n",
       "      <td>5</td>\n",
       "      <td>1</td>\n",
       "      <td>1</td>\n",
       "      <td>3</td>\n",
       "      <td>1</td>\n",
       "    </tr>\n",
       "    <tr>\n",
       "      <th>619</th>\n",
       "      <td>77447</td>\n",
       "      <td>1</td>\n",
       "      <td>2</td>\n",
       "      <td>5</td>\n",
       "      <td>1</td>\n",
       "      <td>1</td>\n",
       "      <td>3</td>\n",
       "      <td>1</td>\n",
       "    </tr>\n",
       "    <tr>\n",
       "      <th>1594</th>\n",
       "      <td>212770</td>\n",
       "      <td>2</td>\n",
       "      <td>2</td>\n",
       "      <td>4</td>\n",
       "      <td>2</td>\n",
       "      <td>1</td>\n",
       "      <td>1</td>\n",
       "      <td>2</td>\n",
       "    </tr>\n",
       "    <tr>\n",
       "      <th>5645</th>\n",
       "      <td>745098</td>\n",
       "      <td>2</td>\n",
       "      <td>2</td>\n",
       "      <td>6</td>\n",
       "      <td>1</td>\n",
       "      <td>1</td>\n",
       "      <td>4</td>\n",
       "      <td>1</td>\n",
       "    </tr>\n",
       "  </tbody>\n",
       "</table>\n",
       "</div>"
      ],
      "text/plain": [
       "          id  shapeset  type  total_height  instability_type  cam_angle  \\\n",
       "7334  956915         2     2             4                 2          1   \n",
       "3955  516709         1     2             5                 1          1   \n",
       "619    77447         1     2             5                 1          1   \n",
       "1594  212770         2     2             4                 2          1   \n",
       "5645  745098         2     2             6                 1          1   \n",
       "\n",
       "      stable_height  predicted  \n",
       "7334              1          2  \n",
       "3955              3          1  \n",
       "619               3          1  \n",
       "1594              1          2  \n",
       "5645              4          1  "
      ]
     },
     "execution_count": 15,
     "metadata": {},
     "output_type": "execute_result"
    }
   ],
   "source": [
    "val_data['predicted'] = all_predictions\n",
    "val_data.head()"
   ]
  },
  {
   "cell_type": "code",
   "execution_count": 16,
   "metadata": {},
   "outputs": [
    {
     "name": "stderr",
     "output_type": "stream",
     "text": [
      "/var/folders/gk/b497571d49ndglvgyk5sb53h0000gn/T/ipykernel_37333/3086623943.py:1: SettingWithCopyWarning: \n",
      "A value is trying to be set on a copy of a slice from a DataFrame.\n",
      "Try using .loc[row_indexer,col_indexer] = value instead\n",
      "\n",
      "See the caveats in the documentation: https://pandas.pydata.org/pandas-docs/stable/user_guide/indexing.html#returning-a-view-versus-a-copy\n",
      "  val_data['pred_type'] = val_data['predicted'] == val_data['instability_type']\n"
     ]
    },
    {
     "data": {
      "text/html": [
       "<div>\n",
       "<style scoped>\n",
       "    .dataframe tbody tr th:only-of-type {\n",
       "        vertical-align: middle;\n",
       "    }\n",
       "\n",
       "    .dataframe tbody tr th {\n",
       "        vertical-align: top;\n",
       "    }\n",
       "\n",
       "    .dataframe thead th {\n",
       "        text-align: right;\n",
       "    }\n",
       "</style>\n",
       "<table border=\"1\" class=\"dataframe\">\n",
       "  <thead>\n",
       "    <tr style=\"text-align: right;\">\n",
       "      <th></th>\n",
       "      <th>id</th>\n",
       "      <th>shapeset</th>\n",
       "      <th>type</th>\n",
       "      <th>total_height</th>\n",
       "      <th>instability_type</th>\n",
       "      <th>cam_angle</th>\n",
       "      <th>stable_height</th>\n",
       "      <th>predicted</th>\n",
       "      <th>pred_type</th>\n",
       "    </tr>\n",
       "  </thead>\n",
       "  <tbody>\n",
       "    <tr>\n",
       "      <th>7334</th>\n",
       "      <td>956915</td>\n",
       "      <td>2</td>\n",
       "      <td>2</td>\n",
       "      <td>4</td>\n",
       "      <td>2</td>\n",
       "      <td>1</td>\n",
       "      <td>1</td>\n",
       "      <td>2</td>\n",
       "      <td>True</td>\n",
       "    </tr>\n",
       "    <tr>\n",
       "      <th>3955</th>\n",
       "      <td>516709</td>\n",
       "      <td>1</td>\n",
       "      <td>2</td>\n",
       "      <td>5</td>\n",
       "      <td>1</td>\n",
       "      <td>1</td>\n",
       "      <td>3</td>\n",
       "      <td>1</td>\n",
       "      <td>True</td>\n",
       "    </tr>\n",
       "    <tr>\n",
       "      <th>619</th>\n",
       "      <td>77447</td>\n",
       "      <td>1</td>\n",
       "      <td>2</td>\n",
       "      <td>5</td>\n",
       "      <td>1</td>\n",
       "      <td>1</td>\n",
       "      <td>3</td>\n",
       "      <td>1</td>\n",
       "      <td>True</td>\n",
       "    </tr>\n",
       "    <tr>\n",
       "      <th>1594</th>\n",
       "      <td>212770</td>\n",
       "      <td>2</td>\n",
       "      <td>2</td>\n",
       "      <td>4</td>\n",
       "      <td>2</td>\n",
       "      <td>1</td>\n",
       "      <td>1</td>\n",
       "      <td>2</td>\n",
       "      <td>True</td>\n",
       "    </tr>\n",
       "    <tr>\n",
       "      <th>5645</th>\n",
       "      <td>745098</td>\n",
       "      <td>2</td>\n",
       "      <td>2</td>\n",
       "      <td>6</td>\n",
       "      <td>1</td>\n",
       "      <td>1</td>\n",
       "      <td>4</td>\n",
       "      <td>1</td>\n",
       "      <td>True</td>\n",
       "    </tr>\n",
       "  </tbody>\n",
       "</table>\n",
       "</div>"
      ],
      "text/plain": [
       "          id  shapeset  type  total_height  instability_type  cam_angle  \\\n",
       "7334  956915         2     2             4                 2          1   \n",
       "3955  516709         1     2             5                 1          1   \n",
       "619    77447         1     2             5                 1          1   \n",
       "1594  212770         2     2             4                 2          1   \n",
       "5645  745098         2     2             6                 1          1   \n",
       "\n",
       "      stable_height  predicted  pred_type  \n",
       "7334              1          2       True  \n",
       "3955              3          1       True  \n",
       "619               3          1       True  \n",
       "1594              1          2       True  \n",
       "5645              4          1       True  "
      ]
     },
     "execution_count": 16,
     "metadata": {},
     "output_type": "execute_result"
    }
   ],
   "source": [
    "val_data['pred_type'] = val_data['predicted'] == val_data['instability_type']\n",
    "val_data.head()"
   ]
  },
  {
   "cell_type": "code",
   "execution_count": 18,
   "metadata": {},
   "outputs": [
    {
     "data": {
      "text/plain": [
       "0.7805989583333334"
      ]
     },
     "execution_count": 18,
     "metadata": {},
     "output_type": "execute_result"
    }
   ],
   "source": [
    "len(val_data[val_data['predicted']== val_data['instability_type']])/len(valid_ids[0])"
   ]
  },
  {
   "cell_type": "code",
   "execution_count": 88,
   "metadata": {},
   "outputs": [
    {
     "data": {
      "text/plain": [
       "0.64453125"
      ]
     },
     "execution_count": 88,
     "metadata": {},
     "output_type": "execute_result"
    }
   ],
   "source": [
    "val_data['pred_type'].sum()/len(val_data)"
   ]
  },
  {
   "cell_type": "code",
   "execution_count": 91,
   "metadata": {},
   "outputs": [
    {
     "data": {
      "text/plain": [
       "instability_type\n",
       "0    369\n",
       "1    777\n",
       "2    390\n",
       "Name: pred_type, dtype: int64"
      ]
     },
     "execution_count": 91,
     "metadata": {},
     "output_type": "execute_result"
    }
   ],
   "source": [
    "val_data.groupby('instability_type').pred_type.count()"
   ]
  },
  {
   "cell_type": "code",
   "execution_count": 22,
   "metadata": {},
   "outputs": [
    {
     "data": {
      "text/plain": [
       "shapeset\n",
       "1    0.812734\n",
       "2    0.763473\n",
       "Name: pred_type, dtype: float64"
      ]
     },
     "execution_count": 22,
     "metadata": {},
     "output_type": "execute_result"
    }
   ],
   "source": [
    "val_data.groupby('shapeset').pred_type.sum()/val_data.groupby('shapeset').pred_type.count()"
   ]
  },
  {
   "cell_type": "code",
   "execution_count": 21,
   "metadata": {},
   "outputs": [
    {
     "data": {
      "text/plain": [
       "type\n",
       "1    0.821756\n",
       "2    0.739974\n",
       "Name: pred_type, dtype: float64"
      ]
     },
     "execution_count": 21,
     "metadata": {},
     "output_type": "execute_result"
    }
   ],
   "source": [
    "val_data.groupby('type').pred_type.sum()/val_data.groupby('type').pred_type.count()"
   ]
  },
  {
   "cell_type": "code",
   "execution_count": 20,
   "metadata": {},
   "outputs": [
    {
     "data": {
      "text/plain": [
       "instability_type\n",
       "0    0.411924\n",
       "1    0.879022\n",
       "2    0.933333\n",
       "Name: pred_type, dtype: float64"
      ]
     },
     "execution_count": 20,
     "metadata": {},
     "output_type": "execute_result"
    }
   ],
   "source": [
    "val_data.groupby('instability_type').pred_type.sum()/val_data.groupby('instability_type').pred_type.count()"
   ]
  },
  {
   "cell_type": "code",
   "execution_count": 23,
   "metadata": {},
   "outputs": [
    {
     "data": {
      "text/plain": [
       "cam_angle\n",
       "1    0.802426\n",
       "2    0.714660\n",
       "Name: pred_type, dtype: float64"
      ]
     },
     "execution_count": 23,
     "metadata": {},
     "output_type": "execute_result"
    }
   ],
   "source": [
    "val_data.groupby('cam_angle').pred_type.sum()/val_data.groupby('cam_angle').pred_type.count()"
   ]
  },
  {
   "cell_type": "code",
   "execution_count": 3,
   "metadata": {},
   "outputs": [
    {
     "data": {
      "text/html": [
       "<div>\n",
       "<style scoped>\n",
       "    .dataframe tbody tr th:only-of-type {\n",
       "        vertical-align: middle;\n",
       "    }\n",
       "\n",
       "    .dataframe tbody tr th {\n",
       "        vertical-align: top;\n",
       "    }\n",
       "\n",
       "    .dataframe thead th {\n",
       "        text-align: right;\n",
       "    }\n",
       "</style>\n",
       "<table border=\"1\" class=\"dataframe\">\n",
       "  <thead>\n",
       "    <tr style=\"text-align: right;\">\n",
       "      <th></th>\n",
       "      <th>id</th>\n",
       "      <th>shapeset</th>\n",
       "      <th>type</th>\n",
       "      <th>total_height</th>\n",
       "      <th>instability_type</th>\n",
       "      <th>cam_angle</th>\n",
       "      <th>stable_height</th>\n",
       "    </tr>\n",
       "  </thead>\n",
       "  <tbody>\n",
       "    <tr>\n",
       "      <th>0</th>\n",
       "      <td>54</td>\n",
       "      <td>2</td>\n",
       "      <td>1</td>\n",
       "      <td>3</td>\n",
       "      <td>1</td>\n",
       "      <td>1</td>\n",
       "      <td>2</td>\n",
       "    </tr>\n",
       "    <tr>\n",
       "      <th>1</th>\n",
       "      <td>173</td>\n",
       "      <td>1</td>\n",
       "      <td>1</td>\n",
       "      <td>4</td>\n",
       "      <td>1</td>\n",
       "      <td>2</td>\n",
       "      <td>1</td>\n",
       "    </tr>\n",
       "    <tr>\n",
       "      <th>2</th>\n",
       "      <td>245</td>\n",
       "      <td>1</td>\n",
       "      <td>1</td>\n",
       "      <td>4</td>\n",
       "      <td>1</td>\n",
       "      <td>2</td>\n",
       "      <td>1</td>\n",
       "    </tr>\n",
       "    <tr>\n",
       "      <th>3</th>\n",
       "      <td>465</td>\n",
       "      <td>2</td>\n",
       "      <td>1</td>\n",
       "      <td>5</td>\n",
       "      <td>0</td>\n",
       "      <td>1</td>\n",
       "      <td>5</td>\n",
       "    </tr>\n",
       "    <tr>\n",
       "      <th>4</th>\n",
       "      <td>611</td>\n",
       "      <td>2</td>\n",
       "      <td>1</td>\n",
       "      <td>3</td>\n",
       "      <td>1</td>\n",
       "      <td>1</td>\n",
       "      <td>1</td>\n",
       "    </tr>\n",
       "  </tbody>\n",
       "</table>\n",
       "</div>"
      ],
      "text/plain": [
       "    id  shapeset  type  total_height  instability_type  cam_angle  \\\n",
       "0   54         2     1             3                 1          1   \n",
       "1  173         1     1             4                 1          2   \n",
       "2  245         1     1             4                 1          2   \n",
       "3  465         2     1             5                 0          1   \n",
       "4  611         2     1             3                 1          1   \n",
       "\n",
       "   stable_height  \n",
       "0              2  \n",
       "1              1  \n",
       "2              1  \n",
       "3              5  \n",
       "4              1  "
      ]
     },
     "execution_count": 3,
     "metadata": {},
     "output_type": "execute_result"
    }
   ],
   "source": [
    "import pandas as pd\n",
    "df = pd.read_csv('./COMP90086_2024_Project_train/train.csv')\n",
    "df.head()"
   ]
  },
  {
   "cell_type": "code",
   "execution_count": 6,
   "metadata": {},
   "outputs": [
    {
     "data": {
      "text/html": [
       "<div>\n",
       "<style scoped>\n",
       "    .dataframe tbody tr th:only-of-type {\n",
       "        vertical-align: middle;\n",
       "    }\n",
       "\n",
       "    .dataframe tbody tr th {\n",
       "        vertical-align: top;\n",
       "    }\n",
       "\n",
       "    .dataframe thead th {\n",
       "        text-align: right;\n",
       "    }\n",
       "</style>\n",
       "<table border=\"1\" class=\"dataframe\">\n",
       "  <thead>\n",
       "    <tr style=\"text-align: right;\">\n",
       "      <th></th>\n",
       "      <th>id</th>\n",
       "      <th>shapeset</th>\n",
       "      <th>type</th>\n",
       "      <th>total_height</th>\n",
       "      <th>cam_angle</th>\n",
       "      <th>stable_height</th>\n",
       "    </tr>\n",
       "    <tr>\n",
       "      <th>instability_type</th>\n",
       "      <th></th>\n",
       "      <th></th>\n",
       "      <th></th>\n",
       "      <th></th>\n",
       "      <th></th>\n",
       "      <th></th>\n",
       "    </tr>\n",
       "  </thead>\n",
       "  <tbody>\n",
       "    <tr>\n",
       "      <th>0</th>\n",
       "      <td>1920</td>\n",
       "      <td>1920</td>\n",
       "      <td>1920</td>\n",
       "      <td>1920</td>\n",
       "      <td>1920</td>\n",
       "      <td>1920</td>\n",
       "    </tr>\n",
       "    <tr>\n",
       "      <th>1</th>\n",
       "      <td>3840</td>\n",
       "      <td>3840</td>\n",
       "      <td>3840</td>\n",
       "      <td>3840</td>\n",
       "      <td>3840</td>\n",
       "      <td>3840</td>\n",
       "    </tr>\n",
       "    <tr>\n",
       "      <th>2</th>\n",
       "      <td>1920</td>\n",
       "      <td>1920</td>\n",
       "      <td>1920</td>\n",
       "      <td>1920</td>\n",
       "      <td>1920</td>\n",
       "      <td>1920</td>\n",
       "    </tr>\n",
       "  </tbody>\n",
       "</table>\n",
       "</div>"
      ],
      "text/plain": [
       "                    id  shapeset  type  total_height  cam_angle  stable_height\n",
       "instability_type                                                              \n",
       "0                 1920      1920  1920          1920       1920           1920\n",
       "1                 3840      3840  3840          3840       3840           3840\n",
       "2                 1920      1920  1920          1920       1920           1920"
      ]
     },
     "execution_count": 6,
     "metadata": {},
     "output_type": "execute_result"
    }
   ],
   "source": [
    "df.groupby('instability_type').count()"
   ]
  },
  {
   "cell_type": "code",
   "execution_count": 10,
   "metadata": {},
   "outputs": [
    {
     "name": "stderr",
     "output_type": "stream",
     "text": [
      "/var/folders/gk/b497571d49ndglvgyk5sb53h0000gn/T/ipykernel_67928/1284981419.py:1: FutureWarning: You are using `torch.load` with `weights_only=False` (the current default value), which uses the default pickle module implicitly. It is possible to construct malicious pickle data which will execute arbitrary code during unpickling (See https://github.com/pytorch/pytorch/blob/main/SECURITY.md#untrusted-models for more details). In a future release, the default value for `weights_only` will be flipped to `True`. This limits the functions that could be executed during unpickling. Arbitrary objects will no longer be allowed to be loaded via this mode unless they are explicitly allowlisted by the user via `torch.serialization.add_safe_globals`. We recommend you start setting `weights_only=True` for any use case where you don't have full control of the loaded file. Please open an issue on GitHub for any issues related to this experimental feature.\n",
      "  best_model = torch.load('./runs/experiment_20241012-010838/best_model.pth')\n"
     ]
    }
   ],
   "source": [
    "best_model = torch.load('./runs/experiment_20241012-010838/best_model.pth')"
   ]
  },
  {
   "cell_type": "code",
   "execution_count": 15,
   "metadata": {},
   "outputs": [
    {
     "name": "stderr",
     "output_type": "stream",
     "text": [
      "/var/folders/gk/b497571d49ndglvgyk5sb53h0000gn/T/ipykernel_67928/1886415100.py:1: FutureWarning: You are using `torch.load` with `weights_only=False` (the current default value), which uses the default pickle module implicitly. It is possible to construct malicious pickle data which will execute arbitrary code during unpickling (See https://github.com/pytorch/pytorch/blob/main/SECURITY.md#untrusted-models for more details). In a future release, the default value for `weights_only` will be flipped to `True`. This limits the functions that could be executed during unpickling. Arbitrary objects will no longer be allowed to be loaded via this mode unless they are explicitly allowlisted by the user via `torch.serialization.add_safe_globals`. We recommend you start setting `weights_only=True` for any use case where you don't have full control of the loaded file. Please open an issue on GitHub for any issues related to this experimental feature.\n",
      "  best_model = torch.load('./runs/experiment_20241012-010838/best_model.pth',map_location=torch.device('cpu'))\n"
     ]
    },
    {
     "ename": "AttributeError",
     "evalue": "'collections.OrderedDict' object has no attribute 'eval'",
     "output_type": "error",
     "traceback": [
      "\u001b[0;31m---------------------------------------------------------------------------\u001b[0m",
      "\u001b[0;31mAttributeError\u001b[0m                            Traceback (most recent call last)",
      "Cell \u001b[0;32mIn[15], line 2\u001b[0m\n\u001b[1;32m      1\u001b[0m best_model \u001b[38;5;241m=\u001b[39m torch\u001b[38;5;241m.\u001b[39mload(\u001b[38;5;124m'\u001b[39m\u001b[38;5;124m./runs/experiment_20241012-010838/best_model.pth\u001b[39m\u001b[38;5;124m'\u001b[39m,map_location\u001b[38;5;241m=\u001b[39mtorch\u001b[38;5;241m.\u001b[39mdevice(\u001b[38;5;124m'\u001b[39m\u001b[38;5;124mcpu\u001b[39m\u001b[38;5;124m'\u001b[39m))\n\u001b[0;32m----> 2\u001b[0m best_model\u001b[38;5;241m.\u001b[39meval()\n",
      "\u001b[0;31mAttributeError\u001b[0m: 'collections.OrderedDict' object has no attribute 'eval'"
     ]
    }
   ],
   "source": [
    "best_model = torch.load('./runs/experiment_20241012-010838/best_model.pth',map_location=torch.device('cpu'))\n",
    "best_model.eval()"
   ]
  },
  {
   "cell_type": "markdown",
   "metadata": {},
   "source": [
    "# Load Model"
   ]
  },
  {
   "cell_type": "markdown",
   "metadata": {},
   "source": [
    "Test Model\n",
    "\n",
    "Net8, epoch = 8, no batch_size defined"
   ]
  },
  {
   "cell_type": "code",
   "execution_count": 13,
   "metadata": {
    "colab": {
     "base_uri": "https://localhost:8080/"
    },
    "collapsed": true,
    "id": "q39AMlmH_3fn",
    "jupyter": {
     "outputs_hidden": true
    },
    "outputId": "f009ffad-9b8d-4a78-eaa4-cb942caa4ba2"
   },
   "outputs": [
    {
     "name": "stderr",
     "output_type": "stream",
     "text": [
      "Downloading: \"https://download.pytorch.org/models/googlenet-1378be20.pth\" to /Users/macbookpro/.cache/torch/hub/checkpoints/googlenet-1378be20.pth\n",
      "100%|██████████| 49.7M/49.7M [00:03<00:00, 14.0MB/s]\n"
     ]
    },
    {
     "name": "stdout",
     "output_type": "stream",
     "text": [
      "Train dataset size: 6144 Validation dataset size: 1536\n"
     ]
    },
    {
     "name": "stderr",
     "output_type": "stream",
     "text": [
      "Epoch 1/8: 100%|██████████| 192/192 [06:38<00:00,  2.07s/batch, accuracy=0.274, loss=1.58]   \n"
     ]
    },
    {
     "name": "stdout",
     "output_type": "stream",
     "text": [
      "[0.001]\n",
      "              precision    recall  f1-score   support\n",
      "\n",
      "           0       0.49      0.42      0.45       384\n",
      "           1       0.38      0.45      0.41       384\n",
      "           2       0.30      0.62      0.41       307\n",
      "           3       0.25      0.06      0.09       230\n",
      "           4       0.26      0.12      0.16       154\n",
      "           5       0.00      0.00      0.00        77\n",
      "\n",
      "    accuracy                           0.36      1536\n",
      "   macro avg       0.28      0.28      0.25      1536\n",
      "weighted avg       0.34      0.36      0.33      1536\n",
      "\n",
      "[[161 134  78   4   7   0]\n",
      " [ 70 172 132   4   6   0]\n",
      " [ 26  71 191  12   7   0]\n",
      " [ 28  47 124  13  18   0]\n",
      " [ 32  12  76  16  18   0]\n",
      " [ 13  11  35   4  14   0]]\n",
      "Epoch 1/8, Validation Loss: 1.5266, Validation Accuracy: 0.3613\n",
      "Best model saved!\n"
     ]
    },
    {
     "name": "stderr",
     "output_type": "stream",
     "text": [
      "Epoch 2/8: 100%|██████████| 192/192 [06:44<00:00,  2.11s/batch, accuracy=0.363, loss=1.45]   \n"
     ]
    },
    {
     "name": "stdout",
     "output_type": "stream",
     "text": [
      "[0.001]\n",
      "              precision    recall  f1-score   support\n",
      "\n",
      "           0       0.43      0.63      0.51       384\n",
      "           1       0.81      0.17      0.28       384\n",
      "           2       0.42      0.39      0.40       307\n",
      "           3       0.33      0.28      0.30       230\n",
      "           4       0.22      0.57      0.31       154\n",
      "           5       0.00      0.00      0.00        77\n",
      "\n",
      "    accuracy                           0.38      1536\n",
      "   macro avg       0.37      0.34      0.30      1536\n",
      "weighted avg       0.46      0.38      0.35      1536\n",
      "\n",
      "[[242  10  35  32  65   0]\n",
      " [145  64  79  29  67   0]\n",
      " [ 91   5 119  35  57   0]\n",
      " [ 53   0  44  65  68   0]\n",
      " [ 28   0   5  33  88   0]\n",
      " [  6   0   3   5  63   0]]\n",
      "Epoch 2/8, Validation Loss: 1.4068, Validation Accuracy: 0.3763\n",
      "Best model saved!\n"
     ]
    },
    {
     "name": "stderr",
     "output_type": "stream",
     "text": [
      "Epoch 3/8: 100%|██████████| 192/192 [06:37<00:00,  2.07s/batch, accuracy=0.417, loss=1.38]   \n"
     ]
    },
    {
     "name": "stdout",
     "output_type": "stream",
     "text": [
      "[0.001]\n",
      "              precision    recall  f1-score   support\n",
      "\n",
      "           0       0.66      0.39      0.49       384\n",
      "           1       0.60      0.41      0.49       384\n",
      "           2       0.41      0.61      0.49       307\n",
      "           3       0.38      0.45      0.41       230\n",
      "           4       0.29      0.56      0.38       154\n",
      "           5       0.29      0.03      0.05        77\n",
      "\n",
      "    accuracy                           0.45      1536\n",
      "   macro avg       0.44      0.41      0.38      1536\n",
      "weighted avg       0.50      0.45      0.44      1536\n",
      "\n",
      "[[151  64  77  48  44   0]\n",
      " [ 36 157 112  37  40   2]\n",
      " [ 12  22 188  50  34   1]\n",
      " [ 11   7  59 104  48   1]\n",
      " [ 11   6  19  30  87   1]\n",
      " [  9   4   5   7  50   2]]\n",
      "Epoch 3/8, Validation Loss: 1.3109, Validation Accuracy: 0.4486\n",
      "Best model saved!\n"
     ]
    },
    {
     "name": "stderr",
     "output_type": "stream",
     "text": [
      "Epoch 4/8: 100%|██████████| 192/192 [06:59<00:00,  2.18s/batch, accuracy=0.437, loss=1.33]   \n"
     ]
    },
    {
     "name": "stdout",
     "output_type": "stream",
     "text": [
      "[0.001]\n",
      "              precision    recall  f1-score   support\n",
      "\n",
      "           0       0.45      0.67      0.54       384\n",
      "           1       0.51      0.55      0.53       384\n",
      "           2       0.57      0.38      0.45       307\n",
      "           3       0.48      0.34      0.40       230\n",
      "           4       0.31      0.35      0.33       154\n",
      "           5       0.00      0.00      0.00        77\n",
      "\n",
      "    accuracy                           0.47      1536\n",
      "   macro avg       0.39      0.38      0.38      1536\n",
      "weighted avg       0.46      0.47      0.45      1536\n",
      "\n",
      "[[259  80  19  14  11   1]\n",
      " [103 213  39  10  18   1]\n",
      " [ 67  65 116  35  23   1]\n",
      " [ 72  20  28  78  32   0]\n",
      " [ 52  23   2  23  54   0]\n",
      " [ 24  14   1   4  34   0]]\n",
      "Epoch 4/8, Validation Loss: 1.2569, Validation Accuracy: 0.4688\n",
      "Best model saved!\n"
     ]
    },
    {
     "name": "stderr",
     "output_type": "stream",
     "text": [
      "Epoch 5/8: 100%|██████████| 192/192 [06:57<00:00,  2.17s/batch, accuracy=0.461, loss=1.3]    \n"
     ]
    },
    {
     "name": "stdout",
     "output_type": "stream",
     "text": [
      "[0.001]\n",
      "              precision    recall  f1-score   support\n",
      "\n",
      "           0       0.52      0.74      0.61       384\n",
      "           1       0.68      0.37      0.48       384\n",
      "           2       0.46      0.52      0.49       307\n",
      "           3       0.45      0.45      0.45       230\n",
      "           4       0.32      0.45      0.38       154\n",
      "           5       0.00      0.00      0.00        77\n",
      "\n",
      "    accuracy                           0.49      1536\n",
      "   macro avg       0.41      0.42      0.40      1536\n",
      "weighted avg       0.50      0.49      0.48      1536\n",
      "\n",
      "[[283  34  36  12  19   0]\n",
      " [ 97 143  91  24  29   0]\n",
      " [ 69  12 159  43  24   0]\n",
      " [ 46   6  37 103  38   0]\n",
      " [ 30   5  13  36  70   0]\n",
      " [ 16   9   6   9  37   0]]\n",
      "Epoch 5/8, Validation Loss: 1.2357, Validation Accuracy: 0.4935\n",
      "Best model saved!\n"
     ]
    },
    {
     "name": "stderr",
     "output_type": "stream",
     "text": [
      "Epoch 6/8: 100%|██████████| 192/192 [06:43<00:00,  2.10s/batch, accuracy=0.487, loss=1.26]   \n"
     ]
    },
    {
     "name": "stdout",
     "output_type": "stream",
     "text": [
      "[0.001]\n",
      "              precision    recall  f1-score   support\n",
      "\n",
      "           0       0.77      0.38      0.51       384\n",
      "           1       0.69      0.51      0.58       384\n",
      "           2       0.53      0.53      0.53       307\n",
      "           3       0.42      0.47      0.44       230\n",
      "           4       0.25      0.69      0.37       154\n",
      "           5       0.12      0.12      0.12        77\n",
      "\n",
      "    accuracy                           0.47      1536\n",
      "   macro avg       0.46      0.45      0.43      1536\n",
      "weighted avg       0.56      0.47      0.49      1536\n",
      "\n",
      "[[147  52  53  45  80   7]\n",
      " [ 23 194  65  32  46  24]\n",
      " [  6  17 162  56  51  15]\n",
      " [  9   5  19 109  84   4]\n",
      " [  6   6   6  17 106  13]\n",
      " [  1   8   0   1  58   9]]\n",
      "Epoch 6/8, Validation Loss: 1.3388, Validation Accuracy: 0.4733\n"
     ]
    },
    {
     "name": "stderr",
     "output_type": "stream",
     "text": [
      "Epoch 7/8: 100%|██████████| 192/192 [06:46<00:00,  2.12s/batch, accuracy=0.49, loss=1.22]    \n"
     ]
    },
    {
     "name": "stdout",
     "output_type": "stream",
     "text": [
      "[0.001]\n",
      "              precision    recall  f1-score   support\n",
      "\n",
      "           0       0.44      0.70      0.54       384\n",
      "           1       0.51      0.58      0.54       384\n",
      "           2       0.48      0.23      0.31       307\n",
      "           3       0.42      0.33      0.37       230\n",
      "           4       0.40      0.38      0.39       154\n",
      "           5       0.31      0.05      0.09        77\n",
      "\n",
      "    accuracy                           0.46      1536\n",
      "   macro avg       0.43      0.38      0.37      1536\n",
      "weighted avg       0.45      0.46      0.43      1536\n",
      "\n",
      "[[268  78  14  18   6   0]\n",
      " [103 222  22  20  15   2]\n",
      " [ 72 101  71  47  14   2]\n",
      " [ 66  20  33  76  35   0]\n",
      " [ 63   7   5  15  59   5]\n",
      " [ 38   9   4   3  19   4]]\n",
      "Epoch 7/8, Validation Loss: 1.3688, Validation Accuracy: 0.4557\n"
     ]
    },
    {
     "name": "stderr",
     "output_type": "stream",
     "text": [
      "Epoch 8/8: 100%|██████████| 192/192 [06:54<00:00,  2.16s/batch, accuracy=0.515, loss=1.2]    \n"
     ]
    },
    {
     "name": "stdout",
     "output_type": "stream",
     "text": [
      "[0.001]\n",
      "              precision    recall  f1-score   support\n",
      "\n",
      "           0       0.64      0.58      0.61       384\n",
      "           1       0.60      0.60      0.60       384\n",
      "           2       0.48      0.57      0.52       307\n",
      "           3       0.47      0.50      0.49       230\n",
      "           4       0.36      0.36      0.36       154\n",
      "           5       0.26      0.13      0.17        77\n",
      "\n",
      "    accuracy                           0.53      1536\n",
      "   macro avg       0.47      0.46      0.46      1536\n",
      "weighted avg       0.52      0.53      0.52      1536\n",
      "\n",
      "[[223  80  40  29  10   2]\n",
      " [ 47 231  71  18  14   3]\n",
      " [ 21  49 174  41  20   2]\n",
      " [ 24   8  48 116  28   6]\n",
      " [ 23   7  17  36  55  16]\n",
      " [ 12  10  13   7  25  10]]\n",
      "Epoch 8/8, Validation Loss: 1.1596, Validation Accuracy: 0.5267\n",
      "Best model saved!\n",
      "Finished Training\n",
      "Best validation accuracy: 0.5267\n"
     ]
    }
   ],
   "source": [
    "if __name__ == \"__main__\":\n",
    "    model = TunnedBlockStackNet8()\n",
    "    trainer = ClassificationBlockStackTrainer1(\n",
    "        # csv_file = '/content/drive/MyDrive/CV final project/train data/train.csv', ##\n",
    "        # img_dir='/content/drive/MyDrive/CV final project/train data/train', ##\n",
    "        csv_file = './COMP90086_2024_Project_train/train.csv', ##\n",
    "        img_dir='./COMP90086_2024_Project_train/train', ##\n",
    "        model=model,\n",
    "        test_size=0.2, # used to control the size of data in split_dataset(self)\n",
    "        num_epochs=8,\n",
    "        #batch_size=32\n",
    "        )\n",
    "    trainer.train()"
   ]
  }
 ],
 "metadata": {
  "accelerator": "GPU",
  "colab": {
   "gpuType": "A100",
   "machine_shape": "hm",
   "provenance": []
  },
  "kernelspec": {
   "display_name": "Python 3 (ipykernel)",
   "language": "python",
   "name": "python3"
  },
  "language_info": {
   "codemirror_mode": {
    "name": "ipython",
    "version": 3
   },
   "file_extension": ".py",
   "mimetype": "text/x-python",
   "name": "python",
   "nbconvert_exporter": "python",
   "pygments_lexer": "ipython3",
   "version": "3.12.3"
  }
 },
 "nbformat": 4,
 "nbformat_minor": 4
}
